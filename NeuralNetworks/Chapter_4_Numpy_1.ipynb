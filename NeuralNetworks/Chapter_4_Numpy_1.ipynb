{
  "nbformat": 4,
  "nbformat_minor": 0,
  "metadata": {
    "colab": {
      "name": "Chapter_4_Numpy_1.ipynb",
      "version": "0.3.2",
      "provenance": [],
      "collapsed_sections": []
    },
    "kernelspec": {
      "display_name": "Python 3",
      "language": "python",
      "name": "python3"
    }
  },
  "cells": [
    {
      "metadata": {
        "id": "aU1QAWr-ubdM",
        "colab_type": "text"
      },
      "cell_type": "markdown",
      "source": [
        "**Created by:**\n",
        "\n",
        "__[Gábor Tompa](https://github.com/Galdair)__ (code and text)\n",
        "<br>\n",
        "__[Zoltán Ádám Milacski](https://github.com/srph25)__ (text error fixing and code optimization)\n",
        "\n",
        "\n",
        "\n",
        "<br>\n",
        "\n",
        "**Edited by:**\n",
        "\n",
        "__[Zoltán Ádám Milacski](https://github.com/srph25)__\n",
        "\n",
        "<br>\n",
        "\n",
        "<img src=\"https://docs.google.com/uc?export=download&id=1WzgXsCoz8O-NeBlJTbuLPC1iIFDmgYt1\" style=\"display:inline-block\">\n",
        "<hr>"
      ]
    },
    {
      "metadata": {
        "id": "9fuNhX1XubdS",
        "colab_type": "text"
      },
      "cell_type": "markdown",
      "source": [
        "# Chapter 4: Numpy I.\n",
        "## What is Numpy\n",
        "* Python package for numerical computations\n",
        "* Comes with many high level methods (no need to implement these again)\n",
        "* The backend of these methods are actually implemented at low level (C or Fortran), hence they are order of magnitudes faster the standard Python lists\n",
        "* Highly tested, facilitates scientific computation\n",
        "\n",
        "##  Array Basics\n",
        "* Creating numpy arrays from existing lists or arrays\n",
        "* Multi-dimensional arrays are also available\n",
        "\n",
        "## Creating arrays and Basic Data types\n",
        "* You can create arrays, not by just copying, but by modifying individual elements\n",
        "* Common matrix types are available: identity, all-ones, all-zeros\n",
        "* Efficiency comes at the cost of the data type: data types are less flexible than in the case of the standard Python list.\n",
        "\n",
        "## Indexing and Slicing\n",
        "* Can be indexed just like a plain python list\n",
        "* Can be sliced similarly, see code\n",
        "* List comprehensions also work, but they are not encouraged, because they are slow\n",
        "\n",
        "## Views and Fancy indexing, Boolean masks\n",
        "* Views are:\n",
        "    * the default way what most numpy functions return\n",
        "    * NOT copies of the array (that must be forced)\n",
        "    * behaves somewhat like C++ pointers or Java references\n",
        "    * Important from the implementation and memory management perspective\n",
        "* Fancy indexing and boolean masks are a kind of operation, more on that later\n",
        "* Useful when it comes to looking for something in the array"
      ]
    },
    {
      "metadata": {
        "id": "DHyWmXliubdW",
        "colab_type": "text"
      },
      "cell_type": "markdown",
      "source": [
        "# Array Basics"
      ]
    },
    {
      "metadata": {
        "scrolled": false,
        "id": "6l2PztA9ubdc",
        "colab_type": "code",
        "outputId": "891e9f00-4ec4-42a2-c753-123c64602a38",
        "colab": {}
      },
      "cell_type": "code",
      "source": [
        "import numpy as np\n",
        "\n",
        "array_one = np.array([0, 1, 2, 3])\n",
        "print(array_one)\n",
        "\n",
        "lots_of_numbers = np.arange(500)\n",
        "print(lots_of_numbers)\n",
        "\n",
        "one_dim = np.array([0, 1, 2, 3])\n",
        "print(one_dim)\n",
        "\n",
        "print(one_dim.ndim, \"dimensions of an 1D array\")\n",
        "\n",
        "print(one_dim.shape, \"shape of an 1D array\")\n",
        "\n",
        "print(len(one_dim), \"length of the 1D array, the size of the first dimension\")\n",
        "\n",
        "two_dim = np.array([[0, 1, 2], [3, 4, 5]])\n",
        "\n",
        "print(two_dim)\n",
        "\n",
        "print(two_dim.ndim, \"dimensions of a 2D array\")\n",
        "\n",
        "print(two_dim.shape, \"shape of a 2D array\")\n",
        "\n",
        "print(len(two_dim), \"length of the 2D array, the size of the first dimension\")\n",
        "\n",
        "three_dim = np.array([[[1], [2]], [[3], [4]]])\n",
        "print(three_dim)\n",
        "\n",
        "print(three_dim.ndim, \"dimensions of a 3D array\")\n",
        "\n",
        "print(three_dim.shape, \"shape of a 3D array\")\n",
        "\n",
        "print(len(three_dim), \"length of the 3D array, the size of the first dimension\")"
      ],
      "execution_count": 0,
      "outputs": [
        {
          "output_type": "stream",
          "text": [
            "[0 1 2 3]\n",
            "[  0   1   2   3   4   5   6   7   8   9  10  11  12  13  14  15  16  17\n",
            "  18  19  20  21  22  23  24  25  26  27  28  29  30  31  32  33  34  35\n",
            "  36  37  38  39  40  41  42  43  44  45  46  47  48  49  50  51  52  53\n",
            "  54  55  56  57  58  59  60  61  62  63  64  65  66  67  68  69  70  71\n",
            "  72  73  74  75  76  77  78  79  80  81  82  83  84  85  86  87  88  89\n",
            "  90  91  92  93  94  95  96  97  98  99 100 101 102 103 104 105 106 107\n",
            " 108 109 110 111 112 113 114 115 116 117 118 119 120 121 122 123 124 125\n",
            " 126 127 128 129 130 131 132 133 134 135 136 137 138 139 140 141 142 143\n",
            " 144 145 146 147 148 149 150 151 152 153 154 155 156 157 158 159 160 161\n",
            " 162 163 164 165 166 167 168 169 170 171 172 173 174 175 176 177 178 179\n",
            " 180 181 182 183 184 185 186 187 188 189 190 191 192 193 194 195 196 197\n",
            " 198 199 200 201 202 203 204 205 206 207 208 209 210 211 212 213 214 215\n",
            " 216 217 218 219 220 221 222 223 224 225 226 227 228 229 230 231 232 233\n",
            " 234 235 236 237 238 239 240 241 242 243 244 245 246 247 248 249 250 251\n",
            " 252 253 254 255 256 257 258 259 260 261 262 263 264 265 266 267 268 269\n",
            " 270 271 272 273 274 275 276 277 278 279 280 281 282 283 284 285 286 287\n",
            " 288 289 290 291 292 293 294 295 296 297 298 299 300 301 302 303 304 305\n",
            " 306 307 308 309 310 311 312 313 314 315 316 317 318 319 320 321 322 323\n",
            " 324 325 326 327 328 329 330 331 332 333 334 335 336 337 338 339 340 341\n",
            " 342 343 344 345 346 347 348 349 350 351 352 353 354 355 356 357 358 359\n",
            " 360 361 362 363 364 365 366 367 368 369 370 371 372 373 374 375 376 377\n",
            " 378 379 380 381 382 383 384 385 386 387 388 389 390 391 392 393 394 395\n",
            " 396 397 398 399 400 401 402 403 404 405 406 407 408 409 410 411 412 413\n",
            " 414 415 416 417 418 419 420 421 422 423 424 425 426 427 428 429 430 431\n",
            " 432 433 434 435 436 437 438 439 440 441 442 443 444 445 446 447 448 449\n",
            " 450 451 452 453 454 455 456 457 458 459 460 461 462 463 464 465 466 467\n",
            " 468 469 470 471 472 473 474 475 476 477 478 479 480 481 482 483 484 485\n",
            " 486 487 488 489 490 491 492 493 494 495 496 497 498 499]\n",
            "[0 1 2 3]\n",
            "1 dimensions of a one dim array\n",
            "(4,) shape of a one dim arrray\n",
            "4 length of the array which returns the size of the first dimension\n",
            "[[0 1 2]\n",
            " [3 4 5]]\n",
            "2 dimensions of a two array\n",
            "(2, 3) shape of a two dim arrray\n",
            "2 length of the array which returns the size of the first dimension\n",
            "[[[1]\n",
            "  [2]]\n",
            "\n",
            " [[3]\n",
            "  [4]]]\n",
            "3 dimensions of a three array\n",
            "(2, 2, 1) shape of a three dim arrray\n",
            "2 length of the array which returns the size of the first dimension\n"
          ],
          "name": "stdout"
        }
      ]
    },
    {
      "metadata": {
        "id": "pw4nJEqeubdq",
        "colab_type": "text"
      },
      "cell_type": "markdown",
      "source": [
        "# Creating arrays and Basic Data types"
      ]
    },
    {
      "metadata": {
        "id": "IEG8zYh7ubdu",
        "colab_type": "code",
        "outputId": "e1ffbb49-1476-4b4d-e7d2-22ff4f730021",
        "colab": {}
      },
      "cell_type": "code",
      "source": [
        "create_arange = np.arange(10)\n",
        "\n",
        "print(create_arange)\n",
        "\n",
        "create_stepwise = np.arange(1, 18, 2)\n",
        "\n",
        "print(create_stepwise)\n",
        "\n",
        "ones_multi_dim = np.ones((4, 5)) # (4, 5) is a tuple, the requested shape\n",
        "\n",
        "print(ones_multi_dim)\n",
        "\n",
        "zeros_multi_dim = np.zeros((7, 7)) # 2D 7x7 all-zeros\n",
        "\n",
        "print(zeros_multi_dim)\n",
        "\n",
        "eyes = np.eye(3)\n",
        "\n",
        "print(eyes)\n",
        "\n",
        "diagonal_matrix = np.diag(np.array([5, 6, 3]))\n",
        "\n",
        "print(diagonal_matrix)\n",
        "\n",
        "# Basic Data types\n",
        "\n",
        "typed = np.array([5, 6, 88, 4])\n",
        "print(typed.dtype) # int like\n",
        "\n",
        "typed_float = np.array([5.5, 6.0, 88, 4]) # mixed arrays convert to the most general type\n",
        "print(typed_float.dtype)"
      ],
      "execution_count": 0,
      "outputs": [
        {
          "output_type": "stream",
          "text": [
            "[0 1 2 3 4 5 6 7 8 9]\n",
            "[ 1  3  5  7  9 11 13 15 17]\n",
            "[[1. 1. 1. 1. 1.]\n",
            " [1. 1. 1. 1. 1.]\n",
            " [1. 1. 1. 1. 1.]\n",
            " [1. 1. 1. 1. 1.]]\n",
            "[[0. 0. 0. 0. 0. 0. 0.]\n",
            " [0. 0. 0. 0. 0. 0. 0.]\n",
            " [0. 0. 0. 0. 0. 0. 0.]\n",
            " [0. 0. 0. 0. 0. 0. 0.]\n",
            " [0. 0. 0. 0. 0. 0. 0.]\n",
            " [0. 0. 0. 0. 0. 0. 0.]\n",
            " [0. 0. 0. 0. 0. 0. 0.]]\n",
            "[[1. 0. 0.]\n",
            " [0. 1. 0.]\n",
            " [0. 0. 1.]]\n",
            "[[5 0 0]\n",
            " [0 6 0]\n",
            " [0 0 3]]\n",
            "int64\n",
            "float64\n"
          ],
          "name": "stdout"
        }
      ]
    },
    {
      "metadata": {
        "id": "G3hHU4weubd6",
        "colab_type": "text"
      },
      "cell_type": "markdown",
      "source": [
        "# Indexing and Slicing"
      ]
    },
    {
      "metadata": {
        "id": "gGpwgbjLubd8",
        "colab_type": "code",
        "outputId": "ce79fcd0-c6d5-41bd-c65b-e785e808ad90",
        "colab": {}
      },
      "cell_type": "code",
      "source": [
        "# Indexing and Slicing\n",
        "normal_array = np.arange(30)\n",
        "\n",
        "print(normal_array[2], normal_array[0], normal_array[29]) # getting individual elements\n",
        "\n",
        "print(normal_array[::-1], \"reversing\")\n",
        "\n",
        "two_dim_sliced = np.diag(np.arange(5))\n",
        "\n",
        "print(two_dim_sliced[2, 2]) # row column order\n",
        "start = 1\n",
        "end = 20\n",
        "step = 2\n",
        "\n",
        "slicing = np.arange(50)\n",
        "\n",
        "print(slicing[start:end:step])"
      ],
      "execution_count": 0,
      "outputs": [
        {
          "output_type": "stream",
          "text": [
            "2 0 29\n",
            "[29 28 27 26 25 24 23 22 21 20 19 18 17 16 15 14 13 12 11 10  9  8  7  6\n",
            "  5  4  3  2  1  0] reversing\n",
            "2\n",
            "[ 1  3  5  7  9 11 13 15 17 19]\n"
          ],
          "name": "stdout"
        }
      ]
    },
    {
      "metadata": {
        "id": "Kqb769zJubeK",
        "colab_type": "text"
      },
      "cell_type": "markdown",
      "source": [
        "# Views and Fancy indexing, Boolean masks"
      ]
    },
    {
      "metadata": {
        "id": "HXfTkc9YubeO",
        "colab_type": "code",
        "outputId": "b975eadf-3380-4521-ccab-5bb4fdf05310",
        "colab": {}
      },
      "cell_type": "code",
      "source": [
        "# Array views are important for memory management (see Introduction)\n",
        "original = np.arange(10)\n",
        "\n",
        "a_view = original[::2] # A view: works like a pointer, does not consume extra memory\n",
        "\n",
        "a_view[0] = 10\n",
        "\n",
        "print(original,a_view)\n",
        "\n",
        "a_copy = original[::2].copy() # Hard/Deep copy: consumes extra memory\n",
        "\n",
        "a_copy[0] = 40\n",
        "\n",
        "print(original, a_copy) # print to see the difference\n",
        "\n",
        "# Fancy indexing, Boolean masks\n",
        "boolean_mask_base = np.random.randint(0, 21, 15)\n",
        "mask = (boolean_mask_base % 3 == 0) # an expression, which evaluates to a boolean array\n",
        "only_true = boolean_mask_base[mask] # fancy indexing: getting the elements where the mask is True\n",
        "print(boolean_mask_base,mask, only_true)"
      ],
      "execution_count": 0,
      "outputs": [
        {
          "output_type": "stream",
          "text": [
            "[10  1  2  3  4  5  6  7  8  9] [10  2  4  6  8]\n",
            "[10  1  2  3  4  5  6  7  8  9] [40  2  4  6  8]\n",
            "[ 2 16  7  8  9  5 10 15  8 17  2 16 17 19 14] [False False False False  True False False  True False False False False\n",
            " False False False] [ 9 15]\n"
          ],
          "name": "stdout"
        }
      ]
    },
    {
      "metadata": {
        "id": "7DAhTzj4ubef",
        "colab_type": "text"
      },
      "cell_type": "markdown",
      "source": [
        "# References\n",
        "\n",
        "* Scipy lectures: https://www.scipy-lectures.org/intro/numpy/array_object.html\n",
        "\n",
        "* Tutorial: https://docs.scipy.org/doc/numpy/user/quickstart.html\n",
        "\n",
        "* API Reference: https://docs.scipy.org/doc/numpy/reference/index.html"
      ]
    },
    {
      "metadata": {
        "id": "exYKTL49ubej",
        "colab_type": "code",
        "colab": {}
      },
      "cell_type": "code",
      "source": [
        ""
      ],
      "execution_count": 0,
      "outputs": []
    }
  ]
}