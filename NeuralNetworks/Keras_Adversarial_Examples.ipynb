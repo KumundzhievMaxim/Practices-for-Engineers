{
  "nbformat": 4,
  "nbformat_minor": 0,
  "metadata": {
    "colab": {
      "name": "Keras - Adversarial Examples.ipynb",
      "version": "0.3.2",
      "provenance": [],
      "collapsed_sections": []
    },
    "kernelspec": {
      "name": "python3",
      "display_name": "Python 3"
    },
    "accelerator": "GPU"
  },
  "cells": [
    {
      "cell_type": "markdown",
      "metadata": {
        "id": "OrRX10_mD3ep",
        "colab_type": "text"
      },
      "source": [
        "# Adversarial Examples"
      ]
    },
    {
      "cell_type": "markdown",
      "metadata": {
        "id": "oorZL50yEnNr",
        "colab_type": "text"
      },
      "source": [
        "## Preparations\n",
        "First of all let's load and prepare the dataset. For this notebook we will use the Fashion MNIST dataset. For more info see: https://keras.io/datasets/#fashion-mnist-database-of-fashion-articles"
      ]
    },
    {
      "cell_type": "code",
      "metadata": {
        "id": "zlqTz86zEzwr",
        "colab_type": "code",
        "outputId": "1eb15962-0015-4641-a195-a68147eca9da",
        "colab": {
          "base_uri": "https://localhost:8080/",
          "height": 35
        }
      },
      "source": [
        "from keras.datasets import fashion_mnist\n",
        "\n",
        "(x_train, y_train), (x_test, y_test) = fashion_mnist.load_data()"
      ],
      "execution_count": 0,
      "outputs": [
        {
          "output_type": "stream",
          "text": [
            "Using TensorFlow backend.\n"
          ],
          "name": "stderr"
        }
      ]
    },
    {
      "cell_type": "code",
      "metadata": {
        "id": "x3rxqwS2E1_j",
        "colab_type": "code",
        "outputId": "50097c0b-c331-4146-a863-6be3fc8e7e91",
        "colab": {
          "base_uri": "https://localhost:8080/",
          "height": 126
        }
      },
      "source": [
        "import numpy as np\n",
        "\n",
        "print('Training set size:', x_train.shape)\n",
        "print('Training labels size:', y_train.shape)\n",
        "print('Test set size:', x_test.shape)\n",
        "print('Test labels size:', y_test.shape)\n",
        "print('Scale of the samples:', (np.min(x_train), np.max(x_train)))\n",
        "print('Number of unique labels:', len(np.unique(y_train)))"
      ],
      "execution_count": 0,
      "outputs": [
        {
          "output_type": "stream",
          "text": [
            "Training set size: (60000, 28, 28)\n",
            "Training labels size: (60000,)\n",
            "Test set size: (10000, 28, 28)\n",
            "Test labels size: (10000,)\n",
            "Scale of the samples: (0, 255)\n",
            "Number of unique labels: 10\n"
          ],
          "name": "stdout"
        }
      ]
    },
    {
      "cell_type": "markdown",
      "metadata": {
        "id": "gh7EE0LuHZTb",
        "colab_type": "text"
      },
      "source": [
        "To use Conv2D layers we have to reshape the data."
      ]
    },
    {
      "cell_type": "code",
      "metadata": {
        "id": "Xrrb6dQ1HcP-",
        "colab_type": "code",
        "colab": {}
      },
      "source": [
        "x_train = x_train.reshape(-1, 28, 28, 1)\n",
        "x_test = x_test.reshape(-1, 28, 28, 1)"
      ],
      "execution_count": 0,
      "outputs": []
    },
    {
      "cell_type": "markdown",
      "metadata": {
        "id": "Bad1cb6hF34s",
        "colab_type": "text"
      },
      "source": [
        "Create a validation set."
      ]
    },
    {
      "cell_type": "code",
      "metadata": {
        "id": "2NlHeQDgF6zD",
        "colab_type": "code",
        "colab": {}
      },
      "source": [
        "from sklearn.model_selection import train_test_split\n",
        "\n",
        "# Split the data\n",
        "x_train, x_valid, y_train, y_valid = train_test_split(x_train, y_train, test_size=0.20, shuffle=True)"
      ],
      "execution_count": 0,
      "outputs": []
    },
    {
      "cell_type": "code",
      "metadata": {
        "id": "ztYTGEmjF7ik",
        "colab_type": "code",
        "outputId": "f544bce2-6d15-4932-8f86-c915f48baaf6",
        "colab": {
          "base_uri": "https://localhost:8080/",
          "height": 54
        }
      },
      "source": [
        "print('Shape of the training set', x_train.shape)\n",
        "print('Shape of the validation set', x_valid.shape)"
      ],
      "execution_count": 0,
      "outputs": [
        {
          "output_type": "stream",
          "text": [
            "Shape of the training set (48000, 28, 28, 1)\n",
            "Shape of the validation set (12000, 28, 28, 1)\n"
          ],
          "name": "stdout"
        }
      ]
    },
    {
      "cell_type": "markdown",
      "metadata": {
        "id": "IlCkiB_5FcAT",
        "colab_type": "text"
      },
      "source": [
        "Normalize the data."
      ]
    },
    {
      "cell_type": "code",
      "metadata": {
        "id": "0KQB9SLiFGwu",
        "colab_type": "code",
        "outputId": "cf5be637-d2ed-4d4c-b0c1-c0042b16a110",
        "colab": {
          "base_uri": "https://localhost:8080/",
          "height": 35
        }
      },
      "source": [
        "x_train = (x_train / 127.5) - 1\n",
        "x_valid = (x_valid / 127.5) - 1 \n",
        "x_test = (x_test / 127.5) - 1\n",
        "print('Scale of the samples:', (np.min(x_train), np.max(x_train)))"
      ],
      "execution_count": 0,
      "outputs": [
        {
          "output_type": "stream",
          "text": [
            "Scale of the samples: (-1.0, 1.0)\n"
          ],
          "name": "stdout"
        }
      ]
    },
    {
      "cell_type": "markdown",
      "metadata": {
        "id": "duc-mgJlFiLj",
        "colab_type": "text"
      },
      "source": [
        "## Build a simple CNN\n",
        "After we finished with the data pre-processing we can build and train our model."
      ]
    },
    {
      "cell_type": "code",
      "metadata": {
        "id": "Vz4TSC0mGSAL",
        "colab_type": "code",
        "colab": {}
      },
      "source": [
        "from keras.models import Sequential\n",
        "from keras.layers import Dense, Dropout, Flatten\n",
        "from keras.layers import Conv2D, MaxPooling2D"
      ],
      "execution_count": 0,
      "outputs": []
    },
    {
      "cell_type": "code",
      "metadata": {
        "id": "5NVcTtruGamc",
        "colab_type": "code",
        "colab": {}
      },
      "source": [
        "batch_size = 64\n",
        "epochs = 10\n",
        "num_classes = 10"
      ],
      "execution_count": 0,
      "outputs": []
    },
    {
      "cell_type": "code",
      "metadata": {
        "id": "WiXFkmW3GbVM",
        "colab_type": "code",
        "outputId": "576effa8-282c-427f-ebb7-7fdbcd69bf91",
        "colab": {
          "base_uri": "https://localhost:8080/",
          "height": 454
        }
      },
      "source": [
        "model = Sequential()\n",
        "model.add(Conv2D(32, kernel_size=(3, 3), activation='linear', \n",
        "                 padding='same', input_shape=(28, 28, 1)))\n",
        "model.add(MaxPooling2D((2, 2), padding='same'))\n",
        "model.add(Conv2D(64, (3, 3), activation='linear', padding='same'))\n",
        "model.add(MaxPooling2D(pool_size=(2, 2), padding='same'))\n",
        "model.add(Flatten())\n",
        "model.add(Dense(128, activation='linear'))\n",
        "model.add(Dense(num_classes, activation='softmax'))\n",
        "\n",
        "model.summary()"
      ],
      "execution_count": 0,
      "outputs": [
        {
          "output_type": "stream",
          "text": [
            "WARNING:tensorflow:From /usr/local/lib/python3.6/dist-packages/tensorflow/python/framework/op_def_library.py:263: colocate_with (from tensorflow.python.framework.ops) is deprecated and will be removed in a future version.\n",
            "Instructions for updating:\n",
            "Colocations handled automatically by placer.\n",
            "_________________________________________________________________\n",
            "Layer (type)                 Output Shape              Param #   \n",
            "=================================================================\n",
            "conv2d_1 (Conv2D)            (None, 28, 28, 32)        320       \n",
            "_________________________________________________________________\n",
            "max_pooling2d_1 (MaxPooling2 (None, 14, 14, 32)        0         \n",
            "_________________________________________________________________\n",
            "conv2d_2 (Conv2D)            (None, 14, 14, 64)        18496     \n",
            "_________________________________________________________________\n",
            "max_pooling2d_2 (MaxPooling2 (None, 7, 7, 64)          0         \n",
            "_________________________________________________________________\n",
            "flatten_1 (Flatten)          (None, 3136)              0         \n",
            "_________________________________________________________________\n",
            "dense_1 (Dense)              (None, 128)               401536    \n",
            "_________________________________________________________________\n",
            "dense_2 (Dense)              (None, 10)                1290      \n",
            "=================================================================\n",
            "Total params: 421,642\n",
            "Trainable params: 421,642\n",
            "Non-trainable params: 0\n",
            "_________________________________________________________________\n"
          ],
          "name": "stdout"
        }
      ]
    },
    {
      "cell_type": "code",
      "metadata": {
        "id": "gYfut5fBHLKV",
        "colab_type": "code",
        "outputId": "b5cf23f8-c016-4181-ce5e-c3b15e3866c1",
        "colab": {
          "base_uri": "https://localhost:8080/",
          "height": 454
        }
      },
      "source": [
        "model.compile(loss='sparse_categorical_crossentropy', optimizer='adam', \n",
        "              metrics=['acc'])\n",
        "\n",
        "history = model.fit(x_train, y_train, batch_size=batch_size, epochs=epochs, \n",
        "                    verbose=1, validation_data=(x_valid, y_valid))"
      ],
      "execution_count": 0,
      "outputs": [
        {
          "output_type": "stream",
          "text": [
            "WARNING:tensorflow:From /usr/local/lib/python3.6/dist-packages/tensorflow/python/ops/math_ops.py:3066: to_int32 (from tensorflow.python.ops.math_ops) is deprecated and will be removed in a future version.\n",
            "Instructions for updating:\n",
            "Use tf.cast instead.\n",
            "Train on 48000 samples, validate on 12000 samples\n",
            "Epoch 1/10\n",
            "48000/48000 [==============================] - 6s 117us/step - loss: 0.4155 - acc: 0.8525 - val_loss: 0.3408 - val_acc: 0.8799\n",
            "Epoch 2/10\n",
            "48000/48000 [==============================] - 3s 66us/step - loss: 0.2902 - acc: 0.8975 - val_loss: 0.3001 - val_acc: 0.8952\n",
            "Epoch 3/10\n",
            "48000/48000 [==============================] - 3s 65us/step - loss: 0.2498 - acc: 0.9112 - val_loss: 0.2870 - val_acc: 0.8972\n",
            "Epoch 4/10\n",
            "48000/48000 [==============================] - 3s 65us/step - loss: 0.2245 - acc: 0.9196 - val_loss: 0.2852 - val_acc: 0.9038\n",
            "Epoch 5/10\n",
            "48000/48000 [==============================] - 3s 69us/step - loss: 0.2032 - acc: 0.9271 - val_loss: 0.2868 - val_acc: 0.9037\n",
            "Epoch 6/10\n",
            "48000/48000 [==============================] - 4s 74us/step - loss: 0.1848 - acc: 0.9314 - val_loss: 0.3057 - val_acc: 0.8941\n",
            "Epoch 7/10\n",
            "48000/48000 [==============================] - 4s 74us/step - loss: 0.1695 - acc: 0.9386 - val_loss: 0.3064 - val_acc: 0.9010\n",
            "Epoch 8/10\n",
            "48000/48000 [==============================] - 3s 69us/step - loss: 0.1543 - acc: 0.9439 - val_loss: 0.3239 - val_acc: 0.8976\n",
            "Epoch 9/10\n",
            "48000/48000 [==============================] - 3s 65us/step - loss: 0.1418 - acc: 0.9483 - val_loss: 0.3218 - val_acc: 0.9039\n",
            "Epoch 10/10\n",
            "48000/48000 [==============================] - 3s 65us/step - loss: 0.1300 - acc: 0.9521 - val_loss: 0.3418 - val_acc: 0.8994\n"
          ],
          "name": "stdout"
        }
      ]
    },
    {
      "cell_type": "markdown",
      "metadata": {
        "id": "0x--G1F1Iwel",
        "colab_type": "text"
      },
      "source": [
        "Plot the learning curves."
      ]
    },
    {
      "cell_type": "code",
      "metadata": {
        "id": "0nWUrI_JJFd0",
        "colab_type": "code",
        "outputId": "418f1883-2c40-46f1-e3b9-bc21ce9973d9",
        "colab": {
          "base_uri": "https://localhost:8080/",
          "height": 295
        }
      },
      "source": [
        "import matplotlib.pyplot as plt\n",
        "\n",
        "# Plot training & validation accuracy values\n",
        "plt.figure(figsize=(9,4))\n",
        "\n",
        "plt.subplot(1,2,1)\n",
        "plt.plot(history.history['acc'])\n",
        "plt.plot(history.history['val_acc'])\n",
        "plt.title('Model accuracy')\n",
        "plt.ylabel('Accuracy')\n",
        "plt.xlabel('Epoch')\n",
        "plt.legend(['Train accuracy', 'Validation accuracy'], loc='upper left')\n",
        "\n",
        "# Plot training & validation loss values\n",
        "plt.subplot(1,2,2)\n",
        "plt.plot(history.history['loss'])\n",
        "plt.plot(history.history['val_loss'])\n",
        "plt.title('Model loss')\n",
        "plt.ylabel('Loss')\n",
        "plt.xlabel('Epoch')\n",
        "plt.legend(['Train loss', 'Validation loss'], loc='upper left')\n",
        "plt.show()"
      ],
      "execution_count": 0,
      "outputs": [
        {
          "output_type": "display_data",
          "data": {
            "image/png": "[encoded data removed]",
            "text/plain": [
              "<Figure size 648x288 with 2 Axes>"
            ]
          },
          "metadata": {
            "tags": []
          }
        }
      ]
    },
    {
      "cell_type": "markdown",
      "metadata": {
        "id": "B8FSkbGNJNNU",
        "colab_type": "text"
      },
      "source": [
        "Evalute our model on the test set."
      ]
    },
    {
      "cell_type": "code",
      "metadata": {
        "id": "B88nR6WDIawE",
        "colab_type": "code",
        "outputId": "3ea0d6a6-ce85-4faf-f52e-54d6e18c706a",
        "colab": {
          "base_uri": "https://localhost:8080/",
          "height": 72
        }
      },
      "source": [
        "loss, acc = model.evaluate(x_test, y_test)\n",
        "print('Test loss:', loss)\n",
        "print('Test accuracy:', acc)"
      ],
      "execution_count": 0,
      "outputs": [
        {
          "output_type": "stream",
          "text": [
            "10000/10000 [==============================] - 0s 45us/step\n",
            "Test loss: 0.35205124217271805\n",
            "Test accuracy: 0.8973\n"
          ],
          "name": "stdout"
        }
      ]
    },
    {
      "cell_type": "markdown",
      "metadata": {
        "id": "qo1DmsDoJ3YN",
        "colab_type": "text"
      },
      "source": [
        "Let's examine the samples that were incorrectly classified."
      ]
    },
    {
      "cell_type": "code",
      "metadata": {
        "id": "vIjH16EwKBTl",
        "colab_type": "code",
        "outputId": "725bb4a9-e2c2-4e86-e317-e0a9a399750c",
        "colab": {
          "base_uri": "https://localhost:8080/",
          "height": 72
        }
      },
      "source": [
        "predictions = model.predict(x_test)\n",
        "print(predictions[0])\n",
        "# First we have to convert the results to actual numbers\n",
        "probabilities = np.max(predictions, axis=1)\n",
        "predictions = np.argmax(predictions, axis=1)\n",
        "print(predictions[0])"
      ],
      "execution_count": 0,
      "outputs": [
        {
          "output_type": "stream",
          "text": [
            "[5.0161635e-09 2.9549538e-09 2.4956759e-07 3.7101762e-09 5.2775095e-09\n",
            " 3.4167120e-04 1.9582977e-07 7.3391753e-03 1.0813212e-05 9.9230790e-01]\n",
            "9\n"
          ],
          "name": "stdout"
        }
      ]
    },
    {
      "cell_type": "code",
      "metadata": {
        "id": "IIOUPKCfLgb-",
        "colab_type": "code",
        "outputId": "1101df84-cd89-465f-bec8-19ceb01b1675",
        "colab": {
          "base_uri": "https://localhost:8080/",
          "height": 54
        }
      },
      "source": [
        "# Then we can select the incorrect predictions\n",
        "correct =  np.where(predictions == y_test)[0]\n",
        "incorrect = np.where(predictions != y_test)[0]\n",
        "print('Number of test samples: ', len(predictions))\n",
        "print('Correct labels: {}, Incorrect labels: {}'.format(len(correct), \n",
        "                                                        len(incorrect)))"
      ],
      "execution_count": 0,
      "outputs": [
        {
          "output_type": "stream",
          "text": [
            "Number of test samples:  10000\n",
            "Correct labels: 8973, Incorrect labels: 1027\n"
          ],
          "name": "stdout"
        }
      ]
    },
    {
      "cell_type": "markdown",
      "metadata": {
        "id": "WkVdOkRyM4qF",
        "colab_type": "text"
      },
      "source": [
        "Show some incorrect results."
      ]
    },
    {
      "cell_type": "code",
      "metadata": {
        "id": "h78F2PWJM9fc",
        "colab_type": "code",
        "outputId": "2219bf7b-eccd-4e30-ecd0-051e6e465be0",
        "colab": {
          "base_uri": "https://localhost:8080/",
          "height": 390
        }
      },
      "source": [
        "N = 15\n",
        "\n",
        "plt.figure(figsize=(18, 6))\n",
        "for i, ind in enumerate(incorrect[:N]):\n",
        "  plt.subplot(3, 5, i+1)\n",
        "  plt.imshow(x_test[ind].reshape(28, 28), cmap='gray')\n",
        "  plt.title(\"Label: {}, Pred: {}, Prob: {:.4f}\".format(y_test[ind], \n",
        "                                                       predictions[ind],\n",
        "                                                       probabilities[ind]))\n",
        "  plt.axis('off')"
      ],
      "execution_count": 0,
      "outputs": [
        {
          "output_type": "display_data",
          "data": {
            "image/png": "[encoded data removed]",
            "text/plain": [
              "<Figure size 1296x432 with 15 Axes>"
            ]
          },
          "metadata": {
            "tags": []
          }
        }
      ]
    },
    {
      "cell_type": "markdown",
      "metadata": {
        "id": "NCw8wyeuQHxv",
        "colab_type": "text"
      },
      "source": [
        "## Construct adversarial examples\n",
        "\n",
        "Neural networks can be easily fooled by adverserial examples.\n",
        "\n",
        "When we are training our network we use gradient descent to update its weights:\n",
        "\n",
        "$\\theta \\leftarrow \\theta - \\alpha \\cdot \\frac{\\partial L(\\theta,\\ x,\\ y)}{\\partial \\theta}$, \n",
        "\n",
        "where $\\theta$ is the weights of model, $\\alpha$ is the learning rate, $x$ is the input, $y$ is the ground truth label, and $L(.,\\ .,\\ .)$ is the loss function. \n",
        "\n",
        "Here our goal is to decrease the loss by changing the *weights*. But we can also use gradient descent to maximize the probability that a given sample is misclasssified. We just have to fix the weights and chose a target label: \n",
        "\n",
        "$x \\leftarrow x - \\alpha \\cdot \\frac{\\partial L(\\theta,\\ x,\\ y)}{\\partial x}$.\n",
        "\n",
        "Here our goal is to decrease the loss by changing the *input*.\n",
        "\n",
        "So let's choose a sample. For example trick the network to false classify a shirt (label 6) as a dress (label 3).  "
      ]
    },
    {
      "cell_type": "code",
      "metadata": {
        "id": "qi7v1-QcQN-F",
        "colab_type": "code",
        "colab": {}
      },
      "source": [
        "source_label = 6"
      ],
      "execution_count": 0,
      "outputs": []
    },
    {
      "cell_type": "code",
      "metadata": {
        "id": "ABWrT9doQqv0",
        "colab_type": "code",
        "colab": {}
      },
      "source": [
        "samples = np.where(y_test[correct] == source_label)[0]\n",
        "idx = samples[np.random.randint(0, len(samples))]\n",
        "orig_img = x_test[correct][idx]\n",
        "orig_label = y_test[correct][idx]"
      ],
      "execution_count": 0,
      "outputs": []
    },
    {
      "cell_type": "code",
      "metadata": {
        "id": "okGUF-xFROTW",
        "colab_type": "code",
        "outputId": "65e047ff-3cbd-4c15-a794-942d7ef223c4",
        "colab": {
          "base_uri": "https://localhost:8080/",
          "height": 35
        }
      },
      "source": [
        "orig_pred = model.predict(orig_img[None, :, :, :])[0]\n",
        "orig_prob = np.max(orig_pred)\n",
        "orig_pred = np.argmax(orig_pred)\n",
        "print('Label: {}, Prediction: {}, Probability: {}'.format(orig_label, orig_pred, orig_prob))"
      ],
      "execution_count": 0,
      "outputs": [
        {
          "output_type": "stream",
          "text": [
            "Label: 6, Prediction: 6, Probability: 0.9037845134735107\n"
          ],
          "name": "stdout"
        }
      ]
    },
    {
      "cell_type": "code",
      "metadata": {
        "id": "jXmpAWheR8CF",
        "colab_type": "code",
        "outputId": "7ff11114-1cbf-49e9-b454-27d2f7d5ec48",
        "colab": {
          "base_uri": "https://localhost:8080/",
          "height": 287
        }
      },
      "source": [
        "plt.imshow(orig_img.reshape(28,28), cmap='gray')"
      ],
      "execution_count": 0,
      "outputs": [
        {
          "output_type": "execute_result",
          "data": {
            "text/plain": [
              "<matplotlib.image.AxesImage at 0x7f49560fab70>"
            ]
          },
          "metadata": {
            "tags": []
          },
          "execution_count": 27
        },
        {
          "output_type": "display_data",
          "data": {
            "image/png": "[encoded data removed]",
            "text/plain": [
              "<Figure size 432x288 with 1 Axes>"
            ]
          },
          "metadata": {
            "tags": []
          }
        }
      ]
    },
    {
      "cell_type": "markdown",
      "metadata": {
        "id": "GWR6PxQTyXTO",
        "colab_type": "text"
      },
      "source": [
        "Set $\\alpha$ to a some small number and derive the loss function respect to the input. "
      ]
    },
    {
      "cell_type": "code",
      "metadata": {
        "id": "5Lr1pXOVQjnF",
        "colab_type": "code",
        "colab": {}
      },
      "source": [
        "target_label = 3\n",
        "alpha = 0.1\n",
        "\n",
        "adv_img = orig_img.copy().reshape(-1, 28, 28, 1)"
      ],
      "execution_count": 0,
      "outputs": []
    },
    {
      "cell_type": "code",
      "metadata": {
        "id": "gdmdTWWDeDBX",
        "colab_type": "code",
        "outputId": "be841130-ebcd-4729-838a-89602a8203f4",
        "colab": {
          "base_uri": "https://localhost:8080/",
          "height": 108
        }
      },
      "source": [
        "import keras.backend as K\n",
        "\n",
        "# Select the input and the output layer\n",
        "input_layer = model.layers[0].input\n",
        "output_layer = model.layers[-1].output\n",
        "print(input_layer)\n",
        "print(output_layer)\n",
        "\n",
        "# and the cost function\n",
        "cost_function = output_layer[0, target_label]\n",
        "print(cost_function)\n",
        "\n",
        "# Derive the loss function respect to the input\n",
        "gradient_function = K.gradients(cost_function, input_layer)[0]\n",
        "print(gradient_function)\n",
        "\n",
        "# Define a function that calculates the cost and the gradients\n",
        "calc_cost_gradients = K.function([input_layer, K.learning_phase()], \n",
        "                                 [cost_function, gradient_function])\n",
        "print(calc_cost_gradients)"
      ],
      "execution_count": 0,
      "outputs": [
        {
          "output_type": "stream",
          "text": [
            "Tensor(\"conv2d_1_input:0\", shape=(?, 28, 28, 1), dtype=float32)\n",
            "Tensor(\"dense_2/Softmax:0\", shape=(?, 10), dtype=float32)\n",
            "Tensor(\"strided_slice_1:0\", shape=(), dtype=float32)\n",
            "Tensor(\"gradients_1/conv2d_1/convolution_grad/Conv2DBackpropInput:0\", shape=(?, 28, 28, 1), dtype=float32)\n",
            "<keras.backend.tensorflow_backend.Function object at 0x7f49560a5ef0>\n"
          ],
          "name": "stdout"
        }
      ]
    },
    {
      "cell_type": "markdown",
      "metadata": {
        "id": "ZVhXxt-_tz-k",
        "colab_type": "text"
      },
      "source": [
        "Finally generate the adversarial example.\n",
        "\n",
        "Note: If it's too slow, try changing the source and target labels. The more similar they are, the faster it will converge. "
      ]
    },
    {
      "cell_type": "code",
      "metadata": {
        "id": "QTxC6uhWeaqW",
        "colab_type": "code",
        "outputId": "bc9415c4-733a-4cac-aa33-6f3cc20dea1f",
        "colab": {
          "base_uri": "https://localhost:8080/",
          "height": 35
        }
      },
      "source": [
        "import time, sys\n",
        "\n",
        "start = time.time()\n",
        "cost = 0.0\n",
        "\n",
        "while cost < 0.90:\n",
        "    # Calculate the cost to see how close the fake image is to the target class and\n",
        "    # calculate the gradients to use in the next iteration for further adjustment.\n",
        "    cost, gradients = calc_cost_gradients([adv_img, 0])\n",
        "\n",
        "    # Use the calcuated gradients to push our image closer towards the desired class\n",
        "    adv_img += alpha * gradients\n",
        "\n",
        "    # Clip the image\n",
        "    adv_img = np.clip(adv_img, -1.0, 1.0)\n",
        "    \n",
        "    # Display progress\n",
        "    sys.stdout.write(\"\\r>> {} - Adversarial prediction confidence: {:.8}%\".format(time.time()-start, cost *100))\n",
        "    sys.stdout.flush()"
      ],
      "execution_count": 0,
      "outputs": [
        {
          "output_type": "stream",
          "text": [
            ">> 0.11213445663452148 - Adversarial prediction confidence: 93.588817%"
          ],
          "name": "stdout"
        }
      ]
    },
    {
      "cell_type": "markdown",
      "metadata": {
        "id": "VFk7IBANuAWY",
        "colab_type": "text"
      },
      "source": [
        "Let's see the results."
      ]
    },
    {
      "cell_type": "code",
      "metadata": {
        "id": "kk01BEhyrSIW",
        "colab_type": "code",
        "outputId": "6140a861-5ab6-476b-8eca-ac07650c2725",
        "colab": {
          "base_uri": "https://localhost:8080/",
          "height": 35
        }
      },
      "source": [
        "adv_pred = model.predict(adv_img)[0]\n",
        "adv_prob = np.max(adv_pred)\n",
        "adv_pred = np.argmax(adv_pred)\n",
        "print('Label: {}, Prediction: {}, Probability: {}'.format(orig_label, adv_pred, \n",
        "                                                          adv_prob))"
      ],
      "execution_count": 0,
      "outputs": [
        {
          "output_type": "stream",
          "text": [
            "Label: 6, Prediction: 3, Probability: 0.9790624380111694\n"
          ],
          "name": "stdout"
        }
      ]
    },
    {
      "cell_type": "code",
      "metadata": {
        "id": "gzcULsfVo36g",
        "colab_type": "code",
        "outputId": "fa22d922-c4c4-4302-e5a4-bd7dcfcf3f37",
        "colab": {
          "base_uri": "https://localhost:8080/",
          "height": 243
        }
      },
      "source": [
        "plt.figure(figsize=(15, 3))\n",
        "plt.subplot(1, 3, 1)\n",
        "plt.imshow(orig_img.reshape(28, 28), cmap='gray')\n",
        "plt.title('Original\\nPred: {}, Prob: {:.4f}'.format(orig_pred, orig_prob))\n",
        "\n",
        "plt.subplot(1, 3, 2)\n",
        "plt.imshow((orig_img - adv_img).reshape(28, 28), cmap='gray')\n",
        "plt.title('Noise')\n",
        "\n",
        "plt.subplot(1, 3, 3)\n",
        "plt.imshow(adv_img.reshape(28, 28), cmap='gray')\n",
        "plt.title('Adversarial\\nPred: {}, Prob: {:.4f}'.format(adv_pred, adv_prob));"
      ],
      "execution_count": 0,
      "outputs": [
        {
          "output_type": "display_data",
          "data": {
            "image/png": "[encoded data removed]",
            "text/plain": [
              "<Figure size 1080x216 with 3 Axes>"
            ]
          },
          "metadata": {
            "tags": []
          }
        }
      ]
    },
    {
      "cell_type": "markdown",
      "metadata": {
        "id": "L67KCFKTEKKT",
        "colab_type": "text"
      },
      "source": [
        "# References\n",
        "\n",
        "* https://github.com/souravsingh/mnist-adversarial-attack\n",
        "* https://colab.research.google.com/drive/1MSIkZy671MyEMyTK3HTBYAuOdzwrgt8Q#scrollTo=sAnvrKSkqLkc"
      ]
    }
  ]
}