{
  "nbformat": 4,
  "nbformat_minor": 0,
  "metadata": {
    "colab": {
      "name": "Keras - CNN.ipynb",
      "version": "0.3.2",
      "provenance": [],
      "collapsed_sections": [],
      "toc_visible": true
    },
    "kernelspec": {
      "display_name": "Python 3",
      "language": "python",
      "name": "python3"
    },
    "accelerator": "GPU"
  },
  "cells": [
    {
      "metadata": {
        "id": "ZAG41H1x0s9C",
        "colab_type": "text"
      },
      "cell_type": "markdown",
      "source": [
        "# Convolutional Networks in Keras\n",
        "This notebook shows you how to create a simple CNN (convolutional neural network) in Keras.\n",
        "\n",
        "## Loading MNIST\n",
        "This part of the code is the same as before. We just download and normalize the dataset."
      ]
    },
    {
      "metadata": {
        "id": "QamtKcOl2GEY",
        "colab_type": "code",
        "colab": {}
      },
      "cell_type": "code",
      "source": [
        "from keras.datasets import mnist\n",
        "import numpy as np\n",
        "\n",
        "# Load MNIST dataset\n",
        "(x_train, y_train), (x_test, y_test) = mnist.load_data()\n",
        "x_train=np.expand_dims(x_train, 3)\n",
        "x_test=np.expand_dims(x_test, 3)\n",
        "\n",
        "# Normalize the training and test data, helps the training algorithm\n",
        "x_train = x_train / 255.0\n",
        "x_test = x_test / 255.0"
      ],
      "execution_count": 0,
      "outputs": []
    },
    {
      "metadata": {
        "id": "nZz8JZyPx9Qr",
        "colab_type": "code",
        "outputId": "72dc45b4-7220-4e2c-bb4b-57e326bc46de",
        "colab": {
          "base_uri": "https://localhost:8080/",
          "height": 35
        }
      },
      "cell_type": "code",
      "source": [
        "x_train.shape"
      ],
      "execution_count": 0,
      "outputs": [
        {
          "output_type": "execute_result",
          "data": {
            "text/plain": [
              "(60000, 28, 28, 1)"
            ]
          },
          "metadata": {
            "tags": []
          },
          "execution_count": 13
        }
      ]
    },
    {
      "metadata": {
        "colab_type": "text",
        "id": "gm87Y1wegUPR"
      },
      "cell_type": "markdown",
      "source": [
        "## Conv2D layer in Keras\n",
        "\n",
        "The normal Convolutional layer is in the ***keras.layers*** module. Its main parameters are:\n",
        "```\n",
        "keras.layers.Conv2D(filters, \n",
        "                   kernel_size, \n",
        "                   strides=(1, 1), \n",
        "                   padding='valid', \n",
        "                   activation=None)\n",
        "```\n",
        "\n",
        "**Main arguments**\n",
        "\n",
        "*  **filters:** Positive integer, the number of filters, or the depth dimension of the output.\n",
        "* **kernel_size:** An integer or tuple/list of 2 integers, specifying the height and width of the 2D convolution window. Can be a single integer to specify the same value for all spatial dimensions.\n",
        "* **strides:** An integer or tuple/list of 2 integers, specifying the strides of the convolution along the height and width. Can be a single integer to specify the same value for all spatial dimensions. \n",
        "* **padding:** One of \"valid\" or \"same\" (case-insensitive). When you apply a (let's sya 3x3) convolution on an NxN input, the output will be (N-2)x(N-2) because at the edges the filter can't \"go out\" of the input image boundaries. If you would like to have NxN output, you have to pad the input to (N+2)x(N+2). This option controls the padding: `valid` means no padding, `same` means padding with zeros such that the input and the output will have the same size.\n",
        "*  **activation:** Activation function to use. If you don't specify anything, no activation is applied (ie. \"linear\" activation: a(x) = x). \n",
        "\n",
        "\n"
      ]
    },
    {
      "metadata": {
        "colab_type": "text",
        "id": "6lPvIuxfn-4G"
      },
      "cell_type": "markdown",
      "source": [
        "## Example Keras model on MNIST dataset\n",
        "In this section we will train a simple CNN that recognizes digits in the dataset. The following image shows the network architecture:\n",
        "![architecture](https://docs.google.com/uc?export=download&id=\n",
        "1Anmu9juijuRXB1mdfBF8gOSjgiRbM44K)\n",
        "\n",
        "It has two Convolutional layers followed by MaxPool layers, and finallytwo fully connected layers for classification."
      ]
    },
    {
      "metadata": {
        "colab_type": "code",
        "id": "bL6hPoQZnycv",
        "colab": {}
      },
      "cell_type": "code",
      "source": [
        "from keras.models import Sequential\n",
        "from keras.layers import Dense, Flatten, Conv2D, MaxPool2D, Input\n",
        "from keras.utils import plot_model\n",
        "\n",
        "import matplotlib.pyplot as plt"
      ],
      "execution_count": 0,
      "outputs": []
    },
    {
      "metadata": {
        "colab_type": "code",
        "id": "tmS8qyP8ogPm",
        "colab": {}
      },
      "cell_type": "code",
      "source": [
        "# Define the model\n",
        "model = Sequential()\n",
        "\n",
        "# The first convolutional layer\n",
        "model.add(Conv2D(filters=24, kernel_size=(3,3), input_shape=(28, 28, 1), activation='relu'))        \n",
        "model.add(MaxPool2D(pool_size=(2,2))) \n",
        "\n",
        "# The second convolutional layer\n",
        "model.add(Conv2D(filters=36, kernel_size=(3,3), activation='relu'))\n",
        "model.add(MaxPool2D(pool_size=(2,2)))\n",
        "\n",
        "model.add(Flatten()),\n",
        "model.add(Dense(128, activation='relu'))\n",
        "model.add(Dense(10, activation='softmax'))"
      ],
      "execution_count": 0,
      "outputs": []
    },
    {
      "metadata": {
        "id": "qOZy4NUcyPPf",
        "colab_type": "text"
      },
      "cell_type": "markdown",
      "source": [
        "Similarly to a dense network, we have simply added the convolutional and MaxPooling layers to our Sequential model."
      ]
    },
    {
      "metadata": {
        "colab_type": "code",
        "id": "HqWW_nfpohhn",
        "colab": {}
      },
      "cell_type": "code",
      "source": [
        "# Before training a model, you need to configure the learning process with compile() function\n",
        "model.compile(optimizer='adam', # The optimisation method\n",
        "              loss='sparse_categorical_crossentropy', # Loss function. Sparse categorical crossentropy can be used if the targets are numbers\n",
        "              metrics=['accuracy']) # Used to monitor the training and testing steps. It uses accuracy, the fraction of the images that are correctly classified"
      ],
      "execution_count": 0,
      "outputs": []
    },
    {
      "metadata": {
        "id": "1zMR6IIkwiGl",
        "colab_type": "text"
      },
      "cell_type": "markdown",
      "source": [
        "Next we print out the model architecture. Observe how the 28x28 input was decresed to 26x26 after the first convolution. Also check that MaxPooling halved the resolution."
      ]
    },
    {
      "metadata": {
        "colab_type": "code",
        "id": "odNID2UOuqYS",
        "outputId": "ca359ae4-6363-4a26-cbab-2aae50572197",
        "colab": {
          "base_uri": "https://localhost:8080/",
          "height": 399
        }
      },
      "cell_type": "code",
      "source": [
        "# Prints a summary representation of your model\n",
        "model.summary()"
      ],
      "execution_count": 0,
      "outputs": [
        {
          "output_type": "stream",
          "text": [
            "_________________________________________________________________\n",
            "Layer (type)                 Output Shape              Param #   \n",
            "=================================================================\n",
            "conv2d_5 (Conv2D)            (None, 26, 26, 24)        240       \n",
            "_________________________________________________________________\n",
            "max_pooling2d_3 (MaxPooling2 (None, 13, 13, 24)        0         \n",
            "_________________________________________________________________\n",
            "conv2d_6 (Conv2D)            (None, 11, 11, 36)        7812      \n",
            "_________________________________________________________________\n",
            "max_pooling2d_4 (MaxPooling2 (None, 5, 5, 36)          0         \n",
            "_________________________________________________________________\n",
            "flatten_2 (Flatten)          (None, 900)               0         \n",
            "_________________________________________________________________\n",
            "dense_3 (Dense)              (None, 128)               115328    \n",
            "_________________________________________________________________\n",
            "dense_4 (Dense)              (None, 10)                1290      \n",
            "=================================================================\n",
            "Total params: 124,670\n",
            "Trainable params: 124,670\n",
            "Non-trainable params: 0\n",
            "_________________________________________________________________\n"
          ],
          "name": "stdout"
        }
      ]
    },
    {
      "metadata": {
        "id": "GzBGTcEpw1tg",
        "colab_type": "text"
      },
      "cell_type": "markdown",
      "source": [
        "Compare the number of parameters to that of the fully connected model from the previous notebok. It was 407500, the current model is 4 times smaller! It will train faster as well."
      ]
    },
    {
      "metadata": {
        "colab_type": "code",
        "id": "NHalL_3EoiR2",
        "outputId": "c700dd5b-c3e4-479a-b5f9-893d40e7a9df",
        "colab": {
          "base_uri": "https://localhost:8080/",
          "height": 1200
        }
      },
      "cell_type": "code",
      "source": [
        "history = model.fit(x_train, y_train, epochs=30, validation_data=(x_test, y_test)) \n"
      ],
      "execution_count": 0,
      "outputs": [
        {
          "output_type": "stream",
          "text": [
            "WARNING:tensorflow:From /usr/local/lib/python3.6/dist-packages/tensorflow/python/ops/math_ops.py:3066: to_int32 (from tensorflow.python.ops.math_ops) is deprecated and will be removed in a future version.\n",
            "Instructions for updating:\n",
            "Use tf.cast instead.\n",
            "Train on 60000 samples, validate on 10000 samples\n",
            "Epoch 1/30\n",
            "60000/60000 [==============================] - 18s 292us/step - loss: 0.1412 - acc: 0.9575 - val_loss: 0.0571 - val_acc: 0.9824\n",
            "Epoch 2/30\n",
            "60000/60000 [==============================] - 13s 221us/step - loss: 0.0472 - acc: 0.9853 - val_loss: 0.0343 - val_acc: 0.9895\n",
            "Epoch 3/30\n",
            "60000/60000 [==============================] - 13s 217us/step - loss: 0.0328 - acc: 0.9896 - val_loss: 0.0279 - val_acc: 0.9903\n",
            "Epoch 4/30\n",
            "60000/60000 [==============================] - 13s 217us/step - loss: 0.0239 - acc: 0.9925 - val_loss: 0.0319 - val_acc: 0.9888\n",
            "Epoch 5/30\n",
            "60000/60000 [==============================] - 13s 217us/step - loss: 0.0180 - acc: 0.9941 - val_loss: 0.0289 - val_acc: 0.9906\n",
            "Epoch 6/30\n",
            "60000/60000 [==============================] - 13s 216us/step - loss: 0.0135 - acc: 0.9954 - val_loss: 0.0300 - val_acc: 0.9906\n",
            "Epoch 7/30\n",
            "60000/60000 [==============================] - 13s 217us/step - loss: 0.0110 - acc: 0.9965 - val_loss: 0.0363 - val_acc: 0.9896\n",
            "Epoch 8/30\n",
            "60000/60000 [==============================] - 13s 216us/step - loss: 0.0090 - acc: 0.9974 - val_loss: 0.0310 - val_acc: 0.9908\n",
            "Epoch 9/30\n",
            "60000/60000 [==============================] - 13s 216us/step - loss: 0.0083 - acc: 0.9970 - val_loss: 0.0398 - val_acc: 0.9900\n",
            "Epoch 10/30\n",
            "60000/60000 [==============================] - 13s 216us/step - loss: 0.0069 - acc: 0.9979 - val_loss: 0.0343 - val_acc: 0.9904\n",
            "Epoch 11/30\n",
            "60000/60000 [==============================] - 13s 216us/step - loss: 0.0073 - acc: 0.9977 - val_loss: 0.0351 - val_acc: 0.9917\n",
            "Epoch 12/30\n",
            "60000/60000 [==============================] - 13s 217us/step - loss: 0.0053 - acc: 0.9984 - val_loss: 0.0376 - val_acc: 0.9914\n",
            "Epoch 13/30\n",
            "60000/60000 [==============================] - 13s 216us/step - loss: 0.0057 - acc: 0.9982 - val_loss: 0.0378 - val_acc: 0.9911\n",
            "Epoch 14/30\n",
            "60000/60000 [==============================] - 13s 216us/step - loss: 0.0048 - acc: 0.9983 - val_loss: 0.0495 - val_acc: 0.9899\n",
            "Epoch 15/30\n",
            "60000/60000 [==============================] - 13s 216us/step - loss: 0.0036 - acc: 0.9989 - val_loss: 0.0431 - val_acc: 0.9925\n",
            "Epoch 16/30\n",
            "60000/60000 [==============================] - 13s 216us/step - loss: 0.0039 - acc: 0.9989 - val_loss: 0.0624 - val_acc: 0.9896\n",
            "Epoch 17/30\n",
            "60000/60000 [==============================] - 13s 219us/step - loss: 0.0050 - acc: 0.9988 - val_loss: 0.0413 - val_acc: 0.9921\n",
            "Epoch 18/30\n",
            "60000/60000 [==============================] - 13s 216us/step - loss: 0.0037 - acc: 0.9989 - val_loss: 0.0422 - val_acc: 0.9923\n",
            "Epoch 19/30\n",
            "60000/60000 [==============================] - 13s 215us/step - loss: 0.0027 - acc: 0.9991 - val_loss: 0.0524 - val_acc: 0.9905\n",
            "Epoch 20/30\n",
            "60000/60000 [==============================] - 13s 217us/step - loss: 0.0042 - acc: 0.9987 - val_loss: 0.0433 - val_acc: 0.9933\n",
            "Epoch 21/30\n",
            "60000/60000 [==============================] - 13s 219us/step - loss: 0.0030 - acc: 0.9990 - val_loss: 0.0491 - val_acc: 0.9909\n",
            "Epoch 22/30\n",
            "60000/60000 [==============================] - 13s 218us/step - loss: 0.0029 - acc: 0.9991 - val_loss: 0.0538 - val_acc: 0.9909\n",
            "Epoch 23/30\n",
            "60000/60000 [==============================] - 13s 216us/step - loss: 0.0034 - acc: 0.9990 - val_loss: 0.0619 - val_acc: 0.9919\n",
            "Epoch 24/30\n",
            "60000/60000 [==============================] - 13s 216us/step - loss: 0.0033 - acc: 0.9990 - val_loss: 0.0582 - val_acc: 0.9910\n",
            "Epoch 25/30\n",
            "60000/60000 [==============================] - 13s 217us/step - loss: 0.0026 - acc: 0.9993 - val_loss: 0.0582 - val_acc: 0.9908\n",
            "Epoch 26/30\n",
            "60000/60000 [==============================] - 13s 220us/step - loss: 0.0035 - acc: 0.9989 - val_loss: 0.0499 - val_acc: 0.9920\n",
            "Epoch 27/30\n",
            "60000/60000 [==============================] - 13s 216us/step - loss: 0.0042 - acc: 0.9988 - val_loss: 0.0548 - val_acc: 0.9918\n",
            "Epoch 28/30\n",
            "60000/60000 [==============================] - 13s 216us/step - loss: 0.0035 - acc: 0.9992 - val_loss: 0.0582 - val_acc: 0.9897\n",
            "Epoch 29/30\n",
            "60000/60000 [==============================] - 13s 216us/step - loss: 0.0025 - acc: 0.9992 - val_loss: 0.0726 - val_acc: 0.9885\n",
            "Epoch 30/30\n",
            "60000/60000 [==============================] - 13s 216us/step - loss: 0.0030 - acc: 0.9991 - val_loss: 0.0540 - val_acc: 0.9909\n"
          ],
          "name": "stdout"
        }
      ]
    },
    {
      "metadata": {
        "id": "CMsCEiMq2Zr5",
        "colab_type": "text"
      },
      "cell_type": "markdown",
      "source": [
        "Now we plot the training curves. The training curves shows how the loss and accuracy changes over time. It is a useful tool to debug the network. We will go into it in later lectures. By looking at the plots, you can see if the network is still training or has actually converged and you can stop training."
      ]
    },
    {
      "metadata": {
        "id": "9CFPBOcv1QZV",
        "colab_type": "code",
        "outputId": "89ab3c63-07e5-48c5-b077-7096b3f21342",
        "colab": {
          "base_uri": "https://localhost:8080/",
          "height": 294
        }
      },
      "cell_type": "code",
      "source": [
        "# Plot training & validation accuracy values\n",
        "plt.figure(figsize=(9,4))\n",
        "\n",
        "plt.subplot(1,2,1)\n",
        "plt.plot(history.history['acc'])\n",
        "plt.plot(history.history['val_acc'])\n",
        "plt.title('Model accuracy')\n",
        "plt.ylabel('Accuracy')\n",
        "plt.xlabel('Epoch')\n",
        "plt.legend(['Train accuracy', 'Test accuracy'], loc='upper left')\n",
        "\n",
        "# Plot training & validation loss values\n",
        "plt.subplot(1,2,2)\n",
        "plt.plot(history.history['loss'])\n",
        "plt.plot(history.history['val_loss'])\n",
        "plt.title('Model loss')\n",
        "plt.ylabel('Loss')\n",
        "plt.xlabel('Epoch')\n",
        "plt.legend(['Train loss', 'Test loss'], loc='upper left')\n",
        "plt.show()"
      ],
      "execution_count": 0,
      "outputs": [
        {
          "output_type": "display_data",
          "data": {
            "image/png": "[encoded data removed]",
            "text/plain": [
              "<Figure size 648x288 with 2 Axes>"
            ]
          },
          "metadata": {
            "tags": []
          }
        }
      ]
    },
    {
      "metadata": {
        "colab_type": "code",
        "id": "9O8haLPoq53N",
        "outputId": "b9637319-67da-48a5-833a-6cfab8f5f1cd",
        "colab": {
          "base_uri": "https://localhost:8080/",
          "height": 53
        }
      },
      "cell_type": "code",
      "source": [
        "# Evaluate the model\n",
        "# Returns the loss value & metrics values for the model in test mode\n",
        "loss, acc = model.evaluate(x_test, y_test, verbose=0)\n",
        "\n",
        "print('Test loss: {}'.format(loss))\n",
        "print('Test accuracy: {:.2%}'.format(acc))"
      ],
      "execution_count": 0,
      "outputs": [
        {
          "output_type": "stream",
          "text": [
            "Test loss: 0.05400696766095862\n",
            "Test accuracy: 99.09%\n"
          ],
          "name": "stdout"
        }
      ]
    },
    {
      "metadata": {
        "id": "XyvLp7nG03nd",
        "colab_type": "text"
      },
      "cell_type": "markdown",
      "source": [
        "We got a model that has a 99% classification accuracy. This is a 50% lower error rate than our previous fully connected model that 4 times as many parameters. Now check out what happens, if we translate the images by 2 pixels:"
      ]
    },
    {
      "metadata": {
        "id": "YMeDSDOnz1yf",
        "colab_type": "code",
        "outputId": "74116f32-a442-46dd-a1b4-8559aafb22de",
        "colab": {
          "base_uri": "https://localhost:8080/",
          "height": 35
        }
      },
      "cell_type": "code",
      "source": [
        "x_trans=np.zeros_like(x_test)\n",
        "x_trans[:,2:,:]=x_test[:,:-2,:]\n",
        "model.evaluate(x_trans, y_test, verbose=0)"
      ],
      "execution_count": 0,
      "outputs": [
        {
          "output_type": "execute_result",
          "data": {
            "text/plain": [
              "[0.3205677197408953, 0.9543]"
            ]
          },
          "metadata": {
            "tags": []
          },
          "execution_count": 19
        }
      ]
    },
    {
      "metadata": {
        "id": "4aCbbXLa0E4O",
        "colab_type": "text"
      },
      "cell_type": "markdown",
      "source": [
        "The accuracy is 95.4%. Compared to the 89% we got earlier, this is much better, it shows a more robust model to translation."
      ]
    },
    {
      "metadata": {
        "id": "NpqkdcNRCj4S",
        "colab_type": "text"
      },
      "cell_type": "markdown",
      "source": [
        "# Tasks and experiments\n",
        "Here are the problems to solve:\n",
        "\n",
        "* Change the padding in the Convolutional layers so that the output and the input have the same size.\n",
        "* Looking at the loss curves, you can see that the test loss started to increase from around 5th epoch. Add Early Stopping to the model to prevent overfitting. In Keras, you can do that using the [EarlyStoping](https://keras.io/callbacks/#earlystopping) [callback](https://keras.io/callbacks/).\n",
        "* Download the CIFAR-10 dataset and apply the CNN we used for the MNIST dataset. Try adding more layers to improve the results. (The CIFAR-10 is included in Keras, you can find more information at [keras.io/datasets](https://keras.io/datasets/))"
      ]
    }
  ]
}