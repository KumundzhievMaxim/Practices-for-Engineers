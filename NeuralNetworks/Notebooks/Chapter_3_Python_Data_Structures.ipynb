{
  "nbformat": 4,
  "nbformat_minor": 0,
  "metadata": {
    "colab": {
      "name": "Chapter_3_Python_Data_Structures.ipynb",
      "version": "0.3.2",
      "provenance": [],
      "collapsed_sections": []
    },
    "kernelspec": {
      "display_name": "Python 3",
      "language": "python",
      "name": "python3"
    }
  },
  "cells": [
    {
      "metadata": {
        "id": "MqOvr2tRuBs9",
        "colab_type": "text"
      },
      "cell_type": "markdown",
      "source": [
        "**Created by:**\n",
        "\n",
        "__[Gábor Tompa](https://github.com/Galdair)__ (code and text)\n",
        "<br>\n",
        "__[Zoltán Ádám Milacski](https://github.com/srph25)__ (text error fixing and code optimization)\n",
        "\n",
        "\n",
        "\n",
        "<br>\n",
        "\n",
        "**Edited by:**\n",
        "\n",
        "__[Zoltán Ádám Milacski](https://github.com/srph25)__\n",
        "\n",
        "<br>\n",
        "\n",
        "<img src=\"https://docs.google.com/uc?export=download&id=1WzgXsCoz8O-NeBlJTbuLPC1iIFDmgYt1\" style=\"display:inline-block\">\n",
        "<hr>"
      ]
    },
    {
      "metadata": {
        "id": "THYerMrsuBtD",
        "colab_type": "text"
      },
      "cell_type": "markdown",
      "source": [
        "# Chapter 3: Python: Data Structures"
      ]
    },
    {
      "metadata": {
        "id": "Wy-yEDGOuBtH",
        "colab_type": "text"
      },
      "cell_type": "markdown",
      "source": [
        "# List\n",
        "* Basic sequential mutable array\n",
        "* Indexing starts at zero\n",
        "* Can be jagged\n",
        "* Can insert, append, delete elements\n",
        "* Object just like anything else in Python\n",
        "\n",
        "# Tuple\n",
        "* Basic immutable list\n",
        "* Can be used handily when you want to pass around data safely\n",
        "* Every non mutable list operations works on them\n",
        "\n",
        "# Dict\n",
        "* Key-value mapping object\n",
        "* Useful when you want to search, or use strings as id-s\n",
        "* Can be iterated through the keys(), values(), items() methods"
      ]
    },
    {
      "metadata": {
        "id": "FFuXg89XuBtN",
        "colab_type": "text"
      },
      "cell_type": "markdown",
      "source": [
        "# Lists and Strings"
      ]
    },
    {
      "metadata": {
        "id": "qA0iV6CguBtQ",
        "colab_type": "code",
        "outputId": "fc3f09d6-16e7-498f-d650-3d0d27baaf1a",
        "colab": {}
      },
      "cell_type": "code",
      "source": [
        "basic_list = [1, 2, 3, 4, 5]\n",
        "print(basic_list)\n",
        "\n",
        "list_from_constructor = list()\n",
        "print(list_from_constructor)\n",
        "\n",
        "list_with_preloaded_constructor = list([1, 23, 4, 4])\n",
        "print(list_with_preloaded_constructor)\n",
        "\n",
        "jagged_list = [2, 3, 3.5, 'k']\n",
        "print(jagged_list, 'a classic jagged list can contain any object in python')\n",
        "\n",
        "indexing_a_list = basic_list[2] # Indexing starts with ZERO and goes to length-1\n",
        "print(indexing_a_list, 'third element')\n",
        "\n",
        "length = len(jagged_list) # this is a function returning an int, the length of the given list\n",
        "print(length, 'length of the jagged list')\n",
        "\n",
        "basic_list.append(3)\n",
        "print(basic_list, 'appending one element')\n",
        "\n",
        "basic_list.append([3, 4])\n",
        "print(basic_list, 'after the second appendment')\n",
        "\n",
        "#STRINGS\n",
        "\n",
        "basic_string = \"this is a piece of string\"\n",
        "print(basic_string, 'this is just a normal string')\n",
        "\n",
        "string_from_constructor = str('hey')\n",
        "print(string_from_constructor, 'the str() constructor can also be used to convert ints or other objects to string')\n",
        "\n",
        "string_with_sinqle_quotes = 'this is also a string,there is no disctinction'\n",
        "string_with_a_single_letter = 'k'\n",
        "list_of_lists = [[21, 4], \"a string is also a list\", 3]\n",
        "\n",
        "print(list_of_lists, 'a truly jagged list')"
      ],
      "execution_count": 0,
      "outputs": [
        {
          "output_type": "stream",
          "text": [
            "[1, 2, 3, 4, 5]\n",
            "[]\n",
            "[1, 23, 4, 4]\n",
            "[2, 3, 3.5, 'k'] a classic jagged list can contain any object in python\n",
            "3 third element\n",
            "4 length of the jagged list\n",
            "[1, 2, 3, 4, 5, 3] appending one element\n",
            "[1, 2, 3, 4, 5, 3, [3, 4]] after the second appendment\n",
            "this is a piece of string this is just a normal string\n",
            "hey the str() constructor can also be used to convert ints or other objects to string\n",
            "[[21, 4], 'a string is also a list', 3] a truly jagged list\n"
          ],
          "name": "stdout"
        }
      ]
    },
    {
      "metadata": {
        "id": "EbEPDxnVuBtd",
        "colab_type": "text"
      },
      "cell_type": "markdown",
      "source": [
        "# Tuples"
      ]
    },
    {
      "metadata": {
        "id": "17LOr6CauBti",
        "colab_type": "code",
        "outputId": "660d4f65-6d46-4fb2-b363-bbe3a1a2cf94",
        "colab": {}
      },
      "cell_type": "code",
      "source": [
        "basic_tuple = (1, 2) # inmutable list, or N-ary item\n",
        "\n",
        "print(basic_tuple[0]) # can be indexed\n",
        "\n",
        "# can't be changed (comment it out)\n",
        "# TypeError: 'tuple' object does not support item assignment\n",
        "# basic_tuple[0] = 4\n",
        "\n",
        "another_tuple = (2, 4, 5, 67, 'string', [34, 53])\n",
        "another_tuple[5].append(5)\n",
        "\n",
        "print(another_tuple,'anything in the tuple that is mutable,can be changed')"
      ],
      "execution_count": 0,
      "outputs": [
        {
          "output_type": "stream",
          "text": [
            "1\n",
            "(2, 4, 5, 67, 'string', [34, 53, 5]) anything in the tuple that is mutable,can be changed\n"
          ],
          "name": "stdout"
        }
      ]
    },
    {
      "metadata": {
        "id": "Ewg76nIyuBtz",
        "colab_type": "text"
      },
      "cell_type": "markdown",
      "source": [
        "# Dictionaries"
      ]
    },
    {
      "metadata": {
        "id": "2vDqMUPTuBt3",
        "colab_type": "code",
        "outputId": "5894232f-d6e6-4a66-8115-5c360e33bf5f",
        "colab": {}
      },
      "cell_type": "code",
      "source": [
        "jagged_list = [2, 3, 3.5, 'k']\n",
        "basic_list = [1, 2, 3, 4, 5]\n",
        "\n",
        "basic_dict = {1: 23, 4: 34}\n",
        "dict_with_string_keys = {'one': 3, \"two\": 5}\n",
        "print(basic_dict, 'dicts can have any immutable object as key. Numbers, strings or tuples are accepted')\n",
        "\n",
        "#Working with Containers\n",
        "\n",
        "print(4 in another_tuple, 'you can check if an element is inside a container')\n",
        "for i in basic_list:\n",
        "    print('you can iterate with a for. This is the main use of a python for loop', i)\n",
        "for key, value in basic_dict.items():\n",
        "    print('you can iterate on keys and values in a dict', key, ':', value)\n",
        "print(jagged_list[2:4], 'you can slice a list by giving [start_pos:end_pos]')\n",
        "print(jagged_list[0:2:4],'or by giving how much step it should take at a time in the middle')"
      ],
      "execution_count": 0,
      "outputs": [
        {
          "output_type": "stream",
          "text": [
            "{1: 23, 4: 34} dicts can have any inmutable object as key.Numbers and hard coded string, \n",
            " or tuples that only contain these are accepted\n",
            "True you can check if an element is inside a container\n",
            "you can iterate with a for.This is the main use of a python for loop 1\n",
            "you can iterate with a for.This is the main use of a python for loop 2\n",
            "you can iterate with a for.This is the main use of a python for loop 3\n",
            "you can iterate with a for.This is the main use of a python for loop 4\n",
            "you can iterate with a for.This is the main use of a python for loop 5\n",
            "you can iterate on keys and values in a dict 1 : 23\n",
            "you can iterate on keys and values in a dict 4 : 34\n",
            "[3.5, 'k'] you can slice a list by giving [start_pos:end_pos]\n",
            "[2] or by giving how much step should it take at a time in the middle\n"
          ],
          "name": "stdout"
        }
      ]
    },
    {
      "metadata": {
        "id": "V2IbwbmQuBuD",
        "colab_type": "text"
      },
      "cell_type": "markdown",
      "source": [
        "# References\n",
        "\n",
        "* Basic  tutorial: https://www.scipy-lectures.org/intro/language/basic_types.html#containers\n",
        "\n",
        "* More on dicts: https://docs.python.org/3/tutorial/datastructures.html#dictionaries\n",
        "\n",
        "* Lists, strings, dicts: http://interactivepython.org/runestone/static/thinkcspy/Lists/toctree.html"
      ]
    },
    {
      "metadata": {
        "id": "n2fNhuvluBuI",
        "colab_type": "code",
        "colab": {}
      },
      "cell_type": "code",
      "source": [
        ""
      ],
      "execution_count": 0,
      "outputs": []
    }
  ]
}