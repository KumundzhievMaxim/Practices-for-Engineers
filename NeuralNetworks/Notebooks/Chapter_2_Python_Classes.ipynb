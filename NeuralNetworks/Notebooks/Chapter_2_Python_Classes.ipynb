{
  "nbformat": 4,
  "nbformat_minor": 0,
  "metadata": {
    "colab": {
      "name": "Chapter_2_Python_Classes.ipynb",
      "version": "0.3.2",
      "provenance": [],
      "collapsed_sections": []
    },
    "kernelspec": {
      "display_name": "Python 3",
      "language": "python",
      "name": "python3"
    }
  },
  "cells": [
    {
      "metadata": {
        "id": "W3N42Jx_tkqh",
        "colab_type": "text"
      },
      "cell_type": "markdown",
      "source": [
        "**Created by:**\n",
        "\n",
        "__[Gábor Tompa](https://github.com/Galdair)__ (code and text)\n",
        "<br>\n",
        "__[Zoltán Ádám Milacski](https://github.com/srph25)__ (text error fixing and code optimization)\n",
        "\n",
        "\n",
        "\n",
        "<br>\n",
        "\n",
        "**Edited by:**\n",
        "\n",
        "__[Zoltán Ádám Milacski](https://github.com/srph25)__\n",
        "\n",
        "<br>\n",
        "\n",
        "<img src=\"https://docs.google.com/uc?export=download&id=1WzgXsCoz8O-NeBlJTbuLPC1iIFDmgYt1\" style=\"display:inline-block\">\n",
        "<hr>"
      ]
    },
    {
      "metadata": {
        "id": "IS5YmGF0tkqo",
        "colab_type": "text"
      },
      "cell_type": "markdown",
      "source": [
        "# Chapter 2: Python: Classes\n",
        "\n",
        "## Basics of OOP\n",
        "* Object Oriented Programming\n",
        "* Everything is an object\n",
        "    * It has attributes\n",
        "    * It can do things\n",
        "* In Python OOP the class is how we define an abstract object\n",
        "* Which we after that make into real Python Objects by calling the __init__ function of it (can be explicitly defined)\n",
        "* In Python everything is an object\n",
        "    * int, float, str\n",
        "    * User Defined objects\n",
        "    \n",
        "## Inheritance and OOP\n",
        "* Inheritance is the usual, just like Java\n",
        "* Can override methods\n",
        "* Can use parent members\n",
        "* Multiple inheritance is supported too"
      ]
    },
    {
      "metadata": {
        "id": "sGwBPkBntkqs",
        "colab_type": "code",
        "outputId": "71aeca9c-6be0-43ca-89ef-92efbce70661",
        "colab": {}
      },
      "cell_type": "code",
      "source": [
        "class Sample: # the simplest class you can have\n",
        "    pass\n",
        "\n",
        "class StructLike: # You can have C struct like classes, but it's not used very often\n",
        "    this_is_a_variable = 5\n",
        "instance_of_structlike = StructLike()\n",
        "\n",
        "print(instance_of_structlike.this_is_a_variable)\n",
        "\n",
        "instance_of_structlike.this_is_a_variable = [3, 4, 5] # these variables can be of any type\n",
        "\n",
        "print(instance_of_structlike.this_is_a_variable)   \n",
        "\n",
        "instance_of_structlike.this_is_new = 6 # you can make new variables and append them to the instance\n",
        "\n",
        "class MethodClass: # Note The Pascal case which is PEP 8 compatible\n",
        "    def class_method(self, a): # methods must contain a self variable which is a reference to the instance\n",
        "        return a * a\n",
        "    def class_method2(self, arg1, arg2): # but can have any number of arguments\n",
        "        print(arg1,arg2)\n",
        "        return arg1.uppercase()\n",
        "instance_of_method_class = MethodClass()\n",
        "print(instance_of_method_class.class_method(4))\n",
        "\n",
        "class ProperPythonClass:\n",
        "    def __init__(self, name, important_arg): # most classes contain __init__ methods, which are constructors\n",
        "        self.name = name # TODO SETTATTR GETTATR AND OTHER __xyz__ stuff\n",
        "        self.important_arg = important_arg # there is no naming collision TODO: SCOPES\n",
        "    def print_method(self):\n",
        "        print(self.important_arg)\n",
        "        \n",
        "proper_instance = ProperPythonClass(\"instance1\", \"This is valuable information\")\n",
        "proper_instance.print_method()"
      ],
      "execution_count": 0,
      "outputs": [
        {
          "output_type": "stream",
          "text": [
            "5\n",
            "[3, 4, 5]\n",
            "16\n",
            "This is valuable information\n"
          ],
          "name": "stdout"
        }
      ]
    },
    {
      "metadata": {
        "id": "IdEUbjqYtkq_",
        "colab_type": "text"
      },
      "cell_type": "markdown",
      "source": [
        "## Inheritance and more OOP"
      ]
    },
    {
      "metadata": {
        "id": "0TJkS32qtkrD",
        "colab_type": "code",
        "outputId": "8bf26031-0f5b-4624-a7aa-2a68754cc84d",
        "colab": {}
      },
      "cell_type": "code",
      "source": [
        "class Person:\n",
        "    def __init__(self, name, job, status):\n",
        "        self.name = name\n",
        "        self.job = job\n",
        "        self.status = status\n",
        "        self.quality = 0\n",
        "    def decide_life_quality(self):\n",
        "        quality = self.quality # this is necessary because the life quality would always increase\n",
        "        if self.job is not \"\":\n",
        "            quality += 1\n",
        "        if self.status is not \"single\":\n",
        "            quality +=1\n",
        "        else:\n",
        "            quality -= 1\n",
        "        return quality\n",
        "    \n",
        "class Child(Person): # Child class, inheriting certain aspects, able to override others\n",
        "    def __init__(self, name):\n",
        "        self.name = name\n",
        "        self.job = \"Playing\"\n",
        "        self.status = \"In a Caring Family\"\n",
        "        self.quality = 2\n",
        "\n",
        "        \n",
        "timothy = Person(\"Timothy\", \"Ministry asssistant\", \"Complicated\")\n",
        "print(timothy.decide_life_quality())\n",
        "timmy = Child(\"Timmy\")\n",
        "print(timmy.decide_life_quality()) # we did not need to write the method again\n",
        "\n",
        "class ChildSinger:\n",
        "    def __init__(self, name, manager_name, singer_name):\n",
        "        self.name = name\n",
        "        self.manager = Person(manager_name, \"manager\", \"married to work\") # use custom objects to define new class\n",
        "        self.singer = Child(singer_name)\n",
        "        self.singer.job = \"singer\" # if needed, we can modify every property of the instance\n",
        "jackson1outof5 = ChildSinger(\"One of the Jackson 5\", \"Dad\", \"Micheal\")\n",
        "print(jackson1outof5.singer.decide_life_quality()) # we can also use methods in the composite class"
      ],
      "execution_count": 0,
      "outputs": [
        {
          "output_type": "stream",
          "text": [
            "2\n",
            "4\n",
            "4\n"
          ],
          "name": "stdout"
        }
      ]
    },
    {
      "metadata": {
        "id": "ilZufj-9tkrR",
        "colab_type": "text"
      },
      "cell_type": "markdown",
      "source": [
        "# References\n",
        "\n",
        "* Basic tutorial: https://www.scipy-lectures.org/intro/language/oop.html\n",
        "* Interactive tutorial: http://interactivepython.org/runestone/static/thinkcspy/ClassesBasics/toctree.html\n",
        "* Object-oriented programming explained: https://en.wikipedia.org/wiki/Object-oriented_programming\n",
        "* Python documentation: https://docs.python.org/3/tutorial/classes.html"
      ]
    },
    {
      "metadata": {
        "id": "fkYiD3oGtkrU",
        "colab_type": "code",
        "colab": {}
      },
      "cell_type": "code",
      "source": [
        ""
      ],
      "execution_count": 0,
      "outputs": []
    }
  ]
}