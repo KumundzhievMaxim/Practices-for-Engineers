{
  "nbformat": 4,
  "nbformat_minor": 0,
  "metadata": {
    "colab": {
      "name": "Keras - Dense Layers.ipynb",
      "version": "0.3.2",
      "provenance": [],
      "collapsed_sections": [],
      "toc_visible": true
    },
    "kernelspec": {
      "display_name": "Python 3",
      "language": "python",
      "name": "python3"
    },
    "accelerator": "GPU"
  },
  "cells": [
    {
      "metadata": {
        "id": "ZAG41H1x0s9C",
        "colab_type": "text"
      },
      "cell_type": "markdown",
      "source": [
        "# Multilayer Perceptron in Keras\n",
        "In this lesson we will build a multi-layer perceptron (shortened as MLP) classifier. It will recognise handwritten digits from the famous MNIST dataset. When you are reading papers, you'll find often that MNIST is used as a simple toy problem to test new ideas on.\n",
        "\n",
        "## Loading MNIST\n",
        "Fortunately Keras already has a function that automatically downloads MNIST so it saves us many lines of codes. First we load the data and then visualize the training examples."
      ]
    },
    {
      "metadata": {
        "id": "QamtKcOl2GEY",
        "colab_type": "code",
        "outputId": "6dc65105-33d0-4cb7-d28e-ec45ace1548f",
        "colab": {
          "base_uri": "https://localhost:8080/",
          "height": 72
        }
      },
      "cell_type": "code",
      "source": [
        "from keras.datasets import mnist\n",
        "import numpy as np\n",
        "import matplotlib.pyplot as plt\n",
        "\n",
        "# Load MNIST dataset\n",
        "(x_train, y_train), (x_test, y_test) = mnist.load_data()\n",
        "\n",
        "# Normalize the training and test data, helps the training algorithm\n",
        "x_train = x_train / 255.0\n",
        "x_test = x_test / 255.0\n",
        "\n",
        "print(\"Number of training examples:\", len(x_train))\n",
        "print(\"Number of test examples:\", len(x_test))\n",
        "print(\"Image resolution:\", x_train.shape[1:])"
      ],
      "execution_count": 0,
      "outputs": [
        {
          "output_type": "stream",
          "text": [
            "Number of training examples: 60000\n",
            "Number of test examples: 10000\n",
            "Image resolution: (28, 28)\n"
          ],
          "name": "stdout"
        }
      ]
    },
    {
      "metadata": {
        "id": "f4-VJAuRn5Uu",
        "colab_type": "code",
        "colab": {}
      },
      "cell_type": "code",
      "source": [
        ""
      ],
      "execution_count": 0,
      "outputs": []
    },
    {
      "metadata": {
        "id": "NTsg6V_I3AX4",
        "colab_type": "text"
      },
      "cell_type": "markdown",
      "source": [
        "As you can see above, the dataset contains 28x28 black and white images. Now we randomly select some of the training examples"
      ]
    },
    {
      "metadata": {
        "id": "kXxZipJx3bBk",
        "colab_type": "code",
        "outputId": "ad3ba30d-7cc5-4a0a-f132-777f88262a63",
        "colab": {
          "base_uri": "https://localhost:8080/",
          "height": 351
        }
      },
      "cell_type": "code",
      "source": [
        "selected = np.random.choice(len(x_train),15)\n",
        "\n",
        "plt.figure()\n",
        "for i, ind in enumerate(selected):\n",
        "  plt.subplot(3,5,i+1)\n",
        "  plt.imshow(x_train[ind])\n",
        "  plt.title(\"Label: %d\" % y_train[ind])\n",
        "  plt.axis('off')"
      ],
      "execution_count": 0,
      "outputs": [
        {
          "output_type": "display_data",
          "data": {
            "image/png": "[encoded data removed]",
            "text/plain": [
              "<Figure size 576x396 with 15 Axes>"
            ]
          },
          "metadata": {
            "tags": []
          }
        }
      ]
    },
    {
      "metadata": {
        "colab_type": "text",
        "id": "Y6baP_EwLgjr"
      },
      "cell_type": "markdown",
      "source": [
        "# Dense layer\n",
        "\n",
        "There are many types of layers in a neural network, on the lecture we have seen only one so far, the so called dense layer or fully connected layer. As a reminder it can be written as:\n",
        "\n",
        "$$y =g(Wx + b),$$ \n",
        "\n",
        "where $W$ is the weight matrix (also called kernel in keras), $x$ the input vector, $b$ is the bias vector.\n",
        "\n",
        "In a dense layer each neuron recieves input from all the neurons in the previous layer. The layer has a weight matrix, a bias vector, and the activations of previous layer. \n",
        "\n",
        "A dense layer can be used to change the dimensionality of the input vector. It is also applicable if there is no structure in the data (i.e. it is not a picture, sound), as it can choose from all the possible connections between two layers. One drawback of  fully connected layers is that they have lots of parameters. A dense layer of 1000 neurons following another dense layer of 1000 neurons have $1000\\cdot1000+1000=1001000$ parameters!"
      ]
    },
    {
      "metadata": {
        "colab_type": "text",
        "id": "gm87Y1wegUPR"
      },
      "cell_type": "markdown",
      "source": [
        "## Dense layer in Keras\n",
        "\n",
        "Class Dense is in the ***keras.layers*** module. Its signature:\n",
        "```\n",
        "keras.layers.Dense(units, \n",
        "                   activation=None,\n",
        "                   input_shape=None,\n",
        "                   use_bias=True, \n",
        "                   kernel_initializer='glorot_uniform', \n",
        "                   bias_initializer='zeros')\n",
        "```\n",
        "\n",
        "**Main arguments**\n",
        "\n",
        "*  **units:** Positive integer, dimensionality of the output space. This is the number of neurons in the layer.\n",
        "*  **activation:** Activation function to use. If you don't specify anything, no activation is applied (ie. \"linear\" activation: a(x) = x). Corresponds to $g$ in the formula above (see [activations](https://keras.io/activations/)).\n",
        "*  **kernel_initializer:** Initializer for the kernel weights matrix $W$. It defines how the initial random weights of the layer are calculated (see [initializers](https://keras.io/initializers/)).\n",
        "*  **bias_initializer:** Initializer for the bias vector $b$. It defines how the initial random weights of the layer are calculatedr (see [initializers](https://keras.io/initializers/)).\n",
        "* **input_shape:** The shape of the input data vector. You must specify it only for the first layer, after that it is automatically calculated.\n",
        "\n"
      ]
    },
    {
      "metadata": {
        "id": "THSZ9q0Q7bQY",
        "colab_type": "text"
      },
      "cell_type": "markdown",
      "source": [
        "This little peice of code shows how to create a Keras model with two layers: one with 32 neurons and another with 10 neurons"
      ]
    },
    {
      "metadata": {
        "colab_type": "code",
        "id": "x29eKlvMfl3q",
        "outputId": "90e33777-d014-4483-9675-140a6c6ceaf6",
        "colab": {
          "base_uri": "https://localhost:8080/",
          "height": 217
        }
      },
      "cell_type": "code",
      "source": [
        "from keras.models import Sequential\n",
        "from keras.layers import Dense\n",
        "\n",
        "# Create a sequential model. In a sequential model layers simply follow each other.\n",
        "# There are networks whose architecture is more complex and cannot be\n",
        "# described as layers on top of each other\n",
        "model = Sequential()\n",
        "\n",
        "# now the model will take as input arrays of shape (*, 16)\n",
        "# and output arrays of shape (*, 32)\n",
        "model.add(Dense(32, input_shape=(16,)))\n",
        "\n",
        "# after the first layer, you don't need to specify\n",
        "# the size of the input anymore:\n",
        "model.add(Dense(10))\n",
        "\n",
        "# Print summary of the network\n",
        "model.summary()"
      ],
      "execution_count": 0,
      "outputs": [
        {
          "output_type": "stream",
          "text": [
            "_________________________________________________________________\n",
            "Layer (type)                 Output Shape              Param #   \n",
            "=================================================================\n",
            "dense_17 (Dense)             (None, 32)                544       \n",
            "_________________________________________________________________\n",
            "dense_18 (Dense)             (None, 10)                330       \n",
            "=================================================================\n",
            "Total params: 874\n",
            "Trainable params: 874\n",
            "Non-trainable params: 0\n",
            "_________________________________________________________________\n"
          ],
          "name": "stdout"
        }
      ]
    },
    {
      "metadata": {
        "colab_type": "text",
        "id": "6lPvIuxfn-4G"
      },
      "cell_type": "markdown",
      "source": [
        "## Example Keras model on MNIST dataset\n",
        "In this section we will train a simple classifier that recognizes digits in the dataset."
      ]
    },
    {
      "metadata": {
        "colab_type": "code",
        "id": "bL6hPoQZnycv",
        "colab": {}
      },
      "cell_type": "code",
      "source": [
        "from keras.models import Sequential\n",
        "from keras.layers import Dense, Flatten, Dropout, Input\n",
        "from keras.utils import plot_model\n",
        "from keras.datasets import mnist\n",
        "import matplotlib.pyplot as plt"
      ],
      "execution_count": 0,
      "outputs": []
    },
    {
      "metadata": {
        "colab_type": "code",
        "id": "tmS8qyP8ogPm",
        "colab": {}
      },
      "cell_type": "code",
      "source": [
        "# Define the model\n",
        "model = Sequential()\n",
        "\n",
        "model.add(Flatten(input_shape=(28,28)))  # MNIST has 28x28 images. We reshape the input image to a 784 long vector\n",
        "model.add(Dense(512, activation='relu')) # A simple dense layer with ReLU activation\n",
        "model.add(Dropout(0.2))  # The dropout layer helps generalisation. It randomly drops 0.2 of its inputs.\n",
        "model.add(Dense(10, activation='softmax')) # Softmax activation function makes sure in the output everything is between 0 and 1"
      ],
      "execution_count": 0,
      "outputs": []
    },
    {
      "metadata": {
        "id": "qOZy4NUcyPPf",
        "colab_type": "text"
      },
      "cell_type": "markdown",
      "source": [
        "The activation function of the last layer is the [softmax](https://en.wikipedia.org/wiki/Softmax_function) function. It is the multi-variable equivalent of the sigmoid function. It squashes all the input variables between 0 and 1 such that the sum af the ouputs is 1. This makes it ideal to turn the input into a probability distribution.\n",
        "\n",
        "You can think of the output of this neural network as a probabilities of the input image being 0, 1, ... 9."
      ]
    },
    {
      "metadata": {
        "colab_type": "code",
        "id": "HqWW_nfpohhn",
        "colab": {}
      },
      "cell_type": "code",
      "source": [
        "# Before training a model, you need to configure the learning process with compile() function\n",
        "model.compile(optimizer='adam', # The optimisation method\n",
        "              loss='sparse_categorical_crossentropy', # Loss function. Sparse categorical crossentropy can be used if the targets are numbers\n",
        "              metrics=['accuracy']) # Used to monitor the training and testing steps. It uses accuracy, the fraction of the images that are correctly classified"
      ],
      "execution_count": 0,
      "outputs": []
    },
    {
      "metadata": {
        "colab_type": "code",
        "id": "odNID2UOuqYS",
        "outputId": "45df0b42-085a-4bce-86a1-d1c45582cb89",
        "colab": {
          "base_uri": "https://localhost:8080/",
          "height": 290
        }
      },
      "cell_type": "code",
      "source": [
        "# Prints a summary representation of your model\n",
        "model.summary()"
      ],
      "execution_count": 0,
      "outputs": [
        {
          "output_type": "stream",
          "text": [
            "_________________________________________________________________\n",
            "Layer (type)                 Output Shape              Param #   \n",
            "=================================================================\n",
            "flatten_5 (Flatten)          (None, 784)               0         \n",
            "_________________________________________________________________\n",
            "dense_19 (Dense)             (None, 512)               401920    \n",
            "_________________________________________________________________\n",
            "dropout_4 (Dropout)          (None, 512)               0         \n",
            "_________________________________________________________________\n",
            "dense_20 (Dense)             (None, 10)                5130      \n",
            "=================================================================\n",
            "Total params: 407,050\n",
            "Trainable params: 407,050\n",
            "Non-trainable params: 0\n",
            "_________________________________________________________________\n"
          ],
          "name": "stdout"
        }
      ]
    },
    {
      "metadata": {
        "colab_type": "code",
        "id": "NHalL_3EoiR2",
        "outputId": "bd4619a9-0324-4c61-b736-11d897cf20f5",
        "colab": {
          "base_uri": "https://localhost:8080/",
          "height": 1125
        }
      },
      "cell_type": "code",
      "source": [
        "# fit() function is training the neural network model\n",
        "# Returns a History object that contains all information collected during training\n",
        "history = model.fit(x_train, # Train images\n",
        "                    y_train, # Train labels\n",
        "                    epochs=30, # Number of epochs to train the model. An epoch is an iteration over the entire x_train and y_train data provided\n",
        "                    validation_data=(x_test, y_test)) # Tuple on which to evaluate the loss and any model metrics at the end of each epoch. The model will not be trained on this data\n"
      ],
      "execution_count": 0,
      "outputs": [
        {
          "output_type": "stream",
          "text": [
            "Train on 60000 samples, validate on 10000 samples\n",
            "Epoch 1/30\n",
            "60000/60000 [==============================] - 9s 149us/step - loss: 0.2165 - acc: 0.9364 - val_loss: 0.0993 - val_acc: 0.9696\n",
            "Epoch 2/30\n",
            "60000/60000 [==============================] - 9s 142us/step - loss: 0.0981 - acc: 0.9702 - val_loss: 0.0942 - val_acc: 0.9697\n",
            "Epoch 3/30\n",
            "60000/60000 [==============================] - 9s 142us/step - loss: 0.0702 - acc: 0.9781 - val_loss: 0.0662 - val_acc: 0.9794\n",
            "Epoch 4/30\n",
            "60000/60000 [==============================] - 9s 142us/step - loss: 0.0551 - acc: 0.9825 - val_loss: 0.0701 - val_acc: 0.9781\n",
            "Epoch 5/30\n",
            "60000/60000 [==============================] - 8s 141us/step - loss: 0.0436 - acc: 0.9856 - val_loss: 0.0667 - val_acc: 0.9804\n",
            "Epoch 6/30\n",
            "60000/60000 [==============================] - 9s 142us/step - loss: 0.0371 - acc: 0.9878 - val_loss: 0.0708 - val_acc: 0.9781\n",
            "Epoch 7/30\n",
            "60000/60000 [==============================] - 9s 142us/step - loss: 0.0323 - acc: 0.9892 - val_loss: 0.0697 - val_acc: 0.9807\n",
            "Epoch 8/30\n",
            "60000/60000 [==============================] - 9s 142us/step - loss: 0.0275 - acc: 0.9907 - val_loss: 0.0689 - val_acc: 0.9809\n",
            "Epoch 9/30\n",
            "60000/60000 [==============================] - 9s 142us/step - loss: 0.0260 - acc: 0.9916 - val_loss: 0.0739 - val_acc: 0.9810\n",
            "Epoch 10/30\n",
            "60000/60000 [==============================] - 8s 142us/step - loss: 0.0220 - acc: 0.9927 - val_loss: 0.0691 - val_acc: 0.9826\n",
            "Epoch 11/30\n",
            "60000/60000 [==============================] - 8s 142us/step - loss: 0.0198 - acc: 0.9933 - val_loss: 0.0689 - val_acc: 0.9831\n",
            "Epoch 12/30\n",
            "60000/60000 [==============================] - 8s 141us/step - loss: 0.0183 - acc: 0.9938 - val_loss: 0.0645 - val_acc: 0.9851\n",
            "Epoch 13/30\n",
            "60000/60000 [==============================] - 9s 146us/step - loss: 0.0178 - acc: 0.9939 - val_loss: 0.0691 - val_acc: 0.9844\n",
            "Epoch 14/30\n",
            "60000/60000 [==============================] - 9s 142us/step - loss: 0.0178 - acc: 0.9941 - val_loss: 0.0781 - val_acc: 0.9828\n",
            "Epoch 15/30\n",
            "60000/60000 [==============================] - 9s 143us/step - loss: 0.0151 - acc: 0.9951 - val_loss: 0.0858 - val_acc: 0.9820\n",
            "Epoch 16/30\n",
            "60000/60000 [==============================] - 9s 142us/step - loss: 0.0153 - acc: 0.9950 - val_loss: 0.0839 - val_acc: 0.9824\n",
            "Epoch 17/30\n",
            "60000/60000 [==============================] - 9s 142us/step - loss: 0.0145 - acc: 0.9955 - val_loss: 0.0773 - val_acc: 0.9841\n",
            "Epoch 18/30\n",
            "60000/60000 [==============================] - 9s 142us/step - loss: 0.0144 - acc: 0.9952 - val_loss: 0.0766 - val_acc: 0.9838\n",
            "Epoch 19/30\n",
            "60000/60000 [==============================] - 9s 142us/step - loss: 0.0133 - acc: 0.9956 - val_loss: 0.0927 - val_acc: 0.9820\n",
            "Epoch 20/30\n",
            "60000/60000 [==============================] - 9s 142us/step - loss: 0.0143 - acc: 0.9953 - val_loss: 0.0898 - val_acc: 0.9827\n",
            "Epoch 21/30\n",
            "60000/60000 [==============================] - 9s 144us/step - loss: 0.0123 - acc: 0.9959 - val_loss: 0.0888 - val_acc: 0.9824\n",
            "Epoch 22/30\n",
            "60000/60000 [==============================] - 9s 146us/step - loss: 0.0139 - acc: 0.9958 - val_loss: 0.0869 - val_acc: 0.9815\n",
            "Epoch 23/30\n",
            "60000/60000 [==============================] - 9s 142us/step - loss: 0.0116 - acc: 0.9963 - val_loss: 0.1001 - val_acc: 0.9820\n",
            "Epoch 24/30\n",
            "60000/60000 [==============================] - 9s 142us/step - loss: 0.0115 - acc: 0.9965 - val_loss: 0.0915 - val_acc: 0.9836\n",
            "Epoch 25/30\n",
            "60000/60000 [==============================] - 9s 142us/step - loss: 0.0128 - acc: 0.9961 - val_loss: 0.0970 - val_acc: 0.9821\n",
            "Epoch 26/30\n",
            "60000/60000 [==============================] - 9s 142us/step - loss: 0.0112 - acc: 0.9963 - val_loss: 0.0928 - val_acc: 0.9828\n",
            "Epoch 27/30\n",
            "60000/60000 [==============================] - 9s 143us/step - loss: 0.0108 - acc: 0.9967 - val_loss: 0.0972 - val_acc: 0.9836\n",
            "Epoch 28/30\n",
            "60000/60000 [==============================] - 9s 143us/step - loss: 0.0115 - acc: 0.9961 - val_loss: 0.0979 - val_acc: 0.9827\n",
            "Epoch 29/30\n",
            "60000/60000 [==============================] - 9s 142us/step - loss: 0.0099 - acc: 0.9969 - val_loss: 0.1053 - val_acc: 0.9827\n",
            "Epoch 30/30\n",
            "60000/60000 [==============================] - 9s 142us/step - loss: 0.0101 - acc: 0.9970 - val_loss: 0.1032 - val_acc: 0.9834\n"
          ],
          "name": "stdout"
        }
      ]
    },
    {
      "metadata": {
        "id": "CMsCEiMq2Zr5",
        "colab_type": "text"
      },
      "cell_type": "markdown",
      "source": [
        "Now we plot the training curves. The training curves shows how the loss and accuracy changes over time. It is a useful tool to debug the network. We will go into it in later lectures. By looking at the plots, you can see if the network is still training or has actually converged and you can stop training."
      ]
    },
    {
      "metadata": {
        "id": "9CFPBOcv1QZV",
        "colab_type": "code",
        "outputId": "3c8d37e5-bf55-42c3-9692-988348856785",
        "colab": {
          "base_uri": "https://localhost:8080/",
          "height": 294
        }
      },
      "cell_type": "code",
      "source": [
        "# Plot training & validation accuracy values\n",
        "plt.figure(figsize=(9,4))\n",
        "\n",
        "plt.subplot(1,2,1)\n",
        "plt.plot(history.history['acc'])\n",
        "plt.plot(history.history['val_acc'])\n",
        "plt.title('Model accuracy')\n",
        "plt.ylabel('Accuracy')\n",
        "plt.xlabel('Epoch')\n",
        "plt.legend(['Train accuracy', 'Test accuracy'], loc='upper left')\n",
        "\n",
        "# Plot training & validation loss values\n",
        "plt.subplot(1,2,2)\n",
        "plt.plot(history.history['loss'])\n",
        "plt.plot(history.history['val_loss'])\n",
        "plt.title('Model loss')\n",
        "plt.ylabel('Loss')\n",
        "plt.xlabel('Epoch')\n",
        "plt.legend(['Train loss', 'Test loss'], loc='upper left')\n",
        "plt.show()"
      ],
      "execution_count": 0,
      "outputs": [
        {
          "output_type": "display_data",
          "data": {
            "image/png": "[encoded data removed]",
            "text/plain": [
              "<Figure size 648x288 with 2 Axes>"
            ]
          },
          "metadata": {
            "tags": []
          }
        }
      ]
    },
    {
      "metadata": {
        "colab_type": "code",
        "id": "9O8haLPoq53N",
        "outputId": "cf31a753-7659-4f7d-e26d-37a437e389e3",
        "colab": {
          "base_uri": "https://localhost:8080/",
          "height": 53
        }
      },
      "cell_type": "code",
      "source": [
        "# Evaluate the model\n",
        "# Returns the loss value & metrics values for the model in test mode\n",
        "loss, acc = model.evaluate(x_test, y_test, verbose=0)\n",
        "\n",
        "print('Test loss: {}'.format(loss))\n",
        "print('Test accuracy: {:.2%}'.format(acc))"
      ],
      "execution_count": 0,
      "outputs": [
        {
          "output_type": "stream",
          "text": [
            "Test loss: 0.10323660745825619\n",
            "Test accuracy: 98.34%\n"
          ],
          "name": "stdout"
        }
      ]
    },
    {
      "metadata": {
        "id": "XyvLp7nG03nd",
        "colab_type": "text"
      },
      "cell_type": "markdown",
      "source": [
        "We got a model that has a 98.3% classification accuracy."
      ]
    },
    {
      "metadata": {
        "colab_type": "text",
        "id": "R00fwetSvmir"
      },
      "cell_type": "markdown",
      "source": [
        "## Example Keras model on Iris dataset\n",
        "We will try to solve another dataset, the [Iris](https://archive.ics.uci.edu/ml/datasets/iris) dataset. It is much smaller than the previous one. It contains data about the flower sizes of three different species of the Iris flower. \n",
        "\n",
        "The task is to predict based on the sepal and petal sizes the actual species."
      ]
    },
    {
      "metadata": {
        "colab_type": "code",
        "id": "wkRHmHUZvivL",
        "colab": {}
      },
      "cell_type": "code",
      "source": [
        "import pandas as pd\n",
        "import numpy as np\n",
        "\n",
        "import matplotlib.pyplot as plt\n",
        "\n",
        "from keras.models import Sequential\n",
        "from keras.layers import Dense, Activation, Dropout\n",
        "from keras.utils import plot_model\n",
        "from keras import regularizers\n",
        "from keras.optimizers import SGD\n",
        "from keras.utils import to_categorical\n",
        "\n",
        "from sklearn.datasets import load_iris\n",
        "from sklearn.model_selection import train_test_split"
      ],
      "execution_count": 0,
      "outputs": []
    },
    {
      "metadata": {
        "colab_type": "code",
        "id": "q-C_ZAJr2KvZ",
        "outputId": "0c95dc74-324e-433e-ee04-fd160fdcdcea",
        "colab": {
          "base_uri": "https://localhost:8080/",
          "height": 181
        }
      },
      "cell_type": "code",
      "source": [
        "# Load the iris dataset\n",
        "iris_data = load_iris()\n",
        "\n",
        "print(\"Number of samples:\", len(iris_data.data))\n",
        "print('Example data: ')\n",
        "print(iris_data.data[:5])\n",
        "print('Example labels: ')\n",
        "print(iris_data.target[:5])"
      ],
      "execution_count": 0,
      "outputs": [
        {
          "output_type": "stream",
          "text": [
            "Number of samples: 150\n",
            "Example data: \n",
            "[[5.1 3.5 1.4 0.2]\n",
            " [4.9 3.  1.4 0.2]\n",
            " [4.7 3.2 1.3 0.2]\n",
            " [4.6 3.1 1.5 0.2]\n",
            " [5.  3.6 1.4 0.2]]\n",
            "Example labels: \n",
            "[0 0 0 0 0]\n"
          ],
          "name": "stdout"
        }
      ]
    },
    {
      "metadata": {
        "id": "PcE_xpey7LWY",
        "colab_type": "text"
      },
      "cell_type": "markdown",
      "source": [
        "When your target variables (the ones you want to predict) are classes, there are two ways to encode them. In the previous example we could use the straightforward numbering from 0 to 9. In this example we are going to use one-hot encoding.\n",
        "\n",
        "In the iris dataset target variables have three different values:"
      ]
    },
    {
      "metadata": {
        "id": "viiFwO5L9BP-",
        "colab_type": "code",
        "outputId": "f2f64d3c-1f1e-42a2-e0ef-8c18f41e46b5",
        "colab": {
          "base_uri": "https://localhost:8080/",
          "height": 35
        }
      },
      "cell_type": "code",
      "source": [
        "np.unique(iris_data.target)"
      ],
      "execution_count": 0,
      "outputs": [
        {
          "output_type": "execute_result",
          "data": {
            "text/plain": [
              "array([0, 1, 2])"
            ]
          },
          "metadata": {
            "tags": []
          },
          "execution_count": 54
        }
      ]
    },
    {
      "metadata": {
        "id": "HFeYBiok9IPP",
        "colab_type": "text"
      },
      "cell_type": "markdown",
      "source": [
        "In one-hot encoding instead of representing each class with a number, we represent them as a 0-1 vector, where the element at index *i* is 1 if the sample is in class *i*. For example (remember arrays are zero-indexed):\n",
        "\n",
        "\n",
        "```\n",
        "1 -> [0, 1, 0]\n",
        "2 -> [0, 0, 1]\n",
        "```\n",
        "\n",
        "Why is this good? You can think of a one-hot vector as a probability distribution where each element means the probability of the sample being in the class. For example, `[0,1,0]` means there is a 100% chance that the sample is in class 1. If you have multiple labels for a sample, or the annotation is unsure, you can say that it has 70% chance to be in class 1 and 30% chance to be in class 2.\n",
        "\n",
        "Luckily Keras has the builtin function `to_categorical` to do this for us."
      ]
    },
    {
      "metadata": {
        "colab_type": "code",
        "id": "mpuYIQoi3sYp",
        "colab": {}
      },
      "cell_type": "code",
      "source": [
        "# Load Iris dataset\n",
        "x = iris_data.data\n",
        "y = to_categorical(iris_data.target) # Convert data to one-hot encoding"
      ],
      "execution_count": 0,
      "outputs": []
    },
    {
      "metadata": {
        "id": "5rZT4hzJsS6V",
        "colab_type": "text"
      },
      "cell_type": "markdown",
      "source": [
        "Lets see how the targets looked like before and after the conversion:"
      ]
    },
    {
      "metadata": {
        "id": "wNyp2JI2_sjM",
        "colab_type": "code",
        "outputId": "9cb1082c-68e1-4087-da61-74e0fba81580",
        "colab": {
          "base_uri": "https://localhost:8080/",
          "height": 126
        }
      },
      "cell_type": "code",
      "source": [
        "inds = [0, 120]\n",
        "print(\"Original representation:\\n\", iris_data.target[inds])\n",
        "print()\n",
        "print(\"One-hot encoded representation:\\n\", y[inds])"
      ],
      "execution_count": 0,
      "outputs": [
        {
          "output_type": "stream",
          "text": [
            "Original representation:\n",
            " [0 2]\n",
            "\n",
            "One-hot encoded representation:\n",
            " [[1. 0. 0.]\n",
            " [0. 0. 1.]]\n"
          ],
          "name": "stdout"
        }
      ]
    },
    {
      "metadata": {
        "id": "IgQEOGtlAynx",
        "colab_type": "text"
      },
      "cell_type": "markdown",
      "source": [
        "For this example, we split the training and test set 80%/20%. The `train_test_split` also shuffles the data randomly."
      ]
    },
    {
      "metadata": {
        "colab_type": "code",
        "id": "-didRXpJ3yDY",
        "colab": {}
      },
      "cell_type": "code",
      "source": [
        "# Split the data for training and testing\n",
        "train_x, test_x, train_y, test_y = train_test_split(x, y, test_size=0.20)"
      ],
      "execution_count": 0,
      "outputs": []
    },
    {
      "metadata": {
        "colab_type": "code",
        "id": "vqA8VI-12WPR",
        "colab": {}
      },
      "cell_type": "code",
      "source": [
        "# Define model\n",
        "model = Sequential()\n",
        "\n",
        "model.add(Dense(10, activation='relu', input_shape=(4,)))\n",
        "model.add(Dense(10, activation='relu'))\n",
        "model.add(Dense(3, activation='softmax'))"
      ],
      "execution_count": 0,
      "outputs": []
    },
    {
      "metadata": {
        "colab_type": "code",
        "id": "aHM2tikD4Cnw",
        "colab": {}
      },
      "cell_type": "code",
      "source": [
        "# Before training a model, you need to configure the learning process with compile() function\n",
        "model.compile(optimizer='adam', \n",
        "              loss='categorical_crossentropy', # Use categorical crossentropy for one-hot encoded targets\n",
        "              metrics=['accuracy']) "
      ],
      "execution_count": 0,
      "outputs": []
    },
    {
      "metadata": {
        "colab_type": "code",
        "id": "sepW1lJm4Pow",
        "outputId": "80ebc4c0-acd1-4090-a11d-a689d7cad5f6",
        "colab": {
          "base_uri": "https://localhost:8080/",
          "height": 3669
        }
      },
      "cell_type": "code",
      "source": [
        "# fit() function is training the neural network model\n",
        "# Returns a History object that contains all information collected during training\n",
        "history = model.fit(train_x, # Train images\n",
        "                    train_y, # Train labels\n",
        "                    verbose=2, # Verbosity mode. 0 = silent, 1 = progress bar, 2 = one line per epoch\n",
        "                    epochs=100, # Number of epochs to train the model. An epoch is an iteration over the entire train_x and train_y data provided\n",
        "                    validation_data=(test_x, test_y)) # Tuple on which to evaluate the loss and any model metrics at the end of each epoch. The model will not be trained on this data"
      ],
      "execution_count": 0,
      "outputs": [
        {
          "output_type": "stream",
          "text": [
            "Train on 120 samples, validate on 30 samples\n",
            "Epoch 1/100\n",
            " - 0s - loss: 1.1272 - acc: 0.6833 - val_loss: 1.1848 - val_acc: 0.6000\n",
            "Epoch 2/100\n",
            " - 0s - loss: 1.0908 - acc: 0.6833 - val_loss: 1.1454 - val_acc: 0.6000\n",
            "Epoch 3/100\n",
            " - 0s - loss: 1.0558 - acc: 0.6833 - val_loss: 1.1101 - val_acc: 0.6000\n",
            "Epoch 4/100\n",
            " - 0s - loss: 1.0238 - acc: 0.6833 - val_loss: 1.0778 - val_acc: 0.6000\n",
            "Epoch 5/100\n",
            " - 0s - loss: 0.9961 - acc: 0.6833 - val_loss: 1.0496 - val_acc: 0.6000\n",
            "Epoch 6/100\n",
            " - 0s - loss: 0.9705 - acc: 0.6833 - val_loss: 1.0231 - val_acc: 0.6000\n",
            "Epoch 7/100\n",
            " - 0s - loss: 0.9466 - acc: 0.6833 - val_loss: 0.9998 - val_acc: 0.6000\n",
            "Epoch 8/100\n",
            " - 0s - loss: 0.9261 - acc: 0.6833 - val_loss: 0.9776 - val_acc: 0.6000\n",
            "Epoch 9/100\n",
            " - 0s - loss: 0.9072 - acc: 0.6833 - val_loss: 0.9594 - val_acc: 0.6000\n",
            "Epoch 10/100\n",
            " - 0s - loss: 0.8902 - acc: 0.6833 - val_loss: 0.9421 - val_acc: 0.6000\n",
            "Epoch 11/100\n",
            " - 0s - loss: 0.8743 - acc: 0.6833 - val_loss: 0.9255 - val_acc: 0.6000\n",
            "Epoch 12/100\n",
            " - 0s - loss: 0.8593 - acc: 0.6833 - val_loss: 0.9098 - val_acc: 0.6000\n",
            "Epoch 13/100\n",
            " - 0s - loss: 0.8455 - acc: 0.6833 - val_loss: 0.8955 - val_acc: 0.6000\n",
            "Epoch 14/100\n",
            " - 0s - loss: 0.8310 - acc: 0.6833 - val_loss: 0.8815 - val_acc: 0.6000\n",
            "Epoch 15/100\n",
            " - 0s - loss: 0.8178 - acc: 0.6833 - val_loss: 0.8684 - val_acc: 0.6000\n",
            "Epoch 16/100\n",
            " - 0s - loss: 0.8052 - acc: 0.6833 - val_loss: 0.8570 - val_acc: 0.6000\n",
            "Epoch 17/100\n",
            " - 0s - loss: 0.7927 - acc: 0.6833 - val_loss: 0.8465 - val_acc: 0.6000\n",
            "Epoch 18/100\n",
            " - 0s - loss: 0.7799 - acc: 0.6833 - val_loss: 0.8362 - val_acc: 0.6000\n",
            "Epoch 19/100\n",
            " - 0s - loss: 0.7682 - acc: 0.6833 - val_loss: 0.8261 - val_acc: 0.6000\n",
            "Epoch 20/100\n",
            " - 0s - loss: 0.7568 - acc: 0.6833 - val_loss: 0.8160 - val_acc: 0.6000\n",
            "Epoch 21/100\n",
            " - 0s - loss: 0.7460 - acc: 0.6833 - val_loss: 0.8058 - val_acc: 0.6000\n",
            "Epoch 22/100\n",
            " - 0s - loss: 0.7347 - acc: 0.6833 - val_loss: 0.7960 - val_acc: 0.6000\n",
            "Epoch 23/100\n",
            " - 0s - loss: 0.7237 - acc: 0.6833 - val_loss: 0.7860 - val_acc: 0.6000\n",
            "Epoch 24/100\n",
            " - 0s - loss: 0.7129 - acc: 0.6833 - val_loss: 0.7754 - val_acc: 0.6000\n",
            "Epoch 25/100\n",
            " - 0s - loss: 0.7021 - acc: 0.6833 - val_loss: 0.7650 - val_acc: 0.6000\n",
            "Epoch 26/100\n",
            " - 0s - loss: 0.6909 - acc: 0.6833 - val_loss: 0.7553 - val_acc: 0.6000\n",
            "Epoch 27/100\n",
            " - 0s - loss: 0.6805 - acc: 0.6833 - val_loss: 0.7453 - val_acc: 0.6000\n",
            "Epoch 28/100\n",
            " - 0s - loss: 0.6699 - acc: 0.6833 - val_loss: 0.7350 - val_acc: 0.6000\n",
            "Epoch 29/100\n",
            " - 0s - loss: 0.6593 - acc: 0.6833 - val_loss: 0.7246 - val_acc: 0.6000\n",
            "Epoch 30/100\n",
            " - 0s - loss: 0.6501 - acc: 0.6833 - val_loss: 0.7141 - val_acc: 0.6000\n",
            "Epoch 31/100\n",
            " - 0s - loss: 0.6385 - acc: 0.6833 - val_loss: 0.7037 - val_acc: 0.6000\n",
            "Epoch 32/100\n",
            " - 0s - loss: 0.6286 - acc: 0.6833 - val_loss: 0.6936 - val_acc: 0.6000\n",
            "Epoch 33/100\n",
            " - 0s - loss: 0.6183 - acc: 0.6833 - val_loss: 0.6833 - val_acc: 0.6000\n",
            "Epoch 34/100\n",
            " - 0s - loss: 0.6081 - acc: 0.6833 - val_loss: 0.6729 - val_acc: 0.6000\n",
            "Epoch 35/100\n",
            " - 0s - loss: 0.5981 - acc: 0.6833 - val_loss: 0.6628 - val_acc: 0.6000\n",
            "Epoch 36/100\n",
            " - 0s - loss: 0.5881 - acc: 0.6833 - val_loss: 0.6523 - val_acc: 0.6000\n",
            "Epoch 37/100\n",
            " - 0s - loss: 0.5785 - acc: 0.6833 - val_loss: 0.6420 - val_acc: 0.6000\n",
            "Epoch 38/100\n",
            " - 0s - loss: 0.5686 - acc: 0.6833 - val_loss: 0.6318 - val_acc: 0.6000\n",
            "Epoch 39/100\n",
            " - 0s - loss: 0.5590 - acc: 0.6833 - val_loss: 0.6210 - val_acc: 0.6000\n",
            "Epoch 40/100\n",
            " - 0s - loss: 0.5491 - acc: 0.6833 - val_loss: 0.6107 - val_acc: 0.6000\n",
            "Epoch 41/100\n",
            " - 0s - loss: 0.5402 - acc: 0.6833 - val_loss: 0.6001 - val_acc: 0.6000\n",
            "Epoch 42/100\n",
            " - 0s - loss: 0.5302 - acc: 0.6833 - val_loss: 0.5892 - val_acc: 0.6000\n",
            "Epoch 43/100\n",
            " - 0s - loss: 0.5209 - acc: 0.6833 - val_loss: 0.5785 - val_acc: 0.6000\n",
            "Epoch 44/100\n",
            " - 0s - loss: 0.5112 - acc: 0.7000 - val_loss: 0.5682 - val_acc: 0.6000\n",
            "Epoch 45/100\n",
            " - 0s - loss: 0.5020 - acc: 0.7000 - val_loss: 0.5577 - val_acc: 0.6333\n",
            "Epoch 46/100\n",
            " - 0s - loss: 0.4930 - acc: 0.7083 - val_loss: 0.5472 - val_acc: 0.6667\n",
            "Epoch 47/100\n",
            " - 0s - loss: 0.4838 - acc: 0.7083 - val_loss: 0.5369 - val_acc: 0.6667\n",
            "Epoch 48/100\n",
            " - 0s - loss: 0.4751 - acc: 0.7083 - val_loss: 0.5265 - val_acc: 0.6667\n",
            "Epoch 49/100\n",
            " - 0s - loss: 0.4663 - acc: 0.7250 - val_loss: 0.5161 - val_acc: 0.7333\n",
            "Epoch 50/100\n",
            " - 0s - loss: 0.4576 - acc: 0.7333 - val_loss: 0.5054 - val_acc: 0.7333\n",
            "Epoch 51/100\n",
            " - 0s - loss: 0.4490 - acc: 0.7750 - val_loss: 0.4943 - val_acc: 0.7333\n",
            "Epoch 52/100\n",
            " - 0s - loss: 0.4397 - acc: 0.8000 - val_loss: 0.4823 - val_acc: 0.8000\n",
            "Epoch 53/100\n",
            " - 0s - loss: 0.4303 - acc: 0.8083 - val_loss: 0.4727 - val_acc: 0.8000\n",
            "Epoch 54/100\n",
            " - 0s - loss: 0.4213 - acc: 0.8500 - val_loss: 0.4631 - val_acc: 0.8000\n",
            "Epoch 55/100\n",
            " - 0s - loss: 0.4128 - acc: 0.8667 - val_loss: 0.4524 - val_acc: 0.8000\n",
            "Epoch 56/100\n",
            " - 0s - loss: 0.4041 - acc: 0.8750 - val_loss: 0.4410 - val_acc: 0.8667\n",
            "Epoch 57/100\n",
            " - 0s - loss: 0.3953 - acc: 0.9000 - val_loss: 0.4303 - val_acc: 0.8667\n",
            "Epoch 58/100\n",
            " - 0s - loss: 0.3875 - acc: 0.9250 - val_loss: 0.4197 - val_acc: 0.9333\n",
            "Epoch 59/100\n",
            " - 0s - loss: 0.3802 - acc: 0.9167 - val_loss: 0.4111 - val_acc: 0.9000\n",
            "Epoch 60/100\n",
            " - 0s - loss: 0.3714 - acc: 0.9167 - val_loss: 0.4013 - val_acc: 0.9667\n",
            "Epoch 61/100\n",
            " - 0s - loss: 0.3640 - acc: 0.9250 - val_loss: 0.3922 - val_acc: 0.9667\n",
            "Epoch 62/100\n",
            " - 0s - loss: 0.3562 - acc: 0.9250 - val_loss: 0.3828 - val_acc: 0.9667\n",
            "Epoch 63/100\n",
            " - 0s - loss: 0.3498 - acc: 0.9333 - val_loss: 0.3735 - val_acc: 1.0000\n",
            "Epoch 64/100\n",
            " - 0s - loss: 0.3419 - acc: 0.9333 - val_loss: 0.3656 - val_acc: 1.0000\n",
            "Epoch 65/100\n",
            " - 0s - loss: 0.3349 - acc: 0.9333 - val_loss: 0.3566 - val_acc: 1.0000\n",
            "Epoch 66/100\n",
            " - 0s - loss: 0.3276 - acc: 0.9333 - val_loss: 0.3482 - val_acc: 1.0000\n",
            "Epoch 67/100\n",
            " - 0s - loss: 0.3214 - acc: 0.9333 - val_loss: 0.3390 - val_acc: 1.0000\n",
            "Epoch 68/100\n",
            " - 0s - loss: 0.3146 - acc: 0.9417 - val_loss: 0.3313 - val_acc: 1.0000\n",
            "Epoch 69/100\n",
            " - 0s - loss: 0.3078 - acc: 0.9417 - val_loss: 0.3229 - val_acc: 1.0000\n",
            "Epoch 70/100\n",
            " - 0s - loss: 0.3028 - acc: 0.9500 - val_loss: 0.3145 - val_acc: 1.0000\n",
            "Epoch 71/100\n",
            " - 0s - loss: 0.2959 - acc: 0.9583 - val_loss: 0.3074 - val_acc: 1.0000\n",
            "Epoch 72/100\n",
            " - 0s - loss: 0.2912 - acc: 0.9417 - val_loss: 0.3014 - val_acc: 1.0000\n",
            "Epoch 73/100\n",
            " - 0s - loss: 0.2851 - acc: 0.9417 - val_loss: 0.2932 - val_acc: 1.0000\n",
            "Epoch 74/100\n",
            " - 0s - loss: 0.2790 - acc: 0.9583 - val_loss: 0.2858 - val_acc: 1.0000\n",
            "Epoch 75/100\n",
            " - 0s - loss: 0.2734 - acc: 0.9583 - val_loss: 0.2790 - val_acc: 1.0000\n",
            "Epoch 76/100\n",
            " - 0s - loss: 0.2685 - acc: 0.9583 - val_loss: 0.2723 - val_acc: 1.0000\n",
            "Epoch 77/100\n",
            " - 0s - loss: 0.2631 - acc: 0.9583 - val_loss: 0.2665 - val_acc: 1.0000\n",
            "Epoch 78/100\n",
            " - 0s - loss: 0.2587 - acc: 0.9583 - val_loss: 0.2608 - val_acc: 1.0000\n",
            "Epoch 79/100\n",
            " - 0s - loss: 0.2538 - acc: 0.9583 - val_loss: 0.2539 - val_acc: 1.0000\n",
            "Epoch 80/100\n",
            " - 0s - loss: 0.2484 - acc: 0.9583 - val_loss: 0.2470 - val_acc: 1.0000\n",
            "Epoch 81/100\n",
            " - 0s - loss: 0.2447 - acc: 0.9667 - val_loss: 0.2409 - val_acc: 1.0000\n",
            "Epoch 82/100\n",
            " - 0s - loss: 0.2410 - acc: 0.9667 - val_loss: 0.2357 - val_acc: 1.0000\n",
            "Epoch 83/100\n",
            " - 0s - loss: 0.2361 - acc: 0.9583 - val_loss: 0.2308 - val_acc: 1.0000\n",
            "Epoch 84/100\n",
            " - 0s - loss: 0.2315 - acc: 0.9583 - val_loss: 0.2250 - val_acc: 1.0000\n",
            "Epoch 85/100\n",
            " - 0s - loss: 0.2275 - acc: 0.9667 - val_loss: 0.2195 - val_acc: 1.0000\n",
            "Epoch 86/100\n",
            " - 0s - loss: 0.2236 - acc: 0.9667 - val_loss: 0.2143 - val_acc: 1.0000\n",
            "Epoch 87/100\n",
            " - 0s - loss: 0.2201 - acc: 0.9667 - val_loss: 0.2101 - val_acc: 1.0000\n",
            "Epoch 88/100\n",
            " - 0s - loss: 0.2169 - acc: 0.9667 - val_loss: 0.2049 - val_acc: 1.0000\n",
            "Epoch 89/100\n",
            " - 0s - loss: 0.2126 - acc: 0.9667 - val_loss: 0.2011 - val_acc: 1.0000\n",
            "Epoch 90/100\n",
            " - 0s - loss: 0.2101 - acc: 0.9667 - val_loss: 0.1970 - val_acc: 1.0000\n",
            "Epoch 91/100\n",
            " - 0s - loss: 0.2061 - acc: 0.9667 - val_loss: 0.1909 - val_acc: 1.0000\n",
            "Epoch 92/100\n",
            " - 0s - loss: 0.2029 - acc: 0.9750 - val_loss: 0.1867 - val_acc: 1.0000\n",
            "Epoch 93/100\n",
            " - 0s - loss: 0.2006 - acc: 0.9667 - val_loss: 0.1824 - val_acc: 1.0000\n",
            "Epoch 94/100\n",
            " - 0s - loss: 0.1966 - acc: 0.9667 - val_loss: 0.1788 - val_acc: 1.0000\n",
            "Epoch 95/100\n",
            " - 0s - loss: 0.1936 - acc: 0.9667 - val_loss: 0.1749 - val_acc: 1.0000\n",
            "Epoch 96/100\n",
            " - 0s - loss: 0.1906 - acc: 0.9667 - val_loss: 0.1723 - val_acc: 1.0000\n",
            "Epoch 97/100\n",
            " - 0s - loss: 0.1882 - acc: 0.9667 - val_loss: 0.1681 - val_acc: 1.0000\n",
            "Epoch 98/100\n",
            " - 0s - loss: 0.1848 - acc: 0.9667 - val_loss: 0.1638 - val_acc: 1.0000\n",
            "Epoch 99/100\n",
            " - 0s - loss: 0.1831 - acc: 0.9667 - val_loss: 0.1604 - val_acc: 1.0000\n",
            "Epoch 100/100\n",
            " - 0s - loss: 0.1796 - acc: 0.9750 - val_loss: 0.1566 - val_acc: 1.0000\n"
          ],
          "name": "stdout"
        }
      ]
    },
    {
      "metadata": {
        "id": "uJnMUntmBfVn",
        "colab_type": "code",
        "outputId": "6c1285f1-bc8f-4409-a989-3b473d346613",
        "colab": {
          "base_uri": "https://localhost:8080/",
          "height": 294
        }
      },
      "cell_type": "code",
      "source": [
        "# Plot training & validation accuracy values\n",
        "plt.figure(figsize=(9,4))\n",
        "#plt.subplot(2,1,1)\n",
        "plt.subplot(1,2,1)\n",
        "plt.plot(history.history['acc'])\n",
        "plt.plot(history.history['val_acc'])\n",
        "plt.title('Model accuracy')\n",
        "plt.ylabel('Accuracy')\n",
        "plt.xlabel('Epoch')\n",
        "plt.legend(['Train accuracy', 'Test accuracy'], loc='upper left')\n",
        "\n",
        "# Plot training & validation loss values\n",
        "plt.subplot(1,2,2)\n",
        "plt.plot(history.history['loss'])\n",
        "plt.plot(history.history['val_loss'])\n",
        "plt.title('Model loss')\n",
        "plt.ylabel('Loss')\n",
        "plt.xlabel('Epoch')\n",
        "plt.legend(['Train loss', 'Test loss'], loc='upper left')\n",
        "plt.show()"
      ],
      "execution_count": 0,
      "outputs": [
        {
          "output_type": "display_data",
          "data": {
            "image/png": "[encoded data removed]",
            "text/plain": [
              "<Figure size 648x288 with 2 Axes>"
            ]
          },
          "metadata": {
            "tags": []
          }
        }
      ]
    },
    {
      "metadata": {
        "colab_type": "code",
        "id": "rqhusePV5w6B",
        "outputId": "69c7beee-832a-4e05-cf91-2d46d50117b8",
        "colab": {
          "base_uri": "https://localhost:8080/",
          "height": 53
        }
      },
      "cell_type": "code",
      "source": [
        "# Evaluate the model\n",
        "# Returns the loss value & metrics values for the model in test mode\n",
        "loss, acc = model.evaluate(test_x, test_y, verbose=0)\n",
        "\n",
        "print('Validation loss: {}'.format(loss))\n",
        "print('Validation accuracy: {:.2%}'.format(acc))"
      ],
      "execution_count": 0,
      "outputs": [
        {
          "output_type": "stream",
          "text": [
            "Validation loss: 0.15664930641651154\n",
            "Validation accuracy: 100.00%\n"
          ],
          "name": "stdout"
        }
      ]
    },
    {
      "metadata": {
        "id": "oPLJpeOjH2LW",
        "colab_type": "text"
      },
      "cell_type": "markdown",
      "source": [
        "On this tiny dataset we achieved perfect accuracy!"
      ]
    },
    {
      "metadata": {
        "id": "NpqkdcNRCj4S",
        "colab_type": "text"
      },
      "cell_type": "markdown",
      "source": [
        "# Tasks and experiments\n",
        "Now that you have seen how classification networks can be created in Keras, here are some problems to experiment with:\n",
        "\n",
        "* Try translating in the MNIST example the test set by one or two pixels. How well does the model work, does it have the same accuracy? Could you make the network work as well on digits translated by 2 pixels as on untranslated images?\n",
        "*   Try adding adding more layers to the model. How does it affect the speed of the training and the effectiveness of the model?\n",
        "*   Train the MNIST model with simple Stochastic Gradient Descent (SGD). Plot the how the accuracy/loss changes over time for both SGD and adam. How does the two compares? Do they reach the same results? Which one trains faster (reaches the same level accuracy earlier)\n",
        "\n",
        "\n"
      ]
    }
  ]
}