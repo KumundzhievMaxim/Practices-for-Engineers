{
 "cells": [
  {
   "cell_type": "markdown",
   "metadata": {
    "colab_type": "text",
    "id": "ukKnZ0PukRNs"
   },
   "source": [
    "Style transfer\n",
    "\n",
    "\n",
    "---\n",
    "\n",
    "\n",
    "A simple, concise tensorflow implementation of fast style transfer.\n",
    "JOHNSON, Justin; ALAHI, Alexandre; FEI-FEI, Li. Perceptual losses for real-time style transfer and super-resolution. In: European Conference on Computer Vision. Springer, Cham, 2016. p. 694-711.\n",
    "\n",
    "https://arxiv.org/pdf/1603.08155.pdf%7C\n",
    "\n",
    "https://cs.stanford.edu/people/jcjohns/eccv16/\n",
    "\n",
    "https://arxiv.org/abs/1607.08022\n",
    "\n",
    "Github link: https://github.com/hwalsuklee/tensorflow-fast-style-transfer\n",
    "\n",
    "\n",
    "Implementation in: Tensorflow, Python packages: numpy, scipy, PIL (or Pillow), matplotlib\n",
    "License: Apache License, Version 2.0, January 2004 (http://www.apache.org/licenses)"
   ]
  },
  {
   "cell_type": "markdown",
   "metadata": {
    "colab_type": "text",
    "id": "xPrpHOe70682"
   },
   "source": [
    "Clone the repo. (10pt)"
   ]
  },
  {
   "cell_type": "code",
   "execution_count": 0,
   "metadata": {
    "colab": {},
    "colab_type": "code",
    "id": "Hs2-yTw81DOo"
   },
   "outputs": [],
   "source": [
    "!git clone https://github.com/hwalsuklee/tensorflow-fast-style-transfer.git"
   ]
  },
  {
   "cell_type": "markdown",
   "metadata": {
    "colab_type": "text",
    "id": "UJIa1LzwU26F"
   },
   "source": [
    "Download one of the six modell. (10pt)\n"
   ]
  },
  {
   "cell_type": "markdown",
   "metadata": {
    "colab_type": "text",
    "id": "UDoWIBbbgsdb"
   },
   "source": [
    "Set up Mega Drive"
   ]
  },
  {
   "cell_type": "code",
   "execution_count": 0,
   "metadata": {
    "colab": {},
    "colab_type": "code",
    "id": "Dvho3b6Vy187"
   },
   "outputs": [],
   "source": [
    "!git clone https://github.com/jeroenmeulenaar/python3-mega.git"
   ]
  },
  {
   "cell_type": "code",
   "execution_count": 0,
   "metadata": {
    "colab": {},
    "colab_type": "code",
    "id": "JyV6UZaZgx_z"
   },
   "outputs": [],
   "source": [
    "cd python3-mega"
   ]
  },
  {
   "cell_type": "code",
   "execution_count": 0,
   "metadata": {
    "colab": {},
    "colab_type": "code",
    "id": "ZyMmllsyU6nU"
   },
   "outputs": [],
   "source": [
    "pip install -r requirements.txt"
   ]
  },
  {
   "cell_type": "code",
   "execution_count": 0,
   "metadata": {
    "colab": {
     "base_uri": "https://localhost:8080/",
     "height": 340
    },
    "colab_type": "code",
    "executionInfo": {
     "elapsed": 387564,
     "status": "ok",
     "timestamp": 1574023464318,
     "user": {
      "displayName": "Maksim Kumundzhiev",
      "photoUrl": "https://lh3.googleusercontent.com/a-/AAuE7mBHSmNQiv6xTMk05pQ8C7Y425FxvBSzPVGHYKVwCw=s64",
      "userId": "05965401334871752406"
     },
     "user_tz": -60
    },
    "id": "DmMFCZ_p8Q8J",
    "outputId": "98c9a1fa-269c-4e5f-c86e-284c5985f77e"
   },
   "outputs": [
    {
     "name": "stdout",
     "output_type": "stream",
     "text": [
      "Changed directory for downloading models from: /content/tensorflow-fast-style-transfer/models, to: /content/tensorflow-fast-style-transfer/models\n",
      "Started download https://mega.nz/#!IZJy3ISa!TKlw1NBpHhQf1Hi94NEnxC-FKECWK9eYPNXlnWFicok\n",
      "Finished download https://mega.nz/#!IZJy3ISa!TKlw1NBpHhQf1Hi94NEnxC-FKECWK9eYPNXlnWFicok\n",
      "Started download without changing directory, change after https://mega.nz/#!BVYVVYqa!24yhuXqZbFXDvGtxiMZu675mP4oLE0qnjdPUAWtlTEs\n",
      "Finished download without changing directory, change afterhttps://mega.nz/#!BVYVVYqa!24yhuXqZbFXDvGtxiMZu675mP4oLE0qnjdPUAWtlTEs\n",
      "Started download without changing directory, change after https://mega.nz/#!9BZxgKTZ!ILTJgKSy0yqaGkTP-c1gRicK7Sn1jxtTSgV0ZgILZT0\n",
      "Finished download without changing directory, change afterhttps://mega.nz/#!9BZxgKTZ!ILTJgKSy0yqaGkTP-c1gRicK7Sn1jxtTSgV0ZgILZT0\n",
      "Started download without changing directory, change after https://mega.nz/#!xZBDXIaT!iIRr1v6HLmaRS386W7FIcuAiIaMn3A7gHcZide4jT2c\n",
      "Finished download without changing directory, change afterhttps://mega.nz/#!xZBDXIaT!iIRr1v6HLmaRS386W7FIcuAiIaMn3A7gHcZide4jT2c\n",
      "Started download without changing directory, change after https://mega.nz/#!RNJ3VCSb!AC1dSxjoerp791C5pnUnYUEohlqWUP-aq_goOD4SVfg\n",
      "Finished download without changing directory, change afterhttps://mega.nz/#!RNJ3VCSb!AC1dSxjoerp791C5pnUnYUEohlqWUP-aq_goOD4SVfg\n",
      "Started download without changing directory, change after https://mega.nz/#!kYA3zQxQ!RbpD8hGMy1RLnX_wueT9NruX4HYXq3yA4HmyLI_cIrQ\n",
      "Finished download without changing directory, change afterhttps://mega.nz/#!kYA3zQxQ!RbpD8hGMy1RLnX_wueT9NruX4HYXq3yA4HmyLI_cIrQ\n",
      "Started download without changing directory, change after https://mega.nz/#!hFRlySwJ!ZdWba9Pz8us6xX8VDjN-21PF8B2uVwjFAR5HYdnFVFw\n",
      "Finished download without changing directory, change afterhttps://mega.nz/#!hFRlySwJ!ZdWba9Pz8us6xX8VDjN-21PF8B2uVwjFAR5HYdnFVFw\n",
      "Started download without changing directory, change after https://mega.nz/#!gEJklIDa!RDMucpWswnNbW8FEEjGjm7-SqePzbrtqybgEwH98rho\n",
      "Finished download without changing directory, change afterhttps://mega.nz/#!gEJklIDa!RDMucpWswnNbW8FEEjGjm7-SqePzbrtqybgEwH98rho\n",
      "Started download without changing directory, change after https://mega.nz/#!8EIQwKJA!CT7K0UZygpoDWlo9-z-AiQRONs56KyAk5eA-FB9y4Es\n",
      "Finished download without changing directory, change afterhttps://mega.nz/#!8EIQwKJA!CT7K0UZygpoDWlo9-z-AiQRONs56KyAk5eA-FB9y4Es\n"
     ]
    }
   ],
   "source": [
    "import os\n",
    "from mega import Mega\n",
    "\n",
    "os.chdir('python3-mega')\n",
    "os.chdir('../')\n",
    "m = Mega.from_ephemeral()\n",
    "\n",
    "# 1 - la_muse + requirements\n",
    "# 2 - rain princess + requirements\n",
    "# 3 - shipwreck + requirements\n",
    "list_of_models_to_download = ['https://mega.nz/#!IZJy3ISa!TKlw1NBpHhQf1Hi94NEnxC-FKECWK9eYPNXlnWFicok',\n",
    "                              'https://mega.nz/#!BVYVVYqa!24yhuXqZbFXDvGtxiMZu675mP4oLE0qnjdPUAWtlTEs',\n",
    "                              'https://mega.nz/#!9BZxgKTZ!ILTJgKSy0yqaGkTP-c1gRicK7Sn1jxtTSgV0ZgILZT0',\n",
    "                              'https://mega.nz/#!xZBDXIaT!iIRr1v6HLmaRS386W7FIcuAiIaMn3A7gHcZide4jT2c',\n",
    "                              'https://mega.nz/#!RNJ3VCSb!AC1dSxjoerp791C5pnUnYUEohlqWUP-aq_goOD4SVfg',\n",
    "                              'https://mega.nz/#!kYA3zQxQ!RbpD8hGMy1RLnX_wueT9NruX4HYXq3yA4HmyLI_cIrQ',\n",
    "                              'https://mega.nz/#!hFRlySwJ!ZdWba9Pz8us6xX8VDjN-21PF8B2uVwjFAR5HYdnFVFw',\n",
    "                              'https://mega.nz/#!gEJklIDa!RDMucpWswnNbW8FEEjGjm7-SqePzbrtqybgEwH98rho',\n",
    "                              'https://mega.nz/#!8EIQwKJA!CT7K0UZygpoDWlo9-z-AiQRONs56KyAk5eA-FB9y4Es']\n",
    "for model in list_of_models_to_download:\n",
    "  if not os.path.exists(os.path.join(os.getcwd(), 'models')):\n",
    "    print('Started download without changing directory, change after {}'.format(model))\n",
    "    m.download_from_url(model)\n",
    "    print('Finished download without changing directory, change after{}'.format(model))\n",
    "  else:\n",
    "    os.chdir(os.path.join(os.getcwd(), 'models'))\n",
    "    print('Changed directory for downloading models from: {}, to: {}'.format(os.getcwd(), os.getcwd()))    \n",
    "    print('Started download {}'.format(model))\n",
    "    m.download_from_url(model)\n",
    "    print('Finished download {}'.format(model))\n",
    "os.chdir('/content/tensorflow-fast-style-transfer') "
   ]
  },
  {
   "cell_type": "markdown",
   "metadata": {
    "colab_type": "text",
    "id": "gZ9_eeIthd1d"
   },
   "source": [
    "### Using pretrained models and run_test.py"
   ]
  },
  {
   "cell_type": "markdown",
   "metadata": {
    "colab_type": "text",
    "id": "9BFJDMFTU6_l"
   },
   "source": [
    "Evaluate on a few test samples. (20pt)"
   ]
  },
  {
   "cell_type": "code",
   "execution_count": 0,
   "metadata": {
    "colab": {
     "base_uri": "https://localhost:8080/",
     "height": 479
    },
    "colab_type": "code",
    "executionInfo": {
     "elapsed": 10698,
     "status": "ok",
     "timestamp": 1574028283415,
     "user": {
      "displayName": "Maksim Kumundzhiev",
      "photoUrl": "https://lh3.googleusercontent.com/a-/AAuE7mBHSmNQiv6xTMk05pQ8C7Y425FxvBSzPVGHYKVwCw=s64",
      "userId": "05965401334871752406"
     },
     "user_tz": -60
    },
    "id": "DcGg5ZJJVEqe",
    "outputId": "ffa01701-95db-467f-c41a-77afc338921b"
   },
   "outputs": [
    {
     "name": "stdout",
     "output_type": "stream",
     "text": [
      "WARNING:tensorflow:From run_test.py:76: The name tf.ConfigProto is deprecated. Please use tf.compat.v1.ConfigProto instead.\n",
      "\n",
      "WARNING:tensorflow:From run_test.py:78: The name tf.Session is deprecated. Please use tf.compat.v1.Session instead.\n",
      "\n",
      "2019-11-17 22:04:36.545013: I tensorflow/core/platform/profile_utils/cpu_utils.cc:94] CPU Frequency: 2300000000 Hz\n",
      "2019-11-17 22:04:36.545300: I tensorflow/compiler/xla/service/service.cc:168] XLA service 0x17eb800 initialized for platform Host (this does not guarantee that XLA will be used). Devices:\n",
      "2019-11-17 22:04:36.545339: I tensorflow/compiler/xla/service/service.cc:176]   StreamExecutor device (0): Host, Default Version\n",
      "WARNING:tensorflow:From /content/tensorflow-fast-style-transfer/style_transfer_tester.py:25: The name tf.placeholder is deprecated. Please use tf.compat.v1.placeholder instead.\n",
      "\n",
      "WARNING:tensorflow:From /content/tensorflow-fast-style-transfer/transform.py:77: The name tf.variable_scope is deprecated. Please use tf.compat.v1.variable_scope instead.\n",
      "\n",
      "WARNING:tensorflow:From /content/tensorflow-fast-style-transfer/transform.py:78: The name tf.get_variable is deprecated. Please use tf.compat.v1.get_variable instead.\n",
      "\n",
      "WARNING:tensorflow:\n",
      "The TensorFlow contrib module will not be included in TensorFlow 2.0.\n",
      "For more information, please see:\n",
      "  * https://github.com/tensorflow/community/blob/master/rfcs/20180907-contrib-sunset.md\n",
      "  * https://github.com/tensorflow/addons\n",
      "  * https://github.com/tensorflow/io (for I/O related ops)\n",
      "If you depend on functionality not listed there, please file an issue.\n",
      "\n",
      "WARNING:tensorflow:From /content/tensorflow-fast-style-transfer/style_transfer_tester.py:36: The name tf.global_variables_initializer is deprecated. Please use tf.compat.v1.global_variables_initializer instead.\n",
      "\n",
      "WARNING:tensorflow:From /content/tensorflow-fast-style-transfer/style_transfer_tester.py:39: The name tf.train.Saver is deprecated. Please use tf.compat.v1.train.Saver instead.\n",
      "\n",
      "Execution time for a 474 x 712 image : 54.173799 msec\n"
     ]
    }
   ],
   "source": [
    "!python run_test.py --content content/chicago.jpg --style_model models/la_muse.ckpt --output result_chicago.jpg"
   ]
  },
  {
   "cell_type": "markdown",
   "metadata": {
    "colab_type": "text",
    "id": "TCkFx9dfVFA_"
   },
   "source": [
    "Visualize the samples. (20pt)"
   ]
  },
  {
   "cell_type": "code",
   "execution_count": 0,
   "metadata": {
    "colab": {
     "base_uri": "https://localhost:8080/",
     "height": 1000,
     "output_embedded_package_id": "1DgfFiW_2d-ovOvqWyUCcjqpdGI29vMuj"
    },
    "colab_type": "code",
    "executionInfo": {
     "elapsed": 10586,
     "status": "ok",
     "timestamp": 1574028601076,
     "user": {
      "displayName": "Maksim Kumundzhiev",
      "photoUrl": "https://lh3.googleusercontent.com/a-/AAuE7mBHSmNQiv6xTMk05pQ8C7Y425FxvBSzPVGHYKVwCw=s64",
      "userId": "05965401334871752406"
     },
     "user_tz": -60
    },
    "id": "rwuc-LaUVKb5",
    "outputId": "3baa91b7-d0ed-4835-bc96-9586f645ab66"
   },
   "outputs": [
    {
     "data": {
      "text/plain": [
       "Output hidden; open in https://colab.research.google.com to view."
      ]
     },
     "metadata": {},
     "output_type": "display_data"
    }
   ],
   "source": [
    "from IPython.display import Image, display\n",
    "\n",
    "for file in os.listdir(os.getcwd()):\n",
    "  if file.endswith('.jpg'):\n",
    "    display(Image(file, width=300, height=200))\n",
    "    print(file, '\\n')\n",
    "\n",
    "for file in os.listdir('content'):\n",
    "  if file.endswith('.jpg'):\n",
    "    display(Image(os.path.join('content' ,file), width=300, height=200))\n",
    "    print(file, '\\n')\n"
   ]
  },
  {
   "cell_type": "code",
   "execution_count": 0,
   "metadata": {
    "colab": {
     "base_uri": "https://localhost:8080/",
     "height": 479
    },
    "colab_type": "code",
    "executionInfo": {
     "elapsed": 11639,
     "status": "ok",
     "timestamp": 1574028866127,
     "user": {
      "displayName": "Maksim Kumundzhiev",
      "photoUrl": "https://lh3.googleusercontent.com/a-/AAuE7mBHSmNQiv6xTMk05pQ8C7Y425FxvBSzPVGHYKVwCw=s64",
      "userId": "05965401334871752406"
     },
     "user_tz": -60
    },
    "id": "EnLRQOG9azef",
    "outputId": "20d3f611-497d-4487-c66b-736412e9e9ea"
   },
   "outputs": [
    {
     "name": "stdout",
     "output_type": "stream",
     "text": [
      "WARNING:tensorflow:From run_test.py:76: The name tf.ConfigProto is deprecated. Please use tf.compat.v1.ConfigProto instead.\n",
      "\n",
      "WARNING:tensorflow:From run_test.py:78: The name tf.Session is deprecated. Please use tf.compat.v1.Session instead.\n",
      "\n",
      "2019-11-17 22:14:18.007054: I tensorflow/core/platform/profile_utils/cpu_utils.cc:94] CPU Frequency: 2300000000 Hz\n",
      "2019-11-17 22:14:18.007311: I tensorflow/compiler/xla/service/service.cc:168] XLA service 0x2e89800 initialized for platform Host (this does not guarantee that XLA will be used). Devices:\n",
      "2019-11-17 22:14:18.007345: I tensorflow/compiler/xla/service/service.cc:176]   StreamExecutor device (0): Host, Default Version\n",
      "WARNING:tensorflow:From /content/tensorflow-fast-style-transfer/style_transfer_tester.py:25: The name tf.placeholder is deprecated. Please use tf.compat.v1.placeholder instead.\n",
      "\n",
      "WARNING:tensorflow:From /content/tensorflow-fast-style-transfer/transform.py:77: The name tf.variable_scope is deprecated. Please use tf.compat.v1.variable_scope instead.\n",
      "\n",
      "WARNING:tensorflow:From /content/tensorflow-fast-style-transfer/transform.py:78: The name tf.get_variable is deprecated. Please use tf.compat.v1.get_variable instead.\n",
      "\n",
      "WARNING:tensorflow:\n",
      "The TensorFlow contrib module will not be included in TensorFlow 2.0.\n",
      "For more information, please see:\n",
      "  * https://github.com/tensorflow/community/blob/master/rfcs/20180907-contrib-sunset.md\n",
      "  * https://github.com/tensorflow/addons\n",
      "  * https://github.com/tensorflow/io (for I/O related ops)\n",
      "If you depend on functionality not listed there, please file an issue.\n",
      "\n",
      "WARNING:tensorflow:From /content/tensorflow-fast-style-transfer/style_transfer_tester.py:36: The name tf.global_variables_initializer is deprecated. Please use tf.compat.v1.global_variables_initializer instead.\n",
      "\n",
      "WARNING:tensorflow:From /content/tensorflow-fast-style-transfer/style_transfer_tester.py:39: The name tf.train.Saver is deprecated. Please use tf.compat.v1.train.Saver instead.\n",
      "\n",
      "Execution time for a 518 x 921 image : 77.925559 msec\n"
     ]
    }
   ],
   "source": [
    "!python run_test.py --content content/joker.jpg --style_model models/rain_princess.ckpt --output result_joker_rain_princess.jpg"
   ]
  },
  {
   "cell_type": "code",
   "execution_count": 0,
   "metadata": {
    "colab": {
     "base_uri": "https://localhost:8080/",
     "height": 1000,
     "output_embedded_package_id": "1lVVrIJCFXhlpi37u11eBPLj8Fun-CEcX"
    },
    "colab_type": "code",
    "executionInfo": {
     "elapsed": 9284,
     "status": "ok",
     "timestamp": 1574028915387,
     "user": {
      "displayName": "Maksim Kumundzhiev",
      "photoUrl": "https://lh3.googleusercontent.com/a-/AAuE7mBHSmNQiv6xTMk05pQ8C7Y425FxvBSzPVGHYKVwCw=s64",
      "userId": "05965401334871752406"
     },
     "user_tz": -60
    },
    "id": "Wi1vP1VYboHS",
    "outputId": "3eb19d7d-eac3-4dd8-e4a2-009645fd2de0"
   },
   "outputs": [
    {
     "data": {
      "text/plain": [
       "Output hidden; open in https://colab.research.google.com to view."
      ]
     },
     "metadata": {},
     "output_type": "display_data"
    }
   ],
   "source": [
    "for file in os.listdir(os.getcwd()):\n",
    "  if file.endswith('_rain_princess.jpg'):\n",
    "    display(Image(file, width=300, height=200))\n",
    "    print(file, '\\n')\n",
    "\n",
    "for file in os.listdir('content'):\n",
    "  if file.endswith('.jpg'):\n",
    "    display(Image(os.path.join('content' ,file), width=300, height=200))\n",
    "    print(file, '\\n')\n"
   ]
  },
  {
   "cell_type": "markdown",
   "metadata": {
    "colab_type": "text",
    "id": "JcSNNh8T1r-T"
   },
   "source": [
    "Copy the code of the content loss. (10pt)"
   ]
  },
  {
   "cell_type": "code",
   "execution_count": 0,
   "metadata": {
    "colab": {},
    "colab_type": "code",
    "id": "ipxB5eZE1uJ9"
   },
   "outputs": [],
   "source": []
  },
  {
   "cell_type": "markdown",
   "metadata": {
    "colab_type": "text",
    "id": "untAg8q81uwU"
   },
   "source": [
    "Copy the code of the style loss. (10pt)"
   ]
  },
  {
   "cell_type": "code",
   "execution_count": 0,
   "metadata": {
    "colab": {},
    "colab_type": "code",
    "id": "HKVOvEXv1x6Q"
   },
   "outputs": [],
   "source": []
  },
  {
   "cell_type": "markdown",
   "metadata": {
    "colab_type": "text",
    "id": "TwBVBDiqVmCc"
   },
   "source": [
    "What was the applied model? (20pt)"
   ]
  },
  {
   "cell_type": "markdown",
   "metadata": {
    "colab_type": "text",
    "id": "Wmi_C-mPZ035"
   },
   "source": []
  }
 ],
 "metadata": {
  "colab": {
   "collapsed_sections": [],
   "name": "Style_transfer.ipynb",
   "provenance": [
    {
     "file_id": "1Kx-g0QPAxC3WfcM2U8XLkZQLAFBFnX0i",
     "timestamp": 1574009906803
    },
    {
     "file_id": "1IxkT3k0JWwvIaeqwTR5r49nXKg3NLnsA",
     "timestamp": 1572953324816
    }
   ],
   "toc_visible": true
  },
  "kernelspec": {
   "display_name": "Python 3",
   "language": "python",
   "name": "python3"
  },
  "language_info": {
   "codemirror_mode": {
    "name": "ipython",
    "version": 3
   },
   "file_extension": ".py",
   "mimetype": "text/x-python",
   "name": "python",
   "nbconvert_exporter": "python",
   "pygments_lexer": "ipython3",
   "version": "3.7.4"
  }
 },
 "nbformat": 4,
 "nbformat_minor": 1
}
