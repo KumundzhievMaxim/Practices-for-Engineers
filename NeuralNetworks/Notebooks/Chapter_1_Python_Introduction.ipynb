{
  "nbformat": 4,
  "nbformat_minor": 0,
  "metadata": {
    "colab": {
      "name": "Chapter_1_Python_Introduction.ipynb",
      "version": "0.3.2",
      "provenance": [],
      "collapsed_sections": []
    },
    "kernelspec": {
      "display_name": "Python 3",
      "language": "python",
      "name": "python3"
    }
  },
  "cells": [
    {
      "metadata": {
        "id": "EjA6oQThqMZ4",
        "colab_type": "text"
      },
      "cell_type": "markdown",
      "source": [
        "**Created by:**\n",
        "\n",
        "__[Gábor Tompa](https://github.com/Galdair)__ (code and text)\n",
        "<br>\n",
        "__[Zoltán Ádám Milacski](https://github.com/srph25)__ (text error fixing and code optimization)\n",
        "\n",
        "\n",
        "\n",
        "<br>\n",
        "\n",
        "**Edited by:**\n",
        "\n",
        "__[Zoltán Ádám Milacski](https://github.com/srph25)__\n",
        "\n",
        "<br>\n",
        "\n",
        "<img src=\"https://docs.google.com/uc?export=download&id=1WzgXsCoz8O-NeBlJTbuLPC1iIFDmgYt1\" style=\"display:inline-block\">\n",
        "<hr>"
      ]
    },
    {
      "metadata": {
        "id": "ZLgDxVumqMZ_",
        "colab_type": "text"
      },
      "cell_type": "markdown",
      "source": [
        "# Chapter 1: Python: Introduction\n",
        "In this module we review the following concepts:\n",
        "\n",
        "```\n",
        "# This is formatted as code\n",
        "```\n",
        "\n",
        "\n",
        "* ## Numbers\n",
        "    * Integers\n",
        "    * Floating point numbers\n",
        "    * Integers have no limit\n",
        "    * Arithmetic works as usual\n",
        "    * Division returns float if necesarry\n",
        "    * There is integer divison\n",
        "    \n",
        "* ## Variables\n",
        "    * They are just placeholders\n",
        "    * They are mutable\n",
        "    * No need for type declaration (see Course Intro)\n",
        "\n",
        "* ## Strings\n",
        "    * Multiple equally defined options\n",
        "    * Multiline strings (also called docstrings, see next chapter)\n",
        "    * String concatenation and other operations exist, see later\n",
        "\n",
        "* ## Logic in Python\n",
        "    * \"and\", \"or\" keywords instead of &&, ||\n",
        "    * Compound expressions\n",
        "    * \"is2 keyword, and \"==\"\n",
        "\n",
        "* ## If-elif-else\n",
        "    * Indentation is a must\n",
        "    * Nesting is possible\n",
        "    * IF, ELIF, ELSE\n",
        "    * Executes if the expression is True\n",
        "    * : before the block\n",
        "\n",
        "* ## Loops\n",
        "    * Indentation is key\n",
        "    * For is an iterator, but the important thing is that you use range()\n",
        "    * : is also used here\n",
        "    * \"while\" exists but not used that often"
      ]
    },
    {
      "metadata": {
        "id": "BHznHWaAqMaC",
        "colab_type": "text"
      },
      "cell_type": "markdown",
      "source": [
        "# Python Numbers"
      ]
    },
    {
      "metadata": {
        "id": "XN9vSjgbqMaJ",
        "colab_type": "code",
        "outputId": "620182a1-3f67-4c4a-9e2b-9d8fa8cdd78b",
        "colab": {}
      },
      "cell_type": "code",
      "source": [
        "#TODO: PYTHON MAX INTEGER AND MEMORY MODEL\n",
        "print(2) #printing a number\n",
        "print(2 + 3) # basic arithmetic\n",
        "print(6 * 4)\n",
        "print(2 / 3) # float division\n",
        "print(2 // 3) # integer division\n",
        "print(20 % 3)  # modulo operator\n",
        "print(2 ** 10) # power function\n",
        "c = 2 # assignmen operator\n",
        "#TODO: VARIABLES AND DUCK TYPING, DYNAMIC VARIABLES\n",
        "b = 3\n",
        "print(c + b) # printing the solution of variable addition\n",
        "d = 2.6\n",
        "f = 8.0\n",
        "print(d + f) # adding floats works the same way\n",
        "print(d + c) # floating point and integer addition, always results in float, divison too\n",
        "k = c + d # variables are just names for a thing\n",
        "k += c # C style += and other arithmetic exist\n",
        "print(k)"
      ],
      "execution_count": 0,
      "outputs": [
        {
          "output_type": "stream",
          "text": [
            "2\n",
            "5\n",
            "24\n",
            "0.6666666666666666\n",
            "0\n",
            "2\n",
            "1024\n",
            "5\n",
            "10.6\n",
            "4.6\n",
            "6.6\n"
          ],
          "name": "stdout"
        }
      ]
    },
    {
      "metadata": {
        "id": "mGecpEg1qMaa",
        "colab_type": "text"
      },
      "cell_type": "markdown",
      "source": [
        "# Python strings"
      ]
    },
    {
      "metadata": {
        "id": "Bayz5kkbqMaf",
        "colab_type": "code",
        "outputId": "0852067c-204d-4b77-8dc9-a2e87614629d",
        "colab": {}
      },
      "cell_type": "code",
      "source": [
        "# In Python strings can be specified in many ways, but they all instantiate objects of the same str class\n",
        "print('''string1''') # triple quote string, useful for multiple line comments\n",
        "print(\"string 2\") # double quoted string\n",
        "print('string 3') # single quoted string, same as the two above\n",
        "print('''\n",
        "poem 1\n",
        "\n",
        "''')  # multiple lined string\n",
        "print('''hey''' + \"ho\") # the usual string operations work, e.g. concatenation, more on them later\n",
        "j = 'string are just strings'\n",
        "h = \" also strings are inmutable\"\n",
        "f = j + h # So this is  new string\n",
        "t = f # So is this, even if they are the same object\n",
        "print(t)\n",
        "print(f)\n",
        "#TODO: STRING ESSAY"
      ],
      "execution_count": 0,
      "outputs": [
        {
          "output_type": "stream",
          "text": [
            "string1\n",
            "string 2\n",
            "string 3\n",
            "\n",
            "poem 1\n",
            "\n",
            "\n",
            "heyho\n",
            "string are just strings also strings are inmutable\n",
            "string are just strings also strings are inmutable\n"
          ],
          "name": "stdout"
        }
      ]
    },
    {
      "metadata": {
        "id": "HPLS1-tyqMas",
        "colab_type": "text"
      },
      "cell_type": "markdown",
      "source": [
        "# Python Logic"
      ]
    },
    {
      "metadata": {
        "id": "NgUUXlE3qMav",
        "colab_type": "code",
        "outputId": "0255ca8d-e420-4f19-aeb3-275764bad494",
        "colab": {}
      },
      "cell_type": "code",
      "source": [
        "#TODO: DIFFERENCE BEETWEEN IS AND == \n",
        "#TODO: LOGIC\n",
        "print(True and False) # Python Booleans are True and False, and there are no && || , just \"and\" and \"or\"\n",
        "print(True or True) # or keyword\n",
        "print(not False) # not keyword\n",
        "print(True is not False) # \"is\" checks if two objects are the same\n",
        "print(3 > 2) # value inequality check\n",
        "print(3 == 3) # value equality check\n",
        "string1 = 'this is the comparable string'\n",
        "string2 = string1\n",
        "string3 = 'this is the comparable string'\n",
        "print(string1 == string2) # this is True\n",
        "print(string1 is string2) # this is also True\n",
        "\n",
        "print(string1 == string3) # this is True because the CONTENTS are identical\n",
        "print(string1 is string3) # this is False because they are not the same object\n",
        "print(2 < 3 is False and string1 is string2) # compound statements are possible\n",
        "print((2 < 3) is (True and string1 is string2)) # order is very important"
      ],
      "execution_count": 0,
      "outputs": [
        {
          "output_type": "stream",
          "text": [
            "False\n",
            "True\n",
            "True\n",
            "True\n",
            "True\n",
            "True\n",
            "True\n",
            "True\n",
            "True\n",
            "False\n",
            "False\n",
            "True\n"
          ],
          "name": "stdout"
        }
      ]
    },
    {
      "metadata": {
        "id": "Bj7IAqSiqMa4",
        "colab_type": "text"
      },
      "cell_type": "markdown",
      "source": [
        "# Python if-else"
      ]
    },
    {
      "metadata": {
        "id": "O9UsJ3LoqMa6",
        "colab_type": "code",
        "outputId": "ebab8df7-a017-4481-eab4-ab6f52694bc2",
        "colab": {}
      },
      "cell_type": "code",
      "source": [
        "#TODO: SCOPES , INDENTATION\n",
        "# In Python there are no marks for blocks like {}, every block is expressed as indentation\n",
        "# Play around with this exercise to get the feel of the if statement (try printing out all the three sentences)\n",
        "EXPRESSION = True\n",
        "ELIF_EXPRESSION = True\n",
        "if EXPRESSION:\n",
        "    print(\"execute expression\")\n",
        "elif ELIF_EXPRESSION:\n",
        "    print(\"execute else\")\n",
        "else:\n",
        "    print(\"the last else\")\n",
        "    \n",
        "# This is a nested IF else, and there are no limits on nesting\n",
        "if EXPRESSION:\n",
        "    if EXPRESSION:\n",
        "        print(\"try executing this\")\n",
        "        \n",
        "        \n",
        "    else:\n",
        "        print(\"otherwise thsi will happen\")\n",
        "else:\n",
        "    print(\"or maybe nothing\")"
      ],
      "execution_count": 0,
      "outputs": [
        {
          "output_type": "stream",
          "text": [
            "execute expression\n",
            "try executing this\n"
          ],
          "name": "stdout"
        }
      ]
    },
    {
      "metadata": {
        "id": "8Z4O1jguqMbJ",
        "colab_type": "text"
      },
      "cell_type": "markdown",
      "source": [
        "# Python Loops"
      ]
    },
    {
      "metadata": {
        "id": "H4LUbOQzqMbN",
        "colab_type": "code",
        "outputId": "4d4feb6d-8d65-4496-8cc5-a0ea19e9c981",
        "colab": {}
      },
      "cell_type": "code",
      "source": [
        "#TODO:ITERATORS ,RANGE()\n",
        "# \"for\" in Python iterates an iterable object, e.g. a range\n",
        "for i in range(10): # simple ranged for\n",
        "    print(i)\n",
        "sum = 0\n",
        "for k in range(50): # summation with for\n",
        "    sum += k\n",
        "for i in range(10): # print something\n",
        "    print(\"hey\")\n",
        "for i in range(2,20): # range is a function, which can have multiple arugments\n",
        "    if i % 2 == 0:\n",
        "        print(\"fizz\")\n",
        "    elif i % 5 == 0:\n",
        "        print(\"buzz\")\n",
        "\n",
        "i = 0\n",
        "while(i < 10):\n",
        "    print(i)\n",
        "    i +=1\n",
        "# This is a while loop, which is very similar to a C style while loop, but not used that often in Python"
      ],
      "execution_count": 0,
      "outputs": [
        {
          "output_type": "stream",
          "text": [
            "0\n",
            "1\n",
            "2\n",
            "3\n",
            "4\n",
            "5\n",
            "6\n",
            "7\n",
            "8\n",
            "9\n",
            "hey\n",
            "hey\n",
            "hey\n",
            "hey\n",
            "hey\n",
            "hey\n",
            "hey\n",
            "hey\n",
            "hey\n",
            "hey\n",
            "fizz\n",
            "fizz\n",
            "buzz\n",
            "fizz\n",
            "fizz\n",
            "fizz\n",
            "fizz\n",
            "fizz\n",
            "buzz\n",
            "fizz\n",
            "fizz\n",
            "0\n",
            "1\n",
            "2\n",
            "3\n",
            "4\n",
            "5\n",
            "6\n",
            "7\n",
            "8\n",
            "9\n"
          ],
          "name": "stdout"
        }
      ]
    },
    {
      "metadata": {
        "id": "fgH5GaZ3qMbc",
        "colab_type": "text"
      },
      "cell_type": "markdown",
      "source": [
        "# References\n",
        "\n",
        "* Python introduction: https://www.scipy-lectures.org/intro/language/python_language.html\n",
        "* More exercise oriented approach: http://interactivepython.org/runestone/static/thinkcspy/index.html\n",
        "* Difference between == and is: https://dbader.org/blog/difference-between-is-and-equals-in-python\n"
      ]
    },
    {
      "metadata": {
        "id": "hh-JmHUusZfN",
        "colab_type": "code",
        "colab": {}
      },
      "cell_type": "code",
      "source": [
        ""
      ],
      "execution_count": 0,
      "outputs": []
    }
  ]
}