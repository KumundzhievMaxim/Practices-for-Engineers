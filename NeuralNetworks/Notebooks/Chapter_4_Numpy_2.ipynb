{
  "nbformat": 4,
  "nbformat_minor": 0,
  "metadata": {
    "colab": {
      "name": "Chapter_4_Numpy_2.ipynb",
      "version": "0.3.2",
      "provenance": [],
      "collapsed_sections": []
    },
    "kernelspec": {
      "display_name": "Python 3",
      "language": "python",
      "name": "python3"
    }
  },
  "cells": [
    {
      "metadata": {
        "id": "IkB3k3zTvHVy",
        "colab_type": "text"
      },
      "cell_type": "markdown",
      "source": [
        "**Created by:**\n",
        "\n",
        "__[Gábor Tompa](https://github.com/Galdair)__ (code and text)\n",
        "<br>\n",
        "__[Zoltán Ádám Milacski](https://github.com/srph25)__ (text error fixing and code optimization)\n",
        "\n",
        "\n",
        "\n",
        "<br>\n",
        "\n",
        "**Edited by:**\n",
        "\n",
        "__[Zoltán Ádám Milacski](https://github.com/srph25)__\n",
        "\n",
        "<br>\n",
        "\n",
        "<img src=\"https://docs.google.com/uc?export=download&id=1WzgXsCoz8O-NeBlJTbuLPC1iIFDmgYt1\" style=\"display:inline-block\">\n",
        "<hr>"
      ]
    },
    {
      "metadata": {
        "id": "UhpBvwVjvHV5",
        "colab_type": "text"
      },
      "cell_type": "markdown",
      "source": [
        "# Chapter 4: Numpy II.\n",
        "\n",
        "## Numpy Operations\n",
        "The basic array manipulation methods on\n",
        "* scalars\n",
        "* matrices\n",
        "* higher order tensors\n",
        "\n",
        "## Reductions and Broadcasting\n",
        "* Reductions are important and efficient\n",
        "    * Summation, map\n",
        "    * Inspired by functional programming\n",
        "* Broadcasting\n",
        "    * Multivariate operations on arrays with different shapes\n",
        "\n",
        "## Shape manipulation and Sorting\n",
        "* Adding new axes\n",
        "* Transposing\n",
        "* Sorting"
      ]
    },
    {
      "metadata": {
        "id": "5ysNtDcJvHV8",
        "colab_type": "text"
      },
      "cell_type": "markdown",
      "source": [
        "## Numpy Operations"
      ]
    },
    {
      "metadata": {
        "id": "X0KjKtDZvHWC",
        "colab_type": "code",
        "outputId": "2382e59f-5db1-4d39-cd99-909e080e2c43",
        "colab": {}
      },
      "cell_type": "code",
      "source": [
        "import numpy as np\n",
        "# Numpy manipulations\n",
        "scalarwise = np.arange(10)\n",
        "scalarwise_plus = scalarwise + 2\n",
        "scalarwise_multi = 2 ** scalarwise -1\n",
        "print(scalarwise, scalarwise_plus, scalarwise_multi)\n",
        "\n",
        "matrix = np.ones((3, 3))\n",
        "print(\"elementwise multiplication: \\n\", matrix * matrix, \"\\nmatrix multiplication: \\n\", matrix.dot(matrix))\n",
        "\n",
        "comp1 = np.arange(5)\n",
        "comp2 = np.arange(5, 10)\n",
        "print(comp1 == comp2) # elementwise comparison\n",
        "print(np.sin(comp1)) # elementwise mathematical functions are available"
      ],
      "execution_count": 0,
      "outputs": [
        {
          "output_type": "stream",
          "text": [
            "[0 1 2 3 4 5 6 7 8 9] [ 2  3  4  5  6  7  8  9 10 11] [  0   1   3   7  15  31  63 127 255 511]\n",
            "not matrix multiplication: \n",
            " [[1. 1. 1.]\n",
            " [1. 1. 1.]\n",
            " [1. 1. 1.]] \n",
            "matrix multiplication: \n",
            " [[3. 3. 3.]\n",
            " [3. 3. 3.]\n",
            " [3. 3. 3.]]\n",
            "[False False False False False]\n",
            "[ 0.          0.84147098  0.90929743  0.14112001 -0.7568025 ]\n",
            "105\n",
            "[3 3] [3 3] [2 4]\n",
            "[[ 0  1  2]\n",
            " [10 11 12]\n",
            " [20 21 22]\n",
            " [30 31 32]]\n",
            "(2, 3) [1 2 3 4 5 6] [[1 4]\n",
            " [2 5]\n",
            " [3 6]]\n",
            "[[1]\n",
            " [2]\n",
            " [3]]\n",
            "[[1 2 3]]\n",
            "[2 3 1 0]\n",
            "[1 2 3 4]\n",
            "0 2\n"
          ],
          "name": "stdout"
        }
      ]
    },
    {
      "metadata": {
        "id": "xcBQO7tjvHWR",
        "colab_type": "text"
      },
      "cell_type": "markdown",
      "source": [
        "# Reductions and Broadcasting"
      ]
    },
    {
      "metadata": {
        "id": "n4-r1_OuvHWU",
        "colab_type": "code",
        "colab": {}
      },
      "cell_type": "code",
      "source": [
        "# Reduction\n",
        "summed = np.arange(15)\n",
        "print(np.sum(summed))\n",
        "multi_dim_sum = np.array([[1, 1], [2, 2]])\n",
        "print(np.sum(multi_dim_sum), multi_dim_sum.sum(axis=0), multi_dim_sum.sum(axis=1)) # summation across different axes\n",
        "\n",
        "# Broadcasting\n",
        "broad1 = np.tile(np.arange(0, 40, 10), (3, 1)).T\n",
        "broad2 = np.array([0, 1, 2])\n",
        "print(broad1 + broad2) # adding up two arrays with different but broadcastable shapes works"
      ],
      "execution_count": 0,
      "outputs": []
    },
    {
      "metadata": {
        "id": "SH2JD2xxvHWe",
        "colab_type": "text"
      },
      "cell_type": "markdown",
      "source": [
        "# Shape manipulation and Sorting"
      ]
    },
    {
      "metadata": {
        "id": "8p0XUcv9vHWg",
        "colab_type": "code",
        "outputId": "8b6d47ce-1cf9-4904-a3cb-52e202d887d3",
        "colab": {}
      },
      "cell_type": "code",
      "source": [
        "manipulated_array= np.array([[1, 2, 3], [4, 5, 6]])\n",
        "print(manipulated_array.shape, manipulated_array.ravel(), manipulated_array.T) # shape, ravel and transpose \n",
        "\n",
        "z = np.array([1, 2, 3])\n",
        "\n",
        "print(z[:, np.newaxis])\n",
        "\n",
        "print(z[np.newaxis, :])\n",
        "\n",
        "# Sorting\n",
        "a = np.array([[4, 3, 5], [1, 2, 1]])\n",
        "b = np.sort(a, axis=1)\n",
        "\n",
        "a.sort(axis=1)\n",
        "\n",
        "a = np.array([4, 3, 1, 2])\n",
        "j = np.argsort(a)\n",
        "print(j)\n",
        "\n",
        "print(a[j])\n",
        "\n",
        "a = np.array([4, 3, 1, 2])\n",
        "j_max = np.argmax(a)\n",
        "j_min = np.argmin(a)\n",
        "print(j_max, j_min)"
      ],
      "execution_count": 0,
      "outputs": [
        {
          "output_type": "stream",
          "text": [
            "(2, 3) [1 2 3 4 5 6] [[1 4]\n",
            " [2 5]\n",
            " [3 6]]\n",
            "[[1]\n",
            " [2]\n",
            " [3]]\n",
            "[[1 2 3]]\n",
            "[2 3 1 0]\n",
            "[1 2 3 4]\n",
            "0 2\n"
          ],
          "name": "stdout"
        }
      ]
    },
    {
      "metadata": {
        "id": "zBkCxPkZvHWr",
        "colab_type": "text"
      },
      "cell_type": "markdown",
      "source": [
        "# References\n",
        "\n",
        "* Basic tutorial: https://www.scipy-lectures.org/intro/numpy/operations.html\n",
        "\n",
        "* Another tutorial: https://docs.scipy.org/doc/numpy/user/quickstart.html\n",
        "\n",
        "* API Reference: https://docs.scipy.org/doc/numpy/reference/index.html\n"
      ]
    },
    {
      "metadata": {
        "id": "b-QXWmNHvHWu",
        "colab_type": "code",
        "colab": {}
      },
      "cell_type": "code",
      "source": [
        ""
      ],
      "execution_count": 0,
      "outputs": []
    }
  ]
}