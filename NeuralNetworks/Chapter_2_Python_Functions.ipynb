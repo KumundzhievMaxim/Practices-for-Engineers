{
  "nbformat": 4,
  "nbformat_minor": 0,
  "metadata": {
    "colab": {
      "name": "Chapter_2_Python_Functions.ipynb",
      "version": "0.3.2",
      "provenance": [],
      "collapsed_sections": []
    },
    "kernelspec": {
      "display_name": "Python 3",
      "language": "python",
      "name": "python3"
    }
  },
  "cells": [
    {
      "metadata": {
        "id": "xwFvHNV0suBc",
        "colab_type": "text"
      },
      "cell_type": "markdown",
      "source": [
        "**Created by:**\n",
        "\n",
        "__[Gábor Tompa](https://github.com/Galdair)__ (code and text)\n",
        "<br>\n",
        "__[Zoltán Ádám Milacski](https://github.com/srph25)__ (text error fixing and code optimization)\n",
        "\n",
        "\n",
        "\n",
        "<br>\n",
        "\n",
        "**Edited by:**\n",
        "\n",
        "__[Zoltán Ádám Milacski](https://github.com/srph25)__\n",
        "\n",
        "<br>\n",
        "\n",
        "<img src=\"https://docs.google.com/uc?export=download&id=1WzgXsCoz8O-NeBlJTbuLPC1iIFDmgYt1\" style=\"display:inline-block\">\n",
        "<hr>"
      ]
    },
    {
      "metadata": {
        "id": "7x0SJeKHsuBj",
        "colab_type": "text"
      },
      "cell_type": "markdown",
      "source": [
        "# Chapter 2: Python: Functions\n",
        "* def keyword\n",
        "    * basic keyword for functions\n",
        "* pass keyword\n",
        "    * placeholder, very handy when testing\n",
        "    * used here and in classes\n",
        "    * \"do nothing\"\n",
        "* Arguments\n",
        "    * no limitations on them\n",
        "* Can call itself\n",
        "    * There is a \"stack\", which limits the number of recursive calls (in the millions, can be overridden)\n",
        "* Can call other functions\n",
        "    * Just as with itself, there is the call stack\n",
        "    * Arguments can be functions, which can be called\n",
        "* Can contain other functions\n",
        "    * But they are not available from the main program\n",
        "* Optional Arguments\n",
        "    * Very handy tool\n",
        "    * Most of the documentation is just argument description\n",
        "    * Named arguments calls are also very handy in complicated API calls (we will also see this)"
      ]
    },
    {
      "metadata": {
        "id": "kREFsvhjsuBn",
        "colab_type": "text"
      },
      "cell_type": "markdown",
      "source": [
        "# Function basics"
      ]
    },
    {
      "metadata": {
        "id": "shraBI4KsuBu",
        "colab_type": "code",
        "outputId": "dcca48f1-5ec9-462f-9dfb-50db7e84983e",
        "colab": {}
      },
      "cell_type": "code",
      "source": [
        "def function_name(): # This is just a function, without any arguments, which does nothing\n",
        "    pass\n",
        "\n",
        "def function_Uppercase(arg1): # This is a function with a single argument, but still does nothing\n",
        "    pass\n",
        "\n",
        "def function_actually_does_something(): # Our first return statement\n",
        "    return 0\n",
        "\n",
        "def function_without_return(arg2): # But in Python that is not mandatory\n",
        "    print(arg2)\n",
        "    \n",
        "def function_that_calls_other(): # And you can freely call other functions\n",
        "    function_without_return(\"this is cool\")\n",
        "\n",
        "def function_with_multiple_arguments(arg1, arg2, arg3): # And have multiple arguments \n",
        "    #TODO: ARGUMENT OPTIONS \n",
        "    return arg1 ** 2 + arg2 ** 2 == arg3 ** 2\n",
        "\n",
        "def function_in_function(): # Or define functions inside other functions\n",
        "    #TODO: FUNCTION DOCS\n",
        "    def smallfunction(arg2):\n",
        "        return arg2 ** 2\n",
        "    return smallfunction(4)\n",
        "\n",
        "function_name()\n",
        "print(function_actually_does_something())\n",
        "function_without_return(\"This is our print function\")\n",
        "print(\"Do these numbers make a Pythagorean triad?\", function_with_multiple_arguments(3, 4, 5))\n",
        "function_without_return(\"I hope you realized by now that print is also a function\")"
      ],
      "execution_count": 0,
      "outputs": [
        {
          "output_type": "stream",
          "text": [
            "0\n",
            "there is our print function\n",
            "Do these numbers make a pythagorean triad? True\n",
            "I hope you realized by now that print is also a function\n"
          ],
          "name": "stdout"
        }
      ]
    },
    {
      "metadata": {
        "id": "jFfQ_CUOsuCD",
        "colab_type": "text"
      },
      "cell_type": "markdown",
      "source": [
        "# Advanced Functions"
      ]
    },
    {
      "metadata": {
        "scrolled": true,
        "id": "aKwDFsJbsuCH",
        "colab_type": "code",
        "outputId": "aba25c74-3f7b-4c1b-ab73-a2f973109061",
        "colab": {}
      },
      "cell_type": "code",
      "source": [
        "#Optional argument functions\n",
        "#TODO:WRITING ABOUT CALL STACK\n",
        "def opt_arg_func(arg1=0, arg2=5, arg3= 0):\n",
        "    sum = arg3\n",
        "    for i in range(arg1, arg2):\n",
        "        sum += i\n",
        "    return sum\n",
        "print(opt_arg_func(2)) # Only the first argument is specified, the rest is the default\n",
        "print(opt_arg_func(10, arg2=30)) # Not we have given two out of three\n",
        "print(opt_arg_func(arg3=6, arg2=30, arg1=5)) # Now we gave three but in different order\n",
        "print(opt_arg_func(5, 30, 6)) # And now we also defined all of them, but now in default order\n",
        "\n",
        "#Recursive Function\n",
        "def recursive_sum(max):\n",
        "    if max == 0:\n",
        "        return 0\n",
        "    else:\n",
        "        return max + recursive_sum(max-1)\n",
        "\n",
        "print(recursive_sum(10))"
      ],
      "execution_count": 0,
      "outputs": [
        {
          "output_type": "stream",
          "text": [
            "9\n",
            "390\n",
            "431\n",
            "431\n",
            "55\n"
          ],
          "name": "stdout"
        }
      ]
    },
    {
      "metadata": {
        "id": "Zn5_8lhtsuCX",
        "colab_type": "text"
      },
      "cell_type": "markdown",
      "source": [
        "# References\n",
        "\n",
        "* Basic tutorial: https://www.scipy-lectures.org/intro/language/functions.html \n",
        "\n",
        "* Another excellent tutorial: http://interactivepython.org/runestone/static/thinkcspy/Functions/toctree.html\n",
        "\n",
        "\n"
      ]
    },
    {
      "metadata": {
        "id": "OdqHd_FmsuCb",
        "colab_type": "code",
        "colab": {}
      },
      "cell_type": "code",
      "source": [
        ""
      ],
      "execution_count": 0,
      "outputs": []
    }
  ]
}