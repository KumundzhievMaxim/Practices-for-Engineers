{
 "cells": [
  {
   "cell_type": "code",
   "execution_count": 91,
   "metadata": {},
   "outputs": [],
   "source": [
    "import networkx as nx\n",
    "import numpy as np\n",
    "import matplotlib.pyplot as plt\n",
    "import random"
   ]
  },
  {
   "cell_type": "code",
   "execution_count": 11,
   "metadata": {},
   "outputs": [],
   "source": [
    "G = nx.Graph()"
   ]
  },
  {
   "cell_type": "code",
   "execution_count": 12,
   "metadata": {},
   "outputs": [
    {
     "data": {
      "image/png": "[encoded data removed]",
      "text/plain": [
       "<Figure size 432x288 with 1 Axes>"
      ]
     },
     "metadata": {},
     "output_type": "display_data"
    }
   ],
   "source": [
    "nx.draw_networkx(G)"
   ]
  },
  {
   "cell_type": "code",
   "execution_count": 20,
   "metadata": {},
   "outputs": [],
   "source": [
    "G.add_edges_from([\n",
    "    (1,2),\n",
    "    (1,3),\n",
    "    (1,5),\n",
    "    (2,4),\n",
    "    (4,3),\n",
    "    (3,5),\n",
    "    (4,6)])\n"
   ]
  },
  {
   "cell_type": "code",
   "execution_count": 21,
   "metadata": {},
   "outputs": [
    {
     "data": {
      "image/png": "[encoded data removed]",
      "text/plain": [
       "<Figure size 432x288 with 1 Axes>"
      ]
     },
     "metadata": {},
     "output_type": "display_data"
    }
   ],
   "source": [
    "nx.draw_networkx(G)"
   ]
  },
  {
   "cell_type": "markdown",
   "metadata": {},
   "source": [
    " - <s>The links to be swapped should have the largest edge betweenness values!</s> \n",
    " - In case of equal betweennesses, choose the two candidates randomly. \n",
    " - The ending node of the edges with higher degree should be swapped, or in case of equality, choose the node at random."
   ]
  },
  {
   "cell_type": "markdown",
   "metadata": {},
   "source": [
    "### The links to be swapped should have the largest edge betweenness values!"
   ]
  },
  {
   "cell_type": "code",
   "execution_count": 78,
   "metadata": {},
   "outputs": [
    {
     "data": {
      "text/plain": [
       "{(1, 2): 0.23333333333333334,\n",
       " (1, 3): 0.16666666666666666,\n",
       " (1, 5): 0.13333333333333333,\n",
       " (2, 4): 0.23333333333333334,\n",
       " (3, 4): 0.36666666666666664,\n",
       " (3, 5): 0.2,\n",
       " (4, 6): 0.3333333333333333}"
      ]
     },
     "execution_count": 78,
     "metadata": {},
     "output_type": "execute_result"
    }
   ],
   "source": [
    "from itertools import chain \n",
    "from collections import Counter\n",
    "#Find edge betweeness centrality (for edges)\n",
    "betw_centr = nx.edge_betweenness_centrality(G)\n",
    "\n",
    "# printing initial_dictionary \n",
    "betw_centr"
   ]
  },
  {
   "cell_type": "code",
   "execution_count": 81,
   "metadata": {},
   "outputs": [
    {
     "name": "stdout",
     "output_type": "stream",
     "text": [
      " \n",
      " resultant key {(1, 2), (2, 4)}\n"
     ]
    }
   ],
   "source": [
    "####equal betweennesses\n",
    "# finding duplicate values \n",
    "# from dictionary using set \n",
    "rev_dict = {} \n",
    "for key, value in betw_centr.items(): \n",
    "    rev_dict.setdefault(value, set()).add(key) \n",
    "    \n",
    "result = set(chain.from_iterable( \n",
    "         values for key, values in rev_dict.items() \n",
    "         if len(values) > 1)) \n",
    "  \n",
    "# printing result \n",
    "print(\" \\n resultant key\", str(result))"
   ]
  },
  {
   "cell_type": "code",
   "execution_count": 83,
   "metadata": {},
   "outputs": [
    {
     "data": {
      "text/plain": [
       "[((3, 4), 0.36666666666666664), ((4, 6), 0.3333333333333333)]"
      ]
     },
     "execution_count": 83,
     "metadata": {},
     "output_type": "execute_result"
    }
   ],
   "source": [
    "#Should be swaped\n",
    "Counter(betw_centr).most_common(2)"
   ]
  },
  {
   "cell_type": "code",
   "execution_count": 89,
   "metadata": {},
   "outputs": [
    {
     "data": {
      "image/png": "[encoded data removed]",
      "text/plain": [
       "<Figure size 432x288 with 1 Axes>"
      ]
     },
     "metadata": {},
     "output_type": "display_data"
    }
   ],
   "source": [
    "#Define 2 new edges from that which we had found\n",
    "#Remove 2 found edges \n",
    "#Add new edges\n",
    "\n",
    "adj = [(3, 6),\n",
    "       (4, 4)]\n",
    "\n",
    "G.update(edges=adj)\n",
    "\n",
    "nx.draw_networkx(G)"
   ]
  },
  {
   "cell_type": "markdown",
   "metadata": {},
   "source": [
    "### In case of equal betweennesses, choose the two candidates randomly."
   ]
  },
  {
   "cell_type": "code",
   "execution_count": 90,
   "metadata": {},
   "outputs": [
    {
     "name": "stdout",
     "output_type": "stream",
     "text": [
      " \n",
      " resultant key {(1, 2), (2, 4)}\n"
     ]
    }
   ],
   "source": [
    "#equal betweennesses\n",
    "rev_dict = {} \n",
    "for key, value in betw_centr.items(): \n",
    "    rev_dict.setdefault(value, set()).add(key) \n",
    "    \n",
    "result = set(chain.from_iterable( \n",
    "         values for key, values in rev_dict.items() \n",
    "         if len(values) > 1)) \n",
    "  \n",
    "# printing result \n",
    "print(\" \\n resultant key\", str(result))"
   ]
  },
  {
   "cell_type": "code",
   "execution_count": 92,
   "metadata": {},
   "outputs": [
    {
     "data": {
      "text/plain": [
       "[(2, 4), (1, 2)]"
      ]
     },
     "execution_count": 92,
     "metadata": {},
     "output_type": "execute_result"
    }
   ],
   "source": [
    "random.sample(set(result), 2)"
   ]
  },
  {
   "cell_type": "code",
   "execution_count": 121,
   "metadata": {},
   "outputs": [
    {
     "data": {
      "image/png": "[encoded data removed]",
      "text/plain": [
       "<Figure size 432x288 with 1 Axes>"
      ]
     },
     "metadata": {},
     "output_type": "display_data"
    }
   ],
   "source": [
    "res = []\n",
    "for i in result:\n",
    "    res.append(random.sample(i, 1))\n",
    "    \n",
    "flat_list = [item for sublist in res for item in sublist]\n",
    "\n",
    "G.update(edges=[tuple(flat_list)])\n",
    "\n",
    "nx.draw_networkx(G)"
   ]
  },
  {
   "cell_type": "code",
   "execution_count": 122,
   "metadata": {},
   "outputs": [
    {
     "data": {
      "text/plain": [
       "{(1, 2): 0.2,\n",
       " (1, 3): 0.2,\n",
       " (1, 5): 0.13333333333333333,\n",
       " (2, 4): 0.2,\n",
       " (3, 4): 0.2,\n",
       " (3, 5): 0.2,\n",
       " (3, 6): 0.2,\n",
       " (4, 6): 0.13333333333333333,\n",
       " (4, 4): 0.0}"
      ]
     },
     "execution_count": 122,
     "metadata": {},
     "output_type": "execute_result"
    }
   ],
   "source": [
    "#Find edge betweeness centrality (for edges)\n",
    "betw_centr = nx.edge_betweenness_centrality(G)\n",
    "\n",
    "#final edge betweeness centrality\n",
    "betw_centr"
   ]
  },
  {
   "cell_type": "code",
   "execution_count": null,
   "metadata": {},
   "outputs": [],
   "source": []
  }
 ],
 "metadata": {
  "kernelspec": {
   "display_name": "Python 3",
   "language": "python",
   "name": "python3"
  },
  "language_info": {
   "codemirror_mode": {
    "name": "ipython",
    "version": 3
   },
   "file_extension": ".py",
   "mimetype": "text/x-python",
   "name": "python",
   "nbconvert_exporter": "python",
   "pygments_lexer": "ipython3",
   "version": "3.7.4"
  }
 },
 "nbformat": 4,
 "nbformat_minor": 2
}
