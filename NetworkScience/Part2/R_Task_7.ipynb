{
 "cells": [
  {
   "cell_type": "code",
   "execution_count": null,
   "metadata": {},
   "outputs": [],
   "source": [
    "import matplotlib.pyplot as plt\n",
    "import networkx as nx\n",
    "import random\n",
    "import newspaper\n",
    "import tethne.readers as rd\n",
    "import tethne.networks as nt\n",
    "from tethne.builders import authorCollectionBuilder\n",
    "from tethne.data import DataCollection, GraphCollection"
   ]
  },
  {
   "cell_type": "code",
   "execution_count": null,
   "metadata": {},
   "outputs": [],
   "source": [
    "#I dont have access for oktatas.mtmt.hu\n",
    "#So will use another web app"
   ]
  },
  {
   "cell_type": "code",
   "execution_count": null,
   "metadata": {},
   "outputs": [],
   "source": [
    "#It can be required\n",
    "#!pip install tethne --pre"
   ]
  },
  {
   "cell_type": "code",
   "execution_count": null,
   "metadata": {},
   "outputs": [],
   "source": [
    "papers = rd.wos.read(\"/Users/macbook/Documents/I/University ELTE/3 Semester/Network Science Pr/test.txt\")\n",
    "papers = rd.dfr.read(\"/Users/macbook/Documents/I/University ELTE/3 Semester/Network Science Pr/test.txt\")"
   ]
  },
  {
   "cell_type": "code",
   "execution_count": null,
   "metadata": {},
   "outputs": [],
   "source": [
    "BC = nt.papers.bibliographic_coupling(papers, threshold=2)"
   ]
  },
  {
   "cell_type": "code",
   "execution_count": null,
   "metadata": {},
   "outputs": [],
   "source": [
    "# Create a DataCollection, and slice it.\n",
    "D = DataCollection(papers)\n",
    "D.slice('date', 'time_window', window_size=4)"
   ]
  },
  {
   "cell_type": "code",
   "execution_count": null,
   "metadata": {},
   "outputs": [],
   "source": [
    "#Or\n",
    "# Build a GraphCollection using a network from tethne.networks.\n",
    "builder = authorCollectionBuilder(D)\n",
    "C = builder.build('date', 'coauthors')"
   ]
  },
  {
   "cell_type": "code",
   "execution_count": null,
   "metadata": {},
   "outputs": [],
   "source": [
    "#Find all the author: publication\n",
    "#Create the lists of the most important authors and find those ones who are in a bridge position.\n",
    "my_list = dict(sorted(C.items(), key = itemgetter(1), reverse = True)[:-1])\n",
    "\n",
    "_ = [{author: publication} for author in my_list.keys() for publication in my_list.values()]"
   ]
  },
  {
   "cell_type": "code",
   "execution_count": null,
   "metadata": {},
   "outputs": [],
   "source": [
    "#Determine the component size distribution\n",
    "graphs = list(nx.connected_component_subgraphs(C))"
   ]
  },
  {
   "cell_type": "code",
   "execution_count": null,
   "metadata": {},
   "outputs": [],
   "source": [
    "#Or better use max()\n",
    "Gc = max(nx.connected_component_subgraphs(C), key=len)"
   ]
  },
  {
   "cell_type": "code",
   "execution_count": null,
   "metadata": {},
   "outputs": [],
   "source": []
  }
 ],
 "metadata": {
  "kernelspec": {
   "display_name": "Python 3",
   "language": "python",
   "name": "python3"
  },
  "language_info": {
   "codemirror_mode": {
    "name": "ipython",
    "version": 3
   },
   "file_extension": ".py",
   "mimetype": "text/x-python",
   "name": "python",
   "nbconvert_exporter": "python",
   "pygments_lexer": "ipython3",
   "version": "3.7.4"
  }
 },
 "nbformat": 4,
 "nbformat_minor": 2
}
