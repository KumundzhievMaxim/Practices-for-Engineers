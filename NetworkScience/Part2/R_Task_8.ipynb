{
 "cells": [
  {
   "cell_type": "code",
   "execution_count": null,
   "metadata": {},
   "outputs": [],
   "source": [
    "import matplotlib.pyplot as plt\n",
    "import networkx as nx\n",
    "import random"
   ]
  },
  {
   "cell_type": "markdown",
   "metadata": {},
   "source": [
    "a) Create a network from 100 small Erdős-Rényi graphs, where number of nodes in the small networks varies between 5 and 10 randomly and each small network has only one connected component!\n",
    "\n",
    "b) Create a ring from these networks! The longest one from all shortest paths of the ring should be 200 steps long.\n",
    "\n",
    "c) Select 10 nodes randomly, and simulate an SI model! The 10 selected nodes are the initially infected nodes and other nodes are healthy at the beginning. Draw the fraction of infected nodes step-by-step, when the infection probability is 0.02!"
   ]
  },
  {
   "cell_type": "code",
   "execution_count": null,
   "metadata": {},
   "outputs": [],
   "source": [
    "def erdos_renyi(G, p):\n",
    "    for i in G.nodes():\n",
    "        for j in G.nodes():\n",
    "            if i != j:\n",
    "                r = random.random()\n",
    "                if r <= p:\n",
    "                    G.add_edge(i, j)\n",
    "                    ne = [(i, j)]\n",
    "                    display_graph(G, '', ne)\n",
    "                else:\n",
    "                    ne = []\n",
    "                    display_graph (G, '', ne)\n",
    "                    continue"
   ]
  },
  {
   "cell_type": "code",
   "execution_count": null,
   "metadata": {},
   "outputs": [],
   "source": [
    "def plot_degree_distribution(G):\n",
    "    all_degrees = [val for (node, val) in G.degree()]\n",
    "    unique_degrees = list(set(all_degrees))\n",
    "    unique_degrees.sort()\n",
    "    count_of_degrees = []\n",
    "\n",
    "    for i in unique_degrees:\n",
    "        c = all_degrees.count(i)\n",
    "        count_of_degrees.append(c)\n",
    "\n",
    "    print(unique_degrees)\n",
    "    print(count_of_degrees)\n",
    "\n",
    "\n",
    "    plt.plot(unique_degrees, count_of_degrees, '-ro')\n",
    "    plt.xlabel('Degrees')\n",
    "    plt.ylabel('Number of nodes')\n",
    "    plt.title('Degree Distribution')\n",
    "    plt.show()"
   ]
  },
  {
   "cell_type": "code",
   "execution_count": null,
   "metadata": {},
   "outputs": [],
   "source": [
    "def display_graph(G, i, ne):\n",
    "    pos = nx.spring_layout(G)\n",
    "    if i == '' and ne == '':\n",
    "        new_node = []\n",
    "        rest_nodes = G.nodes()\n",
    "        new_edges = []\n",
    "        rest_edges = G.edges()\n",
    "    elif i == '':\n",
    "        # new_node = [i]\n",
    "        # rest_nodes = list(set(G.nodes()) - set(new_node))\n",
    "        rest_nodes = G.nodes ()\n",
    "        new_edges = ne\n",
    "        rest_edges = list(set(G.edges()) - set(new_edges) - set([(b,a) for (a,b) in new_edges]))\n",
    "    #nx.draw_networkx_nodes(G, pos, nodelist=new_node, node_color='g')\n",
    "    nx.draw_networkx_nodes(G, pos, nodelist=rest_nodes, node_color='r')\n",
    "    nx.draw_networkx_edges(G, pos, nodelist=new_edges, edge_color='g', style='dashdot')\n",
    "    nx.draw_networkx_edges(G, pos, nodelist=rest_edges, node_color='r')\n",
    "    plt.show()"
   ]
  },
  {
   "cell_type": "code",
   "execution_count": null,
   "metadata": {},
   "outputs": [],
   "source": [
    "def main():\n",
    "    #100 Small graphs\n",
    "    final_graphs = []\n",
    "    for number_of_graphs in range(100):\n",
    "        #Randomly chosen between 5 and 10 \n",
    "        n, p = random.sample(range(5,10), 2)\n",
    "        G = nx.Graph()\n",
    "        G.add_nodes_from([i for i in range(n)])\n",
    "        display_graph(G, '', '')\n",
    "        print(nx.number_connected_components(G))\n",
    "        erdos_renyi(G, p)\n",
    "        print(nx.number_connected_components(G))\n",
    "        if nx.number_connected_components(G) == 1:\n",
    "            final_graphs.append(G)\n",
    "        number_of_graphs += 1\n",
    "        #plot_degree_distribution(G)\n",
    "    return final_graphs\n"
   ]
  },
  {
   "cell_type": "code",
   "execution_count": null,
   "metadata": {},
   "outputs": [],
   "source": [
    "main()"
   ]
  },
  {
   "cell_type": "code",
   "execution_count": null,
   "metadata": {},
   "outputs": [],
   "source": []
  },
  {
   "cell_type": "code",
   "execution_count": null,
   "metadata": {},
   "outputs": [],
   "source": [
    "#WE NEED USE final_graphs variable in order to get all the needed graps,\n",
    "#using which we will define and create our network\n",
    "#create_using=\n",
    "\n",
    "G_ring = nx.union([graph for graph in final_graphs])\n",
    "\n",
    "#Calculating \n",
    "nx.average_shortest_path_lenght(G_ring)"
   ]
  },
  {
   "cell_type": "code",
   "execution_count": null,
   "metadata": {},
   "outputs": [],
   "source": []
  },
  {
   "cell_type": "code",
   "execution_count": null,
   "metadata": {},
   "outputs": [],
   "source": [
    "#SI Model\n",
    "N = 1000000\n",
    "S = N - 1\n",
    "I = 1\n",
    "beta = 0.6\n",
    "\n",
    "#nodes = random.sample(set(G_ring.nodes), 2)\n",
    "\n",
    "sus = [] # infected compartment\n",
    "inf = [] # susceptible compartment\n",
    "prob = [] # probability of infection at time t\n",
    "\n",
    "def infection(S, I, N):\n",
    "    t = 0\n",
    "    while (t < 100):\n",
    "        S, I = S - beta * ((S * I / N)), I + beta * ((S * I) / N)\n",
    "        p = beta * (I / N)\n",
    "\n",
    "        sus.append(S)\n",
    "        inf.append(I)\n",
    "        prob.append(p)\n",
    "        t = t + 1\n",
    "\n",
    "infection(S, I, N)\n",
    "figure = plt.figure()\n",
    "figure.canvas.set_window_title('SI model')\n",
    "\n",
    "figure.add_subplot(211)\n",
    "inf_line, =plt.plot(inf, label='I(t)')\n",
    "\n",
    "sus_line, = plt.plot(sus, label='S(t)')\n",
    "plt.legend(handles=[inf_line, sus_line])\n",
    "\n",
    "plt.ticklabel_format(style='sci', axis='y', scilimits=(0,0)) # use scientific notation\n",
    "\n",
    "ax = figure.add_subplot(212)\n",
    "prob_line = plt.plot(prob, label='p(t)')\n",
    "plt.legend(handles=prob_line)\n",
    "\n",
    "type(ax)  # matplotlib.axes._subplots.AxesSubplot\n",
    "\n",
    "# manipulate\n",
    "vals = ax.get_yticks()\n",
    "ax.set_yticklabels(['{:3.2f}%'.format(x*100) for x in vals])\n",
    "\n",
    "plt.xlabel('T')\n",
    "plt.ylabel('p')\n",
    "\n",
    "plt.show()"
   ]
  },
  {
   "cell_type": "code",
   "execution_count": null,
   "metadata": {},
   "outputs": [],
   "source": []
  }
 ],
 "metadata": {
  "kernelspec": {
   "display_name": "Python 3",
   "language": "python",
   "name": "python3"
  },
  "language_info": {
   "codemirror_mode": {
    "name": "ipython",
    "version": 3
   },
   "file_extension": ".py",
   "mimetype": "text/x-python",
   "name": "python",
   "nbconvert_exporter": "python",
   "pygments_lexer": "ipython3",
   "version": "3.7.4"
  }
 },
 "nbformat": 4,
 "nbformat_minor": 2
}
