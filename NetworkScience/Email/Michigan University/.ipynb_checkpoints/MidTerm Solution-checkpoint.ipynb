{
 "cells": [
  {
   "cell_type": "markdown",
   "metadata": {},
   "source": [
    "### Problem_1\n",
    "Suppose we index the nodes from 10 to 13 in a small network of 4 nodes.\n",
    "\n",
    "\n",
    "Create an optimal visualization of the network with cytoscape by hand. The network is characterized by the following adjacency matrix:\n",
    "\n",
    "0\t1.3\t5.6\t0<br>\n",
    "0\t0\t1.6\t6.4<br>\n",
    "10.3\t0\t0\t0<br>\n",
    "32.7\t11.1\t3.4\t0<br>\n",
    "\n",
    "The visualization should show to names of the nodes and the weights of the edges as numbers.\n",
    "\n",
    "Upload two files as solutions: the cys file and the jpg file showing the network!\n",
    "Fill in the text entry with a list of features of the visualization that make it optimal!\n"
   ]
  },
  {
   "cell_type": "code",
   "execution_count": 6,
   "metadata": {},
   "outputs": [],
   "source": [
    "#!cat adjacency_matrix.txt"
   ]
  },
  {
   "cell_type": "code",
   "execution_count": 11,
   "metadata": {},
   "outputs": [
    {
     "name": "stdout",
     "output_type": "stream",
     "text": [
      "Adj matrix \n",
      " [[ 0.   1.3  5.6  0. ]\n",
      " [ 0.   0.   1.6  6.4]\n",
      " [10.3  0.   0.   0. ]\n",
      " [32.7 11.1  3.4  0. ]]\n"
     ]
    },
    {
     "data": {
      "text/plain": [
       "EdgeView([(0, 1), (0, 2), (0, 3), (1, 2), (1, 3), (2, 3)])"
      ]
     },
     "execution_count": 11,
     "metadata": {},
     "output_type": "execute_result"
    }
   ],
   "source": [
    "import networkx as nx\n",
    "import pandas as pd\n",
    "import matplotlib.pyplot as plt\n",
    "import numpy as np\n",
    "%matplotlib notebook\n",
    "\n",
    "# G = nx.read_adjlist('adjacency_matrix.txt', nodetype=int)\n",
    "# G.edges()\n",
    "\n",
    "G_mat = np.array([[0,1.3,5.6,0],\n",
    "                  [0,0,1.6,6.4],\n",
    "                  [10.3,0,0,0],\n",
    "                  [32.7,11.1,3.4,0]])\n",
    "\n",
    "print('Adj matrix','\\n', G_mat)\n",
    "\n",
    "#Define graph using adj matrix\n",
    "G = nx.Graph(G_mat)\n",
    "G.edges()\n",
    "\n",
    "#Plot graph\n",
    "#nx.draw_networkx(G, with_labels = True)"
   ]
  },
  {
   "cell_type": "markdown",
   "metadata": {},
   "source": [
    "### Problem_2\n",
    "\n",
    "Create a network of a double ring shape like the figure below. The number of nodes should be between 100 and 110. Can you choose the number of nodes freely?\n",
    "\n",
    " - Explain in a few words, why you have chosen that particular number of nodes and why not others!\n",
    " - Visualize the network, forming the double ring structure!\n",
    " - Upload your solution as an ipython notebook!\n",
    " \n",
    " <img src=\"https://canvas.elte.hu/courses/3843/files/199740/download?verifier=d0uVu8bPtc0DbAzfyzZSGHrtdvhxkL1BhErGhaTW&wrap=1\"\n",
    "     alt=\"Markdown Monster icon\"\n",
    "     style=\"float: left; margin-right: 10px;\" />"
   ]
  },
  {
   "cell_type": "code",
   "execution_count": 77,
   "metadata": {},
   "outputs": [],
   "source": [
    "# G2 = nx.path_graph(100)\n",
    "# pos2 = nx.circular_layout(G2, scale = 1)\n",
    "\n",
    "# G3 = nx.path_graph(100)\n",
    "# pos3 = nx.circular_layout(G3, scale = 0.9)\n",
    "\n",
    "# nx.draw_networkx(G2, pos = pos2, with_labels = True)\n",
    "# nx.draw_networkx(G3, pos = pos3, with_labels = True)"
   ]
  },
  {
   "cell_type": "markdown",
   "metadata": {},
   "source": [
    "### Problem_3\n",
    "<b>Visualize the word_association network with cytoscape!</b>\n",
    " - General node shapes are triangles\n",
    " - Nodes representing words with first letter as \"A\" should be shaped as rectangles\n",
    " - Node size is proportional to the degree of the node\n",
    " - Edge width proportional to the edge betweenness\n",
    " - Node colors indicate the clustering coefficient\n",
    " - Edge colors should be the same as the color of the source node of the link\n",
    "   (you can help your self with a python script if you like)\n",
    " - Use an optimal layout\n",
    "   (choose one of the built in algorithms and explain why is it optimal for your visualization)\n",
    " - Upload the cys file and a jpg visualization of the network as solution!"
   ]
  },
  {
   "cell_type": "code",
   "execution_count": 78,
   "metadata": {},
   "outputs": [],
   "source": [
    "network = nx.read_edgelist('word_association_graph_DSF.txt',\n",
    "                                 create_using=nx.DiGraph(),\n",
    "                                 nodetype=str,\n",
    "                                 data=[('weight', float), ])"
   ]
  },
  {
   "cell_type": "code",
   "execution_count": null,
   "metadata": {},
   "outputs": [],
   "source": [
    "#nx.draw_networkx(network, node_size = 5, node_color='r', alpha=0.4, node_shape = 'd')"
   ]
  },
  {
   "cell_type": "code",
   "execution_count": 82,
   "metadata": {},
   "outputs": [],
   "source": [
    "# #Should execute\n",
    "# node_color = [network.degree(v) for v in network]\n",
    "# node_size = [0.0005*nx.get_node_attributes(network, 'weight')[v] for v in network]\n",
    "# edge_width = [0.0015*network[u][v]['weight'] for u,v in network.edges()]\n",
    "\n",
    "# nx.draw_networkx(network, pos, node_size=node_size, \n",
    "#                  node_color=node_color, alpha=0.7, with_labels=False, \n",
    "#                  width=edge_width, edge_color='.4', cmap=plt.cm.Blues)\n",
    "\n",
    "# plt.axis('off')\n",
    "# plt.tight_layout();"
   ]
  },
  {
   "cell_type": "markdown",
   "metadata": {},
   "source": [
    "### Problem_4\n",
    "\n",
    "Implement the rewiring algorithm shown in the figure below! The links to be swapped should have the largest edge betweenness values! In case of equal betweennesses, choose the two candidates randomly. The ending node of the edges with higher degree should be swapped, or in case of equality, choose the node at random.\n",
    "\n",
    "One rewiring step is only a small change in the network. One of your colleagues wants to apply this algorithm to a huge network, and asks you to write a small piece of code, which updates the network centrality values only for those nodes and edges, that where swapped. Explain in a few words, how would you implement this updating code, or would you implement it at all? Why?\n",
    "\n",
    "[Link for PDF](https://canvas.elte.hu/courses/3843/files/199776/download?verifier=gclWd1OUTgwFCnrwdTIFCyEBh3PZsQSsV3uKaplu&wrap=1)"
   ]
  },
  {
   "cell_type": "code",
   "execution_count": null,
   "metadata": {},
   "outputs": [],
   "source": [
    "import operator\n",
    "#Betwenness Centrality - Edges, Approach 1 \n",
    "#Define a network --> next\n",
    "btwnCent_edge = nx.edge_betweenness_centrality(G, normalized = True)\n",
    "sorted(btwnCent_edge.items(), key = operator.itemgetter(i), reverse = True)\n",
    "\n",
    "\n",
    "#Betwenness Centrality, Approach 2\n",
    "btwnCent = nx.betweenness_centrality(G, normalized = True, endpoints = False)\n",
    "sorted(btwnCent.items(), key = operator.getitem(1), reverse = True)\n",
    "\n",
    "#Simple Betwenness\n",
    "nx.betweenness(G, normalized = True) #--> will get the dict\n",
    "\n"
   ]
  },
  {
   "cell_type": "markdown",
   "metadata": {},
   "source": [
    "### Problem_5\n",
    "\n",
    "Create 3 networks with networkx: a clique of 4, 5 and 6 nodes! (Clique is a fully connected graph, where each node is connected to all other nodes.)\n",
    "\n",
    "Select one node from each of the networks, and connect them with each other. In this way a small ring of three cliques emerges.\n",
    "\n",
    "Rewire this network by connecting two unconnected nodes with the highest clustering coefficients, and remove one edge, that connects one of the node pairs with the smallest clustering coefficients! (The sum of the clustering coefficients of the ending nodes of the link should be minimal.)\n",
    "\n",
    "Repeat this rewiring step several times, and track the changes of the degree distribution! Try to make a figure, which shows the change in the distribution and interpret the result! (Recall, what are the single valued descriptors of a distribution?)"
   ]
  },
  {
   "cell_type": "code",
   "execution_count": 88,
   "metadata": {},
   "outputs": [],
   "source": [
    "# Create the maximal clique graph of a graph. \n",
    "# It finds the maximal cliques and treats these as nodes. \n",
    "# The nodes are connected if they have common members in  \n",
    "# the original graph.  Theory has done a lot with clique \n",
    "# graphs, but I haven't seen much on maximal clique graphs.\n",
    "\n",
    "def make_max_clique_graph(G,create_using=None,name=None): \n",
    "    cliq = find_cliques(G) \n",
    "    size = len(cliq) \n",
    "    if create_using: \n",
    "        B = create_using \n",
    "        B.clear() \n",
    "    else: \n",
    "        B = networkx.Graph() \n",
    "        if name is not None: \n",
    "            B.name = name \n",
    "    for i in range(1,size+1): \n",
    "        B.add_node(i) \n",
    "        cl = cliq[i-1] \n",
    "    for j in range(i+1,size+1): \n",
    "        other_cl = cliq[j-1] \n",
    "        intersect = [ w for w in cl if w in other_cl ] \n",
    "        if intersect:     # Not empty list \n",
    "            B.add_edge(i,j) \n",
    "    return B "
   ]
  },
  {
   "cell_type": "code",
   "execution_count": 89,
   "metadata": {},
   "outputs": [],
   "source": [
    "# Return the clique number (size the largest clique) for G. \n",
    "# Optional list of cliques can be input if already computed. \n",
    "def graph_clique_number(G,cliques=None): \n",
    "    if cliques is None: \n",
    "        cliques=find_cliques(G) \n",
    "    return max([len(c) for c in cliques]) \n",
    "   \n",
    "def graph_number_of_cliques(G,cliques=None): \n",
    "    if cliques is None:\n",
    "        cliques=find_cliques(G) \n",
    "    return len(cliques) "
   ]
  },
  {
   "cell_type": "code",
   "execution_count": null,
   "metadata": {},
   "outputs": [],
   "source": []
  }
 ],
 "metadata": {
  "kernelspec": {
   "display_name": "Python 3",
   "language": "python",
   "name": "python3"
  },
  "language_info": {
   "codemirror_mode": {
    "name": "ipython",
    "version": 3
   },
   "file_extension": ".py",
   "mimetype": "text/x-python",
   "name": "python",
   "nbconvert_exporter": "python",
   "pygments_lexer": "ipython3",
   "version": "3.7.4"
  }
 },
 "nbformat": 4,
 "nbformat_minor": 2
}
