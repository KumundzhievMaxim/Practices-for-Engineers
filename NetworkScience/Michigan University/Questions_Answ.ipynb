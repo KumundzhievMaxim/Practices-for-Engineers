{
 "cells": [
  {
   "cell_type": "markdown",
   "metadata": {},
   "source": [
    "1) Provide a formula giving the total number of links as a function of the adjacency matrix, (treating the directed and undirected cases separately).\n",
    " - The adjacency matrix of an undirected simple graph is symmetric, and therefore has a complete set of real eigenvalues and an orthogonal eigenvector basis. The set of eigenvalues of a graph is the spectrum of the graph.[5] It is common to denote the eigenvalues by ${\\displaystyle \\lambda _{1}\\geq \\lambda _{2}\\geq \\cdots \\geq \\lambda _{n}.}{\\displaystyle \\lambda _{1}\\geq \\lambda _{2}\\geq \\cdots \\geq \\lambda _{n}.}$\n",
    " - The greatest eigenvalue {\\displaystyle \\lambda _{1}}\\lambda _{1} is bounded above by the maximum degree. This can be seen as result of the Perron–Frobenius theorem, but it can be proved easily. Let v be one eigenvector associated to {\\displaystyle \\lambda _{1}}\\lambda _{1} and x the component in which v has maximum absolute value. Without loss of generality assume vx is positive since otherwise you simply take the eigenvector {\\displaystyle -v}-v, also associated to {\\displaystyle \\lambda _{1}}\\lambda _{1}. Then\n",
    "${\\displaystyle \\lambda v_{x}=(Av)_{x}=\\sum _{y=1}^{n}A_{x,y}v_{y}\\leq \\sum _{y=1}^{n}A_{x,y}v_{x}=v_{x}\\deg(x).}{\\displaystyle \\lambda v_{x}=(Av)_{x}=\\sum _{y=1}^{n}A_{x,y}v_{y}\\leq \\sum _{y=1}^{n}A_{x,y}v_{x}=v_{x}\\deg(x).}$"
   ]
  },
  {
   "cell_type": "markdown",
   "metadata": {},
   "source": [
    "2) Provide a formula giving the total number of paths of length ` between nodes\n",
    "i and j as a function of the adjacency matrix.\n",
    "\n",
    "Approach: It is obvious that given adjacency matrix is the answer to the problem for the case k = 1. It contains the number of paths of length 1 between each pair of vertices.\n",
    "Let’s assume that the answer for some k is Matk and the answer for k + 1 is Matk + 1.\n",
    "\n",
    "$Matk + 1[i][j] = ∑p = 1NMatk[i][p]*G[p][j]$\n",
    "\n",
    "It is easy to see that the formula computes nothing other than the product of the matrices Matk and G i.e. $Matk + 1 = Matk * G$\n",
    "\n",
    "Thus, the solution of the problem can be represented as $Matk = G * G * … * G(k times) = Gk$"
   ]
  },
  {
   "cell_type": "markdown",
   "metadata": {},
   "source": [
    "3) Highest betweenness centrality?\n",
    "Betweenness centrality measures how important a node is to the shortest paths through the network. To compute betweenness for a node N, we select a pair of nodes and find all the shortest paths between those nodes. Then we compute the fraction of those shortest paths that include node N. If there were five shortest paths between a pair of nodes, and three of them went through node N, then the fraction would be 3÷5=0.6. We repeat this process for every pair of nodes in the network. We then add up the fractions we computed, and this is the betweenness centrality for node N.\n",
    "$<b>Betweenness Centrality</b> - {\\displaystyle C_{B}(v)=\\sum _{s\\neq v\\neq t\\in V}{\\frac {\\sigma _{st}(v)}{\\sigma _{st}}}}$"
   ]
  },
  {
   "cell_type": "markdown",
   "metadata": {},
   "source": [
    "6 a) What is the degree distribution for the following networks? an undirected chain of 100 nodes.\n",
    "\n",
    "If we restrict ourselves to undirected networks for the moment, then the degree of a node i is just the number of connections it has. In terms of the adjacency matrix A, the degree of node i is just the some of the ith row of A,\n",
    "\\begin{gather*}\n",
    "  k_i=\\sum_j a_{ij},\n",
    "\\end{gather*}\n",
    "\n",
    "We can then obtain some insight into the network structure by throwing out information about the network except for the degrees of its nodes. By counting how many nodes have each degree, we form the degree distribution Pdeg(k), defined by:\n",
    "\\begin{gather*}\n",
    "  P_{\\text{deg}}(k) = \\text{fraction of nodes in the graph with degree $k$}.\n",
    "\\end{gather*}"
   ]
  },
  {
   "cell_type": "code",
   "execution_count": null,
   "metadata": {},
   "outputs": [],
   "source": []
  }
 ],
 "metadata": {
  "kernelspec": {
   "display_name": "Python 3",
   "language": "python",
   "name": "python3"
  },
  "language_info": {
   "codemirror_mode": {
    "name": "ipython",
    "version": 3
   },
   "file_extension": ".py",
   "mimetype": "text/x-python",
   "name": "python",
   "nbconvert_exporter": "python",
   "pygments_lexer": "ipython3",
   "version": "3.7.4"
  }
 },
 "nbformat": 4,
 "nbformat_minor": 2
}
