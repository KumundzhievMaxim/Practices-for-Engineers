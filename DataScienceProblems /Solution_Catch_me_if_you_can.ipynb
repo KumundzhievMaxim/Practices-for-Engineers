{
 "cells": [
  {
   "cell_type": "markdown",
   "metadata": {},
   "source": [
    "# <center> Competition Kaggle \"Catch Me If You Can\"\n",
    "\n",
    "<img src = 'https://storage.googleapis.com/kaggle-competitions/kaggle/7173/logos/front_page.png' >\n",
    "\n",
    "The link for Kaggle competition [kaggle competition](https://inclass.kaggle.com/c/catch-me-if-you-can-intruder-detection-through-webpage-session-tracking2). \n",
    "\n",
    "### <center><b>The task is to identify a user on the Internet tracking his/her sequence of attended Web pages. The algorithm to be built will take a webpage session (a sequence of webpages attended consequently by the same person) and predict whether it belongs to Alice or somebody else.</b>\n",
    "\n",
    "#### <center><b>The data comes from Blaise Pascal University proxy servers. Paper \"A Tool for Classification of Sequential Data\" by Giacomo Kahn, Yannick Loiseau and Olivier Raynaud.</b>\n",
    "\n",
    "  "
   ]
  },
  {
   "cell_type": "code",
   "execution_count": 1,
   "metadata": {},
   "outputs": [],
   "source": [
    "# Import all demanded libraries\n",
    "\n",
    "from __future__ import division, print_function\n",
    "# switch off all the warnings\n",
    "import warnings\n",
    "warnings.filterwarnings('ignore')\n",
    "\n",
    "import os\n",
    "import pickle\n",
    "import numpy as np\n",
    "import pandas as pd\n",
    "\n",
    "import sklearn\n",
    "from sklearn  import linear_model\n",
    "from scipy.sparse import csr_matrix, hstack\n",
    "from sklearn.preprocessing import StandardScaler\n",
    "from sklearn.model_selection import train_test_split, cross_val_score, StratifiedKFold, GridSearchCV\n",
    "from sklearn.linear_model import SGDClassifier, LogisticRegression\n",
    "\n",
    "from sklearn.neighbors import KNeighborsClassifier\n",
    "from sklearn.ensemble import RandomForestClassifier\n",
    "\n",
    "from sklearn import metrics\n",
    "from sklearn.metrics import roc_auc_score\n"
   ]
  },
  {
   "cell_type": "markdown",
   "metadata": {},
   "source": [
    "**Download all data [competitions](https://inclass.kaggle.com/c/catch-me-if-you-can-intruder-detection-through-webpage-session-tracking2) in DataFrame train_df и test_df.**"
   ]
  },
  {
   "cell_type": "code",
   "execution_count": 2,
   "metadata": {},
   "outputs": [],
   "source": [
    "#!kaggle competitions download -c catch-me-if-you-can-intruder-detection-through-webpage-session-tracking2"
   ]
  },
  {
   "cell_type": "code",
   "execution_count": 3,
   "metadata": {},
   "outputs": [],
   "source": [
    "PATH_TO_DATA = '/../project_alice'"
   ]
  },
  {
   "cell_type": "code",
   "execution_count": 4,
   "metadata": {},
   "outputs": [],
   "source": [
    "train_df = pd.read_csv(os.path.join(PATH_TO_DATA, 'train_sessions.csv'),\n",
    "                       index_col='session_id')\n",
    "test_df = pd.read_csv(os.path.join(PATH_TO_DATA, 'test_sessions.csv'),\n",
    "                      index_col='session_id')"
   ]
  },
  {
   "cell_type": "code",
   "execution_count": 5,
   "metadata": {
    "scrolled": true
   },
   "outputs": [
    {
     "data": {
      "text/html": [
       "<div>\n",
       "<style scoped>\n",
       "    .dataframe tbody tr th:only-of-type {\n",
       "        vertical-align: middle;\n",
       "    }\n",
       "\n",
       "    .dataframe tbody tr th {\n",
       "        vertical-align: top;\n",
       "    }\n",
       "\n",
       "    .dataframe thead th {\n",
       "        text-align: right;\n",
       "    }\n",
       "</style>\n",
       "<table border=\"1\" class=\"dataframe\">\n",
       "  <thead>\n",
       "    <tr style=\"text-align: right;\">\n",
       "      <th></th>\n",
       "      <th>site1</th>\n",
       "      <th>time1</th>\n",
       "      <th>site2</th>\n",
       "      <th>time2</th>\n",
       "      <th>site3</th>\n",
       "      <th>time3</th>\n",
       "      <th>site4</th>\n",
       "      <th>time4</th>\n",
       "      <th>site5</th>\n",
       "      <th>time5</th>\n",
       "      <th>...</th>\n",
       "      <th>time6</th>\n",
       "      <th>site7</th>\n",
       "      <th>time7</th>\n",
       "      <th>site8</th>\n",
       "      <th>time8</th>\n",
       "      <th>site9</th>\n",
       "      <th>time9</th>\n",
       "      <th>site10</th>\n",
       "      <th>time10</th>\n",
       "      <th>target</th>\n",
       "    </tr>\n",
       "    <tr>\n",
       "      <th>session_id</th>\n",
       "      <th></th>\n",
       "      <th></th>\n",
       "      <th></th>\n",
       "      <th></th>\n",
       "      <th></th>\n",
       "      <th></th>\n",
       "      <th></th>\n",
       "      <th></th>\n",
       "      <th></th>\n",
       "      <th></th>\n",
       "      <th></th>\n",
       "      <th></th>\n",
       "      <th></th>\n",
       "      <th></th>\n",
       "      <th></th>\n",
       "      <th></th>\n",
       "      <th></th>\n",
       "      <th></th>\n",
       "      <th></th>\n",
       "      <th></th>\n",
       "      <th></th>\n",
       "    </tr>\n",
       "  </thead>\n",
       "  <tbody>\n",
       "    <tr>\n",
       "      <th>1</th>\n",
       "      <td>718</td>\n",
       "      <td>2014-02-20 10:02:45</td>\n",
       "      <td>NaN</td>\n",
       "      <td>NaN</td>\n",
       "      <td>NaN</td>\n",
       "      <td>NaN</td>\n",
       "      <td>NaN</td>\n",
       "      <td>NaN</td>\n",
       "      <td>NaN</td>\n",
       "      <td>NaN</td>\n",
       "      <td>...</td>\n",
       "      <td>NaN</td>\n",
       "      <td>NaN</td>\n",
       "      <td>NaN</td>\n",
       "      <td>NaN</td>\n",
       "      <td>NaN</td>\n",
       "      <td>NaN</td>\n",
       "      <td>NaN</td>\n",
       "      <td>NaN</td>\n",
       "      <td>NaN</td>\n",
       "      <td>0</td>\n",
       "    </tr>\n",
       "    <tr>\n",
       "      <th>2</th>\n",
       "      <td>890</td>\n",
       "      <td>2014-02-22 11:19:50</td>\n",
       "      <td>941.0</td>\n",
       "      <td>2014-02-22 11:19:50</td>\n",
       "      <td>3847.0</td>\n",
       "      <td>2014-02-22 11:19:51</td>\n",
       "      <td>941.0</td>\n",
       "      <td>2014-02-22 11:19:51</td>\n",
       "      <td>942.0</td>\n",
       "      <td>2014-02-22 11:19:51</td>\n",
       "      <td>...</td>\n",
       "      <td>2014-02-22 11:19:51</td>\n",
       "      <td>3847.0</td>\n",
       "      <td>2014-02-22 11:19:52</td>\n",
       "      <td>3846.0</td>\n",
       "      <td>2014-02-22 11:19:52</td>\n",
       "      <td>1516.0</td>\n",
       "      <td>2014-02-22 11:20:15</td>\n",
       "      <td>1518.0</td>\n",
       "      <td>2014-02-22 11:20:16</td>\n",
       "      <td>0</td>\n",
       "    </tr>\n",
       "    <tr>\n",
       "      <th>3</th>\n",
       "      <td>14769</td>\n",
       "      <td>2013-12-16 16:40:17</td>\n",
       "      <td>39.0</td>\n",
       "      <td>2013-12-16 16:40:18</td>\n",
       "      <td>14768.0</td>\n",
       "      <td>2013-12-16 16:40:19</td>\n",
       "      <td>14769.0</td>\n",
       "      <td>2013-12-16 16:40:19</td>\n",
       "      <td>37.0</td>\n",
       "      <td>2013-12-16 16:40:19</td>\n",
       "      <td>...</td>\n",
       "      <td>2013-12-16 16:40:19</td>\n",
       "      <td>14768.0</td>\n",
       "      <td>2013-12-16 16:40:20</td>\n",
       "      <td>14768.0</td>\n",
       "      <td>2013-12-16 16:40:21</td>\n",
       "      <td>14768.0</td>\n",
       "      <td>2013-12-16 16:40:22</td>\n",
       "      <td>14768.0</td>\n",
       "      <td>2013-12-16 16:40:24</td>\n",
       "      <td>0</td>\n",
       "    </tr>\n",
       "    <tr>\n",
       "      <th>4</th>\n",
       "      <td>782</td>\n",
       "      <td>2014-03-28 10:52:12</td>\n",
       "      <td>782.0</td>\n",
       "      <td>2014-03-28 10:52:42</td>\n",
       "      <td>782.0</td>\n",
       "      <td>2014-03-28 10:53:12</td>\n",
       "      <td>782.0</td>\n",
       "      <td>2014-03-28 10:53:42</td>\n",
       "      <td>782.0</td>\n",
       "      <td>2014-03-28 10:54:12</td>\n",
       "      <td>...</td>\n",
       "      <td>2014-03-28 10:54:42</td>\n",
       "      <td>782.0</td>\n",
       "      <td>2014-03-28 10:55:12</td>\n",
       "      <td>782.0</td>\n",
       "      <td>2014-03-28 10:55:42</td>\n",
       "      <td>782.0</td>\n",
       "      <td>2014-03-28 10:56:12</td>\n",
       "      <td>782.0</td>\n",
       "      <td>2014-03-28 10:56:42</td>\n",
       "      <td>0</td>\n",
       "    </tr>\n",
       "    <tr>\n",
       "      <th>5</th>\n",
       "      <td>22</td>\n",
       "      <td>2014-02-28 10:53:05</td>\n",
       "      <td>177.0</td>\n",
       "      <td>2014-02-28 10:55:22</td>\n",
       "      <td>175.0</td>\n",
       "      <td>2014-02-28 10:55:22</td>\n",
       "      <td>178.0</td>\n",
       "      <td>2014-02-28 10:55:23</td>\n",
       "      <td>177.0</td>\n",
       "      <td>2014-02-28 10:55:23</td>\n",
       "      <td>...</td>\n",
       "      <td>2014-02-28 10:55:59</td>\n",
       "      <td>175.0</td>\n",
       "      <td>2014-02-28 10:55:59</td>\n",
       "      <td>177.0</td>\n",
       "      <td>2014-02-28 10:55:59</td>\n",
       "      <td>177.0</td>\n",
       "      <td>2014-02-28 10:57:06</td>\n",
       "      <td>178.0</td>\n",
       "      <td>2014-02-28 10:57:11</td>\n",
       "      <td>0</td>\n",
       "    </tr>\n",
       "  </tbody>\n",
       "</table>\n",
       "<p>5 rows × 21 columns</p>\n",
       "</div>"
      ],
      "text/plain": [
       "            site1                time1  site2                time2    site3  \\\n",
       "session_id                                                                    \n",
       "1             718  2014-02-20 10:02:45    NaN                  NaN      NaN   \n",
       "2             890  2014-02-22 11:19:50  941.0  2014-02-22 11:19:50   3847.0   \n",
       "3           14769  2013-12-16 16:40:17   39.0  2013-12-16 16:40:18  14768.0   \n",
       "4             782  2014-03-28 10:52:12  782.0  2014-03-28 10:52:42    782.0   \n",
       "5              22  2014-02-28 10:53:05  177.0  2014-02-28 10:55:22    175.0   \n",
       "\n",
       "                          time3    site4                time4  site5  \\\n",
       "session_id                                                             \n",
       "1                           NaN      NaN                  NaN    NaN   \n",
       "2           2014-02-22 11:19:51    941.0  2014-02-22 11:19:51  942.0   \n",
       "3           2013-12-16 16:40:19  14769.0  2013-12-16 16:40:19   37.0   \n",
       "4           2014-03-28 10:53:12    782.0  2014-03-28 10:53:42  782.0   \n",
       "5           2014-02-28 10:55:22    178.0  2014-02-28 10:55:23  177.0   \n",
       "\n",
       "                          time5  ...                time6    site7  \\\n",
       "session_id                       ...                                 \n",
       "1                           NaN  ...                  NaN      NaN   \n",
       "2           2014-02-22 11:19:51  ...  2014-02-22 11:19:51   3847.0   \n",
       "3           2013-12-16 16:40:19  ...  2013-12-16 16:40:19  14768.0   \n",
       "4           2014-03-28 10:54:12  ...  2014-03-28 10:54:42    782.0   \n",
       "5           2014-02-28 10:55:23  ...  2014-02-28 10:55:59    175.0   \n",
       "\n",
       "                          time7    site8                time8    site9  \\\n",
       "session_id                                                               \n",
       "1                           NaN      NaN                  NaN      NaN   \n",
       "2           2014-02-22 11:19:52   3846.0  2014-02-22 11:19:52   1516.0   \n",
       "3           2013-12-16 16:40:20  14768.0  2013-12-16 16:40:21  14768.0   \n",
       "4           2014-03-28 10:55:12    782.0  2014-03-28 10:55:42    782.0   \n",
       "5           2014-02-28 10:55:59    177.0  2014-02-28 10:55:59    177.0   \n",
       "\n",
       "                          time9   site10               time10 target  \n",
       "session_id                                                            \n",
       "1                           NaN      NaN                  NaN      0  \n",
       "2           2014-02-22 11:20:15   1518.0  2014-02-22 11:20:16      0  \n",
       "3           2013-12-16 16:40:22  14768.0  2013-12-16 16:40:24      0  \n",
       "4           2014-03-28 10:56:12    782.0  2014-03-28 10:56:42      0  \n",
       "5           2014-02-28 10:57:06    178.0  2014-02-28 10:57:11      0  \n",
       "\n",
       "[5 rows x 21 columns]"
      ]
     },
     "execution_count": 5,
     "metadata": {},
     "output_type": "execute_result"
    }
   ],
   "source": [
    "train_df.head()"
   ]
  },
  {
   "cell_type": "markdown",
   "metadata": {},
   "source": [
    "**Concate Train and test data in order to make it sparse.**"
   ]
  },
  {
   "cell_type": "code",
   "execution_count": 6,
   "metadata": {},
   "outputs": [],
   "source": [
    "train_test_df = pd.concat([train_df, test_df])"
   ]
  },
  {
   "cell_type": "markdown",
   "metadata": {},
   "source": [
    "In train data we have such features as:\n",
    "    - site1 – the index of the first visited site in the session\n",
    "    - time1 – the time of the first visited site in the session\n",
    "    - ...\n",
    "    - site10 – the index of the first visited site in the session\n",
    "    - time10 – the time of the first visited site in the session\n",
    "    - user_id – ID of user\n",
    "    \n",
    "User sessions are allocated in such a way that they cannot be longer than half an hour or 10 sites. That is, the session is considered to be completed either when the user visited 10 sites in a row, or when the session took more than 30 minutes."
   ]
  },
  {
   "cell_type": "markdown",
   "metadata": {},
   "source": [
    "**Let's look at the statistics of signs.**\n",
    "\n",
    "Gaps arise where sessions are short (less than 10 sites). For example, if a person visited * vk.com * at 20:01 on January 1, 2015, then * yandex.ru * at 20:29, then * google.com * at 20:33, then his first session will consist of only two sites (site1 - site ID * vk.com *, time1 - 2015-01-01 20:01:00, site2 - site ID * yandex.ru *, time2 - 2015-01-01 20:29:00, other signs - NaN), and starting with * google.com * a new session will go, because more than 30 minutes have already passed since visiting * vk.com *."
   ]
  },
  {
   "cell_type": "code",
   "execution_count": 7,
   "metadata": {},
   "outputs": [
    {
     "name": "stdout",
     "output_type": "stream",
     "text": [
      "<class 'pandas.core.frame.DataFrame'>\n",
      "Int64Index: 253561 entries, 1 to 253561\n",
      "Data columns (total 21 columns):\n",
      "site1     253561 non-null int64\n",
      "time1     253561 non-null object\n",
      "site2     250098 non-null float64\n",
      "time2     250098 non-null object\n",
      "site3     246919 non-null float64\n",
      "time3     246919 non-null object\n",
      "site4     244321 non-null float64\n",
      "time4     244321 non-null object\n",
      "site5     241829 non-null float64\n",
      "time5     241829 non-null object\n",
      "site6     239495 non-null float64\n",
      "time6     239495 non-null object\n",
      "site7     237297 non-null float64\n",
      "time7     237297 non-null object\n",
      "site8     235224 non-null float64\n",
      "time8     235224 non-null object\n",
      "site9     233084 non-null float64\n",
      "time9     233084 non-null object\n",
      "site10    231052 non-null float64\n",
      "time10    231052 non-null object\n",
      "target    253561 non-null int64\n",
      "dtypes: float64(9), int64(2), object(10)\n",
      "memory usage: 42.6+ MB\n"
     ]
    }
   ],
   "source": [
    "train_df.info()"
   ]
  },
  {
   "cell_type": "code",
   "execution_count": 8,
   "metadata": {},
   "outputs": [
    {
     "data": {
      "text/html": [
       "<div>\n",
       "<style scoped>\n",
       "    .dataframe tbody tr th:only-of-type {\n",
       "        vertical-align: middle;\n",
       "    }\n",
       "\n",
       "    .dataframe tbody tr th {\n",
       "        vertical-align: top;\n",
       "    }\n",
       "\n",
       "    .dataframe thead th {\n",
       "        text-align: right;\n",
       "    }\n",
       "</style>\n",
       "<table border=\"1\" class=\"dataframe\">\n",
       "  <thead>\n",
       "    <tr style=\"text-align: right;\">\n",
       "      <th></th>\n",
       "      <th>site1</th>\n",
       "      <th>time1</th>\n",
       "      <th>site2</th>\n",
       "      <th>time2</th>\n",
       "      <th>site3</th>\n",
       "      <th>time3</th>\n",
       "      <th>site4</th>\n",
       "      <th>time4</th>\n",
       "      <th>site5</th>\n",
       "      <th>time5</th>\n",
       "      <th>site6</th>\n",
       "      <th>time6</th>\n",
       "      <th>site7</th>\n",
       "      <th>time7</th>\n",
       "      <th>site8</th>\n",
       "      <th>time8</th>\n",
       "      <th>site9</th>\n",
       "      <th>time9</th>\n",
       "      <th>site10</th>\n",
       "      <th>time10</th>\n",
       "    </tr>\n",
       "    <tr>\n",
       "      <th>session_id</th>\n",
       "      <th></th>\n",
       "      <th></th>\n",
       "      <th></th>\n",
       "      <th></th>\n",
       "      <th></th>\n",
       "      <th></th>\n",
       "      <th></th>\n",
       "      <th></th>\n",
       "      <th></th>\n",
       "      <th></th>\n",
       "      <th></th>\n",
       "      <th></th>\n",
       "      <th></th>\n",
       "      <th></th>\n",
       "      <th></th>\n",
       "      <th></th>\n",
       "      <th></th>\n",
       "      <th></th>\n",
       "      <th></th>\n",
       "      <th></th>\n",
       "    </tr>\n",
       "  </thead>\n",
       "  <tbody>\n",
       "    <tr>\n",
       "      <th>1</th>\n",
       "      <td>29</td>\n",
       "      <td>2014-10-04 11:19:53</td>\n",
       "      <td>35.0</td>\n",
       "      <td>2014-10-04 11:19:53</td>\n",
       "      <td>22.0</td>\n",
       "      <td>2014-10-04 11:19:54</td>\n",
       "      <td>321.0</td>\n",
       "      <td>2014-10-04 11:19:54</td>\n",
       "      <td>23.0</td>\n",
       "      <td>2014-10-04 11:19:54</td>\n",
       "      <td>2211.0</td>\n",
       "      <td>2014-10-04 11:19:54</td>\n",
       "      <td>6730.0</td>\n",
       "      <td>2014-10-04 11:19:54</td>\n",
       "      <td>21.0</td>\n",
       "      <td>2014-10-04 11:19:54</td>\n",
       "      <td>44582.0</td>\n",
       "      <td>2014-10-04 11:20:00</td>\n",
       "      <td>15336.0</td>\n",
       "      <td>2014-10-04 11:20:00</td>\n",
       "    </tr>\n",
       "    <tr>\n",
       "      <th>2</th>\n",
       "      <td>782</td>\n",
       "      <td>2014-07-03 11:00:28</td>\n",
       "      <td>782.0</td>\n",
       "      <td>2014-07-03 11:00:53</td>\n",
       "      <td>782.0</td>\n",
       "      <td>2014-07-03 11:00:58</td>\n",
       "      <td>782.0</td>\n",
       "      <td>2014-07-03 11:01:06</td>\n",
       "      <td>782.0</td>\n",
       "      <td>2014-07-03 11:01:09</td>\n",
       "      <td>782.0</td>\n",
       "      <td>2014-07-03 11:01:10</td>\n",
       "      <td>782.0</td>\n",
       "      <td>2014-07-03 11:01:23</td>\n",
       "      <td>782.0</td>\n",
       "      <td>2014-07-03 11:01:29</td>\n",
       "      <td>782.0</td>\n",
       "      <td>2014-07-03 11:01:30</td>\n",
       "      <td>782.0</td>\n",
       "      <td>2014-07-03 11:01:53</td>\n",
       "    </tr>\n",
       "    <tr>\n",
       "      <th>3</th>\n",
       "      <td>55</td>\n",
       "      <td>2014-12-05 15:55:12</td>\n",
       "      <td>55.0</td>\n",
       "      <td>2014-12-05 15:55:13</td>\n",
       "      <td>55.0</td>\n",
       "      <td>2014-12-05 15:55:14</td>\n",
       "      <td>55.0</td>\n",
       "      <td>2014-12-05 15:56:15</td>\n",
       "      <td>55.0</td>\n",
       "      <td>2014-12-05 15:56:16</td>\n",
       "      <td>55.0</td>\n",
       "      <td>2014-12-05 15:56:17</td>\n",
       "      <td>55.0</td>\n",
       "      <td>2014-12-05 15:56:18</td>\n",
       "      <td>55.0</td>\n",
       "      <td>2014-12-05 15:56:19</td>\n",
       "      <td>1445.0</td>\n",
       "      <td>2014-12-05 15:56:33</td>\n",
       "      <td>1445.0</td>\n",
       "      <td>2014-12-05 15:56:36</td>\n",
       "    </tr>\n",
       "    <tr>\n",
       "      <th>4</th>\n",
       "      <td>1023</td>\n",
       "      <td>2014-11-04 10:03:19</td>\n",
       "      <td>1022.0</td>\n",
       "      <td>2014-11-04 10:03:19</td>\n",
       "      <td>50.0</td>\n",
       "      <td>2014-11-04 10:03:20</td>\n",
       "      <td>222.0</td>\n",
       "      <td>2014-11-04 10:03:21</td>\n",
       "      <td>202.0</td>\n",
       "      <td>2014-11-04 10:03:21</td>\n",
       "      <td>3374.0</td>\n",
       "      <td>2014-11-04 10:03:22</td>\n",
       "      <td>50.0</td>\n",
       "      <td>2014-11-04 10:03:22</td>\n",
       "      <td>48.0</td>\n",
       "      <td>2014-11-04 10:03:22</td>\n",
       "      <td>48.0</td>\n",
       "      <td>2014-11-04 10:03:23</td>\n",
       "      <td>3374.0</td>\n",
       "      <td>2014-11-04 10:03:23</td>\n",
       "    </tr>\n",
       "    <tr>\n",
       "      <th>5</th>\n",
       "      <td>301</td>\n",
       "      <td>2014-05-16 15:05:31</td>\n",
       "      <td>301.0</td>\n",
       "      <td>2014-05-16 15:05:32</td>\n",
       "      <td>301.0</td>\n",
       "      <td>2014-05-16 15:05:33</td>\n",
       "      <td>66.0</td>\n",
       "      <td>2014-05-16 15:05:39</td>\n",
       "      <td>67.0</td>\n",
       "      <td>2014-05-16 15:05:40</td>\n",
       "      <td>69.0</td>\n",
       "      <td>2014-05-16 15:05:40</td>\n",
       "      <td>70.0</td>\n",
       "      <td>2014-05-16 15:05:40</td>\n",
       "      <td>68.0</td>\n",
       "      <td>2014-05-16 15:05:40</td>\n",
       "      <td>71.0</td>\n",
       "      <td>2014-05-16 15:05:40</td>\n",
       "      <td>167.0</td>\n",
       "      <td>2014-05-16 15:05:44</td>\n",
       "    </tr>\n",
       "  </tbody>\n",
       "</table>\n",
       "</div>"
      ],
      "text/plain": [
       "            site1                time1   site2                time2  site3  \\\n",
       "session_id                                                                   \n",
       "1              29  2014-10-04 11:19:53    35.0  2014-10-04 11:19:53   22.0   \n",
       "2             782  2014-07-03 11:00:28   782.0  2014-07-03 11:00:53  782.0   \n",
       "3              55  2014-12-05 15:55:12    55.0  2014-12-05 15:55:13   55.0   \n",
       "4            1023  2014-11-04 10:03:19  1022.0  2014-11-04 10:03:19   50.0   \n",
       "5             301  2014-05-16 15:05:31   301.0  2014-05-16 15:05:32  301.0   \n",
       "\n",
       "                          time3  site4                time4  site5  \\\n",
       "session_id                                                           \n",
       "1           2014-10-04 11:19:54  321.0  2014-10-04 11:19:54   23.0   \n",
       "2           2014-07-03 11:00:58  782.0  2014-07-03 11:01:06  782.0   \n",
       "3           2014-12-05 15:55:14   55.0  2014-12-05 15:56:15   55.0   \n",
       "4           2014-11-04 10:03:20  222.0  2014-11-04 10:03:21  202.0   \n",
       "5           2014-05-16 15:05:33   66.0  2014-05-16 15:05:39   67.0   \n",
       "\n",
       "                          time5   site6                time6   site7  \\\n",
       "session_id                                                             \n",
       "1           2014-10-04 11:19:54  2211.0  2014-10-04 11:19:54  6730.0   \n",
       "2           2014-07-03 11:01:09   782.0  2014-07-03 11:01:10   782.0   \n",
       "3           2014-12-05 15:56:16    55.0  2014-12-05 15:56:17    55.0   \n",
       "4           2014-11-04 10:03:21  3374.0  2014-11-04 10:03:22    50.0   \n",
       "5           2014-05-16 15:05:40    69.0  2014-05-16 15:05:40    70.0   \n",
       "\n",
       "                          time7  site8                time8    site9  \\\n",
       "session_id                                                             \n",
       "1           2014-10-04 11:19:54   21.0  2014-10-04 11:19:54  44582.0   \n",
       "2           2014-07-03 11:01:23  782.0  2014-07-03 11:01:29    782.0   \n",
       "3           2014-12-05 15:56:18   55.0  2014-12-05 15:56:19   1445.0   \n",
       "4           2014-11-04 10:03:22   48.0  2014-11-04 10:03:22     48.0   \n",
       "5           2014-05-16 15:05:40   68.0  2014-05-16 15:05:40     71.0   \n",
       "\n",
       "                          time9   site10               time10  \n",
       "session_id                                                     \n",
       "1           2014-10-04 11:20:00  15336.0  2014-10-04 11:20:00  \n",
       "2           2014-07-03 11:01:30    782.0  2014-07-03 11:01:53  \n",
       "3           2014-12-05 15:56:33   1445.0  2014-12-05 15:56:36  \n",
       "4           2014-11-04 10:03:23   3374.0  2014-11-04 10:03:23  \n",
       "5           2014-05-16 15:05:40    167.0  2014-05-16 15:05:44  "
      ]
     },
     "execution_count": 8,
     "metadata": {},
     "output_type": "execute_result"
    }
   ],
   "source": [
    "test_df.head()"
   ]
  },
  {
   "cell_type": "code",
   "execution_count": 9,
   "metadata": {},
   "outputs": [
    {
     "name": "stdout",
     "output_type": "stream",
     "text": [
      "<class 'pandas.core.frame.DataFrame'>\n",
      "Int64Index: 82797 entries, 1 to 82797\n",
      "Data columns (total 20 columns):\n",
      "site1     82797 non-null int64\n",
      "time1     82797 non-null object\n",
      "site2     81308 non-null float64\n",
      "time2     81308 non-null object\n",
      "site3     80075 non-null float64\n",
      "time3     80075 non-null object\n",
      "site4     79182 non-null float64\n",
      "time4     79182 non-null object\n",
      "site5     78341 non-null float64\n",
      "time5     78341 non-null object\n",
      "site6     77566 non-null float64\n",
      "time6     77566 non-null object\n",
      "site7     76840 non-null float64\n",
      "time7     76840 non-null object\n",
      "site8     76151 non-null float64\n",
      "time8     76151 non-null object\n",
      "site9     75484 non-null float64\n",
      "time9     75484 non-null object\n",
      "site10    74806 non-null float64\n",
      "time10    74806 non-null object\n",
      "dtypes: float64(9), int64(1), object(10)\n",
      "memory usage: 13.3+ MB\n"
     ]
    }
   ],
   "source": [
    "test_df.info()"
   ]
  },
  {
   "cell_type": "markdown",
   "metadata": {},
   "source": [
    "**In the training sample - 2297 sessions of one user (Alice) and 251264 sessions - other users, not Alice. Class imbalance is very strong, and looking at the proportion of correct answers (accuracy) is not indicative.**"
   ]
  },
  {
   "cell_type": "code",
   "execution_count": 10,
   "metadata": {},
   "outputs": [
    {
     "data": {
      "text/plain": [
       "0    0.990941\n",
       "1    0.009059\n",
       "Name: target, dtype: float64"
      ]
     },
     "execution_count": 10,
     "metadata": {},
     "output_type": "execute_result"
    }
   ],
   "source": [
    "train_df['target'].value_counts(normalize=True)"
   ]
  },
  {
   "cell_type": "markdown",
   "metadata": {},
   "source": [
    "**For now, we will use only indexes of visited sites for the prediction. The indices were numbered from 1, so we replace the omissions with zeros.**"
   ]
  },
  {
   "cell_type": "code",
   "execution_count": 11,
   "metadata": {},
   "outputs": [],
   "source": [
    "train_test_df_sites = train_test_df[['site%d' % i for i in range(1, 11)]].fillna(0).astype('int')"
   ]
  },
  {
   "cell_type": "code",
   "execution_count": 12,
   "metadata": {},
   "outputs": [
    {
     "data": {
      "text/html": [
       "<div>\n",
       "<style scoped>\n",
       "    .dataframe tbody tr th:only-of-type {\n",
       "        vertical-align: middle;\n",
       "    }\n",
       "\n",
       "    .dataframe tbody tr th {\n",
       "        vertical-align: top;\n",
       "    }\n",
       "\n",
       "    .dataframe thead th {\n",
       "        text-align: right;\n",
       "    }\n",
       "</style>\n",
       "<table border=\"1\" class=\"dataframe\">\n",
       "  <thead>\n",
       "    <tr style=\"text-align: right;\">\n",
       "      <th></th>\n",
       "      <th>site1</th>\n",
       "      <th>site2</th>\n",
       "      <th>site3</th>\n",
       "      <th>site4</th>\n",
       "      <th>site5</th>\n",
       "      <th>site6</th>\n",
       "      <th>site7</th>\n",
       "      <th>site8</th>\n",
       "      <th>site9</th>\n",
       "      <th>site10</th>\n",
       "    </tr>\n",
       "    <tr>\n",
       "      <th>session_id</th>\n",
       "      <th></th>\n",
       "      <th></th>\n",
       "      <th></th>\n",
       "      <th></th>\n",
       "      <th></th>\n",
       "      <th></th>\n",
       "      <th></th>\n",
       "      <th></th>\n",
       "      <th></th>\n",
       "      <th></th>\n",
       "    </tr>\n",
       "  </thead>\n",
       "  <tbody>\n",
       "    <tr>\n",
       "      <th>1</th>\n",
       "      <td>718</td>\n",
       "      <td>0</td>\n",
       "      <td>0</td>\n",
       "      <td>0</td>\n",
       "      <td>0</td>\n",
       "      <td>0</td>\n",
       "      <td>0</td>\n",
       "      <td>0</td>\n",
       "      <td>0</td>\n",
       "      <td>0</td>\n",
       "    </tr>\n",
       "    <tr>\n",
       "      <th>2</th>\n",
       "      <td>890</td>\n",
       "      <td>941</td>\n",
       "      <td>3847</td>\n",
       "      <td>941</td>\n",
       "      <td>942</td>\n",
       "      <td>3846</td>\n",
       "      <td>3847</td>\n",
       "      <td>3846</td>\n",
       "      <td>1516</td>\n",
       "      <td>1518</td>\n",
       "    </tr>\n",
       "    <tr>\n",
       "      <th>3</th>\n",
       "      <td>14769</td>\n",
       "      <td>39</td>\n",
       "      <td>14768</td>\n",
       "      <td>14769</td>\n",
       "      <td>37</td>\n",
       "      <td>39</td>\n",
       "      <td>14768</td>\n",
       "      <td>14768</td>\n",
       "      <td>14768</td>\n",
       "      <td>14768</td>\n",
       "    </tr>\n",
       "    <tr>\n",
       "      <th>4</th>\n",
       "      <td>782</td>\n",
       "      <td>782</td>\n",
       "      <td>782</td>\n",
       "      <td>782</td>\n",
       "      <td>782</td>\n",
       "      <td>782</td>\n",
       "      <td>782</td>\n",
       "      <td>782</td>\n",
       "      <td>782</td>\n",
       "      <td>782</td>\n",
       "    </tr>\n",
       "    <tr>\n",
       "      <th>5</th>\n",
       "      <td>22</td>\n",
       "      <td>177</td>\n",
       "      <td>175</td>\n",
       "      <td>178</td>\n",
       "      <td>177</td>\n",
       "      <td>178</td>\n",
       "      <td>175</td>\n",
       "      <td>177</td>\n",
       "      <td>177</td>\n",
       "      <td>178</td>\n",
       "    </tr>\n",
       "    <tr>\n",
       "      <th>6</th>\n",
       "      <td>570</td>\n",
       "      <td>21</td>\n",
       "      <td>570</td>\n",
       "      <td>21</td>\n",
       "      <td>21</td>\n",
       "      <td>0</td>\n",
       "      <td>0</td>\n",
       "      <td>0</td>\n",
       "      <td>0</td>\n",
       "      <td>0</td>\n",
       "    </tr>\n",
       "    <tr>\n",
       "      <th>7</th>\n",
       "      <td>803</td>\n",
       "      <td>23</td>\n",
       "      <td>5956</td>\n",
       "      <td>17513</td>\n",
       "      <td>37</td>\n",
       "      <td>21</td>\n",
       "      <td>803</td>\n",
       "      <td>17514</td>\n",
       "      <td>17514</td>\n",
       "      <td>17514</td>\n",
       "    </tr>\n",
       "    <tr>\n",
       "      <th>8</th>\n",
       "      <td>22</td>\n",
       "      <td>21</td>\n",
       "      <td>29</td>\n",
       "      <td>5041</td>\n",
       "      <td>14422</td>\n",
       "      <td>23</td>\n",
       "      <td>21</td>\n",
       "      <td>5041</td>\n",
       "      <td>14421</td>\n",
       "      <td>14421</td>\n",
       "    </tr>\n",
       "    <tr>\n",
       "      <th>9</th>\n",
       "      <td>668</td>\n",
       "      <td>940</td>\n",
       "      <td>942</td>\n",
       "      <td>941</td>\n",
       "      <td>941</td>\n",
       "      <td>942</td>\n",
       "      <td>940</td>\n",
       "      <td>23</td>\n",
       "      <td>21</td>\n",
       "      <td>22</td>\n",
       "    </tr>\n",
       "    <tr>\n",
       "      <th>10</th>\n",
       "      <td>3700</td>\n",
       "      <td>229</td>\n",
       "      <td>570</td>\n",
       "      <td>21</td>\n",
       "      <td>229</td>\n",
       "      <td>21</td>\n",
       "      <td>21</td>\n",
       "      <td>21</td>\n",
       "      <td>2336</td>\n",
       "      <td>2044</td>\n",
       "    </tr>\n",
       "  </tbody>\n",
       "</table>\n",
       "</div>"
      ],
      "text/plain": [
       "            site1  site2  site3  site4  site5  site6  site7  site8  site9  \\\n",
       "session_id                                                                  \n",
       "1             718      0      0      0      0      0      0      0      0   \n",
       "2             890    941   3847    941    942   3846   3847   3846   1516   \n",
       "3           14769     39  14768  14769     37     39  14768  14768  14768   \n",
       "4             782    782    782    782    782    782    782    782    782   \n",
       "5              22    177    175    178    177    178    175    177    177   \n",
       "6             570     21    570     21     21      0      0      0      0   \n",
       "7             803     23   5956  17513     37     21    803  17514  17514   \n",
       "8              22     21     29   5041  14422     23     21   5041  14421   \n",
       "9             668    940    942    941    941    942    940     23     21   \n",
       "10           3700    229    570     21    229     21     21     21   2336   \n",
       "\n",
       "            site10  \n",
       "session_id          \n",
       "1                0  \n",
       "2             1518  \n",
       "3            14768  \n",
       "4              782  \n",
       "5              178  \n",
       "6                0  \n",
       "7            17514  \n",
       "8            14421  \n",
       "9               22  \n",
       "10            2044  "
      ]
     },
     "execution_count": 12,
     "metadata": {},
     "output_type": "execute_result"
    }
   ],
   "source": [
    "train_test_df_sites.head(10)"
   ]
  },
  {
   "cell_type": "markdown",
   "metadata": {},
   "source": [
    "** Sparse matrix *X_train_sparse* and *X_test_sparse* **"
   ]
  },
  {
   "cell_type": "code",
   "execution_count": 13,
   "metadata": {},
   "outputs": [],
   "source": [
    "#The splitting index (originally in train data we had about 255000)\n",
    "idx_split = train_df.shape[0]\n",
    "# sequence with indexes\n",
    "sites_flatten = train_test_df_sites.values.flatten()\n",
    "\n",
    "train_test_sparse = csr_matrix(([1] * sites_flatten.shape[0],\n",
    "                                sites_flatten,\n",
    "                                range(0, sites_flatten.shape[0] + 10, 10)))[:, 1:]\n",
    "\n",
    "y_train = train_df['target']\n"
   ]
  },
  {
   "cell_type": "code",
   "execution_count": 14,
   "metadata": {},
   "outputs": [],
   "source": [
    "X_train_sparse = train_test_sparse[:idx_split]\n",
    "X_test_sparse = train_test_sparse[idx_split:]"
   ]
  },
  {
   "cell_type": "code",
   "execution_count": 15,
   "metadata": {},
   "outputs": [
    {
     "data": {
      "text/plain": [
       "(82797, 48371)"
      ]
     },
     "execution_count": 15,
     "metadata": {},
     "output_type": "execute_result"
    }
   ],
   "source": [
    "X_test_sparse.shape"
   ]
  },
  {
   "cell_type": "code",
   "execution_count": 16,
   "metadata": {},
   "outputs": [
    {
     "name": "stdout",
     "output_type": "stream",
     "text": [
      "The shape of X_train_sparse (253561, 48371) The shape of y_train (253561,)\n",
      "The shape of X_test_sparse (82797, 48371)\n"
     ]
    }
   ],
   "source": [
    "print(f'The shape of X_train_sparse', X_train_sparse.shape, f'The shape of y_train',y_train.shape)\n",
    "print(f'The shape of X_test_sparse', X_test_sparse.shape)"
   ]
  },
  {
   "cell_type": "code",
   "execution_count": 17,
   "metadata": {},
   "outputs": [],
   "source": [
    "PATH_TO_DATA = '/../project_alice'"
   ]
  },
  {
   "cell_type": "markdown",
   "metadata": {},
   "source": [
    "**Just pickle files**"
   ]
  },
  {
   "cell_type": "code",
   "execution_count": 18,
   "metadata": {},
   "outputs": [],
   "source": [
    "with open(os.path.join(PATH_TO_DATA, 'X_train_sparse.pkl'), 'wb') as X_train_sparse_pkl:\n",
    "    pickle.dump(X_train_sparse, X_train_sparse_pkl, protocol=2)\n",
    "with open(os.path.join(PATH_TO_DATA, 'X_test_sparse.pkl'), 'wb') as X_test_sparse_pkl:\n",
    "    pickle.dump(X_test_sparse, X_test_sparse_pkl, protocol=2)\n",
    "with open(os.path.join(PATH_TO_DATA, 'train_target.pkl'), 'wb') as train_target_pkl:\n",
    "    pickle.dump(y_train, train_target_pkl, protocol=2)"
   ]
  },
  {
   "cell_type": "markdown",
   "metadata": {},
   "source": [
    "\n",
    "    "
   ]
  },
  {
   "cell_type": "code",
   "execution_count": 19,
   "metadata": {},
   "outputs": [
    {
     "data": {
      "text/plain": [
       "LogisticRegression(C=1.0, class_weight=None, dual=False, fit_intercept=True,\n",
       "          intercept_scaling=1, max_iter=100, multi_class='warn', n_jobs=-1,\n",
       "          penalty='l2', random_state=17, solver='warn', tol=0.0001,\n",
       "          verbose=0, warm_start=False)"
      ]
     },
     "execution_count": 19,
     "metadata": {},
     "output_type": "execute_result"
    }
   ],
   "source": [
    "#Cheking the model\n",
    "\n",
    "logit = LogisticRegression(n_jobs = -1, random_state = 17) \n",
    "logit.fit(X_train_sparse, y_train)"
   ]
  },
  {
   "cell_type": "code",
   "execution_count": 20,
   "metadata": {},
   "outputs": [
    {
     "data": {
      "text/plain": [
       "array([[0.99779021, 0.00220979]])"
      ]
     },
     "execution_count": 20,
     "metadata": {},
     "output_type": "execute_result"
    }
   ],
   "source": [
    "logit.predict_proba(X_test_sparse[0, :])"
   ]
  },
  {
   "cell_type": "markdown",
   "metadata": {},
   "source": [
    "### Logistic Regression without tuning hyper parameters\n",
    "**Function for checking the evaluation of model on validation data 9/1**    "
   ]
  },
  {
   "cell_type": "code",
   "execution_count": 21,
   "metadata": {},
   "outputs": [],
   "source": [
    "# C = 1.0\n",
    "# C = 1e4\n",
    "# C = 1e-2\n",
    "def get_auc_lr_valid(X, y, C = 1.0, ratio = 0.9, seed = 17):\n",
    "    train_len = int(ratio * X.shape[0])\n",
    "    X_train = X[:train_len, :]\n",
    "    X_valid = X[train_len:, :]\n",
    "    y_train = y[:train_len]\n",
    "    y_valid = y[train_len:]\n",
    "    \n",
    "    logit = LogisticRegression(n_jobs = -1, random_state = seed, C = C)\n",
    "    \n",
    "    logit.fit(X_train, y_train)\n",
    "    \n",
    "    valid_predict = logit.predict_proba(X_valid)[:, 1]\n",
    "    \n",
    "    return(roc_auc_score(y_valid, valid_predict))\n",
    "    "
   ]
  },
  {
   "cell_type": "code",
   "execution_count": 22,
   "metadata": {},
   "outputs": [
    {
     "name": "stdout",
     "output_type": "stream",
     "text": [
      "CPU times: user 2 µs, sys: 0 ns, total: 2 µs\n",
      "Wall time: 5.25 µs\n"
     ]
    },
    {
     "data": {
      "text/plain": [
       "0.9642429170108648"
      ]
     },
     "execution_count": 22,
     "metadata": {},
     "output_type": "execute_result"
    }
   ],
   "source": [
    "%time\n",
    "get_auc_lr_valid(X_train_sparse, y_train)"
   ]
  },
  {
   "cell_type": "code",
   "execution_count": 23,
   "metadata": {},
   "outputs": [
    {
     "data": {
      "text/plain": [
       "LogisticRegression(C=1.0, class_weight=None, dual=False, fit_intercept=True,\n",
       "          intercept_scaling=1, max_iter=100, multi_class='warn', n_jobs=-1,\n",
       "          penalty='l2', random_state=17, solver='warn', tol=0.0001,\n",
       "          verbose=0, warm_start=False)"
      ]
     },
     "execution_count": 23,
     "metadata": {},
     "output_type": "execute_result"
    }
   ],
   "source": [
    "logit = LogisticRegression(n_jobs=-1, random_state=17)\n",
    "logit.fit(X_train_sparse, y_train)"
   ]
  },
  {
   "cell_type": "code",
   "execution_count": 24,
   "metadata": {},
   "outputs": [],
   "source": [
    "test_predict = logit.predict_proba(X_test_sparse)[:, 1]"
   ]
  },
  {
   "cell_type": "code",
   "execution_count": 25,
   "metadata": {},
   "outputs": [
    {
     "data": {
      "text/plain": [
       "(82797,)"
      ]
     },
     "execution_count": 25,
     "metadata": {},
     "output_type": "execute_result"
    }
   ],
   "source": [
    "# Check the range of archeved answers\n",
    "test_predict.shape"
   ]
  },
  {
   "cell_type": "code",
   "execution_count": 26,
   "metadata": {},
   "outputs": [],
   "source": [
    "# Create a file for kaggle\n",
    "pd.Series(test_predict, index = range(1, test_predict.shape[0] + 1), name = 'target').to_csv('Benchmark_1_reg.csv', \n",
    "                                                                                             header = True, \n",
    "                                                                                            index_label = 'session_id')"
   ]
  },
  {
   "cell_type": "code",
   "execution_count": 27,
   "metadata": {},
   "outputs": [
    {
     "name": "stdout",
     "output_type": "stream",
     "text": [
      "session_id,target\r\n",
      "1,0.0022097873803092077\r\n",
      "2,4.810213590399314e-09\r\n",
      "3,1.8729363666424977e-08\r\n",
      "4,2.3547447875078495e-08\r\n",
      "5,3.130243424826118e-05\r\n",
      "6,0.0002184619136023449\r\n",
      "7,0.0005479231135761249\r\n",
      "8,0.00013227051257335375\r\n",
      "9,0.0007951454475832064\r\n"
     ]
    }
   ],
   "source": [
    "# Check the correctness of file for kaggle\n",
    "!head -10 Benchmark_1_koef_reg.csv"
   ]
  },
  {
   "cell_type": "code",
   "execution_count": 28,
   "metadata": {},
   "outputs": [],
   "source": [
    "#!kaggle competitions submit -c catch-me-if-you-can-intruder-detection-through-webpage-session-tracking2 -f Benchmark_1_koef_reg.csv -m \"Log regression and koef regular \""
   ]
  },
  {
   "cell_type": "markdown",
   "metadata": {},
   "source": [
    "### SGD Classifier  without tuning hyper parameters"
   ]
  },
  {
   "cell_type": "code",
   "execution_count": 29,
   "metadata": {},
   "outputs": [],
   "source": [
    "def get_auc_sgd_valid(X, y, ratio = 0.9, seed = 17):\n",
    "    train_len = int(ratio * X.shape[0])\n",
    "    X_train = X[:train_len, :]\n",
    "    X_valid = X[train_len:, :]\n",
    "    y_train = y[:train_len]\n",
    "    y_valid = y[train_len:]\n",
    "    \n",
    "    sgd_logit = sklearn.linear_model.SGDClassifier(loss = 'log', random_state = seed, n_jobs = -1)\n",
    "    sgd_logit.fit(X_train, y_train) \n",
    "    \n",
    "    valid_predict = sgd_logit.predict_proba(X_valid)[:, 1]\n",
    "    \n",
    "    return(roc_auc_score(y_valid, valid_predict))\n"
   ]
  },
  {
   "cell_type": "code",
   "execution_count": 30,
   "metadata": {},
   "outputs": [
    {
     "name": "stdout",
     "output_type": "stream",
     "text": [
      "CPU times: user 2 µs, sys: 1 µs, total: 3 µs\n",
      "Wall time: 5.01 µs\n"
     ]
    },
    {
     "data": {
      "text/plain": [
       "0.9362467544730779"
      ]
     },
     "execution_count": 30,
     "metadata": {},
     "output_type": "execute_result"
    }
   ],
   "source": [
    "%time\n",
    "get_auc_sgd_valid(X_train_sparse, y_train)"
   ]
  },
  {
   "cell_type": "code",
   "execution_count": 31,
   "metadata": {},
   "outputs": [
    {
     "data": {
      "text/plain": [
       "SGDClassifier(alpha=0.0001, average=False, class_weight=None,\n",
       "       early_stopping=False, epsilon=0.1, eta0=0.0, fit_intercept=True,\n",
       "       l1_ratio=0.15, learning_rate='optimal', loss='log', max_iter=None,\n",
       "       n_iter=None, n_iter_no_change=5, n_jobs=-1, penalty='l2',\n",
       "       power_t=0.5, random_state=17, shuffle=True, tol=None,\n",
       "       validation_fraction=0.1, verbose=0, warm_start=False)"
      ]
     },
     "execution_count": 31,
     "metadata": {},
     "output_type": "execute_result"
    }
   ],
   "source": [
    "sgd_logit = sklearn.linear_model.SGDClassifier(loss = 'log', random_state = 17, n_jobs = -1)\n",
    "sgd_logit.fit(X_train_sparse, y_train)"
   ]
  },
  {
   "cell_type": "code",
   "execution_count": 32,
   "metadata": {},
   "outputs": [],
   "source": [
    "test_predict = sgd_logit.predict_proba(X_test_sparse)[:, 1]"
   ]
  },
  {
   "cell_type": "code",
   "execution_count": 33,
   "metadata": {},
   "outputs": [
    {
     "data": {
      "text/plain": [
       "(82797,)"
      ]
     },
     "execution_count": 33,
     "metadata": {},
     "output_type": "execute_result"
    }
   ],
   "source": [
    "# Check the range of archeved answers\n",
    "test_predict.shape"
   ]
  },
  {
   "cell_type": "code",
   "execution_count": 34,
   "metadata": {},
   "outputs": [],
   "source": [
    "# Create a file for kaggle\n",
    "pd.Series(test_predict, index = range(1, test_predict.shape[0] + 1), name = 'target').to_csv('Benchmark_2_sgd.csv', \n",
    "                                                                                             header = True, \n",
    "                                                                                            index_label = 'session_id')"
   ]
  },
  {
   "cell_type": "code",
   "execution_count": 35,
   "metadata": {},
   "outputs": [
    {
     "name": "stdout",
     "output_type": "stream",
     "text": [
      "session_id,target\r\n",
      "1,0.010805617795376256\r\n",
      "2,5.708909249665912e-05\r\n",
      "3,1.7003168099574377e-05\r\n",
      "4,0.00046359989945096133\r\n",
      "5,0.0010328783654981939\r\n",
      "6,0.007023601371539453\r\n",
      "7,0.014843678934588137\r\n",
      "8,0.005238344765274798\r\n",
      "9,0.008108683575818041\r\n"
     ]
    }
   ],
   "source": [
    "# Check the correctness of file for kaggle\n",
    "!head -10 Benchmark_2_sgd.csv"
   ]
  },
  {
   "cell_type": "markdown",
   "metadata": {},
   "source": [
    "**Send submission to Kaggle from Ipython notebook**\n",
    "<b>Usual form</b>: kaggle competitions submit -c catch-me-if-you-can-intruder-detection-through-webpage-session-tracking2 -f submission.csv -m \"Message\""
   ]
  },
  {
   "cell_type": "code",
   "execution_count": 36,
   "metadata": {},
   "outputs": [],
   "source": [
    "#!kaggle competitions submit -c catch-me-if-you-can-intruder-detection-through-webpage-session-tracking2 -f Benchmark_2_sgd.csv -m \"Test submission from notebook\"\n",
    "                                  "
   ]
  },
  {
   "cell_type": "markdown",
   "metadata": {},
   "source": [
    "## Linear Regression and Feature Engineering"
   ]
  },
  {
   "cell_type": "code",
   "execution_count": 37,
   "metadata": {},
   "outputs": [
    {
     "data": {
      "text/html": [
       "<div>\n",
       "<style scoped>\n",
       "    .dataframe tbody tr th:only-of-type {\n",
       "        vertical-align: middle;\n",
       "    }\n",
       "\n",
       "    .dataframe tbody tr th {\n",
       "        vertical-align: top;\n",
       "    }\n",
       "\n",
       "    .dataframe thead th {\n",
       "        text-align: right;\n",
       "    }\n",
       "</style>\n",
       "<table border=\"1\" class=\"dataframe\">\n",
       "  <thead>\n",
       "    <tr style=\"text-align: right;\">\n",
       "      <th></th>\n",
       "      <th>time1</th>\n",
       "      <th>time2</th>\n",
       "      <th>time3</th>\n",
       "      <th>time4</th>\n",
       "      <th>time5</th>\n",
       "      <th>time6</th>\n",
       "      <th>time7</th>\n",
       "      <th>time8</th>\n",
       "      <th>time9</th>\n",
       "      <th>time10</th>\n",
       "    </tr>\n",
       "    <tr>\n",
       "      <th>session_id</th>\n",
       "      <th></th>\n",
       "      <th></th>\n",
       "      <th></th>\n",
       "      <th></th>\n",
       "      <th></th>\n",
       "      <th></th>\n",
       "      <th></th>\n",
       "      <th></th>\n",
       "      <th></th>\n",
       "      <th></th>\n",
       "    </tr>\n",
       "  </thead>\n",
       "  <tbody>\n",
       "    <tr>\n",
       "      <th>1</th>\n",
       "      <td>2014-02-20 10:02:45</td>\n",
       "      <td>NaT</td>\n",
       "      <td>NaT</td>\n",
       "      <td>NaT</td>\n",
       "      <td>NaT</td>\n",
       "      <td>NaT</td>\n",
       "      <td>NaT</td>\n",
       "      <td>NaT</td>\n",
       "      <td>NaT</td>\n",
       "      <td>NaT</td>\n",
       "    </tr>\n",
       "    <tr>\n",
       "      <th>2</th>\n",
       "      <td>2014-02-22 11:19:50</td>\n",
       "      <td>2014-02-22 11:19:50</td>\n",
       "      <td>2014-02-22 11:19:51</td>\n",
       "      <td>2014-02-22 11:19:51</td>\n",
       "      <td>2014-02-22 11:19:51</td>\n",
       "      <td>2014-02-22 11:19:51</td>\n",
       "      <td>2014-02-22 11:19:52</td>\n",
       "      <td>2014-02-22 11:19:52</td>\n",
       "      <td>2014-02-22 11:20:15</td>\n",
       "      <td>2014-02-22 11:20:16</td>\n",
       "    </tr>\n",
       "    <tr>\n",
       "      <th>3</th>\n",
       "      <td>2013-12-16 16:40:17</td>\n",
       "      <td>2013-12-16 16:40:18</td>\n",
       "      <td>2013-12-16 16:40:19</td>\n",
       "      <td>2013-12-16 16:40:19</td>\n",
       "      <td>2013-12-16 16:40:19</td>\n",
       "      <td>2013-12-16 16:40:19</td>\n",
       "      <td>2013-12-16 16:40:20</td>\n",
       "      <td>2013-12-16 16:40:21</td>\n",
       "      <td>2013-12-16 16:40:22</td>\n",
       "      <td>2013-12-16 16:40:24</td>\n",
       "    </tr>\n",
       "    <tr>\n",
       "      <th>4</th>\n",
       "      <td>2014-03-28 10:52:12</td>\n",
       "      <td>2014-03-28 10:52:42</td>\n",
       "      <td>2014-03-28 10:53:12</td>\n",
       "      <td>2014-03-28 10:53:42</td>\n",
       "      <td>2014-03-28 10:54:12</td>\n",
       "      <td>2014-03-28 10:54:42</td>\n",
       "      <td>2014-03-28 10:55:12</td>\n",
       "      <td>2014-03-28 10:55:42</td>\n",
       "      <td>2014-03-28 10:56:12</td>\n",
       "      <td>2014-03-28 10:56:42</td>\n",
       "    </tr>\n",
       "    <tr>\n",
       "      <th>5</th>\n",
       "      <td>2014-02-28 10:53:05</td>\n",
       "      <td>2014-02-28 10:55:22</td>\n",
       "      <td>2014-02-28 10:55:22</td>\n",
       "      <td>2014-02-28 10:55:23</td>\n",
       "      <td>2014-02-28 10:55:23</td>\n",
       "      <td>2014-02-28 10:55:59</td>\n",
       "      <td>2014-02-28 10:55:59</td>\n",
       "      <td>2014-02-28 10:55:59</td>\n",
       "      <td>2014-02-28 10:57:06</td>\n",
       "      <td>2014-02-28 10:57:11</td>\n",
       "    </tr>\n",
       "    <tr>\n",
       "      <th>6</th>\n",
       "      <td>2014-03-18 15:18:31</td>\n",
       "      <td>2014-03-18 15:18:39</td>\n",
       "      <td>2014-03-18 15:23:02</td>\n",
       "      <td>2014-03-18 15:23:43</td>\n",
       "      <td>2014-03-18 15:29:57</td>\n",
       "      <td>NaT</td>\n",
       "      <td>NaT</td>\n",
       "      <td>NaT</td>\n",
       "      <td>NaT</td>\n",
       "      <td>NaT</td>\n",
       "    </tr>\n",
       "    <tr>\n",
       "      <th>7</th>\n",
       "      <td>2014-02-13 16:45:35</td>\n",
       "      <td>2014-02-13 16:45:35</td>\n",
       "      <td>2014-02-13 16:45:35</td>\n",
       "      <td>2014-02-13 16:45:35</td>\n",
       "      <td>2014-02-13 16:46:05</td>\n",
       "      <td>2014-02-13 16:47:14</td>\n",
       "      <td>2014-02-13 16:47:14</td>\n",
       "      <td>2014-02-13 16:47:15</td>\n",
       "      <td>2014-02-13 16:47:16</td>\n",
       "      <td>2014-02-13 16:47:17</td>\n",
       "    </tr>\n",
       "    <tr>\n",
       "      <th>8</th>\n",
       "      <td>2013-04-12 10:27:26</td>\n",
       "      <td>2013-04-12 10:27:26</td>\n",
       "      <td>2013-04-12 10:27:28</td>\n",
       "      <td>2013-04-12 10:27:29</td>\n",
       "      <td>2013-04-12 10:27:29</td>\n",
       "      <td>2013-04-12 10:27:29</td>\n",
       "      <td>2013-04-12 10:27:29</td>\n",
       "      <td>2013-04-12 10:27:31</td>\n",
       "      <td>2013-04-12 10:27:31</td>\n",
       "      <td>2013-04-12 10:27:32</td>\n",
       "    </tr>\n",
       "    <tr>\n",
       "      <th>9</th>\n",
       "      <td>2014-03-17 16:23:08</td>\n",
       "      <td>2014-03-17 16:23:35</td>\n",
       "      <td>2014-03-17 16:23:35</td>\n",
       "      <td>2014-03-17 16:23:35</td>\n",
       "      <td>2014-03-17 16:23:36</td>\n",
       "      <td>2014-03-17 16:23:36</td>\n",
       "      <td>2014-03-17 16:23:36</td>\n",
       "      <td>2014-03-17 16:23:52</td>\n",
       "      <td>2014-03-17 16:23:52</td>\n",
       "      <td>2014-03-17 16:23:53</td>\n",
       "    </tr>\n",
       "    <tr>\n",
       "      <th>10</th>\n",
       "      <td>2014-02-20 16:09:13</td>\n",
       "      <td>2014-02-20 16:10:08</td>\n",
       "      <td>2014-02-20 16:10:08</td>\n",
       "      <td>2014-02-20 16:10:08</td>\n",
       "      <td>2014-02-20 16:10:24</td>\n",
       "      <td>2014-02-20 16:10:24</td>\n",
       "      <td>2014-02-20 16:10:29</td>\n",
       "      <td>2014-02-20 16:10:39</td>\n",
       "      <td>2014-02-20 16:10:40</td>\n",
       "      <td>2014-02-20 16:10:40</td>\n",
       "    </tr>\n",
       "    <tr>\n",
       "      <th>11</th>\n",
       "      <td>2014-01-27 09:41:01</td>\n",
       "      <td>2014-01-27 09:42:33</td>\n",
       "      <td>2014-01-27 09:42:33</td>\n",
       "      <td>2014-01-27 09:42:34</td>\n",
       "      <td>2014-01-27 09:42:34</td>\n",
       "      <td>2014-01-27 09:42:34</td>\n",
       "      <td>2014-01-27 09:42:34</td>\n",
       "      <td>2014-01-27 09:42:35</td>\n",
       "      <td>2014-01-27 09:42:40</td>\n",
       "      <td>2014-01-27 09:42:41</td>\n",
       "    </tr>\n",
       "    <tr>\n",
       "      <th>12</th>\n",
       "      <td>2014-01-22 13:05:21</td>\n",
       "      <td>2014-01-22 13:05:24</td>\n",
       "      <td>2014-01-22 13:05:32</td>\n",
       "      <td>2014-01-22 13:05:44</td>\n",
       "      <td>2014-01-22 13:05:44</td>\n",
       "      <td>2014-01-22 13:05:44</td>\n",
       "      <td>2014-01-22 13:05:44</td>\n",
       "      <td>2014-01-22 13:05:44</td>\n",
       "      <td>2014-01-22 13:05:44</td>\n",
       "      <td>2014-01-22 13:05:44</td>\n",
       "    </tr>\n",
       "    <tr>\n",
       "      <th>13</th>\n",
       "      <td>2014-03-31 13:51:43</td>\n",
       "      <td>2014-03-31 13:51:44</td>\n",
       "      <td>2014-03-31 13:51:46</td>\n",
       "      <td>2014-03-31 13:51:46</td>\n",
       "      <td>2014-03-31 13:52:45</td>\n",
       "      <td>2014-03-31 13:52:46</td>\n",
       "      <td>2014-03-31 13:54:43</td>\n",
       "      <td>2014-03-31 14:10:12</td>\n",
       "      <td>2014-03-31 14:10:12</td>\n",
       "      <td>2014-03-31 14:10:13</td>\n",
       "    </tr>\n",
       "    <tr>\n",
       "      <th>14</th>\n",
       "      <td>2014-04-04 13:12:14</td>\n",
       "      <td>2014-04-04 13:12:15</td>\n",
       "      <td>2014-04-04 13:12:16</td>\n",
       "      <td>2014-04-04 13:12:16</td>\n",
       "      <td>2014-04-04 13:12:23</td>\n",
       "      <td>2014-04-04 13:12:31</td>\n",
       "      <td>2014-04-04 13:12:42</td>\n",
       "      <td>2014-04-04 13:12:43</td>\n",
       "      <td>2014-04-04 13:12:44</td>\n",
       "      <td>2014-04-04 13:12:45</td>\n",
       "    </tr>\n",
       "    <tr>\n",
       "      <th>15</th>\n",
       "      <td>2014-03-22 11:33:00</td>\n",
       "      <td>2014-03-22 11:33:16</td>\n",
       "      <td>2014-03-22 11:33:19</td>\n",
       "      <td>2014-03-22 11:33:20</td>\n",
       "      <td>2014-03-22 11:33:21</td>\n",
       "      <td>2014-03-22 11:33:21</td>\n",
       "      <td>2014-03-22 11:33:22</td>\n",
       "      <td>2014-03-22 11:33:27</td>\n",
       "      <td>2014-03-22 11:33:27</td>\n",
       "      <td>2014-03-22 11:33:27</td>\n",
       "    </tr>\n",
       "    <tr>\n",
       "      <th>16</th>\n",
       "      <td>2014-02-04 09:31:46</td>\n",
       "      <td>2014-02-04 09:31:46</td>\n",
       "      <td>2014-02-04 09:31:47</td>\n",
       "      <td>2014-02-04 09:31:47</td>\n",
       "      <td>2014-02-04 09:31:47</td>\n",
       "      <td>2014-02-04 09:31:47</td>\n",
       "      <td>2014-02-04 09:31:47</td>\n",
       "      <td>2014-02-04 09:31:47</td>\n",
       "      <td>2014-02-04 09:31:47</td>\n",
       "      <td>2014-02-04 09:31:47</td>\n",
       "    </tr>\n",
       "    <tr>\n",
       "      <th>17</th>\n",
       "      <td>2014-02-24 08:06:14</td>\n",
       "      <td>2014-02-24 08:07:25</td>\n",
       "      <td>2014-02-24 08:07:26</td>\n",
       "      <td>2014-02-24 08:07:27</td>\n",
       "      <td>2014-02-24 08:07:27</td>\n",
       "      <td>2014-02-24 08:07:30</td>\n",
       "      <td>2014-02-24 08:07:31</td>\n",
       "      <td>2014-02-24 08:07:31</td>\n",
       "      <td>2014-02-24 08:07:31</td>\n",
       "      <td>2014-02-24 08:07:31</td>\n",
       "    </tr>\n",
       "    <tr>\n",
       "      <th>18</th>\n",
       "      <td>2013-02-12 15:15:14</td>\n",
       "      <td>2013-02-12 15:15:14</td>\n",
       "      <td>2013-02-12 15:16:26</td>\n",
       "      <td>2013-02-12 15:16:26</td>\n",
       "      <td>2013-02-12 15:16:29</td>\n",
       "      <td>2013-02-12 15:16:31</td>\n",
       "      <td>2013-02-12 15:16:31</td>\n",
       "      <td>2013-02-12 15:16:31</td>\n",
       "      <td>2013-02-12 15:16:31</td>\n",
       "      <td>2013-02-12 15:16:31</td>\n",
       "    </tr>\n",
       "    <tr>\n",
       "      <th>19</th>\n",
       "      <td>2013-04-12 11:06:58</td>\n",
       "      <td>2013-04-12 11:07:08</td>\n",
       "      <td>2013-04-12 11:07:19</td>\n",
       "      <td>2013-04-12 11:07:28</td>\n",
       "      <td>2013-04-12 11:07:38</td>\n",
       "      <td>2013-04-12 11:07:48</td>\n",
       "      <td>2013-04-12 11:07:58</td>\n",
       "      <td>2013-04-12 11:08:08</td>\n",
       "      <td>2013-04-12 11:08:18</td>\n",
       "      <td>2013-04-12 11:08:20</td>\n",
       "    </tr>\n",
       "    <tr>\n",
       "      <th>20</th>\n",
       "      <td>2014-01-29 11:27:15</td>\n",
       "      <td>2014-01-29 11:27:15</td>\n",
       "      <td>2014-01-29 11:27:16</td>\n",
       "      <td>2014-01-29 11:27:16</td>\n",
       "      <td>2014-01-29 11:27:16</td>\n",
       "      <td>2014-01-29 11:27:19</td>\n",
       "      <td>2014-01-29 11:27:20</td>\n",
       "      <td>2014-01-29 11:27:20</td>\n",
       "      <td>2014-01-29 11:27:20</td>\n",
       "      <td>2014-01-29 11:27:20</td>\n",
       "    </tr>\n",
       "    <tr>\n",
       "      <th>21</th>\n",
       "      <td>2013-05-12 12:52:12</td>\n",
       "      <td>2013-05-12 12:52:12</td>\n",
       "      <td>2013-05-12 12:52:12</td>\n",
       "      <td>2013-05-12 12:52:12</td>\n",
       "      <td>2013-05-12 12:52:13</td>\n",
       "      <td>2013-05-12 12:52:16</td>\n",
       "      <td>2013-05-12 12:52:16</td>\n",
       "      <td>2013-05-12 12:52:16</td>\n",
       "      <td>2013-05-12 12:52:35</td>\n",
       "      <td>2013-05-12 12:52:39</td>\n",
       "    </tr>\n",
       "    <tr>\n",
       "      <th>22</th>\n",
       "      <td>2014-02-04 09:59:41</td>\n",
       "      <td>2014-02-04 09:59:55</td>\n",
       "      <td>2014-02-04 09:59:56</td>\n",
       "      <td>2014-02-04 09:59:58</td>\n",
       "      <td>2014-02-04 10:00:56</td>\n",
       "      <td>2014-02-04 10:00:56</td>\n",
       "      <td>2014-02-04 10:00:57</td>\n",
       "      <td>2014-02-04 10:00:57</td>\n",
       "      <td>2014-02-04 10:02:48</td>\n",
       "      <td>NaT</td>\n",
       "    </tr>\n",
       "    <tr>\n",
       "      <th>23</th>\n",
       "      <td>2014-03-26 11:27:00</td>\n",
       "      <td>2014-03-26 11:27:30</td>\n",
       "      <td>2014-03-26 11:28:00</td>\n",
       "      <td>2014-03-26 11:28:30</td>\n",
       "      <td>2014-03-26 11:29:00</td>\n",
       "      <td>2014-03-26 11:29:30</td>\n",
       "      <td>2014-03-26 11:29:55</td>\n",
       "      <td>2014-03-26 11:29:57</td>\n",
       "      <td>2014-03-26 11:30:00</td>\n",
       "      <td>2014-03-26 11:30:30</td>\n",
       "    </tr>\n",
       "    <tr>\n",
       "      <th>24</th>\n",
       "      <td>2013-12-12 20:51:18</td>\n",
       "      <td>NaT</td>\n",
       "      <td>NaT</td>\n",
       "      <td>NaT</td>\n",
       "      <td>NaT</td>\n",
       "      <td>NaT</td>\n",
       "      <td>NaT</td>\n",
       "      <td>NaT</td>\n",
       "      <td>NaT</td>\n",
       "      <td>NaT</td>\n",
       "    </tr>\n",
       "    <tr>\n",
       "      <th>25</th>\n",
       "      <td>2013-11-21 12:59:23</td>\n",
       "      <td>2013-11-21 12:59:24</td>\n",
       "      <td>2013-11-21 12:59:25</td>\n",
       "      <td>2013-11-21 13:00:23</td>\n",
       "      <td>2013-11-21 13:00:24</td>\n",
       "      <td>2013-11-21 13:00:25</td>\n",
       "      <td>2013-11-21 13:00:30</td>\n",
       "      <td>2013-11-21 13:00:30</td>\n",
       "      <td>2013-11-21 13:00:30</td>\n",
       "      <td>2013-11-21 13:00:32</td>\n",
       "    </tr>\n",
       "    <tr>\n",
       "      <th>26</th>\n",
       "      <td>2013-02-12 10:17:09</td>\n",
       "      <td>2013-02-12 10:17:09</td>\n",
       "      <td>2013-02-12 10:17:21</td>\n",
       "      <td>2013-02-12 10:18:06</td>\n",
       "      <td>2013-02-12 10:18:06</td>\n",
       "      <td>2013-02-12 10:18:51</td>\n",
       "      <td>2013-02-12 10:19:33</td>\n",
       "      <td>2013-02-12 10:19:33</td>\n",
       "      <td>2013-02-12 10:19:36</td>\n",
       "      <td>2013-02-12 10:20:21</td>\n",
       "    </tr>\n",
       "    <tr>\n",
       "      <th>27</th>\n",
       "      <td>2014-02-04 08:47:31</td>\n",
       "      <td>2014-02-04 08:47:31</td>\n",
       "      <td>2014-02-04 08:47:31</td>\n",
       "      <td>2014-02-04 08:47:31</td>\n",
       "      <td>2014-02-04 08:47:31</td>\n",
       "      <td>2014-02-04 08:47:32</td>\n",
       "      <td>2014-02-04 08:47:32</td>\n",
       "      <td>2014-02-04 08:47:32</td>\n",
       "      <td>2014-02-04 08:48:28</td>\n",
       "      <td>2014-02-04 08:48:32</td>\n",
       "    </tr>\n",
       "    <tr>\n",
       "      <th>28</th>\n",
       "      <td>2014-03-25 10:43:58</td>\n",
       "      <td>2014-03-25 10:44:00</td>\n",
       "      <td>2014-03-25 10:44:05</td>\n",
       "      <td>2014-03-25 10:44:06</td>\n",
       "      <td>2014-03-25 10:44:08</td>\n",
       "      <td>2014-03-25 10:44:09</td>\n",
       "      <td>2014-03-25 10:44:20</td>\n",
       "      <td>2014-03-25 10:44:33</td>\n",
       "      <td>2014-03-25 10:44:34</td>\n",
       "      <td>2014-03-25 10:44:40</td>\n",
       "    </tr>\n",
       "    <tr>\n",
       "      <th>29</th>\n",
       "      <td>2013-11-29 13:20:21</td>\n",
       "      <td>2013-11-29 13:20:22</td>\n",
       "      <td>2013-11-29 13:20:23</td>\n",
       "      <td>2013-11-29 13:20:26</td>\n",
       "      <td>2013-11-29 13:20:26</td>\n",
       "      <td>2013-11-29 13:20:26</td>\n",
       "      <td>2013-11-29 13:20:26</td>\n",
       "      <td>2013-11-29 13:20:26</td>\n",
       "      <td>2013-11-29 13:20:27</td>\n",
       "      <td>2013-11-29 13:20:27</td>\n",
       "    </tr>\n",
       "    <tr>\n",
       "      <th>30</th>\n",
       "      <td>2014-04-15 14:55:40</td>\n",
       "      <td>2014-04-15 14:55:41</td>\n",
       "      <td>2014-04-15 14:55:42</td>\n",
       "      <td>2014-04-15 14:55:42</td>\n",
       "      <td>2014-04-15 14:55:43</td>\n",
       "      <td>2014-04-15 14:55:43</td>\n",
       "      <td>2014-04-15 14:55:43</td>\n",
       "      <td>NaT</td>\n",
       "      <td>NaT</td>\n",
       "      <td>NaT</td>\n",
       "    </tr>\n",
       "    <tr>\n",
       "      <th>...</th>\n",
       "      <td>...</td>\n",
       "      <td>...</td>\n",
       "      <td>...</td>\n",
       "      <td>...</td>\n",
       "      <td>...</td>\n",
       "      <td>...</td>\n",
       "      <td>...</td>\n",
       "      <td>...</td>\n",
       "      <td>...</td>\n",
       "      <td>...</td>\n",
       "    </tr>\n",
       "    <tr>\n",
       "      <th>253532</th>\n",
       "      <td>2014-01-30 09:14:23</td>\n",
       "      <td>2014-01-30 09:14:45</td>\n",
       "      <td>2014-01-30 09:14:56</td>\n",
       "      <td>2014-01-30 09:14:57</td>\n",
       "      <td>2014-01-30 09:15:07</td>\n",
       "      <td>2014-01-30 09:15:08</td>\n",
       "      <td>2014-01-30 09:15:22</td>\n",
       "      <td>2014-01-30 09:15:22</td>\n",
       "      <td>2014-01-30 09:16:31</td>\n",
       "      <td>2014-01-30 09:16:32</td>\n",
       "    </tr>\n",
       "    <tr>\n",
       "      <th>253533</th>\n",
       "      <td>2014-02-25 10:31:36</td>\n",
       "      <td>2014-02-25 10:31:36</td>\n",
       "      <td>2014-02-25 10:31:36</td>\n",
       "      <td>2014-02-25 10:31:38</td>\n",
       "      <td>2014-02-25 10:31:39</td>\n",
       "      <td>2014-02-25 10:31:40</td>\n",
       "      <td>2014-02-25 10:31:41</td>\n",
       "      <td>2014-02-25 10:31:42</td>\n",
       "      <td>2014-02-25 10:31:42</td>\n",
       "      <td>2014-02-25 10:31:45</td>\n",
       "    </tr>\n",
       "    <tr>\n",
       "      <th>253534</th>\n",
       "      <td>2014-03-25 14:52:48</td>\n",
       "      <td>2014-03-25 14:52:48</td>\n",
       "      <td>2014-03-25 14:52:49</td>\n",
       "      <td>2014-03-25 14:52:49</td>\n",
       "      <td>2014-03-25 14:52:49</td>\n",
       "      <td>2014-03-25 14:52:50</td>\n",
       "      <td>2014-03-25 14:52:50</td>\n",
       "      <td>2014-03-25 14:52:50</td>\n",
       "      <td>2014-03-25 14:52:50</td>\n",
       "      <td>2014-03-25 14:52:51</td>\n",
       "    </tr>\n",
       "    <tr>\n",
       "      <th>253535</th>\n",
       "      <td>2013-11-25 10:48:37</td>\n",
       "      <td>2013-11-25 10:48:50</td>\n",
       "      <td>2013-11-25 10:49:02</td>\n",
       "      <td>2013-11-25 10:49:14</td>\n",
       "      <td>2013-11-25 10:49:26</td>\n",
       "      <td>2013-11-25 10:49:38</td>\n",
       "      <td>2013-11-25 10:49:50</td>\n",
       "      <td>2013-11-25 10:50:02</td>\n",
       "      <td>2013-11-25 10:50:14</td>\n",
       "      <td>2013-11-25 10:50:26</td>\n",
       "    </tr>\n",
       "    <tr>\n",
       "      <th>253536</th>\n",
       "      <td>2014-03-30 12:54:10</td>\n",
       "      <td>2014-03-30 12:54:18</td>\n",
       "      <td>2014-03-30 12:54:18</td>\n",
       "      <td>2014-03-30 12:54:18</td>\n",
       "      <td>2014-03-30 12:54:19</td>\n",
       "      <td>2014-03-30 12:54:19</td>\n",
       "      <td>2014-03-30 12:54:19</td>\n",
       "      <td>2014-03-30 12:54:25</td>\n",
       "      <td>2014-03-30 12:54:27</td>\n",
       "      <td>2014-03-30 12:54:28</td>\n",
       "    </tr>\n",
       "    <tr>\n",
       "      <th>253537</th>\n",
       "      <td>2013-12-16 10:01:48</td>\n",
       "      <td>2013-12-16 10:01:51</td>\n",
       "      <td>2013-12-16 10:02:03</td>\n",
       "      <td>2013-12-16 10:02:11</td>\n",
       "      <td>2013-12-16 10:02:14</td>\n",
       "      <td>2013-12-16 10:02:22</td>\n",
       "      <td>2013-12-16 10:02:23</td>\n",
       "      <td>2013-12-16 10:02:23</td>\n",
       "      <td>2013-12-16 10:02:23</td>\n",
       "      <td>2013-12-16 10:02:23</td>\n",
       "    </tr>\n",
       "    <tr>\n",
       "      <th>253538</th>\n",
       "      <td>2014-02-04 13:59:54</td>\n",
       "      <td>2014-02-04 14:03:58</td>\n",
       "      <td>2014-02-04 14:03:58</td>\n",
       "      <td>NaT</td>\n",
       "      <td>NaT</td>\n",
       "      <td>NaT</td>\n",
       "      <td>NaT</td>\n",
       "      <td>NaT</td>\n",
       "      <td>NaT</td>\n",
       "      <td>NaT</td>\n",
       "    </tr>\n",
       "    <tr>\n",
       "      <th>253539</th>\n",
       "      <td>2013-11-22 16:48:11</td>\n",
       "      <td>2013-11-22 16:48:12</td>\n",
       "      <td>2013-11-22 16:48:13</td>\n",
       "      <td>2013-11-22 16:48:13</td>\n",
       "      <td>2013-11-22 16:48:13</td>\n",
       "      <td>2013-11-22 16:48:14</td>\n",
       "      <td>2013-11-22 16:48:14</td>\n",
       "      <td>2013-11-22 16:48:15</td>\n",
       "      <td>2013-11-22 16:48:16</td>\n",
       "      <td>2013-11-22 16:48:16</td>\n",
       "    </tr>\n",
       "    <tr>\n",
       "      <th>253540</th>\n",
       "      <td>2014-02-18 10:33:46</td>\n",
       "      <td>2014-02-18 10:33:46</td>\n",
       "      <td>2014-02-18 10:33:46</td>\n",
       "      <td>2014-02-18 10:33:46</td>\n",
       "      <td>2014-02-18 10:33:47</td>\n",
       "      <td>2014-02-18 10:33:47</td>\n",
       "      <td>2014-02-18 10:33:48</td>\n",
       "      <td>2014-02-18 10:33:48</td>\n",
       "      <td>2014-02-18 10:33:48</td>\n",
       "      <td>2014-02-18 10:33:49</td>\n",
       "    </tr>\n",
       "    <tr>\n",
       "      <th>253541</th>\n",
       "      <td>2014-03-17 10:14:03</td>\n",
       "      <td>2014-03-17 10:14:33</td>\n",
       "      <td>2014-03-17 10:14:43</td>\n",
       "      <td>2014-03-17 10:14:52</td>\n",
       "      <td>2014-03-17 10:14:53</td>\n",
       "      <td>2014-03-17 10:14:59</td>\n",
       "      <td>2014-03-17 10:15:01</td>\n",
       "      <td>2014-03-17 10:15:01</td>\n",
       "      <td>2014-03-17 10:15:03</td>\n",
       "      <td>2014-03-17 10:15:03</td>\n",
       "    </tr>\n",
       "    <tr>\n",
       "      <th>253542</th>\n",
       "      <td>2014-01-22 15:59:12</td>\n",
       "      <td>2014-01-22 15:59:12</td>\n",
       "      <td>2014-01-22 15:59:12</td>\n",
       "      <td>2014-01-22 15:59:13</td>\n",
       "      <td>2014-01-22 15:59:13</td>\n",
       "      <td>2014-01-22 15:59:13</td>\n",
       "      <td>2014-01-22 15:59:16</td>\n",
       "      <td>2014-01-22 15:59:17</td>\n",
       "      <td>2014-01-22 15:59:17</td>\n",
       "      <td>2014-01-22 15:59:18</td>\n",
       "    </tr>\n",
       "    <tr>\n",
       "      <th>253543</th>\n",
       "      <td>2014-03-25 17:36:09</td>\n",
       "      <td>2014-03-25 17:36:09</td>\n",
       "      <td>2014-03-25 17:36:09</td>\n",
       "      <td>2014-03-25 17:36:11</td>\n",
       "      <td>2014-03-25 17:36:11</td>\n",
       "      <td>2014-03-25 17:36:11</td>\n",
       "      <td>2014-03-25 17:36:11</td>\n",
       "      <td>2014-03-25 17:36:53</td>\n",
       "      <td>2014-03-25 17:36:58</td>\n",
       "      <td>2014-03-25 17:36:58</td>\n",
       "    </tr>\n",
       "    <tr>\n",
       "      <th>253544</th>\n",
       "      <td>2013-04-12 16:06:02</td>\n",
       "      <td>2013-04-12 16:06:02</td>\n",
       "      <td>2013-04-12 16:06:08</td>\n",
       "      <td>2013-04-12 16:06:09</td>\n",
       "      <td>2013-04-12 16:06:09</td>\n",
       "      <td>2013-04-12 16:06:10</td>\n",
       "      <td>2013-04-12 16:06:10</td>\n",
       "      <td>2013-04-12 16:06:11</td>\n",
       "      <td>2013-04-12 16:06:11</td>\n",
       "      <td>2013-04-12 16:06:11</td>\n",
       "    </tr>\n",
       "    <tr>\n",
       "      <th>253545</th>\n",
       "      <td>2014-04-20 17:21:48</td>\n",
       "      <td>2014-04-20 17:21:49</td>\n",
       "      <td>2014-04-20 17:21:51</td>\n",
       "      <td>2014-04-20 17:21:54</td>\n",
       "      <td>2014-04-20 17:21:57</td>\n",
       "      <td>2014-04-20 17:21:59</td>\n",
       "      <td>2014-04-20 17:22:01</td>\n",
       "      <td>2014-04-20 17:22:05</td>\n",
       "      <td>2014-04-20 17:22:08</td>\n",
       "      <td>NaT</td>\n",
       "    </tr>\n",
       "    <tr>\n",
       "      <th>253546</th>\n",
       "      <td>2014-02-24 10:13:49</td>\n",
       "      <td>2014-02-24 10:14:02</td>\n",
       "      <td>2014-02-24 10:14:03</td>\n",
       "      <td>2014-02-24 10:14:03</td>\n",
       "      <td>2014-02-24 10:14:03</td>\n",
       "      <td>2014-02-24 10:14:03</td>\n",
       "      <td>2014-02-24 10:14:04</td>\n",
       "      <td>2014-02-24 10:14:11</td>\n",
       "      <td>2014-02-24 10:14:59</td>\n",
       "      <td>2014-02-24 10:14:59</td>\n",
       "    </tr>\n",
       "    <tr>\n",
       "      <th>253547</th>\n",
       "      <td>2014-02-27 14:53:54</td>\n",
       "      <td>2014-02-27 14:53:54</td>\n",
       "      <td>2014-02-27 14:53:57</td>\n",
       "      <td>2014-02-27 14:53:57</td>\n",
       "      <td>2014-02-27 14:53:58</td>\n",
       "      <td>2014-02-27 14:53:58</td>\n",
       "      <td>2014-02-27 14:53:58</td>\n",
       "      <td>2014-02-27 14:53:58</td>\n",
       "      <td>2014-02-27 14:55:41</td>\n",
       "      <td>2014-02-27 14:55:42</td>\n",
       "    </tr>\n",
       "    <tr>\n",
       "      <th>253548</th>\n",
       "      <td>2013-11-29 13:18:12</td>\n",
       "      <td>2013-11-29 13:18:56</td>\n",
       "      <td>2013-11-29 13:20:46</td>\n",
       "      <td>2013-11-29 13:21:22</td>\n",
       "      <td>2013-11-29 13:21:46</td>\n",
       "      <td>2013-11-29 13:21:55</td>\n",
       "      <td>2013-11-29 13:23:56</td>\n",
       "      <td>2013-11-29 13:25:09</td>\n",
       "      <td>2013-11-29 13:25:46</td>\n",
       "      <td>2013-11-29 13:25:58</td>\n",
       "    </tr>\n",
       "    <tr>\n",
       "      <th>253549</th>\n",
       "      <td>2014-02-17 16:53:26</td>\n",
       "      <td>2014-02-17 16:53:39</td>\n",
       "      <td>2014-02-17 16:53:43</td>\n",
       "      <td>2014-02-17 16:53:45</td>\n",
       "      <td>2014-02-17 16:53:45</td>\n",
       "      <td>2014-02-17 16:53:48</td>\n",
       "      <td>2014-02-17 16:53:48</td>\n",
       "      <td>2014-02-17 16:53:49</td>\n",
       "      <td>2014-02-17 16:53:49</td>\n",
       "      <td>2014-02-17 16:53:49</td>\n",
       "    </tr>\n",
       "    <tr>\n",
       "      <th>253550</th>\n",
       "      <td>2014-03-24 11:49:51</td>\n",
       "      <td>2014-03-24 11:49:51</td>\n",
       "      <td>2014-03-24 11:49:53</td>\n",
       "      <td>2014-03-24 11:49:56</td>\n",
       "      <td>2014-03-24 11:50:02</td>\n",
       "      <td>2014-03-24 11:50:02</td>\n",
       "      <td>2014-03-24 11:50:03</td>\n",
       "      <td>2014-03-24 11:50:05</td>\n",
       "      <td>2014-03-24 11:50:05</td>\n",
       "      <td>2014-03-24 11:50:05</td>\n",
       "    </tr>\n",
       "    <tr>\n",
       "      <th>253551</th>\n",
       "      <td>2014-03-26 14:11:42</td>\n",
       "      <td>2014-03-26 14:21:17</td>\n",
       "      <td>2014-03-26 14:23:57</td>\n",
       "      <td>2014-03-26 14:25:17</td>\n",
       "      <td>2014-03-26 14:27:57</td>\n",
       "      <td>2014-03-26 14:35:40</td>\n",
       "      <td>2014-03-26 14:35:42</td>\n",
       "      <td>2014-03-26 14:39:41</td>\n",
       "      <td>2014-03-26 14:39:42</td>\n",
       "      <td>NaT</td>\n",
       "    </tr>\n",
       "    <tr>\n",
       "      <th>253552</th>\n",
       "      <td>2014-02-19 15:05:24</td>\n",
       "      <td>2014-02-19 15:05:24</td>\n",
       "      <td>2014-02-19 15:05:25</td>\n",
       "      <td>2014-02-19 15:05:57</td>\n",
       "      <td>2014-02-19 15:05:57</td>\n",
       "      <td>2014-02-19 15:06:11</td>\n",
       "      <td>2014-02-19 15:09:39</td>\n",
       "      <td>2014-02-19 15:09:39</td>\n",
       "      <td>2014-02-19 15:14:15</td>\n",
       "      <td>2014-02-19 15:14:25</td>\n",
       "    </tr>\n",
       "    <tr>\n",
       "      <th>253553</th>\n",
       "      <td>2013-11-15 08:34:48</td>\n",
       "      <td>2013-11-15 08:34:49</td>\n",
       "      <td>2013-11-15 08:34:59</td>\n",
       "      <td>2013-11-15 08:35:00</td>\n",
       "      <td>2013-11-15 08:35:01</td>\n",
       "      <td>2013-11-15 08:35:03</td>\n",
       "      <td>2013-11-15 08:35:04</td>\n",
       "      <td>2013-11-15 08:35:15</td>\n",
       "      <td>2013-11-15 08:35:16</td>\n",
       "      <td>2013-11-15 08:35:17</td>\n",
       "    </tr>\n",
       "    <tr>\n",
       "      <th>253554</th>\n",
       "      <td>2014-04-15 13:11:32</td>\n",
       "      <td>2014-04-15 13:11:34</td>\n",
       "      <td>2014-04-15 13:11:35</td>\n",
       "      <td>2014-04-15 13:11:37</td>\n",
       "      <td>2014-04-15 13:11:38</td>\n",
       "      <td>2014-04-15 13:11:50</td>\n",
       "      <td>2014-04-15 13:11:52</td>\n",
       "      <td>2014-04-15 13:11:54</td>\n",
       "      <td>2014-04-15 13:11:55</td>\n",
       "      <td>2014-04-15 13:11:58</td>\n",
       "    </tr>\n",
       "    <tr>\n",
       "      <th>253555</th>\n",
       "      <td>2014-01-29 09:24:35</td>\n",
       "      <td>2014-01-29 09:24:35</td>\n",
       "      <td>2014-01-29 09:24:42</td>\n",
       "      <td>2014-01-29 09:24:46</td>\n",
       "      <td>2014-01-29 09:25:12</td>\n",
       "      <td>2014-01-29 09:25:13</td>\n",
       "      <td>2014-01-29 09:25:16</td>\n",
       "      <td>2014-01-29 09:25:24</td>\n",
       "      <td>2014-01-29 09:25:25</td>\n",
       "      <td>2014-01-29 09:25:26</td>\n",
       "    </tr>\n",
       "    <tr>\n",
       "      <th>253556</th>\n",
       "      <td>2013-04-12 13:11:57</td>\n",
       "      <td>2013-04-12 13:12:01</td>\n",
       "      <td>2013-04-12 13:12:03</td>\n",
       "      <td>2013-04-12 13:12:03</td>\n",
       "      <td>2013-04-12 13:12:06</td>\n",
       "      <td>2013-04-12 13:12:06</td>\n",
       "      <td>2013-04-12 13:12:07</td>\n",
       "      <td>2013-04-12 13:12:09</td>\n",
       "      <td>2013-04-12 13:12:12</td>\n",
       "      <td>2013-04-12 13:12:13</td>\n",
       "    </tr>\n",
       "    <tr>\n",
       "      <th>253557</th>\n",
       "      <td>2013-11-25 10:26:54</td>\n",
       "      <td>2013-11-25 10:26:58</td>\n",
       "      <td>2013-11-25 10:27:03</td>\n",
       "      <td>2013-11-25 10:27:04</td>\n",
       "      <td>2013-11-25 10:27:13</td>\n",
       "      <td>2013-11-25 10:27:16</td>\n",
       "      <td>2013-11-25 10:27:28</td>\n",
       "      <td>2013-11-25 10:27:40</td>\n",
       "      <td>2013-11-25 10:27:52</td>\n",
       "      <td>2013-11-25 10:27:53</td>\n",
       "    </tr>\n",
       "    <tr>\n",
       "      <th>253558</th>\n",
       "      <td>2013-03-12 16:01:15</td>\n",
       "      <td>2013-03-12 16:01:16</td>\n",
       "      <td>2013-03-12 16:01:16</td>\n",
       "      <td>2013-03-12 16:01:17</td>\n",
       "      <td>2013-03-12 16:01:17</td>\n",
       "      <td>2013-03-12 16:01:17</td>\n",
       "      <td>2013-03-12 16:01:18</td>\n",
       "      <td>2013-03-12 16:01:18</td>\n",
       "      <td>2013-03-12 16:01:18</td>\n",
       "      <td>2013-03-12 16:01:18</td>\n",
       "    </tr>\n",
       "    <tr>\n",
       "      <th>253559</th>\n",
       "      <td>2013-09-12 14:05:03</td>\n",
       "      <td>2013-09-12 14:05:10</td>\n",
       "      <td>2013-09-12 14:05:10</td>\n",
       "      <td>2013-09-12 14:06:29</td>\n",
       "      <td>2013-09-12 14:06:30</td>\n",
       "      <td>NaT</td>\n",
       "      <td>NaT</td>\n",
       "      <td>NaT</td>\n",
       "      <td>NaT</td>\n",
       "      <td>NaT</td>\n",
       "    </tr>\n",
       "    <tr>\n",
       "      <th>253560</th>\n",
       "      <td>2013-12-19 15:20:22</td>\n",
       "      <td>2013-12-19 15:20:22</td>\n",
       "      <td>2013-12-19 15:20:22</td>\n",
       "      <td>2013-12-19 15:20:22</td>\n",
       "      <td>2013-12-19 15:20:22</td>\n",
       "      <td>2013-12-19 15:20:23</td>\n",
       "      <td>2013-12-19 15:20:23</td>\n",
       "      <td>2013-12-19 15:20:23</td>\n",
       "      <td>2013-12-19 15:20:24</td>\n",
       "      <td>2013-12-19 15:20:24</td>\n",
       "    </tr>\n",
       "    <tr>\n",
       "      <th>253561</th>\n",
       "      <td>2014-04-25 09:56:52</td>\n",
       "      <td>2014-04-25 09:56:53</td>\n",
       "      <td>2014-04-25 09:56:53</td>\n",
       "      <td>2014-04-25 09:56:54</td>\n",
       "      <td>2014-04-25 09:56:54</td>\n",
       "      <td>2014-04-25 09:56:54</td>\n",
       "      <td>2014-04-25 09:56:54</td>\n",
       "      <td>2014-04-25 09:56:55</td>\n",
       "      <td>2014-04-25 09:56:55</td>\n",
       "      <td>2014-04-25 09:56:55</td>\n",
       "    </tr>\n",
       "  </tbody>\n",
       "</table>\n",
       "<p>253561 rows × 10 columns</p>\n",
       "</div>"
      ],
      "text/plain": [
       "                         time1               time2               time3  \\\n",
       "session_id                                                               \n",
       "1          2014-02-20 10:02:45                 NaT                 NaT   \n",
       "2          2014-02-22 11:19:50 2014-02-22 11:19:50 2014-02-22 11:19:51   \n",
       "3          2013-12-16 16:40:17 2013-12-16 16:40:18 2013-12-16 16:40:19   \n",
       "4          2014-03-28 10:52:12 2014-03-28 10:52:42 2014-03-28 10:53:12   \n",
       "5          2014-02-28 10:53:05 2014-02-28 10:55:22 2014-02-28 10:55:22   \n",
       "6          2014-03-18 15:18:31 2014-03-18 15:18:39 2014-03-18 15:23:02   \n",
       "7          2014-02-13 16:45:35 2014-02-13 16:45:35 2014-02-13 16:45:35   \n",
       "8          2013-04-12 10:27:26 2013-04-12 10:27:26 2013-04-12 10:27:28   \n",
       "9          2014-03-17 16:23:08 2014-03-17 16:23:35 2014-03-17 16:23:35   \n",
       "10         2014-02-20 16:09:13 2014-02-20 16:10:08 2014-02-20 16:10:08   \n",
       "11         2014-01-27 09:41:01 2014-01-27 09:42:33 2014-01-27 09:42:33   \n",
       "12         2014-01-22 13:05:21 2014-01-22 13:05:24 2014-01-22 13:05:32   \n",
       "13         2014-03-31 13:51:43 2014-03-31 13:51:44 2014-03-31 13:51:46   \n",
       "14         2014-04-04 13:12:14 2014-04-04 13:12:15 2014-04-04 13:12:16   \n",
       "15         2014-03-22 11:33:00 2014-03-22 11:33:16 2014-03-22 11:33:19   \n",
       "16         2014-02-04 09:31:46 2014-02-04 09:31:46 2014-02-04 09:31:47   \n",
       "17         2014-02-24 08:06:14 2014-02-24 08:07:25 2014-02-24 08:07:26   \n",
       "18         2013-02-12 15:15:14 2013-02-12 15:15:14 2013-02-12 15:16:26   \n",
       "19         2013-04-12 11:06:58 2013-04-12 11:07:08 2013-04-12 11:07:19   \n",
       "20         2014-01-29 11:27:15 2014-01-29 11:27:15 2014-01-29 11:27:16   \n",
       "21         2013-05-12 12:52:12 2013-05-12 12:52:12 2013-05-12 12:52:12   \n",
       "22         2014-02-04 09:59:41 2014-02-04 09:59:55 2014-02-04 09:59:56   \n",
       "23         2014-03-26 11:27:00 2014-03-26 11:27:30 2014-03-26 11:28:00   \n",
       "24         2013-12-12 20:51:18                 NaT                 NaT   \n",
       "25         2013-11-21 12:59:23 2013-11-21 12:59:24 2013-11-21 12:59:25   \n",
       "26         2013-02-12 10:17:09 2013-02-12 10:17:09 2013-02-12 10:17:21   \n",
       "27         2014-02-04 08:47:31 2014-02-04 08:47:31 2014-02-04 08:47:31   \n",
       "28         2014-03-25 10:43:58 2014-03-25 10:44:00 2014-03-25 10:44:05   \n",
       "29         2013-11-29 13:20:21 2013-11-29 13:20:22 2013-11-29 13:20:23   \n",
       "30         2014-04-15 14:55:40 2014-04-15 14:55:41 2014-04-15 14:55:42   \n",
       "...                        ...                 ...                 ...   \n",
       "253532     2014-01-30 09:14:23 2014-01-30 09:14:45 2014-01-30 09:14:56   \n",
       "253533     2014-02-25 10:31:36 2014-02-25 10:31:36 2014-02-25 10:31:36   \n",
       "253534     2014-03-25 14:52:48 2014-03-25 14:52:48 2014-03-25 14:52:49   \n",
       "253535     2013-11-25 10:48:37 2013-11-25 10:48:50 2013-11-25 10:49:02   \n",
       "253536     2014-03-30 12:54:10 2014-03-30 12:54:18 2014-03-30 12:54:18   \n",
       "253537     2013-12-16 10:01:48 2013-12-16 10:01:51 2013-12-16 10:02:03   \n",
       "253538     2014-02-04 13:59:54 2014-02-04 14:03:58 2014-02-04 14:03:58   \n",
       "253539     2013-11-22 16:48:11 2013-11-22 16:48:12 2013-11-22 16:48:13   \n",
       "253540     2014-02-18 10:33:46 2014-02-18 10:33:46 2014-02-18 10:33:46   \n",
       "253541     2014-03-17 10:14:03 2014-03-17 10:14:33 2014-03-17 10:14:43   \n",
       "253542     2014-01-22 15:59:12 2014-01-22 15:59:12 2014-01-22 15:59:12   \n",
       "253543     2014-03-25 17:36:09 2014-03-25 17:36:09 2014-03-25 17:36:09   \n",
       "253544     2013-04-12 16:06:02 2013-04-12 16:06:02 2013-04-12 16:06:08   \n",
       "253545     2014-04-20 17:21:48 2014-04-20 17:21:49 2014-04-20 17:21:51   \n",
       "253546     2014-02-24 10:13:49 2014-02-24 10:14:02 2014-02-24 10:14:03   \n",
       "253547     2014-02-27 14:53:54 2014-02-27 14:53:54 2014-02-27 14:53:57   \n",
       "253548     2013-11-29 13:18:12 2013-11-29 13:18:56 2013-11-29 13:20:46   \n",
       "253549     2014-02-17 16:53:26 2014-02-17 16:53:39 2014-02-17 16:53:43   \n",
       "253550     2014-03-24 11:49:51 2014-03-24 11:49:51 2014-03-24 11:49:53   \n",
       "253551     2014-03-26 14:11:42 2014-03-26 14:21:17 2014-03-26 14:23:57   \n",
       "253552     2014-02-19 15:05:24 2014-02-19 15:05:24 2014-02-19 15:05:25   \n",
       "253553     2013-11-15 08:34:48 2013-11-15 08:34:49 2013-11-15 08:34:59   \n",
       "253554     2014-04-15 13:11:32 2014-04-15 13:11:34 2014-04-15 13:11:35   \n",
       "253555     2014-01-29 09:24:35 2014-01-29 09:24:35 2014-01-29 09:24:42   \n",
       "253556     2013-04-12 13:11:57 2013-04-12 13:12:01 2013-04-12 13:12:03   \n",
       "253557     2013-11-25 10:26:54 2013-11-25 10:26:58 2013-11-25 10:27:03   \n",
       "253558     2013-03-12 16:01:15 2013-03-12 16:01:16 2013-03-12 16:01:16   \n",
       "253559     2013-09-12 14:05:03 2013-09-12 14:05:10 2013-09-12 14:05:10   \n",
       "253560     2013-12-19 15:20:22 2013-12-19 15:20:22 2013-12-19 15:20:22   \n",
       "253561     2014-04-25 09:56:52 2014-04-25 09:56:53 2014-04-25 09:56:53   \n",
       "\n",
       "                         time4               time5               time6  \\\n",
       "session_id                                                               \n",
       "1                          NaT                 NaT                 NaT   \n",
       "2          2014-02-22 11:19:51 2014-02-22 11:19:51 2014-02-22 11:19:51   \n",
       "3          2013-12-16 16:40:19 2013-12-16 16:40:19 2013-12-16 16:40:19   \n",
       "4          2014-03-28 10:53:42 2014-03-28 10:54:12 2014-03-28 10:54:42   \n",
       "5          2014-02-28 10:55:23 2014-02-28 10:55:23 2014-02-28 10:55:59   \n",
       "6          2014-03-18 15:23:43 2014-03-18 15:29:57                 NaT   \n",
       "7          2014-02-13 16:45:35 2014-02-13 16:46:05 2014-02-13 16:47:14   \n",
       "8          2013-04-12 10:27:29 2013-04-12 10:27:29 2013-04-12 10:27:29   \n",
       "9          2014-03-17 16:23:35 2014-03-17 16:23:36 2014-03-17 16:23:36   \n",
       "10         2014-02-20 16:10:08 2014-02-20 16:10:24 2014-02-20 16:10:24   \n",
       "11         2014-01-27 09:42:34 2014-01-27 09:42:34 2014-01-27 09:42:34   \n",
       "12         2014-01-22 13:05:44 2014-01-22 13:05:44 2014-01-22 13:05:44   \n",
       "13         2014-03-31 13:51:46 2014-03-31 13:52:45 2014-03-31 13:52:46   \n",
       "14         2014-04-04 13:12:16 2014-04-04 13:12:23 2014-04-04 13:12:31   \n",
       "15         2014-03-22 11:33:20 2014-03-22 11:33:21 2014-03-22 11:33:21   \n",
       "16         2014-02-04 09:31:47 2014-02-04 09:31:47 2014-02-04 09:31:47   \n",
       "17         2014-02-24 08:07:27 2014-02-24 08:07:27 2014-02-24 08:07:30   \n",
       "18         2013-02-12 15:16:26 2013-02-12 15:16:29 2013-02-12 15:16:31   \n",
       "19         2013-04-12 11:07:28 2013-04-12 11:07:38 2013-04-12 11:07:48   \n",
       "20         2014-01-29 11:27:16 2014-01-29 11:27:16 2014-01-29 11:27:19   \n",
       "21         2013-05-12 12:52:12 2013-05-12 12:52:13 2013-05-12 12:52:16   \n",
       "22         2014-02-04 09:59:58 2014-02-04 10:00:56 2014-02-04 10:00:56   \n",
       "23         2014-03-26 11:28:30 2014-03-26 11:29:00 2014-03-26 11:29:30   \n",
       "24                         NaT                 NaT                 NaT   \n",
       "25         2013-11-21 13:00:23 2013-11-21 13:00:24 2013-11-21 13:00:25   \n",
       "26         2013-02-12 10:18:06 2013-02-12 10:18:06 2013-02-12 10:18:51   \n",
       "27         2014-02-04 08:47:31 2014-02-04 08:47:31 2014-02-04 08:47:32   \n",
       "28         2014-03-25 10:44:06 2014-03-25 10:44:08 2014-03-25 10:44:09   \n",
       "29         2013-11-29 13:20:26 2013-11-29 13:20:26 2013-11-29 13:20:26   \n",
       "30         2014-04-15 14:55:42 2014-04-15 14:55:43 2014-04-15 14:55:43   \n",
       "...                        ...                 ...                 ...   \n",
       "253532     2014-01-30 09:14:57 2014-01-30 09:15:07 2014-01-30 09:15:08   \n",
       "253533     2014-02-25 10:31:38 2014-02-25 10:31:39 2014-02-25 10:31:40   \n",
       "253534     2014-03-25 14:52:49 2014-03-25 14:52:49 2014-03-25 14:52:50   \n",
       "253535     2013-11-25 10:49:14 2013-11-25 10:49:26 2013-11-25 10:49:38   \n",
       "253536     2014-03-30 12:54:18 2014-03-30 12:54:19 2014-03-30 12:54:19   \n",
       "253537     2013-12-16 10:02:11 2013-12-16 10:02:14 2013-12-16 10:02:22   \n",
       "253538                     NaT                 NaT                 NaT   \n",
       "253539     2013-11-22 16:48:13 2013-11-22 16:48:13 2013-11-22 16:48:14   \n",
       "253540     2014-02-18 10:33:46 2014-02-18 10:33:47 2014-02-18 10:33:47   \n",
       "253541     2014-03-17 10:14:52 2014-03-17 10:14:53 2014-03-17 10:14:59   \n",
       "253542     2014-01-22 15:59:13 2014-01-22 15:59:13 2014-01-22 15:59:13   \n",
       "253543     2014-03-25 17:36:11 2014-03-25 17:36:11 2014-03-25 17:36:11   \n",
       "253544     2013-04-12 16:06:09 2013-04-12 16:06:09 2013-04-12 16:06:10   \n",
       "253545     2014-04-20 17:21:54 2014-04-20 17:21:57 2014-04-20 17:21:59   \n",
       "253546     2014-02-24 10:14:03 2014-02-24 10:14:03 2014-02-24 10:14:03   \n",
       "253547     2014-02-27 14:53:57 2014-02-27 14:53:58 2014-02-27 14:53:58   \n",
       "253548     2013-11-29 13:21:22 2013-11-29 13:21:46 2013-11-29 13:21:55   \n",
       "253549     2014-02-17 16:53:45 2014-02-17 16:53:45 2014-02-17 16:53:48   \n",
       "253550     2014-03-24 11:49:56 2014-03-24 11:50:02 2014-03-24 11:50:02   \n",
       "253551     2014-03-26 14:25:17 2014-03-26 14:27:57 2014-03-26 14:35:40   \n",
       "253552     2014-02-19 15:05:57 2014-02-19 15:05:57 2014-02-19 15:06:11   \n",
       "253553     2013-11-15 08:35:00 2013-11-15 08:35:01 2013-11-15 08:35:03   \n",
       "253554     2014-04-15 13:11:37 2014-04-15 13:11:38 2014-04-15 13:11:50   \n",
       "253555     2014-01-29 09:24:46 2014-01-29 09:25:12 2014-01-29 09:25:13   \n",
       "253556     2013-04-12 13:12:03 2013-04-12 13:12:06 2013-04-12 13:12:06   \n",
       "253557     2013-11-25 10:27:04 2013-11-25 10:27:13 2013-11-25 10:27:16   \n",
       "253558     2013-03-12 16:01:17 2013-03-12 16:01:17 2013-03-12 16:01:17   \n",
       "253559     2013-09-12 14:06:29 2013-09-12 14:06:30                 NaT   \n",
       "253560     2013-12-19 15:20:22 2013-12-19 15:20:22 2013-12-19 15:20:23   \n",
       "253561     2014-04-25 09:56:54 2014-04-25 09:56:54 2014-04-25 09:56:54   \n",
       "\n",
       "                         time7               time8               time9  \\\n",
       "session_id                                                               \n",
       "1                          NaT                 NaT                 NaT   \n",
       "2          2014-02-22 11:19:52 2014-02-22 11:19:52 2014-02-22 11:20:15   \n",
       "3          2013-12-16 16:40:20 2013-12-16 16:40:21 2013-12-16 16:40:22   \n",
       "4          2014-03-28 10:55:12 2014-03-28 10:55:42 2014-03-28 10:56:12   \n",
       "5          2014-02-28 10:55:59 2014-02-28 10:55:59 2014-02-28 10:57:06   \n",
       "6                          NaT                 NaT                 NaT   \n",
       "7          2014-02-13 16:47:14 2014-02-13 16:47:15 2014-02-13 16:47:16   \n",
       "8          2013-04-12 10:27:29 2013-04-12 10:27:31 2013-04-12 10:27:31   \n",
       "9          2014-03-17 16:23:36 2014-03-17 16:23:52 2014-03-17 16:23:52   \n",
       "10         2014-02-20 16:10:29 2014-02-20 16:10:39 2014-02-20 16:10:40   \n",
       "11         2014-01-27 09:42:34 2014-01-27 09:42:35 2014-01-27 09:42:40   \n",
       "12         2014-01-22 13:05:44 2014-01-22 13:05:44 2014-01-22 13:05:44   \n",
       "13         2014-03-31 13:54:43 2014-03-31 14:10:12 2014-03-31 14:10:12   \n",
       "14         2014-04-04 13:12:42 2014-04-04 13:12:43 2014-04-04 13:12:44   \n",
       "15         2014-03-22 11:33:22 2014-03-22 11:33:27 2014-03-22 11:33:27   \n",
       "16         2014-02-04 09:31:47 2014-02-04 09:31:47 2014-02-04 09:31:47   \n",
       "17         2014-02-24 08:07:31 2014-02-24 08:07:31 2014-02-24 08:07:31   \n",
       "18         2013-02-12 15:16:31 2013-02-12 15:16:31 2013-02-12 15:16:31   \n",
       "19         2013-04-12 11:07:58 2013-04-12 11:08:08 2013-04-12 11:08:18   \n",
       "20         2014-01-29 11:27:20 2014-01-29 11:27:20 2014-01-29 11:27:20   \n",
       "21         2013-05-12 12:52:16 2013-05-12 12:52:16 2013-05-12 12:52:35   \n",
       "22         2014-02-04 10:00:57 2014-02-04 10:00:57 2014-02-04 10:02:48   \n",
       "23         2014-03-26 11:29:55 2014-03-26 11:29:57 2014-03-26 11:30:00   \n",
       "24                         NaT                 NaT                 NaT   \n",
       "25         2013-11-21 13:00:30 2013-11-21 13:00:30 2013-11-21 13:00:30   \n",
       "26         2013-02-12 10:19:33 2013-02-12 10:19:33 2013-02-12 10:19:36   \n",
       "27         2014-02-04 08:47:32 2014-02-04 08:47:32 2014-02-04 08:48:28   \n",
       "28         2014-03-25 10:44:20 2014-03-25 10:44:33 2014-03-25 10:44:34   \n",
       "29         2013-11-29 13:20:26 2013-11-29 13:20:26 2013-11-29 13:20:27   \n",
       "30         2014-04-15 14:55:43                 NaT                 NaT   \n",
       "...                        ...                 ...                 ...   \n",
       "253532     2014-01-30 09:15:22 2014-01-30 09:15:22 2014-01-30 09:16:31   \n",
       "253533     2014-02-25 10:31:41 2014-02-25 10:31:42 2014-02-25 10:31:42   \n",
       "253534     2014-03-25 14:52:50 2014-03-25 14:52:50 2014-03-25 14:52:50   \n",
       "253535     2013-11-25 10:49:50 2013-11-25 10:50:02 2013-11-25 10:50:14   \n",
       "253536     2014-03-30 12:54:19 2014-03-30 12:54:25 2014-03-30 12:54:27   \n",
       "253537     2013-12-16 10:02:23 2013-12-16 10:02:23 2013-12-16 10:02:23   \n",
       "253538                     NaT                 NaT                 NaT   \n",
       "253539     2013-11-22 16:48:14 2013-11-22 16:48:15 2013-11-22 16:48:16   \n",
       "253540     2014-02-18 10:33:48 2014-02-18 10:33:48 2014-02-18 10:33:48   \n",
       "253541     2014-03-17 10:15:01 2014-03-17 10:15:01 2014-03-17 10:15:03   \n",
       "253542     2014-01-22 15:59:16 2014-01-22 15:59:17 2014-01-22 15:59:17   \n",
       "253543     2014-03-25 17:36:11 2014-03-25 17:36:53 2014-03-25 17:36:58   \n",
       "253544     2013-04-12 16:06:10 2013-04-12 16:06:11 2013-04-12 16:06:11   \n",
       "253545     2014-04-20 17:22:01 2014-04-20 17:22:05 2014-04-20 17:22:08   \n",
       "253546     2014-02-24 10:14:04 2014-02-24 10:14:11 2014-02-24 10:14:59   \n",
       "253547     2014-02-27 14:53:58 2014-02-27 14:53:58 2014-02-27 14:55:41   \n",
       "253548     2013-11-29 13:23:56 2013-11-29 13:25:09 2013-11-29 13:25:46   \n",
       "253549     2014-02-17 16:53:48 2014-02-17 16:53:49 2014-02-17 16:53:49   \n",
       "253550     2014-03-24 11:50:03 2014-03-24 11:50:05 2014-03-24 11:50:05   \n",
       "253551     2014-03-26 14:35:42 2014-03-26 14:39:41 2014-03-26 14:39:42   \n",
       "253552     2014-02-19 15:09:39 2014-02-19 15:09:39 2014-02-19 15:14:15   \n",
       "253553     2013-11-15 08:35:04 2013-11-15 08:35:15 2013-11-15 08:35:16   \n",
       "253554     2014-04-15 13:11:52 2014-04-15 13:11:54 2014-04-15 13:11:55   \n",
       "253555     2014-01-29 09:25:16 2014-01-29 09:25:24 2014-01-29 09:25:25   \n",
       "253556     2013-04-12 13:12:07 2013-04-12 13:12:09 2013-04-12 13:12:12   \n",
       "253557     2013-11-25 10:27:28 2013-11-25 10:27:40 2013-11-25 10:27:52   \n",
       "253558     2013-03-12 16:01:18 2013-03-12 16:01:18 2013-03-12 16:01:18   \n",
       "253559                     NaT                 NaT                 NaT   \n",
       "253560     2013-12-19 15:20:23 2013-12-19 15:20:23 2013-12-19 15:20:24   \n",
       "253561     2014-04-25 09:56:54 2014-04-25 09:56:55 2014-04-25 09:56:55   \n",
       "\n",
       "                        time10  \n",
       "session_id                      \n",
       "1                          NaT  \n",
       "2          2014-02-22 11:20:16  \n",
       "3          2013-12-16 16:40:24  \n",
       "4          2014-03-28 10:56:42  \n",
       "5          2014-02-28 10:57:11  \n",
       "6                          NaT  \n",
       "7          2014-02-13 16:47:17  \n",
       "8          2013-04-12 10:27:32  \n",
       "9          2014-03-17 16:23:53  \n",
       "10         2014-02-20 16:10:40  \n",
       "11         2014-01-27 09:42:41  \n",
       "12         2014-01-22 13:05:44  \n",
       "13         2014-03-31 14:10:13  \n",
       "14         2014-04-04 13:12:45  \n",
       "15         2014-03-22 11:33:27  \n",
       "16         2014-02-04 09:31:47  \n",
       "17         2014-02-24 08:07:31  \n",
       "18         2013-02-12 15:16:31  \n",
       "19         2013-04-12 11:08:20  \n",
       "20         2014-01-29 11:27:20  \n",
       "21         2013-05-12 12:52:39  \n",
       "22                         NaT  \n",
       "23         2014-03-26 11:30:30  \n",
       "24                         NaT  \n",
       "25         2013-11-21 13:00:32  \n",
       "26         2013-02-12 10:20:21  \n",
       "27         2014-02-04 08:48:32  \n",
       "28         2014-03-25 10:44:40  \n",
       "29         2013-11-29 13:20:27  \n",
       "30                         NaT  \n",
       "...                        ...  \n",
       "253532     2014-01-30 09:16:32  \n",
       "253533     2014-02-25 10:31:45  \n",
       "253534     2014-03-25 14:52:51  \n",
       "253535     2013-11-25 10:50:26  \n",
       "253536     2014-03-30 12:54:28  \n",
       "253537     2013-12-16 10:02:23  \n",
       "253538                     NaT  \n",
       "253539     2013-11-22 16:48:16  \n",
       "253540     2014-02-18 10:33:49  \n",
       "253541     2014-03-17 10:15:03  \n",
       "253542     2014-01-22 15:59:18  \n",
       "253543     2014-03-25 17:36:58  \n",
       "253544     2013-04-12 16:06:11  \n",
       "253545                     NaT  \n",
       "253546     2014-02-24 10:14:59  \n",
       "253547     2014-02-27 14:55:42  \n",
       "253548     2013-11-29 13:25:58  \n",
       "253549     2014-02-17 16:53:49  \n",
       "253550     2014-03-24 11:50:05  \n",
       "253551                     NaT  \n",
       "253552     2014-02-19 15:14:25  \n",
       "253553     2013-11-15 08:35:17  \n",
       "253554     2014-04-15 13:11:58  \n",
       "253555     2014-01-29 09:25:26  \n",
       "253556     2013-04-12 13:12:13  \n",
       "253557     2013-11-25 10:27:53  \n",
       "253558     2013-03-12 16:01:18  \n",
       "253559                     NaT  \n",
       "253560     2013-12-19 15:20:24  \n",
       "253561     2014-04-25 09:56:55  \n",
       "\n",
       "[253561 rows x 10 columns]"
      ]
     },
     "execution_count": 37,
     "metadata": {},
     "output_type": "execute_result"
    }
   ],
   "source": [
    "time = ['time%d' % i for i in range(1, 11)]\n",
    "# DataFrame just with time columns\n",
    "train_df[time] = train_df[time].apply(pd.to_datetime)\n",
    "test_df[time] = test_df[time].apply(pd.to_datetime)\n",
    "\n",
    "train_df[time]"
   ]
  },
  {
   "cell_type": "code",
   "execution_count": 38,
   "metadata": {},
   "outputs": [],
   "source": [
    "# New DataFrame, where will add new features, \n",
    "# after will add it in \"previous\" train_sparse и test_sparse \n",
    "\n",
    "new_feat_train = pd.DataFrame(index=train_df.index)\n",
    "new_feat_test = pd.DataFrame(index=test_df.index)"
   ]
  },
  {
   "cell_type": "code",
   "execution_count": 39,
   "metadata": {},
   "outputs": [],
   "source": [
    "# add only feature on time1 - that's the start of session\n",
    "\n",
    "new_feat_train['year_month'] = train_df['time1'].apply(lambda ts: 100 * ts.year + ts.month)\n",
    "new_feat_test['year_month'] = test_df['time1'].apply(lambda ts: 100 * ts.year + ts.month)"
   ]
  },
  {
   "cell_type": "code",
   "execution_count": 40,
   "metadata": {},
   "outputs": [
    {
     "data": {
      "text/html": [
       "<div>\n",
       "<style scoped>\n",
       "    .dataframe tbody tr th:only-of-type {\n",
       "        vertical-align: middle;\n",
       "    }\n",
       "\n",
       "    .dataframe tbody tr th {\n",
       "        vertical-align: top;\n",
       "    }\n",
       "\n",
       "    .dataframe thead th {\n",
       "        text-align: right;\n",
       "    }\n",
       "</style>\n",
       "<table border=\"1\" class=\"dataframe\">\n",
       "  <thead>\n",
       "    <tr style=\"text-align: right;\">\n",
       "      <th></th>\n",
       "      <th>year_month</th>\n",
       "    </tr>\n",
       "    <tr>\n",
       "      <th>session_id</th>\n",
       "      <th></th>\n",
       "    </tr>\n",
       "  </thead>\n",
       "  <tbody>\n",
       "    <tr>\n",
       "      <th>1</th>\n",
       "      <td>201402</td>\n",
       "    </tr>\n",
       "    <tr>\n",
       "      <th>2</th>\n",
       "      <td>201402</td>\n",
       "    </tr>\n",
       "    <tr>\n",
       "      <th>3</th>\n",
       "      <td>201312</td>\n",
       "    </tr>\n",
       "    <tr>\n",
       "      <th>4</th>\n",
       "      <td>201403</td>\n",
       "    </tr>\n",
       "    <tr>\n",
       "      <th>5</th>\n",
       "      <td>201402</td>\n",
       "    </tr>\n",
       "  </tbody>\n",
       "</table>\n",
       "</div>"
      ],
      "text/plain": [
       "            year_month\n",
       "session_id            \n",
       "1               201402\n",
       "2               201402\n",
       "3               201312\n",
       "4               201403\n",
       "5               201402"
      ]
     },
     "execution_count": 40,
     "metadata": {},
     "output_type": "execute_result"
    }
   ],
   "source": [
    "new_feat_train.head()"
   ]
  },
  {
   "cell_type": "code",
   "execution_count": 41,
   "metadata": {},
   "outputs": [],
   "source": [
    "# Normalizing it\n",
    "# For it StandartScale"
   ]
  },
  {
   "cell_type": "code",
   "execution_count": 42,
   "metadata": {},
   "outputs": [],
   "source": [
    "scaler = StandardScaler()\n",
    "scaler.fit(new_feat_train['year_month'].values.reshape(-1,1))\n",
    "\n",
    "\n",
    "new_feat_train['year_month_scaled'] = scaler.transform(new_feat_train['year_month'].values.reshape(-1,1))\n",
    "new_feat_test['year_month_scaled'] = scaler.transform(new_feat_test['year_month'].values.reshape(-1,1))"
   ]
  },
  {
   "cell_type": "code",
   "execution_count": 43,
   "metadata": {},
   "outputs": [
    {
     "data": {
      "text/plain": [
       "(            year_month  year_month_scaled\n",
       " session_id                               \n",
       " 1               201402           0.634518\n",
       " 2               201402           0.634518\n",
       " 3               201312          -1.485314\n",
       " 4               201403           0.658072\n",
       " 5               201402           0.634518,\n",
       "             year_month  year_month_scaled\n",
       " session_id                               \n",
       " 1               201410           0.822948\n",
       " 2               201407           0.752287\n",
       " 3               201412           0.870055\n",
       " 4               201411           0.846501\n",
       " 5               201405           0.705179)"
      ]
     },
     "execution_count": 43,
     "metadata": {},
     "output_type": "execute_result"
    }
   ],
   "source": [
    "new_feat_train.head(), new_feat_test.head()"
   ]
  },
  {
   "cell_type": "code",
   "execution_count": 44,
   "metadata": {},
   "outputs": [],
   "source": [
    "# add this feat to X_train_sparse and X_test_sparse\n",
    "\n",
    "\n",
    "X_train_sparse_new = csr_matrix(hstack([X_train_sparse, \n",
    "                            new_feat_train['year_month_scaled'].values.reshape(-1,1)]))\n",
    "\n",
    "X_test_sparse_new = csr_matrix(hstack([X_test_sparse, \n",
    "                            new_feat_test['year_month_scaled'].values.reshape(-1,1)]))"
   ]
  },
  {
   "cell_type": "code",
   "execution_count": 45,
   "metadata": {},
   "outputs": [
    {
     "name": "stdout",
     "output_type": "stream",
     "text": [
      "CPU times: user 2 µs, sys: 0 ns, total: 2 µs\n",
      "Wall time: 6.2 µs\n"
     ]
    },
    {
     "data": {
      "text/plain": [
       "0.9655742093504578"
      ]
     },
     "execution_count": 45,
     "metadata": {},
     "output_type": "execute_result"
    }
   ],
   "source": [
    "#use prepared data X_train_sparse_new\n",
    "%time\n",
    "get_auc_lr_valid(X_train_sparse_new, y_train)"
   ]
  },
  {
   "cell_type": "code",
   "execution_count": 46,
   "metadata": {},
   "outputs": [
    {
     "data": {
      "text/plain": [
       "LogisticRegression(C=1.0, class_weight=None, dual=False, fit_intercept=True,\n",
       "          intercept_scaling=1, max_iter=100, multi_class='warn', n_jobs=-1,\n",
       "          penalty='l2', random_state=17, solver='warn', tol=0.0001,\n",
       "          verbose=0, warm_start=False)"
      ]
     },
     "execution_count": 46,
     "metadata": {},
     "output_type": "execute_result"
    }
   ],
   "source": [
    "logit = LogisticRegression(n_jobs=-1, random_state=17)\n",
    "logit.fit(X_train_sparse_new, y_train)"
   ]
  },
  {
   "cell_type": "code",
   "execution_count": 47,
   "metadata": {},
   "outputs": [],
   "source": [
    "test_predict = logit.predict_proba(X_test_sparse_new)[:, 1]"
   ]
  },
  {
   "cell_type": "code",
   "execution_count": 48,
   "metadata": {},
   "outputs": [],
   "source": [
    "# Create a file for kaggle\n",
    "pd.Series(test_predict, index = range(1, test_predict.shape[0] + 1), name = 'target').to_csv('Benchmark_1_and_feat.csv', \n",
    "                                                                                             header = True, \n",
    "                                                                                            index_label = 'session_id')"
   ]
  },
  {
   "cell_type": "code",
   "execution_count": 49,
   "metadata": {},
   "outputs": [
    {
     "name": "stdout",
     "output_type": "stream",
     "text": [
      "session_id,target\r\n",
      "1,0.0015730914592577904\r\n",
      "2,1.3990578037385505e-08\r\n",
      "3,1.0015397304783872e-08\r\n",
      "4,1.221598419197595e-08\r\n",
      "5,2.4722982825425023e-05\r\n",
      "6,0.00015755102509422563\r\n",
      "7,0.0003639165635836856\r\n",
      "8,6.740295496143995e-05\r\n",
      "9,0.000513955488784313\r\n"
     ]
    }
   ],
   "source": [
    "# Check the correctness of file for kaggle\n",
    "!head -10 Benchmark_1_and_feat.csv"
   ]
  },
  {
   "cell_type": "code",
   "execution_count": 50,
   "metadata": {},
   "outputs": [],
   "source": [
    "#!kaggle competitions submit -c catch-me-if-you-can-intruder-detection-through-webpage-session-tracking2 -f Benchmark_1_and_feat.csv -m \"Logistic Regegression as Benchmark_1.csv + added 1 feature\""
   ]
  },
  {
   "cell_type": "markdown",
   "metadata": {},
   "source": [
    "## SGD Classifier and Feature Engineering"
   ]
  },
  {
   "cell_type": "code",
   "execution_count": 51,
   "metadata": {},
   "outputs": [
    {
     "name": "stdout",
     "output_type": "stream",
     "text": [
      "CPU times: user 2 µs, sys: 2 µs, total: 4 µs\n",
      "Wall time: 5.96 µs\n"
     ]
    },
    {
     "data": {
      "text/plain": [
       "0.9448731755353111"
      ]
     },
     "execution_count": 51,
     "metadata": {},
     "output_type": "execute_result"
    }
   ],
   "source": [
    "%time\n",
    "get_auc_sgd_valid(X_train_sparse_new, y_train)"
   ]
  },
  {
   "cell_type": "code",
   "execution_count": 52,
   "metadata": {},
   "outputs": [
    {
     "data": {
      "text/plain": [
       "SGDClassifier(alpha=0.0001, average=False, class_weight=None,\n",
       "       early_stopping=False, epsilon=0.1, eta0=0.0, fit_intercept=True,\n",
       "       l1_ratio=0.15, learning_rate='optimal', loss='log', max_iter=None,\n",
       "       n_iter=None, n_iter_no_change=5, n_jobs=-1, penalty='l2',\n",
       "       power_t=0.5, random_state=17, shuffle=True, tol=None,\n",
       "       validation_fraction=0.1, verbose=0, warm_start=False)"
      ]
     },
     "execution_count": 52,
     "metadata": {},
     "output_type": "execute_result"
    }
   ],
   "source": [
    "sgd_logit = sklearn.linear_model.SGDClassifier(loss = 'log', random_state = 17, n_jobs = -1)\n",
    "sgd_logit.fit(X_train_sparse_new, y_train)"
   ]
  },
  {
   "cell_type": "code",
   "execution_count": 53,
   "metadata": {},
   "outputs": [],
   "source": [
    "test_predict = sgd_logit.predict_proba(X_test_sparse_new)[:, 1]"
   ]
  },
  {
   "cell_type": "code",
   "execution_count": 54,
   "metadata": {},
   "outputs": [],
   "source": [
    "# Create a file for kaggle\n",
    "pd.Series(test_predict, index = range(1, test_predict.shape[0] + 1), name = 'target').to_csv('Benchmark_2_and_feat.csv', \n",
    "                                                                                             header = True, \n",
    "                                                                                            index_label = 'session_id')"
   ]
  },
  {
   "cell_type": "code",
   "execution_count": 55,
   "metadata": {},
   "outputs": [
    {
     "name": "stdout",
     "output_type": "stream",
     "text": [
      "session_id,target\r\n",
      "1,0.007387491670547649\r\n",
      "2,5.562100324859741e-05\r\n",
      "3,1.4389572417221454e-05\r\n",
      "4,0.0002790352970941884\r\n",
      "5,0.000686246635037244\r\n",
      "6,0.00354995447663557\r\n",
      "7,0.006145660998630394\r\n",
      "8,0.0024797118011489856\r\n",
      "9,0.005031294832855142\r\n"
     ]
    }
   ],
   "source": [
    "# Check the correctness of file for kaggle\n",
    "!head -10 Benchmark_2_and_feat.csv"
   ]
  },
  {
   "cell_type": "code",
   "execution_count": 56,
   "metadata": {},
   "outputs": [],
   "source": [
    "#!kaggle competitions submit -c catch-me-if-you-can-intruder-detection-through-webpage-session-tracking2 -f Benchmark_2_and_feat.csv -m \"Stochastic Gradient Descent as Benchmark_2.csv + added 1 feature\""
   ]
  },
  {
   "cell_type": "markdown",
   "metadata": {},
   "source": [
    "Till here we tried: <ul>\n",
    "<li>Untuned Linear Regression</li>\n",
    "<li>Untuned Linear Regression + 1 additional feature</li>\n",
    "<li>Untuned SGD</li>\n",
    "<li>Untuned SGD + 1 additional feature</li>    \n",
    "</ul>"
   ]
  },
  {
   "cell_type": "markdown",
   "metadata": {},
   "source": [
    "**<b>On the first data X_TRAIN_SPARSE</b>**"
   ]
  },
  {
   "cell_type": "markdown",
   "metadata": {},
   "source": [
    "## KNeighbors Classifier"
   ]
  },
  {
   "cell_type": "code",
   "execution_count": 57,
   "metadata": {},
   "outputs": [
    {
     "data": {
      "text/plain": [
       "((253561, 48371), (253561,), (82797, 48371))"
      ]
     },
     "execution_count": 57,
     "metadata": {},
     "output_type": "execute_result"
    }
   ],
   "source": [
    "X_train_sparse.shape, y_train.shape, X_test_sparse.shape"
   ]
  },
  {
   "cell_type": "code",
   "execution_count": 58,
   "metadata": {},
   "outputs": [],
   "source": [
    "def get_auc_KNN_valid(X, y, ratio = 0.9):\n",
    "    train_len = int(ratio * X.shape[0])\n",
    "    X_train = X[:train_len, :]\n",
    "    X_valid = X[train_len:, :]\n",
    "    y_train = y[:train_len]\n",
    "    y_valid = y[train_len:]\n",
    "    \n",
    "    knn = KNeighborsClassifier(n_neighbors = 100, n_jobs = -1)\n",
    "    \n",
    "    knn.fit(X_train, y_train)\n",
    "    \n",
    "    valid_predict = knn.predict_proba(X_valid)[:, 1]\n",
    "    \n",
    "    return(roc_auc_score(y_valid, valid_predict))\n",
    "    "
   ]
  },
  {
   "cell_type": "code",
   "execution_count": 59,
   "metadata": {},
   "outputs": [
    {
     "name": "stdout",
     "output_type": "stream",
     "text": [
      "CPU times: user 2 µs, sys: 3 µs, total: 5 µs\n",
      "Wall time: 6.91 µs\n"
     ]
    },
    {
     "data": {
      "text/plain": [
       "0.8989015152001788"
      ]
     },
     "execution_count": 59,
     "metadata": {},
     "output_type": "execute_result"
    }
   ],
   "source": [
    "%time\n",
    "get_auc_KNN_valid(X_train_sparse, y_train)"
   ]
  },
  {
   "cell_type": "code",
   "execution_count": 60,
   "metadata": {},
   "outputs": [
    {
     "data": {
      "text/plain": [
       "KNeighborsClassifier(algorithm='auto', leaf_size=30, metric='minkowski',\n",
       "           metric_params=None, n_jobs=-1, n_neighbors=100, p=2,\n",
       "           weights='uniform')"
      ]
     },
     "execution_count": 60,
     "metadata": {},
     "output_type": "execute_result"
    }
   ],
   "source": [
    "knn = KNeighborsClassifier(n_neighbors = 100, n_jobs = -1)\n",
    "knn.fit(X_train_sparse, y_train)"
   ]
  },
  {
   "cell_type": "code",
   "execution_count": 77,
   "metadata": {},
   "outputs": [],
   "source": [
    "# Calculating for a long time\n",
    "#test_predict = knn.predict_proba(X_test_sparse)[:, 1]"
   ]
  },
  {
   "cell_type": "code",
   "execution_count": null,
   "metadata": {},
   "outputs": [],
   "source": [
    "# Create a file for kaggle\n",
    "pd.Series(test_predict, index = range(1, test_predict.shape[0] + 1), name = 'target').to_csv('Benchmark_KNN.csv', \n",
    "                                                                                             header = True, \n",
    "                                                                                            index_label = 'session_id')"
   ]
  },
  {
   "cell_type": "code",
   "execution_count": null,
   "metadata": {},
   "outputs": [],
   "source": [
    "#!kaggle competitions submit -c catch-me-if-you-can-intruder-detection-through-webpage-session-tracking2 -f Benchmark_KNN.csv -m \"Clean KNN\""
   ]
  },
  {
   "cell_type": "markdown",
   "metadata": {},
   "source": [
    "## Random Forest Classifier"
   ]
  },
  {
   "cell_type": "code",
   "execution_count": 62,
   "metadata": {},
   "outputs": [],
   "source": [
    "def get_auc_RANDOM_FOREST_valid(X, y, ratio = 0.9, seed = 17):\n",
    "    train_len = int(ratio * X.shape[0])\n",
    "    X_train = X[:train_len, :]\n",
    "    X_valid = X[train_len:, :]\n",
    "    y_train = y[:train_len]\n",
    "    y_valid = y[train_len:]\n",
    "    \n",
    "    rand_forest = RandomForestClassifier(n_estimators = 100, max_depth=2, random_state = seed)\n",
    "    \n",
    "    rand_forest.fit(X_train, y_train)\n",
    "    \n",
    "    valid_predict = rand_forest.predict_proba(X_valid)[:, 1]\n",
    "    \n",
    "    return(roc_auc_score(y_valid, valid_predict))\n",
    "    "
   ]
  },
  {
   "cell_type": "code",
   "execution_count": 63,
   "metadata": {},
   "outputs": [
    {
     "name": "stdout",
     "output_type": "stream",
     "text": [
      "CPU times: user 4 µs, sys: 9 µs, total: 13 µs\n",
      "Wall time: 31.9 µs\n"
     ]
    },
    {
     "data": {
      "text/plain": [
       "0.8348523020276754"
      ]
     },
     "execution_count": 63,
     "metadata": {},
     "output_type": "execute_result"
    }
   ],
   "source": [
    "%time\n",
    "get_auc_RANDOM_FOREST_valid(X_train_sparse, y_train)"
   ]
  },
  {
   "cell_type": "code",
   "execution_count": 64,
   "metadata": {},
   "outputs": [
    {
     "data": {
      "text/plain": [
       "RandomForestClassifier(bootstrap=True, class_weight=None, criterion='gini',\n",
       "            max_depth=2, max_features='auto', max_leaf_nodes=None,\n",
       "            min_impurity_decrease=0.0, min_impurity_split=None,\n",
       "            min_samples_leaf=1, min_samples_split=2,\n",
       "            min_weight_fraction_leaf=0.0, n_estimators=100, n_jobs=-1,\n",
       "            oob_score=False, random_state=17, verbose=0, warm_start=False)"
      ]
     },
     "execution_count": 64,
     "metadata": {},
     "output_type": "execute_result"
    }
   ],
   "source": [
    "RANDOM_FOREST = RandomForestClassifier(n_estimators = 100, max_depth = 2, random_state = 17, n_jobs = -1)\n",
    "RANDOM_FOREST.fit(X_train_sparse, y_train)"
   ]
  },
  {
   "cell_type": "code",
   "execution_count": 65,
   "metadata": {},
   "outputs": [],
   "source": [
    "test_predict = RANDOM_FOREST.predict_proba(X_test_sparse)[:, 1]"
   ]
  },
  {
   "cell_type": "code",
   "execution_count": 66,
   "metadata": {},
   "outputs": [],
   "source": [
    "# Create a file for kaggle\n",
    "pd.Series(test_predict, index = range(1, test_predict.shape[0] + 1), name = 'target').to_csv('Benchmark_random_forest.csv', \n",
    "                                                                                             header = True, \n",
    "                                                                                            index_label = 'session_id')"
   ]
  },
  {
   "cell_type": "code",
   "execution_count": 67,
   "metadata": {},
   "outputs": [],
   "source": [
    "#!kaggle competitions submit -c catch-me-if-you-can-intruder-detection-through-webpage-session-tracking2 -f Benchmark_random_forest.csv -m \"Clean RARNDOM FOREST\""
   ]
  },
  {
   "cell_type": "markdown",
   "metadata": {},
   "source": [
    "## KNN and Feature Engineering"
   ]
  },
  {
   "cell_type": "code",
   "execution_count": 68,
   "metadata": {},
   "outputs": [
    {
     "name": "stdout",
     "output_type": "stream",
     "text": [
      "CPU times: user 2 µs, sys: 1e+03 ns, total: 3 µs\n",
      "Wall time: 4.05 µs\n"
     ]
    },
    {
     "data": {
      "text/plain": [
       "0.9257749920026106"
      ]
     },
     "execution_count": 68,
     "metadata": {},
     "output_type": "execute_result"
    }
   ],
   "source": [
    "%time\n",
    "get_auc_KNN_valid(X_train_sparse_new, y_train)"
   ]
  },
  {
   "cell_type": "code",
   "execution_count": 69,
   "metadata": {},
   "outputs": [
    {
     "data": {
      "text/plain": [
       "KNeighborsClassifier(algorithm='auto', leaf_size=30, metric='minkowski',\n",
       "           metric_params=None, n_jobs=-1, n_neighbors=100, p=2,\n",
       "           weights='uniform')"
      ]
     },
     "execution_count": 69,
     "metadata": {},
     "output_type": "execute_result"
    }
   ],
   "source": [
    "knn_feat = KNeighborsClassifier(n_neighbors = 100, n_jobs = -1)\n",
    "knn_feat.fit(X_train_sparse_new, y_train)"
   ]
  },
  {
   "cell_type": "code",
   "execution_count": 78,
   "metadata": {},
   "outputs": [],
   "source": [
    "# Calculating for a long time\n",
    "#test_predict = knn_feat.predict_proba(X_test_sparse_new)[:, 1]"
   ]
  },
  {
   "cell_type": "code",
   "execution_count": 79,
   "metadata": {},
   "outputs": [],
   "source": [
    "# Create a file for kaggle\n",
    "pd.Series(test_predict, index = range(1, test_predict.shape[0] + 1), name = 'target').to_csv('Benchmark_KNN_and_Feat.csv', \n",
    "                                                                                             header = True, \n",
    "                                                                                            index_label = 'session_id')"
   ]
  },
  {
   "cell_type": "code",
   "execution_count": 80,
   "metadata": {},
   "outputs": [],
   "source": [
    "#!kaggle competitions submit -c catch-me-if-you-can-intruder-detection-through-webpage-session-tracking2 -f Benchmark_KNN_and_Feat.csv -m \"Benchmark_KNN_and_Feat\""
   ]
  },
  {
   "cell_type": "markdown",
   "metadata": {},
   "source": [
    "## Random Forest Classifier and Feature Engineering"
   ]
  },
  {
   "cell_type": "code",
   "execution_count": 74,
   "metadata": {},
   "outputs": [
    {
     "name": "stdout",
     "output_type": "stream",
     "text": [
      "CPU times: user 3 µs, sys: 2 µs, total: 5 µs\n",
      "Wall time: 22.2 µs\n"
     ]
    },
    {
     "data": {
      "text/plain": [
       "0.8292273911552085"
      ]
     },
     "execution_count": 74,
     "metadata": {},
     "output_type": "execute_result"
    }
   ],
   "source": [
    "%time\n",
    "get_auc_RANDOM_FOREST_valid(X_train_sparse_new, y_train)"
   ]
  },
  {
   "cell_type": "code",
   "execution_count": 81,
   "metadata": {},
   "outputs": [
    {
     "data": {
      "text/plain": [
       "RandomForestClassifier(bootstrap=True, class_weight=None, criterion='gini',\n",
       "            max_depth=2, max_features='auto', max_leaf_nodes=None,\n",
       "            min_impurity_decrease=0.0, min_impurity_split=None,\n",
       "            min_samples_leaf=1, min_samples_split=2,\n",
       "            min_weight_fraction_leaf=0.0, n_estimators=100, n_jobs=-1,\n",
       "            oob_score=False, random_state=17, verbose=0, warm_start=False)"
      ]
     },
     "execution_count": 81,
     "metadata": {},
     "output_type": "execute_result"
    }
   ],
   "source": [
    "RANDOM_FOREST = RandomForestClassifier(n_estimators = 100, max_depth = 2, random_state = 17, n_jobs = -1)\n",
    "RANDOM_FOREST.fit(X_train_sparse_new, y_train)"
   ]
  },
  {
   "cell_type": "code",
   "execution_count": 82,
   "metadata": {},
   "outputs": [],
   "source": [
    "test_predict = RANDOM_FOREST.predict_proba(X_test_sparse_new)[:, 1]"
   ]
  },
  {
   "cell_type": "code",
   "execution_count": 83,
   "metadata": {},
   "outputs": [],
   "source": [
    "# Create a file for kaggle\n",
    "pd.Series(test_predict, index = range(1, test_predict.shape[0] + 1), name = 'target').to_csv('Benchmark_random_forest_and_feat.csv', \n",
    "                                                                                             header = True, \n",
    "                                                                                            index_label = 'session_id')"
   ]
  },
  {
   "cell_type": "code",
   "execution_count": 84,
   "metadata": {},
   "outputs": [],
   "source": [
    "#!kaggle competitions submit -c catch-me-if-you-can-intruder-detection-through-webpage-session-tracking2 -f Benchmark_random_forest_and_feat.csv -m \"Benchmark_random_forest_and_feat\""
   ]
  },
  {
   "cell_type": "markdown",
   "metadata": {},
   "source": [
    "**Try to change hyper parametrs in SGD**"
   ]
  },
  {
   "cell_type": "code",
   "execution_count": 85,
   "metadata": {},
   "outputs": [],
   "source": [
    "def get_auc_sgd_tunned_valid(X, y, ratio = 0.9, seed = 17):\n",
    "    train_len = int(ratio * X.shape[0])\n",
    "    X_train = X[:train_len, :]\n",
    "    X_valid = X[train_len:, :]\n",
    "    y_train = y[:train_len]\n",
    "    y_valid = y[train_len:]\n",
    "    \n",
    "    sgd_logit = sklearn.linear_model.SGDClassifier(loss = 'log', learning_rate='adaptive', eta0 = 0.05,\n",
    "                                                   penalty = 'l2',  random_state = 17, n_jobs = -1,\n",
    "                                                   )\n",
    "    sgd_logit.fit(X_train, y_train) \n",
    "    \n",
    "    valid_predict = sgd_logit.predict_proba(X_valid)[:, 1]\n",
    "    \n",
    "    return(roc_auc_score(y_valid, valid_predict))\n",
    "\n"
   ]
  },
  {
   "cell_type": "code",
   "execution_count": 86,
   "metadata": {},
   "outputs": [
    {
     "name": "stdout",
     "output_type": "stream",
     "text": [
      "CPU times: user 2 µs, sys: 0 ns, total: 2 µs\n",
      "Wall time: 5.01 µs\n"
     ]
    },
    {
     "data": {
      "text/plain": [
       "0.9150965500096997"
      ]
     },
     "execution_count": 86,
     "metadata": {},
     "output_type": "execute_result"
    }
   ],
   "source": [
    "%time\n",
    "get_auc_sgd_tunned_valid(X_train_sparse_new, y_train)"
   ]
  },
  {
   "cell_type": "code",
   "execution_count": 87,
   "metadata": {},
   "outputs": [
    {
     "data": {
      "text/plain": [
       "SGDClassifier(alpha=0.0001, average=False, class_weight=None,\n",
       "       early_stopping=False, epsilon=0.1, eta0=0.05, fit_intercept=True,\n",
       "       l1_ratio=0.15, learning_rate='adaptive', loss='log', max_iter=None,\n",
       "       n_iter=None, n_iter_no_change=5, n_jobs=-1, penalty='l2',\n",
       "       power_t=0.5, random_state=17, shuffle=True, tol=None,\n",
       "       validation_fraction=0.1, verbose=0, warm_start=False)"
      ]
     },
     "execution_count": 87,
     "metadata": {},
     "output_type": "execute_result"
    }
   ],
   "source": [
    "sgd_logit = sklearn.linear_model.SGDClassifier(loss = 'log', learning_rate='adaptive', eta0 = 0.05,\n",
    "                                              penalty = 'l2',  random_state = 17, n_jobs = -1)\n",
    "sgd_logit.fit(X_train_sparse_new, y_train)"
   ]
  },
  {
   "cell_type": "code",
   "execution_count": 88,
   "metadata": {},
   "outputs": [],
   "source": [
    "test_predict = sgd_logit.predict_proba(X_test_sparse_new)[:, 1]"
   ]
  },
  {
   "cell_type": "code",
   "execution_count": 89,
   "metadata": {},
   "outputs": [],
   "source": [
    "# Create a file for kaggle\n",
    "pd.Series(test_predict, index = range(1, test_predict.shape[0] + 1), name = 'target').to_csv('Benchmark_sgd_tried.csv', \n",
    "                                                                                             header = True, \n",
    "                                                                                            index_label = 'session_id')"
   ]
  },
  {
   "cell_type": "code",
   "execution_count": null,
   "metadata": {},
   "outputs": [],
   "source": [
    "#!kaggle competitions submit -c catch-me-if-you-can-intruder-detection-through-webpage-session-tracking2 -f Benchmark_sgd_tried.csv -m \"Benchmark_sgd_tried\""
   ]
  }
 ],
 "metadata": {
  "kernelspec": {
   "display_name": "Python 3",
   "language": "python",
   "name": "python3"
  },
  "language_info": {
   "codemirror_mode": {
    "name": "ipython",
    "version": 3
   },
   "file_extension": ".py",
   "mimetype": "text/x-python",
   "name": "python",
   "nbconvert_exporter": "python",
   "pygments_lexer": "ipython3",
   "version": "3.6.7"
  }
 },
 "nbformat": 4,
 "nbformat_minor": 1
}
