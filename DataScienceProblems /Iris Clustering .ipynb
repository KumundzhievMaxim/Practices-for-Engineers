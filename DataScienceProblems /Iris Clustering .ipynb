{
 "cells": [
  {
   "cell_type": "markdown",
   "metadata": {},
   "source": [
    "### Introduction into Data Science \n",
    "#### Assignement 1"
   ]
  },
  {
   "cell_type": "markdown",
   "metadata": {},
   "source": [
    "1) Download a clustering dataset from the UCI Machine Learning Repository\n",
    "\n",
    "2) Cluster the dataset using\n",
    "- Agglomerative clustering\n",
    "- k-means method\n",
    "- DBSCAN method\n",
    "\n",
    "3) Justify the choice of the values for the hyper-parameters (similarity, linkage, k, delta, epsilon, ...)"
   ]
  },
  {
   "cell_type": "markdown",
   "metadata": {},
   "source": [
    "## Theoretical Part"
   ]
  },
  {
   "cell_type": "markdown",
   "metadata": {},
   "source": [
    "<b>Какую задачу решает кластреный анализ?</b>\n",
    " - Кластерный анализ разбивает наши обьекты (строки) на группы (заранее мы не знаем сколько группы и какие они должны быть) --> группы которые мы получаем будет называться кластерами. \n",
    "  \n",
    "<b>Какие типы кластеров бывают?</b>\n",
    " - Выраженные кластеры (все равно какой метод использовать)(метод ориентирован на плотные сгустки)\n",
    " - Ленточные кластеры (метод ближайшего соседа помогает)\n",
    " - Плотные шаровые скопления (метод Варда и метод среднего взвешенного)"
   ]
  },
  {
   "cell_type": "markdown",
   "metadata": {},
   "source": [
    "<b>Методы кластеризации</b>\n",
    "\n",
    "1) Метод k - средних<br>\n",
    "2) Иерархический кластерный анализ<br>\n",
    "<b>Чем Иерархический Кластреный анализ плох?</b>\n",
    "В памяти необходимо хранить матрицу попарных расстояний<br>\n",
    "3) Самоорганизуещиеся карты Коханена (SOM)<br>\n",
    "4) Смесь (нормальных) распределений<br>"
   ]
  },
  {
   "cell_type": "markdown",
   "metadata": {},
   "source": [
    "<b>Иерархический Кластерный анализ - идея метода</b>\n",
    "Мы сводим задачу к геометрической\n",
    " - Каждому обьекту (каждой строке в таблице) ставится в соответсвие точка в пространстве (k - мерном пространстве)\n",
    " \n",
    "<b>После сведения задчи к геометрической мы получаем следующее:</b> \n",
    " - Каждый обьект - точка; \n",
    " - Похожие обьекты расположены близко друг к другу; \n",
    " - Различные обьекты расположены далеко друг от друга; \n",
    " - Скопления точек - Ккластер; \n",
    " \n",
    "  <b>В каких моментах мы учавствуем?</b>\n",
    "  - Отбор переменных\n",
    "  - Метод стандартизации\n",
    "  - Расстояние между кластерами\n",
    "  - Расстояние между обьектами\n",
    "  \n",
    "<b>Отбор переменных</b>  \n",
    " - Очень важный момент!\n",
    "\n",
    "<b>Методы стандартизации</b>  \n",
    " - Максимальное значени 1, минимальное 0(-1) $\\dfrac{x_i - min}{max - min}$\n",
    " -  <b>z-метки</b> Среднее равно 0, выборочная дисперсия равна 1 (линейное преобразование) $\\dfrac{x_i - mean_x}{{\\sqrt{1/n * \\sum{x_i - mean_x}}ˆ2}}$\n",
    " \n",
    "<b>Важная характеристика --> расстояние между обьектами</b>\n",
    " - Евклидово расстояние\n",
    " - Квадрат Евклидова расстояния\n",
    " - Блок (Манхеттоновское расстояние)\n",
    " - Хэмминга\n",
    " - Минковского \n",
    "  \n",
    "<b>Важная характеристика --> расстояние между кластерами</b>\n",
    " - Среднее невзвешенное расстояние (Average linkage clustering)(Все расстояния между парами точек и усредняются) \n",
    " - Центроидный метод (Centroid Method) (Практически вышел из упортебления)(дендрограмма может иметь ересечения)\n",
    " - Метод дальнего соседа, максимального расстояние (Complete linkage clustering)(в каждом кластере ищем самый дальний элемент и расстояние между этими дальними элементами и будет расстоянием между кластерами)\n",
    " - Метод ближайшего соседа (Single linkage clustering)(в каждом кластере ищем самый близкий элемент и расстояние между этими дальними элементами и будет расстоянием между кластерами) \n",
    " - Метод Варда (Ward's method) - (предполагается использование Евклидова расстояния) \n",
    " - Sorencen - Dice - $Q = 2 *  \\dfrac{|A \\cap B|}{|A| + |B|}$\n",
    " "
   ]
  },
  {
   "cell_type": "markdown",
   "metadata": {},
   "source": [
    "<b>Алгоритм Иерархического Кластерного Анализа</b><br>\n",
    "1) В начале каждый обьект обьявляется кластером (Если n обьектов, значит n кластеров, в каждом кластере ровно 1 обьект)<br>\n",
    " 1.1) Выбираем 2 ближайших кластера и обьеденяем их<br>\n",
    " 1.2) Выбираем 2 ближайших кластера и обьеденяем их<br>\n",
    " 1.3) Выбираем 2 ближайших кластера и обьеденяем их и т.д. (Идея в том, чтобы в какой то момент остановиться \n",
    " --> остановиться тогда, когда расстояние между обьеденяемыми кластерами стало большое)<br>\n",
    "2) Как можно обнаружить/подобрать этот момент<br>\n",
    " 2.1) <b>Дендрограмма</b> --> Правило постороения денжрограммы<br>\n",
    "  2.1.1) Сначала каждому обьекту сопоставляется точка на прямой<br>\n",
    "  2.1.2) Каждому кластеру будет соответсвовать вертикальная линия (высота вертикальной линии будет соответсвовать расстоянию между кластерами)<br>\n",
    "  2.1.3) Каждому обьеденению кластеров будет соответсвовать горизонтальная линия<br>\n",
    " 2.2) <b>Метод локтя или Каменистая осыпь</b> "
   ]
  },
  {
   "cell_type": "markdown",
   "metadata": {},
   "source": [
    "<img src=\"figure_4.png\"><br>\n",
    "<img src=\"fig-10-1-1.png\">"
   ]
  },
  {
   "cell_type": "markdown",
   "metadata": {},
   "source": [
    "## Practical Part"
   ]
  },
  {
   "cell_type": "markdown",
   "metadata": {},
   "source": [
    "<b>Approach Hierarchical Cluster Analysis</b>"
   ]
  },
  {
   "cell_type": "code",
   "execution_count": 1,
   "metadata": {},
   "outputs": [],
   "source": [
    "from sklearn import datasets\n",
    "import pandas as pd\n",
    "import numpy as np\n",
    "import matplotlib\n",
    "import matplotlib.pyplot as plt\n",
    "import os"
   ]
  },
  {
   "cell_type": "code",
   "execution_count": 3,
   "metadata": {},
   "outputs": [
    {
     "name": "stdout",
     "output_type": "stream",
     "text": [
      "['setosa' 'versicolor' 'virginica'] [0 0 0 0 0 0 0 0 0 0 0 0 0 0 0 0 0 0 0 0 0 0 0 0 0 0 0 0 0 0 0 0 0 0 0 0 0\n",
      " 0 0 0 0 0 0 0 0 0 0 0 0 0 1 1 1 1 1 1 1 1 1 1 1 1 1 1 1 1 1 1 1 1 1 1 1 1\n",
      " 1 1 1 1 1 1 1 1 1 1 1 1 1 1 1 1 1 1 1 1 1 1 1 1 1 1 2 2 2 2 2 2 2 2 2 2 2\n",
      " 2 2 2 2 2 2 2 2 2 2 2 2 2 2 2 2 2 2 2 2 2 2 2 2 2 2 2 2 2 2 2 2 2 2 2 2 2\n",
      " 2 2]\n"
     ]
    }
   ],
   "source": [
    "iris = datasets.load_iris()\n",
    "feat = iris.feature_names\n",
    "\n",
    "X = iris.data  \n",
    "y = iris.target\n",
    "\n",
    "y_name = iris.target_names\n",
    "\n",
    "print(y_name, y)"
   ]
  },
  {
   "cell_type": "markdown",
   "metadata": {},
   "source": [
    "### Visualisation of Iris Data"
   ]
  },
  {
   "cell_type": "code",
   "execution_count": 4,
   "metadata": {},
   "outputs": [],
   "source": [
    "# Have a look on a data\n",
    "\n",
    "#For Hierarchy approach\n",
    "dataframe = pd.DataFrame(data = np.c_[iris['data']],\n",
    "                     columns = iris['feature_names'])\n",
    "\n",
    "#For KMeans approach\n",
    "df = pd.DataFrame(data = np.c_[iris['data']],\n",
    "                  columns = iris['feature_names'])"
   ]
  },
  {
   "cell_type": "code",
   "execution_count": 5,
   "metadata": {},
   "outputs": [
    {
     "data": {
      "text/plain": [
       "(150, 4)"
      ]
     },
     "execution_count": 5,
     "metadata": {},
     "output_type": "execute_result"
    }
   ],
   "source": [
    "dataframe.shape"
   ]
  },
  {
   "cell_type": "code",
   "execution_count": 12,
   "metadata": {},
   "outputs": [
    {
     "data": {
      "text/plain": [
       "array(['setosa', 'versicolor', 'virginica'], dtype='<U10')"
      ]
     },
     "execution_count": 12,
     "metadata": {},
     "output_type": "execute_result"
    }
   ],
   "source": [
    "y_name"
   ]
  },
  {
   "cell_type": "code",
   "execution_count": 13,
   "metadata": {},
   "outputs": [
    {
     "data": {
      "text/html": [
       "<div>\n",
       "<style scoped>\n",
       "    .dataframe tbody tr th:only-of-type {\n",
       "        vertical-align: middle;\n",
       "    }\n",
       "\n",
       "    .dataframe tbody tr th {\n",
       "        vertical-align: top;\n",
       "    }\n",
       "\n",
       "    .dataframe thead th {\n",
       "        text-align: right;\n",
       "    }\n",
       "</style>\n",
       "<table border=\"1\" class=\"dataframe\">\n",
       "  <thead>\n",
       "    <tr style=\"text-align: right;\">\n",
       "      <th></th>\n",
       "      <th>sepal length (cm)</th>\n",
       "      <th>sepal width (cm)</th>\n",
       "      <th>petal length (cm)</th>\n",
       "      <th>petal width (cm)</th>\n",
       "    </tr>\n",
       "  </thead>\n",
       "  <tbody>\n",
       "    <tr>\n",
       "      <td>0</td>\n",
       "      <td>5.1</td>\n",
       "      <td>3.5</td>\n",
       "      <td>1.4</td>\n",
       "      <td>0.2</td>\n",
       "    </tr>\n",
       "    <tr>\n",
       "      <td>1</td>\n",
       "      <td>4.9</td>\n",
       "      <td>3.0</td>\n",
       "      <td>1.4</td>\n",
       "      <td>0.2</td>\n",
       "    </tr>\n",
       "    <tr>\n",
       "      <td>2</td>\n",
       "      <td>4.7</td>\n",
       "      <td>3.2</td>\n",
       "      <td>1.3</td>\n",
       "      <td>0.2</td>\n",
       "    </tr>\n",
       "    <tr>\n",
       "      <td>3</td>\n",
       "      <td>4.6</td>\n",
       "      <td>3.1</td>\n",
       "      <td>1.5</td>\n",
       "      <td>0.2</td>\n",
       "    </tr>\n",
       "    <tr>\n",
       "      <td>4</td>\n",
       "      <td>5.0</td>\n",
       "      <td>3.6</td>\n",
       "      <td>1.4</td>\n",
       "      <td>0.2</td>\n",
       "    </tr>\n",
       "  </tbody>\n",
       "</table>\n",
       "</div>"
      ],
      "text/plain": [
       "   sepal length (cm)  sepal width (cm)  petal length (cm)  petal width (cm)\n",
       "0                5.1               3.5                1.4               0.2\n",
       "1                4.9               3.0                1.4               0.2\n",
       "2                4.7               3.2                1.3               0.2\n",
       "3                4.6               3.1                1.5               0.2\n",
       "4                5.0               3.6                1.4               0.2"
      ]
     },
     "execution_count": 13,
     "metadata": {},
     "output_type": "execute_result"
    }
   ],
   "source": [
    "dataframe.head()"
   ]
  },
  {
   "cell_type": "code",
   "execution_count": 14,
   "metadata": {},
   "outputs": [],
   "source": [
    "from sklearn.cluster import AgglomerativeClustering\n",
    "from sklearn import preprocessing\n",
    "\n",
    "clustering = AgglomerativeClustering(linkage=\"ward\", n_clusters=3)\n",
    "clustering.fit(dataframe);"
   ]
  },
  {
   "cell_type": "code",
   "execution_count": 15,
   "metadata": {},
   "outputs": [
    {
     "data": {
      "image/png": "[encoded data removed]",
      "text/plain": [
       "<Figure size 432x288 with 1 Axes>"
      ]
     },
     "metadata": {},
     "output_type": "display_data"
    }
   ],
   "source": [
    "X_plot = preprocessing.MinMaxScaler().fit_transform(X)\n",
    "colours = 'rbg'\n",
    "for i in range(dataframe.shape[0]):\n",
    "    plt.text(X_plot[i, 0], X_plot[i, 1], str(clustering.labels_[i]),\n",
    "             color=colours[y[i]],\n",
    "             fontdict={'weight': 'bold', 'size': 9}\n",
    "        )\n",
    "\n",
    "plt.xticks([])\n",
    "plt.yticks([])\n",
    "plt.axis('off')\n",
    "plt.show()"
   ]
  },
  {
   "cell_type": "code",
   "execution_count": 53,
   "metadata": {},
   "outputs": [
    {
     "data": {
      "image/png": "[encoded data removed]",
      "text/plain": [
       "<Figure size 540x360 with 1 Axes>"
      ]
     },
     "metadata": {
      "needs_background": "light"
     },
     "output_type": "display_data"
    }
   ],
   "source": [
    "from scipy.cluster.hierarchy import dendrogram, linkage\n",
    "\n",
    "linkage_matrix = linkage(dataframe, 'ward')\n",
    "figure = plt.figure(figsize=(7.5, 5))\n",
    "dendrogram(\n",
    "    linkage_matrix,\n",
    "    color_threshold=0,\n",
    ")\n",
    "plt.title('Hierarchical Clustering Dendrogram (Ward)')\n",
    "plt.xlabel('sample index')\n",
    "plt.ylabel('distance')\n",
    "plt.tight_layout()\n",
    "plt.show()"
   ]
  },
  {
   "cell_type": "markdown",
   "metadata": {},
   "source": [
    "## Hierarchy approach"
   ]
  },
  {
   "cell_type": "code",
   "execution_count": 54,
   "metadata": {},
   "outputs": [],
   "source": [
    "##Computer Science Approach\n",
    "from scipy.cluster.hierarchy import dendrogram, linkage, fcluster \n",
    "\n",
    "\n",
    "#Link - обьект, в котором будет храниться информация о последовательном слиянии\n",
    "link = linkage(dataframe, 'ward', 'euclidean')\n",
    "\n"
   ]
  },
  {
   "cell_type": "markdown",
   "metadata": {},
   "source": [
    "Обьект link представляет собой матрицу (n-1), где n число наблюдений. Каждая строка матрицы представляет собой результат слияния очередной пары кластеров с номерами link[i, 0] и link[i, 1]. Новому кластеру присваивается номер n+1. linl[i, 2] содержит расстояние между обьеденнеными кластерами, а link[i, 3], размер нового кластера. "
   ]
  },
  {
   "cell_type": "code",
   "execution_count": 55,
   "metadata": {},
   "outputs": [
    {
     "data": {
      "text/plain": [
       "array([[1.01e+02, 1.42e+02, 0.00e+00, 2.00e+00],\n",
       "       [7.00e+00, 3.90e+01, 1.00e-01, 2.00e+00],\n",
       "       [0.00e+00, 1.70e+01, 1.00e-01, 2.00e+00],\n",
       "       [9.00e+00, 3.40e+01, 1.00e-01, 2.00e+00],\n",
       "       [1.28e+02, 1.32e+02, 1.00e-01, 2.00e+00]])"
      ]
     },
     "execution_count": 55,
     "metadata": {},
     "output_type": "execute_result"
    }
   ],
   "source": [
    "link[:5]"
   ]
  },
  {
   "cell_type": "code",
   "execution_count": 56,
   "metadata": {},
   "outputs": [
    {
     "data": {
      "image/png": "[encoded data removed]",
      "text/plain": [
       "<Figure size 432x288 with 1 Axes>"
      ]
     },
     "metadata": {
      "needs_background": "light"
     },
     "output_type": "display_data"
    }
   ],
   "source": [
    "dn = dendrogram(link)"
   ]
  },
  {
   "cell_type": "markdown",
   "metadata": {},
   "source": [
    "Здесь мы видим, что оптимальное количесвто кластеров - 3, так как дальше идет большая разница в расстояниях. \n",
    "\n",
    "<b>Что делаем дальше?</b><br>\n",
    "Сначала добавим к данным колонку cluster, в которую запишем номер кластера, в который попал обьект. Сдлеаем это с помощью функции fcluster. В качестве первого аргумента передаем linkage. Вторым аргументом передаем либо пороговое значение для расстояния между кластерами, либо количество кластеров, в зависимости от аргумента criterion. Третьим аргументом (criterion) передаем критерий для разбиения на кластеры (distance - для останвки на разбиения по расстоянию между кластерами) или (maxclust - для разбиения по заданному числу кластеров)\n"
   ]
  },
  {
   "cell_type": "code",
   "execution_count": 57,
   "metadata": {},
   "outputs": [],
   "source": [
    "#fcluster(linkage, threshold_value/number_of_clusters, criterion(distance or maxclust))\n",
    "\n",
    "dataframe['cluster'] = fcluster(link, 3, criterion = 'distance')"
   ]
  },
  {
   "cell_type": "code",
   "execution_count": 58,
   "metadata": {},
   "outputs": [
    {
     "data": {
      "text/html": [
       "<div>\n",
       "<style scoped>\n",
       "    .dataframe tbody tr th:only-of-type {\n",
       "        vertical-align: middle;\n",
       "    }\n",
       "\n",
       "    .dataframe tbody tr th {\n",
       "        vertical-align: top;\n",
       "    }\n",
       "\n",
       "    .dataframe thead th {\n",
       "        text-align: right;\n",
       "    }\n",
       "</style>\n",
       "<table border=\"1\" class=\"dataframe\">\n",
       "  <thead>\n",
       "    <tr style=\"text-align: right;\">\n",
       "      <th></th>\n",
       "      <th>sepal length (cm)</th>\n",
       "      <th>sepal width (cm)</th>\n",
       "      <th>petal length (cm)</th>\n",
       "      <th>petal width (cm)</th>\n",
       "      <th>cluster</th>\n",
       "    </tr>\n",
       "  </thead>\n",
       "  <tbody>\n",
       "    <tr>\n",
       "      <td>0</td>\n",
       "      <td>5.1</td>\n",
       "      <td>3.5</td>\n",
       "      <td>1.4</td>\n",
       "      <td>0.2</td>\n",
       "      <td>2</td>\n",
       "    </tr>\n",
       "    <tr>\n",
       "      <td>1</td>\n",
       "      <td>4.9</td>\n",
       "      <td>3.0</td>\n",
       "      <td>1.4</td>\n",
       "      <td>0.2</td>\n",
       "      <td>1</td>\n",
       "    </tr>\n",
       "    <tr>\n",
       "      <td>2</td>\n",
       "      <td>4.7</td>\n",
       "      <td>3.2</td>\n",
       "      <td>1.3</td>\n",
       "      <td>0.2</td>\n",
       "      <td>1</td>\n",
       "    </tr>\n",
       "    <tr>\n",
       "      <td>3</td>\n",
       "      <td>4.6</td>\n",
       "      <td>3.1</td>\n",
       "      <td>1.5</td>\n",
       "      <td>0.2</td>\n",
       "      <td>1</td>\n",
       "    </tr>\n",
       "    <tr>\n",
       "      <td>4</td>\n",
       "      <td>5.0</td>\n",
       "      <td>3.6</td>\n",
       "      <td>1.4</td>\n",
       "      <td>0.2</td>\n",
       "      <td>2</td>\n",
       "    </tr>\n",
       "    <tr>\n",
       "      <td>...</td>\n",
       "      <td>...</td>\n",
       "      <td>...</td>\n",
       "      <td>...</td>\n",
       "      <td>...</td>\n",
       "      <td>...</td>\n",
       "    </tr>\n",
       "    <tr>\n",
       "      <td>145</td>\n",
       "      <td>6.7</td>\n",
       "      <td>3.0</td>\n",
       "      <td>5.2</td>\n",
       "      <td>2.3</td>\n",
       "      <td>3</td>\n",
       "    </tr>\n",
       "    <tr>\n",
       "      <td>146</td>\n",
       "      <td>6.3</td>\n",
       "      <td>2.5</td>\n",
       "      <td>5.0</td>\n",
       "      <td>1.9</td>\n",
       "      <td>6</td>\n",
       "    </tr>\n",
       "    <tr>\n",
       "      <td>147</td>\n",
       "      <td>6.5</td>\n",
       "      <td>3.0</td>\n",
       "      <td>5.2</td>\n",
       "      <td>2.0</td>\n",
       "      <td>3</td>\n",
       "    </tr>\n",
       "    <tr>\n",
       "      <td>148</td>\n",
       "      <td>6.2</td>\n",
       "      <td>3.4</td>\n",
       "      <td>5.4</td>\n",
       "      <td>2.3</td>\n",
       "      <td>3</td>\n",
       "    </tr>\n",
       "    <tr>\n",
       "      <td>149</td>\n",
       "      <td>5.9</td>\n",
       "      <td>3.0</td>\n",
       "      <td>5.1</td>\n",
       "      <td>1.8</td>\n",
       "      <td>6</td>\n",
       "    </tr>\n",
       "  </tbody>\n",
       "</table>\n",
       "<p>150 rows × 5 columns</p>\n",
       "</div>"
      ],
      "text/plain": [
       "     sepal length (cm)  sepal width (cm)  petal length (cm)  petal width (cm)  \\\n",
       "0                  5.1               3.5                1.4               0.2   \n",
       "1                  4.9               3.0                1.4               0.2   \n",
       "2                  4.7               3.2                1.3               0.2   \n",
       "3                  4.6               3.1                1.5               0.2   \n",
       "4                  5.0               3.6                1.4               0.2   \n",
       "..                 ...               ...                ...               ...   \n",
       "145                6.7               3.0                5.2               2.3   \n",
       "146                6.3               2.5                5.0               1.9   \n",
       "147                6.5               3.0                5.2               2.0   \n",
       "148                6.2               3.4                5.4               2.3   \n",
       "149                5.9               3.0                5.1               1.8   \n",
       "\n",
       "     cluster  \n",
       "0          2  \n",
       "1          1  \n",
       "2          1  \n",
       "3          1  \n",
       "4          2  \n",
       "..       ...  \n",
       "145        3  \n",
       "146        6  \n",
       "147        3  \n",
       "148        3  \n",
       "149        6  \n",
       "\n",
       "[150 rows x 5 columns]"
      ]
     },
     "execution_count": 58,
     "metadata": {},
     "output_type": "execute_result"
    }
   ],
   "source": [
    "dataframe"
   ]
  },
  {
   "cell_type": "code",
   "execution_count": 59,
   "metadata": {},
   "outputs": [
    {
     "data": {
      "text/plain": [
       "6    38\n",
       "2    29\n",
       "5    26\n",
       "3    24\n",
       "1    21\n",
       "4    12\n",
       "Name: cluster, dtype: int64"
      ]
     },
     "execution_count": 59,
     "metadata": {},
     "output_type": "execute_result"
    }
   ],
   "source": [
    "dataframe['cluster'].value_counts()"
   ]
  },
  {
   "cell_type": "markdown",
   "metadata": {},
   "source": [
    "Теперь вычислим среднее значение всех характеристик, сгруппировав данные по номеру кластера."
   ]
  },
  {
   "cell_type": "code",
   "execution_count": 60,
   "metadata": {},
   "outputs": [
    {
     "data": {
      "text/html": [
       "<div>\n",
       "<style scoped>\n",
       "    .dataframe tbody tr th:only-of-type {\n",
       "        vertical-align: middle;\n",
       "    }\n",
       "\n",
       "    .dataframe tbody tr th {\n",
       "        vertical-align: top;\n",
       "    }\n",
       "\n",
       "    .dataframe thead th {\n",
       "        text-align: right;\n",
       "    }\n",
       "</style>\n",
       "<table border=\"1\" class=\"dataframe\">\n",
       "  <thead>\n",
       "    <tr style=\"text-align: right;\">\n",
       "      <th></th>\n",
       "      <th>sepal length (cm)</th>\n",
       "      <th>sepal width (cm)</th>\n",
       "      <th>petal length (cm)</th>\n",
       "      <th>petal width (cm)</th>\n",
       "    </tr>\n",
       "    <tr>\n",
       "      <th>cluster</th>\n",
       "      <th></th>\n",
       "      <th></th>\n",
       "      <th></th>\n",
       "      <th></th>\n",
       "    </tr>\n",
       "  </thead>\n",
       "  <tbody>\n",
       "    <tr>\n",
       "      <td>1</td>\n",
       "      <td>4.690476</td>\n",
       "      <td>3.114286</td>\n",
       "      <td>1.414286</td>\n",
       "      <td>0.200000</td>\n",
       "    </tr>\n",
       "    <tr>\n",
       "      <td>2</td>\n",
       "      <td>5.234483</td>\n",
       "      <td>3.655172</td>\n",
       "      <td>1.496552</td>\n",
       "      <td>0.279310</td>\n",
       "    </tr>\n",
       "    <tr>\n",
       "      <td>3</td>\n",
       "      <td>6.566667</td>\n",
       "      <td>3.066667</td>\n",
       "      <td>5.504167</td>\n",
       "      <td>2.133333</td>\n",
       "    </tr>\n",
       "    <tr>\n",
       "      <td>4</td>\n",
       "      <td>7.475000</td>\n",
       "      <td>3.125000</td>\n",
       "      <td>6.300000</td>\n",
       "      <td>2.050000</td>\n",
       "    </tr>\n",
       "    <tr>\n",
       "      <td>5</td>\n",
       "      <td>5.496154</td>\n",
       "      <td>2.615385</td>\n",
       "      <td>3.950000</td>\n",
       "      <td>1.215385</td>\n",
       "    </tr>\n",
       "    <tr>\n",
       "      <td>6</td>\n",
       "      <td>6.210526</td>\n",
       "      <td>2.844737</td>\n",
       "      <td>4.742105</td>\n",
       "      <td>1.584211</td>\n",
       "    </tr>\n",
       "  </tbody>\n",
       "</table>\n",
       "</div>"
      ],
      "text/plain": [
       "         sepal length (cm)  sepal width (cm)  petal length (cm)  \\\n",
       "cluster                                                           \n",
       "1                 4.690476          3.114286           1.414286   \n",
       "2                 5.234483          3.655172           1.496552   \n",
       "3                 6.566667          3.066667           5.504167   \n",
       "4                 7.475000          3.125000           6.300000   \n",
       "5                 5.496154          2.615385           3.950000   \n",
       "6                 6.210526          2.844737           4.742105   \n",
       "\n",
       "         petal width (cm)  \n",
       "cluster                    \n",
       "1                0.200000  \n",
       "2                0.279310  \n",
       "3                2.133333  \n",
       "4                2.050000  \n",
       "5                1.215385  \n",
       "6                1.584211  "
      ]
     },
     "execution_count": 60,
     "metadata": {},
     "output_type": "execute_result"
    }
   ],
   "source": [
    "dataframe.groupby('cluster').mean()"
   ]
  },
  {
   "cell_type": "code",
   "execution_count": 61,
   "metadata": {},
   "outputs": [
    {
     "data": {
      "text/plain": [
       "cluster\n",
       "1    21\n",
       "2    29\n",
       "3    24\n",
       "4    12\n",
       "5    26\n",
       "6    38\n",
       "dtype: int64"
      ]
     },
     "execution_count": 61,
     "metadata": {},
     "output_type": "execute_result"
    }
   ],
   "source": [
    "dataframe.groupby('cluster').size()"
   ]
  },
  {
   "cell_type": "markdown",
   "metadata": {},
   "source": [
    "### K - means approach"
   ]
  },
  {
   "cell_type": "code",
   "execution_count": 27,
   "metadata": {},
   "outputs": [],
   "source": [
    "from sklearn.cluster import KMeans"
   ]
  },
  {
   "cell_type": "code",
   "execution_count": 28,
   "metadata": {},
   "outputs": [],
   "source": [
    "#Model Inisalisation\n",
    "model = KMeans(n_clusters = 3, random_state = 42)"
   ]
  },
  {
   "cell_type": "code",
   "execution_count": null,
   "metadata": {},
   "outputs": [],
   "source": []
  },
  {
   "cell_type": "code",
   "execution_count": null,
   "metadata": {},
   "outputs": [],
   "source": []
  },
  {
   "cell_type": "code",
   "execution_count": 29,
   "metadata": {},
   "outputs": [
    {
     "data": {
      "text/plain": [
       "KMeans(algorithm='auto', copy_x=True, init='k-means++', max_iter=300,\n",
       "       n_clusters=3, n_init=10, n_jobs=None, precompute_distances='auto',\n",
       "       random_state=42, tol=0.0001, verbose=0)"
      ]
     },
     "execution_count": 29,
     "metadata": {},
     "output_type": "execute_result"
    }
   ],
   "source": [
    "model.fit(df)"
   ]
  },
  {
   "cell_type": "markdown",
   "metadata": {},
   "source": [
    "### KMeans hyper parameters: \n",
    " - max_iter - максимальное число смен положений центров кластера\n",
    " - n_init - сколько раз проводится кластеризация\n",
    " - tol (tolerance) - в какой то момент центры кластеров продолжаются двигаться, но эти изменения настолько незначительные, что нам это не нужно (на сколько наши центры кластеров передвинулись) "
   ]
  },
  {
   "cell_type": "code",
   "execution_count": 30,
   "metadata": {},
   "outputs": [
    {
     "name": "stdout",
     "output_type": "stream",
     "text": [
      "[1 1 1 1 1 1 1 1 1 1 1 1 1 1 1 1 1 1 1 1 1 1 1 1 1 1 1 1 1 1 1 1 1 1 1 1 1\n",
      " 1 1 1 1 1 1 1 1 1 1 1 1 1 0 0 2 0 0 0 0 0 0 0 0 0 0 0 0 0 0 0 0 0 0 0 0 0\n",
      " 0 0 0 2 0 0 0 0 0 0 0 0 0 0 0 0 0 0 0 0 0 0 0 0 0 0 2 0 2 2 2 2 0 2 2 2 2\n",
      " 2 2 0 0 2 2 2 2 0 2 0 2 0 2 2 0 0 2 2 2 2 2 0 2 2 2 2 0 2 2 2 0 2 2 2 0 2\n",
      " 2 0]\n",
      "150\n"
     ]
    }
   ],
   "source": [
    "# Резульат кластеризации на данных df\n",
    "print(model.labels_)\n",
    "print(len(model.labels_))"
   ]
  },
  {
   "cell_type": "code",
   "execution_count": 31,
   "metadata": {},
   "outputs": [
    {
     "data": {
      "text/plain": [
       "array([[5.9016129 , 2.7483871 , 4.39354839, 1.43387097],\n",
       "       [5.006     , 3.428     , 1.462     , 0.246     ],\n",
       "       [6.85      , 3.07368421, 5.74210526, 2.07105263]])"
      ]
     },
     "execution_count": 31,
     "metadata": {},
     "output_type": "execute_result"
    }
   ],
   "source": [
    "# Координаты центров кластеров\n",
    "model.cluster_centers_"
   ]
  },
  {
   "cell_type": "markdown",
   "metadata": {},
   "source": [
    "<b>Как определять число кластеров при KMeans подходе?</b> \n",
    " - Попробуем через каменистую осыпь"
   ]
  },
  {
   "cell_type": "code",
   "execution_count": 32,
   "metadata": {},
   "outputs": [],
   "source": [
    "#Finsih\n",
    "# model_res = []\n",
    "# dist_res = []\n",
    "# for K in range(1,11):\n",
    "#     model = KMeans(n_clusters = K, random_state = 42).fit(df)\n",
    "#     dist = model.inertia_\n",
    "#     model_res.append(model)\n",
    "#     dist_res.append(dist)\n",
    "#     #Plot the Elbow\n",
    "#     plt.plot(K, dist_res, marker = 'o')\n",
    "#     plt.xlabel('k')\n",
    "#     plt.ylabel('Sum of Distances')\n",
    "#     plt.title('Elbow method showing the optimal K - number of clusters')\n",
    "#     plt.show()"
   ]
  },
  {
   "cell_type": "code",
   "execution_count": 33,
   "metadata": {},
   "outputs": [],
   "source": [
    "#Занесем полученные реезультаты кластеризации в наш датафрейм\n",
    "df['cluster'] = model.labels_"
   ]
  },
  {
   "cell_type": "code",
   "execution_count": 34,
   "metadata": {},
   "outputs": [
    {
     "data": {
      "text/plain": [
       "0    62\n",
       "1    50\n",
       "2    38\n",
       "Name: cluster, dtype: int64"
      ]
     },
     "execution_count": 34,
     "metadata": {},
     "output_type": "execute_result"
    }
   ],
   "source": [
    "df['cluster'].value_counts()"
   ]
  },
  {
   "cell_type": "code",
   "execution_count": 35,
   "metadata": {},
   "outputs": [
    {
     "data": {
      "text/html": [
       "<div>\n",
       "<style scoped>\n",
       "    .dataframe tbody tr th:only-of-type {\n",
       "        vertical-align: middle;\n",
       "    }\n",
       "\n",
       "    .dataframe tbody tr th {\n",
       "        vertical-align: top;\n",
       "    }\n",
       "\n",
       "    .dataframe thead th {\n",
       "        text-align: right;\n",
       "    }\n",
       "</style>\n",
       "<table border=\"1\" class=\"dataframe\">\n",
       "  <thead>\n",
       "    <tr style=\"text-align: right;\">\n",
       "      <th></th>\n",
       "      <th>sepal length (cm)</th>\n",
       "      <th>sepal width (cm)</th>\n",
       "      <th>petal length (cm)</th>\n",
       "      <th>petal width (cm)</th>\n",
       "    </tr>\n",
       "    <tr>\n",
       "      <th>cluster</th>\n",
       "      <th></th>\n",
       "      <th></th>\n",
       "      <th></th>\n",
       "      <th></th>\n",
       "    </tr>\n",
       "  </thead>\n",
       "  <tbody>\n",
       "    <tr>\n",
       "      <td>0</td>\n",
       "      <td>5.901613</td>\n",
       "      <td>2.748387</td>\n",
       "      <td>4.393548</td>\n",
       "      <td>1.433871</td>\n",
       "    </tr>\n",
       "    <tr>\n",
       "      <td>1</td>\n",
       "      <td>5.006000</td>\n",
       "      <td>3.428000</td>\n",
       "      <td>1.462000</td>\n",
       "      <td>0.246000</td>\n",
       "    </tr>\n",
       "    <tr>\n",
       "      <td>2</td>\n",
       "      <td>6.850000</td>\n",
       "      <td>3.073684</td>\n",
       "      <td>5.742105</td>\n",
       "      <td>2.071053</td>\n",
       "    </tr>\n",
       "  </tbody>\n",
       "</table>\n",
       "</div>"
      ],
      "text/plain": [
       "         sepal length (cm)  sepal width (cm)  petal length (cm)  \\\n",
       "cluster                                                           \n",
       "0                 5.901613          2.748387           4.393548   \n",
       "1                 5.006000          3.428000           1.462000   \n",
       "2                 6.850000          3.073684           5.742105   \n",
       "\n",
       "         petal width (cm)  \n",
       "cluster                    \n",
       "0                1.433871  \n",
       "1                0.246000  \n",
       "2                2.071053  "
      ]
     },
     "execution_count": 35,
     "metadata": {},
     "output_type": "execute_result"
    }
   ],
   "source": [
    "#Посмотрим среднее значение по всем обьектам разных кластеров\n",
    "df.groupby('cluster').mean()"
   ]
  },
  {
   "cell_type": "code",
   "execution_count": 36,
   "metadata": {},
   "outputs": [
    {
     "data": {
      "text/plain": [
       "cluster\n",
       "0    62\n",
       "1    50\n",
       "2    38\n",
       "dtype: int64"
      ]
     },
     "execution_count": 36,
     "metadata": {},
     "output_type": "execute_result"
    }
   ],
   "source": [
    "#Посмотрим количество обьектов по каждому кластеру\n",
    "df.groupby('cluster').size()"
   ]
  },
  {
   "cell_type": "code",
   "execution_count": null,
   "metadata": {},
   "outputs": [],
   "source": []
  },
  {
   "cell_type": "markdown",
   "metadata": {},
   "source": [
    "### Plotting comparing graphs"
   ]
  },
  {
   "cell_type": "code",
   "execution_count": 63,
   "metadata": {},
   "outputs": [
    {
     "data": {
      "text/html": [
       "<div>\n",
       "<style scoped>\n",
       "    .dataframe tbody tr th:only-of-type {\n",
       "        vertical-align: middle;\n",
       "    }\n",
       "\n",
       "    .dataframe tbody tr th {\n",
       "        vertical-align: top;\n",
       "    }\n",
       "\n",
       "    .dataframe thead th {\n",
       "        text-align: right;\n",
       "    }\n",
       "</style>\n",
       "<table border=\"1\" class=\"dataframe\">\n",
       "  <thead>\n",
       "    <tr style=\"text-align: right;\">\n",
       "      <th></th>\n",
       "      <th>sepal length (cm)</th>\n",
       "      <th>sepal width (cm)</th>\n",
       "      <th>petal length (cm)</th>\n",
       "      <th>petal width (cm)</th>\n",
       "    </tr>\n",
       "  </thead>\n",
       "  <tbody>\n",
       "    <tr>\n",
       "      <td>0</td>\n",
       "      <td>5.1</td>\n",
       "      <td>3.5</td>\n",
       "      <td>1.4</td>\n",
       "      <td>0.2</td>\n",
       "    </tr>\n",
       "    <tr>\n",
       "      <td>1</td>\n",
       "      <td>4.9</td>\n",
       "      <td>3.0</td>\n",
       "      <td>1.4</td>\n",
       "      <td>0.2</td>\n",
       "    </tr>\n",
       "    <tr>\n",
       "      <td>2</td>\n",
       "      <td>4.7</td>\n",
       "      <td>3.2</td>\n",
       "      <td>1.3</td>\n",
       "      <td>0.2</td>\n",
       "    </tr>\n",
       "    <tr>\n",
       "      <td>3</td>\n",
       "      <td>4.6</td>\n",
       "      <td>3.1</td>\n",
       "      <td>1.5</td>\n",
       "      <td>0.2</td>\n",
       "    </tr>\n",
       "    <tr>\n",
       "      <td>4</td>\n",
       "      <td>5.0</td>\n",
       "      <td>3.6</td>\n",
       "      <td>1.4</td>\n",
       "      <td>0.2</td>\n",
       "    </tr>\n",
       "    <tr>\n",
       "      <td>...</td>\n",
       "      <td>...</td>\n",
       "      <td>...</td>\n",
       "      <td>...</td>\n",
       "      <td>...</td>\n",
       "    </tr>\n",
       "    <tr>\n",
       "      <td>145</td>\n",
       "      <td>6.7</td>\n",
       "      <td>3.0</td>\n",
       "      <td>5.2</td>\n",
       "      <td>2.3</td>\n",
       "    </tr>\n",
       "    <tr>\n",
       "      <td>146</td>\n",
       "      <td>6.3</td>\n",
       "      <td>2.5</td>\n",
       "      <td>5.0</td>\n",
       "      <td>1.9</td>\n",
       "    </tr>\n",
       "    <tr>\n",
       "      <td>147</td>\n",
       "      <td>6.5</td>\n",
       "      <td>3.0</td>\n",
       "      <td>5.2</td>\n",
       "      <td>2.0</td>\n",
       "    </tr>\n",
       "    <tr>\n",
       "      <td>148</td>\n",
       "      <td>6.2</td>\n",
       "      <td>3.4</td>\n",
       "      <td>5.4</td>\n",
       "      <td>2.3</td>\n",
       "    </tr>\n",
       "    <tr>\n",
       "      <td>149</td>\n",
       "      <td>5.9</td>\n",
       "      <td>3.0</td>\n",
       "      <td>5.1</td>\n",
       "      <td>1.8</td>\n",
       "    </tr>\n",
       "  </tbody>\n",
       "</table>\n",
       "<p>150 rows × 4 columns</p>\n",
       "</div>"
      ],
      "text/plain": [
       "     sepal length (cm)  sepal width (cm)  petal length (cm)  petal width (cm)\n",
       "0                  5.1               3.5                1.4               0.2\n",
       "1                  4.9               3.0                1.4               0.2\n",
       "2                  4.7               3.2                1.3               0.2\n",
       "3                  4.6               3.1                1.5               0.2\n",
       "4                  5.0               3.6                1.4               0.2\n",
       "..                 ...               ...                ...               ...\n",
       "145                6.7               3.0                5.2               2.3\n",
       "146                6.3               2.5                5.0               1.9\n",
       "147                6.5               3.0                5.2               2.0\n",
       "148                6.2               3.4                5.4               2.3\n",
       "149                5.9               3.0                5.1               1.8\n",
       "\n",
       "[150 rows x 4 columns]"
      ]
     },
     "execution_count": 63,
     "metadata": {},
     "output_type": "execute_result"
    }
   ],
   "source": [
    "dataframe"
   ]
  },
  {
   "cell_type": "code",
   "execution_count": 61,
   "metadata": {},
   "outputs": [
    {
     "data": {
      "text/plain": [
       "6.9"
      ]
     },
     "execution_count": 61,
     "metadata": {},
     "output_type": "execute_result"
    }
   ],
   "source": [
    "dataframe['petal length (cm)'].max()"
   ]
  },
  {
   "cell_type": "code",
   "execution_count": 67,
   "metadata": {},
   "outputs": [
    {
     "data": {
      "application/javascript": [
       "/* Put everything inside the global mpl namespace */\n",
       "window.mpl = {};\n",
       "\n",
       "\n",
       "mpl.get_websocket_type = function() {\n",
       "    if (typeof(WebSocket) !== 'undefined') {\n",
       "        return WebSocket;\n",
       "    } else if (typeof(MozWebSocket) !== 'undefined') {\n",
       "        return MozWebSocket;\n",
       "    } else {\n",
       "        alert('Your browser does not have WebSocket support. ' +\n",
       "              'Please try Chrome, Safari or Firefox ≥ 6. ' +\n",
       "              'Firefox 4 and 5 are also supported but you ' +\n",
       "              'have to enable WebSockets in about:config.');\n",
       "    };\n",
       "}\n",
       "\n",
       "mpl.figure = function(figure_id, websocket, ondownload, parent_element) {\n",
       "    this.id = figure_id;\n",
       "\n",
       "    this.ws = websocket;\n",
       "\n",
       "    this.supports_binary = (this.ws.binaryType != undefined);\n",
       "\n",
       "    if (!this.supports_binary) {\n",
       "        var warnings = document.getElementById(\"mpl-warnings\");\n",
       "        if (warnings) {\n",
       "            warnings.style.display = 'block';\n",
       "            warnings.textContent = (\n",
       "                \"This browser does not support binary websocket messages. \" +\n",
       "                    \"Performance may be slow.\");\n",
       "        }\n",
       "    }\n",
       "\n",
       "    this.imageObj = new Image();\n",
       "\n",
       "    this.context = undefined;\n",
       "    this.message = undefined;\n",
       "    this.canvas = undefined;\n",
       "    this.rubberband_canvas = undefined;\n",
       "    this.rubberband_context = undefined;\n",
       "    this.format_dropdown = undefined;\n",
       "\n",
       "    this.image_mode = 'full';\n",
       "\n",
       "    this.root = $('<div/>');\n",
       "    this._root_extra_style(this.root)\n",
       "    this.root.attr('style', 'display: inline-block');\n",
       "\n",
       "    $(parent_element).append(this.root);\n",
       "\n",
       "    this._init_header(this);\n",
       "    this._init_canvas(this);\n",
       "    this._init_toolbar(this);\n",
       "\n",
       "    var fig = this;\n",
       "\n",
       "    this.waiting = false;\n",
       "\n",
       "    this.ws.onopen =  function () {\n",
       "            fig.send_message(\"supports_binary\", {value: fig.supports_binary});\n",
       "            fig.send_message(\"send_image_mode\", {});\n",
       "            if (mpl.ratio != 1) {\n",
       "                fig.send_message(\"set_dpi_ratio\", {'dpi_ratio': mpl.ratio});\n",
       "            }\n",
       "            fig.send_message(\"refresh\", {});\n",
       "        }\n",
       "\n",
       "    this.imageObj.onload = function() {\n",
       "            if (fig.image_mode == 'full') {\n",
       "                // Full images could contain transparency (where diff images\n",
       "                // almost always do), so we need to clear the canvas so that\n",
       "                // there is no ghosting.\n",
       "                fig.context.clearRect(0, 0, fig.canvas.width, fig.canvas.height);\n",
       "            }\n",
       "            fig.context.drawImage(fig.imageObj, 0, 0);\n",
       "        };\n",
       "\n",
       "    this.imageObj.onunload = function() {\n",
       "        fig.ws.close();\n",
       "    }\n",
       "\n",
       "    this.ws.onmessage = this._make_on_message_function(this);\n",
       "\n",
       "    this.ondownload = ondownload;\n",
       "}\n",
       "\n",
       "mpl.figure.prototype._init_header = function() {\n",
       "    var titlebar = $(\n",
       "        '<div class=\"ui-dialog-titlebar ui-widget-header ui-corner-all ' +\n",
       "        'ui-helper-clearfix\"/>');\n",
       "    var titletext = $(\n",
       "        '<div class=\"ui-dialog-title\" style=\"width: 100%; ' +\n",
       "        'text-align: center; padding: 3px;\"/>');\n",
       "    titlebar.append(titletext)\n",
       "    this.root.append(titlebar);\n",
       "    this.header = titletext[0];\n",
       "}\n",
       "\n",
       "\n",
       "\n",
       "mpl.figure.prototype._canvas_extra_style = function(canvas_div) {\n",
       "\n",
       "}\n",
       "\n",
       "\n",
       "mpl.figure.prototype._root_extra_style = function(canvas_div) {\n",
       "\n",
       "}\n",
       "\n",
       "mpl.figure.prototype._init_canvas = function() {\n",
       "    var fig = this;\n",
       "\n",
       "    var canvas_div = $('<div/>');\n",
       "\n",
       "    canvas_div.attr('style', 'position: relative; clear: both; outline: 0');\n",
       "\n",
       "    function canvas_keyboard_event(event) {\n",
       "        return fig.key_event(event, event['data']);\n",
       "    }\n",
       "\n",
       "    canvas_div.keydown('key_press', canvas_keyboard_event);\n",
       "    canvas_div.keyup('key_release', canvas_keyboard_event);\n",
       "    this.canvas_div = canvas_div\n",
       "    this._canvas_extra_style(canvas_div)\n",
       "    this.root.append(canvas_div);\n",
       "\n",
       "    var canvas = $('<canvas/>');\n",
       "    canvas.addClass('mpl-canvas');\n",
       "    canvas.attr('style', \"left: 0; top: 0; z-index: 0; outline: 0\")\n",
       "\n",
       "    this.canvas = canvas[0];\n",
       "    this.context = canvas[0].getContext(\"2d\");\n",
       "\n",
       "    var backingStore = this.context.backingStorePixelRatio ||\n",
       "\tthis.context.webkitBackingStorePixelRatio ||\n",
       "\tthis.context.mozBackingStorePixelRatio ||\n",
       "\tthis.context.msBackingStorePixelRatio ||\n",
       "\tthis.context.oBackingStorePixelRatio ||\n",
       "\tthis.context.backingStorePixelRatio || 1;\n",
       "\n",
       "    mpl.ratio = (window.devicePixelRatio || 1) / backingStore;\n",
       "\n",
       "    var rubberband = $('<canvas/>');\n",
       "    rubberband.attr('style', \"position: absolute; left: 0; top: 0; z-index: 1;\")\n",
       "\n",
       "    var pass_mouse_events = true;\n",
       "\n",
       "    canvas_div.resizable({\n",
       "        start: function(event, ui) {\n",
       "            pass_mouse_events = false;\n",
       "        },\n",
       "        resize: function(event, ui) {\n",
       "            fig.request_resize(ui.size.width, ui.size.height);\n",
       "        },\n",
       "        stop: function(event, ui) {\n",
       "            pass_mouse_events = true;\n",
       "            fig.request_resize(ui.size.width, ui.size.height);\n",
       "        },\n",
       "    });\n",
       "\n",
       "    function mouse_event_fn(event) {\n",
       "        if (pass_mouse_events)\n",
       "            return fig.mouse_event(event, event['data']);\n",
       "    }\n",
       "\n",
       "    rubberband.mousedown('button_press', mouse_event_fn);\n",
       "    rubberband.mouseup('button_release', mouse_event_fn);\n",
       "    // Throttle sequential mouse events to 1 every 20ms.\n",
       "    rubberband.mousemove('motion_notify', mouse_event_fn);\n",
       "\n",
       "    rubberband.mouseenter('figure_enter', mouse_event_fn);\n",
       "    rubberband.mouseleave('figure_leave', mouse_event_fn);\n",
       "\n",
       "    canvas_div.on(\"wheel\", function (event) {\n",
       "        event = event.originalEvent;\n",
       "        event['data'] = 'scroll'\n",
       "        if (event.deltaY < 0) {\n",
       "            event.step = 1;\n",
       "        } else {\n",
       "            event.step = -1;\n",
       "        }\n",
       "        mouse_event_fn(event);\n",
       "    });\n",
       "\n",
       "    canvas_div.append(canvas);\n",
       "    canvas_div.append(rubberband);\n",
       "\n",
       "    this.rubberband = rubberband;\n",
       "    this.rubberband_canvas = rubberband[0];\n",
       "    this.rubberband_context = rubberband[0].getContext(\"2d\");\n",
       "    this.rubberband_context.strokeStyle = \"#000000\";\n",
       "\n",
       "    this._resize_canvas = function(width, height) {\n",
       "        // Keep the size of the canvas, canvas container, and rubber band\n",
       "        // canvas in synch.\n",
       "        canvas_div.css('width', width)\n",
       "        canvas_div.css('height', height)\n",
       "\n",
       "        canvas.attr('width', width * mpl.ratio);\n",
       "        canvas.attr('height', height * mpl.ratio);\n",
       "        canvas.attr('style', 'width: ' + width + 'px; height: ' + height + 'px;');\n",
       "\n",
       "        rubberband.attr('width', width);\n",
       "        rubberband.attr('height', height);\n",
       "    }\n",
       "\n",
       "    // Set the figure to an initial 600x600px, this will subsequently be updated\n",
       "    // upon first draw.\n",
       "    this._resize_canvas(600, 600);\n",
       "\n",
       "    // Disable right mouse context menu.\n",
       "    $(this.rubberband_canvas).bind(\"contextmenu\",function(e){\n",
       "        return false;\n",
       "    });\n",
       "\n",
       "    function set_focus () {\n",
       "        canvas.focus();\n",
       "        canvas_div.focus();\n",
       "    }\n",
       "\n",
       "    window.setTimeout(set_focus, 100);\n",
       "}\n",
       "\n",
       "mpl.figure.prototype._init_toolbar = function() {\n",
       "    var fig = this;\n",
       "\n",
       "    var nav_element = $('<div/>');\n",
       "    nav_element.attr('style', 'width: 100%');\n",
       "    this.root.append(nav_element);\n",
       "\n",
       "    // Define a callback function for later on.\n",
       "    function toolbar_event(event) {\n",
       "        return fig.toolbar_button_onclick(event['data']);\n",
       "    }\n",
       "    function toolbar_mouse_event(event) {\n",
       "        return fig.toolbar_button_onmouseover(event['data']);\n",
       "    }\n",
       "\n",
       "    for(var toolbar_ind in mpl.toolbar_items) {\n",
       "        var name = mpl.toolbar_items[toolbar_ind][0];\n",
       "        var tooltip = mpl.toolbar_items[toolbar_ind][1];\n",
       "        var image = mpl.toolbar_items[toolbar_ind][2];\n",
       "        var method_name = mpl.toolbar_items[toolbar_ind][3];\n",
       "\n",
       "        if (!name) {\n",
       "            // put a spacer in here.\n",
       "            continue;\n",
       "        }\n",
       "        var button = $('<button/>');\n",
       "        button.addClass('ui-button ui-widget ui-state-default ui-corner-all ' +\n",
       "                        'ui-button-icon-only');\n",
       "        button.attr('role', 'button');\n",
       "        button.attr('aria-disabled', 'false');\n",
       "        button.click(method_name, toolbar_event);\n",
       "        button.mouseover(tooltip, toolbar_mouse_event);\n",
       "\n",
       "        var icon_img = $('<span/>');\n",
       "        icon_img.addClass('ui-button-icon-primary ui-icon');\n",
       "        icon_img.addClass(image);\n",
       "        icon_img.addClass('ui-corner-all');\n",
       "\n",
       "        var tooltip_span = $('<span/>');\n",
       "        tooltip_span.addClass('ui-button-text');\n",
       "        tooltip_span.html(tooltip);\n",
       "\n",
       "        button.append(icon_img);\n",
       "        button.append(tooltip_span);\n",
       "\n",
       "        nav_element.append(button);\n",
       "    }\n",
       "\n",
       "    var fmt_picker_span = $('<span/>');\n",
       "\n",
       "    var fmt_picker = $('<select/>');\n",
       "    fmt_picker.addClass('mpl-toolbar-option ui-widget ui-widget-content');\n",
       "    fmt_picker_span.append(fmt_picker);\n",
       "    nav_element.append(fmt_picker_span);\n",
       "    this.format_dropdown = fmt_picker[0];\n",
       "\n",
       "    for (var ind in mpl.extensions) {\n",
       "        var fmt = mpl.extensions[ind];\n",
       "        var option = $(\n",
       "            '<option/>', {selected: fmt === mpl.default_extension}).html(fmt);\n",
       "        fmt_picker.append(option);\n",
       "    }\n",
       "\n",
       "    // Add hover states to the ui-buttons\n",
       "    $( \".ui-button\" ).hover(\n",
       "        function() { $(this).addClass(\"ui-state-hover\");},\n",
       "        function() { $(this).removeClass(\"ui-state-hover\");}\n",
       "    );\n",
       "\n",
       "    var status_bar = $('<span class=\"mpl-message\"/>');\n",
       "    nav_element.append(status_bar);\n",
       "    this.message = status_bar[0];\n",
       "}\n",
       "\n",
       "mpl.figure.prototype.request_resize = function(x_pixels, y_pixels) {\n",
       "    // Request matplotlib to resize the figure. Matplotlib will then trigger a resize in the client,\n",
       "    // which will in turn request a refresh of the image.\n",
       "    this.send_message('resize', {'width': x_pixels, 'height': y_pixels});\n",
       "}\n",
       "\n",
       "mpl.figure.prototype.send_message = function(type, properties) {\n",
       "    properties['type'] = type;\n",
       "    properties['figure_id'] = this.id;\n",
       "    this.ws.send(JSON.stringify(properties));\n",
       "}\n",
       "\n",
       "mpl.figure.prototype.send_draw_message = function() {\n",
       "    if (!this.waiting) {\n",
       "        this.waiting = true;\n",
       "        this.ws.send(JSON.stringify({type: \"draw\", figure_id: this.id}));\n",
       "    }\n",
       "}\n",
       "\n",
       "\n",
       "mpl.figure.prototype.handle_save = function(fig, msg) {\n",
       "    var format_dropdown = fig.format_dropdown;\n",
       "    var format = format_dropdown.options[format_dropdown.selectedIndex].value;\n",
       "    fig.ondownload(fig, format);\n",
       "}\n",
       "\n",
       "\n",
       "mpl.figure.prototype.handle_resize = function(fig, msg) {\n",
       "    var size = msg['size'];\n",
       "    if (size[0] != fig.canvas.width || size[1] != fig.canvas.height) {\n",
       "        fig._resize_canvas(size[0], size[1]);\n",
       "        fig.send_message(\"refresh\", {});\n",
       "    };\n",
       "}\n",
       "\n",
       "mpl.figure.prototype.handle_rubberband = function(fig, msg) {\n",
       "    var x0 = msg['x0'] / mpl.ratio;\n",
       "    var y0 = (fig.canvas.height - msg['y0']) / mpl.ratio;\n",
       "    var x1 = msg['x1'] / mpl.ratio;\n",
       "    var y1 = (fig.canvas.height - msg['y1']) / mpl.ratio;\n",
       "    x0 = Math.floor(x0) + 0.5;\n",
       "    y0 = Math.floor(y0) + 0.5;\n",
       "    x1 = Math.floor(x1) + 0.5;\n",
       "    y1 = Math.floor(y1) + 0.5;\n",
       "    var min_x = Math.min(x0, x1);\n",
       "    var min_y = Math.min(y0, y1);\n",
       "    var width = Math.abs(x1 - x0);\n",
       "    var height = Math.abs(y1 - y0);\n",
       "\n",
       "    fig.rubberband_context.clearRect(\n",
       "        0, 0, fig.canvas.width / mpl.ratio, fig.canvas.height / mpl.ratio);\n",
       "\n",
       "    fig.rubberband_context.strokeRect(min_x, min_y, width, height);\n",
       "}\n",
       "\n",
       "mpl.figure.prototype.handle_figure_label = function(fig, msg) {\n",
       "    // Updates the figure title.\n",
       "    fig.header.textContent = msg['label'];\n",
       "}\n",
       "\n",
       "mpl.figure.prototype.handle_cursor = function(fig, msg) {\n",
       "    var cursor = msg['cursor'];\n",
       "    switch(cursor)\n",
       "    {\n",
       "    case 0:\n",
       "        cursor = 'pointer';\n",
       "        break;\n",
       "    case 1:\n",
       "        cursor = 'default';\n",
       "        break;\n",
       "    case 2:\n",
       "        cursor = 'crosshair';\n",
       "        break;\n",
       "    case 3:\n",
       "        cursor = 'move';\n",
       "        break;\n",
       "    }\n",
       "    fig.rubberband_canvas.style.cursor = cursor;\n",
       "}\n",
       "\n",
       "mpl.figure.prototype.handle_message = function(fig, msg) {\n",
       "    fig.message.textContent = msg['message'];\n",
       "}\n",
       "\n",
       "mpl.figure.prototype.handle_draw = function(fig, msg) {\n",
       "    // Request the server to send over a new figure.\n",
       "    fig.send_draw_message();\n",
       "}\n",
       "\n",
       "mpl.figure.prototype.handle_image_mode = function(fig, msg) {\n",
       "    fig.image_mode = msg['mode'];\n",
       "}\n",
       "\n",
       "mpl.figure.prototype.updated_canvas_event = function() {\n",
       "    // Called whenever the canvas gets updated.\n",
       "    this.send_message(\"ack\", {});\n",
       "}\n",
       "\n",
       "// A function to construct a web socket function for onmessage handling.\n",
       "// Called in the figure constructor.\n",
       "mpl.figure.prototype._make_on_message_function = function(fig) {\n",
       "    return function socket_on_message(evt) {\n",
       "        if (evt.data instanceof Blob) {\n",
       "            /* FIXME: We get \"Resource interpreted as Image but\n",
       "             * transferred with MIME type text/plain:\" errors on\n",
       "             * Chrome.  But how to set the MIME type?  It doesn't seem\n",
       "             * to be part of the websocket stream */\n",
       "            evt.data.type = \"image/png\";\n",
       "\n",
       "            /* Free the memory for the previous frames */\n",
       "            if (fig.imageObj.src) {\n",
       "                (window.URL || window.webkitURL).revokeObjectURL(\n",
       "                    fig.imageObj.src);\n",
       "            }\n",
       "\n",
       "            fig.imageObj.src = (window.URL || window.webkitURL).createObjectURL(\n",
       "                evt.data);\n",
       "            fig.updated_canvas_event();\n",
       "            fig.waiting = false;\n",
       "            return;\n",
       "        }\n",
       "        else if (typeof evt.data === 'string' && evt.data.slice(0, 21) == \"data:image/png;base64\") {\n",
       "            fig.imageObj.src = evt.data;\n",
       "            fig.updated_canvas_event();\n",
       "            fig.waiting = false;\n",
       "            return;\n",
       "        }\n",
       "\n",
       "        var msg = JSON.parse(evt.data);\n",
       "        var msg_type = msg['type'];\n",
       "\n",
       "        // Call the  \"handle_{type}\" callback, which takes\n",
       "        // the figure and JSON message as its only arguments.\n",
       "        try {\n",
       "            var callback = fig[\"handle_\" + msg_type];\n",
       "        } catch (e) {\n",
       "            console.log(\"No handler for the '\" + msg_type + \"' message type: \", msg);\n",
       "            return;\n",
       "        }\n",
       "\n",
       "        if (callback) {\n",
       "            try {\n",
       "                // console.log(\"Handling '\" + msg_type + \"' message: \", msg);\n",
       "                callback(fig, msg);\n",
       "            } catch (e) {\n",
       "                console.log(\"Exception inside the 'handler_\" + msg_type + \"' callback:\", e, e.stack, msg);\n",
       "            }\n",
       "        }\n",
       "    };\n",
       "}\n",
       "\n",
       "// from http://stackoverflow.com/questions/1114465/getting-mouse-location-in-canvas\n",
       "mpl.findpos = function(e) {\n",
       "    //this section is from http://www.quirksmode.org/js/events_properties.html\n",
       "    var targ;\n",
       "    if (!e)\n",
       "        e = window.event;\n",
       "    if (e.target)\n",
       "        targ = e.target;\n",
       "    else if (e.srcElement)\n",
       "        targ = e.srcElement;\n",
       "    if (targ.nodeType == 3) // defeat Safari bug\n",
       "        targ = targ.parentNode;\n",
       "\n",
       "    // jQuery normalizes the pageX and pageY\n",
       "    // pageX,Y are the mouse positions relative to the document\n",
       "    // offset() returns the position of the element relative to the document\n",
       "    var x = e.pageX - $(targ).offset().left;\n",
       "    var y = e.pageY - $(targ).offset().top;\n",
       "\n",
       "    return {\"x\": x, \"y\": y};\n",
       "};\n",
       "\n",
       "/*\n",
       " * return a copy of an object with only non-object keys\n",
       " * we need this to avoid circular references\n",
       " * http://stackoverflow.com/a/24161582/3208463\n",
       " */\n",
       "function simpleKeys (original) {\n",
       "  return Object.keys(original).reduce(function (obj, key) {\n",
       "    if (typeof original[key] !== 'object')\n",
       "        obj[key] = original[key]\n",
       "    return obj;\n",
       "  }, {});\n",
       "}\n",
       "\n",
       "mpl.figure.prototype.mouse_event = function(event, name) {\n",
       "    var canvas_pos = mpl.findpos(event)\n",
       "\n",
       "    if (name === 'button_press')\n",
       "    {\n",
       "        this.canvas.focus();\n",
       "        this.canvas_div.focus();\n",
       "    }\n",
       "\n",
       "    var x = canvas_pos.x * mpl.ratio;\n",
       "    var y = canvas_pos.y * mpl.ratio;\n",
       "\n",
       "    this.send_message(name, {x: x, y: y, button: event.button,\n",
       "                             step: event.step,\n",
       "                             guiEvent: simpleKeys(event)});\n",
       "\n",
       "    /* This prevents the web browser from automatically changing to\n",
       "     * the text insertion cursor when the button is pressed.  We want\n",
       "     * to control all of the cursor setting manually through the\n",
       "     * 'cursor' event from matplotlib */\n",
       "    event.preventDefault();\n",
       "    return false;\n",
       "}\n",
       "\n",
       "mpl.figure.prototype._key_event_extra = function(event, name) {\n",
       "    // Handle any extra behaviour associated with a key event\n",
       "}\n",
       "\n",
       "mpl.figure.prototype.key_event = function(event, name) {\n",
       "\n",
       "    // Prevent repeat events\n",
       "    if (name == 'key_press')\n",
       "    {\n",
       "        if (event.which === this._key)\n",
       "            return;\n",
       "        else\n",
       "            this._key = event.which;\n",
       "    }\n",
       "    if (name == 'key_release')\n",
       "        this._key = null;\n",
       "\n",
       "    var value = '';\n",
       "    if (event.ctrlKey && event.which != 17)\n",
       "        value += \"ctrl+\";\n",
       "    if (event.altKey && event.which != 18)\n",
       "        value += \"alt+\";\n",
       "    if (event.shiftKey && event.which != 16)\n",
       "        value += \"shift+\";\n",
       "\n",
       "    value += 'k';\n",
       "    value += event.which.toString();\n",
       "\n",
       "    this._key_event_extra(event, name);\n",
       "\n",
       "    this.send_message(name, {key: value,\n",
       "                             guiEvent: simpleKeys(event)});\n",
       "    return false;\n",
       "}\n",
       "\n",
       "mpl.figure.prototype.toolbar_button_onclick = function(name) {\n",
       "    if (name == 'download') {\n",
       "        this.handle_save(this, null);\n",
       "    } else {\n",
       "        this.send_message(\"toolbar_button\", {name: name});\n",
       "    }\n",
       "};\n",
       "\n",
       "mpl.figure.prototype.toolbar_button_onmouseover = function(tooltip) {\n",
       "    this.message.textContent = tooltip;\n",
       "};\n",
       "mpl.toolbar_items = [[\"Home\", \"Reset original view\", \"fa fa-home icon-home\", \"home\"], [\"Back\", \"Back to previous view\", \"fa fa-arrow-left icon-arrow-left\", \"back\"], [\"Forward\", \"Forward to next view\", \"fa fa-arrow-right icon-arrow-right\", \"forward\"], [\"\", \"\", \"\", \"\"], [\"Pan\", \"Pan axes with left mouse, zoom with right\", \"fa fa-arrows icon-move\", \"pan\"], [\"Zoom\", \"Zoom to rectangle\", \"fa fa-square-o icon-check-empty\", \"zoom\"], [\"\", \"\", \"\", \"\"], [\"Download\", \"Download plot\", \"fa fa-floppy-o icon-save\", \"download\"]];\n",
       "\n",
       "mpl.extensions = [\"eps\", \"pdf\", \"png\", \"ps\", \"raw\", \"svg\"];\n",
       "\n",
       "mpl.default_extension = \"png\";var comm_websocket_adapter = function(comm) {\n",
       "    // Create a \"websocket\"-like object which calls the given IPython comm\n",
       "    // object with the appropriate methods. Currently this is a non binary\n",
       "    // socket, so there is still some room for performance tuning.\n",
       "    var ws = {};\n",
       "\n",
       "    ws.close = function() {\n",
       "        comm.close()\n",
       "    };\n",
       "    ws.send = function(m) {\n",
       "        //console.log('sending', m);\n",
       "        comm.send(m);\n",
       "    };\n",
       "    // Register the callback with on_msg.\n",
       "    comm.on_msg(function(msg) {\n",
       "        //console.log('receiving', msg['content']['data'], msg);\n",
       "        // Pass the mpl event to the overridden (by mpl) onmessage function.\n",
       "        ws.onmessage(msg['content']['data'])\n",
       "    });\n",
       "    return ws;\n",
       "}\n",
       "\n",
       "mpl.mpl_figure_comm = function(comm, msg) {\n",
       "    // This is the function which gets called when the mpl process\n",
       "    // starts-up an IPython Comm through the \"matplotlib\" channel.\n",
       "\n",
       "    var id = msg.content.data.id;\n",
       "    // Get hold of the div created by the display call when the Comm\n",
       "    // socket was opened in Python.\n",
       "    var element = $(\"#\" + id);\n",
       "    var ws_proxy = comm_websocket_adapter(comm)\n",
       "\n",
       "    function ondownload(figure, format) {\n",
       "        window.open(figure.imageObj.src);\n",
       "    }\n",
       "\n",
       "    var fig = new mpl.figure(id, ws_proxy,\n",
       "                           ondownload,\n",
       "                           element.get(0));\n",
       "\n",
       "    // Call onopen now - mpl needs it, as it is assuming we've passed it a real\n",
       "    // web socket which is closed, not our websocket->open comm proxy.\n",
       "    ws_proxy.onopen();\n",
       "\n",
       "    fig.parent_element = element.get(0);\n",
       "    fig.cell_info = mpl.find_output_cell(\"<div id='\" + id + \"'></div>\");\n",
       "    if (!fig.cell_info) {\n",
       "        console.error(\"Failed to find cell for figure\", id, fig);\n",
       "        return;\n",
       "    }\n",
       "\n",
       "    var output_index = fig.cell_info[2]\n",
       "    var cell = fig.cell_info[0];\n",
       "\n",
       "};\n",
       "\n",
       "mpl.figure.prototype.handle_close = function(fig, msg) {\n",
       "    var width = fig.canvas.width/mpl.ratio\n",
       "    fig.root.unbind('remove')\n",
       "\n",
       "    // Update the output cell to use the data from the current canvas.\n",
       "    fig.push_to_output();\n",
       "    var dataURL = fig.canvas.toDataURL();\n",
       "    // Re-enable the keyboard manager in IPython - without this line, in FF,\n",
       "    // the notebook keyboard shortcuts fail.\n",
       "    IPython.keyboard_manager.enable()\n",
       "    $(fig.parent_element).html('<img src=\"' + dataURL + '\" width=\"' + width + '\">');\n",
       "    fig.close_ws(fig, msg);\n",
       "}\n",
       "\n",
       "mpl.figure.prototype.close_ws = function(fig, msg){\n",
       "    fig.send_message('closing', msg);\n",
       "    // fig.ws.close()\n",
       "}\n",
       "\n",
       "mpl.figure.prototype.push_to_output = function(remove_interactive) {\n",
       "    // Turn the data on the canvas into data in the output cell.\n",
       "    var width = this.canvas.width/mpl.ratio\n",
       "    var dataURL = this.canvas.toDataURL();\n",
       "    this.cell_info[1]['text/html'] = '<img src=\"' + dataURL + '\" width=\"' + width + '\">';\n",
       "}\n",
       "\n",
       "mpl.figure.prototype.updated_canvas_event = function() {\n",
       "    // Tell IPython that the notebook contents must change.\n",
       "    IPython.notebook.set_dirty(true);\n",
       "    this.send_message(\"ack\", {});\n",
       "    var fig = this;\n",
       "    // Wait a second, then push the new image to the DOM so\n",
       "    // that it is saved nicely (might be nice to debounce this).\n",
       "    setTimeout(function () { fig.push_to_output() }, 1000);\n",
       "}\n",
       "\n",
       "mpl.figure.prototype._init_toolbar = function() {\n",
       "    var fig = this;\n",
       "\n",
       "    var nav_element = $('<div/>');\n",
       "    nav_element.attr('style', 'width: 100%');\n",
       "    this.root.append(nav_element);\n",
       "\n",
       "    // Define a callback function for later on.\n",
       "    function toolbar_event(event) {\n",
       "        return fig.toolbar_button_onclick(event['data']);\n",
       "    }\n",
       "    function toolbar_mouse_event(event) {\n",
       "        return fig.toolbar_button_onmouseover(event['data']);\n",
       "    }\n",
       "\n",
       "    for(var toolbar_ind in mpl.toolbar_items){\n",
       "        var name = mpl.toolbar_items[toolbar_ind][0];\n",
       "        var tooltip = mpl.toolbar_items[toolbar_ind][1];\n",
       "        var image = mpl.toolbar_items[toolbar_ind][2];\n",
       "        var method_name = mpl.toolbar_items[toolbar_ind][3];\n",
       "\n",
       "        if (!name) { continue; };\n",
       "\n",
       "        var button = $('<button class=\"btn btn-default\" href=\"#\" title=\"' + name + '\"><i class=\"fa ' + image + ' fa-lg\"></i></button>');\n",
       "        button.click(method_name, toolbar_event);\n",
       "        button.mouseover(tooltip, toolbar_mouse_event);\n",
       "        nav_element.append(button);\n",
       "    }\n",
       "\n",
       "    // Add the status bar.\n",
       "    var status_bar = $('<span class=\"mpl-message\" style=\"text-align:right; float: right;\"/>');\n",
       "    nav_element.append(status_bar);\n",
       "    this.message = status_bar[0];\n",
       "\n",
       "    // Add the close button to the window.\n",
       "    var buttongrp = $('<div class=\"btn-group inline pull-right\"></div>');\n",
       "    var button = $('<button class=\"btn btn-mini btn-primary\" href=\"#\" title=\"Stop Interaction\"><i class=\"fa fa-power-off icon-remove icon-large\"></i></button>');\n",
       "    button.click(function (evt) { fig.handle_close(fig, {}); } );\n",
       "    button.mouseover('Stop Interaction', toolbar_mouse_event);\n",
       "    buttongrp.append(button);\n",
       "    var titlebar = this.root.find($('.ui-dialog-titlebar'));\n",
       "    titlebar.prepend(buttongrp);\n",
       "}\n",
       "\n",
       "mpl.figure.prototype._root_extra_style = function(el){\n",
       "    var fig = this\n",
       "    el.on(\"remove\", function(){\n",
       "\tfig.close_ws(fig, {});\n",
       "    });\n",
       "}\n",
       "\n",
       "mpl.figure.prototype._canvas_extra_style = function(el){\n",
       "    // this is important to make the div 'focusable\n",
       "    el.attr('tabindex', 0)\n",
       "    // reach out to IPython and tell the keyboard manager to turn it's self\n",
       "    // off when our div gets focus\n",
       "\n",
       "    // location in version 3\n",
       "    if (IPython.notebook.keyboard_manager) {\n",
       "        IPython.notebook.keyboard_manager.register_events(el);\n",
       "    }\n",
       "    else {\n",
       "        // location in version 2\n",
       "        IPython.keyboard_manager.register_events(el);\n",
       "    }\n",
       "\n",
       "}\n",
       "\n",
       "mpl.figure.prototype._key_event_extra = function(event, name) {\n",
       "    var manager = IPython.notebook.keyboard_manager;\n",
       "    if (!manager)\n",
       "        manager = IPython.keyboard_manager;\n",
       "\n",
       "    // Check for shift+enter\n",
       "    if (event.shiftKey && event.which == 13) {\n",
       "        this.canvas_div.blur();\n",
       "        event.shiftKey = false;\n",
       "        // Send a \"J\" for go to next cell\n",
       "        event.which = 74;\n",
       "        event.keyCode = 74;\n",
       "        manager.command_mode();\n",
       "        manager.handle_keydown(event);\n",
       "    }\n",
       "}\n",
       "\n",
       "mpl.figure.prototype.handle_save = function(fig, msg) {\n",
       "    fig.ondownload(fig, null);\n",
       "}\n",
       "\n",
       "\n",
       "mpl.find_output_cell = function(html_output) {\n",
       "    // Return the cell and output element which can be found *uniquely* in the notebook.\n",
       "    // Note - this is a bit hacky, but it is done because the \"notebook_saving.Notebook\"\n",
       "    // IPython event is triggered only after the cells have been serialised, which for\n",
       "    // our purposes (turning an active figure into a static one), is too late.\n",
       "    var cells = IPython.notebook.get_cells();\n",
       "    var ncells = cells.length;\n",
       "    for (var i=0; i<ncells; i++) {\n",
       "        var cell = cells[i];\n",
       "        if (cell.cell_type === 'code'){\n",
       "            for (var j=0; j<cell.output_area.outputs.length; j++) {\n",
       "                var data = cell.output_area.outputs[j];\n",
       "                if (data.data) {\n",
       "                    // IPython >= 3 moved mimebundle to data attribute of output\n",
       "                    data = data.data;\n",
       "                }\n",
       "                if (data['text/html'] == html_output) {\n",
       "                    return [cell, data, j];\n",
       "                }\n",
       "            }\n",
       "        }\n",
       "    }\n",
       "}\n",
       "\n",
       "// Register the function which deals with the matplotlib target/channel.\n",
       "// The kernel may be null if the page has been refreshed.\n",
       "if (IPython.notebook.kernel != null) {\n",
       "    IPython.notebook.kernel.comm_manager.register_target('matplotlib', mpl.mpl_figure_comm);\n",
       "}\n"
      ],
      "text/plain": [
       "<IPython.core.display.Javascript object>"
      ]
     },
     "metadata": {},
     "output_type": "display_data"
    },
    {
     "data": {
      "text/html": [
       "<img src=\"data:image/png;base64,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\" width=\"640\">"
      ],
      "text/plain": [
       "<IPython.core.display.HTML object>"
      ]
     },
     "metadata": {},
     "output_type": "display_data"
    },
    {
     "data": {
      "text/plain": [
       "<matplotlib.axes._subplots.AxesSubplot at 0x1a27afec90>"
      ]
     },
     "execution_count": 67,
     "metadata": {},
     "output_type": "execute_result"
    }
   ],
   "source": [
    "df['cluster']."
   ]
  },
  {
   "cell_type": "markdown",
   "metadata": {},
   "source": [
    "## KMeans"
   ]
  },
  {
   "cell_type": "code",
   "execution_count": 51,
   "metadata": {},
   "outputs": [
    {
     "data": {
      "image/png": "[encoded data removed]",
      "text/plain": [
       "<Figure size 432x288 with 1 Axes>"
      ]
     },
     "metadata": {},
     "output_type": "display_data"
    }
   ],
   "source": [
    "X_plot = preprocessing.MinMaxScaler().fit_transform(X)\n",
    "#colours = 'rbg'\n",
    "for i in range(dataframe.shape[0]):\n",
    "    plt.scatter([X_plot[i, 0], X_plot[i, 1]], [X_plot[i, 2], X_plot[i, 3]], c = 'r')\n",
    "\n",
    "plt.xticks([])\n",
    "plt.yticks([])\n",
    "plt.axis('off')\n",
    "plt.show()"
   ]
  },
  {
   "cell_type": "code",
   "execution_count": null,
   "metadata": {},
   "outputs": [],
   "source": []
  },
  {
   "cell_type": "markdown",
   "metadata": {},
   "source": [
    "## Agglomerative"
   ]
  },
  {
   "cell_type": "code",
   "execution_count": 110,
   "metadata": {},
   "outputs": [
    {
     "data": {
      "image/png": "[encoded data removed]",
      "text/plain": [
       "<Figure size 432x288 with 1 Axes>"
      ]
     },
     "metadata": {},
     "output_type": "display_data"
    }
   ],
   "source": [
    "X_plot = preprocessing.MinMaxScaler().fit_transform(X)\n",
    "colours = 'rbg'\n",
    "for i in range(dataframe.shape[0]):\n",
    "    plt.text(X_plot[i, 0], X_plot[i, 1], str(clustering.labels_[i]),\n",
    "             color=colours[y[i]],\n",
    "             fontdict={'weight': 'bold', 'size': 9}\n",
    "        )\n",
    "\n",
    "plt.xticks([])\n",
    "plt.yticks([])\n",
    "plt.axis('off')\n",
    "plt.show()"
   ]
  },
  {
   "cell_type": "markdown",
   "metadata": {},
   "source": [
    "## Original"
   ]
  },
  {
   "cell_type": "code",
   "execution_count": 117,
   "metadata": {},
   "outputs": [],
   "source": [
    "x = df.drop('cluster', axis = 1)\n",
    "y_clustered_kmean = df['cluster']\n",
    "y_original = iris.target"
   ]
  },
  {
   "cell_type": "code",
   "execution_count": 123,
   "metadata": {},
   "outputs": [
    {
     "data": {
      "text/plain": [
       "Index(['sepal length (cm)', 'sepal width (cm)', 'petal length (cm)',\n",
       "       'petal width (cm)', 'cluster'],\n",
       "      dtype='object')"
      ]
     },
     "execution_count": 123,
     "metadata": {},
     "output_type": "execute_result"
    }
   ],
   "source": [
    "df.columns"
   ]
  },
  {
   "cell_type": "code",
   "execution_count": 127,
   "metadata": {},
   "outputs": [],
   "source": [
    "test = df.drop(['sepal length (cm)', 'sepal width (cm)', 'cluster'], axis = 1)"
   ]
  },
  {
   "cell_type": "code",
   "execution_count": null,
   "metadata": {},
   "outputs": [],
   "source": []
  },
  {
   "cell_type": "code",
   "execution_count": 125,
   "metadata": {},
   "outputs": [
    {
     "name": "stdout",
     "output_type": "stream",
     "text": [
      "(600,) (150,) (150,)\n",
      "(150, 3)\n"
     ]
    }
   ],
   "source": [
    "print(x.shape, y_clustered.shape, y_original.shape)\n",
    "print(test.shape)"
   ]
  },
  {
   "cell_type": "code",
   "execution_count": null,
   "metadata": {},
   "outputs": [],
   "source": []
  },
  {
   "cell_type": "code",
   "execution_count": null,
   "metadata": {},
   "outputs": [],
   "source": []
  },
  {
   "cell_type": "code",
   "execution_count": null,
   "metadata": {},
   "outputs": [],
   "source": []
  }
 ],
 "metadata": {
  "kernelspec": {
   "display_name": "Python 3",
   "language": "python",
   "name": "python3"
  },
  "language_info": {
   "codemirror_mode": {
    "name": "ipython",
    "version": 3
   },
   "file_extension": ".py",
   "mimetype": "text/x-python",
   "name": "python",
   "nbconvert_exporter": "python",
   "pygments_lexer": "ipython3",
   "version": "3.7.4"
  }
 },
 "nbformat": 4,
 "nbformat_minor": 2
}
