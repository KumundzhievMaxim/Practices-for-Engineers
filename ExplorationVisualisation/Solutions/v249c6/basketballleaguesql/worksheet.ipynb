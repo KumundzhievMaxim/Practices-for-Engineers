{
 "cells": [
  {
   "cell_type": "markdown",
   "metadata": {},
   "source": [
    "# Querying SQL databases\n",
    "\n",
    "Your task is to analyze game and player statistics from the NBA 2008-2009 season provided as a relational database of play-by-play data.\n",
    "\n",
    "You cannot use jupyter to execute the queries. To write and test the queries, use the web interface at http://pollux.vo.elte.hu/basketball/. Copy queries into the worksheet for submission."
   ]
  },
  {
   "cell_type": "markdown",
   "metadata": {},
   "source": [
    "## Excercise 1 - Simple queries\n",
    "\n",
    "a) List all teams playing in the league during the season\n",
    "\n",
    "b) List teams in alphabetic order but division by division\n",
    "\n",
    "c) Count the number of persons/players in the league"
   ]
  },
  {
   "cell_type": "markdown",
   "metadata": {},
   "source": [
    "**Answers**\n",
    "\n",
    "\n",
    "**a) select home_team_id from game \n",
    "    union\n",
    "   select away_team_id from game**\n",
    "\n",
    "\n",
    "**b)\n",
    "select home_team_id from game\n",
    "union \n",
    "select away_team_id from game\n",
    "order by 1**\n",
    "\n",
    "\n",
    "**c)select count(id) from player**"
   ]
  },
  {
   "cell_type": "markdown",
   "metadata": {},
   "source": [
    "## Excercise 2 - Simple joins\n",
    "\n",
    "a) List teams by division, including the division name\n",
    "\n",
    "b) List players by team including the uniform number"
   ]
  },
  {
   "cell_type": "markdown",
   "metadata": {
    "collapsed": true
   },
   "source": [
    "**Answers**\n",
    "\n",
    "**a)select  d.name division_name, t.name team_name from team t , division d\n",
    "where t.division_id = d.id\n",
    "order by 1,2**\n",
    "\n",
    "**b) select person.name, player.number from person\n",
    "inner join player on player.person_id = person.id**\n"
   ]
  },
  {
   "cell_type": "markdown",
   "metadata": {},
   "source": [
    "## Excercise 3 - Simple aggregation\n",
    "\n",
    "a) Count number of persons playing for a given team\n",
    "\n",
    "b) List all teams along with the number of players\n",
    "\n",
    "c) Count the number of teams a given person played for\n",
    "\n",
    "d) List all players along with the number of teams they played for\n",
    "\n",
    "e) List players who played for more than two teams during the season"
   ]
  },
  {
   "cell_type": "markdown",
   "metadata": {
    "collapsed": true
   },
   "source": [
    "**Answers**\n",
    "\n",
    "**a)select count(id) cnt, team_id from player\n",
    "group by(team_id)\n",
    "order by 1 desc**\n",
    "\n",
    "\n",
    "**b)select team.name, player.person_id from team\n",
    "inner join player on player.team_id = team.id**\n",
    "\n",
    "\n",
    "**c)select b.name, count(team_id)\n",
    "from dbo.player as a\n",
    "left join dbo.person as b\n",
    "on a.person_id=b.id\n",
    "group by b.name**\n",
    "\n",
    "\n",
    "\n",
    "**d)select b.name, c.name\n",
    "from dbo.player as a\n",
    "left join dbo.person as b\n",
    "on a.person_id=b.id\n",
    "left join dbo.team as c\n",
    "on a.team_id=c.id**\n",
    "\n",
    "\n",
    "\n",
    "**e)\n",
    " select b.name, count(team_id)\n",
    "from dbo.player as a\n",
    "left join dbo.person as b\n",
    "on a.person_id=b.id\n",
    "group by b.name\n",
    "having count(team_id)>1**"
   ]
  },
  {
   "cell_type": "markdown",
   "metadata": {},
   "source": [
    "## Excercise 4 - More complex queries with set operations and common table expressions\n",
    "\n",
    "a) Pick a game and list all field shots and free throw attempts, including points\n",
    "\n",
    "b) Combine the previous two into a single table and only show successful attempts\n",
    "\n",
    "c) Take previous query and sum all points by team so that end result is available\n",
    "\n",
    "d) Remove filter on game and get end result of each game during season\n",
    "\n",
    "e) Modify the previous query to return a single line per game, with home team and away team points"
   ]
  },
  {
   "cell_type": "markdown",
   "metadata": {},
   "source": [
    "**Answers**"
   ]
  },
  {
   "cell_type": "markdown",
   "metadata": {
    "collapsed": true
   },
   "source": [
    "**a)select e.name, d.name ,c.description from dbo.game as a\n",
    "left join dbo.shot as b\n",
    "on a.id=b.game_id\n",
    "left join dbo.shot_type as c\n",
    "on b.type=c.id\n",
    "left join dbo.person as d\n",
    "on b.player_id=d.id\n",
    "left join dbo.team as e\n",
    "on b.team_id=e.id\n",
    "where a.id=1 and c.description in('3pt', 'hook bank', 'layup')**"
   ]
  },
  {
   "cell_type": "markdown",
   "metadata": {},
   "source": [
    "**b)select e.name, d.name ,c.description, points from dbo.game as a\n",
    "left join dbo.shot as b\n",
    "on a.id=b.game_id\n",
    "left join dbo.shot_type as c\n",
    "on b.type=c.id\n",
    "left join dbo.person as d\n",
    "on b.player_id=d.id\n",
    "left join dbo.team as e\n",
    "on b.team_id=e.id\n",
    "left join point as f\n",
    "on b.cntr=f.cntr and a.id=f.game_id\n",
    "where a.id=1 and c.description in('3pt', 'hook bank', 'layup')**"
   ]
  },
  {
   "cell_type": "markdown",
   "metadata": {},
   "source": [
    "**c)select e.name, sum(points) point from dbo.game as a\n",
    "left join dbo.shot as b\n",
    "on a.id=b.game_id\n",
    "left join dbo.shot_type as c\n",
    "on b.type=c.id\n",
    "left join dbo.person as d\n",
    "on b.player_id=d.id\n",
    "left join dbo.team as e\n",
    "on b.team_id=e.id\n",
    "left join point as f\n",
    "on b.cntr=f.cntr and a.id=f.game_id\n",
    "where a.id=1 and c.description in('3pt', 'hook bank', 'layup')\n",
    "group by e.name**"
   ]
  },
  {
   "cell_type": "markdown",
   "metadata": {},
   "source": [
    "**d)select a.id ,e.name, sum(points) points from dbo.game as a\n",
    "left join dbo.shot as b\n",
    "on a.id=b.game_id\n",
    "left join dbo.shot_type as c\n",
    "on b.type=c.id\n",
    "left join dbo.person as d\n",
    "on b.player_id=d.id\n",
    "left join dbo.team as e\n",
    "on b.team_id=e.id\n",
    "left join point as f\n",
    "on b.cntr=f.cntr and a.id=f.game_id\n",
    "where c.description in('3pt', 'hook bank', 'layup')\n",
    "group by a.id, e.name\n",
    "order by 1**"
   ]
  },
  {
   "cell_type": "markdown",
   "metadata": {},
   "source": [
    "**e)with temp01 as\n",
    "(\n",
    "select a.id, e.name, sum(points) task, g.type from dbo.game as a\n",
    "left join dbo.shot as b\n",
    "on a.id=b.game_id\n",
    "left join dbo.shot_type as c\n",
    "on b.type=c.id\n",
    "left join dbo.person as d\n",
    "on b.player_id=d.id\n",
    "left join dbo.team as e\n",
    "on b.team_id=e.id\n",
    "left join point as f\n",
    "on b.cntr=f.cntr and a.id=f.game_id\n",
    "left join (select game_id, home_player_id, 'Home' type from jumpball\n",
    "union\n",
    "select game_id, away_player_id, 'Away' from jumpball) as g\n",
    "on a.id=g.game_id and d.id=g.home_player_id\n",
    "group by a.id, e.name, g.type\n",
    "),\n",
    "temp02 as\n",
    "(\n",
    "select a.id, a.name, sum(task) task, b.type from temp01 as a\n",
    "left join (select id, name, type from temp01) as b\n",
    "on a.id=b.id and a.name=b.name\n",
    "group by a.id, a.name, b.type\n",
    ")\n",
    "select * from temp02\n",
    "where type is not null\n",
    "order by 1**"
   ]
  },
  {
   "cell_type": "markdown",
   "metadata": {},
   "source": [
    "## Excercise 5 - a rather complex example\n",
    "\n",
    "a)  Print season results by division. For each team, calculate with a **single_ query**\n",
    "\n",
    "- number of games played\n",
    "- wins\n",
    "- losts\n",
    "- winning percentage\n",
    "\n",
    "Compare with https://en.wikipedia.org/wiki/2008–09_NBA_season#By_division"
   ]
  },
  {
   "cell_type": "markdown",
   "metadata": {},
   "source": [
    "**Answer**"
   ]
  },
  {
   "cell_type": "markdown",
   "metadata": {
    "collapsed": true
   },
   "source": [
    "select *, cast ((win/sum1) as float) perent from (\n",
    "\n",
    "select *, (win+lose) sum1 from (\n",
    "\n",
    "select team, div, sum(lose) lose, sum(win) win from (\n",
    "select team, div, case when result = 'L' then 1 end lose\n",
    ",case when result = 'W' then 1 end win\n",
    "from(\n",
    "select b.id, b.team, b.div, case when rown = 1 then 'L' else 'W' end result \n",
    "from(\n",
    "select a.*, row_number() over (partition by a.id order by a.task) rown \n",
    "From(\n",
    "select a.id, e.name team, g.name div, sum(points) task from dbo.game as a\n",
    "left join dbo.shot as b\n",
    "on a.id=b.game_id\n",
    "left join dbo.shot_type as c\n",
    "on b.type=c.id\n",
    "left join dbo.person as d\n",
    "on b.player_id=d.id\n",
    "left join dbo.team as e\n",
    "on b.team_id=e.id\n",
    "left join point as f\n",
    "on b.cntr=f.cntr and a.id=f.game_id\n",
    "left join dbo.division as g\n",
    "on e.division_id=g.id\n",
    "group by a.id, e.name, g.name) as a) as b) as c) as d\n",
    "group by team, div) as e) as f"
   ]
  },
  {
   "cell_type": "code",
   "execution_count": null,
   "metadata": {},
   "outputs": [],
   "source": []
  }
 ],
 "metadata": {
  "kernelspec": {
   "display_name": "Python 3",
   "language": "python",
   "name": "python3"
  },
  "language_info": {
   "codemirror_mode": {
    "name": "ipython",
    "version": 3
   },
   "file_extension": ".py",
   "mimetype": "text/x-python",
   "name": "python",
   "nbconvert_exporter": "python",
   "pygments_lexer": "ipython3",
   "version": "3.6.6"
  }
 },
 "nbformat": 4,
 "nbformat_minor": 2
}
