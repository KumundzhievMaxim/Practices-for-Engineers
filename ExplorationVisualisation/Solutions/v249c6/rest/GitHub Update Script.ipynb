{
 "cells": [
  {
   "cell_type": "code",
   "execution_count": 1,
   "metadata": {},
   "outputs": [],
   "source": [
    "import requests\n",
    "import json\n",
    "import os\n",
    "import shutil\n",
    "import tempfile"
   ]
  },
  {
   "cell_type": "markdown",
   "metadata": {},
   "source": [
    "**We would like to create the script which will automaticaly make actions on the GitHub web application \n",
    "in order to fill up the heatmap of actions.**"
   ]
  },
  {
   "cell_type": "markdown",
   "metadata": {},
   "source": [
    "### We need to get the ...."
   ]
  },
  {
   "cell_type": "code",
   "execution_count": 20,
   "metadata": {},
   "outputs": [],
   "source": [
    "user = 'MaximKumundzhiev'\n",
    "token = '3783ea7b8ce2ae64ebd2ade92d4d84f4fbfea488'"
   ]
  },
  {
   "cell_type": "code",
   "execution_count": 21,
   "metadata": {},
   "outputs": [
    {
     "name": "stdout",
     "output_type": "stream",
     "text": [
      "{'login': 'KumundzhievMaxim', 'id': 37558223, 'node_id': 'MDQ6VXNlcjM3NTU4MjIz', 'avatar_url': 'https://avatars3.githubusercontent.com/u/37558223?v=4', 'gravatar_id': '', 'url': 'https://api.github.com/users/KumundzhievMaxim', 'html_url': 'https://github.com/KumundzhievMaxim', 'followers_url': 'https://api.github.com/users/KumundzhievMaxim/followers', 'following_url': 'https://api.github.com/users/KumundzhievMaxim/following{/other_user}', 'gists_url': 'https://api.github.com/users/KumundzhievMaxim/gists{/gist_id}', 'starred_url': 'https://api.github.com/users/KumundzhievMaxim/starred{/owner}{/repo}', 'subscriptions_url': 'https://api.github.com/users/KumundzhievMaxim/subscriptions', 'organizations_url': 'https://api.github.com/users/KumundzhievMaxim/orgs', 'repos_url': 'https://api.github.com/users/KumundzhievMaxim/repos', 'events_url': 'https://api.github.com/users/KumundzhievMaxim/events{/privacy}', 'received_events_url': 'https://api.github.com/users/KumundzhievMaxim/received_events', 'type': 'User', 'site_admin': False, 'name': 'Maksim Kumundzhiev', 'company': '@VerticalScale', 'blog': 'https://www.linkedin.com/in/maksim-kumundzhiev/', 'location': 'Germany, Berlin', 'email': 'kumundzhievmaxim@gmail.com', 'hireable': True, 'bio': 'Growing Data Ninja ', 'public_repos': 18, 'public_gists': 0, 'followers': 2, 'following': 14, 'created_at': '2018-03-19T21:28:24Z', 'updated_at': '2019-08-08T15:15:15Z'}\n"
     ]
    },
    {
     "data": {
      "text/plain": [
       "200"
      ]
     },
     "execution_count": 21,
     "metadata": {},
     "output_type": "execute_result"
    }
   ],
   "source": [
    "#Try to login \n",
    "\n",
    "headers = {'Authorization': 'token ' + token}\n",
    "\n",
    "login = requests.get('https://api.github.com/user', headers=headers)\n",
    "print(login.json())\n",
    "login.status_code"
   ]
  },
  {
   "cell_type": "code",
   "execution_count": 28,
   "metadata": {},
   "outputs": [
    {
     "data": {
      "text/plain": [
       "404"
      ]
     },
     "execution_count": 28,
     "metadata": {},
     "output_type": "execute_result"
    }
   ],
   "source": [
    "# Create a new repository for our script\n",
    "\n",
    "#https://developer.github.com/v3/repos/#create The data parameter needs to contain \"auto_init\": true \n",
    "#in order to initiate the repository and be able to add/commit files later on. \n",
    "#It also creates a Readme.md\n",
    "\n",
    "#request = requests.get('https://api.github.com/search/repositories?q=github+api', auth=(user,token))\n",
    "\n",
    "repo = 'Git_Heatmap'\n",
    "description = 'Created with GitHub API and Love'\n",
    "\n",
    "payload = {'name': repo, 'description': description, 'auto_init': 'true'}\n",
    "\n",
    "login = requests.post('https://api.github.com/' + 'user/repos', auth=(user,token), data=json.dumps(payload))\n",
    "\n",
    "login.status_code"
   ]
  },
  {
   "cell_type": "code",
   "execution_count": 23,
   "metadata": {},
   "outputs": [],
   "source": [
    "request = requests.get('https://api.github.com/search/repositories?q=github+api', auth=(user,token))"
   ]
  },
  {
   "cell_type": "code",
   "execution_count": null,
   "metadata": {},
   "outputs": [],
   "source": []
  },
  {
   "cell_type": "code",
   "execution_count": null,
   "metadata": {},
   "outputs": [],
   "source": []
  }
 ],
 "metadata": {
  "kernelspec": {
   "display_name": "Python 3",
   "language": "python",
   "name": "python3"
  },
  "language_info": {
   "codemirror_mode": {
    "name": "ipython",
    "version": 3
   },
   "file_extension": ".py",
   "mimetype": "text/x-python",
   "name": "python",
   "nbconvert_exporter": "python",
   "pygments_lexer": "ipython3",
   "version": "3.6.7"
  }
 },
 "nbformat": 4,
 "nbformat_minor": 2
}
