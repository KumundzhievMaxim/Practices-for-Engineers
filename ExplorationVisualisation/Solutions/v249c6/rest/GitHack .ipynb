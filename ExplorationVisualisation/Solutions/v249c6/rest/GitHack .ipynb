{
 "cells": [
  {
   "cell_type": "code",
   "execution_count": 1,
   "metadata": {},
   "outputs": [],
   "source": [
    "import requests\n",
    "import json\n",
    "import os\n",
    "import shutil\n",
    "import tempfile"
   ]
  },
  {
   "cell_type": "code",
   "execution_count": 2,
   "metadata": {},
   "outputs": [],
   "source": [
    "user = 'MaximKumundzhiev'\n",
    "token = '3783ea7b8ce2ae64ebd2ade92d4d84f4fbfea488'"
   ]
  },
  {
   "cell_type": "code",
   "execution_count": 4,
   "metadata": {},
   "outputs": [],
   "source": [
    "# #Try to login \n",
    "\n",
    "# headers = {'Authorization': 'token ' + token}\n",
    "\n",
    "# login = requests.get('https://api.github.com/user', headers=headers)\n",
    "# print(login.json())\n",
    "# login.status_code"
   ]
  },
  {
   "cell_type": "code",
   "execution_count": 5,
   "metadata": {},
   "outputs": [],
   "source": [
    "auth = requests.get('https://api.github.com/?access_token=3783ea7b8ce2ae64ebd2ade92d4d84f4fbfea488')"
   ]
  },
  {
   "cell_type": "code",
   "execution_count": 6,
   "metadata": {},
   "outputs": [
    {
     "data": {
      "text/plain": [
       "200"
      ]
     },
     "execution_count": 6,
     "metadata": {},
     "output_type": "execute_result"
    }
   ],
   "source": [
    "auth.status_code"
   ]
  },
  {
   "cell_type": "code",
   "execution_count": 9,
   "metadata": {},
   "outputs": [],
   "source": [
    "###Executed_version\n",
    "user = 'MaximKumundzhiev'\n",
    "token = '3783ea7b8ce2ae64ebd2ade92d4d84f4fbfea488'\n",
    "\n",
    "request = requests.get('https://api.github.com/search/repositories?q=github+api', auth=(user,token))\n",
    "\n",
    "repo = 'Git_Hack'\n",
    "description = 'Created with GitHub API and Love'\n",
    "\n",
    "payload = {'name': repo, 'description': description, 'auto_init': 'true'}\n",
    "\n",
    "login = requests.post('https://api.github.com/' + 'user/repos', auth=(user,token), data=json.dumps(payload))"
   ]
  },
  {
   "cell_type": "code",
   "execution_count": 10,
   "metadata": {},
   "outputs": [
    {
     "data": {
      "text/plain": [
       "404"
      ]
     },
     "execution_count": 10,
     "metadata": {},
     "output_type": "execute_result"
    }
   ],
   "source": [
    "login.status_code"
   ]
  },
  {
   "cell_type": "code",
   "execution_count": null,
   "metadata": {},
   "outputs": [],
   "source": []
  }
 ],
 "metadata": {
  "kernelspec": {
   "display_name": "Python 3",
   "language": "python",
   "name": "python3"
  },
  "language_info": {
   "codemirror_mode": {
    "name": "ipython",
    "version": 3
   },
   "file_extension": ".py",
   "mimetype": "text/x-python",
   "name": "python",
   "nbconvert_exporter": "python",
   "pygments_lexer": "ipython3",
   "version": "3.6.7"
  }
 },
 "nbformat": 4,
 "nbformat_minor": 2
}
