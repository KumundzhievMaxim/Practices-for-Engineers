{
 "cells": [
  {
   "cell_type": "markdown",
   "metadata": {},
   "source": [
    "# Statistics of water data\n",
    "\n",
    "USGS water data are available at https://waterdata.usgs.gov/nwis"
   ]
  },
  {
   "cell_type": "markdown",
   "metadata": {},
   "source": [
    "## 1. Acquire data\n",
    "\n",
    "Use web interface of web service to download historical water flow or gauge data. Try to find a site with as long data set as possible, e.g. site 01589440\n",
    "\n",
    "    curl \"https://nwis.waterdata.usgs.gov/usa/nwis/uv/?cb_00060=on&format=rdb&site_no=01589440&period=&begin_date=1997-01-01&end_date=2018-02-08\" > water.txt\n",
    "    \n",
    "    \"cURL is a tool to transfer data from or to a server, using one of the supported protocols (DICT, FILE, FTP, FTPS, GOPHER, HTTP, HTTPS, IMAP, IMAPS, LDAP, LDAPS, POP3, POP3S, RTMP, RTSP, SCP, SFTP, SMB, SMBS, SMTP, SMTPS, TELNET and TFTP). The command is designed to work without user interaction.\""
   ]
  },
  {
   "cell_type": "code",
   "execution_count": null,
   "metadata": {},
   "outputs": [],
   "source": []
  },
  {
   "cell_type": "markdown",
   "metadata": {},
   "source": [
    "for the following 4 site(s) are contained in water.txt-old\n",
    "*    USGS 01585500 CRANBERRY BRANCH NEAR WESTMINSTER, MD\n",
    "*    USGS 01589440 JONES FALLS AT SORRENTO, MD\n",
    "*    USGS 01639000 MONOCACY RIVER AT BRIDGEPORT, MD\n",
    "*    USGS 01639500 BIG PIPE CREEK AT BRUCEVILLE, MD\n",
    "\n",
    "USGS 01585500 CRANBERRY BRANCH has Ice around 2018-01\n",
    "\n",
    "These sites are located around Baltimore"
   ]
  },
  {
   "cell_type": "markdown",
   "metadata": {},
   "source": [
    "### USGS historical data\n",
    "https://waterdata.usgs.gov/nwis/uv/?referred_module=sw\n",
    "\n",
    "### USGS parameter codes\n",
    "\n",
    "https://help.waterdata.usgs.gov/codes-and-parameters/parameters"
   ]
  },
  {
   "cell_type": "markdown",
   "metadata": {},
   "source": [
    "### REST docs\n",
    "https://waterservices.usgs.gov/rest/Site-Service.html\n",
    "\n",
    "### USGS tutorial\n",
    "https://help.waterdata.usgs.gov/tutorials"
   ]
  },
  {
   "cell_type": "code",
   "execution_count": 1,
   "metadata": {
    "ExecuteTime": {
     "end_time": "2018-02-21T22:08:40.159141Z",
     "start_time": "2018-02-21T22:08:39.681164Z"
    }
   },
   "outputs": [
    {
     "name": "stdout",
     "output_type": "stream",
     "text": [
      "Populating the interactive namespace from numpy and matplotlib\n"
     ]
    }
   ],
   "source": [
    "%pylab inline"
   ]
  },
  {
   "cell_type": "code",
   "execution_count": 2,
   "metadata": {
    "ExecuteTime": {
     "end_time": "2018-02-21T22:29:33.794364Z",
     "start_time": "2018-02-21T22:29:33.779905Z"
    }
   },
   "outputs": [],
   "source": [
    "import pandas as pd\n",
    "#from __future__ import print_function\n",
    "from ipywidgets import interact, interactive, fixed, interact_manual\n",
    "import ipywidgets as widgets\n",
    "from scipy.optimize import curve_fit\n",
    "from scipy import signal\n",
    "from scipy import stats\n",
    "import math as math\n",
    "import pycurl\n",
    "from io import BytesIO"
   ]
  },
  {
   "cell_type": "markdown",
   "metadata": {},
   "source": [
    "Retrieve data"
   ]
  },
  {
   "cell_type": "code",
   "execution_count": 3,
   "metadata": {},
   "outputs": [],
   "source": [
    "def get_site_url( site_number='01589440', date_from=\"2008-01-01\", date_to=\"2017-12-31\" ): \n",
    "    # input: site_number is a string\n",
    "    # the parameters in the url can have different formats. cb_00065 is the same as parameterCd=00060\n",
    "    \n",
    "    #url = 'https://nwis.waterdata.usgs.gov/nwis/uv/?cb_00065=on&format=rdb&site_no=%s&period=&begin_date=%s\\\n",
    "#&end_date=%s&siteStatus=all'%(site_number, date_from, date_to)\n",
    "\n",
    "    url = 'https://nwis.waterdata.usgs.gov/nwis/uv/?parameterCd=00060,00065&format=rdb&site_no=%s&period=&begin_date=%s\\\n",
    "&end_date=%s&siteStatus=all'%(site_number, date_from, date_to)\n",
    "    return url\n",
    "\n",
    "def download_data_from_url( url, savename='test.csv' ):\n",
    "    ''' \n",
    "    One can download data with a different method that supports resume. If data is two large then it takes\n",
    "    lot of time and the connection to the server might be interrupted.\n",
    "    '''\n",
    "    \n",
    "    buffer = BytesIO()\n",
    "    c = pycurl.Curl()\n",
    "    c.setopt(c.URL, url)\n",
    "    c.setopt(c.WRITEDATA, buffer)\n",
    "    c.perform()\n",
    "    c.close()\n",
    "\n",
    "    body = buffer.getvalue() # Body is a byte string.\n",
    "    with open( savename, 'w' ) as output:\n",
    "        output.write( body.decode('utf-8')) # We have to know the encoding in order to print it to a text file"
   ]
  },
  {
   "cell_type": "markdown",
   "metadata": {},
   "source": [
    "### Let's download last year's data for site 01589440"
   ]
  },
  {
   "cell_type": "code",
   "execution_count": 4,
   "metadata": {},
   "outputs": [],
   "source": [
    "site_number = '01589440'\n",
    "date_from = \"2008-01-01\"\n",
    "date_to = \"2017-12-31\"\n",
    "url = get_site_url(site_number, date_from, date_to)\n",
    "download_data_from_url(url, \"%s.csv\"%site_number)"
   ]
  },
  {
   "cell_type": "code",
   "execution_count": 5,
   "metadata": {
    "ExecuteTime": {
     "end_time": "2018-02-20T07:44:23.153776Z",
     "start_time": "2018-02-20T07:44:22.891367Z"
    }
   },
   "outputs": [
    {
     "name": "stdout",
     "output_type": "stream",
     "text": [
      "# ---------------------------------- WARNING ----------------------------------------\r\n",
      "# Some of the data that you have obtained from this U.S. Geological Survey database\r\n",
      "# may not have received Director's approval. Any such data values are qualified\r\n",
      "# as provisional and are subject to revision. Provisional data are released on the\r\n",
      "# condition that neither the USGS nor the United States Government may be held liable\r\n",
      "# for any damages resulting from its use.\r\n",
      "#\r\n",
      "# Additional info: https://help.waterdata.usgs.gov/policies/provisional-data-statement\r\n",
      "#\r\n",
      "# File-format description:  https://help.waterdata.usgs.gov/faq/about-tab-delimited-output\r\n",
      "# Automated-retrieval info: https://help.waterdata.usgs.gov/faq/automated-retrievals\r\n",
      "#\r\n",
      "# Contact:   gs-w_support_nwisweb@usgs.gov\r\n",
      "# retrieved: 2019-04-25 18:37:47 EDT       (nadww02)\r\n",
      "#\r\n",
      "# Data for the following 1 site(s) are contained in this file\r\n",
      "#    USGS 01589440 JONES FALLS AT SORRENTO, MD\r\n",
      "# -----------------------------------------------------------------------------------\r\n",
      "#\r\n",
      "# Data provided for site 01589440\r\n",
      "#            TS   parameter     Description\r\n",
      "#         69744       00060     Discharge, cubic feet per second\r\n",
      "#         69745       00065     Gage height, feet\r\n",
      "#\r\n",
      "# Data-value qualification codes included in this output:\r\n",
      "#        \r\n",
      "#     A  Approved for publication -- Processing and review completed.\r\n",
      "#     e  Value has been estimated.\r\n",
      "# \r\n",
      "agency_cd\tsite_no\tdatetime\ttz_cd\t69744_00060\t69744_00060_cd\t69745_00065\t69745_00065_cd\r\n",
      "5s\t15s\t20d\t6s\t14n\t10s\t14n\t10s\r\n",
      "USGS\t01589440\t2008-01-01 00:00\tEST\t18.5\tA\t3.49\tA\r\n",
      "USGS\t01589440\t2008-01-01 00:15\tEST\t18.5\tA\t3.49\tA\r\n",
      "USGS\t01589440\t2008-01-01 00:30\tEST\t18.5\tA\t3.49\tA\r\n",
      "USGS\t01589440\t2008-01-01 00:45\tEST\t18.5\tA\t3.49\tA\r\n"
     ]
    }
   ],
   "source": [
    "!head -n 35 01589440.csv"
   ]
  },
  {
   "cell_type": "markdown",
   "metadata": {},
   "source": [
    "### It is clear that some rows need to be skipped when reading the datafile"
   ]
  },
  {
   "cell_type": "code",
   "execution_count": 64,
   "metadata": {
    "ExecuteTime": {
     "end_time": "2018-02-21T22:08:44.275816Z",
     "start_time": "2018-02-21T22:08:42.338860Z"
    }
   },
   "outputs": [],
   "source": [
    "data = pd.read_csv(\"01585500.csv\", sep='\\t', comment='#', header=0, skiprows=[33], parse_dates=[2])\n",
    "data = pd.read_csv(\"01589440.csv\", sep='\\t', comment='#', header=0, skiprows=[31], parse_dates=[2])\n"
   ]
  },
  {
   "cell_type": "code",
   "execution_count": null,
   "metadata": {},
   "outputs": [],
   "source": []
  },
  {
   "cell_type": "markdown",
   "metadata": {},
   "source": [
    "#### Convert date into Unix timestamp"
   ]
  },
  {
   "cell_type": "code",
   "execution_count": 75,
   "metadata": {},
   "outputs": [],
   "source": [
    "#data.head()\n",
    "data = data.drop(data.index[0])\n"
   ]
  },
  {
   "cell_type": "code",
   "execution_count": 78,
   "metadata": {},
   "outputs": [
    {
     "data": {
      "text/html": [
       "<div>\n",
       "<style scoped>\n",
       "    .dataframe tbody tr th:only-of-type {\n",
       "        vertical-align: middle;\n",
       "    }\n",
       "\n",
       "    .dataframe tbody tr th {\n",
       "        vertical-align: top;\n",
       "    }\n",
       "\n",
       "    .dataframe thead th {\n",
       "        text-align: right;\n",
       "    }\n",
       "</style>\n",
       "<table border=\"1\" class=\"dataframe\">\n",
       "  <thead>\n",
       "    <tr style=\"text-align: right;\">\n",
       "      <th></th>\n",
       "      <th>agency_cd</th>\n",
       "      <th>site_no</th>\n",
       "      <th>datetime</th>\n",
       "      <th>tz_cd</th>\n",
       "      <th>69744_00060</th>\n",
       "      <th>69744_00060_cd</th>\n",
       "      <th>69745_00065</th>\n",
       "      <th>69745_00065_cd</th>\n",
       "    </tr>\n",
       "  </thead>\n",
       "  <tbody>\n",
       "    <tr>\n",
       "      <th>1</th>\n",
       "      <td>USGS</td>\n",
       "      <td>01589440</td>\n",
       "      <td>2008-01-01 00:15</td>\n",
       "      <td>EST</td>\n",
       "      <td>18.5</td>\n",
       "      <td>A</td>\n",
       "      <td>3.49</td>\n",
       "      <td>A</td>\n",
       "    </tr>\n",
       "    <tr>\n",
       "      <th>2</th>\n",
       "      <td>USGS</td>\n",
       "      <td>01589440</td>\n",
       "      <td>2008-01-01 00:30</td>\n",
       "      <td>EST</td>\n",
       "      <td>18.5</td>\n",
       "      <td>A</td>\n",
       "      <td>3.49</td>\n",
       "      <td>A</td>\n",
       "    </tr>\n",
       "    <tr>\n",
       "      <th>3</th>\n",
       "      <td>USGS</td>\n",
       "      <td>01589440</td>\n",
       "      <td>2008-01-01 00:45</td>\n",
       "      <td>EST</td>\n",
       "      <td>18.5</td>\n",
       "      <td>A</td>\n",
       "      <td>3.49</td>\n",
       "      <td>A</td>\n",
       "    </tr>\n",
       "    <tr>\n",
       "      <th>4</th>\n",
       "      <td>USGS</td>\n",
       "      <td>01589440</td>\n",
       "      <td>2008-01-01 01:00</td>\n",
       "      <td>EST</td>\n",
       "      <td>18.5</td>\n",
       "      <td>A</td>\n",
       "      <td>3.49</td>\n",
       "      <td>A</td>\n",
       "    </tr>\n",
       "    <tr>\n",
       "      <th>5</th>\n",
       "      <td>USGS</td>\n",
       "      <td>01589440</td>\n",
       "      <td>2008-01-01 01:15</td>\n",
       "      <td>EST</td>\n",
       "      <td>18.0</td>\n",
       "      <td>A</td>\n",
       "      <td>3.48</td>\n",
       "      <td>A</td>\n",
       "    </tr>\n",
       "  </tbody>\n",
       "</table>\n",
       "</div>"
      ],
      "text/plain": [
       "  agency_cd   site_no          datetime tz_cd 69744_00060 69744_00060_cd  \\\n",
       "1      USGS  01589440  2008-01-01 00:15   EST        18.5              A   \n",
       "2      USGS  01589440  2008-01-01 00:30   EST        18.5              A   \n",
       "3      USGS  01589440  2008-01-01 00:45   EST        18.5              A   \n",
       "4      USGS  01589440  2008-01-01 01:00   EST        18.5              A   \n",
       "5      USGS  01589440  2008-01-01 01:15   EST        18.0              A   \n",
       "\n",
       "  69745_00065 69745_00065_cd  \n",
       "1        3.49              A  \n",
       "2        3.49              A  \n",
       "3        3.49              A  \n",
       "4        3.49              A  \n",
       "5        3.48              A  "
      ]
     },
     "execution_count": 78,
     "metadata": {},
     "output_type": "execute_result"
    }
   ],
   "source": [
    "#data['ts'] = ata['datetime']\n",
    "data.head()\n"
   ]
  },
  {
   "cell_type": "code",
   "execution_count": 79,
   "metadata": {},
   "outputs": [
    {
     "ename": "AttributeError",
     "evalue": "'str' object has no attribute 'timestamp'",
     "output_type": "error",
     "traceback": [
      "\u001b[0;31m---------------------------------------------------------------------------\u001b[0m",
      "\u001b[0;31mAttributeError\u001b[0m                            Traceback (most recent call last)",
      "\u001b[0;32m<ipython-input-79-af9bb6f5dc0f>\u001b[0m in \u001b[0;36m<module>\u001b[0;34m\u001b[0m\n\u001b[0;32m----> 1\u001b[0;31m \u001b[0mdata\u001b[0m\u001b[0;34m[\u001b[0m\u001b[0;34m'ts'\u001b[0m\u001b[0;34m]\u001b[0m \u001b[0;34m=\u001b[0m \u001b[0mdata\u001b[0m\u001b[0;34m.\u001b[0m\u001b[0mdatetime\u001b[0m\u001b[0;34m.\u001b[0m\u001b[0mmap\u001b[0m\u001b[0;34m(\u001b[0m\u001b[0;32mlambda\u001b[0m \u001b[0mx\u001b[0m\u001b[0;34m:\u001b[0m \u001b[0mx\u001b[0m\u001b[0;34m.\u001b[0m\u001b[0mtimestamp\u001b[0m\u001b[0;34m(\u001b[0m\u001b[0;34m)\u001b[0m\u001b[0;34m)\u001b[0m\u001b[0;34m\u001b[0m\u001b[0m\n\u001b[0m",
      "\u001b[0;32m/opt/conda/lib/python3.6/site-packages/pandas/core/series.py\u001b[0m in \u001b[0;36mmap\u001b[0;34m(self, arg, na_action)\u001b[0m\n\u001b[1;32m   3380\u001b[0m         \"\"\"\n\u001b[1;32m   3381\u001b[0m         new_values = super(Series, self)._map_values(\n\u001b[0;32m-> 3382\u001b[0;31m             arg, na_action=na_action)\n\u001b[0m\u001b[1;32m   3383\u001b[0m         return self._constructor(new_values,\n\u001b[1;32m   3384\u001b[0m                                  index=self.index).__finalize__(self)\n",
      "\u001b[0;32m/opt/conda/lib/python3.6/site-packages/pandas/core/base.py\u001b[0m in \u001b[0;36m_map_values\u001b[0;34m(self, mapper, na_action)\u001b[0m\n\u001b[1;32m   1216\u001b[0m \u001b[0;34m\u001b[0m\u001b[0m\n\u001b[1;32m   1217\u001b[0m         \u001b[0;31m# mapper is a function\u001b[0m\u001b[0;34m\u001b[0m\u001b[0;34m\u001b[0m\u001b[0m\n\u001b[0;32m-> 1218\u001b[0;31m         \u001b[0mnew_values\u001b[0m \u001b[0;34m=\u001b[0m \u001b[0mmap_f\u001b[0m\u001b[0;34m(\u001b[0m\u001b[0mvalues\u001b[0m\u001b[0;34m,\u001b[0m \u001b[0mmapper\u001b[0m\u001b[0;34m)\u001b[0m\u001b[0;34m\u001b[0m\u001b[0m\n\u001b[0m\u001b[1;32m   1219\u001b[0m \u001b[0;34m\u001b[0m\u001b[0m\n\u001b[1;32m   1220\u001b[0m         \u001b[0;32mreturn\u001b[0m \u001b[0mnew_values\u001b[0m\u001b[0;34m\u001b[0m\u001b[0m\n",
      "\u001b[0;32mpandas/_libs/lib.pyx\u001b[0m in \u001b[0;36mpandas._libs.lib.map_infer\u001b[0;34m()\u001b[0m\n",
      "\u001b[0;32m<ipython-input-79-af9bb6f5dc0f>\u001b[0m in \u001b[0;36m<lambda>\u001b[0;34m(x)\u001b[0m\n\u001b[0;32m----> 1\u001b[0;31m \u001b[0mdata\u001b[0m\u001b[0;34m[\u001b[0m\u001b[0;34m'ts'\u001b[0m\u001b[0;34m]\u001b[0m \u001b[0;34m=\u001b[0m \u001b[0mdata\u001b[0m\u001b[0;34m.\u001b[0m\u001b[0mdatetime\u001b[0m\u001b[0;34m.\u001b[0m\u001b[0mmap\u001b[0m\u001b[0;34m(\u001b[0m\u001b[0;32mlambda\u001b[0m \u001b[0mx\u001b[0m\u001b[0;34m:\u001b[0m \u001b[0mx\u001b[0m\u001b[0;34m.\u001b[0m\u001b[0mtimestamp\u001b[0m\u001b[0;34m(\u001b[0m\u001b[0;34m)\u001b[0m\u001b[0;34m)\u001b[0m\u001b[0;34m\u001b[0m\u001b[0m\n\u001b[0m",
      "\u001b[0;31mAttributeError\u001b[0m: 'str' object has no attribute 'timestamp'"
     ]
    }
   ],
   "source": [
    "data['ts'] = data.datetime.map(lambda x: x.timestamp())"
   ]
  },
  {
   "cell_type": "markdown",
   "metadata": {},
   "source": [
    "### Plot two quantities with pandas on different scales\n",
    "\n",
    "For that we rename the two columns with data"
   ]
  },
  {
   "cell_type": "code",
   "execution_count": 80,
   "metadata": {},
   "outputs": [],
   "source": [
    "data = data.rename(index=str, columns={\"69744_00060\": \"Discharge\"})\n",
    "data = data.rename(index=str, columns={\"69745_00065\": \"GageHeight\"})"
   ]
  },
  {
   "cell_type": "code",
   "execution_count": 82,
   "metadata": {},
   "outputs": [
    {
     "data": {
      "text/html": [
       "<div>\n",
       "<style scoped>\n",
       "    .dataframe tbody tr th:only-of-type {\n",
       "        vertical-align: middle;\n",
       "    }\n",
       "\n",
       "    .dataframe tbody tr th {\n",
       "        vertical-align: top;\n",
       "    }\n",
       "\n",
       "    .dataframe thead th {\n",
       "        text-align: right;\n",
       "    }\n",
       "</style>\n",
       "<table border=\"1\" class=\"dataframe\">\n",
       "  <thead>\n",
       "    <tr style=\"text-align: right;\">\n",
       "      <th></th>\n",
       "      <th>agency_cd</th>\n",
       "      <th>site_no</th>\n",
       "      <th>datetime</th>\n",
       "      <th>tz_cd</th>\n",
       "      <th>Discharge</th>\n",
       "      <th>69744_00060_cd</th>\n",
       "      <th>GageHeight</th>\n",
       "      <th>69745_00065_cd</th>\n",
       "    </tr>\n",
       "  </thead>\n",
       "  <tbody>\n",
       "    <tr>\n",
       "      <th>1</th>\n",
       "      <td>USGS</td>\n",
       "      <td>01589440</td>\n",
       "      <td>2008-01-01 00:15</td>\n",
       "      <td>EST</td>\n",
       "      <td>18.5</td>\n",
       "      <td>A</td>\n",
       "      <td>3.49</td>\n",
       "      <td>A</td>\n",
       "    </tr>\n",
       "    <tr>\n",
       "      <th>2</th>\n",
       "      <td>USGS</td>\n",
       "      <td>01589440</td>\n",
       "      <td>2008-01-01 00:30</td>\n",
       "      <td>EST</td>\n",
       "      <td>18.5</td>\n",
       "      <td>A</td>\n",
       "      <td>3.49</td>\n",
       "      <td>A</td>\n",
       "    </tr>\n",
       "    <tr>\n",
       "      <th>3</th>\n",
       "      <td>USGS</td>\n",
       "      <td>01589440</td>\n",
       "      <td>2008-01-01 00:45</td>\n",
       "      <td>EST</td>\n",
       "      <td>18.5</td>\n",
       "      <td>A</td>\n",
       "      <td>3.49</td>\n",
       "      <td>A</td>\n",
       "    </tr>\n",
       "    <tr>\n",
       "      <th>4</th>\n",
       "      <td>USGS</td>\n",
       "      <td>01589440</td>\n",
       "      <td>2008-01-01 01:00</td>\n",
       "      <td>EST</td>\n",
       "      <td>18.5</td>\n",
       "      <td>A</td>\n",
       "      <td>3.49</td>\n",
       "      <td>A</td>\n",
       "    </tr>\n",
       "    <tr>\n",
       "      <th>5</th>\n",
       "      <td>USGS</td>\n",
       "      <td>01589440</td>\n",
       "      <td>2008-01-01 01:15</td>\n",
       "      <td>EST</td>\n",
       "      <td>18.0</td>\n",
       "      <td>A</td>\n",
       "      <td>3.48</td>\n",
       "      <td>A</td>\n",
       "    </tr>\n",
       "  </tbody>\n",
       "</table>\n",
       "</div>"
      ],
      "text/plain": [
       "  agency_cd   site_no          datetime tz_cd Discharge 69744_00060_cd  \\\n",
       "1      USGS  01589440  2008-01-01 00:15   EST      18.5              A   \n",
       "2      USGS  01589440  2008-01-01 00:30   EST      18.5              A   \n",
       "3      USGS  01589440  2008-01-01 00:45   EST      18.5              A   \n",
       "4      USGS  01589440  2008-01-01 01:00   EST      18.5              A   \n",
       "5      USGS  01589440  2008-01-01 01:15   EST      18.0              A   \n",
       "\n",
       "  GageHeight 69745_00065_cd  \n",
       "1       3.49              A  \n",
       "2       3.49              A  \n",
       "3       3.49              A  \n",
       "4       3.49              A  \n",
       "5       3.48              A  "
      ]
     },
     "execution_count": 82,
     "metadata": {},
     "output_type": "execute_result"
    }
   ],
   "source": [
    "data.head()"
   ]
  },
  {
   "cell_type": "code",
   "execution_count": 84,
   "metadata": {},
   "outputs": [
    {
     "ename": "TypeError",
     "evalue": "Empty 'DataFrame': no numeric data to plot",
     "output_type": "error",
     "traceback": [
      "\u001b[0;31m---------------------------------------------------------------------------\u001b[0m",
      "\u001b[0;31mTypeError\u001b[0m                                 Traceback (most recent call last)",
      "\u001b[0;32m<ipython-input-84-34c5d5b3c4be>\u001b[0m in \u001b[0;36m<module>\u001b[0;34m\u001b[0m\n\u001b[1;32m      3\u001b[0m \u001b[0mplt\u001b[0m\u001b[0;34m.\u001b[0m\u001b[0mxlabel\u001b[0m\u001b[0;34m(\u001b[0m\u001b[0;34m'Time measured from epoch (1970) [s]'\u001b[0m\u001b[0;34m)\u001b[0m\u001b[0;34m\u001b[0m\u001b[0m\n\u001b[1;32m      4\u001b[0m \u001b[0;34m\u001b[0m\u001b[0m\n\u001b[0;32m----> 5\u001b[0;31m \u001b[0max1\u001b[0m \u001b[0;34m=\u001b[0m \u001b[0mdata\u001b[0m\u001b[0;34m[\u001b[0m\u001b[0;34m'Discharge'\u001b[0m\u001b[0;34m]\u001b[0m\u001b[0;34m.\u001b[0m\u001b[0mplot\u001b[0m\u001b[0;34m(\u001b[0m\u001b[0mcolor\u001b[0m\u001b[0;34m=\u001b[0m\u001b[0;34m'blue'\u001b[0m\u001b[0;34m,\u001b[0m \u001b[0mgrid\u001b[0m\u001b[0;34m=\u001b[0m\u001b[0;32mTrue\u001b[0m\u001b[0;34m,\u001b[0m \u001b[0mlabel\u001b[0m\u001b[0;34m=\u001b[0m\u001b[0;34m'Discharge'\u001b[0m\u001b[0;34m)\u001b[0m\u001b[0;34m\u001b[0m\u001b[0m\n\u001b[0m\u001b[1;32m      6\u001b[0m \u001b[0max1\u001b[0m\u001b[0;34m.\u001b[0m\u001b[0mset_ylabel\u001b[0m\u001b[0;34m(\u001b[0m\u001b[0;34m'Discharge [feet$^3$]'\u001b[0m\u001b[0;34m)\u001b[0m\u001b[0;34m\u001b[0m\u001b[0m\n\u001b[1;32m      7\u001b[0m \u001b[0;31m# ax2 = data.GageHeight.plot(color='red', grid=True, secondary_y=True, label='Gage Height')\u001b[0m\u001b[0;34m\u001b[0m\u001b[0;34m\u001b[0m\u001b[0m\n",
      "\u001b[0;32m/opt/conda/lib/python3.6/site-packages/pandas/plotting/_core.py\u001b[0m in \u001b[0;36m__call__\u001b[0;34m(self, kind, ax, figsize, use_index, title, grid, legend, style, logx, logy, loglog, xticks, yticks, xlim, ylim, rot, fontsize, colormap, table, yerr, xerr, label, secondary_y, **kwds)\u001b[0m\n\u001b[1;32m   2740\u001b[0m                            \u001b[0mcolormap\u001b[0m\u001b[0;34m=\u001b[0m\u001b[0mcolormap\u001b[0m\u001b[0;34m,\u001b[0m \u001b[0mtable\u001b[0m\u001b[0;34m=\u001b[0m\u001b[0mtable\u001b[0m\u001b[0;34m,\u001b[0m \u001b[0myerr\u001b[0m\u001b[0;34m=\u001b[0m\u001b[0myerr\u001b[0m\u001b[0;34m,\u001b[0m\u001b[0;34m\u001b[0m\u001b[0m\n\u001b[1;32m   2741\u001b[0m                            \u001b[0mxerr\u001b[0m\u001b[0;34m=\u001b[0m\u001b[0mxerr\u001b[0m\u001b[0;34m,\u001b[0m \u001b[0mlabel\u001b[0m\u001b[0;34m=\u001b[0m\u001b[0mlabel\u001b[0m\u001b[0;34m,\u001b[0m \u001b[0msecondary_y\u001b[0m\u001b[0;34m=\u001b[0m\u001b[0msecondary_y\u001b[0m\u001b[0;34m,\u001b[0m\u001b[0;34m\u001b[0m\u001b[0m\n\u001b[0;32m-> 2742\u001b[0;31m                            **kwds)\n\u001b[0m\u001b[1;32m   2743\u001b[0m     \u001b[0m__call__\u001b[0m\u001b[0;34m.\u001b[0m\u001b[0m__doc__\u001b[0m \u001b[0;34m=\u001b[0m \u001b[0mplot_series\u001b[0m\u001b[0;34m.\u001b[0m\u001b[0m__doc__\u001b[0m\u001b[0;34m\u001b[0m\u001b[0m\n\u001b[1;32m   2744\u001b[0m \u001b[0;34m\u001b[0m\u001b[0m\n",
      "\u001b[0;32m/opt/conda/lib/python3.6/site-packages/pandas/plotting/_core.py\u001b[0m in \u001b[0;36mplot_series\u001b[0;34m(data, kind, ax, figsize, use_index, title, grid, legend, style, logx, logy, loglog, xticks, yticks, xlim, ylim, rot, fontsize, colormap, table, yerr, xerr, label, secondary_y, **kwds)\u001b[0m\n\u001b[1;32m   1996\u001b[0m                  \u001b[0myerr\u001b[0m\u001b[0;34m=\u001b[0m\u001b[0myerr\u001b[0m\u001b[0;34m,\u001b[0m \u001b[0mxerr\u001b[0m\u001b[0;34m=\u001b[0m\u001b[0mxerr\u001b[0m\u001b[0;34m,\u001b[0m\u001b[0;34m\u001b[0m\u001b[0m\n\u001b[1;32m   1997\u001b[0m                  \u001b[0mlabel\u001b[0m\u001b[0;34m=\u001b[0m\u001b[0mlabel\u001b[0m\u001b[0;34m,\u001b[0m \u001b[0msecondary_y\u001b[0m\u001b[0;34m=\u001b[0m\u001b[0msecondary_y\u001b[0m\u001b[0;34m,\u001b[0m\u001b[0;34m\u001b[0m\u001b[0m\n\u001b[0;32m-> 1998\u001b[0;31m                  **kwds)\n\u001b[0m\u001b[1;32m   1999\u001b[0m \u001b[0;34m\u001b[0m\u001b[0m\n\u001b[1;32m   2000\u001b[0m \u001b[0;34m\u001b[0m\u001b[0m\n",
      "\u001b[0;32m/opt/conda/lib/python3.6/site-packages/pandas/plotting/_core.py\u001b[0m in \u001b[0;36m_plot\u001b[0;34m(data, x, y, subplots, ax, kind, **kwds)\u001b[0m\n\u001b[1;32m   1799\u001b[0m         \u001b[0mplot_obj\u001b[0m \u001b[0;34m=\u001b[0m \u001b[0mklass\u001b[0m\u001b[0;34m(\u001b[0m\u001b[0mdata\u001b[0m\u001b[0;34m,\u001b[0m \u001b[0msubplots\u001b[0m\u001b[0;34m=\u001b[0m\u001b[0msubplots\u001b[0m\u001b[0;34m,\u001b[0m \u001b[0max\u001b[0m\u001b[0;34m=\u001b[0m\u001b[0max\u001b[0m\u001b[0;34m,\u001b[0m \u001b[0mkind\u001b[0m\u001b[0;34m=\u001b[0m\u001b[0mkind\u001b[0m\u001b[0;34m,\u001b[0m \u001b[0;34m**\u001b[0m\u001b[0mkwds\u001b[0m\u001b[0;34m)\u001b[0m\u001b[0;34m\u001b[0m\u001b[0m\n\u001b[1;32m   1800\u001b[0m \u001b[0;34m\u001b[0m\u001b[0m\n\u001b[0;32m-> 1801\u001b[0;31m     \u001b[0mplot_obj\u001b[0m\u001b[0;34m.\u001b[0m\u001b[0mgenerate\u001b[0m\u001b[0;34m(\u001b[0m\u001b[0;34m)\u001b[0m\u001b[0;34m\u001b[0m\u001b[0m\n\u001b[0m\u001b[1;32m   1802\u001b[0m     \u001b[0mplot_obj\u001b[0m\u001b[0;34m.\u001b[0m\u001b[0mdraw\u001b[0m\u001b[0;34m(\u001b[0m\u001b[0;34m)\u001b[0m\u001b[0;34m\u001b[0m\u001b[0m\n\u001b[1;32m   1803\u001b[0m     \u001b[0;32mreturn\u001b[0m \u001b[0mplot_obj\u001b[0m\u001b[0;34m.\u001b[0m\u001b[0mresult\u001b[0m\u001b[0;34m\u001b[0m\u001b[0m\n",
      "\u001b[0;32m/opt/conda/lib/python3.6/site-packages/pandas/plotting/_core.py\u001b[0m in \u001b[0;36mgenerate\u001b[0;34m(self)\u001b[0m\n\u001b[1;32m    247\u001b[0m     \u001b[0;32mdef\u001b[0m \u001b[0mgenerate\u001b[0m\u001b[0;34m(\u001b[0m\u001b[0mself\u001b[0m\u001b[0;34m)\u001b[0m\u001b[0;34m:\u001b[0m\u001b[0;34m\u001b[0m\u001b[0m\n\u001b[1;32m    248\u001b[0m         \u001b[0mself\u001b[0m\u001b[0;34m.\u001b[0m\u001b[0m_args_adjust\u001b[0m\u001b[0;34m(\u001b[0m\u001b[0;34m)\u001b[0m\u001b[0;34m\u001b[0m\u001b[0m\n\u001b[0;32m--> 249\u001b[0;31m         \u001b[0mself\u001b[0m\u001b[0;34m.\u001b[0m\u001b[0m_compute_plot_data\u001b[0m\u001b[0;34m(\u001b[0m\u001b[0;34m)\u001b[0m\u001b[0;34m\u001b[0m\u001b[0m\n\u001b[0m\u001b[1;32m    250\u001b[0m         \u001b[0mself\u001b[0m\u001b[0;34m.\u001b[0m\u001b[0m_setup_subplots\u001b[0m\u001b[0;34m(\u001b[0m\u001b[0;34m)\u001b[0m\u001b[0;34m\u001b[0m\u001b[0m\n\u001b[1;32m    251\u001b[0m         \u001b[0mself\u001b[0m\u001b[0;34m.\u001b[0m\u001b[0m_make_plot\u001b[0m\u001b[0;34m(\u001b[0m\u001b[0;34m)\u001b[0m\u001b[0;34m\u001b[0m\u001b[0m\n",
      "\u001b[0;32m/opt/conda/lib/python3.6/site-packages/pandas/plotting/_core.py\u001b[0m in \u001b[0;36m_compute_plot_data\u001b[0;34m(self)\u001b[0m\n\u001b[1;32m    365\u001b[0m         \u001b[0;32mif\u001b[0m \u001b[0mis_empty\u001b[0m\u001b[0;34m:\u001b[0m\u001b[0;34m\u001b[0m\u001b[0m\n\u001b[1;32m    366\u001b[0m             raise TypeError('Empty {0!r}: no numeric data to '\n\u001b[0;32m--> 367\u001b[0;31m                             'plot'.format(numeric_data.__class__.__name__))\n\u001b[0m\u001b[1;32m    368\u001b[0m \u001b[0;34m\u001b[0m\u001b[0m\n\u001b[1;32m    369\u001b[0m         \u001b[0mself\u001b[0m\u001b[0;34m.\u001b[0m\u001b[0mdata\u001b[0m \u001b[0;34m=\u001b[0m \u001b[0mnumeric_data\u001b[0m\u001b[0;34m\u001b[0m\u001b[0m\n",
      "\u001b[0;31mTypeError\u001b[0m: Empty 'DataFrame': no numeric data to plot"
     ]
    },
    {
     "data": {
      "image/png": "[encoded data removed]",
      "text/plain": [
       "<Figure size 864x360 with 1 Axes>"
      ]
     },
     "metadata": {
      "needs_background": "light"
     },
     "output_type": "display_data"
    }
   ],
   "source": [
    "plt.figure(figsize=(12,5))\n",
    "plt.title('The 2 quantity should be linearly dependent unless the crosssection changes with the height')\n",
    "plt.xlabel('Time measured from epoch (1970) [s]')\n",
    "\n",
    "ax1 = data['Discharge'].plot(color='blue', grid=True, label='Discharge')\n",
    "ax1.set_ylabel('Discharge [feet$^3$]')\n",
    "# ax2 = data.GageHeight.plot(color='red', grid=True, secondary_y=True, label='Gage Height')\n",
    "# ax2.set_ylabel('Gage height [feet]')\n",
    "# h1, l1 = ax1.get_legend_handles_labels()\n",
    "# h2, l2 = ax2.get_legend_handles_labels()\n",
    "# plt.legend(h1+h2, l1+l2, loc=2)\n",
    "plt.show()"
   ]
  },
  {
   "cell_type": "markdown",
   "metadata": {},
   "source": [
    "### Clean the data"
   ]
  },
  {
   "cell_type": "code",
   "execution_count": 15,
   "metadata": {},
   "outputs": [],
   "source": [
    "# Now Download the data for another river\n",
    "site_number = '01585500'\n",
    "date_from = \"2017-10-01\"\n",
    "date_to = \"2018-09-30\"\n",
    "url = get_site_url(site_number, date_from, date_to)\n",
    "download_data_from_url(url, \"%s-ice.csv\"%site_number)"
   ]
  },
  {
   "cell_type": "code",
   "execution_count": 16,
   "metadata": {},
   "outputs": [
    {
     "data": {
      "text/html": [
       "<div>\n",
       "<style scoped>\n",
       "    .dataframe tbody tr th:only-of-type {\n",
       "        vertical-align: middle;\n",
       "    }\n",
       "\n",
       "    .dataframe tbody tr th {\n",
       "        vertical-align: top;\n",
       "    }\n",
       "\n",
       "    .dataframe thead th {\n",
       "        text-align: right;\n",
       "    }\n",
       "</style>\n",
       "<table border=\"1\" class=\"dataframe\">\n",
       "  <thead>\n",
       "    <tr style=\"text-align: right;\">\n",
       "      <th></th>\n",
       "      <th>agency_cd</th>\n",
       "      <th>site_no</th>\n",
       "      <th>datetime</th>\n",
       "      <th>tz_cd</th>\n",
       "      <th>Discharge</th>\n",
       "      <th>69679_00060_cd</th>\n",
       "      <th>GageHeight</th>\n",
       "      <th>69680_00065_cd</th>\n",
       "      <th>ts</th>\n",
       "    </tr>\n",
       "  </thead>\n",
       "  <tbody>\n",
       "    <tr>\n",
       "      <th>0</th>\n",
       "      <td>USGS</td>\n",
       "      <td>1585500</td>\n",
       "      <td>2017-10-01 00:00:00</td>\n",
       "      <td>EDT</td>\n",
       "      <td>0.30</td>\n",
       "      <td>A</td>\n",
       "      <td>1.24</td>\n",
       "      <td>A</td>\n",
       "      <td>1.506816e+09</td>\n",
       "    </tr>\n",
       "    <tr>\n",
       "      <th>1</th>\n",
       "      <td>USGS</td>\n",
       "      <td>1585500</td>\n",
       "      <td>2017-10-01 00:15:00</td>\n",
       "      <td>EDT</td>\n",
       "      <td>0.30</td>\n",
       "      <td>A</td>\n",
       "      <td>1.24</td>\n",
       "      <td>A</td>\n",
       "      <td>1.506817e+09</td>\n",
       "    </tr>\n",
       "    <tr>\n",
       "      <th>2</th>\n",
       "      <td>USGS</td>\n",
       "      <td>1585500</td>\n",
       "      <td>2017-10-01 00:30:00</td>\n",
       "      <td>EDT</td>\n",
       "      <td>0.30</td>\n",
       "      <td>A</td>\n",
       "      <td>1.24</td>\n",
       "      <td>A</td>\n",
       "      <td>1.506818e+09</td>\n",
       "    </tr>\n",
       "    <tr>\n",
       "      <th>3</th>\n",
       "      <td>USGS</td>\n",
       "      <td>1585500</td>\n",
       "      <td>2017-10-01 00:45:00</td>\n",
       "      <td>EDT</td>\n",
       "      <td>0.30</td>\n",
       "      <td>A</td>\n",
       "      <td>1.24</td>\n",
       "      <td>A</td>\n",
       "      <td>1.506819e+09</td>\n",
       "    </tr>\n",
       "    <tr>\n",
       "      <th>4</th>\n",
       "      <td>USGS</td>\n",
       "      <td>1585500</td>\n",
       "      <td>2017-10-01 01:00:00</td>\n",
       "      <td>EDT</td>\n",
       "      <td>0.30</td>\n",
       "      <td>A</td>\n",
       "      <td>1.24</td>\n",
       "      <td>A</td>\n",
       "      <td>1.506820e+09</td>\n",
       "    </tr>\n",
       "  </tbody>\n",
       "</table>\n",
       "</div>"
      ],
      "text/plain": [
       "  agency_cd  site_no            datetime tz_cd Discharge 69679_00060_cd  \\\n",
       "0      USGS  1585500 2017-10-01 00:00:00   EDT      0.30              A   \n",
       "1      USGS  1585500 2017-10-01 00:15:00   EDT      0.30              A   \n",
       "2      USGS  1585500 2017-10-01 00:30:00   EDT      0.30              A   \n",
       "3      USGS  1585500 2017-10-01 00:45:00   EDT      0.30              A   \n",
       "4      USGS  1585500 2017-10-01 01:00:00   EDT      0.30              A   \n",
       "\n",
       "   GageHeight 69680_00065_cd            ts  \n",
       "0        1.24              A  1.506816e+09  \n",
       "1        1.24              A  1.506817e+09  \n",
       "2        1.24              A  1.506818e+09  \n",
       "3        1.24              A  1.506819e+09  \n",
       "4        1.24              A  1.506820e+09  "
      ]
     },
     "execution_count": 16,
     "metadata": {},
     "output_type": "execute_result"
    }
   ],
   "source": [
    "dataice = pd.read_csv(\"01585500-ice.csv\", sep='\\t', comment='#', header=0, skiprows=[29], parse_dates=[2])\n",
    "dataice = dataice.rename(index=str, columns={\"69679_00060\": \"Discharge\"})\n",
    "dataice = dataice.rename(index=str, columns={\"69680_00065\": \"GageHeight\"})\n",
    "dataice['ts'] = dataice.datetime.map(lambda x: x.timestamp())\n",
    "dataice.head()"
   ]
  },
  {
   "cell_type": "markdown",
   "metadata": {},
   "source": [
    "### Now if we try to plot it we encounter some problems\n",
    "The error message is a bit misleading"
   ]
  },
  {
   "cell_type": "code",
   "execution_count": 85,
   "metadata": {},
   "outputs": [
    {
     "ename": "NameError",
     "evalue": "name 'dataice' is not defined",
     "output_type": "error",
     "traceback": [
      "\u001b[0;31m---------------------------------------------------------------------------\u001b[0m",
      "\u001b[0;31mNameError\u001b[0m                                 Traceback (most recent call last)",
      "\u001b[0;32m<ipython-input-85-dce4bb9c99ac>\u001b[0m in \u001b[0;36m<module>\u001b[0;34m\u001b[0m\n\u001b[0;32m----> 1\u001b[0;31m \u001b[0mdataice\u001b[0m\u001b[0;34m.\u001b[0m\u001b[0mplot\u001b[0m\u001b[0;34m(\u001b[0m\u001b[0;34m'ts'\u001b[0m\u001b[0;34m,\u001b[0m\u001b[0;34m'Discharge'\u001b[0m\u001b[0;34m)\u001b[0m\u001b[0;34m\u001b[0m\u001b[0m\n\u001b[0m",
      "\u001b[0;31mNameError\u001b[0m: name 'dataice' is not defined"
     ]
    }
   ],
   "source": [
    "dataice.plot('ts','Discharge')"
   ]
  },
  {
   "cell_type": "markdown",
   "metadata": {},
   "source": [
    "#### Let's Put a mask on the values which belongs to the frozen state 'Ice' (and there is another state labelled as 'Bkw')"
   ]
  },
  {
   "cell_type": "code",
   "execution_count": 18,
   "metadata": {},
   "outputs": [
    {
     "data": {
      "text/html": [
       "<div>\n",
       "<style scoped>\n",
       "    .dataframe tbody tr th:only-of-type {\n",
       "        vertical-align: middle;\n",
       "    }\n",
       "\n",
       "    .dataframe tbody tr th {\n",
       "        vertical-align: top;\n",
       "    }\n",
       "\n",
       "    .dataframe thead th {\n",
       "        text-align: right;\n",
       "    }\n",
       "</style>\n",
       "<table border=\"1\" class=\"dataframe\">\n",
       "  <thead>\n",
       "    <tr style=\"text-align: right;\">\n",
       "      <th></th>\n",
       "      <th>agency_cd</th>\n",
       "      <th>site_no</th>\n",
       "      <th>datetime</th>\n",
       "      <th>tz_cd</th>\n",
       "      <th>Discharge</th>\n",
       "      <th>69679_00060_cd</th>\n",
       "      <th>GageHeight</th>\n",
       "      <th>69680_00065_cd</th>\n",
       "      <th>ts</th>\n",
       "    </tr>\n",
       "  </thead>\n",
       "  <tbody>\n",
       "    <tr>\n",
       "      <th>0</th>\n",
       "      <td>USGS</td>\n",
       "      <td>1585500</td>\n",
       "      <td>2017-10-01 00:00:00</td>\n",
       "      <td>EDT</td>\n",
       "      <td>0.30</td>\n",
       "      <td>A</td>\n",
       "      <td>1.24</td>\n",
       "      <td>A</td>\n",
       "      <td>1.506816e+09</td>\n",
       "    </tr>\n",
       "    <tr>\n",
       "      <th>1</th>\n",
       "      <td>USGS</td>\n",
       "      <td>1585500</td>\n",
       "      <td>2017-10-01 00:15:00</td>\n",
       "      <td>EDT</td>\n",
       "      <td>0.30</td>\n",
       "      <td>A</td>\n",
       "      <td>1.24</td>\n",
       "      <td>A</td>\n",
       "      <td>1.506817e+09</td>\n",
       "    </tr>\n",
       "    <tr>\n",
       "      <th>2</th>\n",
       "      <td>USGS</td>\n",
       "      <td>1585500</td>\n",
       "      <td>2017-10-01 00:30:00</td>\n",
       "      <td>EDT</td>\n",
       "      <td>0.30</td>\n",
       "      <td>A</td>\n",
       "      <td>1.24</td>\n",
       "      <td>A</td>\n",
       "      <td>1.506818e+09</td>\n",
       "    </tr>\n",
       "    <tr>\n",
       "      <th>3</th>\n",
       "      <td>USGS</td>\n",
       "      <td>1585500</td>\n",
       "      <td>2017-10-01 00:45:00</td>\n",
       "      <td>EDT</td>\n",
       "      <td>0.30</td>\n",
       "      <td>A</td>\n",
       "      <td>1.24</td>\n",
       "      <td>A</td>\n",
       "      <td>1.506819e+09</td>\n",
       "    </tr>\n",
       "    <tr>\n",
       "      <th>4</th>\n",
       "      <td>USGS</td>\n",
       "      <td>1585500</td>\n",
       "      <td>2017-10-01 01:00:00</td>\n",
       "      <td>EDT</td>\n",
       "      <td>0.30</td>\n",
       "      <td>A</td>\n",
       "      <td>1.24</td>\n",
       "      <td>A</td>\n",
       "      <td>1.506820e+09</td>\n",
       "    </tr>\n",
       "  </tbody>\n",
       "</table>\n",
       "</div>"
      ],
      "text/plain": [
       "  agency_cd  site_no            datetime tz_cd Discharge 69679_00060_cd  \\\n",
       "0      USGS  1585500 2017-10-01 00:00:00   EDT      0.30              A   \n",
       "1      USGS  1585500 2017-10-01 00:15:00   EDT      0.30              A   \n",
       "2      USGS  1585500 2017-10-01 00:30:00   EDT      0.30              A   \n",
       "3      USGS  1585500 2017-10-01 00:45:00   EDT      0.30              A   \n",
       "4      USGS  1585500 2017-10-01 01:00:00   EDT      0.30              A   \n",
       "\n",
       "   GageHeight 69680_00065_cd            ts  \n",
       "0        1.24              A  1.506816e+09  \n",
       "1        1.24              A  1.506817e+09  \n",
       "2        1.24              A  1.506818e+09  \n",
       "3        1.24              A  1.506819e+09  \n",
       "4        1.24              A  1.506820e+09  "
      ]
     },
     "execution_count": 18,
     "metadata": {},
     "output_type": "execute_result"
    }
   ],
   "source": [
    "dataice.head()"
   ]
  },
  {
   "cell_type": "code",
   "execution_count": 19,
   "metadata": {
    "ExecuteTime": {
     "end_time": "2018-02-23T09:42:34.451133Z",
     "start_time": "2018-02-23T09:42:34.180098Z"
    }
   },
   "outputs": [],
   "source": [
    "def ice(x):\n",
    "    if x == 'Ice':\n",
    "        return -1\n",
    "    elif x == 'Bkw':\n",
    "        return -1\n",
    "    else:\n",
    "        return x\n",
    "\n",
    "dataice.Discharge = np.array(dataice.Discharge.map(ice), dtype=float)"
   ]
  },
  {
   "cell_type": "code",
   "execution_count": 20,
   "metadata": {
    "ExecuteTime": {
     "end_time": "2018-02-23T09:42:43.918199Z",
     "start_time": "2018-02-23T09:42:43.409411Z"
    }
   },
   "outputs": [
    {
     "data": {
      "image/png": "[encoded data removed]",
      "text/plain": [
       "<Figure size 864x360 with 1 Axes>"
      ]
     },
     "metadata": {
      "needs_background": "light"
     },
     "output_type": "display_data"
    }
   ],
   "source": [
    "plt.figure(figsize=(12,5))\n",
    "\n",
    "plt.xlabel('Time measured from epoch (1970) [s]')\n",
    "\n",
    "ax1 = dataice.Discharge.plot(x='datetime', grid=True, label='Discharge')\n",
    "\n",
    "ax1.set_ylabel('Discharge [feet$^3$]')\n",
    "h1, l1 = ax1.get_legend_handles_labels()\n",
    "\n",
    "plt.legend(h1, l1, loc=2)\n",
    "plt.show()"
   ]
  },
  {
   "cell_type": "markdown",
   "metadata": {},
   "source": [
    "Distribution of water level values"
   ]
  },
  {
   "cell_type": "code",
   "execution_count": 35,
   "metadata": {},
   "outputs": [],
   "source": [
    "lvl = data['Discharge']"
   ]
  },
  {
   "cell_type": "code",
   "execution_count": 36,
   "metadata": {
    "ExecuteTime": {
     "end_time": "2018-02-23T09:43:51.502481Z",
     "start_time": "2018-02-23T09:43:50.405153Z"
    }
   },
   "outputs": [
    {
     "data": {
      "image/png": "[encoded data removed]",
      "text/plain": [
       "<Figure size 432x288 with 1 Axes>"
      ]
     },
     "metadata": {
      "needs_background": "light"
     },
     "output_type": "display_data"
    }
   ],
   "source": [
    "lvlhist, bins = np.histogram(lvl[lvl>10], bins=200)\n",
    "plot(bins[:-1], lvlhist, \".\")\n",
    "xscale('log')\n",
    "yscale('log')"
   ]
  },
  {
   "cell_type": "markdown",
   "metadata": {},
   "source": [
    "Smooth data with a Hamming window to get rid of plateaus"
   ]
  },
  {
   "cell_type": "code",
   "execution_count": 37,
   "metadata": {
    "ExecuteTime": {
     "end_time": "2018-02-21T22:08:58.561770Z",
     "start_time": "2018-02-21T22:08:58.548236Z"
    }
   },
   "outputs": [],
   "source": [
    "w = np.hamming(9)\n",
    "smlvl = np.convolve(w/w.sum(),lvl,mode='same')"
   ]
  },
  {
   "cell_type": "code",
   "execution_count": 38,
   "metadata": {
    "ExecuteTime": {
     "end_time": "2018-02-21T22:56:21.829328Z",
     "start_time": "2018-02-21T22:56:21.815408Z"
    }
   },
   "outputs": [],
   "source": [
    "#Distributions\n",
    "def weibull(x, b, e):\n",
    "    return b/e*( x/e )**(b-1) * exp( - (x/e )**b )\n",
    "    \n",
    "def weibullplot(x, b, e):\n",
    "    w = weibull(x, b, e)\n",
    "    plot(x, w)"
   ]
  },
  {
   "cell_type": "code",
   "execution_count": 39,
   "metadata": {
    "ExecuteTime": {
     "end_time": "2018-02-21T22:15:44.593692Z",
     "start_time": "2018-02-21T22:15:42.946902Z"
    }
   },
   "outputs": [
    {
     "name": "stderr",
     "output_type": "stream",
     "text": [
      "/opt/conda/lib/python3.6/site-packages/ipykernel_launcher.py:1: RuntimeWarning: invalid value encountered in greater\n",
      "  \"\"\"Entry point for launching an IPython kernel.\n"
     ]
    }
   ],
   "source": [
    "slvlhist, bins = np.histogram(smlvl[smlvl>0], bins=200)"
   ]
  },
  {
   "cell_type": "code",
   "execution_count": 40,
   "metadata": {
    "ExecuteTime": {
     "end_time": "2018-02-21T22:37:24.085731Z",
     "start_time": "2018-02-21T22:37:23.666915Z"
    }
   },
   "outputs": [
    {
     "data": {
      "application/vnd.jupyter.widget-view+json": {
       "model_id": "c70b19b514fa4131a783b41c6c62de6e",
       "version_major": 2,
       "version_minor": 0
      },
      "text/html": [
       "<p>Failed to display Jupyter Widget of type <code>interactive</code>.</p>\n",
       "<p>\n",
       "  If you're reading this message in the Jupyter Notebook or JupyterLab Notebook, it may mean\n",
       "  that the widgets JavaScript is still loading. If this message persists, it\n",
       "  likely means that the widgets JavaScript library is either not installed or\n",
       "  not enabled. See the <a href=\"https://ipywidgets.readthedocs.io/en/stable/user_install.html\">Jupyter\n",
       "  Widgets Documentation</a> for setup instructions.\n",
       "</p>\n",
       "<p>\n",
       "  If you're reading this message in another frontend (for example, a static\n",
       "  rendering on GitHub or <a href=\"https://nbviewer.jupyter.org/\">NBViewer</a>),\n",
       "  it may mean that your frontend doesn't currently support widgets.\n",
       "</p>\n"
      ],
      "text/plain": [
       "interactive(children=(FloatSlider(value=1.5000000000000002, description='b', max=3.0, min=0.1), Output()), _dom_classes=('widget-interact',))"
      ]
     },
     "metadata": {},
     "output_type": "display_data"
    }
   ],
   "source": [
    "tx=linspace(0.1,2.5,40)\n",
    "interact(weibull, x=fixed(tx), b=(0.1,3.0,0.1), e=fixed(1));"
   ]
  },
  {
   "cell_type": "code",
   "execution_count": 41,
   "metadata": {
    "ExecuteTime": {
     "end_time": "2018-02-21T22:53:44.043091Z",
     "start_time": "2018-02-21T22:53:42.851735Z"
    }
   },
   "outputs": [],
   "source": [
    "from scipy.optimize import curve_fit "
   ]
  },
  {
   "cell_type": "code",
   "execution_count": 42,
   "metadata": {
    "ExecuteTime": {
     "end_time": "2018-02-23T09:15:41.224491Z",
     "start_time": "2018-02-23T09:15:41.216900Z"
    }
   },
   "outputs": [],
   "source": [
    "def lin(x,a,b):\n",
    "    return a*x+b"
   ]
  },
  {
   "cell_type": "code",
   "execution_count": 43,
   "metadata": {
    "ExecuteTime": {
     "end_time": "2018-02-23T09:45:50.327322Z",
     "start_time": "2018-02-23T09:45:50.313275Z"
    }
   },
   "outputs": [],
   "source": [
    "popt,pcov = curve_fit(lin, log(range(1,len(lvlhist[lvlhist>10])+1)), log(lvlhist[lvlhist>10]))"
   ]
  },
  {
   "cell_type": "code",
   "execution_count": 44,
   "metadata": {
    "ExecuteTime": {
     "end_time": "2018-02-23T09:47:19.787120Z",
     "start_time": "2018-02-23T09:47:19.408177Z"
    }
   },
   "outputs": [
    {
     "data": {
      "text/plain": [
       "[<matplotlib.lines.Line2D at 0x7fd90f2cecc0>]"
      ]
     },
     "execution_count": 44,
     "metadata": {},
     "output_type": "execute_result"
    },
    {
     "data": {
      "image/png": "[encoded data removed]",
      "text/plain": [
       "<Figure size 432x288 with 1 Axes>"
      ]
     },
     "metadata": {
      "needs_background": "light"
     },
     "output_type": "display_data"
    }
   ],
   "source": [
    "rx=range(len(lvlhist[lvlhist>10]))\n",
    "plot(rx,lin(rx,popt[0],popt[1]))\n",
    "plot(rx,lvlhist[lvlhist>10])\n"
   ]
  },
  {
   "cell_type": "code",
   "execution_count": 45,
   "metadata": {
    "ExecuteTime": {
     "end_time": "2018-02-21T22:59:12.891893Z",
     "start_time": "2018-02-21T22:59:12.871420Z"
    }
   },
   "outputs": [
    {
     "name": "stderr",
     "output_type": "stream",
     "text": [
      "/opt/conda/lib/python3.6/site-packages/ipykernel_launcher.py:3: RuntimeWarning: overflow encountered in power\n",
      "  This is separate from the ipykernel package so we can avoid doing imports until\n",
      "/opt/conda/lib/python3.6/site-packages/ipykernel_launcher.py:3: RuntimeWarning: invalid value encountered in multiply\n",
      "  This is separate from the ipykernel package so we can avoid doing imports until\n",
      "/opt/conda/lib/python3.6/site-packages/ipykernel_launcher.py:3: RuntimeWarning: overflow encountered in multiply\n",
      "  This is separate from the ipykernel package so we can avoid doing imports until\n"
     ]
    }
   ],
   "source": [
    "popt,pcov = curve_fit(weibull, bins[:-1][slvlhist>0], log(slvlhist[slvlhist>0]))"
   ]
  },
  {
   "cell_type": "code",
   "execution_count": 46,
   "metadata": {
    "ExecuteTime": {
     "end_time": "2018-02-21T22:59:14.605074Z",
     "start_time": "2018-02-21T22:59:14.596882Z"
    }
   },
   "outputs": [
    {
     "data": {
      "text/plain": [
       "array([91.4756875 ,  2.89341327])"
      ]
     },
     "execution_count": 46,
     "metadata": {},
     "output_type": "execute_result"
    }
   ],
   "source": [
    "popt"
   ]
  },
  {
   "cell_type": "code",
   "execution_count": 47,
   "metadata": {
    "ExecuteTime": {
     "end_time": "2018-02-21T23:01:33.985367Z",
     "start_time": "2018-02-21T23:01:32.453963Z"
    }
   },
   "outputs": [
    {
     "name": "stderr",
     "output_type": "stream",
     "text": [
      "/opt/conda/lib/python3.6/site-packages/ipykernel_launcher.py:3: RuntimeWarning: overflow encountered in power\n",
      "  This is separate from the ipykernel package so we can avoid doing imports until\n"
     ]
    },
    {
     "data": {
      "image/png": "[encoded data removed]",
      "text/plain": [
       "<Figure size 432x288 with 1 Axes>"
      ]
     },
     "metadata": {
      "needs_background": "light"
     },
     "output_type": "display_data"
    }
   ],
   "source": [
    "plot(bins[:-1], slvlhist)\n",
    "plot(bins[:-1], lvlhist)\n",
    "plot(bins[:-1], 100000*weibull(bins[:-1], popt[0], popt[1]))\n",
    "xscale('log')\n",
    "yscale('log')"
   ]
  },
  {
   "cell_type": "markdown",
   "metadata": {},
   "source": [
    "Find local maxima\n",
    "\n",
    "Consider it a rain if derivative is sufficiently steep (3)"
   ]
  },
  {
   "cell_type": "code",
   "execution_count": 48,
   "metadata": {
    "ExecuteTime": {
     "end_time": "2018-02-21T22:16:06.391743Z",
     "start_time": "2018-02-21T22:16:06.374646Z"
    }
   },
   "outputs": [
    {
     "name": "stderr",
     "output_type": "stream",
     "text": [
      "/opt/conda/lib/python3.6/site-packages/ipykernel_launcher.py:1: RuntimeWarning: invalid value encountered in greater\n",
      "  \"\"\"Entry point for launching an IPython kernel.\n"
     ]
    },
    {
     "data": {
      "text/plain": [
       "568"
      ]
     },
     "execution_count": 48,
     "metadata": {},
     "output_type": "execute_result"
    }
   ],
   "source": [
    "maxlvl = np.r_[True, smlvl[1:] > smlvl[:-1]  + 0.2] & np.r_[smlvl[:-1] > smlvl[1:], True]\n",
    "np.sum(maxlvl)"
   ]
  },
  {
   "cell_type": "code",
   "execution_count": 51,
   "metadata": {},
   "outputs": [],
   "source": [
    "tm = data['ts'].astype()"
   ]
  },
  {
   "cell_type": "code",
   "execution_count": 54,
   "metadata": {},
   "outputs": [
    {
     "data": {
      "text/html": [
       "<div>\n",
       "<style scoped>\n",
       "    .dataframe tbody tr th:only-of-type {\n",
       "        vertical-align: middle;\n",
       "    }\n",
       "\n",
       "    .dataframe tbody tr th {\n",
       "        vertical-align: top;\n",
       "    }\n",
       "\n",
       "    .dataframe thead th {\n",
       "        text-align: right;\n",
       "    }\n",
       "</style>\n",
       "<table border=\"1\" class=\"dataframe\">\n",
       "  <thead>\n",
       "    <tr style=\"text-align: right;\">\n",
       "      <th></th>\n",
       "      <th>agency_cd</th>\n",
       "      <th>site_no</th>\n",
       "      <th>datetime</th>\n",
       "      <th>tz_cd</th>\n",
       "      <th>Discharge</th>\n",
       "      <th>69744_00060_cd</th>\n",
       "      <th>GageHeight</th>\n",
       "      <th>69745_00065_cd</th>\n",
       "      <th>ts</th>\n",
       "    </tr>\n",
       "  </thead>\n",
       "  <tbody>\n",
       "    <tr>\n",
       "      <th>0</th>\n",
       "      <td>USGS</td>\n",
       "      <td>1589440</td>\n",
       "      <td>2008-01-01 00:00:00</td>\n",
       "      <td>EST</td>\n",
       "      <td>18.5</td>\n",
       "      <td>A</td>\n",
       "      <td>3.49</td>\n",
       "      <td>A</td>\n",
       "      <td>1.199146e+09</td>\n",
       "    </tr>\n",
       "    <tr>\n",
       "      <th>1</th>\n",
       "      <td>USGS</td>\n",
       "      <td>1589440</td>\n",
       "      <td>2008-01-01 00:15:00</td>\n",
       "      <td>EST</td>\n",
       "      <td>18.5</td>\n",
       "      <td>A</td>\n",
       "      <td>3.49</td>\n",
       "      <td>A</td>\n",
       "      <td>1.199146e+09</td>\n",
       "    </tr>\n",
       "    <tr>\n",
       "      <th>2</th>\n",
       "      <td>USGS</td>\n",
       "      <td>1589440</td>\n",
       "      <td>2008-01-01 00:30:00</td>\n",
       "      <td>EST</td>\n",
       "      <td>18.5</td>\n",
       "      <td>A</td>\n",
       "      <td>3.49</td>\n",
       "      <td>A</td>\n",
       "      <td>1.199147e+09</td>\n",
       "    </tr>\n",
       "    <tr>\n",
       "      <th>3</th>\n",
       "      <td>USGS</td>\n",
       "      <td>1589440</td>\n",
       "      <td>2008-01-01 00:45:00</td>\n",
       "      <td>EST</td>\n",
       "      <td>18.5</td>\n",
       "      <td>A</td>\n",
       "      <td>3.49</td>\n",
       "      <td>A</td>\n",
       "      <td>1.199148e+09</td>\n",
       "    </tr>\n",
       "    <tr>\n",
       "      <th>4</th>\n",
       "      <td>USGS</td>\n",
       "      <td>1589440</td>\n",
       "      <td>2008-01-01 01:00:00</td>\n",
       "      <td>EST</td>\n",
       "      <td>18.5</td>\n",
       "      <td>A</td>\n",
       "      <td>3.49</td>\n",
       "      <td>A</td>\n",
       "      <td>1.199149e+09</td>\n",
       "    </tr>\n",
       "  </tbody>\n",
       "</table>\n",
       "</div>"
      ],
      "text/plain": [
       "  agency_cd  site_no            datetime tz_cd  Discharge 69744_00060_cd  \\\n",
       "0      USGS  1589440 2008-01-01 00:00:00   EST       18.5              A   \n",
       "1      USGS  1589440 2008-01-01 00:15:00   EST       18.5              A   \n",
       "2      USGS  1589440 2008-01-01 00:30:00   EST       18.5              A   \n",
       "3      USGS  1589440 2008-01-01 00:45:00   EST       18.5              A   \n",
       "4      USGS  1589440 2008-01-01 01:00:00   EST       18.5              A   \n",
       "\n",
       "   GageHeight 69745_00065_cd            ts  \n",
       "0        3.49              A  1.199146e+09  \n",
       "1        3.49              A  1.199146e+09  \n",
       "2        3.49              A  1.199147e+09  \n",
       "3        3.49              A  1.199148e+09  \n",
       "4        3.49              A  1.199149e+09  "
      ]
     },
     "execution_count": 54,
     "metadata": {},
     "output_type": "execute_result"
    }
   ],
   "source": [
    "data.head()"
   ]
  },
  {
   "cell_type": "code",
   "execution_count": 55,
   "metadata": {
    "ExecuteTime": {
     "end_time": "2018-02-20T07:51:07.043896Z",
     "start_time": "2018-02-20T07:51:06.488440Z"
    }
   },
   "outputs": [
    {
     "data": {
      "text/plain": [
       "[<matplotlib.lines.Line2D at 0x7fd90e962a58>]"
      ]
     },
     "execution_count": 55,
     "metadata": {},
     "output_type": "execute_result"
    },
    {
     "data": {
      "image/png": "[encoded data removed]",
      "text/plain": [
       "<Figure size 864x576 with 1 Axes>"
      ]
     },
     "metadata": {
      "needs_background": "light"
     },
     "output_type": "display_data"
    }
   ],
   "source": [
    "figsize(12,8)\n",
    "xlim(pd.Timestamp(2008,6,1).timestamp(), pd.Timestamp(2008,6,30).timestamp())\n",
    "ylim(0,150)\n",
    "plot(tm,lvl, 'b-', ms=0.5)\n",
    "plot(tm[maxlvl], lvl[maxlvl], 'r.')"
   ]
  },
  {
   "cell_type": "markdown",
   "metadata": {},
   "source": [
    "Distribution of maxima"
   ]
  },
  {
   "cell_type": "code",
   "execution_count": 56,
   "metadata": {
    "ExecuteTime": {
     "end_time": "2018-02-20T07:51:14.928425Z",
     "start_time": "2018-02-20T07:51:14.230150Z"
    }
   },
   "outputs": [
    {
     "data": {
      "image/png": "[encoded data removed]",
      "text/plain": [
       "<Figure size 864x576 with 1 Axes>"
      ]
     },
     "metadata": {
      "needs_background": "light"
     },
     "output_type": "display_data"
    }
   ],
   "source": [
    "maxhist, bins = np.histogram(lvl[maxlvl], bins=200)\n",
    "plot(bins[:-1], maxhist)\n",
    "xscale('log')\n",
    "yscale('log')"
   ]
  },
  {
   "cell_type": "markdown",
   "metadata": {},
   "source": [
    "Distribution of time intervals between rains"
   ]
  },
  {
   "cell_type": "code",
   "execution_count": 57,
   "metadata": {
    "ExecuteTime": {
     "end_time": "2018-02-20T07:51:45.902317Z",
     "start_time": "2018-02-20T07:51:45.873832Z"
    }
   },
   "outputs": [
    {
     "data": {
      "text/plain": [
       "array([2.7369e+06, 1.0080e+06, 1.9800e+04, 1.7676e+06, 1.0800e+04,\n",
       "       9.0000e+03, 2.1780e+05, 9.9000e+03, 1.0584e+06, 1.2969e+06,\n",
       "       6.8130e+05, 7.3710e+05, 2.4300e+04, 4.8600e+04, 4.8684e+05,\n",
       "       1.4226e+05, 9.0270e+05, 2.6820e+05, 1.9692e+06, 1.0800e+04,\n",
       "       5.7420e+05, 2.8557e+06, 8.6760e+05, 9.9000e+03, 5.7870e+05,\n",
       "       1.0800e+04, 2.5830e+06, 1.1700e+04, 8.2800e+04, 1.2600e+04,\n",
       "       5.6520e+05, 6.3000e+03, 5.4990e+05, 6.3000e+03, 1.2384e+06,\n",
       "       2.7000e+04, 9.9000e+03, 2.6370e+05, 9.0000e+03, 2.1384e+06,\n",
       "       7.2000e+03, 1.6308e+06, 1.3500e+05, 9.9000e+03, 3.7800e+04,\n",
       "       1.2924e+06, 4.0500e+04, 8.3070e+05, 1.0080e+05, 4.4190e+05,\n",
       "       3.6279e+06, 2.9574e+06, 2.0304e+06, 1.2870e+05, 1.2690e+05,\n",
       "       3.7980e+05, 9.9000e+03, 1.8000e+04, 6.9390e+05, 3.5640e+05,\n",
       "       4.2930e+05, 3.8700e+04, 9.2520e+05, 2.5380e+05, 8.9190e+05,\n",
       "       1.6551e+06, 6.8400e+04, 7.2000e+03, 4.9140e+05, 8.1000e+03,\n",
       "       1.0260e+05, 6.3180e+05, 6.3000e+03, 2.0700e+04, 1.4850e+05,\n",
       "       2.7918e+06, 1.0800e+04, 5.2200e+04, 2.9700e+05, 5.6880e+05,\n",
       "       1.0800e+04, 7.2360e+05, 6.8310e+05, 2.6460e+05, 8.1000e+03,\n",
       "       1.3500e+04, 6.2100e+04, 4.6080e+05, 1.4310e+05, 1.0800e+04,\n",
       "       1.0656e+06, 2.5200e+04, 1.3518e+06, 2.3814e+06, 2.8980e+05,\n",
       "       1.9791e+06, 1.1331e+06, 5.2740e+05, 3.7440e+05, 1.1016e+06,\n",
       "       1.9233e+06, 6.5790e+05, 2.6100e+04, 4.0716e+06, 4.8600e+04,\n",
       "       1.4418e+06, 2.2410e+06, 1.4139e+06, 5.0400e+04, 1.7190e+05,\n",
       "       3.1770e+05, 4.1400e+05, 4.1220e+05, 5.4000e+03, 3.7404e+06,\n",
       "       1.9620e+05, 8.1000e+03, 1.9800e+04, 9.0900e+04, 5.0040e+05,\n",
       "       7.9200e+04, 7.6140e+05, 1.0800e+04, 1.1772e+06, 7.2000e+03,\n",
       "       5.2200e+04, 4.1751e+06, 1.0800e+04, 4.9500e+04, 1.1709e+06,\n",
       "       1.0800e+04, 4.0500e+05, 6.8310e+05, 1.0800e+04, 1.8000e+04,\n",
       "       6.9030e+05, 1.0791e+06, 1.2006e+06, 4.3200e+04, 9.8010e+05,\n",
       "       4.4343e+06, 1.0800e+04, 2.0115e+06, 7.9920e+05, 3.3300e+05,\n",
       "       4.6890e+05, 7.2000e+03, 4.4640e+05, 1.5030e+05, 7.0200e+04,\n",
       "       1.0647e+06, 9.9000e+03, 1.5300e+04, 5.9850e+05, 9.0000e+03,\n",
       "       5.9400e+04, 2.9160e+05, 1.7100e+04, 2.4750e+05, 7.6590e+05,\n",
       "       5.0580e+05, 2.1510e+05, 6.9930e+05, 7.2000e+03, 7.0200e+04,\n",
       "       1.4130e+05, 1.4670e+05, 4.7700e+04, 8.1000e+03, 2.0619e+06,\n",
       "       8.1000e+03, 1.7613e+06, 4.1220e+05, 8.1000e+03, 5.8500e+04,\n",
       "       2.7180e+05, 9.0000e+03, 6.9570e+05, 4.8150e+05, 6.4080e+05,\n",
       "       4.1400e+05, 2.5200e+04, 5.1300e+04, 5.1120e+05, 9.9000e+03,\n",
       "       5.8500e+04, 5.0400e+04, 5.1300e+04, 9.0000e+03, 5.2110e+05,\n",
       "       1.7100e+04, 9.0000e+03, 5.3190e+05, 7.5870e+05, 5.4000e+03,\n",
       "       6.0300e+04, 3.6900e+04, 4.4400e+04, 5.0100e+04, 6.5700e+04,\n",
       "       1.8900e+04, 2.2500e+05, 1.2600e+04, 9.8190e+05, 2.0700e+04,\n",
       "       4.6350e+05, 1.2492e+06, 1.1700e+04, 9.0900e+04, 4.6440e+05,\n",
       "       8.3250e+05, 7.2000e+03, 2.0808e+06, 3.6900e+04, 5.6340e+05,\n",
       "       7.0740e+05, 1.3158e+06, 3.9600e+05, 1.3347e+06, 3.0690e+06,\n",
       "       1.1124e+06, 3.0600e+04, 2.0250e+06, 8.1000e+03, 2.4552e+06,\n",
       "       9.4500e+04, 1.3788e+06, 1.8900e+04, 6.1200e+04, 4.3110e+05,\n",
       "       4.2300e+04, 5.3550e+05, 9.0000e+03, 2.0430e+05, 5.1840e+05,\n",
       "       2.5560e+05, 9.3600e+05, 8.6940e+05, 6.1830e+05, 8.0550e+05,\n",
       "       9.0270e+05, 1.6200e+04, 1.1160e+05, 3.9600e+04, 1.3266e+06,\n",
       "       3.6720e+05, 9.9000e+03, 1.3230e+05, 2.5380e+05, 5.1030e+05,\n",
       "       4.7610e+05, 3.6000e+04, 5.6700e+04, 6.3450e+05, 1.7100e+04,\n",
       "       4.1760e+05, 8.2350e+05, 3.1500e+04, 6.3000e+03, 3.5010e+05,\n",
       "       8.4150e+05, 1.1313e+06, 9.0000e+03, 3.0150e+05, 5.7600e+04,\n",
       "       8.6040e+05, 3.5046e+06, 9.9000e+03, 1.0026e+06, 4.9230e+05,\n",
       "       1.3824e+06, 3.7440e+05, 1.2096e+06, 8.1000e+04, 7.2000e+03,\n",
       "       2.3211e+06, 6.6150e+05, 5.0580e+05, 2.6703e+06, 3.6900e+04,\n",
       "       6.1110e+05, 1.5354e+06, 7.2000e+03, 8.4600e+04, 1.9350e+05,\n",
       "       6.5700e+04, 9.0000e+03, 1.0386e+06, 8.5140e+05, 7.8300e+04,\n",
       "       3.0330e+05, 3.6000e+04, 4.5000e+03, 2.2410e+05, 3.2400e+04,\n",
       "       2.7900e+04, 2.1240e+05, 1.0881e+06, 1.5660e+05, 2.3400e+05,\n",
       "       5.4000e+03, 2.4300e+04, 8.1900e+04, 1.6470e+05, 7.7130e+05,\n",
       "       8.9820e+05, 7.2000e+03, 4.1490e+05, 9.6120e+05, 4.5000e+03,\n",
       "       6.3900e+04, 7.5600e+04, 1.0800e+04, 2.9151e+06, 1.1700e+04,\n",
       "       7.9920e+05, 6.3000e+03, 1.3482e+06, 2.6190e+05, 4.4100e+04,\n",
       "       2.0700e+04, 1.1700e+04, 1.9800e+04, 1.0800e+04, 1.7712e+06,\n",
       "       1.0800e+04, 2.2059e+06, 8.6400e+05, 6.8130e+05, 7.2000e+03,\n",
       "       7.3260e+05, 5.2650e+05, 1.1259e+06, 1.4445e+06, 5.2380e+05,\n",
       "       1.6650e+05, 6.0390e+05, 9.0000e+03, 7.7400e+04, 1.7100e+04,\n",
       "       7.0200e+05, 9.4500e+04, 8.2710e+05, 7.4070e+05, 1.4706e+06,\n",
       "       5.4000e+04, 1.3500e+04, 1.3635e+06, 3.6000e+04, 8.6310e+05,\n",
       "       3.3570e+05, 2.3400e+04, 1.8000e+04, 4.2300e+04, 1.0080e+05,\n",
       "       1.2483e+06, 9.8640e+05, 8.1000e+03, 9.4500e+04, 2.0700e+04,\n",
       "       5.0490e+05, 6.3000e+03, 9.9900e+04, 4.6080e+05, 1.4400e+04,\n",
       "       5.0400e+04, 6.1200e+04, 8.8200e+04, 4.8600e+04, 2.1600e+04,\n",
       "       4.4370e+05, 9.9000e+03, 5.8590e+05, 7.2000e+03, 6.7410e+05,\n",
       "       5.1300e+05, 8.1000e+03, 3.7620e+05, 5.5800e+04, 9.0900e+04,\n",
       "       1.6434e+06, 6.3000e+03, 7.5060e+05, 1.6497e+06, 1.8540e+05,\n",
       "       3.3660e+05, 1.6038e+06, 4.9770e+05, 5.9220e+05, 2.9250e+05,\n",
       "       3.7890e+05, 5.7060e+05, 1.1700e+04, 1.2852e+06, 9.7110e+05,\n",
       "       5.5980e+05, 9.0000e+03, 1.9980e+05, 5.6430e+05, 5.4720e+05,\n",
       "       6.2280e+05, 8.1000e+03, 6.7590e+05, 9.0450e+05, 8.1000e+03,\n",
       "       2.4300e+04, 7.2000e+05, 9.9270e+05, 6.2910e+05, 5.0850e+05,\n",
       "       2.3049e+06, 4.1040e+05, 1.0350e+05, 6.4800e+04, 2.3580e+05,\n",
       "       1.0719e+06, 6.3000e+03, 3.1500e+04, 2.0673e+06, 2.2959e+06,\n",
       "       1.5030e+05, 2.6100e+04, 9.0000e+03, 1.3500e+04, 8.5590e+05,\n",
       "       2.7630e+05, 5.5800e+04, 9.0000e+03, 6.0480e+05, 5.8230e+05,\n",
       "       2.1870e+05, 2.4120e+05, 2.7000e+04, 2.1600e+05, 1.8090e+05,\n",
       "       7.2000e+03, 1.4760e+05, 1.4400e+04, 7.5690e+05, 2.4300e+04,\n",
       "       1.0521e+06, 6.9300e+05, 2.1870e+05, 9.0900e+04, 1.8063e+06,\n",
       "       5.4000e+03, 1.4400e+04, 9.0000e+03, 3.3480e+05, 1.4463e+06,\n",
       "       4.5000e+03, 1.6785e+06, 1.1700e+04, 2.7270e+05, 2.1843e+06,\n",
       "       4.6800e+04, 1.0359e+06, 1.8513e+06, 1.3941e+06, 6.9750e+05,\n",
       "       2.9880e+05, 1.0368e+06, 3.2274e+06, 6.1560e+05, 9.4500e+04,\n",
       "       5.4990e+05, 1.0053e+06, 3.6000e+04, 1.2069e+06, 9.9000e+03,\n",
       "       6.4710e+05, 2.3850e+05, 2.1933e+06, 9.0000e+03, 3.1320e+05,\n",
       "       6.9660e+05, 1.9026e+06, 9.0000e+03, 8.8200e+05, 4.7700e+05,\n",
       "       9.9000e+03, 1.9800e+05, 3.3030e+05, 9.0900e+04, 5.4720e+05,\n",
       "       9.0000e+03, 7.0830e+05, 2.8260e+05, 7.2450e+05, 3.2850e+05,\n",
       "       2.0700e+04, 1.2330e+05, 1.9320e+04, 1.3080e+04, 1.2861e+06,\n",
       "       8.1900e+04, 1.8000e+05, 7.2000e+03, 3.2490e+05, 9.0090e+05,\n",
       "       8.1810e+05, 1.6074e+06, 1.0800e+04, 6.3000e+03, 7.2000e+04,\n",
       "       1.1790e+05, 1.7343e+06, 1.1700e+04, 3.4245e+06, 1.6200e+04,\n",
       "       2.1600e+04, 5.4000e+03, 2.0349e+06, 2.6082e+06, 4.6737e+06,\n",
       "       1.1016e+06, 2.9430e+05, 2.2680e+05, 8.1000e+03, 1.2357e+06,\n",
       "       3.9780e+05, 8.1000e+03, 8.3880e+05, 5.4540e+05, 1.3770e+05,\n",
       "       5.5260e+05, 4.7430e+05, 1.4400e+04, 7.2000e+03, 4.0500e+04,\n",
       "       2.1420e+06, 6.3000e+03, 3.8610e+05, 6.4440e+05, 8.1000e+03,\n",
       "       4.1760e+05, 6.9120e+05, 1.8900e+04, 2.6280e+05, 6.7500e+04,\n",
       "       4.7340e+05, 3.8790e+05, 1.8900e+04, 1.9800e+04, 4.1220e+05,\n",
       "       1.3500e+04, 3.6000e+03, 5.8500e+04, 1.3230e+05, 5.8230e+05,\n",
       "       8.7300e+04, 2.2230e+05, 2.7450e+05, 3.6900e+05, 9.1260e+05,\n",
       "       2.7720e+05, 9.9000e+03, 1.8000e+04, 4.6800e+04, 2.8242e+06,\n",
       "       7.2000e+03, 2.2590e+05, 9.0000e+03, 1.0458e+06, 1.0080e+05,\n",
       "       3.8880e+05, 7.6320e+05])"
      ]
     },
     "execution_count": 57,
     "metadata": {},
     "output_type": "execute_result"
    }
   ],
   "source": [
    "np.diff(tm[maxlvl])"
   ]
  },
  {
   "cell_type": "code",
   "execution_count": 58,
   "metadata": {
    "ExecuteTime": {
     "end_time": "2018-02-20T07:51:56.132814Z",
     "start_time": "2018-02-20T07:51:55.326579Z"
    }
   },
   "outputs": [
    {
     "data": {
      "image/png": "[encoded data removed]",
      "text/plain": [
       "<Figure size 864x576 with 1 Axes>"
      ]
     },
     "metadata": {
      "needs_background": "light"
     },
     "output_type": "display_data"
    }
   ],
   "source": [
    "tmhist, bins = np.histogram(np.diff(tm[maxlvl])/3600./24., bins=200)\n",
    "plot(bins[:-1], tmhist)\n",
    "xscale('log')\n",
    "yscale('log')"
   ]
  },
  {
   "cell_type": "markdown",
   "metadata": {},
   "source": [
    "Maximum water level in a rolling window of 1 year\n",
    "\n",
    "The solution is a bit simplified and assumes that measurement are always available and are equally spaced.\n",
    "\n",
    "Given a 15 min sampling time, a month is a window of 24 × 4 × 30 = 2880 samples\n",
    "\n",
    "This could be fitted with the Weibull distribution"
   ]
  },
  {
   "cell_type": "code",
   "execution_count": 59,
   "metadata": {
    "ExecuteTime": {
     "end_time": "2018-02-20T07:52:03.866159Z",
     "start_time": "2018-02-20T07:52:03.845703Z"
    }
   },
   "outputs": [
    {
     "data": {
      "text/plain": [
       "(120,)"
      ]
     },
     "execution_count": 59,
     "metadata": {},
     "output_type": "execute_result"
    }
   ],
   "source": [
    "wl = 2880\n",
    "l = int(lvl.shape[0]/wl)\n",
    "rollmaxlvl = np.empty(l)\n",
    "for i in range(0, l):\n",
    "    rollmaxlvl[i] = np.max(lvl[i*wl:(i+1)*wl])\n",
    "    \n",
    "rollmaxlvl.shape"
   ]
  },
  {
   "cell_type": "code",
   "execution_count": 60,
   "metadata": {
    "ExecuteTime": {
     "end_time": "2018-02-20T07:52:19.236629Z",
     "start_time": "2018-02-20T07:52:18.895968Z"
    }
   },
   "outputs": [
    {
     "data": {
      "text/plain": [
       "[<matplotlib.lines.Line2D at 0x7fd90f43b748>]"
      ]
     },
     "execution_count": 60,
     "metadata": {},
     "output_type": "execute_result"
    },
    {
     "data": {
      "image/png": "[encoded data removed]",
      "text/plain": [
       "<Figure size 864x576 with 1 Axes>"
      ]
     },
     "metadata": {
      "needs_background": "light"
     },
     "output_type": "display_data"
    }
   ],
   "source": [
    "rollmaxhist, bins = np.histogram(rollmaxlvl[rollmaxlvl>0], bins=20)\n",
    "plot(bins[:-1], rollmaxhist)"
   ]
  },
  {
   "cell_type": "markdown",
   "metadata": {},
   "source": [
    "Times it rained in a month"
   ]
  },
  {
   "cell_type": "code",
   "execution_count": 61,
   "metadata": {
    "ExecuteTime": {
     "end_time": "2018-02-20T07:52:37.172072Z",
     "start_time": "2018-02-20T07:52:37.151033Z"
    }
   },
   "outputs": [
    {
     "data": {
      "text/plain": [
       "(69,)"
      ]
     },
     "execution_count": 61,
     "metadata": {},
     "output_type": "execute_result"
    }
   ],
   "source": [
    "wl = 5000\n",
    "l = int(lvl.shape[0]/wl)\n",
    "raincount = np.empty(l)\n",
    "for i in range(0, l):\n",
    "    raincount[i] = np.sum(maxlvl[i*wl:(i+1)*wl])\n",
    "    \n",
    "raincount.shape"
   ]
  },
  {
   "cell_type": "code",
   "execution_count": 62,
   "metadata": {
    "ExecuteTime": {
     "end_time": "2018-02-20T07:52:38.611407Z",
     "start_time": "2018-02-20T07:52:38.595929Z"
    }
   },
   "outputs": [
    {
     "data": {
      "text/plain": [
       "array([ 4.,  8.,  9.,  4., 10.,  7.,  9.,  2., 10., 13.,  8., 10.,  4.,\n",
       "        4.,  4.,  2.,  7., 12.,  3., 10.,  1.,  7., 15.,  9., 18., 17.,\n",
       "        9.,  4.,  3.,  4., 12., 12., 13.,  3.,  6.,  6.,  9., 16., 10.,\n",
       "       11.,  3.,  6., 11., 11., 19.,  9.,  7.,  9.,  9.,  7.,  4., 19.,\n",
       "       10.,  6.,  4.,  4.,  6.,  7.,  9., 15.,  7.,  6.,  2.,  0.,  9.,\n",
       "       10., 20., 10.,  4.])"
      ]
     },
     "execution_count": 62,
     "metadata": {},
     "output_type": "execute_result"
    }
   ],
   "source": [
    "raincount"
   ]
  },
  {
   "cell_type": "code",
   "execution_count": 63,
   "metadata": {
    "ExecuteTime": {
     "end_time": "2018-02-20T07:52:43.584845Z",
     "start_time": "2018-02-20T07:52:43.264193Z"
    },
    "scrolled": true
   },
   "outputs": [
    {
     "data": {
      "text/plain": [
       "[<matplotlib.lines.Line2D at 0x7fd90f59b4e0>]"
      ]
     },
     "execution_count": 63,
     "metadata": {},
     "output_type": "execute_result"
    },
    {
     "data": {
      "image/png": "[encoded data removed]",
      "text/plain": [
       "<Figure size 864x576 with 1 Axes>"
      ]
     },
     "metadata": {
      "needs_background": "light"
     },
     "output_type": "display_data"
    }
   ],
   "source": [
    "rainhist, bins = np.histogram(raincount, 10)\n",
    "plot(bins[:-1], rainhist)"
   ]
  },
  {
   "cell_type": "code",
   "execution_count": null,
   "metadata": {},
   "outputs": [],
   "source": []
  }
 ],
 "metadata": {
  "kernelspec": {
   "display_name": "Python 3",
   "language": "python",
   "name": "python3"
  },
  "language_info": {
   "codemirror_mode": {
    "name": "ipython",
    "version": 3
   },
   "file_extension": ".py",
   "mimetype": "text/x-python",
   "name": "python",
   "nbconvert_exporter": "python",
   "pygments_lexer": "ipython3",
   "version": "3.6.6"
  },
  "varInspector": {
   "cols": {
    "lenName": 16,
    "lenType": 16,
    "lenVar": 40
   },
   "kernels_config": {
    "python": {
     "delete_cmd_postfix": "",
     "delete_cmd_prefix": "del ",
     "library": "var_list.py",
     "varRefreshCmd": "print(var_dic_list())"
    },
    "r": {
     "delete_cmd_postfix": ") ",
     "delete_cmd_prefix": "rm(",
     "library": "var_list.r",
     "varRefreshCmd": "cat(var_dic_list()) "
    }
   },
   "types_to_exclude": [
    "module",
    "function",
    "builtin_function_or_method",
    "instance",
    "_Feature"
   ],
   "window_display": false
  }
 },
 "nbformat": 4,
 "nbformat_minor": 2
}
