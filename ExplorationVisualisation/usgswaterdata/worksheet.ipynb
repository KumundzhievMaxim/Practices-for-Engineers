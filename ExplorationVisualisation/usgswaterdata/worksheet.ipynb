{
 "cells": [
  {
   "cell_type": "markdown",
   "metadata": {},
   "source": [
    "# Statistical analysis of water discharge of surface streams\n",
    "\n",
    "Large amounts of historical surface water data are available from the United States Geological Survey (USGS) at https://waterdata.usgs.gov/nwis The goal of the project is to retrieve samples from the web interface manually, and then later  automate the process by calling the web service as described at https://help.waterdata.usgs.gov/faq/automated-retrievals."
   ]
  },
  {
   "cell_type": "code",
   "execution_count": 2,
   "metadata": {},
   "outputs": [],
   "source": [
    "import pandas as pd\n",
    "#from __future__ import print_function\n",
    "from ipywidgets import interact, interactive, fixed, interact_manual\n",
    "import ipywidgets as widgets\n",
    "from scipy.optimize import curve_fit\n",
    "from scipy import signal\n",
    "from scipy import stats\n",
    "import math as math\n",
    "import pycurl\n",
    "from io import BytesIO"
   ]
  },
  {
   "cell_type": "markdown",
   "metadata": {},
   "source": [
    "## Excercise 1\n",
    "\n",
    "For the purposes of the current excercises, select a stream from a rainy area with relatively small discharge so that the effect of short but strong storms is visible. Good choices are small rivers from the north-eastern US, e.g. site 01589440. Retrieve at least 10 years of data."
   ]
  },
  {
   "cell_type": "code",
   "execution_count": 3,
   "metadata": {},
   "outputs": [],
   "source": [
    "def get_site_url( site_number='01589440', date_from=\"2008-01-01\", date_to=\"2017-12-31\" ): \n",
    "    # input: site_number is a string\n",
    "    # the parameters in the url can have different formats. cb_00065 is the same as parameterCd=00060\n",
    "    \n",
    "    #url = 'https://nwis.waterdata.usgs.gov/nwis/uv/?cb_00065=on&format=rdb&site_no=%s&period=&begin_date=%s\\\n",
    "#&end_date=%s&siteStatus=all'%(site_number, date_from, date_to)\n",
    "\n",
    "    url = 'https://nwis.waterdata.usgs.gov/nwis/uv/?parameterCd=00060,00065&format=rdb&site_no=%s&period=&begin_date=%s\\\n",
    "&end_date=%s&siteStatus=all'%(site_number, date_from, date_to)\n",
    "    return url\n",
    "\n",
    "def download_data_from_url( url, savename='test.csv' ):\n",
    "    ''' \n",
    "    One can download data with a different method that supports resume. If data is two large then it takes\n",
    "    lot of time and the connection to the server might be interrupted.\n",
    "    '''\n",
    "    \n",
    "    buffer = BytesIO()\n",
    "    c = pycurl.Curl()\n",
    "    c.setopt(c.URL, url)\n",
    "    c.setopt(c.WRITEDATA, buffer)\n",
    "    c.perform()\n",
    "    c.close()\n",
    "\n",
    "    body = buffer.getvalue() # Body is a byte string.\n",
    "    with open( savename, 'w' ) as output:\n",
    "        output.write( body.decode('utf-8')) # We have to know the encoding in order to print it to a text file"
   ]
  },
  {
   "cell_type": "markdown",
   "metadata": {},
   "source": [
    "## Excercise 2\n",
    "\n",
    "Load the downloaded data file into the processing environment paying attention to handling time stamps and perfoming the necessary data type conversions. Converting dates to floating point numbers such as unix time stamp or julian date usually makes handling time series easier. Plot the data for a certain interval to show that the effect of storms is clearly visible."
   ]
  },
  {
   "cell_type": "code",
   "execution_count": 4,
   "metadata": {},
   "outputs": [],
   "source": [
    "site_number = '01589440'\n",
    "date_from = \"2008-01-01\"\n",
    "date_to = \"2017-12-31\"\n",
    "url = get_site_url(site_number, date_from, date_to)\n",
    "download_data_from_url(url, \"%s.csv\"%site_number)\n"
   ]
  },
  {
   "cell_type": "code",
   "execution_count": 5,
   "metadata": {},
   "outputs": [
    {
     "name": "stdout",
     "output_type": "stream",
     "text": [
      "# ---------------------------------- WARNING ----------------------------------------\r\n",
      "# Some of the data that you have obtained from this U.S. Geological Survey database\r\n",
      "# may not have received Director's approval. Any such data values are qualified\r\n",
      "# as provisional and are subject to revision. Provisional data are released on the\r\n",
      "# condition that neither the USGS nor the United States Government may be held liable\r\n",
      "# for any damages resulting from its use.\r\n",
      "#\r\n",
      "# Additional info: https://help.waterdata.usgs.gov/policies/provisional-data-statement\r\n",
      "#\r\n",
      "# File-format description:  https://help.waterdata.usgs.gov/faq/about-tab-delimited-output\r\n",
      "# Automated-retrieval info: https://help.waterdata.usgs.gov/faq/automated-retrievals\r\n",
      "#\r\n",
      "# Contact:   gs-w_support_nwisweb@usgs.gov\r\n",
      "# retrieved: 2019-06-08 10:32:13 EDT       (nadww01)\r\n",
      "#\r\n",
      "# Data for the following 1 site(s) are contained in this file\r\n",
      "#    USGS 01589440 JONES FALLS AT SORRENTO, MD\r\n",
      "# -----------------------------------------------------------------------------------\r\n",
      "#\r\n",
      "# Data provided for site 01589440\r\n",
      "#            TS   parameter     Description\r\n",
      "#         69744       00060     Discharge, cubic feet per second\r\n",
      "#         69745       00065     Gage height, feet\r\n",
      "#\r\n",
      "# Data-value qualification codes included in this output:\r\n",
      "#        \r\n",
      "#     A  Approved for publication -- Processing and review completed.\r\n",
      "#     e  Value has been estimated.\r\n",
      "# \r\n",
      "agency_cd\tsite_no\tdatetime\ttz_cd\t69744_00060\t69744_00060_cd\t69745_00065\t69745_00065_cd\r\n",
      "5s\t15s\t20d\t6s\t14n\t10s\t14n\t10s\r\n",
      "USGS\t01589440\t2008-01-01 00:00\tEST\t18.5\tA\t3.49\tA\r\n",
      "USGS\t01589440\t2008-01-01 00:15\tEST\t18.5\tA\t3.49\tA\r\n",
      "USGS\t01589440\t2008-01-01 00:30\tEST\t18.5\tA\t3.49\tA\r\n",
      "USGS\t01589440\t2008-01-01 00:45\tEST\t18.5\tA\t3.49\tA\r\n",
      "USGS\t01589440\t2008-01-01 01:00\tEST\t18.5\tA\t3.49\tA\r\n",
      "USGS\t01589440\t2008-01-01 01:15\tEST\t18.0\tA\t3.48\tA\r\n",
      "USGS\t01589440\t2008-01-01 01:30\tEST\t18.0\tA\t3.48\tA\r\n",
      "USGS\t01589440\t2008-01-01 01:45\tEST\t18.0\tA\t3.48\tA\r\n",
      "USGS\t01589440\t2008-01-01 02:00\tEST\t18.0\tA\t3.48\tA\r\n"
     ]
    }
   ],
   "source": [
    "!head -n 40 01589440.csv"
   ]
  },
  {
   "cell_type": "code",
   "execution_count": 6,
   "metadata": {},
   "outputs": [],
   "source": [
    "data = pd.read_csv(\"01589440.csv\", sep='\\t', comment='#', header=0, skiprows=[30], parse_dates=[2])\n",
    "#data = pd.read_csv(\"01589440.csv\", sep='\\t', comment='#', header=0, skiprows=[31], parse_dates=[2])\n"
   ]
  },
  {
   "cell_type": "code",
   "execution_count": 7,
   "metadata": {},
   "outputs": [
    {
     "data": {
      "text/html": [
       "<div>\n",
       "<style scoped>\n",
       "    .dataframe tbody tr th:only-of-type {\n",
       "        vertical-align: middle;\n",
       "    }\n",
       "\n",
       "    .dataframe tbody tr th {\n",
       "        vertical-align: top;\n",
       "    }\n",
       "\n",
       "    .dataframe thead th {\n",
       "        text-align: right;\n",
       "    }\n",
       "</style>\n",
       "<table border=\"1\" class=\"dataframe\">\n",
       "  <thead>\n",
       "    <tr style=\"text-align: right;\">\n",
       "      <th></th>\n",
       "      <th>agency_cd</th>\n",
       "      <th>site_no</th>\n",
       "      <th>datetime</th>\n",
       "      <th>tz_cd</th>\n",
       "      <th>69744_00060</th>\n",
       "      <th>69744_00060_cd</th>\n",
       "      <th>69745_00065</th>\n",
       "      <th>69745_00065_cd</th>\n",
       "    </tr>\n",
       "  </thead>\n",
       "  <tbody>\n",
       "    <tr>\n",
       "      <th>0</th>\n",
       "      <td>USGS</td>\n",
       "      <td>1589440</td>\n",
       "      <td>2008-01-01 00:00:00</td>\n",
       "      <td>EST</td>\n",
       "      <td>18.5</td>\n",
       "      <td>A</td>\n",
       "      <td>3.49</td>\n",
       "      <td>A</td>\n",
       "    </tr>\n",
       "    <tr>\n",
       "      <th>1</th>\n",
       "      <td>USGS</td>\n",
       "      <td>1589440</td>\n",
       "      <td>2008-01-01 00:15:00</td>\n",
       "      <td>EST</td>\n",
       "      <td>18.5</td>\n",
       "      <td>A</td>\n",
       "      <td>3.49</td>\n",
       "      <td>A</td>\n",
       "    </tr>\n",
       "    <tr>\n",
       "      <th>2</th>\n",
       "      <td>USGS</td>\n",
       "      <td>1589440</td>\n",
       "      <td>2008-01-01 00:30:00</td>\n",
       "      <td>EST</td>\n",
       "      <td>18.5</td>\n",
       "      <td>A</td>\n",
       "      <td>3.49</td>\n",
       "      <td>A</td>\n",
       "    </tr>\n",
       "    <tr>\n",
       "      <th>3</th>\n",
       "      <td>USGS</td>\n",
       "      <td>1589440</td>\n",
       "      <td>2008-01-01 00:45:00</td>\n",
       "      <td>EST</td>\n",
       "      <td>18.5</td>\n",
       "      <td>A</td>\n",
       "      <td>3.49</td>\n",
       "      <td>A</td>\n",
       "    </tr>\n",
       "    <tr>\n",
       "      <th>4</th>\n",
       "      <td>USGS</td>\n",
       "      <td>1589440</td>\n",
       "      <td>2008-01-01 01:00:00</td>\n",
       "      <td>EST</td>\n",
       "      <td>18.5</td>\n",
       "      <td>A</td>\n",
       "      <td>3.49</td>\n",
       "      <td>A</td>\n",
       "    </tr>\n",
       "  </tbody>\n",
       "</table>\n",
       "</div>"
      ],
      "text/plain": [
       "  agency_cd  site_no            datetime tz_cd  69744_00060 69744_00060_cd  \\\n",
       "0      USGS  1589440 2008-01-01 00:00:00   EST         18.5              A   \n",
       "1      USGS  1589440 2008-01-01 00:15:00   EST         18.5              A   \n",
       "2      USGS  1589440 2008-01-01 00:30:00   EST         18.5              A   \n",
       "3      USGS  1589440 2008-01-01 00:45:00   EST         18.5              A   \n",
       "4      USGS  1589440 2008-01-01 01:00:00   EST         18.5              A   \n",
       "\n",
       "   69745_00065 69745_00065_cd  \n",
       "0         3.49              A  \n",
       "1         3.49              A  \n",
       "2         3.49              A  \n",
       "3         3.49              A  \n",
       "4         3.49              A  "
      ]
     },
     "execution_count": 7,
     "metadata": {},
     "output_type": "execute_result"
    }
   ],
   "source": [
    "data.head()"
   ]
  },
  {
   "cell_type": "code",
   "execution_count": 8,
   "metadata": {},
   "outputs": [
    {
     "data": {
      "text/html": [
       "<div>\n",
       "<style scoped>\n",
       "    .dataframe tbody tr th:only-of-type {\n",
       "        vertical-align: middle;\n",
       "    }\n",
       "\n",
       "    .dataframe tbody tr th {\n",
       "        vertical-align: top;\n",
       "    }\n",
       "\n",
       "    .dataframe thead th {\n",
       "        text-align: right;\n",
       "    }\n",
       "</style>\n",
       "<table border=\"1\" class=\"dataframe\">\n",
       "  <thead>\n",
       "    <tr style=\"text-align: right;\">\n",
       "      <th></th>\n",
       "      <th>agency_cd</th>\n",
       "      <th>site_no</th>\n",
       "      <th>datetime</th>\n",
       "      <th>tz_cd</th>\n",
       "      <th>69744_00060</th>\n",
       "      <th>69744_00060_cd</th>\n",
       "      <th>69745_00065</th>\n",
       "      <th>69745_00065_cd</th>\n",
       "    </tr>\n",
       "  </thead>\n",
       "  <tbody>\n",
       "    <tr>\n",
       "      <th>347684</th>\n",
       "      <td>USGS</td>\n",
       "      <td>1589440</td>\n",
       "      <td>2017-12-31 22:45:00</td>\n",
       "      <td>EST</td>\n",
       "      <td>NaN</td>\n",
       "      <td>NaN</td>\n",
       "      <td>3.36</td>\n",
       "      <td>A</td>\n",
       "    </tr>\n",
       "    <tr>\n",
       "      <th>347685</th>\n",
       "      <td>USGS</td>\n",
       "      <td>1589440</td>\n",
       "      <td>2017-12-31 23:00:00</td>\n",
       "      <td>EST</td>\n",
       "      <td>NaN</td>\n",
       "      <td>NaN</td>\n",
       "      <td>3.37</td>\n",
       "      <td>A</td>\n",
       "    </tr>\n",
       "    <tr>\n",
       "      <th>347686</th>\n",
       "      <td>USGS</td>\n",
       "      <td>1589440</td>\n",
       "      <td>2017-12-31 23:15:00</td>\n",
       "      <td>EST</td>\n",
       "      <td>NaN</td>\n",
       "      <td>NaN</td>\n",
       "      <td>3.37</td>\n",
       "      <td>A</td>\n",
       "    </tr>\n",
       "    <tr>\n",
       "      <th>347687</th>\n",
       "      <td>USGS</td>\n",
       "      <td>1589440</td>\n",
       "      <td>2017-12-31 23:30:00</td>\n",
       "      <td>EST</td>\n",
       "      <td>NaN</td>\n",
       "      <td>NaN</td>\n",
       "      <td>3.37</td>\n",
       "      <td>A</td>\n",
       "    </tr>\n",
       "    <tr>\n",
       "      <th>347688</th>\n",
       "      <td>USGS</td>\n",
       "      <td>1589440</td>\n",
       "      <td>2017-12-31 23:45:00</td>\n",
       "      <td>EST</td>\n",
       "      <td>NaN</td>\n",
       "      <td>NaN</td>\n",
       "      <td>3.37</td>\n",
       "      <td>A</td>\n",
       "    </tr>\n",
       "  </tbody>\n",
       "</table>\n",
       "</div>"
      ],
      "text/plain": [
       "       agency_cd  site_no            datetime tz_cd  69744_00060  \\\n",
       "347684      USGS  1589440 2017-12-31 22:45:00   EST          NaN   \n",
       "347685      USGS  1589440 2017-12-31 23:00:00   EST          NaN   \n",
       "347686      USGS  1589440 2017-12-31 23:15:00   EST          NaN   \n",
       "347687      USGS  1589440 2017-12-31 23:30:00   EST          NaN   \n",
       "347688      USGS  1589440 2017-12-31 23:45:00   EST          NaN   \n",
       "\n",
       "       69744_00060_cd  69745_00065 69745_00065_cd  \n",
       "347684            NaN         3.36              A  \n",
       "347685            NaN         3.37              A  \n",
       "347686            NaN         3.37              A  \n",
       "347687            NaN         3.37              A  \n",
       "347688            NaN         3.37              A  "
      ]
     },
     "execution_count": 8,
     "metadata": {},
     "output_type": "execute_result"
    }
   ],
   "source": [
    "data.tail()"
   ]
  },
  {
   "cell_type": "code",
   "execution_count": 9,
   "metadata": {},
   "outputs": [
    {
     "data": {
      "text/html": [
       "<div>\n",
       "<style scoped>\n",
       "    .dataframe tbody tr th:only-of-type {\n",
       "        vertical-align: middle;\n",
       "    }\n",
       "\n",
       "    .dataframe tbody tr th {\n",
       "        vertical-align: top;\n",
       "    }\n",
       "\n",
       "    .dataframe thead th {\n",
       "        text-align: right;\n",
       "    }\n",
       "</style>\n",
       "<table border=\"1\" class=\"dataframe\">\n",
       "  <thead>\n",
       "    <tr style=\"text-align: right;\">\n",
       "      <th></th>\n",
       "      <th>0</th>\n",
       "      <th>1</th>\n",
       "      <th>2</th>\n",
       "      <th>3</th>\n",
       "      <th>4</th>\n",
       "      <th>5</th>\n",
       "      <th>6</th>\n",
       "      <th>7</th>\n",
       "      <th>8</th>\n",
       "      <th>9</th>\n",
       "      <th>...</th>\n",
       "      <th>347679</th>\n",
       "      <th>347680</th>\n",
       "      <th>347681</th>\n",
       "      <th>347682</th>\n",
       "      <th>347683</th>\n",
       "      <th>347684</th>\n",
       "      <th>347685</th>\n",
       "      <th>347686</th>\n",
       "      <th>347687</th>\n",
       "      <th>347688</th>\n",
       "    </tr>\n",
       "  </thead>\n",
       "  <tbody>\n",
       "    <tr>\n",
       "      <th>agency_cd</th>\n",
       "      <td>USGS</td>\n",
       "      <td>USGS</td>\n",
       "      <td>USGS</td>\n",
       "      <td>USGS</td>\n",
       "      <td>USGS</td>\n",
       "      <td>USGS</td>\n",
       "      <td>USGS</td>\n",
       "      <td>USGS</td>\n",
       "      <td>USGS</td>\n",
       "      <td>USGS</td>\n",
       "      <td>...</td>\n",
       "      <td>USGS</td>\n",
       "      <td>USGS</td>\n",
       "      <td>USGS</td>\n",
       "      <td>USGS</td>\n",
       "      <td>USGS</td>\n",
       "      <td>USGS</td>\n",
       "      <td>USGS</td>\n",
       "      <td>USGS</td>\n",
       "      <td>USGS</td>\n",
       "      <td>USGS</td>\n",
       "    </tr>\n",
       "    <tr>\n",
       "      <th>site_no</th>\n",
       "      <td>1589440</td>\n",
       "      <td>1589440</td>\n",
       "      <td>1589440</td>\n",
       "      <td>1589440</td>\n",
       "      <td>1589440</td>\n",
       "      <td>1589440</td>\n",
       "      <td>1589440</td>\n",
       "      <td>1589440</td>\n",
       "      <td>1589440</td>\n",
       "      <td>1589440</td>\n",
       "      <td>...</td>\n",
       "      <td>1589440</td>\n",
       "      <td>1589440</td>\n",
       "      <td>1589440</td>\n",
       "      <td>1589440</td>\n",
       "      <td>1589440</td>\n",
       "      <td>1589440</td>\n",
       "      <td>1589440</td>\n",
       "      <td>1589440</td>\n",
       "      <td>1589440</td>\n",
       "      <td>1589440</td>\n",
       "    </tr>\n",
       "    <tr>\n",
       "      <th>datetime</th>\n",
       "      <td>2008-01-01 00:00:00</td>\n",
       "      <td>2008-01-01 00:15:00</td>\n",
       "      <td>2008-01-01 00:30:00</td>\n",
       "      <td>2008-01-01 00:45:00</td>\n",
       "      <td>2008-01-01 01:00:00</td>\n",
       "      <td>2008-01-01 01:15:00</td>\n",
       "      <td>2008-01-01 01:30:00</td>\n",
       "      <td>2008-01-01 01:45:00</td>\n",
       "      <td>2008-01-01 02:00:00</td>\n",
       "      <td>2008-01-01 02:15:00</td>\n",
       "      <td>...</td>\n",
       "      <td>2017-12-31 21:30:00</td>\n",
       "      <td>2017-12-31 21:45:00</td>\n",
       "      <td>2017-12-31 22:00:00</td>\n",
       "      <td>2017-12-31 22:15:00</td>\n",
       "      <td>2017-12-31 22:30:00</td>\n",
       "      <td>2017-12-31 22:45:00</td>\n",
       "      <td>2017-12-31 23:00:00</td>\n",
       "      <td>2017-12-31 23:15:00</td>\n",
       "      <td>2017-12-31 23:30:00</td>\n",
       "      <td>2017-12-31 23:45:00</td>\n",
       "    </tr>\n",
       "    <tr>\n",
       "      <th>tz_cd</th>\n",
       "      <td>EST</td>\n",
       "      <td>EST</td>\n",
       "      <td>EST</td>\n",
       "      <td>EST</td>\n",
       "      <td>EST</td>\n",
       "      <td>EST</td>\n",
       "      <td>EST</td>\n",
       "      <td>EST</td>\n",
       "      <td>EST</td>\n",
       "      <td>EST</td>\n",
       "      <td>...</td>\n",
       "      <td>EST</td>\n",
       "      <td>EST</td>\n",
       "      <td>EST</td>\n",
       "      <td>EST</td>\n",
       "      <td>EST</td>\n",
       "      <td>EST</td>\n",
       "      <td>EST</td>\n",
       "      <td>EST</td>\n",
       "      <td>EST</td>\n",
       "      <td>EST</td>\n",
       "    </tr>\n",
       "    <tr>\n",
       "      <th>69744_00060</th>\n",
       "      <td>18.5</td>\n",
       "      <td>18.5</td>\n",
       "      <td>18.5</td>\n",
       "      <td>18.5</td>\n",
       "      <td>18.5</td>\n",
       "      <td>18</td>\n",
       "      <td>18</td>\n",
       "      <td>18</td>\n",
       "      <td>18</td>\n",
       "      <td>18</td>\n",
       "      <td>...</td>\n",
       "      <td>NaN</td>\n",
       "      <td>NaN</td>\n",
       "      <td>7.93</td>\n",
       "      <td>NaN</td>\n",
       "      <td>NaN</td>\n",
       "      <td>NaN</td>\n",
       "      <td>NaN</td>\n",
       "      <td>NaN</td>\n",
       "      <td>NaN</td>\n",
       "      <td>NaN</td>\n",
       "    </tr>\n",
       "  </tbody>\n",
       "</table>\n",
       "<p>5 rows × 347689 columns</p>\n",
       "</div>"
      ],
      "text/plain": [
       "                          0                    1                    2       \\\n",
       "agency_cd                   USGS                 USGS                 USGS   \n",
       "site_no                  1589440              1589440              1589440   \n",
       "datetime     2008-01-01 00:00:00  2008-01-01 00:15:00  2008-01-01 00:30:00   \n",
       "tz_cd                        EST                  EST                  EST   \n",
       "69744_00060                 18.5                 18.5                 18.5   \n",
       "\n",
       "                          3                    4                    5       \\\n",
       "agency_cd                   USGS                 USGS                 USGS   \n",
       "site_no                  1589440              1589440              1589440   \n",
       "datetime     2008-01-01 00:45:00  2008-01-01 01:00:00  2008-01-01 01:15:00   \n",
       "tz_cd                        EST                  EST                  EST   \n",
       "69744_00060                 18.5                 18.5                   18   \n",
       "\n",
       "                          6                    7                    8       \\\n",
       "agency_cd                   USGS                 USGS                 USGS   \n",
       "site_no                  1589440              1589440              1589440   \n",
       "datetime     2008-01-01 01:30:00  2008-01-01 01:45:00  2008-01-01 02:00:00   \n",
       "tz_cd                        EST                  EST                  EST   \n",
       "69744_00060                   18                   18                   18   \n",
       "\n",
       "                          9       ...               347679  \\\n",
       "agency_cd                   USGS  ...                 USGS   \n",
       "site_no                  1589440  ...              1589440   \n",
       "datetime     2008-01-01 02:15:00  ...  2017-12-31 21:30:00   \n",
       "tz_cd                        EST  ...                  EST   \n",
       "69744_00060                   18  ...                  NaN   \n",
       "\n",
       "                          347680               347681               347682  \\\n",
       "agency_cd                   USGS                 USGS                 USGS   \n",
       "site_no                  1589440              1589440              1589440   \n",
       "datetime     2017-12-31 21:45:00  2017-12-31 22:00:00  2017-12-31 22:15:00   \n",
       "tz_cd                        EST                  EST                  EST   \n",
       "69744_00060                  NaN                 7.93                  NaN   \n",
       "\n",
       "                          347683               347684               347685  \\\n",
       "agency_cd                   USGS                 USGS                 USGS   \n",
       "site_no                  1589440              1589440              1589440   \n",
       "datetime     2017-12-31 22:30:00  2017-12-31 22:45:00  2017-12-31 23:00:00   \n",
       "tz_cd                        EST                  EST                  EST   \n",
       "69744_00060                  NaN                  NaN                  NaN   \n",
       "\n",
       "                          347686               347687               347688  \n",
       "agency_cd                   USGS                 USGS                 USGS  \n",
       "site_no                  1589440              1589440              1589440  \n",
       "datetime     2017-12-31 23:15:00  2017-12-31 23:30:00  2017-12-31 23:45:00  \n",
       "tz_cd                        EST                  EST                  EST  \n",
       "69744_00060                  NaN                  NaN                  NaN  \n",
       "\n",
       "[5 rows x 347689 columns]"
      ]
     },
     "execution_count": 9,
     "metadata": {},
     "output_type": "execute_result"
    }
   ],
   "source": [
    "data.T.head()"
   ]
  },
  {
   "cell_type": "code",
   "execution_count": 10,
   "metadata": {},
   "outputs": [],
   "source": [
    "#data.drop(axis=0, index=0, inplace=True)"
   ]
  },
  {
   "cell_type": "code",
   "execution_count": null,
   "metadata": {},
   "outputs": [],
   "source": []
  },
  {
   "cell_type": "code",
   "execution_count": 11,
   "metadata": {},
   "outputs": [
    {
     "data": {
      "text/plain": [
       "numpy.datetime64"
      ]
     },
     "execution_count": 11,
     "metadata": {},
     "output_type": "execute_result"
    }
   ],
   "source": [
    "#data['datetime_converted'] = pd.to_datetime(data['datetime'], errors='coerce')\n",
    "\n",
    "type(data['datetime'].values[0])"
   ]
  },
  {
   "cell_type": "code",
   "execution_count": 12,
   "metadata": {},
   "outputs": [
    {
     "data": {
      "text/html": [
       "<div>\n",
       "<style scoped>\n",
       "    .dataframe tbody tr th:only-of-type {\n",
       "        vertical-align: middle;\n",
       "    }\n",
       "\n",
       "    .dataframe tbody tr th {\n",
       "        vertical-align: top;\n",
       "    }\n",
       "\n",
       "    .dataframe thead th {\n",
       "        text-align: right;\n",
       "    }\n",
       "</style>\n",
       "<table border=\"1\" class=\"dataframe\">\n",
       "  <thead>\n",
       "    <tr style=\"text-align: right;\">\n",
       "      <th></th>\n",
       "      <th>agency_cd</th>\n",
       "      <th>site_no</th>\n",
       "      <th>datetime</th>\n",
       "      <th>tz_cd</th>\n",
       "      <th>69744_00060</th>\n",
       "      <th>69744_00060_cd</th>\n",
       "      <th>69745_00065</th>\n",
       "      <th>69745_00065_cd</th>\n",
       "    </tr>\n",
       "  </thead>\n",
       "  <tbody>\n",
       "    <tr>\n",
       "      <th>0</th>\n",
       "      <td>USGS</td>\n",
       "      <td>1589440</td>\n",
       "      <td>2008-01-01 00:00:00</td>\n",
       "      <td>EST</td>\n",
       "      <td>18.5</td>\n",
       "      <td>A</td>\n",
       "      <td>3.49</td>\n",
       "      <td>A</td>\n",
       "    </tr>\n",
       "    <tr>\n",
       "      <th>1</th>\n",
       "      <td>USGS</td>\n",
       "      <td>1589440</td>\n",
       "      <td>2008-01-01 00:15:00</td>\n",
       "      <td>EST</td>\n",
       "      <td>18.5</td>\n",
       "      <td>A</td>\n",
       "      <td>3.49</td>\n",
       "      <td>A</td>\n",
       "    </tr>\n",
       "    <tr>\n",
       "      <th>2</th>\n",
       "      <td>USGS</td>\n",
       "      <td>1589440</td>\n",
       "      <td>2008-01-01 00:30:00</td>\n",
       "      <td>EST</td>\n",
       "      <td>18.5</td>\n",
       "      <td>A</td>\n",
       "      <td>3.49</td>\n",
       "      <td>A</td>\n",
       "    </tr>\n",
       "    <tr>\n",
       "      <th>3</th>\n",
       "      <td>USGS</td>\n",
       "      <td>1589440</td>\n",
       "      <td>2008-01-01 00:45:00</td>\n",
       "      <td>EST</td>\n",
       "      <td>18.5</td>\n",
       "      <td>A</td>\n",
       "      <td>3.49</td>\n",
       "      <td>A</td>\n",
       "    </tr>\n",
       "    <tr>\n",
       "      <th>4</th>\n",
       "      <td>USGS</td>\n",
       "      <td>1589440</td>\n",
       "      <td>2008-01-01 01:00:00</td>\n",
       "      <td>EST</td>\n",
       "      <td>18.5</td>\n",
       "      <td>A</td>\n",
       "      <td>3.49</td>\n",
       "      <td>A</td>\n",
       "    </tr>\n",
       "  </tbody>\n",
       "</table>\n",
       "</div>"
      ],
      "text/plain": [
       "  agency_cd  site_no            datetime tz_cd  69744_00060 69744_00060_cd  \\\n",
       "0      USGS  1589440 2008-01-01 00:00:00   EST         18.5              A   \n",
       "1      USGS  1589440 2008-01-01 00:15:00   EST         18.5              A   \n",
       "2      USGS  1589440 2008-01-01 00:30:00   EST         18.5              A   \n",
       "3      USGS  1589440 2008-01-01 00:45:00   EST         18.5              A   \n",
       "4      USGS  1589440 2008-01-01 01:00:00   EST         18.5              A   \n",
       "\n",
       "   69745_00065 69745_00065_cd  \n",
       "0         3.49              A  \n",
       "1         3.49              A  \n",
       "2         3.49              A  \n",
       "3         3.49              A  \n",
       "4         3.49              A  "
      ]
     },
     "execution_count": 12,
     "metadata": {},
     "output_type": "execute_result"
    }
   ],
   "source": [
    "data.head()"
   ]
  },
  {
   "cell_type": "markdown",
   "metadata": {},
   "source": [
    "## Excercise 3\n",
    "\n",
    "Plot the histogram of water discharge values. Fit the data with an appropriate distribution function and bring arguments in favor of the choice of function."
   ]
  },
  {
   "cell_type": "code",
   "execution_count": 13,
   "metadata": {},
   "outputs": [],
   "source": [
    "data.rename(columns={'69744_00060': 'Discharge'}, inplace=True)"
   ]
  },
  {
   "cell_type": "code",
   "execution_count": 14,
   "metadata": {},
   "outputs": [],
   "source": [
    "data.rename(columns={'69745_00065': 'Gage height'}, inplace=True)"
   ]
  },
  {
   "cell_type": "code",
   "execution_count": 15,
   "metadata": {
    "scrolled": true
   },
   "outputs": [
    {
     "data": {
      "text/html": [
       "<div>\n",
       "<style scoped>\n",
       "    .dataframe tbody tr th:only-of-type {\n",
       "        vertical-align: middle;\n",
       "    }\n",
       "\n",
       "    .dataframe tbody tr th {\n",
       "        vertical-align: top;\n",
       "    }\n",
       "\n",
       "    .dataframe thead th {\n",
       "        text-align: right;\n",
       "    }\n",
       "</style>\n",
       "<table border=\"1\" class=\"dataframe\">\n",
       "  <thead>\n",
       "    <tr style=\"text-align: right;\">\n",
       "      <th></th>\n",
       "      <th>agency_cd</th>\n",
       "      <th>site_no</th>\n",
       "      <th>datetime</th>\n",
       "      <th>tz_cd</th>\n",
       "      <th>Discharge</th>\n",
       "      <th>69744_00060_cd</th>\n",
       "      <th>Gage height</th>\n",
       "      <th>69745_00065_cd</th>\n",
       "    </tr>\n",
       "  </thead>\n",
       "  <tbody>\n",
       "    <tr>\n",
       "      <th>0</th>\n",
       "      <td>USGS</td>\n",
       "      <td>1589440</td>\n",
       "      <td>2008-01-01 00:00:00</td>\n",
       "      <td>EST</td>\n",
       "      <td>18.5</td>\n",
       "      <td>A</td>\n",
       "      <td>3.49</td>\n",
       "      <td>A</td>\n",
       "    </tr>\n",
       "    <tr>\n",
       "      <th>1</th>\n",
       "      <td>USGS</td>\n",
       "      <td>1589440</td>\n",
       "      <td>2008-01-01 00:15:00</td>\n",
       "      <td>EST</td>\n",
       "      <td>18.5</td>\n",
       "      <td>A</td>\n",
       "      <td>3.49</td>\n",
       "      <td>A</td>\n",
       "    </tr>\n",
       "    <tr>\n",
       "      <th>2</th>\n",
       "      <td>USGS</td>\n",
       "      <td>1589440</td>\n",
       "      <td>2008-01-01 00:30:00</td>\n",
       "      <td>EST</td>\n",
       "      <td>18.5</td>\n",
       "      <td>A</td>\n",
       "      <td>3.49</td>\n",
       "      <td>A</td>\n",
       "    </tr>\n",
       "    <tr>\n",
       "      <th>3</th>\n",
       "      <td>USGS</td>\n",
       "      <td>1589440</td>\n",
       "      <td>2008-01-01 00:45:00</td>\n",
       "      <td>EST</td>\n",
       "      <td>18.5</td>\n",
       "      <td>A</td>\n",
       "      <td>3.49</td>\n",
       "      <td>A</td>\n",
       "    </tr>\n",
       "    <tr>\n",
       "      <th>4</th>\n",
       "      <td>USGS</td>\n",
       "      <td>1589440</td>\n",
       "      <td>2008-01-01 01:00:00</td>\n",
       "      <td>EST</td>\n",
       "      <td>18.5</td>\n",
       "      <td>A</td>\n",
       "      <td>3.49</td>\n",
       "      <td>A</td>\n",
       "    </tr>\n",
       "  </tbody>\n",
       "</table>\n",
       "</div>"
      ],
      "text/plain": [
       "  agency_cd  site_no            datetime tz_cd  Discharge 69744_00060_cd  \\\n",
       "0      USGS  1589440 2008-01-01 00:00:00   EST       18.5              A   \n",
       "1      USGS  1589440 2008-01-01 00:15:00   EST       18.5              A   \n",
       "2      USGS  1589440 2008-01-01 00:30:00   EST       18.5              A   \n",
       "3      USGS  1589440 2008-01-01 00:45:00   EST       18.5              A   \n",
       "4      USGS  1589440 2008-01-01 01:00:00   EST       18.5              A   \n",
       "\n",
       "   Gage height 69745_00065_cd  \n",
       "0         3.49              A  \n",
       "1         3.49              A  \n",
       "2         3.49              A  \n",
       "3         3.49              A  \n",
       "4         3.49              A  "
      ]
     },
     "execution_count": 15,
     "metadata": {},
     "output_type": "execute_result"
    }
   ],
   "source": [
    "data.head()"
   ]
  },
  {
   "cell_type": "code",
   "execution_count": 16,
   "metadata": {},
   "outputs": [
    {
     "data": {
      "text/plain": [
       "<matplotlib.axes._subplots.AxesSubplot at 0x7fcf49cd55c0>"
      ]
     },
     "execution_count": 16,
     "metadata": {},
     "output_type": "execute_result"
    }
   ],
   "source": [
    "import matplotlib.pyplot as plt\n",
    "data['Discharge'].hist(bins = 100)"
   ]
  },
  {
   "cell_type": "code",
   "execution_count": 17,
   "metadata": {},
   "outputs": [
    {
     "data": {
      "text/plain": [
       "<matplotlib.axes._subplots.AxesSubplot at 0x7fcf480e0eb8>"
      ]
     },
     "execution_count": 17,
     "metadata": {},
     "output_type": "execute_result"
    },
    {
     "data": {
      "image/png": "[encoded data removed]",
      "text/plain": [
       "<Figure size 432x288 with 1 Axes>"
      ]
     },
     "metadata": {
      "needs_background": "light"
     },
     "output_type": "display_data"
    }
   ],
   "source": [
    "data['Discharge'].plot()"
   ]
  },
  {
   "cell_type": "code",
   "execution_count": 18,
   "metadata": {},
   "outputs": [],
   "source": [
    "# x = data['Discharge'].dropna().values\n",
    "# y = np.linspace(0, 7000, len(x))\n",
    "\n",
    "# plt.bar(x,y, label = 'Water Discharge')\n",
    "# plt.title('Bar char of Water Discharge')\n",
    "# plt.legend()\n",
    "# plt.show()"
   ]
  },
  {
   "cell_type": "code",
   "execution_count": 19,
   "metadata": {},
   "outputs": [
    {
     "name": "stderr",
     "output_type": "stream",
     "text": [
      "/opt/conda/lib/python3.6/site-packages/scipy/stats/stats.py:1713: FutureWarning: Using a non-tuple sequence for multidimensional indexing is deprecated; use `arr[tuple(seq)]` instead of `arr[seq]`. In the future this will be interpreted as an array index, `arr[np.array(seq)]`, which will result either in an error or a different result.\n",
      "  return np.add.reduce(sorted[indexer] * weights, axis=axis) / sumval\n"
     ]
    },
    {
     "data": {
      "text/plain": [
       "<matplotlib.axes._subplots.AxesSubplot at 0x7fcf3d328208>"
      ]
     },
     "execution_count": 19,
     "metadata": {},
     "output_type": "execute_result"
    },
    {
     "data": {
      "image/png": "[encoded data removed]",
      "text/plain": [
       "<Figure size 432x288 with 1 Axes>"
      ]
     },
     "metadata": {
      "needs_background": "light"
     },
     "output_type": "display_data"
    }
   ],
   "source": [
    "import seaborn as sns\n",
    "sns.distplot(data['Discharge'].dropna().values)"
   ]
  },
  {
   "cell_type": "markdown",
   "metadata": {},
   "source": [
    "**Normal distribution**"
   ]
  },
  {
   "cell_type": "code",
   "execution_count": 20,
   "metadata": {},
   "outputs": [
    {
     "data": {
      "text/plain": [
       "<matplotlib.axes._subplots.AxesSubplot at 0x7fcf3d221160>"
      ]
     },
     "execution_count": 20,
     "metadata": {},
     "output_type": "execute_result"
    },
    {
     "data": {
      "image/png": "[encoded data removed]",
      "text/plain": [
       "<Figure size 432x288 with 1 Axes>"
      ]
     },
     "metadata": {
      "needs_background": "light"
     },
     "output_type": "display_data"
    }
   ],
   "source": [
    "from scipy.stats import logistic, uniform, norm, pearsonr\n",
    "sns.distplot(data['Discharge'].dropna().values, fit = norm )"
   ]
  },
  {
   "cell_type": "markdown",
   "metadata": {},
   "source": [
    "**Uniform**"
   ]
  },
  {
   "cell_type": "code",
   "execution_count": 21,
   "metadata": {},
   "outputs": [
    {
     "data": {
      "text/plain": [
       "<matplotlib.axes._subplots.AxesSubplot at 0x7fcf3d182dd8>"
      ]
     },
     "execution_count": 21,
     "metadata": {},
     "output_type": "execute_result"
    },
    {
     "data": {
      "image/png": "[encoded data removed]",
      "text/plain": [
       "<Figure size 432x288 with 1 Axes>"
      ]
     },
     "metadata": {
      "needs_background": "light"
     },
     "output_type": "display_data"
    }
   ],
   "source": [
    "sns.distplot(data['Discharge'].dropna().values, fit = uniform)"
   ]
  },
  {
   "cell_type": "markdown",
   "metadata": {},
   "source": [
    "**Logistic**"
   ]
  },
  {
   "cell_type": "code",
   "execution_count": 22,
   "metadata": {},
   "outputs": [
    {
     "data": {
      "text/plain": [
       "<matplotlib.axes._subplots.AxesSubplot at 0x7fcf33a04080>"
      ]
     },
     "execution_count": 22,
     "metadata": {},
     "output_type": "execute_result"
    },
    {
     "data": {
      "image/png": "[encoded data removed]",
      "text/plain": [
       "<Figure size 432x288 with 1 Axes>"
      ]
     },
     "metadata": {
      "needs_background": "light"
     },
     "output_type": "display_data"
    }
   ],
   "source": [
    "sns.distplot(data['Discharge'].dropna().values, fit = logistic)"
   ]
  },
  {
   "cell_type": "code",
   "execution_count": 23,
   "metadata": {},
   "outputs": [],
   "source": [
    "# We can assume that the logistic is the \"best\" "
   ]
  },
  {
   "cell_type": "code",
   "execution_count": 24,
   "metadata": {},
   "outputs": [
    {
     "data": {
      "text/plain": [
       "<matplotlib.axes._subplots.AxesSubplot at 0x7fcf33956be0>"
      ]
     },
     "execution_count": 24,
     "metadata": {},
     "output_type": "execute_result"
    },
    {
     "data": {
      "image/png": "[encoded data removed]",
      "text/plain": [
       "<Figure size 432x288 with 1 Axes>"
      ]
     },
     "metadata": {
      "needs_background": "light"
     },
     "output_type": "display_data"
    }
   ],
   "source": [
    "data['Gage height'].plot()"
   ]
  },
  {
   "cell_type": "code",
   "execution_count": 25,
   "metadata": {},
   "outputs": [
    {
     "data": {
      "text/plain": [
       "<matplotlib.axes._subplots.AxesSubplot at 0x7fcf338fb080>"
      ]
     },
     "execution_count": 25,
     "metadata": {},
     "output_type": "execute_result"
    },
    {
     "data": {
      "image/png": "[encoded data removed]",
      "text/plain": [
       "<Figure size 432x288 with 1 Axes>"
      ]
     },
     "metadata": {
      "needs_background": "light"
     },
     "output_type": "display_data"
    }
   ],
   "source": [
    "data['Gage height'].hist(bins = 100)"
   ]
  },
  {
   "cell_type": "code",
   "execution_count": 26,
   "metadata": {},
   "outputs": [
    {
     "data": {
      "text/plain": [
       "(2.79, 7490.0)"
      ]
     },
     "execution_count": 26,
     "metadata": {},
     "output_type": "execute_result"
    }
   ],
   "source": [
    "data['Discharge'].min(), data['Discharge'].max()"
   ]
  },
  {
   "cell_type": "code",
   "execution_count": 27,
   "metadata": {},
   "outputs": [
    {
     "data": {
      "text/html": [
       "<div>\n",
       "<style scoped>\n",
       "    .dataframe tbody tr th:only-of-type {\n",
       "        vertical-align: middle;\n",
       "    }\n",
       "\n",
       "    .dataframe tbody tr th {\n",
       "        vertical-align: top;\n",
       "    }\n",
       "\n",
       "    .dataframe thead th {\n",
       "        text-align: right;\n",
       "    }\n",
       "</style>\n",
       "<table border=\"1\" class=\"dataframe\">\n",
       "  <thead>\n",
       "    <tr style=\"text-align: right;\">\n",
       "      <th></th>\n",
       "      <th>site_no</th>\n",
       "      <th>Discharge</th>\n",
       "      <th>Gage height</th>\n",
       "    </tr>\n",
       "  </thead>\n",
       "  <tbody>\n",
       "    <tr>\n",
       "      <th>count</th>\n",
       "      <td>347689.0</td>\n",
       "      <td>332390.000000</td>\n",
       "      <td>347689.000000</td>\n",
       "    </tr>\n",
       "    <tr>\n",
       "      <th>mean</th>\n",
       "      <td>1589440.0</td>\n",
       "      <td>34.252893</td>\n",
       "      <td>3.589110</td>\n",
       "    </tr>\n",
       "    <tr>\n",
       "      <th>std</th>\n",
       "      <td>0.0</td>\n",
       "      <td>107.093178</td>\n",
       "      <td>0.425206</td>\n",
       "    </tr>\n",
       "    <tr>\n",
       "      <th>min</th>\n",
       "      <td>1589440.0</td>\n",
       "      <td>2.790000</td>\n",
       "      <td>3.000000</td>\n",
       "    </tr>\n",
       "    <tr>\n",
       "      <th>25%</th>\n",
       "      <td>1589440.0</td>\n",
       "      <td>14.300000</td>\n",
       "      <td>3.400000</td>\n",
       "    </tr>\n",
       "    <tr>\n",
       "      <th>50%</th>\n",
       "      <td>1589440.0</td>\n",
       "      <td>21.200000</td>\n",
       "      <td>3.520000</td>\n",
       "    </tr>\n",
       "    <tr>\n",
       "      <th>75%</th>\n",
       "      <td>1589440.0</td>\n",
       "      <td>31.700000</td>\n",
       "      <td>3.660000</td>\n",
       "    </tr>\n",
       "    <tr>\n",
       "      <th>max</th>\n",
       "      <td>1589440.0</td>\n",
       "      <td>7490.000000</td>\n",
       "      <td>14.080000</td>\n",
       "    </tr>\n",
       "  </tbody>\n",
       "</table>\n",
       "</div>"
      ],
      "text/plain": [
       "         site_no      Discharge    Gage height\n",
       "count   347689.0  332390.000000  347689.000000\n",
       "mean   1589440.0      34.252893       3.589110\n",
       "std          0.0     107.093178       0.425206\n",
       "min    1589440.0       2.790000       3.000000\n",
       "25%    1589440.0      14.300000       3.400000\n",
       "50%    1589440.0      21.200000       3.520000\n",
       "75%    1589440.0      31.700000       3.660000\n",
       "max    1589440.0    7490.000000      14.080000"
      ]
     },
     "execution_count": 27,
     "metadata": {},
     "output_type": "execute_result"
    }
   ],
   "source": [
    "data.describe()"
   ]
  },
  {
   "cell_type": "code",
   "execution_count": 28,
   "metadata": {},
   "outputs": [
    {
     "data": {
      "text/html": [
       "<div>\n",
       "<style scoped>\n",
       "    .dataframe tbody tr th:only-of-type {\n",
       "        vertical-align: middle;\n",
       "    }\n",
       "\n",
       "    .dataframe tbody tr th {\n",
       "        vertical-align: top;\n",
       "    }\n",
       "\n",
       "    .dataframe thead th {\n",
       "        text-align: right;\n",
       "    }\n",
       "</style>\n",
       "<table border=\"1\" class=\"dataframe\">\n",
       "  <thead>\n",
       "    <tr style=\"text-align: right;\">\n",
       "      <th></th>\n",
       "      <th>agency_cd</th>\n",
       "      <th>site_no</th>\n",
       "      <th>datetime</th>\n",
       "      <th>tz_cd</th>\n",
       "      <th>Discharge</th>\n",
       "      <th>69744_00060_cd</th>\n",
       "      <th>Gage height</th>\n",
       "      <th>69745_00065_cd</th>\n",
       "    </tr>\n",
       "  </thead>\n",
       "  <tbody>\n",
       "    <tr>\n",
       "      <th>count</th>\n",
       "      <td>347689</td>\n",
       "      <td>347689.0</td>\n",
       "      <td>347689</td>\n",
       "      <td>347689</td>\n",
       "      <td>332390.000000</td>\n",
       "      <td>332390</td>\n",
       "      <td>347689.000000</td>\n",
       "      <td>347689</td>\n",
       "    </tr>\n",
       "    <tr>\n",
       "      <th>unique</th>\n",
       "      <td>1</td>\n",
       "      <td>NaN</td>\n",
       "      <td>347649</td>\n",
       "      <td>2</td>\n",
       "      <td>NaN</td>\n",
       "      <td>2</td>\n",
       "      <td>NaN</td>\n",
       "      <td>1</td>\n",
       "    </tr>\n",
       "    <tr>\n",
       "      <th>top</th>\n",
       "      <td>USGS</td>\n",
       "      <td>NaN</td>\n",
       "      <td>2009-11-01 01:45:00</td>\n",
       "      <td>EDT</td>\n",
       "      <td>NaN</td>\n",
       "      <td>A</td>\n",
       "      <td>NaN</td>\n",
       "      <td>A</td>\n",
       "    </tr>\n",
       "    <tr>\n",
       "      <th>freq</th>\n",
       "      <td>347689</td>\n",
       "      <td>NaN</td>\n",
       "      <td>2</td>\n",
       "      <td>226712</td>\n",
       "      <td>NaN</td>\n",
       "      <td>332360</td>\n",
       "      <td>NaN</td>\n",
       "      <td>347689</td>\n",
       "    </tr>\n",
       "    <tr>\n",
       "      <th>first</th>\n",
       "      <td>NaN</td>\n",
       "      <td>NaN</td>\n",
       "      <td>2008-01-01 00:00:00</td>\n",
       "      <td>NaN</td>\n",
       "      <td>NaN</td>\n",
       "      <td>NaN</td>\n",
       "      <td>NaN</td>\n",
       "      <td>NaN</td>\n",
       "    </tr>\n",
       "    <tr>\n",
       "      <th>last</th>\n",
       "      <td>NaN</td>\n",
       "      <td>NaN</td>\n",
       "      <td>2017-12-31 23:45:00</td>\n",
       "      <td>NaN</td>\n",
       "      <td>NaN</td>\n",
       "      <td>NaN</td>\n",
       "      <td>NaN</td>\n",
       "      <td>NaN</td>\n",
       "    </tr>\n",
       "    <tr>\n",
       "      <th>mean</th>\n",
       "      <td>NaN</td>\n",
       "      <td>1589440.0</td>\n",
       "      <td>NaN</td>\n",
       "      <td>NaN</td>\n",
       "      <td>34.252893</td>\n",
       "      <td>NaN</td>\n",
       "      <td>3.589110</td>\n",
       "      <td>NaN</td>\n",
       "    </tr>\n",
       "    <tr>\n",
       "      <th>std</th>\n",
       "      <td>NaN</td>\n",
       "      <td>0.0</td>\n",
       "      <td>NaN</td>\n",
       "      <td>NaN</td>\n",
       "      <td>107.093178</td>\n",
       "      <td>NaN</td>\n",
       "      <td>0.425206</td>\n",
       "      <td>NaN</td>\n",
       "    </tr>\n",
       "    <tr>\n",
       "      <th>min</th>\n",
       "      <td>NaN</td>\n",
       "      <td>1589440.0</td>\n",
       "      <td>NaN</td>\n",
       "      <td>NaN</td>\n",
       "      <td>2.790000</td>\n",
       "      <td>NaN</td>\n",
       "      <td>3.000000</td>\n",
       "      <td>NaN</td>\n",
       "    </tr>\n",
       "    <tr>\n",
       "      <th>25%</th>\n",
       "      <td>NaN</td>\n",
       "      <td>1589440.0</td>\n",
       "      <td>NaN</td>\n",
       "      <td>NaN</td>\n",
       "      <td>14.300000</td>\n",
       "      <td>NaN</td>\n",
       "      <td>3.400000</td>\n",
       "      <td>NaN</td>\n",
       "    </tr>\n",
       "    <tr>\n",
       "      <th>50%</th>\n",
       "      <td>NaN</td>\n",
       "      <td>1589440.0</td>\n",
       "      <td>NaN</td>\n",
       "      <td>NaN</td>\n",
       "      <td>21.200000</td>\n",
       "      <td>NaN</td>\n",
       "      <td>3.520000</td>\n",
       "      <td>NaN</td>\n",
       "    </tr>\n",
       "    <tr>\n",
       "      <th>75%</th>\n",
       "      <td>NaN</td>\n",
       "      <td>1589440.0</td>\n",
       "      <td>NaN</td>\n",
       "      <td>NaN</td>\n",
       "      <td>31.700000</td>\n",
       "      <td>NaN</td>\n",
       "      <td>3.660000</td>\n",
       "      <td>NaN</td>\n",
       "    </tr>\n",
       "    <tr>\n",
       "      <th>max</th>\n",
       "      <td>NaN</td>\n",
       "      <td>1589440.0</td>\n",
       "      <td>NaN</td>\n",
       "      <td>NaN</td>\n",
       "      <td>7490.000000</td>\n",
       "      <td>NaN</td>\n",
       "      <td>14.080000</td>\n",
       "      <td>NaN</td>\n",
       "    </tr>\n",
       "  </tbody>\n",
       "</table>\n",
       "</div>"
      ],
      "text/plain": [
       "       agency_cd    site_no             datetime   tz_cd      Discharge  \\\n",
       "count     347689   347689.0               347689  347689  332390.000000   \n",
       "unique         1        NaN               347649       2            NaN   \n",
       "top         USGS        NaN  2009-11-01 01:45:00     EDT            NaN   \n",
       "freq      347689        NaN                    2  226712            NaN   \n",
       "first        NaN        NaN  2008-01-01 00:00:00     NaN            NaN   \n",
       "last         NaN        NaN  2017-12-31 23:45:00     NaN            NaN   \n",
       "mean         NaN  1589440.0                  NaN     NaN      34.252893   \n",
       "std          NaN        0.0                  NaN     NaN     107.093178   \n",
       "min          NaN  1589440.0                  NaN     NaN       2.790000   \n",
       "25%          NaN  1589440.0                  NaN     NaN      14.300000   \n",
       "50%          NaN  1589440.0                  NaN     NaN      21.200000   \n",
       "75%          NaN  1589440.0                  NaN     NaN      31.700000   \n",
       "max          NaN  1589440.0                  NaN     NaN    7490.000000   \n",
       "\n",
       "       69744_00060_cd    Gage height 69745_00065_cd  \n",
       "count          332390  347689.000000         347689  \n",
       "unique              2            NaN              1  \n",
       "top                 A            NaN              A  \n",
       "freq           332360            NaN         347689  \n",
       "first             NaN            NaN            NaN  \n",
       "last              NaN            NaN            NaN  \n",
       "mean              NaN       3.589110            NaN  \n",
       "std               NaN       0.425206            NaN  \n",
       "min               NaN       3.000000            NaN  \n",
       "25%               NaN       3.400000            NaN  \n",
       "50%               NaN       3.520000            NaN  \n",
       "75%               NaN       3.660000            NaN  \n",
       "max               NaN      14.080000            NaN  "
      ]
     },
     "execution_count": 28,
     "metadata": {},
     "output_type": "execute_result"
    }
   ],
   "source": [
    "data.describe(include='all')"
   ]
  },
  {
   "cell_type": "code",
   "execution_count": 29,
   "metadata": {},
   "outputs": [
    {
     "data": {
      "text/plain": [
       "array([ 1., nan,  0.])"
      ]
     },
     "execution_count": 29,
     "metadata": {},
     "output_type": "execute_result"
    }
   ],
   "source": [
    "dict = {'A': 1, 'A:e' : 0}\n",
    "data['69744_00060_cd'].map(dict).unique()"
   ]
  },
  {
   "cell_type": "code",
   "execution_count": 30,
   "metadata": {},
   "outputs": [
    {
     "name": "stdout",
     "output_type": "stream",
     "text": [
      "332360\n",
      "30\n"
     ]
    }
   ],
   "source": [
    "print(data[data['69744_00060_cd'] == 'A']['Discharge'].count()),\n",
    "print(data[data['69744_00060_cd'] == 'A:e']['Discharge'].count())\n",
    "#print(sales_data[sales_data['File_Type'] == 'Active']['SKU_number'].count())"
   ]
  },
  {
   "cell_type": "code",
   "execution_count": 31,
   "metadata": {},
   "outputs": [
    {
     "data": {
      "text/plain": [
       "<matplotlib.axes._subplots.AxesSubplot at 0x7fcf338e8d68>"
      ]
     },
     "execution_count": 31,
     "metadata": {},
     "output_type": "execute_result"
    },
    {
     "data": {
      "image/png": "[encoded data removed]",
      "text/plain": [
       "<Figure size 432x288 with 1 Axes>"
      ]
     },
     "metadata": {
      "needs_background": "light"
     },
     "output_type": "display_data"
    }
   ],
   "source": [
    "data[data['69744_00060_cd'] == 'A']['Discharge'].plot()"
   ]
  },
  {
   "cell_type": "code",
   "execution_count": 32,
   "metadata": {},
   "outputs": [
    {
     "data": {
      "text/plain": [
       "<matplotlib.axes._subplots.AxesSubplot at 0x7fcf33726390>"
      ]
     },
     "execution_count": 32,
     "metadata": {},
     "output_type": "execute_result"
    },
    {
     "data": {
      "image/png": "[encoded data removed]",
      "text/plain": [
       "<Figure size 432x288 with 1 Axes>"
      ]
     },
     "metadata": {
      "needs_background": "light"
     },
     "output_type": "display_data"
    }
   ],
   "source": [
    "data[data['69744_00060_cd'] == 'A']['Discharge'].hist()"
   ]
  },
  {
   "cell_type": "code",
   "execution_count": 33,
   "metadata": {},
   "outputs": [
    {
     "data": {
      "text/plain": [
       "<matplotlib.axes._subplots.AxesSubplot at 0x7fcf336a2518>"
      ]
     },
     "execution_count": 33,
     "metadata": {},
     "output_type": "execute_result"
    },
    {
     "data": {
      "image/png": "[encoded data removed]",
      "text/plain": [
       "<Figure size 432x288 with 1 Axes>"
      ]
     },
     "metadata": {
      "needs_background": "light"
     },
     "output_type": "display_data"
    }
   ],
   "source": [
    "data[data['69744_00060_cd'] == 'A:e']['Discharge'].plot()"
   ]
  },
  {
   "cell_type": "code",
   "execution_count": 34,
   "metadata": {},
   "outputs": [
    {
     "data": {
      "text/plain": [
       "<matplotlib.axes._subplots.AxesSubplot at 0x7fcf33615438>"
      ]
     },
     "execution_count": 34,
     "metadata": {},
     "output_type": "execute_result"
    },
    {
     "data": {
      "image/png": "[encoded data removed]",
      "text/plain": [
       "<Figure size 432x288 with 1 Axes>"
      ]
     },
     "metadata": {
      "needs_background": "light"
     },
     "output_type": "display_data"
    }
   ],
   "source": [
    "data[data['69744_00060_cd'] == 'A:e']['Discharge'].hist()"
   ]
  },
  {
   "cell_type": "markdown",
   "metadata": {},
   "source": [
    "**For categorical data columns in our data**"
   ]
  },
  {
   "cell_type": "code",
   "execution_count": 35,
   "metadata": {},
   "outputs": [
    {
     "data": {
      "text/plain": [
       "<matplotlib.axes._subplots.AxesSubplot at 0x7fcf335f8780>"
      ]
     },
     "execution_count": 35,
     "metadata": {},
     "output_type": "execute_result"
    },
    {
     "data": {
      "image/png": "[encoded data removed]",
      "text/plain": [
       "<Figure size 432x288 with 1 Axes>"
      ]
     },
     "metadata": {
      "needs_background": "light"
     },
     "output_type": "display_data"
    }
   ],
   "source": [
    "data['69744_00060_cd'].value_counts().plot.bar(title=\"Freq dist of Marketing Type\")"
   ]
  },
  {
   "cell_type": "code",
   "execution_count": 36,
   "metadata": {},
   "outputs": [
    {
     "data": {
      "text/plain": [
       "<matplotlib.axes._subplots.AxesSubplot at 0x7fcf338b0518>"
      ]
     },
     "execution_count": 36,
     "metadata": {},
     "output_type": "execute_result"
    },
    {
     "data": {
      "image/png": "[encoded data removed]",
      "text/plain": [
       "<Figure size 432x288 with 1 Axes>"
      ]
     },
     "metadata": {
      "needs_background": "light"
     },
     "output_type": "display_data"
    }
   ],
   "source": [
    "data['69745_00065_cd'].value_counts().plot.bar(title=\"Freq dist of Marketing Type\")"
   ]
  },
  {
   "cell_type": "code",
   "execution_count": 37,
   "metadata": {},
   "outputs": [
    {
     "data": {
      "text/html": [
       "<div>\n",
       "<style scoped>\n",
       "    .dataframe tbody tr th:only-of-type {\n",
       "        vertical-align: middle;\n",
       "    }\n",
       "\n",
       "    .dataframe tbody tr th {\n",
       "        vertical-align: top;\n",
       "    }\n",
       "\n",
       "    .dataframe thead th {\n",
       "        text-align: right;\n",
       "    }\n",
       "</style>\n",
       "<table border=\"1\" class=\"dataframe\">\n",
       "  <thead>\n",
       "    <tr style=\"text-align: right;\">\n",
       "      <th></th>\n",
       "      <th>agency_cd</th>\n",
       "      <th>site_no</th>\n",
       "      <th>datetime</th>\n",
       "      <th>tz_cd</th>\n",
       "      <th>Discharge</th>\n",
       "      <th>69744_00060_cd</th>\n",
       "      <th>Gage height</th>\n",
       "      <th>69745_00065_cd</th>\n",
       "    </tr>\n",
       "  </thead>\n",
       "  <tbody>\n",
       "    <tr>\n",
       "      <th>0</th>\n",
       "      <td>USGS</td>\n",
       "      <td>1589440</td>\n",
       "      <td>2008-01-01 00:00:00</td>\n",
       "      <td>EST</td>\n",
       "      <td>18.5</td>\n",
       "      <td>A</td>\n",
       "      <td>3.49</td>\n",
       "      <td>A</td>\n",
       "    </tr>\n",
       "    <tr>\n",
       "      <th>1</th>\n",
       "      <td>USGS</td>\n",
       "      <td>1589440</td>\n",
       "      <td>2008-01-01 00:15:00</td>\n",
       "      <td>EST</td>\n",
       "      <td>18.5</td>\n",
       "      <td>A</td>\n",
       "      <td>3.49</td>\n",
       "      <td>A</td>\n",
       "    </tr>\n",
       "    <tr>\n",
       "      <th>2</th>\n",
       "      <td>USGS</td>\n",
       "      <td>1589440</td>\n",
       "      <td>2008-01-01 00:30:00</td>\n",
       "      <td>EST</td>\n",
       "      <td>18.5</td>\n",
       "      <td>A</td>\n",
       "      <td>3.49</td>\n",
       "      <td>A</td>\n",
       "    </tr>\n",
       "    <tr>\n",
       "      <th>3</th>\n",
       "      <td>USGS</td>\n",
       "      <td>1589440</td>\n",
       "      <td>2008-01-01 00:45:00</td>\n",
       "      <td>EST</td>\n",
       "      <td>18.5</td>\n",
       "      <td>A</td>\n",
       "      <td>3.49</td>\n",
       "      <td>A</td>\n",
       "    </tr>\n",
       "    <tr>\n",
       "      <th>4</th>\n",
       "      <td>USGS</td>\n",
       "      <td>1589440</td>\n",
       "      <td>2008-01-01 01:00:00</td>\n",
       "      <td>EST</td>\n",
       "      <td>18.5</td>\n",
       "      <td>A</td>\n",
       "      <td>3.49</td>\n",
       "      <td>A</td>\n",
       "    </tr>\n",
       "  </tbody>\n",
       "</table>\n",
       "</div>"
      ],
      "text/plain": [
       "  agency_cd  site_no            datetime tz_cd  Discharge 69744_00060_cd  \\\n",
       "0      USGS  1589440 2008-01-01 00:00:00   EST       18.5              A   \n",
       "1      USGS  1589440 2008-01-01 00:15:00   EST       18.5              A   \n",
       "2      USGS  1589440 2008-01-01 00:30:00   EST       18.5              A   \n",
       "3      USGS  1589440 2008-01-01 00:45:00   EST       18.5              A   \n",
       "4      USGS  1589440 2008-01-01 01:00:00   EST       18.5              A   \n",
       "\n",
       "   Gage height 69745_00065_cd  \n",
       "0         3.49              A  \n",
       "1         3.49              A  \n",
       "2         3.49              A  \n",
       "3         3.49              A  \n",
       "4         3.49              A  "
      ]
     },
     "execution_count": 37,
     "metadata": {},
     "output_type": "execute_result"
    }
   ],
   "source": [
    "data.head()"
   ]
  },
  {
   "cell_type": "markdown",
   "metadata": {},
   "source": [
    "**Normal distribution**"
   ]
  },
  {
   "cell_type": "code",
   "execution_count": 38,
   "metadata": {},
   "outputs": [
    {
     "data": {
      "text/plain": [
       "332390"
      ]
     },
     "execution_count": 38,
     "metadata": {},
     "output_type": "execute_result"
    }
   ],
   "source": [
    "#define the values of water discharge\n",
    "\n",
    "r = data['Discharge'].dropna().values\n",
    "r.size"
   ]
  },
  {
   "cell_type": "code",
   "execution_count": 39,
   "metadata": {},
   "outputs": [
    {
     "name": "stderr",
     "output_type": "stream",
     "text": [
      "/opt/conda/lib/python3.6/site-packages/matplotlib/axes/_axes.py:6462: UserWarning: The 'normed' kwarg is deprecated, and has been replaced by the 'density' kwarg.\n",
      "  warnings.warn(\"The 'normed' kwarg is deprecated, and has been \"\n"
     ]
    },
    {
     "data": {
      "image/png": "[encoded data removed]",
      "text/plain": [
       "<Figure size 432x288 with 1 Axes>"
      ]
     },
     "metadata": {
      "needs_background": "light"
     },
     "output_type": "display_data"
    }
   ],
   "source": [
    "from scipy.stats import norm\n",
    "import matplotlib.pyplot as plt\n",
    "import numpy as np\n",
    "fig, ax = plt.subplots(1, 1)\n",
    "# Calculate a few first moments:\n",
    "mean, var, skew, kurt = norm.stats(moments='mvsk')\n",
    "# Display the probability density function (``pdf``):\n",
    "x = np.linspace(norm.ppf(0.01),  norm.ppf(0.99), 100)\n",
    "ax.plot(x, norm.pdf(x),\n",
    "       'r-', lw=5, alpha=0.6, label='norm pdf')\n",
    "ax.plot(x, norm.cdf(x),\n",
    "       'b-', lw=5, alpha=0.6, label='norm cdf')\n",
    "# Check accuracy of ``cdf`` and ``ppf``:\n",
    "vals = norm.ppf([0.001, 0.5, 0.999])\n",
    "np.allclose([0.001, 0.5, 0.999], norm.cdf(vals))\n",
    "# True\n",
    "# Generate random numbers:\n",
    "r = norm.rvs(size=1000)\n",
    "# And compare the histogram:\n",
    "ax.hist(r, normed=True, histtype='stepfilled', alpha=0.2)\n",
    "ax.legend(loc='best', frameon=False)\n",
    "plt.show()"
   ]
  },
  {
   "cell_type": "markdown",
   "metadata": {},
   "source": [
    "**Uniform distribution**"
   ]
  },
  {
   "cell_type": "code",
   "execution_count": 40,
   "metadata": {},
   "outputs": [
    {
     "name": "stderr",
     "output_type": "stream",
     "text": [
      "/opt/conda/lib/python3.6/site-packages/matplotlib/axes/_axes.py:6462: UserWarning: The 'normed' kwarg is deprecated, and has been replaced by the 'density' kwarg.\n",
      "  warnings.warn(\"The 'normed' kwarg is deprecated, and has been \"\n"
     ]
    },
    {
     "data": {
      "image/png": "[encoded data removed]",
      "text/plain": [
       "<Figure size 432x288 with 1 Axes>"
      ]
     },
     "metadata": {
      "needs_background": "light"
     },
     "output_type": "display_data"
    }
   ],
   "source": [
    "from scipy.stats import uniform\n",
    "import matplotlib.pyplot as plt\n",
    "import numpy as np\n",
    "fig, ax = plt.subplots(1, 1)\n",
    "# Calculate a few first moments:\n",
    "#mean, var, skew, kurt = uniform.stats(moments='mvsk')\n",
    "# Display the probability density function (``pdf``):\n",
    "x = np.linspace(uniform.ppf(0.01), uniform.ppf(0.99), 100)\n",
    "ax.plot(x, uniform.pdf(x),'r-', lw=5, alpha=0.6, label='uniform pdf')\n",
    "ax.plot(x, uniform.cdf(x),'b-', lw=5, alpha=0.6, label='uniform cdf')\n",
    "# Check accuracy of ``cdf`` and ``ppf``:\n",
    "vals = uniform.ppf([0.001, 0.5, 0.999])\n",
    "np.allclose([0.001, 0.5, 0.999], uniform.cdf(vals))\n",
    "# True\n",
    "# Generate random numbers:\n",
    "r = uniform.rvs(size=1000)\n",
    "# And compare the histogram:\n",
    "ax.hist(r, normed=True, histtype='stepfilled', alpha=0.2)\n",
    "ax.legend(loc='best', frameon=False)\n",
    "plt.show()"
   ]
  },
  {
   "cell_type": "markdown",
   "metadata": {},
   "source": [
    "**Logostic distribution**"
   ]
  },
  {
   "cell_type": "code",
   "execution_count": 41,
   "metadata": {},
   "outputs": [
    {
     "name": "stderr",
     "output_type": "stream",
     "text": [
      "/opt/conda/lib/python3.6/site-packages/matplotlib/axes/_axes.py:6462: UserWarning: The 'normed' kwarg is deprecated, and has been replaced by the 'density' kwarg.\n",
      "  warnings.warn(\"The 'normed' kwarg is deprecated, and has been \"\n"
     ]
    },
    {
     "data": {
      "image/png": "[encoded data removed]",
      "text/plain": [
       "<Figure size 432x288 with 1 Axes>"
      ]
     },
     "metadata": {
      "needs_background": "light"
     },
     "output_type": "display_data"
    }
   ],
   "source": [
    "from scipy.stats import logistic\n",
    "import matplotlib.pyplot as plt\n",
    "import numpy as np\n",
    "fig, ax = plt.subplots(1, 1)\n",
    "# Calculate a few first moments:\n",
    "mean, var, skew, kurt = logistic.stats(moments='mvsk')\n",
    "# Display the probability density function (``pdf``):\n",
    "x = np.linspace(logistic.ppf(0.01),\n",
    "                logistic.ppf(0.99), 100)\n",
    "ax.plot(x, logistic.pdf(x),\n",
    "       'g-', lw=5, alpha=0.6, label='logistic pdf')\n",
    "ax.plot(x, logistic.cdf(x),\n",
    "       'r-', lw=5, alpha=0.6, label='logistic cdf')\n",
    "vals = logistic.ppf([0.001, 0.5, 0.999])\n",
    "np.allclose([0.001, 0.5, 0.999], logistic.cdf(vals))\n",
    "# True\n",
    "# Generate random numbers:\n",
    "r = logistic.rvs(size=1000)\n",
    "# And compare the histogram:\n",
    "ax.hist(r, normed=True, histtype='stepfilled', alpha=0.2)\n",
    "ax.legend(loc='best', frameon=False)\n",
    "plt.show()"
   ]
  },
  {
   "cell_type": "markdown",
   "metadata": {},
   "source": [
    "## Excercise 4\n",
    "\n",
    "In case of small streams, storms and passing weather fronts with rain can significantly increase water discharge on a short time scale. Develop a simple algorithm to detect rainy events in the data. Plot the original time series and mark rainy events."
   ]
  },
  {
   "cell_type": "markdown",
   "metadata": {},
   "source": [
    "**Manually calculating the mean <br />\n",
    "The formula for the mean: <br /> <b>$sum(n)/len(n)$</b>**"
   ]
  },
  {
   "cell_type": "code",
   "execution_count": 42,
   "metadata": {},
   "outputs": [
    {
     "data": {
      "text/plain": [
       "34.2528934384558"
      ]
     },
     "execution_count": 42,
     "metadata": {},
     "output_type": "execute_result"
    }
   ],
   "source": [
    "#Take the values\n",
    "scores = [w for w in data['Discharge'].dropna()]\n",
    "\n",
    "#Sum them up\n",
    "sum_score = sum(scores)\n",
    "\n",
    "#Find the number of observations\n",
    "num_score = len(scores)\n",
    "\n",
    "#Calculating the mean value\n",
    "avg_score = sum_score/num_score\n",
    "\n",
    "\n",
    "avg_score\n",
    "\n",
    "#Here we can consider that the discharge of vater is not so big "
   ]
  },
  {
   "cell_type": "markdown",
   "metadata": {},
   "source": [
    "**Manually calculating the median**"
   ]
  },
  {
   "cell_type": "code",
   "execution_count": 44,
   "metadata": {},
   "outputs": [
    {
     "name": "stdout",
     "output_type": "stream",
     "text": [
      "21.2\n"
     ]
    }
   ],
   "source": [
    "scores = [w for w in data['Discharge'].dropna()]\n",
    "\n",
    "num_score = len(scores)\n",
    "\n",
    "sorted_scores = sorted(scores)\n",
    "\n",
    "middle = int((num_score / 2) + 0.5)\n",
    "\n",
    "print(sorted_scores[middle])  # 24\n",
    "\n",
    "#We can see that the difference between mean and median is big. The reason behind it is anomalies"
   ]
  },
  {
   "cell_type": "markdown",
   "metadata": {},
   "source": [
    "## Excercise 5\n",
    "\n",
    "Water discharge increases significantly during rain producing maxima in the time series. Plot the distribution of maximum values and fit with an appropriate function. Bring arguments to support the choice of probabilistic model."
   ]
  },
  {
   "cell_type": "code",
   "execution_count": null,
   "metadata": {},
   "outputs": [],
   "source": []
  },
  {
   "cell_type": "markdown",
   "metadata": {},
   "source": [
    "## Excercise 6\n",
    "\n",
    "Once rainy events are detected, plot the distribution of the length of sunny intervals between rains. Fit the distribution with an appropriate function."
   ]
  },
  {
   "cell_type": "code",
   "execution_count": null,
   "metadata": {},
   "outputs": [],
   "source": []
  },
  {
   "cell_type": "markdown",
   "metadata": {},
   "source": [
    "## Excercise 7\n",
    "\n",
    "What is the maximum of water discharge in an arbitrarily chosen period of one year? Calculate the maximum of water discharge due to rain in a rolling window of 1 year, plot its distribution and fit with an appropriate function."
   ]
  },
  {
   "cell_type": "code",
   "execution_count": null,
   "metadata": {},
   "outputs": [],
   "source": []
  },
  {
   "cell_type": "markdown",
   "metadata": {},
   "source": [
    "## Excercise 8\n",
    "\n",
    "How many time does it rain in a month? Calculate and plot the distribution and fit with an appropriate function."
   ]
  },
  {
   "cell_type": "code",
   "execution_count": null,
   "metadata": {},
   "outputs": [],
   "source": []
  },
  {
   "cell_type": "markdown",
   "metadata": {},
   "source": [
    "## Excercise 9\n",
    "\n",
    "Find the measuring station you used in the excercises above on the map. Find another measurement station about 100-200 miles from it and download the data. Try to estimate the typical time it takes for weather fronts to travel the distance between the two measuring stations."
   ]
  },
  {
   "cell_type": "code",
   "execution_count": null,
   "metadata": {},
   "outputs": [],
   "source": []
  }
 ],
 "metadata": {
  "kernelspec": {
   "display_name": "Python 3",
   "language": "python",
   "name": "python3"
  },
  "language_info": {
   "codemirror_mode": {
    "name": "ipython",
    "version": 3
   },
   "file_extension": ".py",
   "mimetype": "text/x-python",
   "name": "python",
   "nbconvert_exporter": "python",
   "pygments_lexer": "ipython3",
   "version": "3.6.6"
  },
  "varInspector": {
   "cols": {
    "lenName": 16,
    "lenType": 16,
    "lenVar": 40
   },
   "kernels_config": {
    "python": {
     "delete_cmd_postfix": "",
     "delete_cmd_prefix": "del ",
     "library": "var_list.py",
     "varRefreshCmd": "print(var_dic_list())"
    },
    "r": {
     "delete_cmd_postfix": ") ",
     "delete_cmd_prefix": "rm(",
     "library": "var_list.r",
     "varRefreshCmd": "cat(var_dic_list()) "
    }
   },
   "types_to_exclude": [
    "module",
    "function",
    "builtin_function_or_method",
    "instance",
    "_Feature"
   ],
   "window_display": false
  }
 },
 "nbformat": 4,
 "nbformat_minor": 2
}
