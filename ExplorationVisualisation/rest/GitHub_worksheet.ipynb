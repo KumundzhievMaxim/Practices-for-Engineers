{
 "cells": [
  {
   "cell_type": "code",
   "execution_count": 68,
   "metadata": {},
   "outputs": [],
   "source": [
    "import requests\n",
    "import json\n",
    "import os\n",
    "import shutil\n",
    "import tempfile"
   ]
  },
  {
   "cell_type": "markdown",
   "metadata": {},
   "source": [
    "### 1. You need to create a token first at github "
   ]
  },
  {
   "cell_type": "code",
   "execution_count": 69,
   "metadata": {},
   "outputs": [],
   "source": [
    "token = ''"
   ]
  },
  {
   "cell_type": "markdown",
   "metadata": {},
   "source": [
    "### Here you'll be able to have a look on the main things about GitHub API\n",
    "https://api.github.com/"
   ]
  },
  {
   "cell_type": "markdown",
   "metadata": {},
   "source": [
    "### Login"
   ]
  },
  {
   "cell_type": "code",
   "execution_count": 70,
   "metadata": {},
   "outputs": [
    {
     "name": "stdout",
     "output_type": "stream",
     "text": [
      "{'login': 'KumundzhievMaxim', 'id': 37558223, 'node_id': 'MDQ6VXNlcjM3NTU4MjIz', 'avatar_url': 'https://avatars3.githubusercontent.com/u/37558223?v=4', 'gravatar_id': '', 'url': 'https://api.github.com/users/KumundzhievMaxim', 'html_url': 'https://github.com/KumundzhievMaxim', 'followers_url': 'https://api.github.com/users/KumundzhievMaxim/followers', 'following_url': 'https://api.github.com/users/KumundzhievMaxim/following{/other_user}', 'gists_url': 'https://api.github.com/users/KumundzhievMaxim/gists{/gist_id}', 'starred_url': 'https://api.github.com/users/KumundzhievMaxim/starred{/owner}{/repo}', 'subscriptions_url': 'https://api.github.com/users/KumundzhievMaxim/subscriptions', 'organizations_url': 'https://api.github.com/users/KumundzhievMaxim/orgs', 'repos_url': 'https://api.github.com/users/KumundzhievMaxim/repos', 'events_url': 'https://api.github.com/users/KumundzhievMaxim/events{/privacy}', 'received_events_url': 'https://api.github.com/users/KumundzhievMaxim/received_events', 'type': 'User', 'site_admin': False, 'name': 'Maksim Kumundzhiev', 'company': '@VerticalScale', 'blog': 'https://www.linkedin.com/in/maksim-kumundzhiev/', 'location': 'Hungary, Budapest', 'email': 'kumundzhievmaxim@gmail.com', 'hireable': True, 'bio': ' - BSc Kuban State University\\r\\n - MSc Eötvös Loránd University\\r\\n', 'public_repos': 17, 'public_gists': 0, 'followers': 2, 'following': 13, 'created_at': '2018-03-19T21:28:24Z', 'updated_at': '2019-05-09T15:01:11Z', 'private_gists': 0, 'total_private_repos': 0, 'owned_private_repos': 0, 'disk_usage': 75190, 'collaborators': 0, 'two_factor_authentication': False, 'plan': {'name': 'pro', 'space': 976562499, 'collaborators': 0, 'private_repos': 9999}}\n"
     ]
    },
    {
     "data": {
      "text/plain": [
       "200"
      ]
     },
     "execution_count": 70,
     "metadata": {},
     "output_type": "execute_result"
    }
   ],
   "source": [
    "headers = {'Authorization': 'token ' + token}\n",
    "\n",
    "login = requests.get('https://api.github.com/user', headers=headers)\n",
    "print(login.json())\n",
    "login.status_code"
   ]
  },
  {
   "cell_type": "markdown",
   "metadata": {},
   "source": [
    "### Test whether it works. We will use the created token for authentication. Using the right url it will associate our token with right user account\n",
    "> https://developer.github.com/v3/#authentication"
   ]
  },
  {
   "cell_type": "markdown",
   "metadata": {},
   "source": [
    "### OAuth2 token (sent as a parameter)\n",
    "### Link for documentation https://developer.github.com/v3/#authentication"
   ]
  },
  {
   "cell_type": "code",
   "execution_count": 71,
   "metadata": {},
   "outputs": [],
   "source": [
    "auth = requests.get('https://api.github.com/?access_token=8bd8e4cdb3aad0ce291314fd36562ae00bbb083a')"
   ]
  },
  {
   "cell_type": "code",
   "execution_count": 72,
   "metadata": {},
   "outputs": [
    {
     "data": {
      "text/plain": [
       "200"
      ]
     },
     "execution_count": 72,
     "metadata": {},
     "output_type": "execute_result"
    }
   ],
   "source": [
    "auth.status_code"
   ]
  },
  {
   "cell_type": "markdown",
   "metadata": {},
   "source": [
    "### Create a new repository\n",
    "> https://developer.github.com/v3/repos/#create\n",
    "The data parameter needs to contain \"auto_init\": true\n",
    "in order to initiate the repository and be able to add/commit files later on. It alse creates a Readme.md "
   ]
  },
  {
   "cell_type": "code",
   "execution_count": 73,
   "metadata": {},
   "outputs": [],
   "source": [
    "###Executed_version\n",
    "user = 'MaximKumundzhiev'\n",
    "token = '8bd8e4cdb3aad0ce291314fd36562ae00bbb083a'\n",
    "\n",
    "request = requests.get('https://api.github.com/search/repositories?q=github+api', auth=(user,token))\n",
    "\n",
    "repo = 'Testing_GitHub_API'\n",
    "description = 'Created with GitHub API'\n",
    "\n",
    "payload = {'name': repo, 'description': description, 'auto_init': 'true'}\n",
    "\n",
    "login = requests.post('https://api.github.com/' + 'user/repos', auth=(user,token), data=json.dumps(payload))"
   ]
  },
  {
   "cell_type": "markdown",
   "metadata": {},
   "source": [
    "### Modify 'homepage' and 'description' fields for the repository\n",
    "> https://developer.github.com/v3/repos/#edit\n",
    "All repositories will use a safename, which is the given name in the previous call with lowercase letters and spaces replaced by dashes."
   ]
  },
  {
   "cell_type": "code",
   "execution_count": 74,
   "metadata": {},
   "outputs": [],
   "source": [
    "###Executed_version\n",
    "# user = 'MaximKumundzhiev'\n",
    "# token = '8bd8e4cdb3aad0ce291314fd36562ae00bbb083a'\n",
    "# request = requests.get('https://api.github.com/search/repositories?q=github+api', auth=(user,token))\n",
    "\n",
    "repo = 'Testing_GitHub_API'\n",
    "description = 'Changing'\n",
    "\n",
    "payload = {'name': repo, 'description': description, 'auto_init': 'true'}\n",
    "\n",
    "login = requests.post('https://api.github.com/' + 'user/repos', auth=(user,token), data=json.dumps(payload))"
   ]
  },
  {
   "cell_type": "markdown",
   "metadata": {},
   "source": [
    "### 5 Create a file (commit)\n",
    "> https://developer.github.com/v3/repos/contents/#create-a-file"
   ]
  },
  {
   "cell_type": "code",
   "execution_count": 75,
   "metadata": {},
   "outputs": [],
   "source": [
    "url = 'https://api.github.com/repos/KumundzhievMaxim/Testing_GitHub_API/contents/'\n",
    "#/repos/:owner/:repo/contents/:path\n",
    "request = requests.get(url, headers = headers)\n",
    "dic = request.json()\n"
   ]
  },
  {
   "cell_type": "code",
   "execution_count": 76,
   "metadata": {},
   "outputs": [
    {
     "data": {
      "text/plain": [
       "''"
      ]
     },
     "execution_count": 76,
     "metadata": {},
     "output_type": "execute_result"
    }
   ],
   "source": [
    "import base64\n",
    "#Executed\n",
    "# f = open('test.txt', 'rb')\n",
    "# content = base64.b64encode(f.read())\n",
    "\n",
    "# params = {\n",
    "#     \"message\": \"my commit message\",\n",
    "#     \"content\": content.decode('utf-8')\n",
    "# }\n",
    "# params['content']\n",
    "\n",
    "#FOR TREE\n",
    "f = open(\"file.rb\", 'rb')\n",
    "content = base64.b64encode(f.read())\n",
    "\n",
    "params = {\n",
    "    \"message\": \"my commit for tree\",\n",
    "    \"content\": content.decode('utf-8')\n",
    "}\n",
    "params['content']\n"
   ]
  },
  {
   "cell_type": "code",
   "execution_count": 77,
   "metadata": {},
   "outputs": [
    {
     "data": {
      "text/plain": [
       "{'message': 'Invalid request.\\n\\n\"sha\" wasn\\'t supplied.',\n",
       " 'documentation_url': 'https://developer.github.com/v3/repos/contents/#update-a-file'}"
      ]
     },
     "execution_count": 77,
     "metadata": {},
     "output_type": "execute_result"
    }
   ],
   "source": [
    "request = requests.put('https://api.github.com/repos/KumundzhievMaxim/Testing_GitHub_API/contents/file.rb', \n",
    "                       headers = headers, data = json.dumps(params))\n",
    "request.json()"
   ]
  },
  {
   "cell_type": "markdown",
   "metadata": {},
   "source": [
    "### 6 Use previous output: find tree, sha list that tree\n",
    "> https://developer.github.com/v3/git/trees/#get-a-tree\n"
   ]
  },
  {
   "cell_type": "code",
   "execution_count": 78,
   "metadata": {},
   "outputs": [
    {
     "data": {
      "text/plain": [
       "{'id': 177295343,\n",
       " 'node_id': 'MDEwOlJlcG9zaXRvcnkxNzcyOTUzNDM=',\n",
       " 'name': 'Testing_GitHub_API',\n",
       " 'full_name': 'KumundzhievMaxim/Testing_GitHub_API',\n",
       " 'private': False,\n",
       " 'owner': {'login': 'KumundzhievMaxim',\n",
       "  'id': 37558223,\n",
       "  'node_id': 'MDQ6VXNlcjM3NTU4MjIz',\n",
       "  'avatar_url': 'https://avatars3.githubusercontent.com/u/37558223?v=4',\n",
       "  'gravatar_id': '',\n",
       "  'url': 'https://api.github.com/users/KumundzhievMaxim',\n",
       "  'html_url': 'https://github.com/KumundzhievMaxim',\n",
       "  'followers_url': 'https://api.github.com/users/KumundzhievMaxim/followers',\n",
       "  'following_url': 'https://api.github.com/users/KumundzhievMaxim/following{/other_user}',\n",
       "  'gists_url': 'https://api.github.com/users/KumundzhievMaxim/gists{/gist_id}',\n",
       "  'starred_url': 'https://api.github.com/users/KumundzhievMaxim/starred{/owner}{/repo}',\n",
       "  'subscriptions_url': 'https://api.github.com/users/KumundzhievMaxim/subscriptions',\n",
       "  'organizations_url': 'https://api.github.com/users/KumundzhievMaxim/orgs',\n",
       "  'repos_url': 'https://api.github.com/users/KumundzhievMaxim/repos',\n",
       "  'events_url': 'https://api.github.com/users/KumundzhievMaxim/events{/privacy}',\n",
       "  'received_events_url': 'https://api.github.com/users/KumundzhievMaxim/received_events',\n",
       "  'type': 'User',\n",
       "  'site_admin': False},\n",
       " 'html_url': 'https://github.com/KumundzhievMaxim/Testing_GitHub_API',\n",
       " 'description': 'Created with GitHub API',\n",
       " 'fork': False,\n",
       " 'url': 'https://api.github.com/repos/KumundzhievMaxim/Testing_GitHub_API',\n",
       " 'forks_url': 'https://api.github.com/repos/KumundzhievMaxim/Testing_GitHub_API/forks',\n",
       " 'keys_url': 'https://api.github.com/repos/KumundzhievMaxim/Testing_GitHub_API/keys{/key_id}',\n",
       " 'collaborators_url': 'https://api.github.com/repos/KumundzhievMaxim/Testing_GitHub_API/collaborators{/collaborator}',\n",
       " 'teams_url': 'https://api.github.com/repos/KumundzhievMaxim/Testing_GitHub_API/teams',\n",
       " 'hooks_url': 'https://api.github.com/repos/KumundzhievMaxim/Testing_GitHub_API/hooks',\n",
       " 'issue_events_url': 'https://api.github.com/repos/KumundzhievMaxim/Testing_GitHub_API/issues/events{/number}',\n",
       " 'events_url': 'https://api.github.com/repos/KumundzhievMaxim/Testing_GitHub_API/events',\n",
       " 'assignees_url': 'https://api.github.com/repos/KumundzhievMaxim/Testing_GitHub_API/assignees{/user}',\n",
       " 'branches_url': 'https://api.github.com/repos/KumundzhievMaxim/Testing_GitHub_API/branches{/branch}',\n",
       " 'tags_url': 'https://api.github.com/repos/KumundzhievMaxim/Testing_GitHub_API/tags',\n",
       " 'blobs_url': 'https://api.github.com/repos/KumundzhievMaxim/Testing_GitHub_API/git/blobs{/sha}',\n",
       " 'git_tags_url': 'https://api.github.com/repos/KumundzhievMaxim/Testing_GitHub_API/git/tags{/sha}',\n",
       " 'git_refs_url': 'https://api.github.com/repos/KumundzhievMaxim/Testing_GitHub_API/git/refs{/sha}',\n",
       " 'trees_url': 'https://api.github.com/repos/KumundzhievMaxim/Testing_GitHub_API/git/trees{/sha}',\n",
       " 'statuses_url': 'https://api.github.com/repos/KumundzhievMaxim/Testing_GitHub_API/statuses/{sha}',\n",
       " 'languages_url': 'https://api.github.com/repos/KumundzhievMaxim/Testing_GitHub_API/languages',\n",
       " 'stargazers_url': 'https://api.github.com/repos/KumundzhievMaxim/Testing_GitHub_API/stargazers',\n",
       " 'contributors_url': 'https://api.github.com/repos/KumundzhievMaxim/Testing_GitHub_API/contributors',\n",
       " 'subscribers_url': 'https://api.github.com/repos/KumundzhievMaxim/Testing_GitHub_API/subscribers',\n",
       " 'subscription_url': 'https://api.github.com/repos/KumundzhievMaxim/Testing_GitHub_API/subscription',\n",
       " 'commits_url': 'https://api.github.com/repos/KumundzhievMaxim/Testing_GitHub_API/commits{/sha}',\n",
       " 'git_commits_url': 'https://api.github.com/repos/KumundzhievMaxim/Testing_GitHub_API/git/commits{/sha}',\n",
       " 'comments_url': 'https://api.github.com/repos/KumundzhievMaxim/Testing_GitHub_API/comments{/number}',\n",
       " 'issue_comment_url': 'https://api.github.com/repos/KumundzhievMaxim/Testing_GitHub_API/issues/comments{/number}',\n",
       " 'contents_url': 'https://api.github.com/repos/KumundzhievMaxim/Testing_GitHub_API/contents/{+path}',\n",
       " 'compare_url': 'https://api.github.com/repos/KumundzhievMaxim/Testing_GitHub_API/compare/{base}...{head}',\n",
       " 'merges_url': 'https://api.github.com/repos/KumundzhievMaxim/Testing_GitHub_API/merges',\n",
       " 'archive_url': 'https://api.github.com/repos/KumundzhievMaxim/Testing_GitHub_API/{archive_format}{/ref}',\n",
       " 'downloads_url': 'https://api.github.com/repos/KumundzhievMaxim/Testing_GitHub_API/downloads',\n",
       " 'issues_url': 'https://api.github.com/repos/KumundzhievMaxim/Testing_GitHub_API/issues{/number}',\n",
       " 'pulls_url': 'https://api.github.com/repos/KumundzhievMaxim/Testing_GitHub_API/pulls{/number}',\n",
       " 'milestones_url': 'https://api.github.com/repos/KumundzhievMaxim/Testing_GitHub_API/milestones{/number}',\n",
       " 'notifications_url': 'https://api.github.com/repos/KumundzhievMaxim/Testing_GitHub_API/notifications{?since,all,participating}',\n",
       " 'labels_url': 'https://api.github.com/repos/KumundzhievMaxim/Testing_GitHub_API/labels{/name}',\n",
       " 'releases_url': 'https://api.github.com/repos/KumundzhievMaxim/Testing_GitHub_API/releases{/id}',\n",
       " 'deployments_url': 'https://api.github.com/repos/KumundzhievMaxim/Testing_GitHub_API/deployments',\n",
       " 'created_at': '2019-03-23T13:57:04Z',\n",
       " 'updated_at': '2019-05-29T23:37:33Z',\n",
       " 'pushed_at': '2019-05-29T23:37:32Z',\n",
       " 'git_url': 'git://github.com/KumundzhievMaxim/Testing_GitHub_API.git',\n",
       " 'ssh_url': 'git@github.com:KumundzhievMaxim/Testing_GitHub_API.git',\n",
       " 'clone_url': 'https://github.com/KumundzhievMaxim/Testing_GitHub_API.git',\n",
       " 'svn_url': 'https://github.com/KumundzhievMaxim/Testing_GitHub_API',\n",
       " 'homepage': None,\n",
       " 'size': 2,\n",
       " 'stargazers_count': 1,\n",
       " 'watchers_count': 1,\n",
       " 'language': None,\n",
       " 'has_issues': True,\n",
       " 'has_projects': True,\n",
       " 'has_downloads': True,\n",
       " 'has_wiki': True,\n",
       " 'has_pages': False,\n",
       " 'forks_count': 0,\n",
       " 'mirror_url': None,\n",
       " 'archived': False,\n",
       " 'disabled': False,\n",
       " 'open_issues_count': 0,\n",
       " 'license': None,\n",
       " 'forks': 0,\n",
       " 'open_issues': 0,\n",
       " 'watchers': 1,\n",
       " 'default_branch': 'master',\n",
       " 'permissions': {'admin': True, 'push': True, 'pull': True},\n",
       " 'allow_squash_merge': True,\n",
       " 'allow_merge_commit': True,\n",
       " 'allow_rebase_merge': True,\n",
       " 'network_count': 0,\n",
       " 'subscribers_count': 1}"
      ]
     },
     "execution_count": 78,
     "metadata": {},
     "output_type": "execute_result"
    }
   ],
   "source": [
    "request = requests.get('https://api.github.com/repos/KumundzhievMaxim/Testing_GitHub_API' , \n",
    "                       headers=headers)\n",
    "request.json()"
   ]
  },
  {
   "cell_type": "markdown",
   "metadata": {},
   "source": [
    "**Created tree**"
   ]
  },
  {
   "cell_type": "code",
   "execution_count": 79,
   "metadata": {},
   "outputs": [
    {
     "data": {
      "text/plain": [
       "{'sha': 'def5cc1270c4b269e3d5c016e5eb30081e7f1831',\n",
       " 'url': 'https://api.github.com/repos/KumundzhievMaxim/Testing_GitHub_API/git/trees/def5cc1270c4b269e3d5c016e5eb30081e7f1831',\n",
       " 'tree': [{'path': 'file.rb',\n",
       "   'mode': '100644',\n",
       "   'type': 'blob',\n",
       "   'sha': 'cd41b3c9d93f71df8f01879fa8ef6d023d44663a',\n",
       "   'size': 9,\n",
       "   'url': 'https://api.github.com/repos/KumundzhievMaxim/Testing_GitHub_API/git/blobs/cd41b3c9d93f71df8f01879fa8ef6d023d44663a'}],\n",
       " 'truncated': False}"
      ]
     },
     "execution_count": 79,
     "metadata": {},
     "output_type": "execute_result"
    }
   ],
   "source": [
    "#POST /repos/:owner/:repo/git/trees\n",
    "        \n",
    "repo = 'Testing_GitHub_API'\n",
    "description = 'Creating tree'\n",
    "\n",
    "payload = {\n",
    "  \"tree\": [\n",
    "    {\n",
    "      \"path\": \"file.rb\",\n",
    "      \"mode\": \"100644\",\n",
    "      \"type\": \"blob\",\n",
    "      \"content\": \"treecheat\" \n",
    "    }\n",
    "  ]\n",
    "}\n",
    "\n",
    "\n",
    "login = requests.post('https://api.github.com/repos/KumundzhievMaxim/Testing_GitHub_API/git/trees', auth=(user,token), data=json.dumps(payload))        \n",
    "                      \n",
    "login.json()                      \n",
    "                      "
   ]
  },
  {
   "cell_type": "markdown",
   "metadata": {},
   "source": [
    "**Check the stucture of a tree**"
   ]
  },
  {
   "cell_type": "code",
   "execution_count": 80,
   "metadata": {},
   "outputs": [
    {
     "data": {
      "text/plain": [
       "{'sha': 'def5cc1270c4b269e3d5c016e5eb30081e7f1831',\n",
       " 'url': 'https://api.github.com/repos/KumundzhievMaxim/Testing_GitHub_API/git/trees/def5cc1270c4b269e3d5c016e5eb30081e7f1831',\n",
       " 'tree': [{'path': 'file.rb',\n",
       "   'mode': '100644',\n",
       "   'type': 'blob',\n",
       "   'sha': 'cd41b3c9d93f71df8f01879fa8ef6d023d44663a',\n",
       "   'size': 9,\n",
       "   'url': 'https://api.github.com/repos/KumundzhievMaxim/Testing_GitHub_API/git/blobs/cd41b3c9d93f71df8f01879fa8ef6d023d44663a'}],\n",
       " 'truncated': False}"
      ]
     },
     "execution_count": 80,
     "metadata": {},
     "output_type": "execute_result"
    }
   ],
   "source": [
    "#GET /repos/:owner/:repo/git/trees/:tree_sha\n",
    "\n",
    "request = requests.get('https://api.github.com/repos/KumundzhievMaxim/Testing_GitHub_API/git/trees/def5cc1270c4b269e3d5c016e5eb30081e7f1831' , \n",
    "                       headers=headers)\n",
    "request.json()"
   ]
  },
  {
   "cell_type": "markdown",
   "metadata": {},
   "source": [
    "### 7 Create another file, which we will delete soon\n",
    "> https://developer.github.com/v3/repos/contents/#create-a-file"
   ]
  },
  {
   "cell_type": "code",
   "execution_count": 81,
   "metadata": {},
   "outputs": [
    {
     "data": {
      "text/plain": [
       "'QSBsb3Qgb2YgdGV4dApBIGxvdCBvZiB0ZXh0CkEgbG90IG9mIHRleHQKQSBsb3Qgb2YgdGV4dApBIGxvdCBvZiB0ZXh0CkEgbG90IG9mIHRleHQKQSBsb3Qgb2YgdGV4dApBIGxvdCBvZiB0ZXh0CkEgbG90IG9mIHRleHRBIGxvdCBvZiB0ZXh0CnZBIGxvdCBvZiB0ZXh0CkEgbG90IG9mIHRleHQKQSBsb3Qgb2YgdGV4dApBIGxvdCBvZiB0ZXh0CkEgbG90IG9mIHRleHQKQSBsb3Qgb2YgdGV4dApBIGxvdCBvZiB0ZXh0CkEgbG90IG9mIHRleHQKQSBsb3Qgb2YgdGV4dApBIGxvdCBvZiB0ZXh0QSBsb3Qgb2YgdGV4dAp2QSBsb3Qgb2YgdGV4dAo='"
      ]
     },
     "execution_count": 81,
     "metadata": {},
     "output_type": "execute_result"
    }
   ],
   "source": [
    "f = open('test7.txt', 'rb')\n",
    "content = base64.b64encode(f.read())\n",
    "\n",
    "params = {\n",
    "    \"message\": \"commit message\",\n",
    "    \"content\": content.decode('utf-8')\n",
    "}\n",
    "params['content']"
   ]
  },
  {
   "cell_type": "code",
   "execution_count": 82,
   "metadata": {},
   "outputs": [],
   "source": [
    "request = requests.put('https://api.github.com/repos/KumundzhievMaxim/Testing_GitHub_API/contents/test7.txt', \n",
    "                       headers=headers, data=json.dumps(params))"
   ]
  },
  {
   "cell_type": "code",
   "execution_count": 83,
   "metadata": {},
   "outputs": [
    {
     "data": {
      "text/plain": [
       "{'name': 'test7.txt',\n",
       " 'path': 'test7.txt',\n",
       " 'sha': 'aac60eb76b3cf6f2e767d7c161e201b4fdece444',\n",
       " 'size': 308,\n",
       " 'url': 'https://api.github.com/repos/KumundzhievMaxim/Testing_GitHub_API/contents/test7.txt?ref=master',\n",
       " 'html_url': 'https://github.com/KumundzhievMaxim/Testing_GitHub_API/blob/master/test7.txt',\n",
       " 'git_url': 'https://api.github.com/repos/KumundzhievMaxim/Testing_GitHub_API/git/blobs/aac60eb76b3cf6f2e767d7c161e201b4fdece444',\n",
       " 'download_url': 'https://raw.githubusercontent.com/KumundzhievMaxim/Testing_GitHub_API/master/test7.txt',\n",
       " 'type': 'file',\n",
       " 'content': 'QSBsb3Qgb2YgdGV4dApBIGxvdCBvZiB0ZXh0CkEgbG90IG9mIHRleHQKQSBs\\nb3Qgb2YgdGV4dApBIGxvdCBvZiB0ZXh0CkEgbG90IG9mIHRleHQKQSBsb3Qg\\nb2YgdGV4dApBIGxvdCBvZiB0ZXh0CkEgbG90IG9mIHRleHRBIGxvdCBvZiB0\\nZXh0CnZBIGxvdCBvZiB0ZXh0CkEgbG90IG9mIHRleHQKQSBsb3Qgb2YgdGV4\\ndApBIGxvdCBvZiB0ZXh0CkEgbG90IG9mIHRleHQKQSBsb3Qgb2YgdGV4dApB\\nIGxvdCBvZiB0ZXh0CkEgbG90IG9mIHRleHQKQSBsb3Qgb2YgdGV4dApBIGxv\\ndCBvZiB0ZXh0QSBsb3Qgb2YgdGV4dAp2QSBsb3Qgb2YgdGV4dAo=\\n',\n",
       " 'encoding': 'base64',\n",
       " '_links': {'self': 'https://api.github.com/repos/KumundzhievMaxim/Testing_GitHub_API/contents/test7.txt?ref=master',\n",
       "  'git': 'https://api.github.com/repos/KumundzhievMaxim/Testing_GitHub_API/git/blobs/aac60eb76b3cf6f2e767d7c161e201b4fdece444',\n",
       "  'html': 'https://github.com/KumundzhievMaxim/Testing_GitHub_API/blob/master/test7.txt'}}"
      ]
     },
     "execution_count": 83,
     "metadata": {},
     "output_type": "execute_result"
    }
   ],
   "source": [
    "request = requests.get('https://api.github.com/repos/KumundzhievMaxim/Testing_GitHub_API/contents/test7.txt')\n",
    "request.json()"
   ]
  },
  {
   "cell_type": "markdown",
   "metadata": {},
   "source": [
    "### 8. Delete file\n",
    "> https://developer.github.com/v3/repos/contents/#delete-a-file\n",
    "For deleting a file we will need it's sha code\n",
    "\n",
    "\n",
    "\n"
   ]
  },
  {
   "cell_type": "code",
   "execution_count": 84,
   "metadata": {},
   "outputs": [],
   "source": [
    "params = {\n",
    "    'message': 'deleting',\n",
    "    'sha': '7984f92f63c4d1bbfede5f85939060f70f5fc961'\n",
    "}"
   ]
  },
  {
   "cell_type": "code",
   "execution_count": 85,
   "metadata": {},
   "outputs": [
    {
     "data": {
      "text/plain": [
       "409"
      ]
     },
     "execution_count": 85,
     "metadata": {},
     "output_type": "execute_result"
    }
   ],
   "source": [
    "request = requests.delete('https://api.github.com/repos/KumundzhievMaxim/Testing_GitHub_API/contents/CreateFileTest.txt',\n",
    "                        headers=headers, data=json.dumps(params))\n",
    "request.status_code"
   ]
  },
  {
   "cell_type": "markdown",
   "metadata": {},
   "source": [
    "### 9. Add us as a collaborator\n",
    "> https://developer.github.com/v3/repos/collaborators/#add-user-as-a-collaborator\n",
    "Add either \"jegesm\" or \"dobos\" or both users to your repository"
   ]
  },
  {
   "cell_type": "code",
   "execution_count": 86,
   "metadata": {},
   "outputs": [
    {
     "data": {
      "text/plain": [
       "[{'login': 'jegesm',\n",
       "  'id': 1093061,\n",
       "  'node_id': 'MDQ6VXNlcjEwOTMwNjE=',\n",
       "  'avatar_url': 'https://avatars2.githubusercontent.com/u/1093061?v=4',\n",
       "  'gravatar_id': '',\n",
       "  'url': 'https://api.github.com/users/jegesm',\n",
       "  'html_url': 'https://github.com/jegesm',\n",
       "  'followers_url': 'https://api.github.com/users/jegesm/followers',\n",
       "  'following_url': 'https://api.github.com/users/jegesm/following{/other_user}',\n",
       "  'gists_url': 'https://api.github.com/users/jegesm/gists{/gist_id}',\n",
       "  'starred_url': 'https://api.github.com/users/jegesm/starred{/owner}{/repo}',\n",
       "  'subscriptions_url': 'https://api.github.com/users/jegesm/subscriptions',\n",
       "  'organizations_url': 'https://api.github.com/users/jegesm/orgs',\n",
       "  'repos_url': 'https://api.github.com/users/jegesm/repos',\n",
       "  'events_url': 'https://api.github.com/users/jegesm/events{/privacy}',\n",
       "  'received_events_url': 'https://api.github.com/users/jegesm/received_events',\n",
       "  'type': 'User',\n",
       "  'site_admin': False,\n",
       "  'permissions': {'admin': False, 'push': True, 'pull': True}},\n",
       " {'login': 'KumundzhievMaxim',\n",
       "  'id': 37558223,\n",
       "  'node_id': 'MDQ6VXNlcjM3NTU4MjIz',\n",
       "  'avatar_url': 'https://avatars3.githubusercontent.com/u/37558223?v=4',\n",
       "  'gravatar_id': '',\n",
       "  'url': 'https://api.github.com/users/KumundzhievMaxim',\n",
       "  'html_url': 'https://github.com/KumundzhievMaxim',\n",
       "  'followers_url': 'https://api.github.com/users/KumundzhievMaxim/followers',\n",
       "  'following_url': 'https://api.github.com/users/KumundzhievMaxim/following{/other_user}',\n",
       "  'gists_url': 'https://api.github.com/users/KumundzhievMaxim/gists{/gist_id}',\n",
       "  'starred_url': 'https://api.github.com/users/KumundzhievMaxim/starred{/owner}{/repo}',\n",
       "  'subscriptions_url': 'https://api.github.com/users/KumundzhievMaxim/subscriptions',\n",
       "  'organizations_url': 'https://api.github.com/users/KumundzhievMaxim/orgs',\n",
       "  'repos_url': 'https://api.github.com/users/KumundzhievMaxim/repos',\n",
       "  'events_url': 'https://api.github.com/users/KumundzhievMaxim/events{/privacy}',\n",
       "  'received_events_url': 'https://api.github.com/users/KumundzhievMaxim/received_events',\n",
       "  'type': 'User',\n",
       "  'site_admin': False,\n",
       "  'permissions': {'admin': True, 'push': True, 'pull': True}}]"
      ]
     },
     "execution_count": 86,
     "metadata": {},
     "output_type": "execute_result"
    }
   ],
   "source": [
    "url = 'https://api.github.com/repos/KumundzhievMaxim/Testing_GitHub_API/collaborators'\n",
    "request = requests.get(url, headers = headers)\n",
    "dic = request.json()\n",
    "dic"
   ]
  },
  {
   "cell_type": "code",
   "execution_count": 87,
   "metadata": {},
   "outputs": [
    {
     "data": {
      "text/plain": [
       "{'id': 14989345,\n",
       " 'node_id': 'MDIwOlJlcG9zaXRvcnlJbnZpdGF0aW9uMTQ5ODkzNDU=',\n",
       " 'repository': {'id': 177295343,\n",
       "  'node_id': 'MDEwOlJlcG9zaXRvcnkxNzcyOTUzNDM=',\n",
       "  'name': 'Testing_GitHub_API',\n",
       "  'full_name': 'KumundzhievMaxim/Testing_GitHub_API',\n",
       "  'private': False,\n",
       "  'owner': {'login': 'KumundzhievMaxim',\n",
       "   'id': 37558223,\n",
       "   'node_id': 'MDQ6VXNlcjM3NTU4MjIz',\n",
       "   'avatar_url': 'https://avatars3.githubusercontent.com/u/37558223?v=4',\n",
       "   'gravatar_id': '',\n",
       "   'url': 'https://api.github.com/users/KumundzhievMaxim',\n",
       "   'html_url': 'https://github.com/KumundzhievMaxim',\n",
       "   'followers_url': 'https://api.github.com/users/KumundzhievMaxim/followers',\n",
       "   'following_url': 'https://api.github.com/users/KumundzhievMaxim/following{/other_user}',\n",
       "   'gists_url': 'https://api.github.com/users/KumundzhievMaxim/gists{/gist_id}',\n",
       "   'starred_url': 'https://api.github.com/users/KumundzhievMaxim/starred{/owner}{/repo}',\n",
       "   'subscriptions_url': 'https://api.github.com/users/KumundzhievMaxim/subscriptions',\n",
       "   'organizations_url': 'https://api.github.com/users/KumundzhievMaxim/orgs',\n",
       "   'repos_url': 'https://api.github.com/users/KumundzhievMaxim/repos',\n",
       "   'events_url': 'https://api.github.com/users/KumundzhievMaxim/events{/privacy}',\n",
       "   'received_events_url': 'https://api.github.com/users/KumundzhievMaxim/received_events',\n",
       "   'type': 'User',\n",
       "   'site_admin': False},\n",
       "  'html_url': 'https://github.com/KumundzhievMaxim/Testing_GitHub_API',\n",
       "  'description': 'Created with GitHub API',\n",
       "  'fork': False,\n",
       "  'url': 'https://api.github.com/repos/KumundzhievMaxim/Testing_GitHub_API',\n",
       "  'forks_url': 'https://api.github.com/repos/KumundzhievMaxim/Testing_GitHub_API/forks',\n",
       "  'keys_url': 'https://api.github.com/repos/KumundzhievMaxim/Testing_GitHub_API/keys{/key_id}',\n",
       "  'collaborators_url': 'https://api.github.com/repos/KumundzhievMaxim/Testing_GitHub_API/collaborators{/collaborator}',\n",
       "  'teams_url': 'https://api.github.com/repos/KumundzhievMaxim/Testing_GitHub_API/teams',\n",
       "  'hooks_url': 'https://api.github.com/repos/KumundzhievMaxim/Testing_GitHub_API/hooks',\n",
       "  'issue_events_url': 'https://api.github.com/repos/KumundzhievMaxim/Testing_GitHub_API/issues/events{/number}',\n",
       "  'events_url': 'https://api.github.com/repos/KumundzhievMaxim/Testing_GitHub_API/events',\n",
       "  'assignees_url': 'https://api.github.com/repos/KumundzhievMaxim/Testing_GitHub_API/assignees{/user}',\n",
       "  'branches_url': 'https://api.github.com/repos/KumundzhievMaxim/Testing_GitHub_API/branches{/branch}',\n",
       "  'tags_url': 'https://api.github.com/repos/KumundzhievMaxim/Testing_GitHub_API/tags',\n",
       "  'blobs_url': 'https://api.github.com/repos/KumundzhievMaxim/Testing_GitHub_API/git/blobs{/sha}',\n",
       "  'git_tags_url': 'https://api.github.com/repos/KumundzhievMaxim/Testing_GitHub_API/git/tags{/sha}',\n",
       "  'git_refs_url': 'https://api.github.com/repos/KumundzhievMaxim/Testing_GitHub_API/git/refs{/sha}',\n",
       "  'trees_url': 'https://api.github.com/repos/KumundzhievMaxim/Testing_GitHub_API/git/trees{/sha}',\n",
       "  'statuses_url': 'https://api.github.com/repos/KumundzhievMaxim/Testing_GitHub_API/statuses/{sha}',\n",
       "  'languages_url': 'https://api.github.com/repos/KumundzhievMaxim/Testing_GitHub_API/languages',\n",
       "  'stargazers_url': 'https://api.github.com/repos/KumundzhievMaxim/Testing_GitHub_API/stargazers',\n",
       "  'contributors_url': 'https://api.github.com/repos/KumundzhievMaxim/Testing_GitHub_API/contributors',\n",
       "  'subscribers_url': 'https://api.github.com/repos/KumundzhievMaxim/Testing_GitHub_API/subscribers',\n",
       "  'subscription_url': 'https://api.github.com/repos/KumundzhievMaxim/Testing_GitHub_API/subscription',\n",
       "  'commits_url': 'https://api.github.com/repos/KumundzhievMaxim/Testing_GitHub_API/commits{/sha}',\n",
       "  'git_commits_url': 'https://api.github.com/repos/KumundzhievMaxim/Testing_GitHub_API/git/commits{/sha}',\n",
       "  'comments_url': 'https://api.github.com/repos/KumundzhievMaxim/Testing_GitHub_API/comments{/number}',\n",
       "  'issue_comment_url': 'https://api.github.com/repos/KumundzhievMaxim/Testing_GitHub_API/issues/comments{/number}',\n",
       "  'contents_url': 'https://api.github.com/repos/KumundzhievMaxim/Testing_GitHub_API/contents/{+path}',\n",
       "  'compare_url': 'https://api.github.com/repos/KumundzhievMaxim/Testing_GitHub_API/compare/{base}...{head}',\n",
       "  'merges_url': 'https://api.github.com/repos/KumundzhievMaxim/Testing_GitHub_API/merges',\n",
       "  'archive_url': 'https://api.github.com/repos/KumundzhievMaxim/Testing_GitHub_API/{archive_format}{/ref}',\n",
       "  'downloads_url': 'https://api.github.com/repos/KumundzhievMaxim/Testing_GitHub_API/downloads',\n",
       "  'issues_url': 'https://api.github.com/repos/KumundzhievMaxim/Testing_GitHub_API/issues{/number}',\n",
       "  'pulls_url': 'https://api.github.com/repos/KumundzhievMaxim/Testing_GitHub_API/pulls{/number}',\n",
       "  'milestones_url': 'https://api.github.com/repos/KumundzhievMaxim/Testing_GitHub_API/milestones{/number}',\n",
       "  'notifications_url': 'https://api.github.com/repos/KumundzhievMaxim/Testing_GitHub_API/notifications{?since,all,participating}',\n",
       "  'labels_url': 'https://api.github.com/repos/KumundzhievMaxim/Testing_GitHub_API/labels{/name}',\n",
       "  'releases_url': 'https://api.github.com/repos/KumundzhievMaxim/Testing_GitHub_API/releases{/id}',\n",
       "  'deployments_url': 'https://api.github.com/repos/KumundzhievMaxim/Testing_GitHub_API/deployments'},\n",
       " 'invitee': {'login': 'mironouz',\n",
       "  'id': 12766911,\n",
       "  'node_id': 'MDQ6VXNlcjEyNzY2OTEx',\n",
       "  'avatar_url': 'https://avatars0.githubusercontent.com/u/12766911?v=4',\n",
       "  'gravatar_id': '',\n",
       "  'url': 'https://api.github.com/users/mironouz',\n",
       "  'html_url': 'https://github.com/mironouz',\n",
       "  'followers_url': 'https://api.github.com/users/mironouz/followers',\n",
       "  'following_url': 'https://api.github.com/users/mironouz/following{/other_user}',\n",
       "  'gists_url': 'https://api.github.com/users/mironouz/gists{/gist_id}',\n",
       "  'starred_url': 'https://api.github.com/users/mironouz/starred{/owner}{/repo}',\n",
       "  'subscriptions_url': 'https://api.github.com/users/mironouz/subscriptions',\n",
       "  'organizations_url': 'https://api.github.com/users/mironouz/orgs',\n",
       "  'repos_url': 'https://api.github.com/users/mironouz/repos',\n",
       "  'events_url': 'https://api.github.com/users/mironouz/events{/privacy}',\n",
       "  'received_events_url': 'https://api.github.com/users/mironouz/received_events',\n",
       "  'type': 'User',\n",
       "  'site_admin': False},\n",
       " 'inviter': {'login': 'KumundzhievMaxim',\n",
       "  'id': 37558223,\n",
       "  'node_id': 'MDQ6VXNlcjM3NTU4MjIz',\n",
       "  'avatar_url': 'https://avatars3.githubusercontent.com/u/37558223?v=4',\n",
       "  'gravatar_id': '',\n",
       "  'url': 'https://api.github.com/users/KumundzhievMaxim',\n",
       "  'html_url': 'https://github.com/KumundzhievMaxim',\n",
       "  'followers_url': 'https://api.github.com/users/KumundzhievMaxim/followers',\n",
       "  'following_url': 'https://api.github.com/users/KumundzhievMaxim/following{/other_user}',\n",
       "  'gists_url': 'https://api.github.com/users/KumundzhievMaxim/gists{/gist_id}',\n",
       "  'starred_url': 'https://api.github.com/users/KumundzhievMaxim/starred{/owner}{/repo}',\n",
       "  'subscriptions_url': 'https://api.github.com/users/KumundzhievMaxim/subscriptions',\n",
       "  'organizations_url': 'https://api.github.com/users/KumundzhievMaxim/orgs',\n",
       "  'repos_url': 'https://api.github.com/users/KumundzhievMaxim/repos',\n",
       "  'events_url': 'https://api.github.com/users/KumundzhievMaxim/events{/privacy}',\n",
       "  'received_events_url': 'https://api.github.com/users/KumundzhievMaxim/received_events',\n",
       "  'type': 'User',\n",
       "  'site_admin': False},\n",
       " 'permissions': 'write',\n",
       " 'created_at': '2019-03-23T16:07:02Z',\n",
       " 'url': 'https://api.github.com/user/repository_invitations/14989345',\n",
       " 'html_url': 'https://github.com/KumundzhievMaxim/Testing_GitHub_API/invitations'}"
      ]
     },
     "execution_count": 87,
     "metadata": {},
     "output_type": "execute_result"
    }
   ],
   "source": [
    "request_add_user = requests.put('https://api.github.com/repos/KumundzhievMaxim/Testing_GitHub_API/collaborators/jegesm', \n",
    "                                headers = headers)\n",
    "request_add_user = requests.put('https://api.github.com/repos/KumundzhievMaxim/Testing_GitHub_API/collaborators/dobos', \n",
    "                                headers = headers)\n",
    "request_add_user = requests.put('https://api.github.com/repos/KumundzhievMaxim/Testing_GitHub_API/collaborators/mironouz', \n",
    "                                headers = headers)\n",
    "request_add_user.json()\n",
    "#/:owner/:repo/collaborators/:username"
   ]
  }
 ],
 "metadata": {
  "kernelspec": {
   "display_name": "Python 3",
   "language": "python",
   "name": "python3"
  },
  "language_info": {
   "codemirror_mode": {
    "name": "ipython",
    "version": 3
   },
   "file_extension": ".py",
   "mimetype": "text/x-python",
   "name": "python",
   "nbconvert_exporter": "python",
   "pygments_lexer": "ipython3",
   "version": "3.6.6"
  }
 },
 "nbformat": 4,
 "nbformat_minor": 2
}
