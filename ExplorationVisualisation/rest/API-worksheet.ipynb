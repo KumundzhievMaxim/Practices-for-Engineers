{
 "cells": [
  {
   "cell_type": "markdown",
   "metadata": {},
   "source": [
    "## Create an API\n",
    "\n",
    "* 4 endpoint\n",
    " * */help* returns with the help/usage of the other 3 endpoint\n",
    " * 1 endpoint where one needs to use arguments (key/value pairs)\n",
    " * returns some data"
   ]
  },
  {
   "cell_type": "markdown",
   "metadata": {},
   "source": [
    "## How to run this service\n",
    "\n",
    "* Launch a terminal and enter into the directory, that contains this notebook\n",
    "* then type\n",
    "```\n",
    "preview-nb-api.sh API-worksheet.ipynb \n",
    "```\n",
    "* the first line of output will tell you the URL of the API"
   ]
  },
  {
   "cell_type": "code",
   "execution_count": 6,
   "metadata": {},
   "outputs": [],
   "source": [
    "import json\n",
    "import base64"
   ]
  },
  {
   "cell_type": "code",
   "execution_count": 7,
   "metadata": {},
   "outputs": [],
   "source": [
    "REQUEST = json.dumps({\n",
    " 'args' : {}\n",
    "})"
   ]
  },
  {
   "cell_type": "code",
   "execution_count": 15,
   "metadata": {},
   "outputs": [
    {
     "name": "stdout",
     "output_type": "stream",
     "text": [
      "{}\n"
     ]
    }
   ],
   "source": [
    "# GET /help\n",
    "req = json.loads(REQUEST)\n",
    "args = req['args']\n",
    "\n",
    "subhelp = {'Message': 'This is a test API. This endpoint can digest the \"simple\" and \"data\" arguments'}\n",
    "\n",
    "if 'simple' in args:\n",
    "    subhelp = {'Message': 'This is a test API and has a simple argument'}\n",
    "    response = json.dumps(subhelp)\n",
    "elif 'data' in args:\n",
    "    N = int(args['data'][0])\n",
    "    subhelp = [{'Message': 'This is a test API and this endpoint returns data '}, {'data': list(range(N))}]\n",
    "    #subhelp = [{'Message': 'This is a test API and this endpoint returns data '}, {'data': args['data']}]\n",
    "    response = json.dumps(subhelp) \n",
    "else:\n",
    "    response = json.dumps(subhelp)\n",
    "    \n",
    "#print(response)\n",
    "print(args)\n"
   ]
  },
  {
   "cell_type": "code",
   "execution_count": null,
   "metadata": {},
   "outputs": [],
   "source": [
    "# GET /key/value\n",
    "req = json.loads(REQUEST)\n",
    "args = req['args']\n",
    "\n"
   ]
  },
  {
   "cell_type": "code",
   "execution_count": null,
   "metadata": {},
   "outputs": [],
   "source": []
  },
  {
   "cell_type": "code",
   "execution_count": null,
   "metadata": {},
   "outputs": [],
   "source": []
  },
  {
   "cell_type": "code",
   "execution_count": 9,
   "metadata": {},
   "outputs": [],
   "source": [
    "# GET /another\n",
    "req = json.loads(REQUEST)\n",
    "args = req['args']"
   ]
  },
  {
   "cell_type": "markdown",
   "metadata": {},
   "source": [
    "**Image**"
   ]
  },
  {
   "cell_type": "code",
   "execution_count": 5,
   "metadata": {},
   "outputs": [],
   "source": [
    "# with open(\"img.png\",'r') as i:\n",
    "#     imgstr = json.loads(i.read())\n",
    "#     img_encoded = base64.decodebytes(imgstr.encode())\n",
    "\n",
    "#     # Then maybe write it to a file\n",
    "#     with open(\"t.png\",'wb') as t:\n",
    "#         t.write(img_encoded)"
   ]
  },
  {
   "cell_type": "code",
   "execution_count": null,
   "metadata": {},
   "outputs": [],
   "source": []
  },
  {
   "cell_type": "code",
   "execution_count": null,
   "metadata": {},
   "outputs": [],
   "source": []
  },
  {
   "cell_type": "code",
   "execution_count": null,
   "metadata": {},
   "outputs": [],
   "source": []
  }
 ],
 "metadata": {
  "kernelspec": {
   "display_name": "Python 3",
   "language": "python",
   "name": "python3"
  },
  "language_info": {
   "codemirror_mode": {
    "name": "ipython",
    "version": 3
   },
   "file_extension": ".py",
   "mimetype": "text/x-python",
   "name": "python",
   "nbconvert_exporter": "python",
   "pygments_lexer": "ipython3",
   "version": "3.6.6"
  }
 },
 "nbformat": 4,
 "nbformat_minor": 2
}
