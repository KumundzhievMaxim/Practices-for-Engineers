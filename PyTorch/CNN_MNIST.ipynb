{
 "cells": [
  {
   "cell_type": "markdown",
   "metadata": {},
   "source": [
    "## MNIST with LeeNet"
   ]
  },
  {
   "cell_type": "code",
   "execution_count": 2,
   "metadata": {},
   "outputs": [],
   "source": [
    "import torch\n",
    "import random\n",
    "import numpy as np\n",
    "from torch.nn.utils.rnn import pad_sequence\n",
    "from torch.nn.functional import pad"
   ]
  },
  {
   "cell_type": "code",
   "execution_count": 3,
   "metadata": {},
   "outputs": [
    {
     "data": {
      "text/plain": [
       "True"
      ]
     },
     "execution_count": 3,
     "metadata": {},
     "output_type": "execute_result"
    }
   ],
   "source": [
    "def fix_seed():\n",
    "    random.seed(0)\n",
    "    np.random.seed(0)\n",
    "    torch.cuda.manual_seed(0)\n",
    "    torch.backends.cudnn.determenistic=True\n",
    "    return True\n",
    "\n",
    "fix_seed()"
   ]
  },
  {
   "cell_type": "code",
   "execution_count": 6,
   "metadata": {},
   "outputs": [],
   "source": [
    "import torchvision.datasets as data"
   ]
  },
  {
   "cell_type": "code",
   "execution_count": 7,
   "metadata": {},
   "outputs": [
    {
     "name": "stderr",
     "output_type": "stream",
     "text": [
      "/Users/macbook/miniconda3/envs/torch/lib/python3.7/site-packages/torchvision/datasets/mnist.py:53: UserWarning: train_data has been renamed data\n",
      "  warnings.warn(\"train_data has been renamed data\")\n",
      "/Users/macbook/miniconda3/envs/torch/lib/python3.7/site-packages/torchvision/datasets/mnist.py:58: UserWarning: test_data has been renamed data\n",
      "  warnings.warn(\"test_data has been renamed data\")\n"
     ]
    }
   ],
   "source": [
    "train_data=data.MNIST('./', download=True, train=True)\n",
    "test_data=data.MNIST('./', download=True, train=False)\n",
    "\n",
    "X_train, X_test=train_data.train_data.float(), test_data.test_data.float()\n",
    "y_train, y_test=train_data.targets, test_data.targets"
   ]
  },
  {
   "cell_type": "code",
   "execution_count": 8,
   "metadata": {},
   "outputs": [
    {
     "data": {
      "text/plain": [
       "(torch.Size([60000, 28, 28]),\n",
       " torch.Size([10000, 28, 28]),\n",
       " torch.Size([60000]),\n",
       " torch.Size([10000]))"
      ]
     },
     "execution_count": 8,
     "metadata": {},
     "output_type": "execute_result"
    }
   ],
   "source": [
    "X_train.shape, X_test.shape, y_train.shape, y_test.shape"
   ]
  },
  {
   "cell_type": "code",
   "execution_count": 9,
   "metadata": {},
   "outputs": [],
   "source": [
    "X_train = X_train.unsqueeze(1).float()\n",
    "X_test = X_test.unsqueeze(1).float()"
   ]
  },
  {
   "cell_type": "markdown",
   "metadata": {},
   "source": [
    "## Define  Architecture of NeuralNet "
   ]
  },
  {
   "cell_type": "code",
   "execution_count": 16,
   "metadata": {},
   "outputs": [],
   "source": [
    "class LeNet5(torch.nn.Module):\n",
    "    def __init__(self):\n",
    "        super(LeNet5, self).__init__()\n",
    "        \n",
    "        self.conv_1 = torch.nn.Conv2d(\n",
    "            in_channels=1, out_channels=6, kernel_size=5, padding=2\n",
    "        )\n",
    "        self.activ_1 = torch.nn.Tanh()\n",
    "        self.pool_1 = torch.nn.AvgPool2d(kernel_size=2, stride=2)\n",
    "        \n",
    "        self.conv_2 = torch.nn.Conv2d(\n",
    "            in_channels=6, out_channels=16, kernel_size=5, padding=0\n",
    "        )\n",
    "        self.activ_2 = torch.nn.Tanh()\n",
    "        self.pool_2 = torch.nn.AvgPool2d(kernel_size=2, stride=2)\n",
    "        \n",
    "        self.fully_conn_1 = torch.nn.Linear(5*5*16, 120)\n",
    "        self.activ_3 = torch.nn.Tanh()\n",
    "        \n",
    "        self.fully_conn_2 = torch.nn.Linear(120, 84)\n",
    "        self.activ_4 = torch.nn.Tanh()\n",
    "        \n",
    "        self.fully_conn_3 = torch.nn.Linear(84, 10)\n",
    "        \n",
    "        \n",
    "    def forward(self, x):\n",
    "        x = self.conv_1(x)\n",
    "        x = self.activ_1(x)\n",
    "        x = self.pool_1(x)\n",
    "        \n",
    "        x = self.conv_2(x)\n",
    "        x = self.activ_2(x)\n",
    "        x = self.pool_2(x)\n",
    "        \n",
    "        x = x.view(x.size(0), x.size(1)*x.size(2)*x.size(3))\n",
    "        \n",
    "        x = self.fully_conn_1(x)\n",
    "        x = self.activ_3(x)\n",
    "        x = self.fully_conn_2(x)\n",
    "        x = self.activ_4(x)\n",
    "        x = self.fully_conn_3(x)\n",
    "        return x"
   ]
  },
  {
   "cell_type": "code",
   "execution_count": 20,
   "metadata": {},
   "outputs": [],
   "source": [
    "lenet5 = LeNet5()"
   ]
  },
  {
   "cell_type": "code",
   "execution_count": 21,
   "metadata": {},
   "outputs": [
    {
     "data": {
      "text/plain": [
       "LeNet5(\n",
       "  (conv_1): Conv2d(1, 6, kernel_size=(5, 5), stride=(1, 1), padding=(2, 2))\n",
       "  (activ_1): Tanh()\n",
       "  (pool_1): AvgPool2d(kernel_size=2, stride=2, padding=0)\n",
       "  (conv_2): Conv2d(6, 16, kernel_size=(5, 5), stride=(1, 1))\n",
       "  (activ_2): Tanh()\n",
       "  (pool_2): AvgPool2d(kernel_size=2, stride=2, padding=0)\n",
       "  (fully_conn_1): Linear(in_features=400, out_features=120, bias=True)\n",
       "  (activ_3): Tanh()\n",
       "  (fully_conn_2): Linear(in_features=120, out_features=84, bias=True)\n",
       "  (activ_4): Tanh()\n",
       "  (fully_conn_3): Linear(in_features=84, out_features=10, bias=True)\n",
       ")"
      ]
     },
     "execution_count": 21,
     "metadata": {},
     "output_type": "execute_result"
    }
   ],
   "source": [
    "lenet5"
   ]
  },
  {
   "cell_type": "code",
   "execution_count": 44,
   "metadata": {},
   "outputs": [],
   "source": [
    "# ### Test with Paddings\n",
    "# import torch\n",
    "\n",
    "# N = 4\n",
    "# C = 3\n",
    "# C_out = 10\n",
    "# H = 8\n",
    "# W = 16\n",
    "\n",
    "# x = torch.ones((N, C, H, W))\n",
    "\n",
    "# # torch.Size([4, 10, 8, 16])\n",
    "# out1 = torch.nn.Conv2d(C, C_out, kernel_size=(3, 3), padding=1)(x)\n",
    "# print(out1.shape) # для самопроверки\n",
    "\n",
    "# # torch.Size([4, 10, 8, 16])\n",
    "# out2 = torch.nn.Conv2d(C, C_out, kernel_size=(5, 5), padding=2)(x)\n",
    "# print(out2.shape) # для самопроверки\n",
    "\n",
    "# # torch.Size([4, 10, 8, 16])\n",
    "# out3 = torch.nn.Conv2d(C, C_out, kernel_size=(7, 7), padding=3)(x)\n",
    "# print(out3.shape) # для самопроверки\n",
    "\n",
    "# # torch.Size([4, 10, 8, 16])\n",
    "# out4 = torch.nn.Conv2d(C, C_out, kernel_size=(9, 9), padding=4)(x)\n",
    "# print(out4.shape) # для самопроверки\n",
    "\n",
    "# # torch.Size([4, 10, 8, 16])\n",
    "# out5 = torch.nn.Conv2d(C, C_out, kernel_size=(3, 5), padding=(1,2))(x)\n",
    "# print(out5.shape) # для самопроверки\n",
    "\n",
    "# # torch.Size([4, 10, 22, 30])\n",
    "# out6 = torch.nn.Conv2d(C, C_out, kernel_size=(3, 3), padding=(8,8))(x)\n",
    "# print(out6.shape) # для самопроверки\n",
    "\n",
    "# # torch.Size([4, 10, 7, 15])\n",
    "# out7 = torch.nn.Conv2d(C, C_out, kernel_size=(4, 4), padding=1)(x)\n",
    "# print(out7.shape) # для самопроверки\n",
    "\n",
    "# # torch.Size([4, 10, 9, 17])\n",
    "# out8 = torch.nn.Conv2d(C, C_out, kernel_size=(2, 2), padding=1)(x)\n",
    "# print(out8.shape) # для самопроверки"
   ]
  },
  {
   "cell_type": "code",
   "execution_count": 23,
   "metadata": {},
   "outputs": [],
   "source": [
    "#Define Loss and Optimizer\n",
    "loss = torch.nn.CrossEntropyLoss()\n",
    "optimizer = torch.optim.Adam(lenet5.parameters(), lr=1.0e-3)"
   ]
  },
  {
   "cell_type": "code",
   "execution_count": null,
   "metadata": {},
   "outputs": [
    {
     "name": "stdout",
     "output_type": "stream",
     "text": [
      "tensor(0.9895)\n",
      "tensor(0.9877)\n",
      "tensor(0.9871)\n",
      "tensor(0.9888)\n",
      "tensor(0.9882)\n",
      "tensor(0.9882)\n",
      "tensor(0.9876)\n",
      "tensor(0.9885)\n",
      "tensor(0.9895)\n"
     ]
    }
   ],
   "source": [
    "#Process of fitting on batches\n",
    "\n",
    "batch_size = 100\n",
    "test_accuracy_history = []\n",
    "test_loss_history = []\n",
    "\n",
    "for epoch in range(1000):\n",
    "    order = np.random.permutation(len(X_train))\n",
    "    for start_index in range(0, len(X_train), batch_size):\n",
    "        optimizer.zero_grad()\n",
    "        \n",
    "        batch_indexes = order[start_index:start_index+batch_size]\n",
    "        X_batch = X_train[batch_indexes]\n",
    "        y_batch = y_train[batch_indexes]\n",
    "        \n",
    "        preds = lenet5.forward(X_batch)\n",
    "        \n",
    "        loss_value = loss(preds, y_batch)\n",
    "        loss_value.backward()\n",
    "        \n",
    "        optimizer.step()\n",
    "        \n",
    "    test_predicts = lenet5.forward(X_test)\n",
    "    test_loss_history.append(loss(test_predicts, y_test).data)\n",
    "    \n",
    "    accuracy = (test_predicts.argmax(dim=1) == y_test).float().mean()\n",
    "    test_accuracy_history.append(accuracy)\n",
    "    print(accuracy)"
   ]
  },
  {
   "cell_type": "code",
   "execution_count": null,
   "metadata": {},
   "outputs": [],
   "source": [
    "plt.figure(figsize=(10,8))\n",
    "plt.plot(test_accuracy_history);"
   ]
  },
  {
   "cell_type": "code",
   "execution_count": null,
   "metadata": {},
   "outputs": [],
   "source": [
    "plt.figure(figsize=(10,8))\n",
    "plt.plot(test_loss_history);"
   ]
  }
 ],
 "metadata": {
  "kernelspec": {
   "display_name": "Python 3",
   "language": "python",
   "name": "python3"
  },
  "language_info": {
   "codemirror_mode": {
    "name": "ipython",
    "version": 3
   },
   "file_extension": ".py",
   "mimetype": "text/x-python",
   "name": "python",
   "nbconvert_exporter": "python",
   "pygments_lexer": "ipython3",
   "version": "3.7.6"
  }
 },
 "nbformat": 4,
 "nbformat_minor": 2
}
