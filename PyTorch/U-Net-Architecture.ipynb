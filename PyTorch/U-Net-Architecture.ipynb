{
 "cells": [
  {
   "cell_type": "code",
   "execution_count": 28,
   "metadata": {},
   "outputs": [],
   "source": [
    "import torch\n",
    "import random\n",
    "import numpy as np\n",
    "import matplotlib.pyplot as plt"
   ]
  },
  {
   "cell_type": "code",
   "execution_count": 4,
   "metadata": {},
   "outputs": [
    {
     "data": {
      "text/plain": [
       "True"
      ]
     },
     "execution_count": 4,
     "metadata": {},
     "output_type": "execute_result"
    }
   ],
   "source": [
    "def fix_seed():\n",
    "    random.seed(0)\n",
    "    np.random.seed(0)\n",
    "    torch.cuda.manual_seed(0)\n",
    "    torch.backends.cudnn.determenistic=True\n",
    "    return True\n",
    "\n",
    "fix_seed()"
   ]
  },
  {
   "cell_type": "code",
   "execution_count": 6,
   "metadata": {},
   "outputs": [],
   "source": [
    "class Unet(torch.nn.Module):\n",
    "    def __init__(self, input_size, n_hidden_neurons):\n",
    "        super(self, Unet).__init__()\n",
    "        \n",
    "        \"\"\"\n",
    "        Description:\n",
    "        Unet Neural Net Architecture\n",
    "        28 layers \n",
    "        \"\"\"\n",
    "        \n",
    "        self.hidden_layer_1 = torch.nn.Conv2d(input_size)\n",
    "        self.hidden_layer_1 = torch.nn.Conv2d(input_size)\n",
    "        self.hidden_layer_1 = torch.nn.Conv2d(input_size)\n",
    "        self.hidden_layer_1 = torch.nn.Conv2d(input_size)\n",
    "        self.hidden_layer_1 = torch.nn.Conv2d(input_size)\n",
    "        self.hidden_layer_1 = torch.nn.Conv2d(input_size)"
   ]
  }
 ],
 "metadata": {
  "kernelspec": {
   "display_name": "Python 3",
   "language": "python",
   "name": "python3"
  },
  "language_info": {
   "codemirror_mode": {
    "name": "ipython",
    "version": 3
   },
   "file_extension": ".py",
   "mimetype": "text/x-python",
   "name": "python",
   "nbconvert_exporter": "python",
   "pygments_lexer": "ipython3",
   "version": "3.7.6"
  }
 },
 "nbformat": 4,
 "nbformat_minor": 2
}
