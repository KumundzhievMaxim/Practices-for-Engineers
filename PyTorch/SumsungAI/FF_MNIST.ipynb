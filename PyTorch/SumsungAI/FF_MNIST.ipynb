{
 "cells": [
  {
   "cell_type": "code",
   "execution_count": 7,
   "metadata": {},
   "outputs": [],
   "source": [
    "import torch\n",
    "import random\n",
    "import numpy as np\n",
    "from sklearn.model_selection import train_test_split\n",
    "import torchvision.datasets as data"
   ]
  },
  {
   "cell_type": "markdown",
   "metadata": {},
   "source": [
    "### MNIST with Fully Connected NeuralNet "
   ]
  },
  {
   "cell_type": "code",
   "execution_count": 72,
   "metadata": {},
   "outputs": [],
   "source": [
    "def fix_seed():\n",
    "    random.seed(0)\n",
    "    np.random.seed(0)\n",
    "    torch.cuda.manual_seed(0)\n",
    "    torch.backends.cudnn.determenistic=True\n",
    "    return True"
   ]
  },
  {
   "cell_type": "code",
   "execution_count": 73,
   "metadata": {},
   "outputs": [
    {
     "data": {
      "text/plain": [
       "True"
      ]
     },
     "execution_count": 73,
     "metadata": {},
     "output_type": "execute_result"
    }
   ],
   "source": [
    "fix_seed()"
   ]
  },
  {
   "cell_type": "code",
   "execution_count": 111,
   "metadata": {},
   "outputs": [],
   "source": [
    "train_data=data.MNIST('./', download=True, train=True)\n",
    "test_data=data.MNIST('./', download=True, train=False)"
   ]
  },
  {
   "cell_type": "code",
   "execution_count": 112,
   "metadata": {},
   "outputs": [
    {
     "name": "stderr",
     "output_type": "stream",
     "text": [
      "/Users/macbook/miniconda3/envs/torch/lib/python3.7/site-packages/torchvision/datasets/mnist.py:53: UserWarning: train_data has been renamed data\n",
      "  warnings.warn(\"train_data has been renamed data\")\n",
      "/Users/macbook/miniconda3/envs/torch/lib/python3.7/site-packages/torchvision/datasets/mnist.py:58: UserWarning: test_data has been renamed data\n",
      "  warnings.warn(\"test_data has been renamed data\")\n"
     ]
    }
   ],
   "source": [
    "X_train, X_test=train_data.train_data.float(), test_data.test_data.float()\n",
    "y_train, y_test=train_data.targets, test_data.targets"
   ]
  },
  {
   "cell_type": "code",
   "execution_count": 113,
   "metadata": {},
   "outputs": [
    {
     "data": {
      "text/plain": [
       "(torch.Size([60000, 28, 28]),\n",
       " torch.Size([10000, 28, 28]),\n",
       " torch.Size([60000]),\n",
       " torch.Size([10000]))"
      ]
     },
     "execution_count": 113,
     "metadata": {},
     "output_type": "execute_result"
    }
   ],
   "source": [
    "X_train.shape, X_test.shape, y_train.shape, y_test.shape"
   ]
  },
  {
   "cell_type": "code",
   "execution_count": 114,
   "metadata": {},
   "outputs": [
    {
     "data": {
      "text/plain": [
       "(torch.float32, torch.float32)"
      ]
     },
     "execution_count": 114,
     "metadata": {},
     "output_type": "execute_result"
    }
   ],
   "source": [
    "X_train.dtype, X_test.dtype"
   ]
  },
  {
   "cell_type": "code",
   "execution_count": 116,
   "metadata": {},
   "outputs": [
    {
     "data": {
      "image/png": "[encoded data removed]",
      "text/plain": [
       "<Figure size 432x288 with 1 Axes>"
      ]
     },
     "metadata": {
      "needs_background": "light"
     },
     "output_type": "display_data"
    },
    {
     "name": "stdout",
     "output_type": "stream",
     "text": [
      "tensor(2)\n"
     ]
    },
    {
     "data": {
      "image/png": "[encoded data removed]",
      "text/plain": [
       "<Figure size 432x288 with 1 Axes>"
      ]
     },
     "metadata": {
      "needs_background": "light"
     },
     "output_type": "display_data"
    },
    {
     "name": "stdout",
     "output_type": "stream",
     "text": [
      "tensor(7)\n"
     ]
    },
    {
     "data": {
      "image/png": "[encoded data removed]",
      "text/plain": [
       "<Figure size 432x288 with 1 Axes>"
      ]
     },
     "metadata": {
      "needs_background": "light"
     },
     "output_type": "display_data"
    },
    {
     "name": "stdout",
     "output_type": "stream",
     "text": [
      "tensor(9)\n"
     ]
    },
    {
     "data": {
      "image/png": "[encoded data removed]",
      "text/plain": [
       "<Figure size 432x288 with 1 Axes>"
      ]
     },
     "metadata": {
      "needs_background": "light"
     },
     "output_type": "display_data"
    },
    {
     "name": "stdout",
     "output_type": "stream",
     "text": [
      "tensor(4)\n"
     ]
    },
    {
     "data": {
      "image/png": "[encoded data removed]",
      "text/plain": [
       "<Figure size 432x288 with 1 Axes>"
      ]
     },
     "metadata": {
      "needs_background": "light"
     },
     "output_type": "display_data"
    },
    {
     "name": "stdout",
     "output_type": "stream",
     "text": [
      "tensor(0)\n"
     ]
    }
   ],
   "source": [
    "#Plot few images\n",
    "import matplotlib.pyplot as plt\n",
    "from random import choice\n",
    "\n",
    "index = choice(X_train.size())\n",
    "\n",
    "for _ in range(5):    \n",
    "    plt.imshow(X_train[index, :, :])\n",
    "    plt.show()\n",
    "    print(y_train[index])\n",
    "    index += 10"
   ]
  },
  {
   "cell_type": "code",
   "execution_count": 117,
   "metadata": {},
   "outputs": [
    {
     "name": "stdout",
     "output_type": "stream",
     "text": [
      "torch.Size([60000, 28, 28]) torch.Size([10000, 28, 28])\n",
      "torch.Size([60000, 784]) torch.Size([10000, 784])\n"
     ]
    }
   ],
   "source": [
    "#Reshape our data\n",
    "print(X_train.shape, X_test.shape)\n",
    "\n",
    "X_train=X_train.reshape([-1, 28*28])\n",
    "X_test=X_test.reshape([-1, 28*28])\n",
    "\n",
    "print(X_train.shape, X_test.shape)"
   ]
  },
  {
   "cell_type": "code",
   "execution_count": 125,
   "metadata": {},
   "outputs": [],
   "source": [
    "#Define MNIST_Neural_Net\n",
    "class Mnist(torch.nn.Module):\n",
    "    def __init__(self, n_hidden_neurons):\n",
    "        super(Mnist, self).__init__() \n",
    "        self.full_connected_1=torch.nn.Linear(28*28, n_hidden_neurons)\n",
    "        self.activation_1=torch.nn.Sigmoid()\n",
    "        self.full_connected_2=torch.nn.Linear(n_hidden_neurons, 10)\n",
    "        \n",
    "    def forward(self, x):\n",
    "        x=self.full_connected_1(x)\n",
    "        x=self.activation_1(x)\n",
    "        x=self.full_connected_2(x)\n",
    "        return x"
   ]
  },
  {
   "cell_type": "code",
   "execution_count": 126,
   "metadata": {},
   "outputs": [],
   "source": [
    "mnist = Mnist(5)"
   ]
  },
  {
   "cell_type": "code",
   "execution_count": 127,
   "metadata": {},
   "outputs": [
    {
     "data": {
      "text/plain": [
       "Mnist(\n",
       "  (full_connected_1): Linear(in_features=784, out_features=5, bias=True)\n",
       "  (activation_1): Sigmoid()\n",
       "  (full_connected_2): Linear(in_features=5, out_features=10, bias=True)\n",
       ")"
      ]
     },
     "execution_count": 127,
     "metadata": {},
     "output_type": "execute_result"
    }
   ],
   "source": [
    "mnist"
   ]
  },
  {
   "cell_type": "code",
   "execution_count": 128,
   "metadata": {},
   "outputs": [],
   "source": [
    "#Loss and Optimizer\n",
    "optimizer=torch.optim.Adam(mnist.parameters(), lr=1.0e-3)\n",
    "loss=torch.nn.CrossEntropyLoss()"
   ]
  },
  {
   "cell_type": "code",
   "execution_count": 129,
   "metadata": {},
   "outputs": [],
   "source": [
    "#Check reshaping\n",
    "# X_train.reshape(-1).shape\n",
    "# X_train.reshape(-1,1,1).shape\n",
    "# X_train.reshape(len(X_train[1]),len(X_train),len(X_train[2])).shape\n",
    "# #X_train.reshape(-1,9).shape\n",
    "# X_train.reshape(-1,14,32,7).shape\n",
    "# X_train.shape"
   ]
  },
  {
   "cell_type": "code",
   "execution_count": 133,
   "metadata": {},
   "outputs": [
    {
     "name": "stdout",
     "output_type": "stream",
     "text": [
      "tensor(0.8359)\n",
      "tensor(0.8360)\n",
      "tensor(0.8308)\n",
      "tensor(0.8309)\n",
      "tensor(0.8232)\n",
      "tensor(0.8336)\n",
      "tensor(0.8362)\n",
      "tensor(0.8325)\n",
      "tensor(0.8133)\n",
      "tensor(0.8273)\n",
      "tensor(0.8262)\n",
      "tensor(0.8274)\n",
      "tensor(0.8214)\n",
      "tensor(0.8288)\n",
      "tensor(0.8230)\n",
      "tensor(0.8171)\n",
      "tensor(0.8317)\n",
      "tensor(0.8279)\n",
      "tensor(0.8298)\n",
      "tensor(0.8259)\n",
      "tensor(0.8221)\n",
      "tensor(0.8314)\n",
      "tensor(0.8367)\n",
      "tensor(0.8330)\n",
      "tensor(0.8231)\n",
      "tensor(0.8223)\n",
      "tensor(0.7880)\n",
      "tensor(0.8212)\n",
      "tensor(0.8282)\n",
      "tensor(0.8212)\n",
      "tensor(0.8284)\n",
      "tensor(0.8246)\n",
      "tensor(0.8237)\n",
      "tensor(0.8265)\n",
      "tensor(0.8204)\n",
      "tensor(0.8220)\n",
      "tensor(0.8288)\n",
      "tensor(0.8232)\n",
      "tensor(0.8105)\n",
      "tensor(0.8311)\n",
      "tensor(0.8300)\n",
      "tensor(0.8297)\n",
      "tensor(0.8320)\n",
      "tensor(0.8197)\n",
      "tensor(0.8288)\n",
      "tensor(0.8220)\n",
      "tensor(0.8322)\n",
      "tensor(0.8339)\n",
      "tensor(0.8319)\n",
      "tensor(0.8321)\n",
      "tensor(0.8384)\n",
      "tensor(0.8307)\n",
      "tensor(0.8394)\n",
      "tensor(0.8402)\n",
      "tensor(0.8356)\n",
      "tensor(0.8224)\n",
      "tensor(0.8336)\n",
      "tensor(0.8407)\n",
      "tensor(0.8185)\n",
      "tensor(0.8334)\n",
      "tensor(0.8304)\n",
      "tensor(0.8283)\n",
      "tensor(0.8303)\n",
      "tensor(0.8391)\n",
      "tensor(0.8360)\n",
      "tensor(0.8031)\n",
      "tensor(0.8253)\n",
      "tensor(0.8249)\n",
      "tensor(0.8298)\n",
      "tensor(0.8408)\n",
      "tensor(0.8279)\n",
      "tensor(0.8210)\n",
      "tensor(0.8376)\n",
      "tensor(0.8035)\n",
      "tensor(0.8220)\n",
      "tensor(0.8287)\n",
      "tensor(0.8271)\n",
      "tensor(0.8380)\n",
      "tensor(0.8385)\n",
      "tensor(0.8269)\n",
      "tensor(0.8405)\n",
      "tensor(0.8277)\n",
      "tensor(0.8268)\n",
      "tensor(0.8315)\n",
      "tensor(0.8305)\n",
      "tensor(0.8207)\n",
      "tensor(0.8178)\n",
      "tensor(0.8323)\n",
      "tensor(0.8246)\n",
      "tensor(0.8180)\n",
      "tensor(0.8316)\n",
      "tensor(0.8268)\n",
      "tensor(0.8190)\n",
      "tensor(0.8222)\n",
      "tensor(0.8313)\n",
      "tensor(0.8312)\n",
      "tensor(0.8284)\n",
      "tensor(0.8230)\n",
      "tensor(0.8282)\n",
      "tensor(0.8327)\n"
     ]
    },
    {
     "data": {
      "image/png": "[encoded data removed]",
      "text/plain": [
       "<Figure size 432x288 with 1 Axes>"
      ]
     },
     "metadata": {
      "needs_background": "light"
     },
     "output_type": "display_data"
    }
   ],
   "source": [
    "#Fitting process\n",
    "batch_size = 10\n",
    "test_loss_history, test_accuracy_history = [], []\n",
    "\n",
    "for epoch in range(100):\n",
    "    order=np.random.permutation(len(X_train))\n",
    "    for start_index in range(0, len(X_train), batch_size):\n",
    "        optimizer.zero_grad()\n",
    "        batch_indexes=order[start_index:start_index+batch_size]\n",
    "        \n",
    "        X_batch=X_train[batch_indexes]\n",
    "        y_batch=y_train[batch_indexes]\n",
    "        \n",
    "        predictions=mnist.forward(X_batch)\n",
    "        loss_value=loss(predictions, y_batch)\n",
    "        loss_value.backward()\n",
    "        optimizer.step()\n",
    "        \n",
    "#     if epoch % 100 == 0:\n",
    "#         predictions=mnist.forward(X_test)\n",
    "#         print((predictions.argmax(dim=1) == y_test).float().mean())\n",
    "\n",
    "    test_preds = mnist.forward(X_test)\n",
    "    test_loss_history.append(loss(test_preds, y_test))\n",
    "    accuracy = (test_preds.argmax(dim=1) == y_test).float().mean()\n",
    "    test_accuracy_history.append(accuracy)\n",
    "    print(accuracy)\n"
   ]
  },
  {
   "cell_type": "code",
   "execution_count": 138,
   "metadata": {},
   "outputs": [
    {
     "data": {
      "image/png": "[encoded data removed]",
      "text/plain": [
       "<Figure size 432x288 with 1 Axes>"
      ]
     },
     "metadata": {
      "needs_background": "light"
     },
     "output_type": "display_data"
    }
   ],
   "source": [
    "plt.plot(test_accuracy_history);"
   ]
  },
  {
   "cell_type": "code",
   "execution_count": 137,
   "metadata": {},
   "outputs": [
    {
     "data": {
      "image/png": "[encoded data removed]",
      "text/plain": [
       "<Figure size 432x288 with 1 Axes>"
      ]
     },
     "metadata": {
      "needs_background": "light"
     },
     "output_type": "display_data"
    }
   ],
   "source": [
    "plt.plot(test_loss_history);   "
   ]
  },
  {
   "cell_type": "code",
   "execution_count": 161,
   "metadata": {},
   "outputs": [
    {
     "name": "stdout",
     "output_type": "stream",
     "text": [
      "torch.Size([1, 2]) torch.Size([3, 2]) torch.Size([1, 3])\n"
     ]
    }
   ],
   "source": [
    "#1*2\n",
    "x = torch.tensor([\n",
    "        [10., 20.]\n",
    "    ])\n",
    "\n",
    "#3*2 <--> after torch.transponse() we'll get 2*3\n",
    "w = torch.tensor([\n",
    "    [11., 12.],\n",
    "    [21., 22.],\n",
    "    [31., 32]\n",
    "])\n",
    "\n",
    "#1*3\n",
    "b = torch.tensor([\n",
    "    [31., 32., 33.]\n",
    "])\n",
    "\n",
    "print(x.shape, w.shape, b.shape)"
   ]
  },
  {
   "cell_type": "code",
   "execution_count": 166,
   "metadata": {},
   "outputs": [],
   "source": [
    "#Check the matrix multiplication\n",
    "import torch\n",
    "\n",
    "# Сперва создадим тензор x:\n",
    "x = torch.tensor([[10., 20.]])\n",
    "\n",
    "# Оригинальный полносвязный слой с 2-мя входами и 3-мя нейронами (выходами):\n",
    "fc = torch.nn.Linear(2, 3)\n",
    "\n",
    "# Веса fc-слоя хранятся в fc.weight, а bias'ы соответственно в fc.bias\n",
    "# fc.weight и fc.bias по умолчанию инициализируются случайными числами\n",
    "\n",
    "# Давайте проставим свои значения в веса и bias'ы:\n",
    "w = torch.tensor([[11., 12.], [21., 22.], [31., 32]])\n",
    "fc.weight.data = w\n",
    "\n",
    "b = torch.tensor([[31., 32., 33.]])\n",
    "fc.bias.data = b\n",
    "\n",
    "# Получим выход fc-слоя:\n",
    "fc_out = fc(x)\n",
    "\n",
    "# Попробуем теперь получить аналогичные выходы с помощью матричного перемножения:\n",
    "fc_out_alternative =  torch.mm(x, fc.weight.data.transpose(0,1)) + fc.biases.data # x * w^T + b\n",
    "\n",
    "# Проверка осуществляется автоматически вызовом функции\n",
    "print(fc_out == fc_out_alternative)"
   ]
  },
  {
   "cell_type": "code",
   "execution_count": null,
   "metadata": {},
   "outputs": [],
   "source": []
  },
  {
   "cell_type": "code",
   "execution_count": null,
   "metadata": {},
   "outputs": [],
   "source": []
  },
  {
   "cell_type": "code",
   "execution_count": null,
   "metadata": {},
   "outputs": [],
   "source": []
  }
 ],
 "metadata": {
  "kernelspec": {
   "display_name": "Python 3",
   "language": "python",
   "name": "python3"
  },
  "language_info": {
   "codemirror_mode": {
    "name": "ipython",
    "version": 3
   },
   "file_extension": ".py",
   "mimetype": "text/x-python",
   "name": "python",
   "nbconvert_exporter": "python",
   "pygments_lexer": "ipython3",
   "version": "3.7.6"
  }
 },
 "nbformat": 4,
 "nbformat_minor": 2
}
