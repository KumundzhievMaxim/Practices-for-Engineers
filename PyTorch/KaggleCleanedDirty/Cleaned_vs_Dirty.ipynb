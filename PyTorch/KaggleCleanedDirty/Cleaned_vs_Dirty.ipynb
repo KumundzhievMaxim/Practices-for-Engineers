{
 "cells": [
  {
   "cell_type": "code",
   "execution_count": null,
   "metadata": {
    "scrolled": true
   },
   "outputs": [],
   "source": [
    "import kaggle\n",
    "import zipfile\n",
    "import os\n",
    "import pandas as pd\n",
    "import torch\n",
    "import torchvision\n",
    "from PIL import Image"
   ]
  },
  {
   "cell_type": "code",
   "execution_count": null,
   "metadata": {
    "scrolled": true
   },
   "outputs": [],
   "source": [
    "#!kaggle competitions download -c platesv2"
   ]
  },
  {
   "cell_type": "code",
   "execution_count": null,
   "metadata": {
    "scrolled": true
   },
   "outputs": [],
   "source": [
    "# dirty = \n",
    "# cleand = "
   ]
  },
  {
   "cell_type": "code",
   "execution_count": null,
   "metadata": {
    "scrolled": true
   },
   "outputs": [],
   "source": [
    "with zipfile.ZipFile(os.getcwd() + '/plates.zip', 'r') as zip_ref:\n",
    "    zip_ref.extractall(os.getcwd())"
   ]
  },
  {
   "cell_type": "code",
   "execution_count": null,
   "metadata": {
    "scrolled": true
   },
   "outputs": [],
   "source": [
    "# sample_submission = pd.read_csv('sample_submission.csv')"
   ]
  },
  {
   "cell_type": "code",
   "execution_count": null,
   "metadata": {
    "scrolled": true
   },
   "outputs": [],
   "source": [
    "test_images_dir = '/Users/macbook/PycharmProjects/Python_Practices/PyTorch/KaggleCleanedDirty/plates/test'\n",
    "cleaned_train_images_dir = '/Users/macbook/PycharmProjects/Python_Practices/PyTorch/KaggleCleanedDirty/plates/train/cleaned'\n",
    "dirty_train_images_dir = '/Users/macbook/PycharmProjects/Python_Practices/PyTorch/KaggleCleanedDirty/plates/train/dirty'"
   ]
  },
  {
   "cell_type": "code",
   "execution_count": null,
   "metadata": {
    "scrolled": true
   },
   "outputs": [],
   "source": [
    "#ls"
   ]
  },
  {
   "cell_type": "code",
   "execution_count": null,
   "metadata": {
    "scrolled": true
   },
   "outputs": [],
   "source": [
    "def plot_images(directory):\n",
    "    os.chdir(directory)\n",
    "    for image in os.listdir(directory):\n",
    "        if image == '.DS_Store':\n",
    "            print('Apsent of file in directory?!?')\n",
    "            continue\n",
    "        display(Image.open('{}'.format(image)))"
   ]
  },
  {
   "cell_type": "code",
   "execution_count": null,
   "metadata": {
    "scrolled": false
   },
   "outputs": [],
   "source": [
    "plot_images(dirty_train_images_dir)"
   ]
  },
  {
   "cell_type": "markdown",
   "metadata": {},
   "source": [
    "### Transorm data folders in convenient usage"
   ]
  },
  {
   "cell_type": "code",
   "execution_count": null,
   "metadata": {
    "scrolled": true
   },
   "outputs": [],
   "source": [
    "import shutil \n",
    "from tqdm import tqdm"
   ]
  },
  {
   "cell_type": "code",
   "execution_count": null,
   "metadata": {
    "scrolled": true
   },
   "outputs": [],
   "source": [
    "pwd"
   ]
  },
  {
   "cell_type": "code",
   "execution_count": null,
   "metadata": {
    "scrolled": true
   },
   "outputs": [],
   "source": [
    "shutil.copytree?\n",
    "os.makedirs?\n",
    "os.chmod?"
   ]
  },
  {
   "cell_type": "code",
   "execution_count": null,
   "metadata": {
    "scrolled": true
   },
   "outputs": [],
   "source": [
    "def train_val_folders():\n",
    "    root_dir = '/Users/macbook/PycharmProjects/Python_Practices/PyTorch/KaggleCleanedDirty'\n",
    "    os.chdir(root_dir)\n",
    "    \n",
    "    train_dir = 'train'\n",
    "    val_dir = 'val'\n",
    "\n",
    "    class_names = ['cleaned', 'dirty']\n",
    "\n",
    "    for dir_name in [train_dir, val_dir]:\n",
    "        for class_name in class_names:\n",
    "            os.makedirs(os.path.join(dir_name, class_name), exist_ok=True)\n",
    "            \n",
    "    for class_name in class_names:\n",
    "        source_dir = os.path.join(root_dir,'plates', 'train', class_name)\n",
    "        for i, file_name in enumerate(tqdm(os.listdir(source_dir))):\n",
    "            if i % 6 != 0:\n",
    "                dest_dir = os.path.join(train_dir, class_name) \n",
    "            else:\n",
    "                dest_dir = os.path.join(val_dir, class_name)\n",
    "            shutil.copy(os.path.join(source_dir, file_name), os.path.join(dest_dir, file_name))\n",
    "        \n",
    "            \n",
    "train_val_folders()"
   ]
  },
  {
   "cell_type": "markdown",
   "metadata": {},
   "source": [
    "### Augumentation of Images"
   ]
  },
  {
   "cell_type": "code",
   "execution_count": null,
   "metadata": {
    "scrolled": true
   },
   "outputs": [],
   "source": [
    "import torch \n",
    "import numpy as np\n",
    "#torchvision.datasets.ImageFolder(allow us iterate throught images and get the tuples (image, image_id))\n",
    "import torchvision \n",
    "import time\n",
    "import copy"
   ]
  },
  {
   "cell_type": "code",
   "execution_count": 90,
   "metadata": {
    "scrolled": true
   },
   "outputs": [],
   "source": [
    "def transform():\n",
    "    '''Transform Images for suitable size for ResNet --> (224,224)'''\n",
    "    from torchvision import transforms, models\n",
    "    val_transorms = transforms.Compose([\n",
    "        transforms.Resize((224,224)),\n",
    "        transforms.ToTensor(),\n",
    "        transforms.Normalize([0.485, 0.456, 0.406], [0.229, 0.224, 0.225])\n",
    "    ])\n",
    "    \n",
    "    \n",
    "def augumentation():\n",
    "    '''Augumentation of Images'''\n",
    "    from torchvision import transforms, models\n",
    "    train_transforms = transforms.Compose([\n",
    "        transforms.RandomResizedCrop(224),\n",
    "        transforms.RandomHorizontalFlip(),\n",
    "        transforms.ToTensor(),\n",
    "        transforms.Normalize([0.485, 0.456, 0.406], [0.229, 0.224, 0.225])\n",
    "    ])"
   ]
  },
  {
   "cell_type": "markdown",
   "metadata": {},
   "source": [
    "### Formation of Train and Validation datasets "
   ]
  },
  {
   "cell_type": "code",
   "execution_count": 91,
   "metadata": {
    "scrolled": true
   },
   "outputs": [],
   "source": [
    "train_dataset = torchvision.datasets.ImageFolder(train_dir, transform())\n",
    "val_dataset = torchvision.datasets.ImageFolder(val_dir, augumentation())"
   ]
  },
  {
   "cell_type": "code",
   "execution_count": 92,
   "metadata": {
    "scrolled": true
   },
   "outputs": [
    {
     "data": {
      "text/plain": [
       "['cleaned', 'dirty']"
      ]
     },
     "execution_count": 92,
     "metadata": {},
     "output_type": "execute_result"
    }
   ],
   "source": [
    "train_dataset.classes"
   ]
  },
  {
   "cell_type": "code",
   "execution_count": 95,
   "metadata": {
    "scrolled": true
   },
   "outputs": [],
   "source": [
    "batch_size = 8\n",
    "\n",
    "train_dataloader = torch.utils.data.DataLoader(\n",
    "train_dataset, batch_size = batch_size, shuffle=True, num_workers=batch_size)\n",
    "\n",
    "val_dataloader = torch.utils.data.DataLoader(\n",
    "val_dataset, batch_size = batch_size, shuffle=True, num_workers=batch_size)"
   ]
  },
  {
   "cell_type": "code",
   "execution_count": 96,
   "metadata": {
    "scrolled": true
   },
   "outputs": [
    {
     "name": "stdout",
     "output_type": "stream",
     "text": [
      "5 1\n"
     ]
    }
   ],
   "source": [
    "print(len(train_dataholder), len(val_dataholder))"
   ]
  },
  {
   "cell_type": "code",
   "execution_count": null,
   "metadata": {
    "scrolled": true
   },
   "outputs": [],
   "source": []
  }
 ],
 "metadata": {
  "kernelspec": {
   "display_name": "Python 3",
   "language": "python",
   "name": "python3"
  },
  "language_info": {
   "codemirror_mode": {
    "name": "ipython",
    "version": 3
   },
   "file_extension": ".py",
   "mimetype": "text/x-python",
   "name": "python",
   "nbconvert_exporter": "python",
   "pygments_lexer": "ipython3",
   "version": "3.7.6"
  }
 },
 "nbformat": 4,
 "nbformat_minor": 2
}
