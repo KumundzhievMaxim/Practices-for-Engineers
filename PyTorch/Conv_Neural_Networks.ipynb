{
 "cells": [
  {
   "cell_type": "code",
   "execution_count": 31,
   "metadata": {},
   "outputs": [],
   "source": [
    "import torch\n",
    "import random\n",
    "import numpy as np\n",
    "from torch.nn.utils.rnn import pad_sequence\n",
    "from torch.nn.functional import pad\n",
    "from abc import ABC, abstractmethod"
   ]
  },
  {
   "cell_type": "code",
   "execution_count": 4,
   "metadata": {},
   "outputs": [
    {
     "data": {
      "text/plain": [
       "True"
      ]
     },
     "execution_count": 4,
     "metadata": {},
     "output_type": "execute_result"
    }
   ],
   "source": [
    "def fix_seed():\n",
    "    random.seed(0)\n",
    "    np.random.seed(0)\n",
    "    torch.cuda.manual_seed(0)\n",
    "    torch.backends.cudnn.determenistic=True\n",
    "    return True\n",
    "\n",
    "fix_seed()"
   ]
  },
  {
   "cell_type": "code",
   "execution_count": null,
   "metadata": {},
   "outputs": [],
   "source": []
  },
  {
   "cell_type": "markdown",
   "metadata": {},
   "source": [
    "# Adding padding to the Input Image"
   ]
  },
  {
   "cell_type": "code",
   "execution_count": 39,
   "metadata": {},
   "outputs": [],
   "source": [
    "def add_padding(input_images):\n",
    "    from torch.nn.functional import pad\n",
    "    \"\"\"\n",
    "    \n",
    "    Description:\n",
    "    вход сверточного слоя имеет следующую размерность: \n",
    "      - размер батча\n",
    "      - число каналов\n",
    "      - высота\n",
    "      - ширина\n",
    "      \n",
    "    Example:\n",
    "    2 input_images with size: 3*3*3 (C*H*W) --> finil size: (2*3*3*3) B*C*H*W \n",
    "    \"\"\"\n",
    "    return pad(input=input_images, pad=(1,1,1,1), mode='constant', value=0)\n",
    "\n",
    "    "
   ]
  },
  {
   "cell_type": "code",
   "execution_count": 36,
   "metadata": {},
   "outputs": [
    {
     "data": {
      "text/plain": [
       "tensor([[0., 0., 0., 0.],\n",
       "        [0., 1., 1., 0.],\n",
       "        [0., 1., 1., 0.],\n",
       "        [0., 0., 0., 0.]])"
      ]
     },
     "execution_count": 36,
     "metadata": {},
     "output_type": "execute_result"
    }
   ],
   "source": [
    "# from torch.nn.utils.rnn import pad_sequence\n",
    "# from torch.nn.functional import pad\n",
    "\n",
    "# x = torch.Tensor([\n",
    "#     [1, 2,  3],\n",
    "#     [4, 5,  6]\n",
    "# ])\n",
    "#torch.nn.functional.pad(input, pad, mode='constant', value=0)\n",
    "\n",
    "#from torch.nn.functional import pad <-- allows to add paddings\n",
    "a = torch.ones(2, 2)\n",
    "c = torch.Tensor([[0, 0]])\n",
    "\n",
    "pad(input=a, pad=(1,1,1,1), mode='constant', value=0)"
   ]
  },
  {
   "cell_type": "markdown",
   "metadata": {},
   "source": [
    "# Calculating Output size of ConvLayer\n",
    "\n",
    "Сверточный слой это массив фильтров.\n",
    "\n",
    "Каждый фильтр имеет следующую размерность:\n",
    "- число слоев во входном изображении (для RGB это 3)\n",
    "- высота фильтра\n",
    "- ширина фильтра\n",
    "\n",
    "В ядре (кернеле) все фильтры имеют одинаковые размерность, поэтому ширину и высоту фильтров называют шириной и высотой ядра. Чаще всего ширина ядра равна высоте ядра, в таком случае их называют размером ядра (kernel_size).\n",
    "\n",
    "Также слой имеет такие параметры:\n",
    " - padding - на какое количество пикселей увеличивать входное изображение с каждой стороны.\n",
    " - stride - на сколько пикселей смещается фильтр при вычислении свертки"
   ]
  },
  {
   "cell_type": "code",
   "execution_count": 27,
   "metadata": {},
   "outputs": [],
   "source": [
    "def calculate_conv_layer_output_size(input_matrix_shape,\n",
    "                                     out_channels,\n",
    "                                     kernel_size,\n",
    "                                     stride,\n",
    "                                     padding):\n",
    "    \"\"\"\n",
    "    Input:\n",
    "    - входную размерность(число изображений в батче*число слоев в одном изображении*высота изображения*ширина изображения)\n",
    "    количество фильтров\n",
    "    - размер фильтров (считаем, что высота совпадает с шириной)\n",
    "    - padding\n",
    "    - stride\n",
    "    \n",
    "    Output:\n",
    "    \n",
    "    \"\"\"\n",
    "    N_in = input_matrix_shape[0]\n",
    "    C_in = input_matrix_shape[1]\n",
    "    H_in = input_matrix_shape[2] #10\n",
    "    W_in = input_matrix_shape[3] #10\n",
    "    \n",
    "    \n",
    "    N_out = N_in\n",
    "    C_out = out_channels\n",
    "    H_out = ((H_in + 2 * padding - 1 * (kernel_size - 1) - 1) // stride) + 1\n",
    "    W_out = ((W_in + 2 * padding - 1 * (kernel_size - 1) - 1) // stride) + 1\n",
    "    result = torch.Tensor([\n",
    "        N_out,\n",
    "        C_out,\n",
    "        H_out,\n",
    "        W_out\n",
    "    ])\n",
    "    return result"
   ]
  },
  {
   "cell_type": "code",
   "execution_count": null,
   "metadata": {},
   "outputs": [],
   "source": []
  },
  {
   "cell_type": "code",
   "execution_count": 29,
   "metadata": {},
   "outputs": [
    {
     "data": {
      "text/plain": [
       "tensor([ 2., 10.,  8.,  8.])"
      ]
     },
     "execution_count": 29,
     "metadata": {},
     "output_type": "execute_result"
    }
   ],
   "source": [
    "input_matrix_shape=[2, 3, 10, 10] #2 images, RGB, height 10, width 10\n",
    "out_channels=10\n",
    "kernel_size=3\n",
    "stride=1\n",
    "padding=0\n",
    "\n",
    "calculate_conv_layer_output_size(input_matrix_shape,\n",
    "                                 out_channels,\n",
    "                                 kernel_size,\n",
    "                                 stride,\n",
    "                                 padding)\n"
   ]
  },
  {
   "cell_type": "markdown",
   "metadata": {},
   "source": [
    "# Define Convolution Layer Class"
   ]
  },
  {
   "cell_type": "code",
   "execution_count": 32,
   "metadata": {},
   "outputs": [],
   "source": [
    "#Convented padding = 0\n",
    "\n",
    "# абстрактный класс для сверточного слоя\n",
    "class ABCConv2d(ABC):\n",
    "    def __init__(self, in_channels, out_channels, kernel_size, stride):\n",
    "        self.in_channels = in_channels\n",
    "        self.out_channels = out_channels\n",
    "        self.kernel_size = kernel_size\n",
    "        self.stride = stride\n",
    "        \n",
    "    def set_kernel(self, kernel):\n",
    "        self.kernel = kernel\n",
    "        \n",
    "    @abstractmethod\n",
    "    def __call__(self, input_tensor):\n",
    "        pass"
   ]
  },
  {
   "cell_type": "code",
   "execution_count": 34,
   "metadata": {},
   "outputs": [],
   "source": [
    "# класс-обертка над torch.nn.Conv2d для унификации интерфейса\n",
    "\n",
    "class Conv2d(ABCConv2d):\n",
    "    def __init__(self, in_channels, out_channels, kernel_size, stride):\n",
    "        self.in_channels = in_channels\n",
    "        self.out_channels = out_channels\n",
    "        self.kernel_size = kernel_size\n",
    "        self.stride = stride\n",
    "        \n",
    "    def set_kernel(self, kernel):\n",
    "        self.Conv2d.weight.data = kernel\n",
    "    \n",
    "    def __call__(self, input_tensor):\n",
    "        return self.Conv2d(input_tensor)"
   ]
  },
  {
   "cell_type": "code",
   "execution_count": 35,
   "metadata": {},
   "outputs": [],
   "source": [
    "def create_and_call_conv2d_layer(conv2d_layer_class, stride, kernel, input_matrix):\n",
    "    out_channels = kernel.shape[0]\n",
    "    in_channels = kernel.shape[1]\n",
    "    kernel_size = kernel.shape[2]\n",
    "\n",
    "    layer = conv2d_layer_class(in_channels, out_channels, kernel_size, stride)\n",
    "    layer.set_kernel(kernel)\n",
    "\n",
    "    return layer(input_matrix)"
   ]
  },
  {
   "cell_type": "code",
   "execution_count": 36,
   "metadata": {},
   "outputs": [
    {
     "ename": "AttributeError",
     "evalue": "'Conv2d' object has no attribute 'Conv2d'",
     "output_type": "error",
     "traceback": [
      "\u001b[0;31m---------------------------------------------------------------------------\u001b[0m",
      "\u001b[0;31mAttributeError\u001b[0m                            Traceback (most recent call last)",
      "\u001b[0;32m<ipython-input-36-e08720f3eb3f>\u001b[0m in \u001b[0;36m<module>\u001b[0;34m\u001b[0m\n\u001b[1;32m     31\u001b[0m     \u001b[0;32mreturn\u001b[0m \u001b[0mtorch\u001b[0m\u001b[0;34m.\u001b[0m\u001b[0mallclose\u001b[0m\u001b[0;34m(\u001b[0m\u001b[0mcustom_conv2d_out\u001b[0m\u001b[0;34m,\u001b[0m \u001b[0mconv2d_out\u001b[0m\u001b[0;34m)\u001b[0m\u001b[0;34m\u001b[0m\u001b[0;34m\u001b[0m\u001b[0m\n\u001b[1;32m     32\u001b[0m \u001b[0;34m\u001b[0m\u001b[0m\n\u001b[0;32m---> 33\u001b[0;31m \u001b[0mprint\u001b[0m\u001b[0;34m(\u001b[0m\u001b[0mtest_conv2d_layer\u001b[0m\u001b[0;34m(\u001b[0m\u001b[0mConv2d\u001b[0m\u001b[0;34m)\u001b[0m\u001b[0;34m)\u001b[0m\u001b[0;34m\u001b[0m\u001b[0;34m\u001b[0m\u001b[0m\n\u001b[0m",
      "\u001b[0;32m<ipython-input-36-e08720f3eb3f>\u001b[0m in \u001b[0;36mtest_conv2d_layer\u001b[0;34m(conv2d_layer_class, batch_size, input_height, input_width, stride)\u001b[0m\n\u001b[1;32m     24\u001b[0m \u001b[0;34m\u001b[0m\u001b[0m\n\u001b[1;32m     25\u001b[0m     custom_conv2d_out = create_and_call_conv2d_layer(\n\u001b[0;32m---> 26\u001b[0;31m         conv2d_layer_class, stride, kernel, input_tensor)\n\u001b[0m\u001b[1;32m     27\u001b[0m \u001b[0;34m\u001b[0m\u001b[0m\n\u001b[1;32m     28\u001b[0m     conv2d_out = create_and_call_conv2d_layer(\n",
      "\u001b[0;32m<ipython-input-35-19c4f898f744>\u001b[0m in \u001b[0;36mcreate_and_call_conv2d_layer\u001b[0;34m(conv2d_layer_class, stride, kernel, input_matrix)\u001b[0m\n\u001b[1;32m      5\u001b[0m \u001b[0;34m\u001b[0m\u001b[0m\n\u001b[1;32m      6\u001b[0m     \u001b[0mlayer\u001b[0m \u001b[0;34m=\u001b[0m \u001b[0mconv2d_layer_class\u001b[0m\u001b[0;34m(\u001b[0m\u001b[0min_channels\u001b[0m\u001b[0;34m,\u001b[0m \u001b[0mout_channels\u001b[0m\u001b[0;34m,\u001b[0m \u001b[0mkernel_size\u001b[0m\u001b[0;34m,\u001b[0m \u001b[0mstride\u001b[0m\u001b[0;34m)\u001b[0m\u001b[0;34m\u001b[0m\u001b[0;34m\u001b[0m\u001b[0m\n\u001b[0;32m----> 7\u001b[0;31m     \u001b[0mlayer\u001b[0m\u001b[0;34m.\u001b[0m\u001b[0mset_kernel\u001b[0m\u001b[0;34m(\u001b[0m\u001b[0mkernel\u001b[0m\u001b[0;34m)\u001b[0m\u001b[0;34m\u001b[0m\u001b[0;34m\u001b[0m\u001b[0m\n\u001b[0m\u001b[1;32m      8\u001b[0m \u001b[0;34m\u001b[0m\u001b[0m\n\u001b[1;32m      9\u001b[0m     \u001b[0;32mreturn\u001b[0m \u001b[0mlayer\u001b[0m\u001b[0;34m(\u001b[0m\u001b[0minput_matrix\u001b[0m\u001b[0;34m)\u001b[0m\u001b[0;34m\u001b[0m\u001b[0;34m\u001b[0m\u001b[0m\n",
      "\u001b[0;32m<ipython-input-34-38cbe6f8f03c>\u001b[0m in \u001b[0;36mset_kernel\u001b[0;34m(self, kernel)\u001b[0m\n\u001b[1;32m      9\u001b[0m \u001b[0;34m\u001b[0m\u001b[0m\n\u001b[1;32m     10\u001b[0m     \u001b[0;32mdef\u001b[0m \u001b[0mset_kernel\u001b[0m\u001b[0;34m(\u001b[0m\u001b[0mself\u001b[0m\u001b[0;34m,\u001b[0m \u001b[0mkernel\u001b[0m\u001b[0;34m)\u001b[0m\u001b[0;34m:\u001b[0m\u001b[0;34m\u001b[0m\u001b[0;34m\u001b[0m\u001b[0m\n\u001b[0;32m---> 11\u001b[0;31m         \u001b[0mself\u001b[0m\u001b[0;34m.\u001b[0m\u001b[0mConv2d\u001b[0m\u001b[0;34m.\u001b[0m\u001b[0mweight\u001b[0m\u001b[0;34m.\u001b[0m\u001b[0mdata\u001b[0m \u001b[0;34m=\u001b[0m \u001b[0mkernel\u001b[0m\u001b[0;34m\u001b[0m\u001b[0;34m\u001b[0m\u001b[0m\n\u001b[0m\u001b[1;32m     12\u001b[0m \u001b[0;34m\u001b[0m\u001b[0m\n\u001b[1;32m     13\u001b[0m     \u001b[0;32mdef\u001b[0m \u001b[0m__call__\u001b[0m\u001b[0;34m(\u001b[0m\u001b[0mself\u001b[0m\u001b[0;34m,\u001b[0m \u001b[0minput_tensor\u001b[0m\u001b[0;34m)\u001b[0m\u001b[0;34m:\u001b[0m\u001b[0;34m\u001b[0m\u001b[0;34m\u001b[0m\u001b[0m\n",
      "\u001b[0;31mAttributeError\u001b[0m: 'Conv2d' object has no attribute 'Conv2d'"
     ]
    }
   ],
   "source": [
    "# Функция, тестирующая класс conv2d_cls.\n",
    "# Возвращает True, если свертка совпадает со сверткой с помощью torch.nn.Conv2d.\n",
    "def test_conv2d_layer(conv2d_layer_class, batch_size=2,\n",
    "                      input_height=4, input_width=4, stride=2):\n",
    "    kernel = torch.tensor(\n",
    "                      [[[[0., 1, 0],\n",
    "                         [1,  2, 1],\n",
    "                         [0,  1, 0]],\n",
    "\n",
    "                        [[1, 2, 1],\n",
    "                         [0, 3, 3],\n",
    "                         [0, 1, 10]],\n",
    "\n",
    "                        [[10, 11, 12],\n",
    "                         [13, 14, 15],\n",
    "                         [16, 17, 18]]]])\n",
    "\n",
    "    in_channels = kernel.shape[1]\n",
    "\n",
    "    input_tensor = torch.arange(0, batch_size * in_channels *\n",
    "                                input_height * input_width,\n",
    "                                out=torch.FloatTensor())\\\n",
    "         .reshape(batch_size, in_channels, input_height, input_width)\n",
    "\n",
    "    custom_conv2d_out = create_and_call_conv2d_layer(\n",
    "        conv2d_layer_class, stride, kernel, input_tensor)\n",
    "    \n",
    "    conv2d_out = create_and_call_conv2d_layer(\n",
    "        Conv2d, stride, kernel, input_tensor)\n",
    "\n",
    "    return torch.allclose(custom_conv2d_out, conv2d_out)\n",
    "\n",
    "print(test_conv2d_layer(Conv2d))"
   ]
  },
  {
   "cell_type": "code",
   "execution_count": null,
   "metadata": {},
   "outputs": [],
   "source": []
  }
 ],
 "metadata": {
  "kernelspec": {
   "display_name": "Python 3",
   "language": "python",
   "name": "python3"
  },
  "language_info": {
   "codemirror_mode": {
    "name": "ipython",
    "version": 3
   },
   "file_extension": ".py",
   "mimetype": "text/x-python",
   "name": "python",
   "nbconvert_exporter": "python",
   "pygments_lexer": "ipython3",
   "version": "3.7.6"
  }
 },
 "nbformat": 4,
 "nbformat_minor": 2
}
