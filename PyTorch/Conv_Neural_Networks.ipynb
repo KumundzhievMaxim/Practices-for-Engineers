{
 "cells": [
  {
   "cell_type": "code",
   "execution_count": 37,
   "metadata": {},
   "outputs": [],
   "source": [
    "import torch\n",
    "import random\n",
    "import numpy as np\n",
    "from torch.nn.utils.rnn import pad_sequence\n",
    "from torch.nn.functional import pad"
   ]
  },
  {
   "cell_type": "code",
   "execution_count": 2,
   "metadata": {},
   "outputs": [
    {
     "data": {
      "text/plain": [
       "True"
      ]
     },
     "execution_count": 2,
     "metadata": {},
     "output_type": "execute_result"
    }
   ],
   "source": [
    "def fix_seed():\n",
    "    random.seed(0)\n",
    "    np.random.seed(0)\n",
    "    torch.cuda.manual_seed(0)\n",
    "    torch.backends.cudnn.determenistic=True\n",
    "    return True\n",
    "\n",
    "fix_seed()"
   ]
  },
  {
   "cell_type": "code",
   "execution_count": null,
   "metadata": {},
   "outputs": [],
   "source": []
  },
  {
   "cell_type": "markdown",
   "metadata": {},
   "source": [
    "# Adding padding to the Input Image"
   ]
  },
  {
   "cell_type": "code",
   "execution_count": 39,
   "metadata": {},
   "outputs": [],
   "source": [
    "def add_padding(input_images):\n",
    "    from torch.nn.functional import pad\n",
    "    \"\"\"\n",
    "    \n",
    "    Description:\n",
    "    вход сверточного слоя имеет следующую размерность: \n",
    "      - размер батча\n",
    "      - число каналов\n",
    "      - высота\n",
    "      - ширина\n",
    "      \n",
    "    Example:\n",
    "    2 input_images with size: 3*3*3 (C*H*W) --> finil size: (2*3*3*3) B*C*H*W \n",
    "    \"\"\"\n",
    "    return pad(input=input_images, pad=(1,1,1,1), mode='constant', value=0)\n",
    "\n",
    "    "
   ]
  },
  {
   "cell_type": "code",
   "execution_count": 36,
   "metadata": {},
   "outputs": [
    {
     "data": {
      "text/plain": [
       "tensor([[0., 0., 0., 0.],\n",
       "        [0., 1., 1., 0.],\n",
       "        [0., 1., 1., 0.],\n",
       "        [0., 0., 0., 0.]])"
      ]
     },
     "execution_count": 36,
     "metadata": {},
     "output_type": "execute_result"
    }
   ],
   "source": [
    "# from torch.nn.utils.rnn import pad_sequence\n",
    "# from torch.nn.functional import pad\n",
    "\n",
    "# x = torch.Tensor([\n",
    "#     [1, 2,  3],\n",
    "#     [4, 5,  6]\n",
    "# ])\n",
    "#torch.nn.functional.pad(input, pad, mode='constant', value=0)\n",
    "\n",
    "#from torch.nn.functional import pad <-- allows to add paddings\n",
    "a = torch.ones(2, 2)\n",
    "c = torch.Tensor([[0, 0]])\n",
    "\n",
    "pad(input=a, pad=(1,1,1,1), mode='constant', value=0)"
   ]
  },
  {
   "cell_type": "markdown",
   "metadata": {},
   "source": [
    "# Calculating Output size of ConvLayer"
   ]
  },
  {
   "cell_type": "code",
   "execution_count": null,
   "metadata": {},
   "outputs": [],
   "source": [
    "def calculate_conv_layer_output_size():\n",
    "    \"\"\"\n",
    "    \n",
    "    Input:\n",
    "    входную размерность (число изображений в батче*число слоев в одном изображении*высота изображения*ширина изображения)\n",
    "    количество фильтров\n",
    "    размер фильтров (считаем, что высота совпадает с шириной)\n",
    "    padding\n",
    "    stride\n",
    "    \n",
    "    \n",
    "    \"\"\""
   ]
  }
 ],
 "metadata": {
  "kernelspec": {
   "display_name": "Python 3",
   "language": "python",
   "name": "python3"
  },
  "language_info": {
   "codemirror_mode": {
    "name": "ipython",
    "version": 3
   },
   "file_extension": ".py",
   "mimetype": "text/x-python",
   "name": "python",
   "nbconvert_exporter": "python",
   "pygments_lexer": "ipython3",
   "version": "3.7.6"
  }
 },
 "nbformat": 4,
 "nbformat_minor": 2
}
