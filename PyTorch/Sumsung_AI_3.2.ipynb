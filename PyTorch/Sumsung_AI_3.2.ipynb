{
 "cells": [
  {
   "cell_type": "code",
   "execution_count": 2,
   "metadata": {},
   "outputs": [],
   "source": [
    "import torch"
   ]
  },
  {
   "cell_type": "code",
   "execution_count": 3,
   "metadata": {},
   "outputs": [],
   "source": [
    "#Define simple Tensor"
   ]
  },
  {
   "cell_type": "code",
   "execution_count": 20,
   "metadata": {},
   "outputs": [],
   "source": [
    "x = torch.Tensor(\n",
    "    [[1,2,3,4],\n",
    "    [5,6,7,8],\n",
    "    [1,2,3,4]\n",
    "    [5,6,7,8]]\n",
    ")"
   ]
  },
  {
   "cell_type": "code",
   "execution_count": 8,
   "metadata": {},
   "outputs": [
    {
     "data": {
      "text/plain": [
       "torch.Size([2, 4])"
      ]
     },
     "execution_count": 8,
     "metadata": {},
     "output_type": "execute_result"
    }
   ],
   "source": [
    "x.shape"
   ]
  },
  {
   "cell_type": "code",
   "execution_count": 12,
   "metadata": {},
   "outputs": [
    {
     "data": {
      "text/plain": [
       "tensor(8.)"
      ]
     },
     "execution_count": 12,
     "metadata": {},
     "output_type": "execute_result"
    }
   ],
   "source": [
    "#Get specialized element [1,3]\n",
    "x[1,3]"
   ]
  },
  {
   "cell_type": "code",
   "execution_count": 17,
   "metadata": {},
   "outputs": [
    {
     "data": {
      "text/plain": [
       "tensor([1., 5.])"
      ]
     },
     "execution_count": 17,
     "metadata": {},
     "output_type": "execute_result"
    }
   ],
   "source": [
    "#Get a slice of column, all items of 0 column\n",
    "x[:, 0] "
   ]
  },
  {
   "cell_type": "code",
   "execution_count": 18,
   "metadata": {},
   "outputs": [
    {
     "data": {
      "text/plain": [
       "tensor([5., 6., 7., 8.])"
      ]
     },
     "execution_count": 18,
     "metadata": {},
     "output_type": "execute_result"
    }
   ],
   "source": [
    "#Get a slice of row, change the indexes of slice\n",
    "x[1, :]"
   ]
  },
  {
   "cell_type": "code",
   "execution_count": 22,
   "metadata": {},
   "outputs": [
    {
     "data": {
      "text/plain": [
       "tensor([3., 7.])"
      ]
     },
     "execution_count": 22,
     "metadata": {},
     "output_type": "execute_result"
    }
   ],
   "source": [
    "#In general: \n",
    "#x[{row}:{row}, {column}:{column}]\n",
    "\n",
    "#Get 2 first items from 3rd column\n",
    "x[0:2, 2]"
   ]
  },
  {
   "cell_type": "code",
   "execution_count": 28,
   "metadata": {},
   "outputs": [
    {
     "data": {
      "text/plain": [
       "False"
      ]
     },
     "execution_count": 28,
     "metadata": {},
     "output_type": "execute_result"
    }
   ],
   "source": [
    "#Check whether we have avaliable GPU on our machine\n",
    "torch.cuda.is_available()"
   ]
  },
  {
   "cell_type": "code",
   "execution_count": 31,
   "metadata": {},
   "outputs": [
    {
     "ename": "AssertionError",
     "evalue": "Torch not compiled with CUDA enabled",
     "output_type": "error",
     "traceback": [
      "\u001b[0;31m---------------------------------------------------------------------------\u001b[0m",
      "\u001b[0;31mAssertionError\u001b[0m                            Traceback (most recent call last)",
      "\u001b[0;32m<ipython-input-31-d5802890d8f7>\u001b[0m in \u001b[0;36m<module>\u001b[0;34m\u001b[0m\n\u001b[1;32m      1\u001b[0m \u001b[0;31m#Check whether we have avaliable GPU on our machine //Uninstalled\u001b[0m\u001b[0;34m\u001b[0m\u001b[0;34m\u001b[0m\u001b[0;34m\u001b[0m\u001b[0m\n\u001b[0;32m----> 2\u001b[0;31m \u001b[0mtorch\u001b[0m\u001b[0;34m.\u001b[0m\u001b[0mcuda\u001b[0m\u001b[0;34m.\u001b[0m\u001b[0mget_device_name\u001b[0m\u001b[0;34m(\u001b[0m\u001b[0;34m)\u001b[0m\u001b[0;34m\u001b[0m\u001b[0;34m\u001b[0m\u001b[0m\n\u001b[0m",
      "\u001b[0;32m~/miniconda3/envs/torch/lib/python3.7/site-packages/torch/cuda/__init__.py\u001b[0m in \u001b[0;36mget_device_name\u001b[0;34m(device)\u001b[0m\n\u001b[1;32m    310\u001b[0m             \u001b[0;32mif\u001b[0m \u001b[0;34m:\u001b[0m\u001b[0mattr\u001b[0m\u001b[0;34m:\u001b[0m\u001b[0;31m`\u001b[0m\u001b[0mdevice\u001b[0m\u001b[0;31m`\u001b[0m \u001b[0;32mis\u001b[0m\u001b[0;31m \u001b[0m\u001b[0;31m`\u001b[0m\u001b[0;31m`\u001b[0m\u001b[0;32mNone\u001b[0m\u001b[0;31m`\u001b[0m\u001b[0;31m`\u001b[0m \u001b[0;34m(\u001b[0m\u001b[0mdefault\u001b[0m\u001b[0;34m)\u001b[0m\u001b[0;34m.\u001b[0m\u001b[0;34m\u001b[0m\u001b[0;34m\u001b[0m\u001b[0m\n\u001b[1;32m    311\u001b[0m     \"\"\"\n\u001b[0;32m--> 312\u001b[0;31m     \u001b[0;32mreturn\u001b[0m \u001b[0mget_device_properties\u001b[0m\u001b[0;34m(\u001b[0m\u001b[0mdevice\u001b[0m\u001b[0;34m)\u001b[0m\u001b[0;34m.\u001b[0m\u001b[0mname\u001b[0m\u001b[0;34m\u001b[0m\u001b[0;34m\u001b[0m\u001b[0m\n\u001b[0m\u001b[1;32m    313\u001b[0m \u001b[0;34m\u001b[0m\u001b[0m\n\u001b[1;32m    314\u001b[0m \u001b[0;34m\u001b[0m\u001b[0m\n",
      "\u001b[0;32m~/miniconda3/envs/torch/lib/python3.7/site-packages/torch/cuda/__init__.py\u001b[0m in \u001b[0;36mget_device_properties\u001b[0;34m(device)\u001b[0m\n\u001b[1;32m    332\u001b[0m \u001b[0;32mdef\u001b[0m \u001b[0mget_device_properties\u001b[0m\u001b[0;34m(\u001b[0m\u001b[0mdevice\u001b[0m\u001b[0;34m)\u001b[0m\u001b[0;34m:\u001b[0m\u001b[0;34m\u001b[0m\u001b[0;34m\u001b[0m\u001b[0m\n\u001b[1;32m    333\u001b[0m     \u001b[0;32mif\u001b[0m \u001b[0;32mnot\u001b[0m \u001b[0m_initialized\u001b[0m\u001b[0;34m:\u001b[0m\u001b[0;34m\u001b[0m\u001b[0;34m\u001b[0m\u001b[0m\n\u001b[0;32m--> 334\u001b[0;31m         \u001b[0minit\u001b[0m\u001b[0;34m(\u001b[0m\u001b[0;34m)\u001b[0m  \u001b[0;31m# will define _get_device_properties and _CudaDeviceProperties\u001b[0m\u001b[0;34m\u001b[0m\u001b[0;34m\u001b[0m\u001b[0m\n\u001b[0m\u001b[1;32m    335\u001b[0m     \u001b[0mdevice\u001b[0m \u001b[0;34m=\u001b[0m \u001b[0m_get_device_index\u001b[0m\u001b[0;34m(\u001b[0m\u001b[0mdevice\u001b[0m\u001b[0;34m,\u001b[0m \u001b[0moptional\u001b[0m\u001b[0;34m=\u001b[0m\u001b[0;32mTrue\u001b[0m\u001b[0;34m)\u001b[0m\u001b[0;34m\u001b[0m\u001b[0;34m\u001b[0m\u001b[0m\n\u001b[1;32m    336\u001b[0m     \u001b[0;32mif\u001b[0m \u001b[0mdevice\u001b[0m \u001b[0;34m<\u001b[0m \u001b[0;36m0\u001b[0m \u001b[0;32mor\u001b[0m \u001b[0mdevice\u001b[0m \u001b[0;34m>=\u001b[0m \u001b[0mdevice_count\u001b[0m\u001b[0;34m(\u001b[0m\u001b[0;34m)\u001b[0m\u001b[0;34m:\u001b[0m\u001b[0;34m\u001b[0m\u001b[0;34m\u001b[0m\u001b[0m\n",
      "\u001b[0;32m~/miniconda3/envs/torch/lib/python3.7/site-packages/torch/cuda/__init__.py\u001b[0m in \u001b[0;36minit\u001b[0;34m()\u001b[0m\n\u001b[1;32m    162\u001b[0m     \u001b[0mDoes\u001b[0m \u001b[0mnothing\u001b[0m \u001b[0;32mif\u001b[0m \u001b[0mthe\u001b[0m \u001b[0mCUDA\u001b[0m \u001b[0mstate\u001b[0m \u001b[0;32mis\u001b[0m \u001b[0malready\u001b[0m \u001b[0minitialized\u001b[0m\u001b[0;34m.\u001b[0m\u001b[0;34m\u001b[0m\u001b[0;34m\u001b[0m\u001b[0m\n\u001b[1;32m    163\u001b[0m     \"\"\"\n\u001b[0;32m--> 164\u001b[0;31m     \u001b[0m_lazy_init\u001b[0m\u001b[0;34m(\u001b[0m\u001b[0;34m)\u001b[0m\u001b[0;34m\u001b[0m\u001b[0;34m\u001b[0m\u001b[0m\n\u001b[0m\u001b[1;32m    165\u001b[0m \u001b[0;34m\u001b[0m\u001b[0m\n\u001b[1;32m    166\u001b[0m \u001b[0;34m\u001b[0m\u001b[0m\n",
      "\u001b[0;32m~/miniconda3/envs/torch/lib/python3.7/site-packages/torch/cuda/__init__.py\u001b[0m in \u001b[0;36m_lazy_init\u001b[0;34m()\u001b[0m\n\u001b[1;32m    190\u001b[0m             raise RuntimeError(\n\u001b[1;32m    191\u001b[0m                 \"Cannot re-initialize CUDA in forked subprocess. \" + msg)\n\u001b[0;32m--> 192\u001b[0;31m         \u001b[0m_check_driver\u001b[0m\u001b[0;34m(\u001b[0m\u001b[0;34m)\u001b[0m\u001b[0;34m\u001b[0m\u001b[0;34m\u001b[0m\u001b[0m\n\u001b[0m\u001b[1;32m    193\u001b[0m         \u001b[0mtorch\u001b[0m\u001b[0;34m.\u001b[0m\u001b[0m_C\u001b[0m\u001b[0;34m.\u001b[0m\u001b[0m_cuda_init\u001b[0m\u001b[0;34m(\u001b[0m\u001b[0;34m)\u001b[0m\u001b[0;34m\u001b[0m\u001b[0;34m\u001b[0m\u001b[0m\n\u001b[1;32m    194\u001b[0m         \u001b[0m_cudart\u001b[0m \u001b[0;34m=\u001b[0m \u001b[0m_load_cudart\u001b[0m\u001b[0;34m(\u001b[0m\u001b[0;34m)\u001b[0m\u001b[0;34m\u001b[0m\u001b[0;34m\u001b[0m\u001b[0m\n",
      "\u001b[0;32m~/miniconda3/envs/torch/lib/python3.7/site-packages/torch/cuda/__init__.py\u001b[0m in \u001b[0;36m_check_driver\u001b[0;34m()\u001b[0m\n\u001b[1;32m     93\u001b[0m \u001b[0;32mdef\u001b[0m \u001b[0m_check_driver\u001b[0m\u001b[0;34m(\u001b[0m\u001b[0;34m)\u001b[0m\u001b[0;34m:\u001b[0m\u001b[0;34m\u001b[0m\u001b[0;34m\u001b[0m\u001b[0m\n\u001b[1;32m     94\u001b[0m     \u001b[0;32mif\u001b[0m \u001b[0;32mnot\u001b[0m \u001b[0mhasattr\u001b[0m\u001b[0;34m(\u001b[0m\u001b[0mtorch\u001b[0m\u001b[0;34m.\u001b[0m\u001b[0m_C\u001b[0m\u001b[0;34m,\u001b[0m \u001b[0;34m'_cuda_isDriverSufficient'\u001b[0m\u001b[0;34m)\u001b[0m\u001b[0;34m:\u001b[0m\u001b[0;34m\u001b[0m\u001b[0;34m\u001b[0m\u001b[0m\n\u001b[0;32m---> 95\u001b[0;31m         \u001b[0;32mraise\u001b[0m \u001b[0mAssertionError\u001b[0m\u001b[0;34m(\u001b[0m\u001b[0;34m\"Torch not compiled with CUDA enabled\"\u001b[0m\u001b[0;34m)\u001b[0m\u001b[0;34m\u001b[0m\u001b[0;34m\u001b[0m\u001b[0m\n\u001b[0m\u001b[1;32m     96\u001b[0m     \u001b[0;32mif\u001b[0m \u001b[0;32mnot\u001b[0m \u001b[0mtorch\u001b[0m\u001b[0;34m.\u001b[0m\u001b[0m_C\u001b[0m\u001b[0;34m.\u001b[0m\u001b[0m_cuda_isDriverSufficient\u001b[0m\u001b[0;34m(\u001b[0m\u001b[0;34m)\u001b[0m\u001b[0;34m:\u001b[0m\u001b[0;34m\u001b[0m\u001b[0;34m\u001b[0m\u001b[0m\n\u001b[1;32m     97\u001b[0m         \u001b[0;32mif\u001b[0m \u001b[0mtorch\u001b[0m\u001b[0;34m.\u001b[0m\u001b[0m_C\u001b[0m\u001b[0;34m.\u001b[0m\u001b[0m_cuda_getDriverVersion\u001b[0m\u001b[0;34m(\u001b[0m\u001b[0;34m)\u001b[0m \u001b[0;34m==\u001b[0m \u001b[0;36m0\u001b[0m\u001b[0;34m:\u001b[0m\u001b[0;34m\u001b[0m\u001b[0;34m\u001b[0m\u001b[0m\n",
      "\u001b[0;31mAssertionError\u001b[0m: Torch not compiled with CUDA enabled"
     ]
    }
   ],
   "source": [
    "#Check whether we have avaliable GPU on our machine //Uninstalled\n",
    "torch.cuda.get_device_name()"
   ]
  },
  {
   "cell_type": "code",
   "execution_count": 3,
   "metadata": {},
   "outputs": [],
   "source": [
    "#Gradient Descent\n",
    "import torch"
   ]
  },
  {
   "cell_type": "code",
   "execution_count": 12,
   "metadata": {},
   "outputs": [
    {
     "name": "stdout",
     "output_type": "stream",
     "text": [
      "tensor([[ 1.,  2.,  3.,  4.,  5.],\n",
      "        [ 6.,  7.,  8.,  9., 10.]], requires_grad=True)\n",
      "tensor(3850., grad_fn=<MulBackward0>)\n",
      "tensor([[ 1.,  2.,  3.,  4.,  5.],\n",
      "        [ 6.,  7.,  8.,  9., 10.]], requires_grad=True)\n",
      "tensor([[ 20.,  40.,  60.,  80., 100.],\n",
      "        [120., 140., 160., 180., 200.]])\n"
     ]
    }
   ],
   "source": [
    "x = torch.tensor([\n",
    "    [1.,2.,3.,4.,5.],\n",
    "    [6.,7.,8.,9.,10.]\n",
    "],requires_grad=True)\n",
    "\n",
    "function = 10 * (x ** 2).sum()\n",
    "print(x)\n",
    "print(function)\n",
    "\n",
    "\n",
    "function.backward() \n",
    "print(x)\n",
    "print(x.grad)"
   ]
  },
  {
   "cell_type": "code",
   "execution_count": 13,
   "metadata": {},
   "outputs": [],
   "source": [
    "# Реализуйте расчет градиента для функции f(w) = \\prod\\limits_{i,j}{log_{e}(log_{e}({w_{i,j} + 7}}))f(w)= \n",
    "# i,j∏loge(loge(wi,j+7)) в точке w = [[5, 10], [1, 2]]w =[[5,10],[1,2]]"
   ]
  },
  {
   "cell_type": "code",
   "execution_count": 14,
   "metadata": {},
   "outputs": [
    {
     "name": "stdout",
     "output_type": "stream",
     "text": [
      "tensor([[0.0201, 0.0109],\n",
      "        [0.0449, 0.0351]])\n"
     ]
    }
   ],
   "source": [
    "import torch\n",
    "import sympy\n",
    "\n",
    "w = torch.tensor([[5., 10.], [1., 2.]], requires_grad=True)\n",
    "\n",
    "function =  (torch.log(torch.log(w + 7))).prod()\n",
    "function.backward()\n",
    "\n",
    "print(w.grad)"
   ]
  },
  {
   "cell_type": "code",
   "execution_count": 19,
   "metadata": {},
   "outputs": [
    {
     "name": "stdout",
     "output_type": "stream",
     "text": [
      "tensor([[4.9900, 9.9948],\n",
      "        [0.9775, 1.9825]], requires_grad=True)\n"
     ]
    }
   ],
   "source": [
    "w = torch.tensor([[5., 10.], [1., 2.]], requires_grad=True)\n",
    "alpha = 0.001\n",
    "\n",
    "for _ in range(500):\n",
    "    # it's critical to calculate function inside the loop:\n",
    "    function = (w + 7).log().log().prod()\n",
    "    function.backward()\n",
    "    w.data -= alpha * w.grad\n",
    "    w.grad.zero_()\n",
    "\n",
    "print(w)"
   ]
  },
  {
   "cell_type": "code",
   "execution_count": 30,
   "metadata": {},
   "outputs": [
    {
     "name": "stdout",
     "output_type": "stream",
     "text": [
      "tensor([[7.8400, 7.8400]])\n",
      "tensor([[7.6832, 7.6832]])\n",
      "tensor([[7.5295, 7.5295]])\n",
      "tensor([[7.3789, 7.3789]])\n",
      "tensor([[7.2314, 7.2314]])\n"
     ]
    }
   ],
   "source": [
    "#wrap it\n",
    "x = torch.tensor([\n",
    "    [8., 8.]\n",
    "], requires_grad=True)\n",
    "\n",
    "def loss_(vector):\n",
    "    return 10 * (vector ** 2).sum()\n",
    "\n",
    "def gradient(loss_function, vector):\n",
    "    loss_result = loss_function(vector)\n",
    "    loss_result.backward()\n",
    "    vector.data -= 0.001 * vector.grad\n",
    "    vector.grad.zero_()\n",
    "    print(vector.data)\n",
    "\n",
    "for i in range(5):\n",
    "    gradient(loss_, x)"
   ]
  },
  {
   "cell_type": "code",
   "execution_count": 36,
   "metadata": {},
   "outputs": [
    {
     "name": "stdout",
     "output_type": "stream",
     "text": [
      "tensor([[7.8400, 7.8400]])\n",
      "tensor([[7.6832, 7.6832]])\n",
      "tensor([[7.5295, 7.5295]])\n",
      "tensor([[7.3789, 7.3789]])\n",
      "tensor([[7.2314, 7.2314]])\n"
     ]
    }
   ],
   "source": [
    "#add option for optimizers\n",
    "x = torch.tensor([\n",
    "    [8., 8.]\n",
    "], requires_grad=True)\n",
    "\n",
    "optimizer = torch.optim.SGD([x], lr=0.001)\n",
    "\n",
    "def loss_(vector):\n",
    "    return 10 * (vector ** 2).sum()\n",
    "\n",
    "def gradient(loss_function, vector):\n",
    "    loss_result = loss_function(vector)\n",
    "    loss_result.backward()\n",
    "    optimizer.step()\n",
    "    optimizer.zero_grad()\n",
    "    print(vector.data)\n",
    "\n",
    "for i in range(5):\n",
    "    gradient(loss_, x)"
   ]
  },
  {
   "cell_type": "code",
   "execution_count": 38,
   "metadata": {},
   "outputs": [],
   "source": [
    "#Build NeuralNet / For Regression Task"
   ]
  },
  {
   "cell_type": "code",
   "execution_count": 40,
   "metadata": {},
   "outputs": [],
   "source": [
    "import matplotlib.pyplot as plt\n",
    "import matplotlib\n",
    "matplotlib.rcParams['figure.figsize'] = (13, 5)"
   ]
  },
  {
   "cell_type": "code",
   "execution_count": 56,
   "metadata": {},
   "outputs": [],
   "source": [
    "#data\n",
    "X_train = torch.rand(100) * 20 - 10\n",
    "y_train = torch.sin(X_train)"
   ]
  },
  {
   "cell_type": "code",
   "execution_count": 58,
   "metadata": {},
   "outputs": [
    {
     "data": {
      "image/png": "[encoded data removed]",
      "text/plain": [
       "<Figure size 936x360 with 1 Axes>"
      ]
     },
     "metadata": {
      "needs_background": "light"
     },
     "output_type": "display_data"
    }
   ],
   "source": [
    "plt.plot(X_train.numpy(), y_train.numpy(), 'o');\n",
    "plt.title('y = Sin(x)');"
   ]
  },
  {
   "cell_type": "code",
   "execution_count": 60,
   "metadata": {},
   "outputs": [
    {
     "data": {
      "image/png": "[encoded data removed]",
      "text/plain": [
       "<Figure size 936x360 with 1 Axes>"
      ]
     },
     "metadata": {
      "needs_background": "light"
     },
     "output_type": "display_data"
    }
   ],
   "source": [
    "#add some noise\n",
    "\n",
    "noise = torch.rand(y_train.size()) / 5\n",
    "plt.plot(X_train.numpy(), noise.numpy(), 'o');\n",
    "plt.title('y = Sin(x) with JUST Gaussian Noise');"
   ]
  },
  {
   "cell_type": "code",
   "execution_count": 61,
   "metadata": {},
   "outputs": [
    {
     "data": {
      "image/png": "[encoded data removed]",
      "text/plain": [
       "<Figure size 936x360 with 1 Axes>"
      ]
     },
     "metadata": {
      "needs_background": "light"
     },
     "output_type": "display_data"
    }
   ],
   "source": [
    "y_train = y_train + noise\n",
    "plt.plot(X_train.numpy(), y_train.numpy(), 'o');\n",
    "plt.title('y = Sin(x) with Gaussian Noise');"
   ]
  },
  {
   "cell_type": "code",
   "execution_count": 63,
   "metadata": {},
   "outputs": [
    {
     "data": {
      "text/plain": [
       "tensor([[ 0.8212],\n",
       "        [-0.0408],\n",
       "        [-0.3809],\n",
       "        [ 0.5896],\n",
       "        [ 1.1495],\n",
       "        [-0.1061],\n",
       "        [ 0.8485],\n",
       "        [ 0.5990],\n",
       "        [-0.5533],\n",
       "        [-0.5015],\n",
       "        [ 1.1286],\n",
       "        [ 0.1117],\n",
       "        [-0.2150],\n",
       "        [-0.8004],\n",
       "        [ 0.4199],\n",
       "        [ 1.0236],\n",
       "        [-0.5041],\n",
       "        [-0.8066],\n",
       "        [ 1.1129],\n",
       "        [-0.8537],\n",
       "        [ 1.0052],\n",
       "        [ 0.7392],\n",
       "        [-0.3521],\n",
       "        [-0.6410],\n",
       "        [-0.7144],\n",
       "        [ 1.0244],\n",
       "        [-0.7670],\n",
       "        [-0.7190],\n",
       "        [-0.3402],\n",
       "        [-0.0325],\n",
       "        [-0.9514],\n",
       "        [ 0.5071],\n",
       "        [ 0.3101],\n",
       "        [ 0.2868],\n",
       "        [ 0.0909],\n",
       "        [ 0.8012],\n",
       "        [ 0.4588],\n",
       "        [-0.3830],\n",
       "        [ 0.3705],\n",
       "        [-0.8111],\n",
       "        [-0.8242],\n",
       "        [-0.2236],\n",
       "        [-0.4757],\n",
       "        [ 0.9961],\n",
       "        [-0.9230],\n",
       "        [-0.4912],\n",
       "        [-0.1436],\n",
       "        [ 0.3556],\n",
       "        [-0.2223],\n",
       "        [ 1.0559],\n",
       "        [-0.4187],\n",
       "        [ 0.6127],\n",
       "        [ 1.0418],\n",
       "        [-0.7397],\n",
       "        [ 0.1768],\n",
       "        [ 1.1403],\n",
       "        [ 0.6069],\n",
       "        [ 1.1303],\n",
       "        [ 0.3613],\n",
       "        [-0.6896],\n",
       "        [ 0.5794],\n",
       "        [ 0.7209],\n",
       "        [ 1.0552],\n",
       "        [-0.7686],\n",
       "        [-0.9812],\n",
       "        [-0.0120],\n",
       "        [-0.8309],\n",
       "        [ 0.4329],\n",
       "        [-0.7200],\n",
       "        [ 0.3292],\n",
       "        [-0.5232],\n",
       "        [-0.7691],\n",
       "        [ 1.1249],\n",
       "        [-0.8728],\n",
       "        [-0.3728],\n",
       "        [ 0.6812],\n",
       "        [-0.5819],\n",
       "        [-0.2897],\n",
       "        [ 1.0685],\n",
       "        [ 1.1418],\n",
       "        [-0.7044],\n",
       "        [-0.2894],\n",
       "        [-0.4837],\n",
       "        [-0.8442],\n",
       "        [ 1.0316],\n",
       "        [-0.4704],\n",
       "        [ 1.0271],\n",
       "        [-0.2594],\n",
       "        [-0.8391],\n",
       "        [ 0.3145],\n",
       "        [ 0.5364],\n",
       "        [ 0.2660],\n",
       "        [ 0.7880],\n",
       "        [ 0.5431],\n",
       "        [-0.4358],\n",
       "        [ 1.0008],\n",
       "        [-0.2672],\n",
       "        [-0.4699],\n",
       "        [-0.3030],\n",
       "        [ 0.0859]])"
      ]
     },
     "execution_count": 63,
     "metadata": {},
     "output_type": "execute_result"
    }
   ],
   "source": [
    "####Important point:\n",
    "####INPUT DATA SHOULD BE SQUEEZED TO VECTOR, SIZE: (N, 1) <-- WHERE N NUMBER OF SCALARS\n",
    "####Torch function: torch.unsqueeze(1)\n",
    "\n",
    "X_train.unsqueeze_(1)\n",
    "y_train.unsqueeze_(1)"
   ]
  },
  {
   "cell_type": "code",
   "execution_count": 81,
   "metadata": {},
   "outputs": [
    {
     "data": {
      "image/png": "[encoded data removed]",
      "text/plain": [
       "<Figure size 936x360 with 1 Axes>"
      ]
     },
     "metadata": {
      "needs_background": "light"
     },
     "output_type": "display_data"
    }
   ],
   "source": [
    "#Validation data\n",
    "X_validation = torch.linspace(-10, 10, 100)\n",
    "y_validation = torch.sin(X_validation.data)\n",
    "\n",
    "plt.plot(X_validation.numpy(), y_validation.numpy(), 'o');"
   ]
  },
  {
   "cell_type": "code",
   "execution_count": 82,
   "metadata": {},
   "outputs": [],
   "source": [
    "X_validation.unsqueeze_(1)\n",
    "y_validation.unsqueeze_(1);"
   ]
  },
  {
   "cell_type": "code",
   "execution_count": 83,
   "metadata": {},
   "outputs": [],
   "source": [
    "#Model constraction\n",
    "\n",
    "class SinNet(torch.nn.Module):\n",
    "    def __init__(self, n_hidden_neurons):\n",
    "        super(SinNet, self).__init__()\n",
    "        self.full_conn_layer_1 = torch.nn.Linear(1, n_hidden_neurons) #(input_neurons, output_neurrons)\n",
    "        self.activation_function_1 = torch.nn.Sigmoid()\n",
    "        self.full_conn_layer_2 = torch.nn.Linear(n_hidden_neurons, 1) #(input_neurons, output_neurrons)\n",
    "        \n",
    "    def forward(self, x):\n",
    "        x = self.full_conn_layer_1(x)\n",
    "        x = self.activation_function_1(x)\n",
    "        x = self.full_conn_layer_2(x)\n",
    "        return x"
   ]
  },
  {
   "cell_type": "code",
   "execution_count": 103,
   "metadata": {},
   "outputs": [],
   "source": [
    "#SinNet(30).forward(X_train)"
   ]
  },
  {
   "cell_type": "code",
   "execution_count": 84,
   "metadata": {},
   "outputs": [],
   "source": [
    "#Predict without fitting\n",
    "def predict(net, X, y):\n",
    "    y_pred = net.forward(X)\n",
    "    \n",
    "    plt.plot(X.numpy(), y.numpy(), 'o')\n",
    "    plt.title('Groud Truth')\n",
    "    \n",
    "    plt.plot(X.numpy(), y_pred.data.numpy(), 'o', c='r', label='Prediction')\n",
    "    \n",
    "    "
   ]
  },
  {
   "cell_type": "code",
   "execution_count": 87,
   "metadata": {},
   "outputs": [
    {
     "data": {
      "image/png": "[encoded data removed]",
      "text/plain": [
       "<Figure size 936x360 with 1 Axes>"
      ]
     },
     "metadata": {
      "needs_background": "light"
     },
     "output_type": "display_data"
    }
   ],
   "source": [
    "sin_net = SinNet(30)\n",
    "predict(sin_net, X_validation, y_validation);"
   ]
  },
  {
   "cell_type": "code",
   "execution_count": 88,
   "metadata": {},
   "outputs": [],
   "source": [
    "#More over\n",
    "#Need to:\n",
    "#  - define optimizer\n",
    "#  - define loss function"
   ]
  },
  {
   "cell_type": "code",
   "execution_count": 98,
   "metadata": {},
   "outputs": [],
   "source": [
    "#Optimizer\n",
    "optimizer = torch.optim.Adam(sin_net.parameters(), lr=0.001)\n",
    "\n",
    "#Loss function\n",
    "def loss(pred, target):\n",
    "    squares = (pred - target)**2\n",
    "    return squares.mean()"
   ]
  },
  {
   "cell_type": "code",
   "execution_count": 96,
   "metadata": {},
   "outputs": [
    {
     "data": {
      "text/plain": [
       "<bound method Module.parameters of SinNet(\n",
       "  (full_conn_layer_1): Linear(in_features=1, out_features=30, bias=True)\n",
       "  (activation_function_1): Sigmoid()\n",
       "  (full_conn_layer_2): Linear(in_features=30, out_features=1, bias=True)\n",
       ")>"
      ]
     },
     "execution_count": 96,
     "metadata": {},
     "output_type": "execute_result"
    }
   ],
   "source": [
    "sin_net.parameters"
   ]
  },
  {
   "cell_type": "code",
   "execution_count": 100,
   "metadata": {},
   "outputs": [
    {
     "data": {
      "image/png": "[encoded data removed]",
      "text/plain": [
       "<Figure size 936x360 with 1 Axes>"
      ]
     },
     "metadata": {
      "needs_background": "light"
     },
     "output_type": "display_data"
    }
   ],
   "source": [
    "#Training\n",
    "\n",
    "for epoch_index in range(2000):\n",
    "    optimizer.zero_grad()\n",
    "    y_pred = sin_net.forward(X_train)\n",
    "    loss_val = loss(y_pred, y_train)\n",
    "    \n",
    "    loss_val.backward()\n",
    "    optimizer.step()\n",
    "    \n",
    "predict(sin_net, X_validation, y_validation)\n"
   ]
  },
  {
   "cell_type": "code",
   "execution_count": 104,
   "metadata": {},
   "outputs": [],
   "source": [
    "########"
   ]
  },
  {
   "cell_type": "code",
   "execution_count": 105,
   "metadata": {},
   "outputs": [],
   "source": [
    "import torch\n",
    "import matplotlib\n",
    "\n",
    "class RegressionNet(torch.nn.Module):\n",
    "    def __init__(self, n_hidden_neurons):\n",
    "        super().__init__()\n",
    "        self.full_conn_layer_1 = torch.nn.Linear(1, n_hidden_neurons) \n",
    "        self.activation_function_1 = torch.nn.Tanh()\n",
    "        self.full_conn_layer_2 = torch.nn.Linear(n_hidden_neurons, n_hidden_neurons) \n",
    "        self.activation_function_2 = torch.nn.Tanh()\n",
    "        self.full_conn_layer_3 = torch.nn.Linear(n_hidden_neurons, n_hidden_neurons) \n",
    "        self.activation_function_3 = torch.nn.Tanh()\n",
    "        self.full_conn_layer_4 = torch.nn.Linear(n_hidden_neurons, 1)\n",
    "        \n",
    "    def forward(self, x):\n",
    "        x = self.full_conn_layer_1(x)\n",
    "        x = self.activation_function_1(x)\n",
    "        x = self.full_conn_layer_2(x)\n",
    "        x = self.activation_function_2(x)\n",
    "        x = self.full_conn_layer_3(x)\n",
    "        x = self.activation_function_3(x)\n",
    "        x = self.full_conn_layer_4(x)\n",
    "        return x\n",
    "    \n",
    "net = RegressionNet(30)\n",
    "\n",
    "def target_function(x):\n",
    "    return 2**x * torch.sin(2**-x)\n",
    "\n",
    "# ------Dataset preparation start--------:\n",
    "x_train =  torch.linspace(-10, 5, 100)\n",
    "y_train = target_function(x_train)\n",
    "noise = torch.randn(y_train.shape) / 20.\n",
    "y_train = y_train + noise\n",
    "x_train.unsqueeze_(1)\n",
    "y_train.unsqueeze_(1)\n",
    "\n",
    "x_validation = torch.linspace(-10, 5, 100)\n",
    "y_validation = target_function(x_validation)\n",
    "x_validation.unsqueeze_(1)\n",
    "y_validation.unsqueeze_(1)\n",
    "# ------Dataset preparation end--------:\n",
    "\n",
    "def metric(pred, target):\n",
    "    modules = (pred - target).abs().sum() / 100\n",
    "    return modules\n",
    "\n",
    "optimizer = torch.optim.Adam(net.parameters(), lr=0.001)\n",
    "\n",
    "def loss(pred, target):\n",
    "    squares = (pred-target)**2\n",
    "    return squares.mean()\n",
    "\n",
    "for epoch_index in range(400):\n",
    "    optimizer.zero_grad()\n",
    "\n",
    "    y_pred = net.forward(x_train)\n",
    "    loss_value = ((y_pred-y_train)**2).mean()\n",
    "    # make backward\n",
    "    loss_value.backward()\n",
    "    # make step\n",
    "    optimizer.step()\n",
    "\n",
    "#print(metric(net.forward(x_validation), y_validation).item())"
   ]
  },
  {
   "cell_type": "code",
   "execution_count": null,
   "metadata": {},
   "outputs": [],
   "source": []
  }
 ],
 "metadata": {
  "kernelspec": {
   "display_name": "Python 3",
   "language": "python",
   "name": "python3"
  },
  "language_info": {
   "codemirror_mode": {
    "name": "ipython",
    "version": 3
   },
   "file_extension": ".py",
   "mimetype": "text/x-python",
   "name": "python",
   "nbconvert_exporter": "python",
   "pygments_lexer": "ipython3",
   "version": "3.7.6"
  }
 },
 "nbformat": 4,
 "nbformat_minor": 2
}
