{
 "cells": [
  {
   "cell_type": "code",
   "execution_count": 1,
   "metadata": {},
   "outputs": [],
   "source": [
    "import torch\n",
    "import numpy as np"
   ]
  },
  {
   "cell_type": "markdown",
   "metadata": {},
   "source": [
    "## Types of Regularization:\n",
    "- Lasso Regularization (L1)\n",
    "- Ridge(Tihonov) Regularization (L2), else called \"Weight Decay\"\n",
    "- DropOut\n",
    "    - Drop Connection (with specified probability P)(when connections are dropped)\n",
    "    - Drop Neuron (when neurons values are zeros)\n",
    "    "
   ]
  },
  {
   "cell_type": "markdown",
   "metadata": {},
   "source": [
    "## Types of Normalisation\n",
    "- Центрирование данных (Сместить данные так, чтбобы их центр был в нуле)\n",
    "- Нормирование данных \n",
    "- BatchNorm\n",
    "- "
   ]
  }
 ],
 "metadata": {
  "kernelspec": {
   "display_name": "Python 3",
   "language": "python",
   "name": "python3"
  },
  "language_info": {
   "codemirror_mode": {
    "name": "ipython",
    "version": 3
   },
   "file_extension": ".py",
   "mimetype": "text/x-python",
   "name": "python",
   "nbconvert_exporter": "python",
   "pygments_lexer": "ipython3",
   "version": "3.7.6"
  }
 },
 "nbformat": 4,
 "nbformat_minor": 2
}
