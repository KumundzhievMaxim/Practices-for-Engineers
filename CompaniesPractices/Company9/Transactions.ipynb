{
 "cells": [
  {
   "cell_type": "markdown",
   "metadata": {},
   "source": [
    "### Scenario\n",
    "\n",
    "You have 2 input variables:<br>\n",
    "```logs``` and ```threshold```\n",
    "\n",
    "```logs``` - list of strings consist of sender_id, recipient_id, amount\n",
    "Ex: ['1 2 200', '2 3 100', '2 4 10']\n",
    "\n",
    "```threshold``` - number concerning the maximum number of transactions by sender_id, recipient_id\n",
    "Ex: 3\n",
    "\n",
    "The task is to return the pair: {key: value} of the user who exceedes the threshold "
   ]
  },
  {
   "cell_type": "code",
   "execution_count": 2,
   "metadata": {},
   "outputs": [],
   "source": [
    "def yolo(logs, threshold):\n",
    "    user_dict = {}\n",
    "    counter = 1\n",
    "\n",
    "    for line in logs:\n",
    "        modified_line = [int(element) for element in line.split(' ')]\n",
    "        for index in range(len(modified_line) - 1):\n",
    "            if str(modified_line[index]) not in user_dict.keys():\n",
    "                user_dict.update({'{}'.format(modified_line[index]) : counter})    \n",
    "            else:\n",
    "                user_dict.update({'{}'.format(modified_line[index]) : user_dict['{}'.format(modified_line[index])] + 1})\n",
    "    \n",
    "    '''Compare with threshold'''\n",
    "    fraud = [(key, user_dict.get('{}'.format(key))) for key in user_dict.keys() if user_dict.get('{}'.format(key)) > threshold]\n",
    "    \n",
    "    '''Return results'''\n",
    "    return fraud"
   ]
  },
  {
   "cell_type": "code",
   "execution_count": 6,
   "metadata": {},
   "outputs": [
    {
     "data": {
      "text/plain": [
       "[('2', 3)]"
      ]
     },
     "execution_count": 6,
     "metadata": {},
     "output_type": "execute_result"
    }
   ],
   "source": [
    "yolo(logs = ['1 2 200', '2 3 100', '2 4 10'], threshold = 2)"
   ]
  },
  {
   "cell_type": "code",
   "execution_count": null,
   "metadata": {},
   "outputs": [],
   "source": []
  }
 ],
 "metadata": {
  "kernelspec": {
   "display_name": "Python 3",
   "language": "python",
   "name": "python3"
  },
  "language_info": {
   "codemirror_mode": {
    "name": "ipython",
    "version": 3
   },
   "file_extension": ".py",
   "mimetype": "text/x-python",
   "name": "python",
   "nbconvert_exporter": "python",
   "pygments_lexer": "ipython3",
   "version": "3.8.0"
  }
 },
 "nbformat": 4,
 "nbformat_minor": 2
}
