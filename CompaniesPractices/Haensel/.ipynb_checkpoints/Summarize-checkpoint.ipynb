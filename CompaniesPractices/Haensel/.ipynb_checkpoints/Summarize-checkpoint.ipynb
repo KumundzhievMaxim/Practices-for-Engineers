{
 "cells": [
  {
   "cell_type": "markdown",
   "metadata": {},
   "source": [
    "The plan of work:\n",
    "______________________________________________________________________________________________________________________\n",
    "\n",
    "Untuned solution:\n",
    "\n",
    "1) Check the target - the number of classes - understand which type of task we have <br>\n",
    "    a) if numeric - okay<br>\n",
    "    b) if categorical - one hot encoding or dummy function<br>\n",
    "2) The target - check balanced / imbalanced situation + visualisstion<br>\n",
    "3) Check the types of features<br>\n",
    "    a) if numeric - okay<br>\n",
    "    b) if categorical - one hot encoding or dummy function<br>\n",
    "4) Check the distribution of data<br>\n",
    "    a) if distribution is hight - normalize / standartize<br>\n",
    "    b) if distribution is NOT hight(all the random values is near with mean) - okay<br>\n",
    "5) Split data (lots of ways(Validation, CrossValidation))<br>\n",
    "6) Staright solution with few models, define benchmark<br>\n",
    "\n",
    "______________________________________________________________________________________________________________________\n",
    "\n",
    "Tuned solution: \n",
    "\n",
    "<s>1) Try approach for target value (to make just 2 classes, because classes are unbalanced)<br></s>\n",
    "1) Implement Feature Selection and define features with the most Information Gain (reduce the number of features)<br>\n",
    "2) Split data (lots of ways(Validation, CrossValidation))<br>\n",
    "3) Staright solution with few models, define benchmark for 2 classes<br>\n",
    "4) Comapare results\n",
    "\n",
    "\n"
   ]
  },
  {
   "cell_type": "code",
   "execution_count": 1,
   "metadata": {},
   "outputs": [],
   "source": [
    "#Import libraries"
   ]
  },
  {
   "cell_type": "code",
   "execution_count": 40,
   "metadata": {},
   "outputs": [],
   "source": [
    "#EDA\n",
    "from __future__ import print_function\n",
    "import pandas as pd\n",
    "import numpy as np\n",
    "import sklearn \n",
    "import scipy\n",
    "\n",
    "#Plotting\n",
    "%matplotlib inline\n",
    "import matplotlib.pyplot as plt\n",
    "import seaborn as sns\n",
    "\n",
    "#Ignore warnings\n",
    "import warnings\n",
    "warnings.simplefilter('ignore')\n",
    "\n",
    "#Preproccesing \n",
    "from sklearn import preprocessing\n",
    "from sklearn.model_selection import KFold, cross_val_score\n",
    "\n",
    "#Metrics\n",
    "from sklearn import metrics\n",
    "from sklearn.metrics import roc_auc_score\n",
    "from sklearn.model_selection import train_test_split\n",
    "\n",
    "#Models\n",
    "from sklearn.neighbors import KNeighborsClassifier\n",
    "from sklearn.linear_model import SGDClassifier, LogisticRegression \n",
    "from sklearn.ensemble import RandomForestClassifier, GradientBoostingClassifier\n",
    "from sklearn.linear_model import Perceptron\n",
    "from sklearn.naive_bayes import GaussianNB\n",
    "from sklearn.svm import LinearSVC\n",
    "from sklearn.multiclass import OneVsRestClassifier\n",
    "\n",
    "#Feature selecting \n",
    "from boruta import BorutaPy"
   ]
  },
  {
   "cell_type": "markdown",
   "metadata": {},
   "source": [
    "<h2>Part 1</h2>"
   ]
  },
  {
   "cell_type": "code",
   "execution_count": 3,
   "metadata": {},
   "outputs": [],
   "source": [
    "#Read the data"
   ]
  },
  {
   "cell_type": "code",
   "execution_count": 4,
   "metadata": {},
   "outputs": [],
   "source": [
    "data = pd.read_csv('Sample.csv', header = None)"
   ]
  },
  {
   "cell_type": "markdown",
   "metadata": {},
   "source": [
    "**1) Check the target - the number of classes - understand which type of task we have**<br>\n",
    "a) if numeric - okay<br>\n",
    "b) if categorical - one hot encoding or dummy function<br>"
   ]
  },
  {
   "cell_type": "code",
   "execution_count": 5,
   "metadata": {},
   "outputs": [
    {
     "data": {
      "text/html": [
       "<div>\n",
       "<style scoped>\n",
       "    .dataframe tbody tr th:only-of-type {\n",
       "        vertical-align: middle;\n",
       "    }\n",
       "\n",
       "    .dataframe tbody tr th {\n",
       "        vertical-align: top;\n",
       "    }\n",
       "\n",
       "    .dataframe thead th {\n",
       "        text-align: right;\n",
       "    }\n",
       "</style>\n",
       "<table border=\"1\" class=\"dataframe\">\n",
       "  <thead>\n",
       "    <tr style=\"text-align: right;\">\n",
       "      <th></th>\n",
       "      <th>0</th>\n",
       "      <th>1</th>\n",
       "      <th>2</th>\n",
       "      <th>3</th>\n",
       "      <th>4</th>\n",
       "      <th>5</th>\n",
       "      <th>6</th>\n",
       "      <th>7</th>\n",
       "      <th>8</th>\n",
       "      <th>9</th>\n",
       "      <th>...</th>\n",
       "      <th>286</th>\n",
       "      <th>287</th>\n",
       "      <th>288</th>\n",
       "      <th>289</th>\n",
       "      <th>290</th>\n",
       "      <th>291</th>\n",
       "      <th>292</th>\n",
       "      <th>293</th>\n",
       "      <th>294</th>\n",
       "      <th>295</th>\n",
       "    </tr>\n",
       "  </thead>\n",
       "  <tbody>\n",
       "    <tr>\n",
       "      <th>0</th>\n",
       "      <td>0</td>\n",
       "      <td>0</td>\n",
       "      <td>0</td>\n",
       "      <td>20000.0</td>\n",
       "      <td>0</td>\n",
       "      <td>0</td>\n",
       "      <td>1</td>\n",
       "      <td>0</td>\n",
       "      <td>0</td>\n",
       "      <td>0</td>\n",
       "      <td>...</td>\n",
       "      <td>0</td>\n",
       "      <td>0</td>\n",
       "      <td>0</td>\n",
       "      <td>0</td>\n",
       "      <td>0</td>\n",
       "      <td>1</td>\n",
       "      <td>0</td>\n",
       "      <td>0</td>\n",
       "      <td>259.227165</td>\n",
       "      <td>B</td>\n",
       "    </tr>\n",
       "    <tr>\n",
       "      <th>1</th>\n",
       "      <td>0</td>\n",
       "      <td>0</td>\n",
       "      <td>0</td>\n",
       "      <td>7059.0</td>\n",
       "      <td>0</td>\n",
       "      <td>0</td>\n",
       "      <td>1</td>\n",
       "      <td>0</td>\n",
       "      <td>0</td>\n",
       "      <td>0</td>\n",
       "      <td>...</td>\n",
       "      <td>0</td>\n",
       "      <td>0</td>\n",
       "      <td>0</td>\n",
       "      <td>0</td>\n",
       "      <td>0</td>\n",
       "      <td>0</td>\n",
       "      <td>1</td>\n",
       "      <td>0</td>\n",
       "      <td>271.983584</td>\n",
       "      <td>E</td>\n",
       "    </tr>\n",
       "    <tr>\n",
       "      <th>2</th>\n",
       "      <td>0</td>\n",
       "      <td>0</td>\n",
       "      <td>0</td>\n",
       "      <td>3150.0</td>\n",
       "      <td>0</td>\n",
       "      <td>0</td>\n",
       "      <td>1</td>\n",
       "      <td>0</td>\n",
       "      <td>0</td>\n",
       "      <td>0</td>\n",
       "      <td>...</td>\n",
       "      <td>0</td>\n",
       "      <td>0</td>\n",
       "      <td>0</td>\n",
       "      <td>0</td>\n",
       "      <td>0</td>\n",
       "      <td>1</td>\n",
       "      <td>0</td>\n",
       "      <td>0</td>\n",
       "      <td>235.233437</td>\n",
       "      <td>D</td>\n",
       "    </tr>\n",
       "    <tr>\n",
       "      <th>3</th>\n",
       "      <td>0</td>\n",
       "      <td>0</td>\n",
       "      <td>0</td>\n",
       "      <td>24000.0</td>\n",
       "      <td>0</td>\n",
       "      <td>0</td>\n",
       "      <td>1</td>\n",
       "      <td>0</td>\n",
       "      <td>0</td>\n",
       "      <td>0</td>\n",
       "      <td>...</td>\n",
       "      <td>0</td>\n",
       "      <td>0</td>\n",
       "      <td>0</td>\n",
       "      <td>0</td>\n",
       "      <td>0</td>\n",
       "      <td>0</td>\n",
       "      <td>1</td>\n",
       "      <td>0</td>\n",
       "      <td>415.104389</td>\n",
       "      <td>C</td>\n",
       "    </tr>\n",
       "    <tr>\n",
       "      <th>4</th>\n",
       "      <td>0</td>\n",
       "      <td>0</td>\n",
       "      <td>0</td>\n",
       "      <td>5600.0</td>\n",
       "      <td>0</td>\n",
       "      <td>0</td>\n",
       "      <td>1</td>\n",
       "      <td>0</td>\n",
       "      <td>0</td>\n",
       "      <td>0</td>\n",
       "      <td>...</td>\n",
       "      <td>0</td>\n",
       "      <td>0</td>\n",
       "      <td>0</td>\n",
       "      <td>0</td>\n",
       "      <td>0</td>\n",
       "      <td>0</td>\n",
       "      <td>0</td>\n",
       "      <td>1</td>\n",
       "      <td>462.230610</td>\n",
       "      <td>D</td>\n",
       "    </tr>\n",
       "  </tbody>\n",
       "</table>\n",
       "<p>5 rows × 296 columns</p>\n",
       "</div>"
      ],
      "text/plain": [
       "   0    1    2        3    4    5    6    7    8    9    ...  286  287  288  \\\n",
       "0    0    0    0  20000.0    0    0    1    0    0    0  ...    0    0    0   \n",
       "1    0    0    0   7059.0    0    0    1    0    0    0  ...    0    0    0   \n",
       "2    0    0    0   3150.0    0    0    1    0    0    0  ...    0    0    0   \n",
       "3    0    0    0  24000.0    0    0    1    0    0    0  ...    0    0    0   \n",
       "4    0    0    0   5600.0    0    0    1    0    0    0  ...    0    0    0   \n",
       "\n",
       "   289  290  291  292  293         294  295  \n",
       "0    0    0    1    0    0  259.227165    B  \n",
       "1    0    0    0    1    0  271.983584    E  \n",
       "2    0    0    1    0    0  235.233437    D  \n",
       "3    0    0    0    1    0  415.104389    C  \n",
       "4    0    0    0    0    1  462.230610    D  \n",
       "\n",
       "[5 rows x 296 columns]"
      ]
     },
     "execution_count": 5,
     "metadata": {},
     "output_type": "execute_result"
    }
   ],
   "source": [
    "data.head()"
   ]
  },
  {
   "cell_type": "markdown",
   "metadata": {},
   "source": [
    "Now, we can assume, that our task is MultiClassification task"
   ]
  },
  {
   "cell_type": "code",
   "execution_count": 6,
   "metadata": {},
   "outputs": [],
   "source": [
    "#Rename target and encode it "
   ]
  },
  {
   "cell_type": "code",
   "execution_count": 7,
   "metadata": {},
   "outputs": [],
   "source": [
    "data = data.rename(columns=({295: 'y'}))\n",
    "\n",
    "dic = {'A' : 0, 'B' : 1, 'C' : 2, 'D' : 3, 'E' : 4}\n",
    "data['y'] = data['y'].map(dic)"
   ]
  },
  {
   "cell_type": "code",
   "execution_count": 8,
   "metadata": {},
   "outputs": [
    {
     "data": {
      "text/html": [
       "<div>\n",
       "<style scoped>\n",
       "    .dataframe tbody tr th:only-of-type {\n",
       "        vertical-align: middle;\n",
       "    }\n",
       "\n",
       "    .dataframe tbody tr th {\n",
       "        vertical-align: top;\n",
       "    }\n",
       "\n",
       "    .dataframe thead th {\n",
       "        text-align: right;\n",
       "    }\n",
       "</style>\n",
       "<table border=\"1\" class=\"dataframe\">\n",
       "  <thead>\n",
       "    <tr style=\"text-align: right;\">\n",
       "      <th></th>\n",
       "      <th>0</th>\n",
       "      <th>1</th>\n",
       "      <th>2</th>\n",
       "      <th>3</th>\n",
       "      <th>4</th>\n",
       "      <th>5</th>\n",
       "      <th>6</th>\n",
       "      <th>7</th>\n",
       "      <th>8</th>\n",
       "      <th>9</th>\n",
       "      <th>...</th>\n",
       "      <th>286</th>\n",
       "      <th>287</th>\n",
       "      <th>288</th>\n",
       "      <th>289</th>\n",
       "      <th>290</th>\n",
       "      <th>291</th>\n",
       "      <th>292</th>\n",
       "      <th>293</th>\n",
       "      <th>294</th>\n",
       "      <th>y</th>\n",
       "    </tr>\n",
       "  </thead>\n",
       "  <tbody>\n",
       "    <tr>\n",
       "      <th>0</th>\n",
       "      <td>0</td>\n",
       "      <td>0</td>\n",
       "      <td>0</td>\n",
       "      <td>20000.0</td>\n",
       "      <td>0</td>\n",
       "      <td>0</td>\n",
       "      <td>1</td>\n",
       "      <td>0</td>\n",
       "      <td>0</td>\n",
       "      <td>0</td>\n",
       "      <td>...</td>\n",
       "      <td>0</td>\n",
       "      <td>0</td>\n",
       "      <td>0</td>\n",
       "      <td>0</td>\n",
       "      <td>0</td>\n",
       "      <td>1</td>\n",
       "      <td>0</td>\n",
       "      <td>0</td>\n",
       "      <td>259.227165</td>\n",
       "      <td>1</td>\n",
       "    </tr>\n",
       "    <tr>\n",
       "      <th>1</th>\n",
       "      <td>0</td>\n",
       "      <td>0</td>\n",
       "      <td>0</td>\n",
       "      <td>7059.0</td>\n",
       "      <td>0</td>\n",
       "      <td>0</td>\n",
       "      <td>1</td>\n",
       "      <td>0</td>\n",
       "      <td>0</td>\n",
       "      <td>0</td>\n",
       "      <td>...</td>\n",
       "      <td>0</td>\n",
       "      <td>0</td>\n",
       "      <td>0</td>\n",
       "      <td>0</td>\n",
       "      <td>0</td>\n",
       "      <td>0</td>\n",
       "      <td>1</td>\n",
       "      <td>0</td>\n",
       "      <td>271.983584</td>\n",
       "      <td>4</td>\n",
       "    </tr>\n",
       "    <tr>\n",
       "      <th>2</th>\n",
       "      <td>0</td>\n",
       "      <td>0</td>\n",
       "      <td>0</td>\n",
       "      <td>3150.0</td>\n",
       "      <td>0</td>\n",
       "      <td>0</td>\n",
       "      <td>1</td>\n",
       "      <td>0</td>\n",
       "      <td>0</td>\n",
       "      <td>0</td>\n",
       "      <td>...</td>\n",
       "      <td>0</td>\n",
       "      <td>0</td>\n",
       "      <td>0</td>\n",
       "      <td>0</td>\n",
       "      <td>0</td>\n",
       "      <td>1</td>\n",
       "      <td>0</td>\n",
       "      <td>0</td>\n",
       "      <td>235.233437</td>\n",
       "      <td>3</td>\n",
       "    </tr>\n",
       "    <tr>\n",
       "      <th>3</th>\n",
       "      <td>0</td>\n",
       "      <td>0</td>\n",
       "      <td>0</td>\n",
       "      <td>24000.0</td>\n",
       "      <td>0</td>\n",
       "      <td>0</td>\n",
       "      <td>1</td>\n",
       "      <td>0</td>\n",
       "      <td>0</td>\n",
       "      <td>0</td>\n",
       "      <td>...</td>\n",
       "      <td>0</td>\n",
       "      <td>0</td>\n",
       "      <td>0</td>\n",
       "      <td>0</td>\n",
       "      <td>0</td>\n",
       "      <td>0</td>\n",
       "      <td>1</td>\n",
       "      <td>0</td>\n",
       "      <td>415.104389</td>\n",
       "      <td>2</td>\n",
       "    </tr>\n",
       "    <tr>\n",
       "      <th>4</th>\n",
       "      <td>0</td>\n",
       "      <td>0</td>\n",
       "      <td>0</td>\n",
       "      <td>5600.0</td>\n",
       "      <td>0</td>\n",
       "      <td>0</td>\n",
       "      <td>1</td>\n",
       "      <td>0</td>\n",
       "      <td>0</td>\n",
       "      <td>0</td>\n",
       "      <td>...</td>\n",
       "      <td>0</td>\n",
       "      <td>0</td>\n",
       "      <td>0</td>\n",
       "      <td>0</td>\n",
       "      <td>0</td>\n",
       "      <td>0</td>\n",
       "      <td>0</td>\n",
       "      <td>1</td>\n",
       "      <td>462.230610</td>\n",
       "      <td>3</td>\n",
       "    </tr>\n",
       "  </tbody>\n",
       "</table>\n",
       "<p>5 rows × 296 columns</p>\n",
       "</div>"
      ],
      "text/plain": [
       "   0  1  2        3  4  5  6  7  8  9  ...  286  287  288  289  290  291  292  \\\n",
       "0  0  0  0  20000.0  0  0  1  0  0  0  ...    0    0    0    0    0    1    0   \n",
       "1  0  0  0   7059.0  0  0  1  0  0  0  ...    0    0    0    0    0    0    1   \n",
       "2  0  0  0   3150.0  0  0  1  0  0  0  ...    0    0    0    0    0    1    0   \n",
       "3  0  0  0  24000.0  0  0  1  0  0  0  ...    0    0    0    0    0    0    1   \n",
       "4  0  0  0   5600.0  0  0  1  0  0  0  ...    0    0    0    0    0    0    0   \n",
       "\n",
       "   293         294  y  \n",
       "0    0  259.227165  1  \n",
       "1    0  271.983584  4  \n",
       "2    0  235.233437  3  \n",
       "3    0  415.104389  2  \n",
       "4    1  462.230610  3  \n",
       "\n",
       "[5 rows x 296 columns]"
      ]
     },
     "execution_count": 8,
     "metadata": {},
     "output_type": "execute_result"
    }
   ],
   "source": [
    "data.head()"
   ]
  },
  {
   "cell_type": "markdown",
   "metadata": {},
   "source": [
    "**2) The target - check balanced / imbalanced situation + visualisstion**"
   ]
  },
  {
   "cell_type": "code",
   "execution_count": 9,
   "metadata": {},
   "outputs": [
    {
     "data": {
      "text/plain": [
       "2    0.708862\n",
       "3    0.140300\n",
       "1    0.099823\n",
       "4    0.037906\n",
       "0    0.013109\n",
       "Name: y, dtype: float64"
      ]
     },
     "execution_count": 9,
     "metadata": {},
     "output_type": "execute_result"
    }
   ],
   "source": [
    "data['y'].value_counts(normalize = True)"
   ]
  },
  {
   "cell_type": "markdown",
   "metadata": {},
   "source": [
    "We can assume, that we have imbalanced classes"
   ]
  },
  {
   "cell_type": "code",
   "execution_count": 10,
   "metadata": {},
   "outputs": [
    {
     "data": {
      "image/png": "[encoded data removed]",
      "text/plain": [
       "<Figure size 432x288 with 1 Axes>"
      ]
     },
     "metadata": {
      "needs_background": "light"
     },
     "output_type": "display_data"
    }
   ],
   "source": [
    "#Distribution of target value\n",
    "#On the histogramm we see problem with imbalanced classes better\n",
    "##Normed - applies when multiple classes are plotted\n",
    "data['y'].hist(normed = True);"
   ]
  },
  {
   "cell_type": "code",
   "execution_count": 11,
   "metadata": {},
   "outputs": [
    {
     "data": {
      "image/png": "[encoded data removed]",
      "text/plain": [
       "<Figure size 432x288 with 1 Axes>"
      ]
     },
     "metadata": {
      "needs_background": "light"
     },
     "output_type": "display_data"
    }
   ],
   "source": [
    "#Distribution of target value\n",
    "sns.distplot(data['y']);"
   ]
  },
  {
   "cell_type": "code",
   "execution_count": 12,
   "metadata": {},
   "outputs": [
    {
     "data": {
      "image/png": "[encoded data removed]",
      "text/plain": [
       "<Figure size 432x288 with 2 Axes>"
      ]
     },
     "metadata": {
      "needs_background": "light"
     },
     "output_type": "display_data"
    }
   ],
   "source": [
    "corr_matrix = data.corr()\n",
    "sns.heatmap(corr_matrix);"
   ]
  },
  {
   "cell_type": "markdown",
   "metadata": {},
   "source": [
    "It looks a little bit messy, but also can tell that lots of values are hight correlated(near with + 1.0). It means that we can remove one from the boundary of them. But for now we will continue with situation in order to make a benchmark"
   ]
  },
  {
   "cell_type": "markdown",
   "metadata": {},
   "source": [
    "**3) Check the types of features**"
   ]
  },
  {
   "cell_type": "code",
   "execution_count": 13,
   "metadata": {},
   "outputs": [
    {
     "name": "stdout",
     "output_type": "stream",
     "text": [
      "<class 'pandas.core.frame.DataFrame'>\n",
      "RangeIndex: 66137 entries, 0 to 66136\n",
      "Columns: 296 entries, 0 to y\n",
      "dtypes: float64(4), int64(292)\n",
      "memory usage: 149.4 MB\n"
     ]
    }
   ],
   "source": [
    "data.info()"
   ]
  },
  {
   "cell_type": "markdown",
   "metadata": {},
   "source": [
    "We can assume that we have all the numerical values (int64 and float64).<br>"
   ]
  },
  {
   "cell_type": "markdown",
   "metadata": {},
   "source": [
    "**4) Check the distribution of data**<br>\n",
    "a) if distribution is hight - normalize / standartize <br>\n",
    "b) if distribution is NOT hight(all the random values is near with mean) - okay<br>"
   ]
  },
  {
   "cell_type": "code",
   "execution_count": 14,
   "metadata": {},
   "outputs": [
    {
     "data": {
      "text/html": [
       "<div>\n",
       "<style scoped>\n",
       "    .dataframe tbody tr th:only-of-type {\n",
       "        vertical-align: middle;\n",
       "    }\n",
       "\n",
       "    .dataframe tbody tr th {\n",
       "        vertical-align: top;\n",
       "    }\n",
       "\n",
       "    .dataframe thead th {\n",
       "        text-align: right;\n",
       "    }\n",
       "</style>\n",
       "<table border=\"1\" class=\"dataframe\">\n",
       "  <thead>\n",
       "    <tr style=\"text-align: right;\">\n",
       "      <th></th>\n",
       "      <th>count</th>\n",
       "      <th>mean</th>\n",
       "      <th>std</th>\n",
       "      <th>min</th>\n",
       "      <th>25%</th>\n",
       "      <th>50%</th>\n",
       "      <th>75%</th>\n",
       "      <th>max</th>\n",
       "    </tr>\n",
       "  </thead>\n",
       "  <tbody>\n",
       "    <tr>\n",
       "      <th>0</th>\n",
       "      <td>66137.0</td>\n",
       "      <td>0.004249</td>\n",
       "      <td>0.065044</td>\n",
       "      <td>0.0</td>\n",
       "      <td>0.0</td>\n",
       "      <td>0.0</td>\n",
       "      <td>0.0</td>\n",
       "      <td>1.0</td>\n",
       "    </tr>\n",
       "    <tr>\n",
       "      <th>1</th>\n",
       "      <td>66137.0</td>\n",
       "      <td>0.014757</td>\n",
       "      <td>0.120581</td>\n",
       "      <td>0.0</td>\n",
       "      <td>0.0</td>\n",
       "      <td>0.0</td>\n",
       "      <td>0.0</td>\n",
       "      <td>1.0</td>\n",
       "    </tr>\n",
       "    <tr>\n",
       "      <th>2</th>\n",
       "      <td>66137.0</td>\n",
       "      <td>0.003765</td>\n",
       "      <td>0.061244</td>\n",
       "      <td>0.0</td>\n",
       "      <td>0.0</td>\n",
       "      <td>0.0</td>\n",
       "      <td>0.0</td>\n",
       "      <td>1.0</td>\n",
       "    </tr>\n",
       "    <tr>\n",
       "      <th>3</th>\n",
       "      <td>66137.0</td>\n",
       "      <td>11226.207294</td>\n",
       "      <td>8153.148240</td>\n",
       "      <td>13.0</td>\n",
       "      <td>4000.0</td>\n",
       "      <td>9614.8</td>\n",
       "      <td>18984.0</td>\n",
       "      <td>72360.0</td>\n",
       "    </tr>\n",
       "    <tr>\n",
       "      <th>4</th>\n",
       "      <td>66137.0</td>\n",
       "      <td>0.213511</td>\n",
       "      <td>0.609365</td>\n",
       "      <td>0.0</td>\n",
       "      <td>0.0</td>\n",
       "      <td>0.0</td>\n",
       "      <td>0.0</td>\n",
       "      <td>10.0</td>\n",
       "    </tr>\n",
       "  </tbody>\n",
       "</table>\n",
       "</div>"
      ],
      "text/plain": [
       "     count          mean          std   min     25%     50%      75%      max\n",
       "0  66137.0      0.004249     0.065044   0.0     0.0     0.0      0.0      1.0\n",
       "1  66137.0      0.014757     0.120581   0.0     0.0     0.0      0.0      1.0\n",
       "2  66137.0      0.003765     0.061244   0.0     0.0     0.0      0.0      1.0\n",
       "3  66137.0  11226.207294  8153.148240  13.0  4000.0  9614.8  18984.0  72360.0\n",
       "4  66137.0      0.213511     0.609365   0.0     0.0     0.0      0.0     10.0"
      ]
     },
     "execution_count": 14,
     "metadata": {},
     "output_type": "execute_result"
    }
   ],
   "source": [
    "data.describe(include='all').T.head()"
   ]
  },
  {
   "cell_type": "code",
   "execution_count": 15,
   "metadata": {},
   "outputs": [
    {
     "name": "stdout",
     "output_type": "stream",
     "text": [
      "<class 'pandas.core.frame.DataFrame'>\n",
      "RangeIndex: 66137 entries, 0 to 66136\n",
      "Columns: 296 entries, 0 to y\n",
      "dtypes: float64(4), int64(292)\n",
      "memory usage: 149.4 MB\n"
     ]
    }
   ],
   "source": [
    "data.info()"
   ]
  },
  {
   "cell_type": "code",
   "execution_count": 16,
   "metadata": {},
   "outputs": [
    {
     "data": {
      "text/plain": [
       "int64      292\n",
       "float64      4\n",
       "dtype: int64"
      ]
     },
     "execution_count": 16,
     "metadata": {},
     "output_type": "execute_result"
    }
   ],
   "source": [
    "data.dtypes.value_counts()"
   ]
  },
  {
   "cell_type": "markdown",
   "metadata": {},
   "source": [
    "We can see, that data has high values range (check the mean of features or min and max etc)"
   ]
  },
  {
   "cell_type": "code",
   "execution_count": 17,
   "metadata": {},
   "outputs": [],
   "source": [
    "#Normalisation "
   ]
  },
  {
   "cell_type": "code",
   "execution_count": 18,
   "metadata": {},
   "outputs": [],
   "source": [
    "#Split on X and y\n",
    "y = data['y'].values\n",
    "X_normalized = data.drop('y', axis = 1)\n",
    "X_normalized = pd.DataFrame(data = preprocessing.normalize(data))"
   ]
  },
  {
   "cell_type": "code",
   "execution_count": 19,
   "metadata": {},
   "outputs": [
    {
     "data": {
      "text/html": [
       "<div>\n",
       "<style scoped>\n",
       "    .dataframe tbody tr th:only-of-type {\n",
       "        vertical-align: middle;\n",
       "    }\n",
       "\n",
       "    .dataframe tbody tr th {\n",
       "        vertical-align: top;\n",
       "    }\n",
       "\n",
       "    .dataframe thead th {\n",
       "        text-align: right;\n",
       "    }\n",
       "</style>\n",
       "<table border=\"1\" class=\"dataframe\">\n",
       "  <thead>\n",
       "    <tr style=\"text-align: right;\">\n",
       "      <th></th>\n",
       "      <th>count</th>\n",
       "      <th>mean</th>\n",
       "      <th>std</th>\n",
       "      <th>min</th>\n",
       "      <th>25%</th>\n",
       "      <th>50%</th>\n",
       "      <th>75%</th>\n",
       "      <th>max</th>\n",
       "    </tr>\n",
       "  </thead>\n",
       "  <tbody>\n",
       "    <tr>\n",
       "      <th>0</th>\n",
       "      <td>66137.0</td>\n",
       "      <td>1.017012e-06</td>\n",
       "      <td>0.000019</td>\n",
       "      <td>0.000000</td>\n",
       "      <td>0.000000</td>\n",
       "      <td>0.000000</td>\n",
       "      <td>0.000000</td>\n",
       "      <td>0.001328</td>\n",
       "    </tr>\n",
       "    <tr>\n",
       "      <th>1</th>\n",
       "      <td>66137.0</td>\n",
       "      <td>9.612959e-07</td>\n",
       "      <td>0.000016</td>\n",
       "      <td>0.000000</td>\n",
       "      <td>0.000000</td>\n",
       "      <td>0.000000</td>\n",
       "      <td>0.000000</td>\n",
       "      <td>0.002043</td>\n",
       "    </tr>\n",
       "    <tr>\n",
       "      <th>2</th>\n",
       "      <td>66137.0</td>\n",
       "      <td>7.424966e-07</td>\n",
       "      <td>0.000023</td>\n",
       "      <td>0.000000</td>\n",
       "      <td>0.000000</td>\n",
       "      <td>0.000000</td>\n",
       "      <td>0.000000</td>\n",
       "      <td>0.002502</td>\n",
       "    </tr>\n",
       "    <tr>\n",
       "      <th>3</th>\n",
       "      <td>66137.0</td>\n",
       "      <td>9.742737e-01</td>\n",
       "      <td>0.080226</td>\n",
       "      <td>0.002738</td>\n",
       "      <td>0.988526</td>\n",
       "      <td>0.997673</td>\n",
       "      <td>0.999321</td>\n",
       "      <td>0.999991</td>\n",
       "    </tr>\n",
       "    <tr>\n",
       "      <th>4</th>\n",
       "      <td>66137.0</td>\n",
       "      <td>2.578886e-05</td>\n",
       "      <td>0.000096</td>\n",
       "      <td>0.000000</td>\n",
       "      <td>0.000000</td>\n",
       "      <td>0.000000</td>\n",
       "      <td>0.000000</td>\n",
       "      <td>0.002710</td>\n",
       "    </tr>\n",
       "  </tbody>\n",
       "</table>\n",
       "</div>"
      ],
      "text/plain": [
       "     count          mean       std       min       25%       50%       75%  \\\n",
       "0  66137.0  1.017012e-06  0.000019  0.000000  0.000000  0.000000  0.000000   \n",
       "1  66137.0  9.612959e-07  0.000016  0.000000  0.000000  0.000000  0.000000   \n",
       "2  66137.0  7.424966e-07  0.000023  0.000000  0.000000  0.000000  0.000000   \n",
       "3  66137.0  9.742737e-01  0.080226  0.002738  0.988526  0.997673  0.999321   \n",
       "4  66137.0  2.578886e-05  0.000096  0.000000  0.000000  0.000000  0.000000   \n",
       "\n",
       "        max  \n",
       "0  0.001328  \n",
       "1  0.002043  \n",
       "2  0.002502  \n",
       "3  0.999991  \n",
       "4  0.002710  "
      ]
     },
     "execution_count": 19,
     "metadata": {},
     "output_type": "execute_result"
    }
   ],
   "source": [
    "X_normalized.describe(include='all').T.head()"
   ]
  },
  {
   "cell_type": "markdown",
   "metadata": {},
   "source": [
    "**5) Split data (lots of ways(Validation, CrossValidation))<br>\n",
    "  6) Staright solution with few models, define benchmark**"
   ]
  },
  {
   "cell_type": "code",
   "execution_count": 20,
   "metadata": {},
   "outputs": [
    {
     "name": "stdout",
     "output_type": "stream",
     "text": [
      "KFold(n_splits=5, random_state=42, shuffle=True)\n"
     ]
    }
   ],
   "source": [
    "#Define the Kfold CrossValidation\n",
    "kf = KFold(n_splits=5, random_state=42, shuffle=True)\n",
    "\n",
    "#kf.get_n_splits(X)\n",
    "print(kf) "
   ]
  },
  {
   "cell_type": "markdown",
   "metadata": {},
   "source": [
    "***KNN***"
   ]
  },
  {
   "cell_type": "code",
   "execution_count": 21,
   "metadata": {},
   "outputs": [
    {
     "name": "stdout",
     "output_type": "stream",
     "text": [
      "CPU times: user 2 µs, sys: 0 ns, total: 2 µs\n",
      "Wall time: 4.29 µs\n"
     ]
    },
    {
     "data": {
      "text/plain": [
       "[0.6298289830555011, 1]"
      ]
     },
     "execution_count": 21,
     "metadata": {},
     "output_type": "execute_result"
    }
   ],
   "source": [
    "def get_auc_knn_valid(X, y, neighbours_number, seed):\n",
    "    %time\n",
    "    res = []\n",
    "    for num_neighb in range(1,neighbours_number):\n",
    "        knn = KNeighborsClassifier(n_neighbors=num_neighb, n_jobs = -1)\n",
    "        estimator = knn\n",
    "        prediction = cross_val_score(estimator, X, y, scoring='accuracy', cv = kf)\n",
    "        res.append([prediction.mean(), num_neighb])\n",
    "        #print(f'num_k %d'%num_neighb, prediction.mean())\n",
    "        return(max(res))\n",
    "\n",
    "\n",
    "get_auc_knn_valid(X_normalized, y, neighbours_number = 51, seed = 42)"
   ]
  },
  {
   "cell_type": "markdown",
   "metadata": {},
   "source": [
    "**Perceptron**"
   ]
  },
  {
   "cell_type": "code",
   "execution_count": 22,
   "metadata": {},
   "outputs": [],
   "source": [
    "# model = Perceptron(random_state = 241)\n",
    "# model.fit(X_normalized, y)\n",
    "# predict = model.predict(X_test)\n",
    "# print(metrics.classification_report(predict, y_test))"
   ]
  },
  {
   "cell_type": "markdown",
   "metadata": {},
   "source": [
    "**Logistic Regression**"
   ]
  },
  {
   "cell_type": "code",
   "execution_count": 23,
   "metadata": {},
   "outputs": [
    {
     "name": "stdout",
     "output_type": "stream",
     "text": [
      "CPU times: user 2 µs, sys: 0 ns, total: 2 µs\n",
      "Wall time: 4.05 µs\n"
     ]
    },
    {
     "data": {
      "text/plain": [
       "0.7085896831738709"
      ]
     },
     "execution_count": 23,
     "metadata": {},
     "output_type": "execute_result"
    }
   ],
   "source": [
    "C = 1.0\n",
    "# C = 1e4\n",
    "#C = 1e-2\n",
    "def get_auc_lr_valid(X, y, C = C, seed = 42):\n",
    "    %time\n",
    "    logit = LogisticRegression(n_jobs = -1, random_state = seed, C = C, multi_class='multinomial', solver='lbfgs')\n",
    "    #logit = LogisticRegression(n_jobs = -1, random_state = seed, C = C, multi_class='ovr', solver='lbfgs')\n",
    "    estimator = logit\n",
    "    prediction = cross_val_score(estimator, X_normalized, y, scoring='accuracy', cv = kf)\n",
    "    return (prediction.mean())\n",
    "\n",
    "\n",
    "get_auc_lr_valid(X_normalized, y, C = 1.0, seed = 42)"
   ]
  },
  {
   "cell_type": "markdown",
   "metadata": {},
   "source": [
    "**SGDClassifier**"
   ]
  },
  {
   "cell_type": "code",
   "execution_count": 24,
   "metadata": {},
   "outputs": [
    {
     "name": "stdout",
     "output_type": "stream",
     "text": [
      "CPU times: user 3 µs, sys: 1e+03 ns, total: 4 µs\n",
      "Wall time: 6.2 µs\n"
     ]
    },
    {
     "data": {
      "text/plain": [
       "0.7090281618983665"
      ]
     },
     "execution_count": 24,
     "metadata": {},
     "output_type": "execute_result"
    }
   ],
   "source": [
    "def get_auc_sgd_valid(X, y, seed = 42):\n",
    "    %time\n",
    "    #sgd_logit = sklearn.linear_model.SGDClassifier(loss = 'log', random_state = seed, n_jobs = -1)\n",
    "    sgd_logit = sklearn.linear_model.SGDClassifier(loss = 'log', learning_rate='adaptive', eta0 = 0.05,\n",
    "                                              penalty = 'l2',  random_state = 17, n_jobs = -1)\n",
    "    estimator = sgd_logit\n",
    "    prediction = cross_val_score(estimator, X, y, scoring='accuracy', cv = kf)\n",
    "    return prediction.mean()\n",
    "\n",
    "\n",
    "get_auc_sgd_valid(X_normalized, y, seed=42)"
   ]
  },
  {
   "cell_type": "markdown",
   "metadata": {},
   "source": [
    "**RandomForestClassifier**"
   ]
  },
  {
   "cell_type": "code",
   "execution_count": 25,
   "metadata": {},
   "outputs": [
    {
     "name": "stdout",
     "output_type": "stream",
     "text": [
      "CPU times: user 61 µs, sys: 0 ns, total: 61 µs\n",
      "Wall time: 5.01 µs\n"
     ]
    },
    {
     "data": {
      "text/plain": [
       "0.7088618365879744"
      ]
     },
     "execution_count": 25,
     "metadata": {},
     "output_type": "execute_result"
    }
   ],
   "source": [
    "def get_auc_rnd_forest_valid(X, y, seed = 42):\n",
    "    %time\n",
    "    rand_forest = RandomForestClassifier(n_estimators = 100, max_depth=2, random_state = seed)\n",
    "    estimator = rand_forest\n",
    "    prediction = cross_val_score(estimator, X, y, scoring='accuracy', cv = kf)\n",
    "    return prediction.mean()\n",
    "\n",
    "\n",
    "get_auc_rnd_forest_valid(X_normalized, y, seed = 42)"
   ]
  },
  {
   "cell_type": "markdown",
   "metadata": {},
   "source": [
    "**GradientBoostingClassifier**"
   ]
  },
  {
   "cell_type": "code",
   "execution_count": 26,
   "metadata": {},
   "outputs": [
    {
     "name": "stdout",
     "output_type": "stream",
     "text": [
      "CPU times: user 2 µs, sys: 1 µs, total: 3 µs\n",
      "Wall time: 4.29 µs\n"
     ]
    },
    {
     "data": {
      "text/plain": [
       "[0.9229326066947255]"
      ]
     },
     "execution_count": 26,
     "metadata": {},
     "output_type": "execute_result"
    }
   ],
   "source": [
    "def get_auc_gbm_valid(X, y):\n",
    "    %time\n",
    "    result = []\n",
    "    for lr in np.linspace(0.05, 0.2, 20):\n",
    "        for n_est in range(40, 70):\n",
    "            GBM_model = GradientBoostingClassifier(learning_rate = lr, n_estimators = n_est,\n",
    "                                                   min_samples_leaf = 50, min_samples_split = 500, max_depth = 8,\n",
    "                                                   max_features = 'sqrt')\n",
    "                                           \n",
    "    estimator = GBM_model\n",
    "    prediction = cross_val_score(estimator, X, y, scoring='accuracy', cv = kf)\n",
    "    result.append(prediction.mean())\n",
    "    return result\n",
    "\n",
    "\n",
    "get_auc_gbm_valid(X_normalized, y)"
   ]
  },
  {
   "cell_type": "markdown",
   "metadata": {},
   "source": [
    "**For now, we can assume, that the best approach was with GradienBoostingMachine. Let's define the banchmark as 0.9253 (Solution without Feature Selection)** "
   ]
  },
  {
   "cell_type": "markdown",
   "metadata": {},
   "source": [
    "<h2>Part 2</h2>"
   ]
  },
  {
   "cell_type": "code",
   "execution_count": 27,
   "metadata": {},
   "outputs": [],
   "source": [
    "#Boruta Selector"
   ]
  },
  {
   "cell_type": "code",
   "execution_count": 29,
   "metadata": {},
   "outputs": [
    {
     "name": "stdout",
     "output_type": "stream",
     "text": [
      "CPU times: user 27 µs, sys: 1e+03 ns, total: 28 µs\n",
      "Wall time: 5.25 µs\n",
      "Iteration: \t1 / 100\n",
      "Confirmed: \t0\n",
      "Tentative: \t296\n",
      "Rejected: \t0\n",
      "Iteration: \t2 / 100\n",
      "Confirmed: \t0\n",
      "Tentative: \t296\n",
      "Rejected: \t0\n",
      "Iteration: \t3 / 100\n",
      "Confirmed: \t0\n",
      "Tentative: \t296\n",
      "Rejected: \t0\n",
      "Iteration: \t4 / 100\n",
      "Confirmed: \t0\n",
      "Tentative: \t296\n",
      "Rejected: \t0\n",
      "Iteration: \t5 / 100\n",
      "Confirmed: \t0\n",
      "Tentative: \t296\n",
      "Rejected: \t0\n",
      "Iteration: \t6 / 100\n",
      "Confirmed: \t0\n",
      "Tentative: \t296\n",
      "Rejected: \t0\n",
      "Iteration: \t7 / 100\n",
      "Confirmed: \t0\n",
      "Tentative: \t296\n",
      "Rejected: \t0\n",
      "Iteration: \t8 / 100\n",
      "Confirmed: \t0\n",
      "Tentative: \t20\n",
      "Rejected: \t276\n",
      "Iteration: \t9 / 100\n",
      "Confirmed: \t13\n",
      "Tentative: \t7\n",
      "Rejected: \t276\n",
      "Iteration: \t10 / 100\n",
      "Confirmed: \t13\n",
      "Tentative: \t7\n",
      "Rejected: \t276\n",
      "Iteration: \t11 / 100\n",
      "Confirmed: \t13\n",
      "Tentative: \t7\n",
      "Rejected: \t276\n",
      "Iteration: \t12 / 100\n",
      "Confirmed: \t13\n",
      "Tentative: \t5\n",
      "Rejected: \t278\n",
      "Iteration: \t13 / 100\n",
      "Confirmed: \t13\n",
      "Tentative: \t5\n",
      "Rejected: \t278\n",
      "Iteration: \t14 / 100\n",
      "Confirmed: \t13\n",
      "Tentative: \t5\n",
      "Rejected: \t278\n",
      "Iteration: \t15 / 100\n",
      "Confirmed: \t13\n",
      "Tentative: \t5\n",
      "Rejected: \t278\n",
      "Iteration: \t16 / 100\n",
      "Confirmed: \t13\n",
      "Tentative: \t5\n",
      "Rejected: \t278\n",
      "Iteration: \t17 / 100\n",
      "Confirmed: \t13\n",
      "Tentative: \t5\n",
      "Rejected: \t278\n",
      "Iteration: \t18 / 100\n",
      "Confirmed: \t13\n",
      "Tentative: \t5\n",
      "Rejected: \t278\n",
      "Iteration: \t19 / 100\n",
      "Confirmed: \t13\n",
      "Tentative: \t5\n",
      "Rejected: \t278\n",
      "Iteration: \t20 / 100\n",
      "Confirmed: \t13\n",
      "Tentative: \t5\n",
      "Rejected: \t278\n",
      "Iteration: \t21 / 100\n",
      "Confirmed: \t13\n",
      "Tentative: \t5\n",
      "Rejected: \t278\n",
      "Iteration: \t22 / 100\n",
      "Confirmed: \t13\n",
      "Tentative: \t5\n",
      "Rejected: \t278\n",
      "Iteration: \t23 / 100\n",
      "Confirmed: \t13\n",
      "Tentative: \t5\n",
      "Rejected: \t278\n",
      "Iteration: \t24 / 100\n",
      "Confirmed: \t13\n",
      "Tentative: \t5\n",
      "Rejected: \t278\n",
      "Iteration: \t25 / 100\n",
      "Confirmed: \t13\n",
      "Tentative: \t5\n",
      "Rejected: \t278\n",
      "Iteration: \t26 / 100\n",
      "Confirmed: \t14\n",
      "Tentative: \t3\n",
      "Rejected: \t279\n",
      "Iteration: \t27 / 100\n",
      "Confirmed: \t14\n",
      "Tentative: \t3\n",
      "Rejected: \t279\n",
      "Iteration: \t28 / 100\n",
      "Confirmed: \t14\n",
      "Tentative: \t3\n",
      "Rejected: \t279\n",
      "Iteration: \t29 / 100\n",
      "Confirmed: \t14\n",
      "Tentative: \t3\n",
      "Rejected: \t279\n",
      "Iteration: \t30 / 100\n",
      "Confirmed: \t14\n",
      "Tentative: \t3\n",
      "Rejected: \t279\n",
      "Iteration: \t31 / 100\n",
      "Confirmed: \t14\n",
      "Tentative: \t3\n",
      "Rejected: \t279\n",
      "Iteration: \t32 / 100\n",
      "Confirmed: \t14\n",
      "Tentative: \t2\n",
      "Rejected: \t280\n",
      "Iteration: \t33 / 100\n",
      "Confirmed: \t14\n",
      "Tentative: \t2\n",
      "Rejected: \t280\n",
      "Iteration: \t34 / 100\n",
      "Confirmed: \t14\n",
      "Tentative: \t2\n",
      "Rejected: \t280\n",
      "Iteration: \t35 / 100\n",
      "Confirmed: \t14\n",
      "Tentative: \t2\n",
      "Rejected: \t280\n",
      "Iteration: \t36 / 100\n",
      "Confirmed: \t14\n",
      "Tentative: \t2\n",
      "Rejected: \t280\n",
      "Iteration: \t37 / 100\n",
      "Confirmed: \t14\n",
      "Tentative: \t2\n",
      "Rejected: \t280\n",
      "Iteration: \t38 / 100\n",
      "Confirmed: \t14\n",
      "Tentative: \t2\n",
      "Rejected: \t280\n",
      "Iteration: \t39 / 100\n",
      "Confirmed: \t14\n",
      "Tentative: \t2\n",
      "Rejected: \t280\n",
      "Iteration: \t40 / 100\n",
      "Confirmed: \t14\n",
      "Tentative: \t2\n",
      "Rejected: \t280\n",
      "Iteration: \t41 / 100\n",
      "Confirmed: \t14\n",
      "Tentative: \t2\n",
      "Rejected: \t280\n",
      "Iteration: \t42 / 100\n",
      "Confirmed: \t14\n",
      "Tentative: \t2\n",
      "Rejected: \t280\n",
      "Iteration: \t43 / 100\n",
      "Confirmed: \t14\n",
      "Tentative: \t2\n",
      "Rejected: \t280\n",
      "Iteration: \t44 / 100\n",
      "Confirmed: \t14\n",
      "Tentative: \t2\n",
      "Rejected: \t280\n",
      "Iteration: \t45 / 100\n",
      "Confirmed: \t14\n",
      "Tentative: \t2\n",
      "Rejected: \t280\n",
      "Iteration: \t46 / 100\n",
      "Confirmed: \t14\n",
      "Tentative: \t2\n",
      "Rejected: \t280\n",
      "Iteration: \t47 / 100\n",
      "Confirmed: \t14\n",
      "Tentative: \t2\n",
      "Rejected: \t280\n",
      "Iteration: \t48 / 100\n",
      "Confirmed: \t14\n",
      "Tentative: \t2\n",
      "Rejected: \t280\n",
      "Iteration: \t49 / 100\n",
      "Confirmed: \t14\n",
      "Tentative: \t2\n",
      "Rejected: \t280\n",
      "Iteration: \t50 / 100\n",
      "Confirmed: \t14\n",
      "Tentative: \t2\n",
      "Rejected: \t280\n",
      "Iteration: \t51 / 100\n",
      "Confirmed: \t14\n",
      "Tentative: \t2\n",
      "Rejected: \t280\n",
      "Iteration: \t52 / 100\n",
      "Confirmed: \t14\n",
      "Tentative: \t2\n",
      "Rejected: \t280\n",
      "Iteration: \t53 / 100\n",
      "Confirmed: \t14\n",
      "Tentative: \t2\n",
      "Rejected: \t280\n",
      "Iteration: \t54 / 100\n",
      "Confirmed: \t14\n",
      "Tentative: \t2\n",
      "Rejected: \t280\n",
      "Iteration: \t55 / 100\n",
      "Confirmed: \t14\n",
      "Tentative: \t2\n",
      "Rejected: \t280\n",
      "Iteration: \t56 / 100\n",
      "Confirmed: \t14\n",
      "Tentative: \t2\n",
      "Rejected: \t280\n",
      "Iteration: \t57 / 100\n",
      "Confirmed: \t14\n",
      "Tentative: \t2\n",
      "Rejected: \t280\n",
      "Iteration: \t58 / 100\n",
      "Confirmed: \t14\n",
      "Tentative: \t2\n",
      "Rejected: \t280\n",
      "Iteration: \t59 / 100\n",
      "Confirmed: \t14\n",
      "Tentative: \t2\n",
      "Rejected: \t280\n",
      "Iteration: \t60 / 100\n",
      "Confirmed: \t14\n",
      "Tentative: \t2\n",
      "Rejected: \t280\n",
      "Iteration: \t61 / 100\n",
      "Confirmed: \t14\n",
      "Tentative: \t2\n",
      "Rejected: \t280\n",
      "Iteration: \t62 / 100\n",
      "Confirmed: \t14\n",
      "Tentative: \t2\n",
      "Rejected: \t280\n",
      "Iteration: \t63 / 100\n",
      "Confirmed: \t14\n",
      "Tentative: \t2\n",
      "Rejected: \t280\n",
      "Iteration: \t64 / 100\n",
      "Confirmed: \t14\n",
      "Tentative: \t2\n",
      "Rejected: \t280\n",
      "Iteration: \t65 / 100\n",
      "Confirmed: \t14\n",
      "Tentative: \t2\n",
      "Rejected: \t280\n",
      "Iteration: \t66 / 100\n",
      "Confirmed: \t14\n",
      "Tentative: \t2\n",
      "Rejected: \t280\n",
      "Iteration: \t67 / 100\n",
      "Confirmed: \t14\n",
      "Tentative: \t2\n",
      "Rejected: \t280\n",
      "Iteration: \t68 / 100\n",
      "Confirmed: \t14\n",
      "Tentative: \t2\n",
      "Rejected: \t280\n",
      "Iteration: \t69 / 100\n",
      "Confirmed: \t14\n",
      "Tentative: \t2\n",
      "Rejected: \t280\n",
      "Iteration: \t70 / 100\n",
      "Confirmed: \t14\n",
      "Tentative: \t2\n",
      "Rejected: \t280\n",
      "Iteration: \t71 / 100\n",
      "Confirmed: \t14\n",
      "Tentative: \t2\n",
      "Rejected: \t280\n",
      "Iteration: \t72 / 100\n",
      "Confirmed: \t14\n",
      "Tentative: \t2\n",
      "Rejected: \t280\n",
      "Iteration: \t73 / 100\n",
      "Confirmed: \t14\n",
      "Tentative: \t2\n",
      "Rejected: \t280\n",
      "Iteration: \t74 / 100\n",
      "Confirmed: \t14\n",
      "Tentative: \t2\n",
      "Rejected: \t280\n",
      "Iteration: \t75 / 100\n",
      "Confirmed: \t14\n",
      "Tentative: \t2\n",
      "Rejected: \t280\n",
      "Iteration: \t76 / 100\n",
      "Confirmed: \t14\n",
      "Tentative: \t2\n",
      "Rejected: \t280\n",
      "Iteration: \t77 / 100\n",
      "Confirmed: \t14\n",
      "Tentative: \t1\n",
      "Rejected: \t281\n",
      "Iteration: \t78 / 100\n",
      "Confirmed: \t14\n",
      "Tentative: \t1\n",
      "Rejected: \t281\n",
      "Iteration: \t79 / 100\n",
      "Confirmed: \t14\n",
      "Tentative: \t1\n",
      "Rejected: \t281\n",
      "Iteration: \t80 / 100\n",
      "Confirmed: \t14\n",
      "Tentative: \t1\n",
      "Rejected: \t281\n",
      "Iteration: \t81 / 100\n",
      "Confirmed: \t14\n",
      "Tentative: \t1\n",
      "Rejected: \t281\n",
      "Iteration: \t82 / 100\n",
      "Confirmed: \t14\n",
      "Tentative: \t1\n",
      "Rejected: \t281\n",
      "Iteration: \t83 / 100\n",
      "Confirmed: \t14\n",
      "Tentative: \t1\n",
      "Rejected: \t281\n",
      "Iteration: \t84 / 100\n",
      "Confirmed: \t14\n",
      "Tentative: \t1\n",
      "Rejected: \t281\n",
      "Iteration: \t85 / 100\n",
      "Confirmed: \t14\n",
      "Tentative: \t1\n",
      "Rejected: \t281\n",
      "Iteration: \t86 / 100\n",
      "Confirmed: \t14\n",
      "Tentative: \t1\n",
      "Rejected: \t281\n",
      "Iteration: \t87 / 100\n",
      "Confirmed: \t14\n",
      "Tentative: \t1\n",
      "Rejected: \t281\n",
      "Iteration: \t88 / 100\n",
      "Confirmed: \t14\n",
      "Tentative: \t1\n",
      "Rejected: \t281\n",
      "Iteration: \t89 / 100\n",
      "Confirmed: \t14\n",
      "Tentative: \t1\n",
      "Rejected: \t281\n",
      "Iteration: \t90 / 100\n",
      "Confirmed: \t14\n",
      "Tentative: \t1\n",
      "Rejected: \t281\n",
      "Iteration: \t91 / 100\n",
      "Confirmed: \t14\n",
      "Tentative: \t1\n",
      "Rejected: \t281\n",
      "Iteration: \t92 / 100\n",
      "Confirmed: \t14\n",
      "Tentative: \t1\n",
      "Rejected: \t281\n",
      "Iteration: \t93 / 100\n",
      "Confirmed: \t14\n",
      "Tentative: \t1\n",
      "Rejected: \t281\n",
      "Iteration: \t94 / 100\n",
      "Confirmed: \t14\n",
      "Tentative: \t1\n",
      "Rejected: \t281\n",
      "Iteration: \t95 / 100\n",
      "Confirmed: \t14\n",
      "Tentative: \t1\n",
      "Rejected: \t281\n",
      "Iteration: \t96 / 100\n",
      "Confirmed: \t14\n",
      "Tentative: \t1\n",
      "Rejected: \t281\n",
      "Iteration: \t97 / 100\n",
      "Confirmed: \t14\n",
      "Tentative: \t1\n",
      "Rejected: \t281\n",
      "Iteration: \t98 / 100\n",
      "Confirmed: \t14\n",
      "Tentative: \t1\n",
      "Rejected: \t281\n",
      "Iteration: \t99 / 100\n",
      "Confirmed: \t14\n",
      "Tentative: \t1\n",
      "Rejected: \t281\n",
      "\n",
      "\n",
      "BorutaPy finished running.\n",
      "\n",
      "Iteration: \t100 / 100\n",
      "Confirmed: \t14\n",
      "Tentative: \t1\n",
      "Rejected: \t281\n"
     ]
    },
    {
     "data": {
      "text/plain": [
       "BorutaPy(alpha=0.05,\n",
       "         estimator=RandomForestClassifier(bootstrap=True,\n",
       "                                          class_weight='balanced',\n",
       "                                          criterion='gini', max_depth=10,\n",
       "                                          max_features='auto',\n",
       "                                          max_leaf_nodes=None,\n",
       "                                          min_impurity_decrease=0.0,\n",
       "                                          min_impurity_split=None,\n",
       "                                          min_samples_leaf=1,\n",
       "                                          min_samples_split=2,\n",
       "                                          min_weight_fraction_leaf=0.0,\n",
       "                                          n_estimators=54, n_jobs=-1,\n",
       "                                          oob_score=False,\n",
       "                                          random_state=<mtrand.RandomState object at 0x10a2f0d80>,\n",
       "                                          verbose=0, warm_start=False),\n",
       "         max_iter=100, n_estimators='auto', perc=100,\n",
       "         random_state=<mtrand.RandomState object at 0x10a2f0d80>, two_step=True,\n",
       "         verbose=2)"
      ]
     },
     "execution_count": 29,
     "metadata": {},
     "output_type": "execute_result"
    }
   ],
   "source": [
    "rfc = RandomForestClassifier(n_estimators=200, n_jobs=-1, class_weight='balanced', max_depth=10)\n",
    "boruta_selector = BorutaPy(rfc, n_estimators='auto', verbose=2, random_state=42)\n",
    "\n",
    "%time\n",
    "boruta_selector.fit(X_normalized.values, y)\n"
   ]
  },
  {
   "cell_type": "code",
   "execution_count": 30,
   "metadata": {},
   "outputs": [],
   "source": [
    "feature_df = pd.DataFrame(X_normalized.columns.tolist(), columns=['features'])\n",
    "feature_df['rank'] = boruta_selector.ranking_\n",
    "feature_df = feature_df.sort_values('rank', ascending=True).reset_index(drop=True)"
   ]
  },
  {
   "cell_type": "code",
   "execution_count": 31,
   "metadata": {},
   "outputs": [
    {
     "data": {
      "text/html": [
       "<div>\n",
       "<style scoped>\n",
       "    .dataframe tbody tr th:only-of-type {\n",
       "        vertical-align: middle;\n",
       "    }\n",
       "\n",
       "    .dataframe tbody tr th {\n",
       "        vertical-align: top;\n",
       "    }\n",
       "\n",
       "    .dataframe thead th {\n",
       "        text-align: right;\n",
       "    }\n",
       "</style>\n",
       "<table border=\"1\" class=\"dataframe\">\n",
       "  <thead>\n",
       "    <tr style=\"text-align: right;\">\n",
       "      <th></th>\n",
       "      <th>features</th>\n",
       "      <th>rank</th>\n",
       "    </tr>\n",
       "  </thead>\n",
       "  <tbody>\n",
       "    <tr>\n",
       "      <th>0</th>\n",
       "      <td>295</td>\n",
       "      <td>1</td>\n",
       "    </tr>\n",
       "    <tr>\n",
       "      <th>1</th>\n",
       "      <td>294</td>\n",
       "      <td>1</td>\n",
       "    </tr>\n",
       "    <tr>\n",
       "      <th>2</th>\n",
       "      <td>3</td>\n",
       "      <td>1</td>\n",
       "    </tr>\n",
       "    <tr>\n",
       "      <th>3</th>\n",
       "      <td>64</td>\n",
       "      <td>1</td>\n",
       "    </tr>\n",
       "    <tr>\n",
       "      <th>4</th>\n",
       "      <td>271</td>\n",
       "      <td>1</td>\n",
       "    </tr>\n",
       "  </tbody>\n",
       "</table>\n",
       "</div>"
      ],
      "text/plain": [
       "   features  rank\n",
       "0       295     1\n",
       "1       294     1\n",
       "2         3     1\n",
       "3        64     1\n",
       "4       271     1"
      ]
     },
     "execution_count": 31,
     "metadata": {},
     "output_type": "execute_result"
    }
   ],
   "source": [
    "feature_df.head()"
   ]
  },
  {
   "cell_type": "code",
   "execution_count": 32,
   "metadata": {},
   "outputs": [
    {
     "name": "stdout",
     "output_type": "stream",
     "text": [
      "\n",
      " Number of selected features: 14\n",
      "\n",
      " Top 14 features:\n",
      "    features  rank\n",
      "0        295     1\n",
      "1        294     1\n",
      "2          3     1\n",
      "3         64     1\n",
      "4        271     1\n",
      "5          6     1\n",
      "6        281     1\n",
      "7         43     1\n",
      "8         39     1\n",
      "9         36     1\n",
      "10        33     1\n",
      "11        29     1\n",
      "12        25     1\n",
      "13        23     1\n",
      "\n",
      " Feature ranking:\n",
      "[262  87 250   1  14  65   1  59 245 138 238  30 253  38 210 225  84   4\n",
      "  96 214  10 122  48   1 155   1 154 225 204   1 255 100 168   1  16 171\n",
      "   1  74  26   1 258   8   6   1  13  15  43  97  16 147 252  22 258 204\n",
      "  70 239  77 224 244 278 271  35 219 222   1  83   2   9  32  50  80  18\n",
      "  25  36  41  66 272  52  68 145  51 111  55  78  28  66 141  63  58  63\n",
      "  57  82 213 132 178 110  88 188 198 143 231 260  72 170 270 200 183 239\n",
      " 134 264 193 212 241 206 120 258 172 268 230 157 250 231 216 215 146 196\n",
      " 235   3 264 188 237 227 177 262 181 112 117 162 197 134   5 141 158  37\n",
      " 123  98 256 210 150 202 144 191 190 208 174 115 254 187  81 201 164 267\n",
      " 202 246 219 241 185 167  86  12  34  18  21  47  43  70  33  24  39 278\n",
      "  62 103 113  54 278  46  69 151 107  76 101 119 174 126 243  78  94  53\n",
      "  45 179  88 216 260 161 132 102 109  56 236 148  26 136  90 105 183 176\n",
      " 194 126 206 124 182 115 129 156 163 107 169 192 222 198 249 153 247 136\n",
      "  61 233 118 129 228 210 128 185 266 149 194  95  85 173 160 166  98 228\n",
      " 268 179 140 159  42  40  74 164 221 247 121 106 234 113 138 104 278 278\n",
      " 278   1 278 278 278 278 278 131  49  91  23   1  59  91  73  29 125 152\n",
      "  93 218  10  20  31   6   1   1]\n"
     ]
    }
   ],
   "source": [
    "#Check it up\n",
    "# # number of selected features\n",
    "print ('\\n Number of selected features: %d' %boruta_selector.n_features_)\n",
    "\n",
    "feature_df = pd.DataFrame(X_normalized.columns.tolist(), columns=['features'])\n",
    "feature_df['rank'] = boruta_selector.ranking_\n",
    "feature_df = feature_df.sort_values('rank', ascending=True).reset_index(drop=True)\n",
    "\n",
    "print ('\\n Top %d features:' % boruta_selector.n_features_)\n",
    "print (feature_df.head(boruta_selector.n_features_))\n",
    "\n",
    "feature_df.to_csv('boruta-feature-ranking.csv', index=False)\n",
    "\n",
    "# check ranking of features\n",
    "print ('\\n Feature ranking:')\n",
    "print (boruta_selector.ranking_)\n"
   ]
  },
  {
   "cell_type": "code",
   "execution_count": 33,
   "metadata": {},
   "outputs": [
    {
     "data": {
      "text/html": [
       "<div>\n",
       "<style scoped>\n",
       "    .dataframe tbody tr th:only-of-type {\n",
       "        vertical-align: middle;\n",
       "    }\n",
       "\n",
       "    .dataframe tbody tr th {\n",
       "        vertical-align: top;\n",
       "    }\n",
       "\n",
       "    .dataframe thead th {\n",
       "        text-align: right;\n",
       "    }\n",
       "</style>\n",
       "<table border=\"1\" class=\"dataframe\">\n",
       "  <thead>\n",
       "    <tr style=\"text-align: right;\">\n",
       "      <th></th>\n",
       "      <th>3</th>\n",
       "      <th>6</th>\n",
       "      <th>23</th>\n",
       "      <th>25</th>\n",
       "      <th>29</th>\n",
       "      <th>33</th>\n",
       "      <th>36</th>\n",
       "      <th>39</th>\n",
       "      <th>43</th>\n",
       "      <th>64</th>\n",
       "      <th>271</th>\n",
       "      <th>281</th>\n",
       "      <th>294</th>\n",
       "      <th>295</th>\n",
       "    </tr>\n",
       "  </thead>\n",
       "  <tbody>\n",
       "    <tr>\n",
       "      <th>0</th>\n",
       "      <td>0.999849</td>\n",
       "      <td>0.000050</td>\n",
       "      <td>-0.000050</td>\n",
       "      <td>0.00005</td>\n",
       "      <td>0.000000</td>\n",
       "      <td>0.000000</td>\n",
       "      <td>0.000050</td>\n",
       "      <td>0.000000</td>\n",
       "      <td>0.000680</td>\n",
       "      <td>0.011598</td>\n",
       "      <td>0.000050</td>\n",
       "      <td>0.000050</td>\n",
       "      <td>0.012959</td>\n",
       "      <td>0.000050</td>\n",
       "    </tr>\n",
       "    <tr>\n",
       "      <th>1</th>\n",
       "      <td>0.999073</td>\n",
       "      <td>0.000142</td>\n",
       "      <td>-0.000142</td>\n",
       "      <td>0.00000</td>\n",
       "      <td>0.000142</td>\n",
       "      <td>0.000000</td>\n",
       "      <td>0.000000</td>\n",
       "      <td>0.000000</td>\n",
       "      <td>0.000057</td>\n",
       "      <td>0.019248</td>\n",
       "      <td>0.000142</td>\n",
       "      <td>0.000142</td>\n",
       "      <td>0.038494</td>\n",
       "      <td>0.000566</td>\n",
       "    </tr>\n",
       "    <tr>\n",
       "      <th>2</th>\n",
       "      <td>0.991920</td>\n",
       "      <td>0.000315</td>\n",
       "      <td>-0.000315</td>\n",
       "      <td>0.00000</td>\n",
       "      <td>0.000000</td>\n",
       "      <td>0.000000</td>\n",
       "      <td>0.000315</td>\n",
       "      <td>0.000315</td>\n",
       "      <td>0.001386</td>\n",
       "      <td>0.102971</td>\n",
       "      <td>0.000315</td>\n",
       "      <td>0.000315</td>\n",
       "      <td>0.074074</td>\n",
       "      <td>0.000945</td>\n",
       "    </tr>\n",
       "    <tr>\n",
       "      <th>3</th>\n",
       "      <td>0.999740</td>\n",
       "      <td>0.000042</td>\n",
       "      <td>-0.000042</td>\n",
       "      <td>0.00000</td>\n",
       "      <td>0.000000</td>\n",
       "      <td>0.000042</td>\n",
       "      <td>0.000042</td>\n",
       "      <td>0.000042</td>\n",
       "      <td>0.000567</td>\n",
       "      <td>0.014829</td>\n",
       "      <td>0.000042</td>\n",
       "      <td>0.000042</td>\n",
       "      <td>0.017292</td>\n",
       "      <td>0.000083</td>\n",
       "    </tr>\n",
       "    <tr>\n",
       "      <th>4</th>\n",
       "      <td>0.920059</td>\n",
       "      <td>0.000164</td>\n",
       "      <td>-0.000164</td>\n",
       "      <td>0.00000</td>\n",
       "      <td>0.000000</td>\n",
       "      <td>0.000000</td>\n",
       "      <td>0.366217</td>\n",
       "      <td>0.000000</td>\n",
       "      <td>0.000920</td>\n",
       "      <td>0.116650</td>\n",
       "      <td>0.000164</td>\n",
       "      <td>0.000164</td>\n",
       "      <td>0.075943</td>\n",
       "      <td>0.000493</td>\n",
       "    </tr>\n",
       "  </tbody>\n",
       "</table>\n",
       "</div>"
      ],
      "text/plain": [
       "        3         6         23       25        29        33        36   \\\n",
       "0  0.999849  0.000050 -0.000050  0.00005  0.000000  0.000000  0.000050   \n",
       "1  0.999073  0.000142 -0.000142  0.00000  0.000142  0.000000  0.000000   \n",
       "2  0.991920  0.000315 -0.000315  0.00000  0.000000  0.000000  0.000315   \n",
       "3  0.999740  0.000042 -0.000042  0.00000  0.000000  0.000042  0.000042   \n",
       "4  0.920059  0.000164 -0.000164  0.00000  0.000000  0.000000  0.366217   \n",
       "\n",
       "        39        43        64        271       281       294       295  \n",
       "0  0.000000  0.000680  0.011598  0.000050  0.000050  0.012959  0.000050  \n",
       "1  0.000000  0.000057  0.019248  0.000142  0.000142  0.038494  0.000566  \n",
       "2  0.000315  0.001386  0.102971  0.000315  0.000315  0.074074  0.000945  \n",
       "3  0.000042  0.000567  0.014829  0.000042  0.000042  0.017292  0.000083  \n",
       "4  0.000000  0.000920  0.116650  0.000164  0.000164  0.075943  0.000493  "
      ]
     },
     "execution_count": 33,
     "metadata": {},
     "output_type": "execute_result"
    }
   ],
   "source": [
    "#Defined DataFrame with selected features from Boruta Selector\n",
    "\n",
    "X_filtered = pd.DataFrame(data = X_normalized, columns = X_normalized.columns[boruta_selector.support_])\n",
    "X_filtered.head()"
   ]
  },
  {
   "cell_type": "code",
   "execution_count": 34,
   "metadata": {},
   "outputs": [
    {
     "data": {
      "image/png": "[encoded data removed]",
      "text/plain": [
       "<Figure size 792x648 with 2 Axes>"
      ]
     },
     "metadata": {},
     "output_type": "display_data"
    }
   ],
   "source": [
    "#Plot a correlation matrix for X\n",
    "\n",
    "def corr_matrix(data):\n",
    "    sns.set(style=\"white\")\n",
    "\n",
    "\n",
    "    # Compute the correlation matrix\n",
    "    corr = data.corr()\n",
    "\n",
    "    # Generate a mask for the upper triangle\n",
    "    mask = np.zeros_like(corr, dtype=np.bool)\n",
    "    mask[np.triu_indices_from(mask)] = True\n",
    "\n",
    "    # Set up the matplotlib figure\n",
    "    f, ax = plt.subplots(figsize=(11, 9))\n",
    "\n",
    "    # Generate a custom diverging colormap\n",
    "    cmap = sns.diverging_palette(220, 10, as_cmap=True)\n",
    "\n",
    "    # Draw the heatmap with the mask and correct aspect ratio\n",
    "    sns.heatmap(corr, mask=mask, cmap=cmap, vmax=.3, center=0,\n",
    "                square=True, linewidths=.5, cbar_kws={\"shrink\": .5})\n",
    "    \n",
    "corr_matrix(X_filtered)    "
   ]
  },
  {
   "cell_type": "markdown",
   "metadata": {},
   "source": [
    "We can consider that almost all the values are not high correlated. At least few ones are, but we will try to fit models. <br>\n",
    "\n",
    "In the case of two normal or almost normal values, the correlation coefficient between them can be used as a measure of interdependence, and this is confirmed by many practical results.\n",
    "However, when interpreting “interdependence”, the following difficulties are often encountered: if one quantity is correlated with another, this can only be a reflection of the fact that both of them are correlated with some third quantity or with a set of quantities that, roughly speaking, remain behind the frame and not entered into the model."
   ]
  },
  {
   "cell_type": "markdown",
   "metadata": {},
   "source": [
    "**GradientBoostingClassifier**"
   ]
  },
  {
   "cell_type": "code",
   "execution_count": 35,
   "metadata": {},
   "outputs": [
    {
     "name": "stdout",
     "output_type": "stream",
     "text": [
      "CPU times: user 2 µs, sys: 1 µs, total: 3 µs\n",
      "Wall time: 4.77 µs\n"
     ]
    },
    {
     "data": {
      "text/plain": [
       "[0.9975202855106945]"
      ]
     },
     "execution_count": 35,
     "metadata": {},
     "output_type": "execute_result"
    }
   ],
   "source": [
    "get_auc_gbm_valid(X_filtered, y)"
   ]
  },
  {
   "cell_type": "markdown",
   "metadata": {},
   "source": [
    "**KNN**"
   ]
  },
  {
   "cell_type": "code",
   "execution_count": 36,
   "metadata": {},
   "outputs": [
    {
     "name": "stdout",
     "output_type": "stream",
     "text": [
      "CPU times: user 2 µs, sys: 1e+03 ns, total: 3 µs\n",
      "Wall time: 4.77 µs\n"
     ]
    },
    {
     "data": {
      "text/plain": [
       "[0.6253533739860846, 1]"
      ]
     },
     "execution_count": 36,
     "metadata": {},
     "output_type": "execute_result"
    }
   ],
   "source": [
    "get_auc_knn_valid(X_filtered, y, neighbours_number = 51, seed = 42)"
   ]
  },
  {
   "cell_type": "markdown",
   "metadata": {},
   "source": [
    "**Logistic Regression**"
   ]
  },
  {
   "cell_type": "code",
   "execution_count": 37,
   "metadata": {},
   "outputs": [
    {
     "name": "stdout",
     "output_type": "stream",
     "text": [
      "CPU times: user 2 µs, sys: 0 ns, total: 2 µs\n",
      "Wall time: 4.05 µs\n"
     ]
    },
    {
     "data": {
      "text/plain": [
       "0.7085896831738709"
      ]
     },
     "execution_count": 37,
     "metadata": {},
     "output_type": "execute_result"
    }
   ],
   "source": [
    "get_auc_lr_valid(X_filtered, y, C = 1.0, seed = 42)"
   ]
  },
  {
   "cell_type": "markdown",
   "metadata": {},
   "source": [
    "**SGDClassifier**"
   ]
  },
  {
   "cell_type": "code",
   "execution_count": 38,
   "metadata": {},
   "outputs": [
    {
     "name": "stdout",
     "output_type": "stream",
     "text": [
      "CPU times: user 2 µs, sys: 1e+03 ns, total: 3 µs\n",
      "Wall time: 6.2 µs\n"
     ]
    },
    {
     "data": {
      "text/plain": [
       "0.7090281618983665"
      ]
     },
     "execution_count": 38,
     "metadata": {},
     "output_type": "execute_result"
    }
   ],
   "source": [
    "get_auc_sgd_valid(X_filtered, y, seed=42)"
   ]
  },
  {
   "cell_type": "markdown",
   "metadata": {},
   "source": [
    "**RandomForestClassifier**"
   ]
  },
  {
   "cell_type": "code",
   "execution_count": 39,
   "metadata": {},
   "outputs": [
    {
     "name": "stdout",
     "output_type": "stream",
     "text": [
      "CPU times: user 32 µs, sys: 0 ns, total: 32 µs\n",
      "Wall time: 5.01 µs\n"
     ]
    },
    {
     "data": {
      "text/plain": [
       "0.7088618365879744"
      ]
     },
     "execution_count": 39,
     "metadata": {},
     "output_type": "execute_result"
    }
   ],
   "source": [
    "get_auc_rnd_forest_valid(X_filtered, y, seed = 42)"
   ]
  },
  {
   "cell_type": "markdown",
   "metadata": {},
   "source": [
    "After Feature Selection we found 14 features with high Information Gain(using Boruta approach). Now we can say, that we can remove almost more that half of features from data, because in our case they don't give us usefull information. "
   ]
  },
  {
   "cell_type": "code",
   "execution_count": null,
   "metadata": {},
   "outputs": [],
   "source": []
  }
 ],
 "metadata": {
  "kernelspec": {
   "display_name": "Python 3",
   "language": "python",
   "name": "python3"
  },
  "language_info": {
   "codemirror_mode": {
    "name": "ipython",
    "version": 3
   },
   "file_extension": ".py",
   "mimetype": "text/x-python",
   "name": "python",
   "nbconvert_exporter": "python",
   "pygments_lexer": "ipython3",
   "version": "3.6.7"
  }
 },
 "nbformat": 4,
 "nbformat_minor": 2
}
