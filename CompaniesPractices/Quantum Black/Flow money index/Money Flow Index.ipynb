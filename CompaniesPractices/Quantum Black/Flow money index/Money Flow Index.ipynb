{
 "cells": [
  {
   "cell_type": "code",
   "execution_count": 1,
   "metadata": {},
   "outputs": [],
   "source": [
    "import pandas as pd\n",
    "import numpy as np\n",
    "import matplotlib as plt"
   ]
  },
  {
   "cell_type": "code",
   "execution_count": 9,
   "metadata": {},
   "outputs": [],
   "source": [
    "#data = pd.read_csv('sample.csv')\n",
    "file = 'sample.csv'\n",
    "data = np.loadtxt(file, skiprows=1, dtype=str, delimiter=',')"
   ]
  },
  {
   "cell_type": "code",
   "execution_count": 10,
   "metadata": {},
   "outputs": [
    {
     "data": {
      "text/plain": [
       "array([['1', '47.04', '48.24', '47.04', '48.15', '3509'],\n",
       "       ['2', '48.17', '48.89', '47.97', '48.36', '4862'],\n",
       "       ['3', '48.55', '49.71', '48.52', '49.55', '1810'],\n",
       "       ['4', '49.55', '49.87', '48.51', '49.41', '3824'],\n",
       "       ['5', '49.41', '49.96', '45.84', '46.36', '2209'],\n",
       "       ['6', '46.35', '46.51', '44.61', '45.6', '4558'],\n",
       "       ['7', '45.54', '45.54', '43.63', '44.02', '3832'],\n",
       "       ['8', '44.05', '44.49', '43.19', '43.57', '3778'],\n",
       "       ['9', '43.63', '45.29', '43.63', '45.0', '1005'],\n",
       "       ['10', '44.96', '44.96', '42.88', '43.44', '4047'],\n",
       "       ['11', '43.44', '45.01', '43.24', '44.9', '2201'],\n",
       "       ['12', '44.9', '45.53', '44.76', '45.18', '2507'],\n",
       "       ['13', '45.13', '45.13', '43.78', '44.39', '4392'],\n",
       "       ['14', '44.09', '44.24', '42.7', '42.95', '3497'],\n",
       "       ['15', '43.09', '43.57', '42.56', '43.08', '1181'],\n",
       "       ['16', '42.94', '43.9', '42.25', '42.52', '1971'],\n",
       "       ['17', '42.64', '44.08', '42.62', '43.99', '4994'],\n",
       "       ['18', '43.99', '45.32', '43.9', '45.23', '2017'],\n",
       "       ['19', '45.23', '45.62', '44.37', '44.82', '2823'],\n",
       "       ['20', '44.83', '45.73', '44.03', '45.63', '2774']], dtype='<U5')"
      ]
     },
     "execution_count": 10,
     "metadata": {},
     "output_type": "execute_result"
    }
   ],
   "source": [
    "data\n"
   ]
  },
  {
   "cell_type": "code",
   "execution_count": 11,
   "metadata": {},
   "outputs": [],
   "source": [
    "Day = data['Day'].value_counts().astype(list)\n",
    "Open = data['Open'].value_counts().astype(list)\n",
    "High = data['High'].value_counts().astype(list)\n",
    "Low = data['Low'].value_counts().astype(list)\n",
    "Close = data['Close'].value_counts().astype(list)\n",
    "Volume = data['Volume'].value_counts().astype(list)"
   ]
  },
  {
   "cell_type": "code",
   "execution_count": 26,
   "metadata": {},
   "outputs": [],
   "source": [
    "file = open('sample.csv')"
   ]
  },
  {
   "cell_type": "code",
   "execution_count": 30,
   "metadata": {},
   "outputs": [],
   "source": [
    "yolo = file.readline()"
   ]
  },
  {
   "cell_type": "code",
   "execution_count": 31,
   "metadata": {},
   "outputs": [
    {
     "data": {
      "text/plain": [
       "['1', '47.04', '48.24', '47.04', '48.15', '3509\\n']"
      ]
     },
     "execution_count": 31,
     "metadata": {},
     "output_type": "execute_result"
    }
   ],
   "source": [
    "yolo.split(',')"
   ]
  },
  {
   "cell_type": "code",
   "execution_count": null,
   "metadata": {},
   "outputs": [],
   "source": []
  }
 ],
 "metadata": {
  "kernelspec": {
   "display_name": "Python 3",
   "language": "python",
   "name": "python3"
  },
  "language_info": {
   "codemirror_mode": {
    "name": "ipython",
    "version": 3
   },
   "file_extension": ".py",
   "mimetype": "text/x-python",
   "name": "python",
   "nbconvert_exporter": "python",
   "pygments_lexer": "ipython3",
   "version": "3.6.8"
  }
 },
 "nbformat": 4,
 "nbformat_minor": 2
}
