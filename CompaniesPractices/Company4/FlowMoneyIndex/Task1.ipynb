{
 "cells": [
  {
   "cell_type": "markdown",
   "metadata": {},
   "source": [
    "### The main task is following: \n",
    " - read sample.csv file\n",
    " - using data in sample.csv file calculate:\n",
    "  - Typical Price\n",
    "  - Positive Money Flow\n",
    "  - Negative Money Flow\n",
    "  - Positive Money Flow Sum\n",
    "  - Negative Money Flow Sum\n",
    "  - Money Flow Index\n",
    "  \n",
    "- add this values as new columns in output.csv "
   ]
  },
  {
   "cell_type": "code",
   "execution_count": 11,
   "metadata": {},
   "outputs": [],
   "source": [
    "# import libraries \n",
    "import pandas as pd"
   ]
  },
  {
   "cell_type": "code",
   "execution_count": 6,
   "metadata": {},
   "outputs": [],
   "source": [
    "#read data\n",
    "data = pd.read_csv('sample.csv')"
   ]
  },
  {
   "cell_type": "code",
   "execution_count": 12,
   "metadata": {},
   "outputs": [
    {
     "data": {
      "text/html": [
       "<div>\n",
       "<style scoped>\n",
       "    .dataframe tbody tr th:only-of-type {\n",
       "        vertical-align: middle;\n",
       "    }\n",
       "\n",
       "    .dataframe tbody tr th {\n",
       "        vertical-align: top;\n",
       "    }\n",
       "\n",
       "    .dataframe thead th {\n",
       "        text-align: right;\n",
       "    }\n",
       "</style>\n",
       "<table border=\"1\" class=\"dataframe\">\n",
       "  <thead>\n",
       "    <tr style=\"text-align: right;\">\n",
       "      <th></th>\n",
       "      <th>Day</th>\n",
       "      <th>Open</th>\n",
       "      <th>High</th>\n",
       "      <th>Low</th>\n",
       "      <th>Close</th>\n",
       "      <th>Volume</th>\n",
       "      <th>Typical Price</th>\n",
       "      <th>Positive Money Flow</th>\n",
       "      <th>Negative Money Flow</th>\n",
       "      <th>Positive Money Flow Sum</th>\n",
       "      <th>Negative Money Flow Sum</th>\n",
       "      <th>Money Flow Index</th>\n",
       "    </tr>\n",
       "  </thead>\n",
       "  <tbody>\n",
       "    <tr>\n",
       "      <th>0</th>\n",
       "      <td>1</td>\n",
       "      <td>47.04</td>\n",
       "      <td>48.24</td>\n",
       "      <td>47.04</td>\n",
       "      <td>48.15</td>\n",
       "      <td>3509</td>\n",
       "      <td>1</td>\n",
       "      <td>1</td>\n",
       "      <td>1</td>\n",
       "      <td>1</td>\n",
       "      <td>1</td>\n",
       "      <td>1</td>\n",
       "    </tr>\n",
       "    <tr>\n",
       "      <th>1</th>\n",
       "      <td>2</td>\n",
       "      <td>48.17</td>\n",
       "      <td>48.89</td>\n",
       "      <td>47.97</td>\n",
       "      <td>48.36</td>\n",
       "      <td>4862</td>\n",
       "      <td>1</td>\n",
       "      <td>1</td>\n",
       "      <td>1</td>\n",
       "      <td>1</td>\n",
       "      <td>1</td>\n",
       "      <td>1</td>\n",
       "    </tr>\n",
       "    <tr>\n",
       "      <th>2</th>\n",
       "      <td>3</td>\n",
       "      <td>48.55</td>\n",
       "      <td>49.71</td>\n",
       "      <td>48.52</td>\n",
       "      <td>49.55</td>\n",
       "      <td>1810</td>\n",
       "      <td>1</td>\n",
       "      <td>1</td>\n",
       "      <td>1</td>\n",
       "      <td>1</td>\n",
       "      <td>1</td>\n",
       "      <td>1</td>\n",
       "    </tr>\n",
       "    <tr>\n",
       "      <th>3</th>\n",
       "      <td>4</td>\n",
       "      <td>49.55</td>\n",
       "      <td>49.87</td>\n",
       "      <td>48.51</td>\n",
       "      <td>49.41</td>\n",
       "      <td>3824</td>\n",
       "      <td>1</td>\n",
       "      <td>1</td>\n",
       "      <td>1</td>\n",
       "      <td>1</td>\n",
       "      <td>1</td>\n",
       "      <td>1</td>\n",
       "    </tr>\n",
       "    <tr>\n",
       "      <th>4</th>\n",
       "      <td>5</td>\n",
       "      <td>49.41</td>\n",
       "      <td>49.96</td>\n",
       "      <td>45.84</td>\n",
       "      <td>46.36</td>\n",
       "      <td>2209</td>\n",
       "      <td>1</td>\n",
       "      <td>1</td>\n",
       "      <td>1</td>\n",
       "      <td>1</td>\n",
       "      <td>1</td>\n",
       "      <td>1</td>\n",
       "    </tr>\n",
       "  </tbody>\n",
       "</table>\n",
       "</div>"
      ],
      "text/plain": [
       "   Day   Open   High    Low  Close  Volume  Typical Price  \\\n",
       "0    1  47.04  48.24  47.04  48.15    3509              1   \n",
       "1    2  48.17  48.89  47.97  48.36    4862              1   \n",
       "2    3  48.55  49.71  48.52  49.55    1810              1   \n",
       "3    4  49.55  49.87  48.51  49.41    3824              1   \n",
       "4    5  49.41  49.96  45.84  46.36    2209              1   \n",
       "\n",
       "   Positive Money Flow  Negative Money Flow  Positive Money Flow Sum  \\\n",
       "0                    1                    1                        1   \n",
       "1                    1                    1                        1   \n",
       "2                    1                    1                        1   \n",
       "3                    1                    1                        1   \n",
       "4                    1                    1                        1   \n",
       "\n",
       "   Negative Money Flow Sum  Money Flow Index  \n",
       "0                        1                 1  \n",
       "1                        1                 1  \n",
       "2                        1                 1  \n",
       "3                        1                 1  \n",
       "4                        1                 1  "
      ]
     },
     "execution_count": 12,
     "metadata": {},
     "output_type": "execute_result"
    }
   ],
   "source": [
    "#create a list of desired columns_names\n",
    "list_of_columns = ['Typical Price', 'Positive Money Flow', 'Negative Money Flow',\n",
    "                   'Positive Money Flow Sum', 'Negative Money Flow Sum', 'Money Flow Index']\n",
    "\n",
    "#add list of columns to existing dataframe\n",
    "for column_name in list_of_columns:\n",
    "    data['{}'.format(column_name)] = 1\n",
    "    \n",
    "    \n",
    "data.head()"
   ]
  },
  {
   "cell_type": "markdown",
   "metadata": {},
   "source": [
    "### calculate values for new columns"
   ]
  },
  {
   "cell_type": "code",
   "execution_count": 19,
   "metadata": {},
   "outputs": [],
   "source": [
    "# Typical Price\n",
    "#The formula of Typical Price = ( High Price + Low Price + Close Price ) / 3\n",
    "data['Typical Price'] = data['High'] + data['Low'] + data['Close'] / 3"
   ]
  },
  {
   "cell_type": "code",
   "execution_count": 26,
   "metadata": {},
   "outputs": [
    {
     "data": {
      "text/html": [
       "<div>\n",
       "<style scoped>\n",
       "    .dataframe tbody tr th:only-of-type {\n",
       "        vertical-align: middle;\n",
       "    }\n",
       "\n",
       "    .dataframe tbody tr th {\n",
       "        vertical-align: top;\n",
       "    }\n",
       "\n",
       "    .dataframe thead th {\n",
       "        text-align: right;\n",
       "    }\n",
       "</style>\n",
       "<table border=\"1\" class=\"dataframe\">\n",
       "  <thead>\n",
       "    <tr style=\"text-align: right;\">\n",
       "      <th></th>\n",
       "      <th>Day</th>\n",
       "      <th>Open</th>\n",
       "      <th>High</th>\n",
       "      <th>Low</th>\n",
       "      <th>Close</th>\n",
       "      <th>Volume</th>\n",
       "      <th>Typical Price</th>\n",
       "      <th>Positive Money Flow</th>\n",
       "      <th>Negative Money Flow</th>\n",
       "      <th>Positive Money Flow Sum</th>\n",
       "      <th>Negative Money Flow Sum</th>\n",
       "      <th>Money Flow Index</th>\n",
       "    </tr>\n",
       "  </thead>\n",
       "  <tbody>\n",
       "    <tr>\n",
       "      <th>0</th>\n",
       "      <td>1</td>\n",
       "      <td>47.04</td>\n",
       "      <td>48.24</td>\n",
       "      <td>47.04</td>\n",
       "      <td>48.15</td>\n",
       "      <td>3509</td>\n",
       "      <td>111.330000</td>\n",
       "      <td>1</td>\n",
       "      <td>1</td>\n",
       "      <td>1</td>\n",
       "      <td>1</td>\n",
       "      <td>1</td>\n",
       "    </tr>\n",
       "    <tr>\n",
       "      <th>1</th>\n",
       "      <td>2</td>\n",
       "      <td>48.17</td>\n",
       "      <td>48.89</td>\n",
       "      <td>47.97</td>\n",
       "      <td>48.36</td>\n",
       "      <td>4862</td>\n",
       "      <td>112.980000</td>\n",
       "      <td>1</td>\n",
       "      <td>1</td>\n",
       "      <td>1</td>\n",
       "      <td>1</td>\n",
       "      <td>1</td>\n",
       "    </tr>\n",
       "    <tr>\n",
       "      <th>2</th>\n",
       "      <td>3</td>\n",
       "      <td>48.55</td>\n",
       "      <td>49.71</td>\n",
       "      <td>48.52</td>\n",
       "      <td>49.55</td>\n",
       "      <td>1810</td>\n",
       "      <td>114.746667</td>\n",
       "      <td>1</td>\n",
       "      <td>1</td>\n",
       "      <td>1</td>\n",
       "      <td>1</td>\n",
       "      <td>1</td>\n",
       "    </tr>\n",
       "    <tr>\n",
       "      <th>3</th>\n",
       "      <td>4</td>\n",
       "      <td>49.55</td>\n",
       "      <td>49.87</td>\n",
       "      <td>48.51</td>\n",
       "      <td>49.41</td>\n",
       "      <td>3824</td>\n",
       "      <td>114.850000</td>\n",
       "      <td>1</td>\n",
       "      <td>1</td>\n",
       "      <td>1</td>\n",
       "      <td>1</td>\n",
       "      <td>1</td>\n",
       "    </tr>\n",
       "    <tr>\n",
       "      <th>4</th>\n",
       "      <td>5</td>\n",
       "      <td>49.41</td>\n",
       "      <td>49.96</td>\n",
       "      <td>45.84</td>\n",
       "      <td>46.36</td>\n",
       "      <td>2209</td>\n",
       "      <td>111.253333</td>\n",
       "      <td>1</td>\n",
       "      <td>1</td>\n",
       "      <td>1</td>\n",
       "      <td>1</td>\n",
       "      <td>1</td>\n",
       "    </tr>\n",
       "  </tbody>\n",
       "</table>\n",
       "</div>"
      ],
      "text/plain": [
       "   Day   Open   High    Low  Close  Volume  Typical Price  \\\n",
       "0    1  47.04  48.24  47.04  48.15    3509     111.330000   \n",
       "1    2  48.17  48.89  47.97  48.36    4862     112.980000   \n",
       "2    3  48.55  49.71  48.52  49.55    1810     114.746667   \n",
       "3    4  49.55  49.87  48.51  49.41    3824     114.850000   \n",
       "4    5  49.41  49.96  45.84  46.36    2209     111.253333   \n",
       "\n",
       "   Positive Money Flow  Negative Money Flow  Positive Money Flow Sum  \\\n",
       "0                    1                    1                        1   \n",
       "1                    1                    1                        1   \n",
       "2                    1                    1                        1   \n",
       "3                    1                    1                        1   \n",
       "4                    1                    1                        1   \n",
       "\n",
       "   Negative Money Flow Sum  Money Flow Index  \n",
       "0                        1                 1  \n",
       "1                        1                 1  \n",
       "2                        1                 1  \n",
       "3                        1                 1  \n",
       "4                        1                 1  "
      ]
     },
     "execution_count": 26,
     "metadata": {},
     "output_type": "execute_result"
    }
   ],
   "source": [
    "# Positive Money Flow\n",
    "# data['Positive Money Flow'] = data['Typical Price'] * data['Volume']\n",
    "# data['Negative Money Flow'] = data['Typical Price'] * data['Volume']\n",
    "\n",
    "\n",
    "data.head()"
   ]
  },
  {
   "cell_type": "code",
   "execution_count": 37,
   "metadata": {},
   "outputs": [],
   "source": [
    "#Positive Money Flow, when previous Typical Price is less\n",
    "#Negative Money Flow, when previous Typical Price is more\n",
    "\n",
    "#define empty list of values\n",
    "Positive = []\n",
    "Negative = []\n",
    "\n",
    "#for each value in data['Typical Price'] make a comperison between value[index - 1] AND value[index]\n",
    "for index in range(1, len(data['Typical Price'])):\n",
    "    if data['Typical Price'][index - 1] < data['Typical Price'][index]:\n",
    "        Positive.append(data['Typical Price'][index])\n",
    "    else:\n",
    "        Negative.append(data['Typical Price'][index])\n",
    "\n",
    "#List of results: Positive Money Flow and Negative Money Flow         \n",
    "# print('P', Positive)\n",
    "# print('N', Negative)"
   ]
  },
  {
   "cell_type": "code",
   "execution_count": 45,
   "metadata": {},
   "outputs": [],
   "source": [
    "#Positive Money Flow sum\n",
    "Positive_Sum = sum([value for value in Positive])\n",
    "\n",
    "#Negative Money Flow sum\n",
    "Negative_Sum = sum([value for value in Negative])"
   ]
  },
  {
   "cell_type": "code",
   "execution_count": 46,
   "metadata": {},
   "outputs": [
    {
     "name": "stdout",
     "output_type": "stream",
     "text": [
      "1070.6233333333332 931.7166666666668\n"
     ]
    }
   ],
   "source": [
    "print(Positive_Sum, Negative_Sum)"
   ]
  },
  {
   "cell_type": "markdown",
   "metadata": {},
   "source": [
    "[Link to formulas](https://www.investopedia.com/terms/m/mfi.asp)"
   ]
  },
  {
   "cell_type": "markdown",
   "metadata": {},
   "source": [
    "#### In order to calculate Money Flow Index we need:\n",
    "```\n",
    " - Money_Flow_Ration = Positive_Money_Flow / Negative_Money_Flow\n",
    "```\n",
    "\n",
    "``` \n",
    " - Money_Flow_Index =  100 - (100 / 1 + Money_Flow_Ration)\n",
    "```"
   ]
  },
  {
   "cell_type": "code",
   "execution_count": 48,
   "metadata": {},
   "outputs": [
    {
     "data": {
      "text/plain": [
       "-1.1490868110834782"
      ]
     },
     "execution_count": 48,
     "metadata": {},
     "output_type": "execute_result"
    }
   ],
   "source": [
    "Money_Flow_Ration = Positive_Sum / Negative_Sum\n",
    "\n",
    "Money_Flow_Index = 100 - (100 / 1 + Money_Flow_Ration)\n",
    "\n",
    "Money_Flow_Index"
   ]
  },
  {
   "cell_type": "code",
   "execution_count": null,
   "metadata": {},
   "outputs": [],
   "source": []
  }
 ],
 "metadata": {
  "kernelspec": {
   "display_name": "Python 3",
   "language": "python",
   "name": "python3"
  },
  "language_info": {
   "codemirror_mode": {
    "name": "ipython",
    "version": 3
   },
   "file_extension": ".py",
   "mimetype": "text/x-python",
   "name": "python",
   "nbconvert_exporter": "python",
   "pygments_lexer": "ipython3",
   "version": "3.8.0"
  }
 },
 "nbformat": 4,
 "nbformat_minor": 2
}
