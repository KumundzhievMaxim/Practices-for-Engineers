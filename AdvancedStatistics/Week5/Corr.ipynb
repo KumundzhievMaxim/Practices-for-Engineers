{
 "cells": [
  {
   "cell_type": "code",
   "execution_count": 1,
   "metadata": {},
   "outputs": [],
   "source": [
    "import numpy as np;\n",
    "import matplotlib as mp;\n",
    "import matplotlib.pyplot as plt;\n",
    "import matplotlib.patches as patches;\n",
    "import pandas as pd;\n",
    "import math;"
   ]
  },
  {
   "cell_type": "markdown",
   "metadata": {
    "collapsed": true
   },
   "source": [
    "## Covariance and correlation"
   ]
  },
  {
   "cell_type": "markdown",
   "metadata": {},
   "source": [
    "Let us calculate the covariance and correlation for real data using Pandas. First we specify the data file name and have a \"peek\" at the data frame:"
   ]
  },
  {
   "cell_type": "code",
   "execution_count": 3,
   "metadata": {},
   "outputs": [
    {
     "data": {
      "text/html": [
       "<div>\n",
       "<style scoped>\n",
       "    .dataframe tbody tr th:only-of-type {\n",
       "        vertical-align: middle;\n",
       "    }\n",
       "\n",
       "    .dataframe tbody tr th {\n",
       "        vertical-align: top;\n",
       "    }\n",
       "\n",
       "    .dataframe thead th {\n",
       "        text-align: right;\n",
       "    }\n",
       "</style>\n",
       "<table border=\"1\" class=\"dataframe\">\n",
       "  <thead>\n",
       "    <tr style=\"text-align: right;\">\n",
       "      <th></th>\n",
       "      <th>patient_id</th>\n",
       "      <th>cg00510787</th>\n",
       "      <th>cg03169527</th>\n",
       "      <th>cg23256971</th>\n",
       "      <th>cg08585897</th>\n",
       "    </tr>\n",
       "  </thead>\n",
       "  <tbody>\n",
       "    <tr>\n",
       "      <td>0</td>\n",
       "      <td>0</td>\n",
       "      <td>0.076000</td>\n",
       "      <td>0.031020</td>\n",
       "      <td>0.681708</td>\n",
       "      <td>0.136734</td>\n",
       "    </tr>\n",
       "    <tr>\n",
       "      <td>1</td>\n",
       "      <td>1</td>\n",
       "      <td>0.056540</td>\n",
       "      <td>0.041740</td>\n",
       "      <td>0.309939</td>\n",
       "      <td>0.833063</td>\n",
       "    </tr>\n",
       "    <tr>\n",
       "      <td>2</td>\n",
       "      <td>2</td>\n",
       "      <td>0.035931</td>\n",
       "      <td>0.027603</td>\n",
       "      <td>0.336823</td>\n",
       "      <td>0.779083</td>\n",
       "    </tr>\n",
       "    <tr>\n",
       "      <td>3</td>\n",
       "      <td>3</td>\n",
       "      <td>0.068871</td>\n",
       "      <td>0.029245</td>\n",
       "      <td>0.637028</td>\n",
       "      <td>0.220080</td>\n",
       "    </tr>\n",
       "    <tr>\n",
       "      <td>4</td>\n",
       "      <td>4</td>\n",
       "      <td>0.055457</td>\n",
       "      <td>0.031569</td>\n",
       "      <td>0.648768</td>\n",
       "      <td>0.158911</td>\n",
       "    </tr>\n",
       "    <tr>\n",
       "      <td>...</td>\n",
       "      <td>...</td>\n",
       "      <td>...</td>\n",
       "      <td>...</td>\n",
       "      <td>...</td>\n",
       "      <td>...</td>\n",
       "    </tr>\n",
       "    <tr>\n",
       "      <td>459</td>\n",
       "      <td>459</td>\n",
       "      <td>0.638267</td>\n",
       "      <td>0.725329</td>\n",
       "      <td>0.562665</td>\n",
       "      <td>0.682982</td>\n",
       "    </tr>\n",
       "    <tr>\n",
       "      <td>460</td>\n",
       "      <td>460</td>\n",
       "      <td>0.029312</td>\n",
       "      <td>0.037880</td>\n",
       "      <td>0.174917</td>\n",
       "      <td>0.820928</td>\n",
       "    </tr>\n",
       "    <tr>\n",
       "      <td>461</td>\n",
       "      <td>461</td>\n",
       "      <td>0.077343</td>\n",
       "      <td>0.030169</td>\n",
       "      <td>0.656111</td>\n",
       "      <td>0.164263</td>\n",
       "    </tr>\n",
       "    <tr>\n",
       "      <td>462</td>\n",
       "      <td>462</td>\n",
       "      <td>0.040083</td>\n",
       "      <td>0.032533</td>\n",
       "      <td>0.211228</td>\n",
       "      <td>0.763911</td>\n",
       "    </tr>\n",
       "    <tr>\n",
       "      <td>463</td>\n",
       "      <td>463</td>\n",
       "      <td>0.051413</td>\n",
       "      <td>0.037303</td>\n",
       "      <td>0.206283</td>\n",
       "      <td>0.787170</td>\n",
       "    </tr>\n",
       "  </tbody>\n",
       "</table>\n",
       "<p>464 rows × 5 columns</p>\n",
       "</div>"
      ],
      "text/plain": [
       "     patient_id  cg00510787  cg03169527  cg23256971  cg08585897\n",
       "0             0    0.076000    0.031020    0.681708    0.136734\n",
       "1             1    0.056540    0.041740    0.309939    0.833063\n",
       "2             2    0.035931    0.027603    0.336823    0.779083\n",
       "3             3    0.068871    0.029245    0.637028    0.220080\n",
       "4             4    0.055457    0.031569    0.648768    0.158911\n",
       "..          ...         ...         ...         ...         ...\n",
       "459         459    0.638267    0.725329    0.562665    0.682982\n",
       "460         460    0.029312    0.037880    0.174917    0.820928\n",
       "461         461    0.077343    0.030169    0.656111    0.164263\n",
       "462         462    0.040083    0.032533    0.211228    0.763911\n",
       "463         463    0.051413    0.037303    0.206283    0.787170\n",
       "\n",
       "[464 rows x 5 columns]"
      ]
     },
     "execution_count": 3,
     "metadata": {},
     "output_type": "execute_result"
    }
   ],
   "source": [
    "data_file = 'ASC_cg_export.tsv';\n",
    "pd.read_csv(data_file,sep = '\\t',low_memory=False)"
   ]
  },
  {
   "cell_type": "markdown",
   "metadata": {},
   "source": [
    "Now let's actually read the data into a pandas data frame."
   ]
  },
  {
   "cell_type": "code",
   "execution_count": 4,
   "metadata": {},
   "outputs": [],
   "source": [
    "data_frame = pd.read_csv(data_file,sep = '\\t',low_memory=False);"
   ]
  },
  {
   "cell_type": "markdown",
   "metadata": {},
   "source": [
    "Let's check the column names:"
   ]
  },
  {
   "cell_type": "code",
   "execution_count": 5,
   "metadata": {},
   "outputs": [
    {
     "data": {
      "text/plain": [
       "Index(['patient_id', 'cg00510787', 'cg03169527', 'cg23256971', 'cg08585897'], dtype='object')"
      ]
     },
     "execution_count": 5,
     "metadata": {},
     "output_type": "execute_result"
    }
   ],
   "source": [
    "data_frame.columns"
   ]
  },
  {
   "cell_type": "markdown",
   "metadata": {},
   "source": [
    "Before actually calculating the variance-covariance matrix, let's simply look at scatter plots, where we plot the value in a given column as a function of the value in another column."
   ]
  },
  {
   "cell_type": "code",
   "execution_count": 6,
   "metadata": {},
   "outputs": [
    {
     "data": {
      "image/png": "[encoded data removed]",
      "text/plain": [
       "<Figure size 432x288 with 1 Axes>"
      ]
     },
     "metadata": {
      "needs_background": "light"
     },
     "output_type": "display_data"
    }
   ],
   "source": [
    "plt.clf();\n",
    "plt.plot(data_frame['cg00510787'][:],data_frame['cg03169527'][:],'bo', alpha =0.4);\n",
    "plt.xlabel('cg00510787');\n",
    "plt.ylabel('cg03169527');\n",
    "plt.xlim(0,1);\n",
    "plt.ylim(0,1);\n",
    "plt.axis('square');"
   ]
  },
  {
   "cell_type": "markdown",
   "metadata": {},
   "source": [
    "Now create a grid of scatter plots as the figure indicates. Try to set the axis labels from the dataset."
   ]
  },
  {
   "cell_type": "code",
   "execution_count": 5,
   "metadata": {},
   "outputs": [
    {
     "data": {
      "image/png": "[encoded data removed]",
      "text/plain": [
       "<Figure size 432x288 with 2 Axes>"
      ]
     },
     "metadata": {
      "needs_background": "light"
     },
     "output_type": "display_data"
    },
    {
     "data": {
      "image/png": "[encoded data removed]",
      "text/plain": [
       "<Figure size 432x288 with 2 Axes>"
      ]
     },
     "metadata": {
      "needs_background": "light"
     },
     "output_type": "display_data"
    },
    {
     "data": {
      "image/png": "[encoded data removed]",
      "text/plain": [
       "<Figure size 432x288 with 2 Axes>"
      ]
     },
     "metadata": {
      "needs_background": "light"
     },
     "output_type": "display_data"
    }
   ],
   "source": [
    "Your code"
   ]
  },
  {
   "cell_type": "markdown",
   "metadata": {},
   "source": [
    "Let's now calculate the co-variance and the correlation matrices."
   ]
  },
  {
   "cell_type": "code",
   "execution_count": 6,
   "metadata": {},
   "outputs": [
    {
     "data": {
      "text/html": [
       "<div>\n",
       "<style scoped>\n",
       "    .dataframe tbody tr th:only-of-type {\n",
       "        vertical-align: middle;\n",
       "    }\n",
       "\n",
       "    .dataframe tbody tr th {\n",
       "        vertical-align: top;\n",
       "    }\n",
       "\n",
       "    .dataframe thead th {\n",
       "        text-align: right;\n",
       "    }\n",
       "</style>\n",
       "<table border=\"1\" class=\"dataframe\">\n",
       "  <thead>\n",
       "    <tr style=\"text-align: right;\">\n",
       "      <th></th>\n",
       "      <th>patient_id</th>\n",
       "      <th>cg00510787</th>\n",
       "      <th>cg03169527</th>\n",
       "      <th>cg23256971</th>\n",
       "      <th>cg08585897</th>\n",
       "    </tr>\n",
       "  </thead>\n",
       "  <tbody>\n",
       "    <tr>\n",
       "      <th>patient_id</th>\n",
       "      <td>17980.000000</td>\n",
       "      <td>0.178541</td>\n",
       "      <td>0.440353</td>\n",
       "      <td>-1.510975</td>\n",
       "      <td>3.369657</td>\n",
       "    </tr>\n",
       "    <tr>\n",
       "      <th>cg00510787</th>\n",
       "      <td>0.178541</td>\n",
       "      <td>0.028208</td>\n",
       "      <td>0.029073</td>\n",
       "      <td>0.010195</td>\n",
       "      <td>-0.005973</td>\n",
       "    </tr>\n",
       "    <tr>\n",
       "      <th>cg03169527</th>\n",
       "      <td>0.440353</td>\n",
       "      <td>0.029073</td>\n",
       "      <td>0.031262</td>\n",
       "      <td>0.007102</td>\n",
       "      <td>-0.001742</td>\n",
       "    </tr>\n",
       "    <tr>\n",
       "      <th>cg23256971</th>\n",
       "      <td>-1.510975</td>\n",
       "      <td>0.010195</td>\n",
       "      <td>0.007102</td>\n",
       "      <td>0.039455</td>\n",
       "      <td>-0.053103</td>\n",
       "    </tr>\n",
       "    <tr>\n",
       "      <th>cg08585897</th>\n",
       "      <td>3.369657</td>\n",
       "      <td>-0.005973</td>\n",
       "      <td>-0.001742</td>\n",
       "      <td>-0.053103</td>\n",
       "      <td>0.083898</td>\n",
       "    </tr>\n",
       "  </tbody>\n",
       "</table>\n",
       "</div>"
      ],
      "text/plain": [
       "              patient_id  cg00510787  cg03169527  cg23256971  cg08585897\n",
       "patient_id  17980.000000    0.178541    0.440353   -1.510975    3.369657\n",
       "cg00510787      0.178541    0.028208    0.029073    0.010195   -0.005973\n",
       "cg03169527      0.440353    0.029073    0.031262    0.007102   -0.001742\n",
       "cg23256971     -1.510975    0.010195    0.007102    0.039455   -0.053103\n",
       "cg08585897      3.369657   -0.005973   -0.001742   -0.053103    0.083898"
      ]
     },
     "execution_count": 6,
     "metadata": {},
     "output_type": "execute_result"
    }
   ],
   "source": [
    "YOUR CODE for covariance"
   ]
  },
  {
   "cell_type": "code",
   "execution_count": 7,
   "metadata": {},
   "outputs": [
    {
     "data": {
      "text/plain": [
       "'your code for correlation: what do you expect in the diagonal?'"
      ]
     },
     "execution_count": 7,
     "metadata": {},
     "output_type": "execute_result"
    }
   ],
   "source": [
    "\"your code for correlation: what do you expect in the diagonal\""
   ]
  },
  {
   "cell_type": "markdown",
   "metadata": {
    "collapsed": true
   },
   "source": [
    "Of course, covariance can be calculated also in numpy. To test this, let us first generate a multinomial data set. First we define the parameters of multinomial distribution, $N$ and a couple of $p_i$, where $\\sum_i p_i=1$."
   ]
  },
  {
   "cell_type": "code",
   "execution_count": 8,
   "metadata": {},
   "outputs": [],
   "source": [
    "N_mn = YOUR_CODE\n",
    "p_mn = YOUR_CODE # set a list of likelihoods, eg. 4 probabilities\n",
    "print(sum(p_mn))"
   ]
  },
  {
   "cell_type": "code",
   "execution_count": 9,
   "metadata": {},
   "outputs": [],
   "source": [
    "multinom_data = YOUR_CODE_FOR_LIST_OF_RANDOM_MULTINOMIAL_DATA, use the built in routines from numpy\n",
    "#print(multinom_data);"
   ]
  },
  {
   "cell_type": "code",
   "execution_count": 12,
   "metadata": {},
   "outputs": [
    {
     "data": {
      "text/plain": [
       "array([[ 1.56666667, -1.75555556, -0.51111111,  0.7       ],\n",
       "       [-1.75555556,  5.37777778, -2.46666667, -1.15555556],\n",
       "       [-0.51111111, -2.46666667,  4.17777778, -1.2       ],\n",
       "       [ 0.7       , -1.15555556, -1.2       ,  1.65555556]])"
      ]
     },
     "execution_count": 12,
     "metadata": {},
     "output_type": "execute_result"
    }
   ],
   "source": [
    "multinom_cov_matr = np.cov(np.transpose(multinom_data));\n",
    "multinom_cov_matr"
   ]
  },
  {
   "cell_type": "markdown",
   "metadata": {},
   "source": [
    "As a comparison, let's also calculate the theoretical variance-covariance matrix."
   ]
  },
  {
   "cell_type": "code",
   "execution_count": 11,
   "metadata": {},
   "outputs": [
    {
     "name": "stdout",
     "output_type": "stream",
     "text": [
      "[1.8, -0.4, -0.6, -0.8]\n",
      "[-0.4, 3.2, -1.2, -1.6]\n",
      "[-0.6000000000000001, -1.2000000000000002, 4.199999999999999, -2.4000000000000004]\n",
      "[-0.8, -1.6, -2.4, 4.8]\n"
     ]
    }
   ],
   "source": [
    "theor_cov_matr = [[list_of_lists]] # lookup the formulae in wikipedia\n",
    "for line in theor_cov_matr:\n",
    "    print(line);"
   ]
  },
  {
   "cell_type": "markdown",
   "metadata": {
    "collapsed": true
   },
   "source": [
    "# Inequalities"
   ]
  },
  {
   "cell_type": "markdown",
   "metadata": {},
   "source": [
    "Let us assume IID Bernoulli random variables such as coin flips, where we do not know the parameter $p$, and only have access to the generated sample.\n",
    "\n",
    "Our best guess (estimate) for $p$ based on the observed data is given by\n",
    "\\begin{equation}\n",
    "\\widehat{p}=\\overline{X_n}=\\frac{1}{n}\\sum_{i=1}^n x_i.\\nonumber\n",
    "\\end{equation}\n",
    "\n",
    "\n",
    "Hoeffding's inequality states that as $n$ is increased, this estimate is getting exponentialy close to the true value of $p$, since\n",
    "\\begin{equation}\n",
    "P\\left(\\left| \\overline{X_n}- p\\right| \\geq \\epsilon\\right)\\leq\\alpha= 2 e^{-2n\\epsilon^2}.\\nonumber\n",
    "\\end{equation}\n",
    "\n",
    "Based on that we can construct an interval (called confidence interval) around the estimate $\\widehat{p}=\\overline{X_n}$ for which we can write down a guaranteed lower bound on the probability that the true $p$ falls within the interval. \n",
    "\n",
    "Let us choose the guaranteed lower bound as $1-\\alpha$, where $\\alpha$ is a parameter. For a fixed $\\alpha$, the interval can be given as $[\\overline{X_n}-\\epsilon,\\overline{X_n}+\\epsilon]$ where  \n",
    "\\begin{equation}\n",
    "\\epsilon = \\sqrt{ \\ln( 2/\\alpha)/(2n)}, \n",
    "\\end{equation}\n",
    "and in such a setting find the formula for the probability, that the interval covers the $p$ value.\n",
    "\\begin{equation}\n",
    "P([X_n-\\epsilon,X_n+\\epsilon]) \\ge 1-\\alpha\n",
    "\\end{equation}\n",
    "\n",
    "\n"
   ]
  },
  {
   "cell_type": "markdown",
   "metadata": {},
   "source": [
    "Let us test this by actually generating Bernoulli random variables and measuring the **coverage** of the above interval, where coverage is the ratio of experiments where the true $p$ did fall into the interval."
   ]
  },
  {
   "cell_type": "markdown",
   "metadata": {},
   "source": [
    "First, we define the parameters."
   ]
  },
  {
   "cell_type": "code",
   "execution_count": 2,
   "metadata": {},
   "outputs": [],
   "source": [
    "p_true = 0.4;       # the p parameter of the Bernoulli distribution\n",
    "num_flips = 50;   # the number of data points in one experiment\n",
    "num_series = 1000;   # the number of experiments.\n",
    "alpha = 0.05;"
   ]
  },
  {
   "cell_type": "markdown",
   "metadata": {},
   "source": [
    "Let's just try out generating a small sample."
   ]
  },
  {
   "cell_type": "code",
   "execution_count": 4,
   "metadata": {},
   "outputs": [
    {
     "name": "stdout",
     "output_type": "stream",
     "text": [
      "[0 1 0 1 0 1 1 1 0 0 0 0 0 0 0 0 0 1 0 0 1 1 0 0 0 1 1 1 0 0 0 0 1 0 1 0 0\n",
      " 0 0 0 0 1 0 0 0 1 0 1 1 0]\n"
     ]
    }
   ],
   "source": [
    "Bernoulli_samp = np.random.choice([0,1], p=[1-p_true,p_true], size=num_flips  ) # use numpy!\n",
    "print(Bernoulli_samp);"
   ]
  },
  {
   "cell_type": "markdown",
   "metadata": {},
   "source": [
    "OK, it seems working, let's now generate the longer samples."
   ]
  },
  {
   "cell_type": "code",
   "execution_count": 6,
   "metadata": {},
   "outputs": [],
   "source": [
    "B_series = [list(np.random.choice([0,1], p=[1-p_true,p_true], size=num_flips  )) for i in range(0,num_series)];"
   ]
  },
  {
   "cell_type": "markdown",
   "metadata": {},
   "source": [
    "And finally let's see how does the coverage depend on the number of flips. \n",
    "\\begin{equation}\n",
    "P\\left(\\left| \\overline{X_n}- p\\right| \\lt \\epsilon\\right)\\leq 1-\\alpha= 1-2 e^{-2n\\epsilon^2}.\\nonumber\n",
    "\\end{equation}"
   ]
  },
  {
   "cell_type": "code",
   "execution_count": 8,
   "metadata": {},
   "outputs": [],
   "source": [
    "cover_list,epsilon_list = [],[];\n",
    "cover_list.clear();\n",
    "epsilon_list.clear();\n",
    "for n in range(1,num_flips):\n",
    "    epsilon = math.sqrt(math.log(2.0/alpha)*0.5/n)\n",
    "    epsilon_list.append(epsilon);\n",
    "    cover_indicator = [ 1 if(np.abs(p_true-np.mean(b_s[0:n]))<epsilon) else 0 for b_s in B_series];\n",
    "    coverage = sum(cover_indicator)/num_series\n",
    "    cover_list.append(coverage);    \n",
    "    #print('n=',n,'coverage=',coverage);    "
   ]
  },
  {
   "cell_type": "code",
   "execution_count": 9,
   "metadata": {},
   "outputs": [
    {
     "data": {
      "image/png": "[encoded data removed]",
      "text/plain": [
       "<Figure size 432x288 with 1 Axes>"
      ]
     },
     "metadata": {
      "needs_background": "light"
     },
     "output_type": "display_data"
    }
   ],
   "source": [
    "plt.clf();\n",
    "x_list = range(1,len(cover_list)+1);\n",
    "plt.plot(x_list,cover_list);\n",
    "plt.ylim(0.99,1.01);\n",
    "plt.xlabel('num. flips');\n",
    "plt.ylabel('coverage in '+str(num_series)+' series');\n",
    "plt.show();"
   ]
  },
  {
   "cell_type": "code",
   "execution_count": 19,
   "metadata": {},
   "outputs": [
    {
     "data": {
      "text/plain": [
       "11"
      ]
     },
     "execution_count": 19,
     "metadata": {},
     "output_type": "execute_result"
    }
   ],
   "source": [
    "sum([ list(b_s)  for b_s in B_series if(np.abs(p_true-np.mean(b_s[0:n]))>epsilon)][0])"
   ]
  },
  {
   "cell_type": "code",
   "execution_count": 20,
   "metadata": {},
   "outputs": [
    {
     "data": {
      "text/plain": [
       "20.0"
      ]
     },
     "execution_count": 20,
     "metadata": {},
     "output_type": "execute_result"
    }
   ],
   "source": [
    "50*.4"
   ]
  },
  {
   "cell_type": "code",
   "execution_count": null,
   "metadata": {},
   "outputs": [],
   "source": []
  }
 ],
 "metadata": {
  "hide_input": false,
  "kernelspec": {
   "display_name": "Python 3",
   "language": "python",
   "name": "python3"
  },
  "language_info": {
   "codemirror_mode": {
    "name": "ipython",
    "version": 3
   },
   "file_extension": ".py",
   "mimetype": "text/x-python",
   "name": "python",
   "nbconvert_exporter": "python",
   "pygments_lexer": "ipython3",
   "version": "3.6.8"
  },
  "latex_envs": {
   "LaTeX_envs_menu_present": true,
   "autoclose": false,
   "autocomplete": true,
   "bibliofile": "biblio.bib",
   "cite_by": "apalike",
   "current_citInitial": 1,
   "eqLabelWithNumbers": true,
   "eqNumInitial": 1,
   "hotkeys": {
    "equation": "Ctrl-E",
    "itemize": "Ctrl-I"
   },
   "labels_anchors": false,
   "latex_user_defs": false,
   "report_style_numbering": false,
   "user_envs_cfg": false
  }
 },
 "nbformat": 4,
 "nbformat_minor": 2
}
